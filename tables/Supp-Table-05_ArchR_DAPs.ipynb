{
 "cells": [
  {
   "cell_type": "code",
   "execution_count": 1,
   "id": "b78037b1-ccb6-43f4-bcaa-fdd461278188",
   "metadata": {
    "tags": []
   },
   "outputs": [],
   "source": [
    "quiet_library <- function(...) { suppressPackageStartupMessages(library(...)) }\n",
    "quiet_library(hise)\n",
    "quiet_library(dplyr)\n",
    "quiet_library(purrr)"
   ]
  },
  {
   "cell_type": "markdown",
   "id": "c8e1ee25-bc80-477f-a37e-cc98ae5efeb6",
   "metadata": {
    "tags": []
   },
   "source": [
    "## Read GSEA results stored in HISE"
   ]
  },
  {
   "cell_type": "code",
   "execution_count": 2,
   "id": "ece50762-d12a-4f9e-80fb-f64a8f86d656",
   "metadata": {
    "tags": []
   },
   "outputs": [],
   "source": [
    "dap_uuid <- list(\"a8973524-cc71-40d5-8edf-3d6a9e0a77d4\")"
   ]
  },
  {
   "cell_type": "code",
   "execution_count": 3,
   "id": "e8a98205-b01b-44f1-a2b2-e554b5335257",
   "metadata": {
    "tags": []
   },
   "outputs": [
    {
     "name": "stderr",
     "output_type": "stream",
     "text": [
      "submitting request as query ID first...\n",
      "\n",
      "retrieving files using fileIDS...\n",
      "\n"
     ]
    }
   ],
   "source": [
    "dap_fres <- cacheFiles(dap_uuid)\n",
    "dap_file <- list.files(\n",
    "    paste0(\"cache/\",dap_uuid),\n",
    "    recursive = TRUE, full.names = TRUE\n",
    ")"
   ]
  },
  {
   "cell_type": "code",
   "execution_count": 4,
   "id": "78e5e1f2-e23e-4025-9d23-29960c73953b",
   "metadata": {
    "tags": []
   },
   "outputs": [],
   "source": [
    "all_dap <- read.csv(dap_file)"
   ]
  },
  {
   "cell_type": "markdown",
   "id": "badbba15-33a5-4093-96ac-0a1fa31e8043",
   "metadata": {},
   "source": [
    "## Format for output"
   ]
  },
  {
   "cell_type": "code",
   "execution_count": 5,
   "id": "485910ed-75e2-4707-957b-26bea2dedd66",
   "metadata": {
    "tags": []
   },
   "outputs": [
    {
     "data": {
      "text/html": [
       "<style>\n",
       ".list-inline {list-style: none; margin:0; padding: 0}\n",
       ".list-inline>li {display: inline-block}\n",
       ".list-inline>li:not(:last-child)::after {content: \"\\00b7\"; padding: 0 .5ex}\n",
       "</style>\n",
       "<ol class=list-inline><li>'aifi_cell_type'</li><li>'fg'</li><li>'bg'</li><li>'seqnames'</li><li>'start'</li><li>'end'</li><li>'logFC'</li><li>'adjP'</li><li>'MeanDiff'</li><li>'idx'</li></ol>\n"
      ],
      "text/latex": [
       "\\begin{enumerate*}\n",
       "\\item 'aifi\\_cell\\_type'\n",
       "\\item 'fg'\n",
       "\\item 'bg'\n",
       "\\item 'seqnames'\n",
       "\\item 'start'\n",
       "\\item 'end'\n",
       "\\item 'logFC'\n",
       "\\item 'adjP'\n",
       "\\item 'MeanDiff'\n",
       "\\item 'idx'\n",
       "\\end{enumerate*}\n"
      ],
      "text/markdown": [
       "1. 'aifi_cell_type'\n",
       "2. 'fg'\n",
       "3. 'bg'\n",
       "4. 'seqnames'\n",
       "5. 'start'\n",
       "6. 'end'\n",
       "7. 'logFC'\n",
       "8. 'adjP'\n",
       "9. 'MeanDiff'\n",
       "10. 'idx'\n",
       "\n",
       "\n"
      ],
      "text/plain": [
       " [1] \"aifi_cell_type\" \"fg\"             \"bg\"             \"seqnames\"      \n",
       " [5] \"start\"          \"end\"            \"logFC\"          \"adjP\"          \n",
       " [9] \"MeanDiff\"       \"idx\"           "
      ]
     },
     "metadata": {},
     "output_type": "display_data"
    }
   ],
   "source": [
    "names(all_dap)"
   ]
  },
  {
   "cell_type": "code",
   "execution_count": 6,
   "id": "c05cc0f6-2052-4a4b-8c53-b075a5e2a97b",
   "metadata": {
    "tags": []
   },
   "outputs": [],
   "source": [
    "all_dap <- all_dap %>%\n",
    "  mutate(timepoint = sub(\".+_\",\"\",fg),\n",
    "         fg = sub(\"_.+\",\"\",fg),\n",
    "         bg = sub(\"_.+\",\"\",bg)) %>%\n",
    "  rename(chr = seqnames) %>%\n",
    "  select(-idx)"
   ]
  },
  {
   "cell_type": "code",
   "execution_count": 7,
   "id": "6cb98cf5-6cdf-4175-a748-66c5d920e32c",
   "metadata": {
    "tags": []
   },
   "outputs": [
    {
     "data": {
      "text/html": [
       "3281208"
      ],
      "text/latex": [
       "3281208"
      ],
      "text/markdown": [
       "3281208"
      ],
      "text/plain": [
       "[1] 3281208"
      ]
     },
     "metadata": {},
     "output_type": "display_data"
    }
   ],
   "source": [
    "nrow(all_dap)"
   ]
  },
  {
   "cell_type": "markdown",
   "id": "7f2e13a1-0aea-40d4-b199-711e3791dac5",
   "metadata": {},
   "source": [
    "Filter peaks with high FDR to reduce file sizes"
   ]
  },
  {
   "cell_type": "code",
   "execution_count": 8,
   "id": "be0c281d-c139-44a8-ad28-66d2a9d8192d",
   "metadata": {
    "tags": []
   },
   "outputs": [
    {
     "data": {
      "text/html": [
       "117459"
      ],
      "text/latex": [
       "117459"
      ],
      "text/markdown": [
       "117459"
      ],
      "text/plain": [
       "[1] 117459"
      ]
     },
     "metadata": {},
     "output_type": "display_data"
    }
   ],
   "source": [
    "fdr_cutoff <- 0.2\n",
    "\n",
    "out_dap <- all_dap %>%\n",
    "  filter(adjP < fdr_cutoff)\n",
    "\n",
    "nrow(out_dap)"
   ]
  },
  {
   "cell_type": "code",
   "execution_count": 9,
   "id": "5c56958f-e969-4724-9c85-74aaf412dbb3",
   "metadata": {
    "tags": []
   },
   "outputs": [],
   "source": [
    "out_dir <- \"output\"\n",
    "if(!dir.exists(\"output\")) { dir.create(\"output\") }"
   ]
  },
  {
   "cell_type": "code",
   "execution_count": 10,
   "id": "f5ed5088-97d2-40bd-b52c-91fc54140fcb",
   "metadata": {
    "tags": []
   },
   "outputs": [],
   "source": [
    "out_file <- paste0(\"Supp-Table-05_ArchR_DAPs_\", Sys.Date(), \".csv\")\n",
    "write.csv(\n",
    "    out_dap,\n",
    "    file.path(out_dir, out_file),\n",
    "    row.names = FALSE,\n",
    "    quote = FALSE\n",
    ")"
   ]
  },
  {
   "cell_type": "code",
   "execution_count": 11,
   "id": "7c8d18e6-0228-4572-a4c1-e770d4d70922",
   "metadata": {
    "tags": []
   },
   "outputs": [],
   "source": [
    "system(paste('gzip', file.path(out_dir, out_file)))"
   ]
  },
  {
   "cell_type": "code",
   "execution_count": 12,
   "id": "6f5a88a5-68a0-47db-a1a8-2d9c86ea9fb1",
   "metadata": {
    "tags": []
   },
   "outputs": [
    {
     "data": {
      "text/plain": [
       "R version 4.3.1 (2023-06-16)\n",
       "Platform: x86_64-conda-linux-gnu (64-bit)\n",
       "Running under: Ubuntu 20.04.6 LTS\n",
       "\n",
       "Matrix products: default\n",
       "BLAS/LAPACK: /opt/conda/lib/libopenblasp-r0.3.24.so;  LAPACK version 3.11.0\n",
       "\n",
       "locale:\n",
       " [1] LC_CTYPE=C.UTF-8       LC_NUMERIC=C           LC_TIME=C.UTF-8       \n",
       " [4] LC_COLLATE=C.UTF-8     LC_MONETARY=C.UTF-8    LC_MESSAGES=C.UTF-8   \n",
       " [7] LC_PAPER=C.UTF-8       LC_NAME=C              LC_ADDRESS=C          \n",
       "[10] LC_TELEPHONE=C         LC_MEASUREMENT=C.UTF-8 LC_IDENTIFICATION=C   \n",
       "\n",
       "time zone: Etc/UTC\n",
       "tzcode source: system (glibc)\n",
       "\n",
       "attached base packages:\n",
       "[1] stats     graphics  grDevices utils     datasets  methods   base     \n",
       "\n",
       "other attached packages:\n",
       "[1] purrr_1.0.2 dplyr_1.1.3 hise_2.16.0\n",
       "\n",
       "loaded via a namespace (and not attached):\n",
       " [1] crayon_1.5.2     vctrs_0.6.3      httr_1.4.7       cli_3.6.1       \n",
       " [5] rlang_1.1.1      generics_0.1.3   assertthat_0.2.1 jsonlite_1.8.7  \n",
       " [9] glue_1.6.2       RCurl_1.98-1.12  htmltools_0.5.6  IRdisplay_1.1   \n",
       "[13] IRkernel_1.3.2   fansi_1.0.4      evaluate_0.21    tibble_3.2.1    \n",
       "[17] bitops_1.0-7     fastmap_1.1.1    base64enc_0.1-3  lifecycle_1.0.3 \n",
       "[21] compiler_4.3.1   pkgconfig_2.0.3  pbdZMQ_0.3-10    digest_0.6.33   \n",
       "[25] R6_2.5.1         repr_1.1.6.9000  tidyselect_1.2.0 utf8_1.2.3      \n",
       "[29] curl_5.0.2       pillar_1.9.0     magrittr_2.0.3   withr_2.5.1     \n",
       "[33] uuid_1.1-1       tools_4.3.1     "
      ]
     },
     "metadata": {},
     "output_type": "display_data"
    }
   ],
   "source": [
    "sessionInfo()"
   ]
  },
  {
   "cell_type": "code",
   "execution_count": null,
   "id": "2027ff1a-bb5f-4f10-b90d-6a4f4e5b5bd4",
   "metadata": {},
   "outputs": [],
   "source": []
  }
 ],
 "metadata": {
  "kernelspec": {
   "display_name": "R 4",
   "language": "R",
   "name": "ir4"
  },
  "language_info": {
   "codemirror_mode": "r",
   "file_extension": ".r",
   "mimetype": "text/x-r-source",
   "name": "R",
   "pygments_lexer": "r",
   "version": "4.3.1"
  }
 },
 "nbformat": 4,
 "nbformat_minor": 5
}
