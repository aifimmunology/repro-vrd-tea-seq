{
 "cells": [
  {
   "cell_type": "code",
   "execution_count": 2,
   "id": "b78037b1-ccb6-43f4-bcaa-fdd461278188",
   "metadata": {
    "tags": []
   },
   "outputs": [],
   "source": [
    "quiet_library <- function(...) { suppressPackageStartupMessages(library(...)) }\n",
    "quiet_library(hise)\n",
    "quiet_library(dplyr)\n",
    "quiet_library(purrr)"
   ]
  },
  {
   "cell_type": "markdown",
   "id": "c8e1ee25-bc80-477f-a37e-cc98ae5efeb6",
   "metadata": {
    "tags": []
   },
   "source": [
    "## Read GSEA results stored in HISE"
   ]
  },
  {
   "cell_type": "code",
   "execution_count": 3,
   "id": "7410f029-c2cd-4a33-bf1c-4392aae204ff",
   "metadata": {
    "tags": []
   },
   "outputs": [],
   "source": [
    "gsea_uuid <- list(\"574d1167-4232-4e45-ad25-c240cc2b2b4d\")"
   ]
  },
  {
   "cell_type": "code",
   "execution_count": 4,
   "id": "d5d71e6f-833a-483a-a8b1-f267ab827f5e",
   "metadata": {
    "tags": []
   },
   "outputs": [
    {
     "name": "stderr",
     "output_type": "stream",
     "text": [
      "submitting request as query ID first...\n",
      "\n",
      "retrieving files using fileIDS...\n",
      "\n"
     ]
    }
   ],
   "source": [
    "gsea_fres <- cacheFiles(gsea_uuid)\n",
    "gsea_file <- list.files(\n",
    "    paste0(\"cache/\",gsea_uuid),\n",
    "    full.names = TRUE\n",
    ")"
   ]
  },
  {
   "cell_type": "code",
   "execution_count": 15,
   "id": "78e5e1f2-e23e-4025-9d23-29960c73953b",
   "metadata": {
    "tags": []
   },
   "outputs": [],
   "source": [
    "all_gsea <- read.table(\n",
    "    gsea_file, \n",
    "    sep = \"\\t\", \n",
    "    quote = \"\",\n",
    "    header = TRUE)"
   ]
  },
  {
   "cell_type": "markdown",
   "id": "badbba15-33a5-4093-96ac-0a1fa31e8043",
   "metadata": {},
   "source": [
    "## Format for output"
   ]
  },
  {
   "cell_type": "code",
   "execution_count": 16,
   "id": "485910ed-75e2-4707-957b-26bea2dedd66",
   "metadata": {
    "tags": []
   },
   "outputs": [
    {
     "data": {
      "text/html": [
       "<style>\n",
       ".list-inline {list-style: none; margin:0; padding: 0}\n",
       ".list-inline>li {display: inline-block}\n",
       ".list-inline>li:not(:last-child)::after {content: \"\\00b7\"; padding: 0 .5ex}\n",
       "</style>\n",
       "<ol class=list-inline><li>'fg'</li><li>'bg'</li><li>'timepoint'</li><li>'aifi_cell_type'</li><li>'id'</li><li>'pathway'</li><li>'NES'</li><li>'nomP'</li><li>'adjP'</li><li>'n_leadingEdge'</li><li>'n_pathway_genes'</li><li>'leadingEdge'</li><li>'pathway_genes'</li></ol>\n"
      ],
      "text/latex": [
       "\\begin{enumerate*}\n",
       "\\item 'fg'\n",
       "\\item 'bg'\n",
       "\\item 'timepoint'\n",
       "\\item 'aifi\\_cell\\_type'\n",
       "\\item 'id'\n",
       "\\item 'pathway'\n",
       "\\item 'NES'\n",
       "\\item 'nomP'\n",
       "\\item 'adjP'\n",
       "\\item 'n\\_leadingEdge'\n",
       "\\item 'n\\_pathway\\_genes'\n",
       "\\item 'leadingEdge'\n",
       "\\item 'pathway\\_genes'\n",
       "\\end{enumerate*}\n"
      ],
      "text/markdown": [
       "1. 'fg'\n",
       "2. 'bg'\n",
       "3. 'timepoint'\n",
       "4. 'aifi_cell_type'\n",
       "5. 'id'\n",
       "6. 'pathway'\n",
       "7. 'NES'\n",
       "8. 'nomP'\n",
       "9. 'adjP'\n",
       "10. 'n_leadingEdge'\n",
       "11. 'n_pathway_genes'\n",
       "12. 'leadingEdge'\n",
       "13. 'pathway_genes'\n",
       "\n",
       "\n"
      ],
      "text/plain": [
       " [1] \"fg\"              \"bg\"              \"timepoint\"       \"aifi_cell_type\" \n",
       " [5] \"id\"              \"pathway\"         \"NES\"             \"nomP\"           \n",
       " [9] \"adjP\"            \"n_leadingEdge\"   \"n_pathway_genes\" \"leadingEdge\"    \n",
       "[13] \"pathway_genes\"  "
      ]
     },
     "metadata": {},
     "output_type": "display_data"
    }
   ],
   "source": [
    "names(all_gsea)"
   ]
  },
  {
   "cell_type": "code",
   "execution_count": 17,
   "id": "c05cc0f6-2052-4a4b-8c53-b075a5e2a97b",
   "metadata": {
    "tags": []
   },
   "outputs": [],
   "source": [
    "all_gsea <- all_gsea %>%\n",
    "  rename(pathway_label = pathway,\n",
    "         pathway = id) %>%\n",
    "  mutate(pathway_label = gsub(\"'\",\"\",pathway_label)) %>%\n",
    "  select(-pathway_genes) %>%\n",
    "  select(aifi_cell_type, timepoint, fg, bg,\n",
    "         pathway, pathway_label, n_pathway_genes,\n",
    "         NES, nomP, adjP,\n",
    "         n_leadingEdge, leadingEdge)"
   ]
  },
  {
   "cell_type": "code",
   "execution_count": 18,
   "id": "5c56958f-e969-4724-9c85-74aaf412dbb3",
   "metadata": {
    "tags": []
   },
   "outputs": [],
   "source": [
    "out_dir <- \"output\"\n",
    "if(!dir.exists(\"output\")) { dir.create(\"output\") }"
   ]
  },
  {
   "cell_type": "code",
   "execution_count": 19,
   "id": "f5ed5088-97d2-40bd-b52c-91fc54140fcb",
   "metadata": {
    "tags": []
   },
   "outputs": [],
   "source": [
    "out_file <- paste0(\"Supp-Table-07_Reactome_GSEA_\", Sys.Date(), \".tsv\")\n",
    "write.table(\n",
    "    all_gsea,\n",
    "    file.path(out_dir, out_file),\n",
    "    row.names = FALSE,\n",
    "    quote = FALSE,\n",
    "    sep = \"\\t\"\n",
    ")"
   ]
  },
  {
   "cell_type": "code",
   "execution_count": 20,
   "id": "7c8d18e6-0228-4572-a4c1-e770d4d70922",
   "metadata": {
    "tags": []
   },
   "outputs": [],
   "source": [
    "system(paste('gzip', file.path(out_dir, out_file)))"
   ]
  },
  {
   "cell_type": "code",
   "execution_count": 21,
   "id": "6f5a88a5-68a0-47db-a1a8-2d9c86ea9fb1",
   "metadata": {
    "tags": []
   },
   "outputs": [
    {
     "data": {
      "text/plain": [
       "R version 4.3.1 (2023-06-16)\n",
       "Platform: x86_64-conda-linux-gnu (64-bit)\n",
       "Running under: Ubuntu 20.04.6 LTS\n",
       "\n",
       "Matrix products: default\n",
       "BLAS/LAPACK: /opt/conda/lib/libopenblasp-r0.3.24.so;  LAPACK version 3.11.0\n",
       "\n",
       "locale:\n",
       " [1] LC_CTYPE=C.UTF-8       LC_NUMERIC=C           LC_TIME=C.UTF-8       \n",
       " [4] LC_COLLATE=C.UTF-8     LC_MONETARY=C.UTF-8    LC_MESSAGES=C.UTF-8   \n",
       " [7] LC_PAPER=C.UTF-8       LC_NAME=C              LC_ADDRESS=C          \n",
       "[10] LC_TELEPHONE=C         LC_MEASUREMENT=C.UTF-8 LC_IDENTIFICATION=C   \n",
       "\n",
       "time zone: Etc/UTC\n",
       "tzcode source: system (glibc)\n",
       "\n",
       "attached base packages:\n",
       "[1] stats     graphics  grDevices utils     datasets  methods   base     \n",
       "\n",
       "other attached packages:\n",
       "[1] purrr_1.0.2 dplyr_1.1.3 hise_2.16.0\n",
       "\n",
       "loaded via a namespace (and not attached):\n",
       " [1] crayon_1.5.2     vctrs_0.6.3      httr_1.4.7       cli_3.6.1       \n",
       " [5] rlang_1.1.1      generics_0.1.3   assertthat_0.2.1 jsonlite_1.8.7  \n",
       " [9] glue_1.6.2       RCurl_1.98-1.12  htmltools_0.5.6  IRdisplay_1.1   \n",
       "[13] IRkernel_1.3.2   fansi_1.0.4      evaluate_0.21    tibble_3.2.1    \n",
       "[17] bitops_1.0-7     fastmap_1.1.1    base64enc_0.1-3  lifecycle_1.0.3 \n",
       "[21] compiler_4.3.1   pkgconfig_2.0.3  pbdZMQ_0.3-10    digest_0.6.33   \n",
       "[25] R6_2.5.1         repr_1.1.6.9000  tidyselect_1.2.0 utf8_1.2.3      \n",
       "[29] curl_5.0.2       pillar_1.9.0     magrittr_2.0.3   withr_2.5.1     \n",
       "[33] uuid_1.1-1       tools_4.3.1     "
      ]
     },
     "metadata": {},
     "output_type": "display_data"
    }
   ],
   "source": [
    "sessionInfo()"
   ]
  },
  {
   "cell_type": "code",
   "execution_count": null,
   "id": "2027ff1a-bb5f-4f10-b90d-6a4f4e5b5bd4",
   "metadata": {},
   "outputs": [],
   "source": []
  }
 ],
 "metadata": {
  "kernelspec": {
   "display_name": "R 4",
   "language": "R",
   "name": "ir4"
  },
  "language_info": {
   "codemirror_mode": "r",
   "file_extension": ".r",
   "mimetype": "text/x-r-source",
   "name": "R",
   "pygments_lexer": "r",
   "version": "4.3.1"
  }
 },
 "nbformat": 4,
 "nbformat_minor": 5
}
