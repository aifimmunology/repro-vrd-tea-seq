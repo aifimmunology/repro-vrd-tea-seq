{
 "cells": [
  {
   "cell_type": "code",
   "execution_count": 1,
   "id": "b78037b1-ccb6-43f4-bcaa-fdd461278188",
   "metadata": {
    "tags": []
   },
   "outputs": [],
   "source": [
    "quiet_library <- function(...) { suppressPackageStartupMessages(library(...)) }\n",
    "quiet_library(hise)\n",
    "quiet_library(dplyr)\n",
    "quiet_library(purrr)"
   ]
  },
  {
   "cell_type": "markdown",
   "id": "c8e1ee25-bc80-477f-a37e-cc98ae5efeb6",
   "metadata": {
    "tags": []
   },
   "source": [
    "## Read DDE results stored in HISE"
   ]
  },
  {
   "cell_type": "code",
   "execution_count": 2,
   "id": "12b65665-9795-4395-bc3d-694319c70bbd",
   "metadata": {
    "tags": []
   },
   "outputs": [],
   "source": [
    "dde_uuid <- list(\"4cbaa9ab-f8ef-495d-ac5e-1f1d99d33e33\")"
   ]
  },
  {
   "cell_type": "code",
   "execution_count": 3,
   "id": "8f9cdd3e-5c04-4d66-b26b-3ee42dd04243",
   "metadata": {
    "tags": []
   },
   "outputs": [
    {
     "name": "stderr",
     "output_type": "stream",
     "text": [
      "submitting request as query ID first...\n",
      "\n",
      "retrieving files using fileIDS...\n",
      "\n"
     ]
    }
   ],
   "source": [
    "dde_fres <- cacheFiles(dde_uuid)\n",
    "dde_file <- list.files(\n",
    "    paste0(\"cache/\",dde_uuid),\n",
    "    recursive = TRUE, full.names = TRUE\n",
    ")"
   ]
  },
  {
   "cell_type": "code",
   "execution_count": 4,
   "id": "78e5e1f2-e23e-4025-9d23-29960c73953b",
   "metadata": {
    "tags": []
   },
   "outputs": [],
   "source": [
    "all_dde <- read.csv(dde_file)"
   ]
  },
  {
   "cell_type": "markdown",
   "id": "badbba15-33a5-4093-96ac-0a1fa31e8043",
   "metadata": {},
   "source": [
    "## Format for output"
   ]
  },
  {
   "cell_type": "code",
   "execution_count": 5,
   "id": "485910ed-75e2-4707-957b-26bea2dedd66",
   "metadata": {
    "tags": []
   },
   "outputs": [
    {
     "data": {
      "text/html": [
       "<style>\n",
       ".list-inline {list-style: none; margin:0; padding: 0}\n",
       ".list-inline>li {display: inline-block}\n",
       ".list-inline>li:not(:last-child)::after {content: \"\\00b7\"; padding: 0 .5ex}\n",
       "</style>\n",
       "<ol class=list-inline><li>'aifi_cell_type'</li><li>'timepoint'</li><li>'fg'</li><li>'bg'</li><li>'n_downsample'</li><li>'feature'</li><li>'estimate'</li><li>'std_error'</li><li>'t_value'</li><li>'nomP'</li><li>'fg_mean'</li><li>'bg_mean'</li><li>'fc'</li><li>'adjP'</li><li>'logFC'</li></ol>\n"
      ],
      "text/latex": [
       "\\begin{enumerate*}\n",
       "\\item 'aifi\\_cell\\_type'\n",
       "\\item 'timepoint'\n",
       "\\item 'fg'\n",
       "\\item 'bg'\n",
       "\\item 'n\\_downsample'\n",
       "\\item 'feature'\n",
       "\\item 'estimate'\n",
       "\\item 'std\\_error'\n",
       "\\item 't\\_value'\n",
       "\\item 'nomP'\n",
       "\\item 'fg\\_mean'\n",
       "\\item 'bg\\_mean'\n",
       "\\item 'fc'\n",
       "\\item 'adjP'\n",
       "\\item 'logFC'\n",
       "\\end{enumerate*}\n"
      ],
      "text/markdown": [
       "1. 'aifi_cell_type'\n",
       "2. 'timepoint'\n",
       "3. 'fg'\n",
       "4. 'bg'\n",
       "5. 'n_downsample'\n",
       "6. 'feature'\n",
       "7. 'estimate'\n",
       "8. 'std_error'\n",
       "9. 't_value'\n",
       "10. 'nomP'\n",
       "11. 'fg_mean'\n",
       "12. 'bg_mean'\n",
       "13. 'fc'\n",
       "14. 'adjP'\n",
       "15. 'logFC'\n",
       "\n",
       "\n"
      ],
      "text/plain": [
       " [1] \"aifi_cell_type\" \"timepoint\"      \"fg\"             \"bg\"            \n",
       " [5] \"n_downsample\"   \"feature\"        \"estimate\"       \"std_error\"     \n",
       " [9] \"t_value\"        \"nomP\"           \"fg_mean\"        \"bg_mean\"       \n",
       "[13] \"fc\"             \"adjP\"           \"logFC\"         "
      ]
     },
     "metadata": {},
     "output_type": "display_data"
    }
   ],
   "source": [
    "names(all_dde)"
   ]
  },
  {
   "cell_type": "code",
   "execution_count": 6,
   "id": "c05cc0f6-2052-4a4b-8c53-b075a5e2a97b",
   "metadata": {
    "tags": []
   },
   "outputs": [],
   "source": [
    "all_dde <- all_dde %>%\n",
    "  rename(n_sample = n_downsample) %>%\n",
    "  select(-logFC)"
   ]
  },
  {
   "cell_type": "code",
   "execution_count": 7,
   "id": "5c56958f-e969-4724-9c85-74aaf412dbb3",
   "metadata": {
    "tags": []
   },
   "outputs": [],
   "source": [
    "out_dir <- \"output\"\n",
    "if(!dir.exists(\"output\")) { dir.create(\"output\") }"
   ]
  },
  {
   "cell_type": "code",
   "execution_count": 9,
   "id": "f5ed5088-97d2-40bd-b52c-91fc54140fcb",
   "metadata": {
    "tags": []
   },
   "outputs": [],
   "source": [
    "out_file <- paste0(\"Supp-Table-04_lm_DDEs_\", Sys.Date(), \".csv\")\n",
    "write.csv(\n",
    "    all_dde,\n",
    "    file.path(out_dir, out_file),\n",
    "    row.names = FALSE,\n",
    "    quote = FALSE\n",
    ")"
   ]
  },
  {
   "cell_type": "code",
   "execution_count": 10,
   "id": "7c8d18e6-0228-4572-a4c1-e770d4d70922",
   "metadata": {
    "tags": []
   },
   "outputs": [],
   "source": [
    "system(paste('gzip', file.path(out_dir, out_file)))"
   ]
  },
  {
   "cell_type": "code",
   "execution_count": 11,
   "id": "6f5a88a5-68a0-47db-a1a8-2d9c86ea9fb1",
   "metadata": {
    "tags": []
   },
   "outputs": [
    {
     "data": {
      "text/plain": [
       "R version 4.3.1 (2023-06-16)\n",
       "Platform: x86_64-conda-linux-gnu (64-bit)\n",
       "Running under: Ubuntu 20.04.6 LTS\n",
       "\n",
       "Matrix products: default\n",
       "BLAS/LAPACK: /opt/conda/lib/libopenblasp-r0.3.24.so;  LAPACK version 3.11.0\n",
       "\n",
       "locale:\n",
       " [1] LC_CTYPE=C.UTF-8       LC_NUMERIC=C           LC_TIME=C.UTF-8       \n",
       " [4] LC_COLLATE=C.UTF-8     LC_MONETARY=C.UTF-8    LC_MESSAGES=C.UTF-8   \n",
       " [7] LC_PAPER=C.UTF-8       LC_NAME=C              LC_ADDRESS=C          \n",
       "[10] LC_TELEPHONE=C         LC_MEASUREMENT=C.UTF-8 LC_IDENTIFICATION=C   \n",
       "\n",
       "time zone: Etc/UTC\n",
       "tzcode source: system (glibc)\n",
       "\n",
       "attached base packages:\n",
       "[1] stats     graphics  grDevices utils     datasets  methods   base     \n",
       "\n",
       "other attached packages:\n",
       "[1] purrr_1.0.2 dplyr_1.1.3 hise_2.16.0\n",
       "\n",
       "loaded via a namespace (and not attached):\n",
       " [1] crayon_1.5.2     vctrs_0.6.3      httr_1.4.7       cli_3.6.1       \n",
       " [5] rlang_1.1.1      generics_0.1.3   assertthat_0.2.1 jsonlite_1.8.7  \n",
       " [9] glue_1.6.2       RCurl_1.98-1.12  htmltools_0.5.6  IRdisplay_1.1   \n",
       "[13] IRkernel_1.3.2   fansi_1.0.4      evaluate_0.21    tibble_3.2.1    \n",
       "[17] bitops_1.0-7     fastmap_1.1.1    base64enc_0.1-3  lifecycle_1.0.3 \n",
       "[21] compiler_4.3.1   pkgconfig_2.0.3  pbdZMQ_0.3-10    digest_0.6.33   \n",
       "[25] R6_2.5.1         repr_1.1.6.9000  tidyselect_1.2.0 utf8_1.2.3      \n",
       "[29] curl_5.0.2       pillar_1.9.0     magrittr_2.0.3   withr_2.5.1     \n",
       "[33] uuid_1.1-1       tools_4.3.1     "
      ]
     },
     "metadata": {},
     "output_type": "display_data"
    }
   ],
   "source": [
    "sessionInfo()"
   ]
  },
  {
   "cell_type": "code",
   "execution_count": null,
   "id": "2027ff1a-bb5f-4f10-b90d-6a4f4e5b5bd4",
   "metadata": {},
   "outputs": [],
   "source": []
  }
 ],
 "metadata": {
  "kernelspec": {
   "display_name": "R 4",
   "language": "R",
   "name": "ir4"
  },
  "language_info": {
   "codemirror_mode": "r",
   "file_extension": ".r",
   "mimetype": "text/x-r-source",
   "name": "R",
   "pygments_lexer": "r",
   "version": "4.3.1"
  }
 },
 "nbformat": 4,
 "nbformat_minor": 5
}
