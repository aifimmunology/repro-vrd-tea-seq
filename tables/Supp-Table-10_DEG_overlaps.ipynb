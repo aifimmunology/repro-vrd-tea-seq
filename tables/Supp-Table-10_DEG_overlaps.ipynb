{
 "cells": [
  {
   "cell_type": "code",
   "execution_count": 1,
   "id": "b78037b1-ccb6-43f4-bcaa-fdd461278188",
   "metadata": {
    "tags": []
   },
   "outputs": [],
   "source": [
    "quiet_library <- function(...) { suppressPackageStartupMessages(library(...)) }\n",
    "quiet_library(hise)\n",
    "quiet_library(dplyr)\n",
    "quiet_library(purrr)"
   ]
  },
  {
   "cell_type": "markdown",
   "id": "c8e1ee25-bc80-477f-a37e-cc98ae5efeb6",
   "metadata": {
    "tags": []
   },
   "source": [
    "## Read DEG Overlap Results from HISE"
   ]
  },
  {
   "cell_type": "code",
   "execution_count": 2,
   "id": "f8234a30-6e28-41fa-b4ba-5265c86c4f4d",
   "metadata": {
    "tags": []
   },
   "outputs": [],
   "source": [
    "ol_uuid <- list(\"080b27e3-0487-4971-8733-3a3adc9b3d3d\")"
   ]
  },
  {
   "cell_type": "code",
   "execution_count": 3,
   "id": "e3c439d4-0a0c-4ff9-9600-a82592c4a413",
   "metadata": {
    "tags": []
   },
   "outputs": [
    {
     "name": "stderr",
     "output_type": "stream",
     "text": [
      "submitting request as query ID first...\n",
      "\n",
      "retrieving files using fileIDS...\n",
      "\n"
     ]
    }
   ],
   "source": [
    "ol_fres <- cacheFiles(ol_uuid)\n",
    "ol_file <- list.files(\n",
    "    paste0(\"cache/\",ol_uuid),\n",
    "    recursive = TRUE, full.names = TRUE\n",
    ")"
   ]
  },
  {
   "cell_type": "code",
   "execution_count": 4,
   "id": "78e5e1f2-e23e-4025-9d23-29960c73953b",
   "metadata": {
    "tags": []
   },
   "outputs": [],
   "source": [
    "all_ol <- read.csv(ol_file)"
   ]
  },
  {
   "cell_type": "markdown",
   "id": "badbba15-33a5-4093-96ac-0a1fa31e8043",
   "metadata": {},
   "source": [
    "## Format for output"
   ]
  },
  {
   "cell_type": "code",
   "execution_count": 5,
   "id": "485910ed-75e2-4707-957b-26bea2dedd66",
   "metadata": {
    "tags": []
   },
   "outputs": [
    {
     "data": {
      "text/html": [
       "<style>\n",
       ".list-inline {list-style: none; margin:0; padding: 0}\n",
       ".list-inline>li {display: inline-block}\n",
       ".list-inline>li:not(:last-child)::after {content: \"\\00b7\"; padding: 0 .5ex}\n",
       "</style>\n",
       "<ol class=list-inline><li>'aifi_cell_type'</li><li>'group1_treatment'</li><li>'group1_timepoint'</li><li>'group1_direction'</li><li>'group2_treatment'</li><li>'group2_timepoint'</li><li>'group2_direction'</li><li>'n_common'</li><li>'n_group1'</li><li>'n_group2'</li><li>'n_ol'</li><li>'nomP'</li><li>'adjP'</li><li>'ol_genes'</li></ol>\n"
      ],
      "text/latex": [
       "\\begin{enumerate*}\n",
       "\\item 'aifi\\_cell\\_type'\n",
       "\\item 'group1\\_treatment'\n",
       "\\item 'group1\\_timepoint'\n",
       "\\item 'group1\\_direction'\n",
       "\\item 'group2\\_treatment'\n",
       "\\item 'group2\\_timepoint'\n",
       "\\item 'group2\\_direction'\n",
       "\\item 'n\\_common'\n",
       "\\item 'n\\_group1'\n",
       "\\item 'n\\_group2'\n",
       "\\item 'n\\_ol'\n",
       "\\item 'nomP'\n",
       "\\item 'adjP'\n",
       "\\item 'ol\\_genes'\n",
       "\\end{enumerate*}\n"
      ],
      "text/markdown": [
       "1. 'aifi_cell_type'\n",
       "2. 'group1_treatment'\n",
       "3. 'group1_timepoint'\n",
       "4. 'group1_direction'\n",
       "5. 'group2_treatment'\n",
       "6. 'group2_timepoint'\n",
       "7. 'group2_direction'\n",
       "8. 'n_common'\n",
       "9. 'n_group1'\n",
       "10. 'n_group2'\n",
       "11. 'n_ol'\n",
       "12. 'nomP'\n",
       "13. 'adjP'\n",
       "14. 'ol_genes'\n",
       "\n",
       "\n"
      ],
      "text/plain": [
       " [1] \"aifi_cell_type\"   \"group1_treatment\" \"group1_timepoint\" \"group1_direction\"\n",
       " [5] \"group2_treatment\" \"group2_timepoint\" \"group2_direction\" \"n_common\"        \n",
       " [9] \"n_group1\"         \"n_group2\"         \"n_ol\"             \"nomP\"            \n",
       "[13] \"adjP\"             \"ol_genes\"        "
      ]
     },
     "metadata": {},
     "output_type": "display_data"
    }
   ],
   "source": [
    "names(all_ol)"
   ]
  },
  {
   "cell_type": "code",
   "execution_count": 6,
   "id": "5c56958f-e969-4724-9c85-74aaf412dbb3",
   "metadata": {
    "tags": []
   },
   "outputs": [],
   "source": [
    "out_dir <- \"output\"\n",
    "if(!dir.exists(\"output\")) { dir.create(\"output\") }"
   ]
  },
  {
   "cell_type": "code",
   "execution_count": 7,
   "id": "f5ed5088-97d2-40bd-b52c-91fc54140fcb",
   "metadata": {
    "tags": []
   },
   "outputs": [],
   "source": [
    "out_file <- paste0(\"Supp-Table-10_deg_overlaps_\", Sys.Date(), \".csv\")\n",
    "write.csv(\n",
    "    all_ol,\n",
    "    file.path(out_dir, out_file),\n",
    "    row.names = FALSE,\n",
    "    quote = FALSE\n",
    ")"
   ]
  },
  {
   "cell_type": "code",
   "execution_count": 8,
   "id": "7c8d18e6-0228-4572-a4c1-e770d4d70922",
   "metadata": {
    "tags": []
   },
   "outputs": [],
   "source": [
    "system(paste('gzip', file.path(out_dir, out_file)))"
   ]
  },
  {
   "cell_type": "code",
   "execution_count": 9,
   "id": "6f5a88a5-68a0-47db-a1a8-2d9c86ea9fb1",
   "metadata": {
    "tags": []
   },
   "outputs": [
    {
     "data": {
      "text/plain": [
       "R version 4.3.1 (2023-06-16)\n",
       "Platform: x86_64-conda-linux-gnu (64-bit)\n",
       "Running under: Ubuntu 20.04.6 LTS\n",
       "\n",
       "Matrix products: default\n",
       "BLAS/LAPACK: /opt/conda/lib/libopenblasp-r0.3.24.so;  LAPACK version 3.11.0\n",
       "\n",
       "locale:\n",
       " [1] LC_CTYPE=C.UTF-8       LC_NUMERIC=C           LC_TIME=C.UTF-8       \n",
       " [4] LC_COLLATE=C.UTF-8     LC_MONETARY=C.UTF-8    LC_MESSAGES=C.UTF-8   \n",
       " [7] LC_PAPER=C.UTF-8       LC_NAME=C              LC_ADDRESS=C          \n",
       "[10] LC_TELEPHONE=C         LC_MEASUREMENT=C.UTF-8 LC_IDENTIFICATION=C   \n",
       "\n",
       "time zone: Etc/UTC\n",
       "tzcode source: system (glibc)\n",
       "\n",
       "attached base packages:\n",
       "[1] stats     graphics  grDevices utils     datasets  methods   base     \n",
       "\n",
       "other attached packages:\n",
       "[1] purrr_1.0.2 dplyr_1.1.3 hise_2.16.0\n",
       "\n",
       "loaded via a namespace (and not attached):\n",
       " [1] crayon_1.5.2     vctrs_0.6.3      httr_1.4.7       cli_3.6.1       \n",
       " [5] rlang_1.1.1      generics_0.1.3   assertthat_0.2.1 jsonlite_1.8.7  \n",
       " [9] glue_1.6.2       RCurl_1.98-1.12  htmltools_0.5.6  IRdisplay_1.1   \n",
       "[13] IRkernel_1.3.2   fansi_1.0.4      evaluate_0.21    tibble_3.2.1    \n",
       "[17] bitops_1.0-7     fastmap_1.1.1    base64enc_0.1-3  lifecycle_1.0.3 \n",
       "[21] compiler_4.3.1   pkgconfig_2.0.3  pbdZMQ_0.3-10    digest_0.6.33   \n",
       "[25] R6_2.5.1         repr_1.1.6.9000  tidyselect_1.2.0 utf8_1.2.3      \n",
       "[29] curl_5.0.2       pillar_1.9.0     magrittr_2.0.3   uuid_1.1-1      \n",
       "[33] tools_4.3.1     "
      ]
     },
     "metadata": {},
     "output_type": "display_data"
    }
   ],
   "source": [
    "sessionInfo()"
   ]
  },
  {
   "cell_type": "code",
   "execution_count": null,
   "id": "2027ff1a-bb5f-4f10-b90d-6a4f4e5b5bd4",
   "metadata": {},
   "outputs": [],
   "source": []
  }
 ],
 "metadata": {
  "kernelspec": {
   "display_name": "R 4",
   "language": "R",
   "name": "ir4"
  },
  "language_info": {
   "codemirror_mode": "r",
   "file_extension": ".r",
   "mimetype": "text/x-r-source",
   "name": "R",
   "pygments_lexer": "r",
   "version": "4.3.1"
  }
 },
 "nbformat": 4,
 "nbformat_minor": 5
}
