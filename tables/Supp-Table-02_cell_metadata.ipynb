{
 "cells": [
  {
   "cell_type": "code",
   "execution_count": 1,
   "id": "b78037b1-ccb6-43f4-bcaa-fdd461278188",
   "metadata": {
    "tags": []
   },
   "outputs": [],
   "source": [
    "quiet_library <- function(...) { suppressPackageStartupMessages(library(...)) }\n",
    "quiet_library(hise)\n",
    "quiet_library(dplyr)\n",
    "quiet_library(purrr)"
   ]
  },
  {
   "cell_type": "markdown",
   "id": "c8e1ee25-bc80-477f-a37e-cc98ae5efeb6",
   "metadata": {},
   "source": [
    "## Read metadata and labels stored in HISE"
   ]
  },
  {
   "cell_type": "code",
   "execution_count": 2,
   "id": "d41fbd0d-f522-4056-b2a4-77871c4ce5a0",
   "metadata": {
    "tags": []
   },
   "outputs": [],
   "source": [
    "meta_uuid <- list(\"f3db110d-4d9f-45d6-bbf7-02957f23a81e\" )"
   ]
  },
  {
   "cell_type": "code",
   "execution_count": 3,
   "id": "9ae95823-64b6-45c0-8999-3920df45a12f",
   "metadata": {
    "tags": []
   },
   "outputs": [
    {
     "name": "stderr",
     "output_type": "stream",
     "text": [
      "submitting request as query ID first...\n",
      "\n",
      "retrieving files using fileIDS...\n",
      "\n"
     ]
    },
    {
     "name": "stdout",
     "output_type": "stream",
     "text": [
      "[1] \"Initiating file download for filtered_tea_cell_metadata.csv\"\n",
      "[1] \"Download successful.\"\n"
     ]
    }
   ],
   "source": [
    "fres <- cacheFiles(meta_uuid)\n",
    "meta_file <- list.files(paste0(\"cache/\", meta_uuid), full.names = TRUE)"
   ]
  },
  {
   "cell_type": "code",
   "execution_count": 4,
   "id": "29116371-e277-40a9-8350-08778096528f",
   "metadata": {
    "tags": []
   },
   "outputs": [],
   "source": [
    "label_uuids <- list(\n",
    "    \"ebd4bee7-2f5d-46e1-b2fc-22157f1b8d04\", # CD4 type labels\n",
    "    \"4d6aade9-288c-452f-8f0d-ac59e539f4cc\"  # CD8 type labels\n",
    ")"
   ]
  },
  {
   "cell_type": "code",
   "execution_count": 5,
   "id": "a4fc1d6a-2fdf-4c5f-9842-11b615370766",
   "metadata": {
    "scrolled": true,
    "tags": []
   },
   "outputs": [
    {
     "name": "stdout",
     "output_type": "stream",
     "text": [
      "[1] \"Initiating file download for cd4_cell_type_labels_2023-09-05.csv\"\n",
      "[1] \"Download successful.\"\n",
      "[1] \"Initiating file download for cd8_cell_type_labels_2023-09-05.csv\"\n",
      "[1] \"Download successful.\"\n"
     ]
    }
   ],
   "source": [
    "label_res <- cacheFiles(label_uuids)\n",
    "label_files <- list.files(\n",
    "    paste0(\"cache/\",label_uuids),\n",
    "    recursive = TRUE, full.names = TRUE\n",
    ")"
   ]
  },
  {
   "cell_type": "code",
   "execution_count": 6,
   "id": "91df06c1-c457-4f58-b334-5ec5373424f3",
   "metadata": {
    "tags": []
   },
   "outputs": [],
   "source": [
    "meta <- read.csv(meta_file)"
   ]
  },
  {
   "cell_type": "code",
   "execution_count": 7,
   "id": "2935468c-d759-44c6-b1f9-f8377e0f0524",
   "metadata": {
    "tags": []
   },
   "outputs": [],
   "source": [
    "labels <- map_dfr(label_files, read.csv)"
   ]
  },
  {
   "cell_type": "markdown",
   "id": "b01fbedd-d6ab-4161-9c6c-965cc8890c8f",
   "metadata": {},
   "source": [
    "Join tables and rename for display"
   ]
  },
  {
   "cell_type": "code",
   "execution_count": 8,
   "id": "54e78797-7db2-452a-b8db-ba497ef1adc6",
   "metadata": {
    "tags": []
   },
   "outputs": [
    {
     "name": "stderr",
     "output_type": "stream",
     "text": [
      "\u001b[1m\u001b[22mJoining with `by = join_by(barcodes, treatment, timepoint)`\n"
     ]
    }
   ],
   "source": [
    "all <- left_join(meta, labels)"
   ]
  },
  {
   "cell_type": "code",
   "execution_count": 9,
   "id": "31cb11f7-3aaf-4b88-bf25-b024a877c5c7",
   "metadata": {
    "tags": []
   },
   "outputs": [],
   "source": [
    "out_df <- all %>%\n",
    "  mutate(epi_gate_class = ifelse(\n",
    "      grepl(\"cd4\", aifi_cell_type), \n",
    "      \"CD4\", \"CD8\")) %>%\n",
    "  rename(txn_n_reads = n_reads,\n",
    "         txn_n_umis = n_umis,\n",
    "         txn_n_genes = n_genes,\n",
    "         txn_n_mito_umis = n_mito_umis,\n",
    "         txn_frac_mito_umis = frac_mito_umis,\n",
    "         epi_n_adt_umis = adt_umis,\n",
    "         acc_n_unique = n_unique,\n",
    "         acc_n_fragments = n_fragments,\n",
    "         acc_n_mito_frags = n_mito,\n",
    "         acc_frac_mito_frags = frac_mito) %>%\n",
    "  select(treatment, timepoint, epi_gate_class, aifi_cell_type,\n",
    "         barcodes, original_barcodes, well_id,\n",
    "         txn_n_genes, txn_n_umis, txn_n_reads,\n",
    "         txn_n_mito_umis, txn_frac_mito_umis,\n",
    "         epi_n_adt_umis,\n",
    "         acc_n_unique, acc_n_fragments,\n",
    "         acc_n_mito_frags, acc_frac_mito_frags)"
   ]
  },
  {
   "cell_type": "markdown",
   "id": "7c8dfe32-a8df-4ab4-8806-1c4e4417d22c",
   "metadata": {},
   "source": [
    "Save output"
   ]
  },
  {
   "cell_type": "code",
   "execution_count": 10,
   "id": "5c56958f-e969-4724-9c85-74aaf412dbb3",
   "metadata": {
    "tags": []
   },
   "outputs": [],
   "source": [
    "out_dir <- \"output\"\n",
    "if(!dir.exists(\"output\")) { dir.create(\"output\") }"
   ]
  },
  {
   "cell_type": "code",
   "execution_count": 13,
   "id": "f5ed5088-97d2-40bd-b52c-91fc54140fcb",
   "metadata": {
    "tags": []
   },
   "outputs": [],
   "source": [
    "out_file <- paste0(\"Supp-Table-02_cell_metadata_\", Sys.Date(), \".csv\")\n",
    "write.csv(\n",
    "    out_df,\n",
    "    file.path(out_dir, out_file),\n",
    "    row.names = FALSE,\n",
    "    quote = FALSE\n",
    ")"
   ]
  },
  {
   "cell_type": "code",
   "execution_count": 14,
   "id": "f09ac184-6316-46d5-b20f-94a6c17f361f",
   "metadata": {
    "tags": []
   },
   "outputs": [],
   "source": [
    "system(paste('gzip', file.path(out_dir, out_file)))"
   ]
  },
  {
   "cell_type": "code",
   "execution_count": 15,
   "id": "6f5a88a5-68a0-47db-a1a8-2d9c86ea9fb1",
   "metadata": {
    "tags": []
   },
   "outputs": [
    {
     "data": {
      "text/plain": [
       "R version 4.3.1 (2023-06-16)\n",
       "Platform: x86_64-conda-linux-gnu (64-bit)\n",
       "Running under: Ubuntu 20.04.6 LTS\n",
       "\n",
       "Matrix products: default\n",
       "BLAS/LAPACK: /opt/conda/lib/libopenblasp-r0.3.24.so;  LAPACK version 3.11.0\n",
       "\n",
       "locale:\n",
       " [1] LC_CTYPE=C.UTF-8       LC_NUMERIC=C           LC_TIME=C.UTF-8       \n",
       " [4] LC_COLLATE=C.UTF-8     LC_MONETARY=C.UTF-8    LC_MESSAGES=C.UTF-8   \n",
       " [7] LC_PAPER=C.UTF-8       LC_NAME=C              LC_ADDRESS=C          \n",
       "[10] LC_TELEPHONE=C         LC_MEASUREMENT=C.UTF-8 LC_IDENTIFICATION=C   \n",
       "\n",
       "time zone: Etc/UTC\n",
       "tzcode source: system (glibc)\n",
       "\n",
       "attached base packages:\n",
       "[1] stats     graphics  grDevices utils     datasets  methods   base     \n",
       "\n",
       "other attached packages:\n",
       "[1] purrr_1.0.2 dplyr_1.1.3 hise_2.16.0\n",
       "\n",
       "loaded via a namespace (and not attached):\n",
       " [1] crayon_1.5.2     vctrs_0.6.3      httr_1.4.7       cli_3.6.1       \n",
       " [5] rlang_1.1.1      generics_0.1.3   assertthat_0.2.1 jsonlite_1.8.7  \n",
       " [9] glue_1.6.2       RCurl_1.98-1.12  htmltools_0.5.6  IRdisplay_1.1   \n",
       "[13] IRkernel_1.3.2   fansi_1.0.4      evaluate_0.21    tibble_3.2.1    \n",
       "[17] bitops_1.0-7     fastmap_1.1.1    base64enc_0.1-3  lifecycle_1.0.3 \n",
       "[21] compiler_4.3.1   pkgconfig_2.0.3  pbdZMQ_0.3-10    digest_0.6.33   \n",
       "[25] R6_2.5.1         repr_1.1.6.9000  tidyselect_1.2.0 utf8_1.2.3      \n",
       "[29] curl_5.0.2       pillar_1.9.0     magrittr_2.0.3   withr_2.5.1     \n",
       "[33] uuid_1.1-1       tools_4.3.1     "
      ]
     },
     "metadata": {},
     "output_type": "display_data"
    }
   ],
   "source": [
    "sessionInfo()"
   ]
  },
  {
   "cell_type": "code",
   "execution_count": null,
   "id": "2027ff1a-bb5f-4f10-b90d-6a4f4e5b5bd4",
   "metadata": {},
   "outputs": [],
   "source": []
  }
 ],
 "metadata": {
  "kernelspec": {
   "display_name": "R 4",
   "language": "R",
   "name": "ir4"
  },
  "language_info": {
   "codemirror_mode": "r",
   "file_extension": ".r",
   "mimetype": "text/x-r-source",
   "name": "R",
   "pygments_lexer": "r",
   "version": "4.3.1"
  }
 },
 "nbformat": 4,
 "nbformat_minor": 5
}
