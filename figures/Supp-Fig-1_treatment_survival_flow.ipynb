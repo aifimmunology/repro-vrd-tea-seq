{
 "cells": [
  {
   "cell_type": "code",
   "execution_count": null,
   "id": "59e44836-8ee2-4ad4-a3a4-73aba57d09ad",
   "metadata": {},
   "outputs": [],
   "source": []
  },
  {
   "cell_type": "code",
   "execution_count": 1,
   "id": "474e3e6e-b329-4544-ab81-827095307116",
   "metadata": {},
   "outputs": [
    {
     "name": "stderr",
     "output_type": "stream",
     "text": [
      "\n",
      "Attaching package: ‘dplyr’\n",
      "\n",
      "\n",
      "The following objects are masked from ‘package:stats’:\n",
      "\n",
      "    filter, lag\n",
      "\n",
      "\n",
      "The following objects are masked from ‘package:base’:\n",
      "\n",
      "    intersect, setdiff, setequal, union\n",
      "\n",
      "\n"
     ]
    }
   ],
   "source": [
    "library(dplyr)\n",
    "library(ggplot2)"
   ]
  },
  {
   "cell_type": "code",
   "execution_count": 2,
   "id": "cf65468e-5192-4be5-913e-549d4ca49c53",
   "metadata": {},
   "outputs": [],
   "source": [
    "plot_data <- read.csv(\"drug_perturbation_survival_data.csv\")"
   ]
  },
  {
   "cell_type": "code",
   "execution_count": 3,
   "id": "1f2126f4-4527-4a41-929f-065837a3c9f7",
   "metadata": {},
   "outputs": [],
   "source": [
    "plot_data <- plot_data %>%\n",
    "  filter(supplements != \"aCD3/aCD28\") %>%\n",
    "  mutate(perc_survival = as.numeric(perc_survival))"
   ]
  },
  {
   "cell_type": "code",
   "execution_count": 4,
   "id": "b7d1457f-df74-44e5-b291-7fd34eeea156",
   "metadata": {},
   "outputs": [],
   "source": [
    "plot_data <- plot_data %>%\n",
    "  mutate(supplements = ifelse(supplements == \"none\", \"-\", \"+\"))"
   ]
  },
  {
   "cell_type": "code",
   "execution_count": 5,
   "id": "bb498989-f162-4e3c-a0ab-75605625b8da",
   "metadata": {},
   "outputs": [],
   "source": [
    "plot_data <- plot_data %>%\n",
    "  mutate(group = paste0(drug, \"_\",dose_nM)) %>%\n",
    "  mutate(lt = ifelse(supplements == \"+\", \"solid\", \"dashed\")) %>%\n",
    "  mutate(drug_label = case_when(\n",
    "      drug == \"Bortezomib\" ~ paste0(\"Bortezomib\\n\", dose_nM, \"nM\"),\n",
    "      drug == \"Lenalidomide\" ~ paste0(\"Lenalidomide\\n\", dose_nM, \"nM\"),\n",
    "      drug == \"Dexamethasone\" ~ paste0(\"Dexamethasone\\n\", dose_nM, \"nM\"),\n",
    "      TRUE ~ \"DMSO Only\"\n",
    "  ))"
   ]
  },
  {
   "cell_type": "code",
   "execution_count": 6,
   "id": "61a93766-ba5e-4df6-8d36-2a71b2901653",
   "metadata": {},
   "outputs": [],
   "source": [
    "plot_data <- plot_data %>%\n",
    "  mutate(drug_label = factor(\n",
    "      drug_label,\n",
    "      levels = c('Bortezomib\\n1nM','Bortezomib\\n2.5nM','Bortezomib\\n5nM',\n",
    "                 'Lenalidomide\\n500nM','Lenalidomide\\n1000nM','Lenalidomide\\n1500nM',\n",
    "                 'Dexamethasone\\n25nM','Dexamethasone\\n50nM','Dexamethasone\\n100nM',\n",
    "                 'DMSO Only')\n",
    "  ))"
   ]
  },
  {
   "cell_type": "code",
   "execution_count": 7,
   "id": "12f93ac5-b8aa-439a-b8da-1632f2fbf5fc",
   "metadata": {},
   "outputs": [
    {
     "data": {
      "text/html": [
       "<table class=\"dataframe\">\n",
       "<caption>A data.frame: 6 × 9</caption>\n",
       "<thead>\n",
       "\t<tr><th></th><th scope=col>drug</th><th scope=col>dose_nM</th><th scope=col>supplements</th><th scope=col>time_hr</th><th scope=col>n_live_cells</th><th scope=col>perc_survival</th><th scope=col>group</th><th scope=col>lt</th><th scope=col>drug_label</th></tr>\n",
       "\t<tr><th></th><th scope=col>&lt;chr&gt;</th><th scope=col>&lt;dbl&gt;</th><th scope=col>&lt;chr&gt;</th><th scope=col>&lt;int&gt;</th><th scope=col>&lt;chr&gt;</th><th scope=col>&lt;dbl&gt;</th><th scope=col>&lt;chr&gt;</th><th scope=col>&lt;chr&gt;</th><th scope=col>&lt;fct&gt;</th></tr>\n",
       "</thead>\n",
       "<tbody>\n",
       "\t<tr><th scope=row>1</th><td>Bortezomib</td><td>1.0</td><td>-</td><td>24</td><td>59018</td><td>81.4</td><td>Bortezomib_1  </td><td>dashed</td><td>Bortezomib\n",
       "1nM  </td></tr>\n",
       "\t<tr><th scope=row>2</th><td>Bortezomib</td><td>2.5</td><td>-</td><td>24</td><td>58396</td><td>80.8</td><td>Bortezomib_2.5</td><td>dashed</td><td>Bortezomib\n",
       "2.5nM</td></tr>\n",
       "\t<tr><th scope=row>3</th><td>Bortezomib</td><td>5.0</td><td>-</td><td>24</td><td>56995</td><td>79.2</td><td>Bortezomib_5  </td><td>dashed</td><td>Bortezomib\n",
       "5nM  </td></tr>\n",
       "\t<tr><th scope=row>4</th><td>Bortezomib</td><td>1.0</td><td>-</td><td>48</td><td>74105</td><td>86.2</td><td>Bortezomib_1  </td><td>dashed</td><td>Bortezomib\n",
       "1nM  </td></tr>\n",
       "\t<tr><th scope=row>5</th><td>Bortezomib</td><td>2.5</td><td>-</td><td>48</td><td>66587</td><td>79.7</td><td>Bortezomib_2.5</td><td>dashed</td><td>Bortezomib\n",
       "2.5nM</td></tr>\n",
       "\t<tr><th scope=row>6</th><td>Bortezomib</td><td>5.0</td><td>-</td><td>48</td><td>61608</td><td>74.8</td><td>Bortezomib_5  </td><td>dashed</td><td>Bortezomib\n",
       "5nM  </td></tr>\n",
       "</tbody>\n",
       "</table>\n"
      ],
      "text/latex": [
       "A data.frame: 6 × 9\n",
       "\\begin{tabular}{r|lllllllll}\n",
       "  & drug & dose\\_nM & supplements & time\\_hr & n\\_live\\_cells & perc\\_survival & group & lt & drug\\_label\\\\\n",
       "  & <chr> & <dbl> & <chr> & <int> & <chr> & <dbl> & <chr> & <chr> & <fct>\\\\\n",
       "\\hline\n",
       "\t1 & Bortezomib & 1.0 & - & 24 & 59018 & 81.4 & Bortezomib\\_1   & dashed & Bortezomib\n",
       "1nM  \\\\\n",
       "\t2 & Bortezomib & 2.5 & - & 24 & 58396 & 80.8 & Bortezomib\\_2.5 & dashed & Bortezomib\n",
       "2.5nM\\\\\n",
       "\t3 & Bortezomib & 5.0 & - & 24 & 56995 & 79.2 & Bortezomib\\_5   & dashed & Bortezomib\n",
       "5nM  \\\\\n",
       "\t4 & Bortezomib & 1.0 & - & 48 & 74105 & 86.2 & Bortezomib\\_1   & dashed & Bortezomib\n",
       "1nM  \\\\\n",
       "\t5 & Bortezomib & 2.5 & - & 48 & 66587 & 79.7 & Bortezomib\\_2.5 & dashed & Bortezomib\n",
       "2.5nM\\\\\n",
       "\t6 & Bortezomib & 5.0 & - & 48 & 61608 & 74.8 & Bortezomib\\_5   & dashed & Bortezomib\n",
       "5nM  \\\\\n",
       "\\end{tabular}\n"
      ],
      "text/markdown": [
       "\n",
       "A data.frame: 6 × 9\n",
       "\n",
       "| <!--/--> | drug &lt;chr&gt; | dose_nM &lt;dbl&gt; | supplements &lt;chr&gt; | time_hr &lt;int&gt; | n_live_cells &lt;chr&gt; | perc_survival &lt;dbl&gt; | group &lt;chr&gt; | lt &lt;chr&gt; | drug_label &lt;fct&gt; |\n",
       "|---|---|---|---|---|---|---|---|---|---|\n",
       "| 1 | Bortezomib | 1.0 | - | 24 | 59018 | 81.4 | Bortezomib_1   | dashed | Bortezomib\n",
       "1nM   |\n",
       "| 2 | Bortezomib | 2.5 | - | 24 | 58396 | 80.8 | Bortezomib_2.5 | dashed | Bortezomib\n",
       "2.5nM |\n",
       "| 3 | Bortezomib | 5.0 | - | 24 | 56995 | 79.2 | Bortezomib_5   | dashed | Bortezomib\n",
       "5nM   |\n",
       "| 4 | Bortezomib | 1.0 | - | 48 | 74105 | 86.2 | Bortezomib_1   | dashed | Bortezomib\n",
       "1nM   |\n",
       "| 5 | Bortezomib | 2.5 | - | 48 | 66587 | 79.7 | Bortezomib_2.5 | dashed | Bortezomib\n",
       "2.5nM |\n",
       "| 6 | Bortezomib | 5.0 | - | 48 | 61608 | 74.8 | Bortezomib_5   | dashed | Bortezomib\n",
       "5nM   |\n",
       "\n"
      ],
      "text/plain": [
       "  drug       dose_nM supplements time_hr n_live_cells perc_survival\n",
       "1 Bortezomib 1.0     -           24      59018        81.4         \n",
       "2 Bortezomib 2.5     -           24      58396        80.8         \n",
       "3 Bortezomib 5.0     -           24      56995        79.2         \n",
       "4 Bortezomib 1.0     -           48      74105        86.2         \n",
       "5 Bortezomib 2.5     -           48      66587        79.7         \n",
       "6 Bortezomib 5.0     -           48      61608        74.8         \n",
       "  group          lt     drug_label       \n",
       "1 Bortezomib_1   dashed Bortezomib\\n1nM  \n",
       "2 Bortezomib_2.5 dashed Bortezomib\\n2.5nM\n",
       "3 Bortezomib_5   dashed Bortezomib\\n5nM  \n",
       "4 Bortezomib_1   dashed Bortezomib\\n1nM  \n",
       "5 Bortezomib_2.5 dashed Bortezomib\\n2.5nM\n",
       "6 Bortezomib_5   dashed Bortezomib\\n5nM  "
      ]
     },
     "metadata": {},
     "output_type": "display_data"
    }
   ],
   "source": [
    "head(plot_data)"
   ]
  },
  {
   "cell_type": "code",
   "execution_count": 8,
   "id": "83fabcab-70cb-4aab-96c0-3cf212d32081",
   "metadata": {},
   "outputs": [],
   "source": [
    "control_data <- plot_data %>%\n",
    "  filter(drug == \"DMSO\" & supplements == \"-\") %>%\n",
    "  select(-drug_label)"
   ]
  },
  {
   "cell_type": "code",
   "execution_count": 9,
   "id": "bb61b7df-11e1-4487-a376-c0423e178e7f",
   "metadata": {},
   "outputs": [
    {
     "data": {
      "text/html": [
       "<table class=\"dataframe\">\n",
       "<caption>A data.frame: 4 × 8</caption>\n",
       "<thead>\n",
       "\t<tr><th scope=col>drug</th><th scope=col>dose_nM</th><th scope=col>supplements</th><th scope=col>time_hr</th><th scope=col>n_live_cells</th><th scope=col>perc_survival</th><th scope=col>group</th><th scope=col>lt</th></tr>\n",
       "\t<tr><th scope=col>&lt;chr&gt;</th><th scope=col>&lt;dbl&gt;</th><th scope=col>&lt;chr&gt;</th><th scope=col>&lt;int&gt;</th><th scope=col>&lt;chr&gt;</th><th scope=col>&lt;dbl&gt;</th><th scope=col>&lt;chr&gt;</th><th scope=col>&lt;chr&gt;</th></tr>\n",
       "</thead>\n",
       "<tbody>\n",
       "\t<tr><td>DMSO</td><td>0</td><td>-</td><td> 0</td><td>-    </td><td>91.2</td><td>DMSO_0</td><td>dashed</td></tr>\n",
       "\t<tr><td>DMSO</td><td>0</td><td>-</td><td>24</td><td>58982</td><td>81.6</td><td>DMSO_0</td><td>dashed</td></tr>\n",
       "\t<tr><td>DMSO</td><td>0</td><td>-</td><td>48</td><td>57819</td><td>84.9</td><td>DMSO_0</td><td>dashed</td></tr>\n",
       "\t<tr><td>DMSO</td><td>0</td><td>-</td><td>72</td><td>53239</td><td>83.6</td><td>DMSO_0</td><td>dashed</td></tr>\n",
       "</tbody>\n",
       "</table>\n"
      ],
      "text/latex": [
       "A data.frame: 4 × 8\n",
       "\\begin{tabular}{llllllll}\n",
       " drug & dose\\_nM & supplements & time\\_hr & n\\_live\\_cells & perc\\_survival & group & lt\\\\\n",
       " <chr> & <dbl> & <chr> & <int> & <chr> & <dbl> & <chr> & <chr>\\\\\n",
       "\\hline\n",
       "\t DMSO & 0 & - &  0 & -     & 91.2 & DMSO\\_0 & dashed\\\\\n",
       "\t DMSO & 0 & - & 24 & 58982 & 81.6 & DMSO\\_0 & dashed\\\\\n",
       "\t DMSO & 0 & - & 48 & 57819 & 84.9 & DMSO\\_0 & dashed\\\\\n",
       "\t DMSO & 0 & - & 72 & 53239 & 83.6 & DMSO\\_0 & dashed\\\\\n",
       "\\end{tabular}\n"
      ],
      "text/markdown": [
       "\n",
       "A data.frame: 4 × 8\n",
       "\n",
       "| drug &lt;chr&gt; | dose_nM &lt;dbl&gt; | supplements &lt;chr&gt; | time_hr &lt;int&gt; | n_live_cells &lt;chr&gt; | perc_survival &lt;dbl&gt; | group &lt;chr&gt; | lt &lt;chr&gt; |\n",
       "|---|---|---|---|---|---|---|---|\n",
       "| DMSO | 0 | - |  0 | -     | 91.2 | DMSO_0 | dashed |\n",
       "| DMSO | 0 | - | 24 | 58982 | 81.6 | DMSO_0 | dashed |\n",
       "| DMSO | 0 | - | 48 | 57819 | 84.9 | DMSO_0 | dashed |\n",
       "| DMSO | 0 | - | 72 | 53239 | 83.6 | DMSO_0 | dashed |\n",
       "\n"
      ],
      "text/plain": [
       "  drug dose_nM supplements time_hr n_live_cells perc_survival group  lt    \n",
       "1 DMSO 0       -            0      -            91.2          DMSO_0 dashed\n",
       "2 DMSO 0       -           24      58982        81.6          DMSO_0 dashed\n",
       "3 DMSO 0       -           48      57819        84.9          DMSO_0 dashed\n",
       "4 DMSO 0       -           72      53239        83.6          DMSO_0 dashed"
      ]
     },
     "metadata": {},
     "output_type": "display_data"
    }
   ],
   "source": [
    "control_data"
   ]
  },
  {
   "cell_type": "code",
   "execution_count": 10,
   "id": "4aad7e57-f572-48df-8167-9ef3278d450e",
   "metadata": {},
   "outputs": [
    {
     "data": {
      "image/png": "[encoded data removed]",
      "text/plain": [
       "plot without title"
      ]
     },
     "metadata": {
      "image/png": {
       "height": 120,
       "width": 450
      }
     },
     "output_type": "display_data"
    }
   ],
   "source": [
    "options(repr.plot.width = 7.5, repr.plot.height = 2)\n",
    "p <- ggplot() +\n",
    "  geom_line(data = plot_data %>% filter(drug != \"DMSO\"),\n",
    "           aes(x = time_hr,\n",
    "               y = perc_survival,\n",
    "               group = supplements,\n",
    "               linetype = supplements,\n",
    "               color = drug),\n",
    "            linewidth = 0.4,\n",
    "            alpha = 0.7) +\n",
    "  geom_point(data = plot_data %>% filter(drug != \"DMSO\"),\n",
    "           aes(x = time_hr,\n",
    "               y = perc_survival,\n",
    "               group = supplements,\n",
    "               color = drug),\n",
    "            alpha = 0.7,\n",
    "            size = 0.2) +\n",
    "  geom_line(data = control_data,\n",
    "           aes(x = time_hr,\n",
    "               y = perc_survival,\n",
    "               group = supplements,\n",
    "               color = drug),\n",
    "            linewidth = 0.2,\n",
    "            alpha = 0.6) +\n",
    "  facet_wrap(~ drug_label, nrow = 1) +\n",
    "  scale_color_manual(\"Drug\",\n",
    "                     breaks = c(\"DMSO\", \"Bortezomib\", \"Lenalidomide\", \"Dexamethasone\"),\n",
    "                     labels = c(\"DMSO Only\", \"Bortezomib\", \"Lenalidomide\", \"Dexamethasone\"),\n",
    "                     values = c(\"black\", \"#FF9F45\", \"#59C1BD\", \"#8D9EFF\")) +\n",
    "  scale_linetype_manual(\"Supplement\",\n",
    "                        breaks = c(\"+\", \"-\"),\n",
    "                        labels = c(\"Homeostatic Cocktail\",\n",
    "                                   \"No Supplement\"),\n",
    "                        values = c(\"solid\", \"dashed\")) +\n",
    "  scale_y_continuous(\"% Live Cells\",\n",
    "                     limits = c(40, 100)) +\n",
    "  scale_x_continuous(\"Hours Post-Treatment\",\n",
    "                     breaks = seq(0, 72, 24)) +\n",
    "  theme_bw(base_size = 7) +\n",
    "  theme(legend.position = \"bottom\",\n",
    "        panel.grid.minor = element_blank(),\n",
    "        strip.background = element_blank())\n",
    "p"
   ]
  },
  {
   "cell_type": "code",
   "execution_count": 11,
   "id": "50c6e029-3443-4d80-b6b2-9d329ded85f5",
   "metadata": {},
   "outputs": [],
   "source": [
    "ggsave(\n",
    "    \"Figure_survival_line_plots.pdf\",\n",
    "    p,\n",
    "    width = 7.5, height = 2\n",
    ")"
   ]
  }
 ],
 "metadata": {
  "kernelspec": {
   "display_name": "R 4",
   "language": "R",
   "name": "ir4"
  },
  "language_info": {
   "codemirror_mode": "r",
   "file_extension": ".r",
   "mimetype": "text/x-r-source",
   "name": "R",
   "pygments_lexer": "r",
   "version": "4.3.1"
  }
 },
 "nbformat": 4,
 "nbformat_minor": 5
}
