{
 "cells": [
  {
   "cell_type": "markdown",
   "id": "f9fc544d-b349-4e7a-b300-da9d52203ad6",
   "metadata": {
    "tags": []
   },
   "source": [
    "# Supplementary Figure 12, Activation marker flow cytometry under all combinations of treatments\n",
    "\n",
    "In Supplementary Figure 12, we generate stacked horizontal bar plots showing the fraction of cells with activation marker expression as gated in FlowJo. Here, we'll generate plots for use in figure panels based on data stored in `06-flow-cytometry/data/`. \n",
    "\n",
    "The files involved in this analysis are not stored in HISE, so sources will be retrieved from within this git repository."
   ]
  },
  {
   "cell_type": "code",
   "execution_count": 1,
   "id": "598de248-e22e-4a71-9b46-71ae897a0b88",
   "metadata": {
    "tags": []
   },
   "outputs": [
    {
     "name": "stderr",
     "output_type": "stream",
     "text": [
      "\n",
      "Attaching package: ‘dplyr’\n",
      "\n",
      "\n",
      "The following objects are masked from ‘package:stats’:\n",
      "\n",
      "    filter, lag\n",
      "\n",
      "\n",
      "The following objects are masked from ‘package:base’:\n",
      "\n",
      "    intersect, setdiff, setequal, union\n",
      "\n",
      "\n"
     ]
    }
   ],
   "source": [
    "library(dplyr)\n",
    "library(purrr)\n",
    "library(ggplot2)"
   ]
  },
  {
   "cell_type": "code",
   "execution_count": 2,
   "id": "394f9286-e4a8-4727-8859-6f42ad027529",
   "metadata": {
    "tags": []
   },
   "outputs": [
    {
     "name": "stderr",
     "output_type": "stream",
     "text": [
      "Warning message in dir.create(out_dir):\n",
      "“'output/supp_figure_12' already exists”\n"
     ]
    }
   ],
   "source": [
    "out_dir <- \"output/supp_figure_12\"\n",
    "dir.create(out_dir)"
   ]
  },
  {
   "cell_type": "markdown",
   "id": "7394fcac-299e-4d16-bad2-0b46a96645ad",
   "metadata": {},
   "source": [
    "## Read MFIs and helpers for plotting"
   ]
  },
  {
   "cell_type": "code",
   "execution_count": 3,
   "id": "1e2cfc94-32ef-4cbc-b366-398b4fad1491",
   "metadata": {
    "tags": []
   },
   "outputs": [],
   "source": [
    "res <- read.csv(\"../06-flow-cytometry/data/bor-len-dex_combin_CD69-CD40L_bin-counts.csv\")"
   ]
  },
  {
   "cell_type": "code",
   "execution_count": 4,
   "id": "0f5d0403-785b-4644-a9a0-c1a4d6bfca2d",
   "metadata": {
    "tags": []
   },
   "outputs": [],
   "source": [
    "treat_order <- data.frame(\n",
    "    treatment = c(\"DMSO\",\"B\",\"L\",\"D\",\"BL\",\"DL\",\"BD\",\"BDL\")\n",
    ") %>%\n",
    "  mutate(treat_order = factor(treatment, levels = treatment),\n",
    "         treat_pos = c(1,2,2.5,3,4,4.5,5,6))"
   ]
  },
  {
   "cell_type": "code",
   "execution_count": 5,
   "id": "fdda3279-70bf-44a2-b48b-a4d52e5af465",
   "metadata": {
    "tags": []
   },
   "outputs": [],
   "source": [
    "res <- res %>%\n",
    "  group_by(subject, treatment, stim, population, feature) %>%\n",
    "  mutate(frac = count / sum(count)) %>%\n",
    "  mutate(cum_frac = cumsum(frac)) %>%\n",
    "  ungroup()"
   ]
  },
  {
   "cell_type": "markdown",
   "id": "3e41b4ce-6adf-4a68-8ef1-5cde9a9501f8",
   "metadata": {},
   "source": [
    "Save modified results for supplements"
   ]
  },
  {
   "cell_type": "code",
   "execution_count": 6,
   "id": "faacb498-1c7a-4678-b71a-b493c6405428",
   "metadata": {
    "tags": []
   },
   "outputs": [],
   "source": [
    "out_res <- res %>%\n",
    "  select(-cum_frac)\n",
    "\n",
    "out_data <- paste0(\"combinatorial_activation_counts_\", Sys.Date(), \".csv\")\n",
    "\n",
    "write.csv(\n",
    "    out_res, \n",
    "    file.path(out_dir, out_data), \n",
    "    quote = FALSE, \n",
    "    row.names = FALSE\n",
    ") "
   ]
  },
  {
   "cell_type": "markdown",
   "id": "15c75ded-10e8-486d-8d32-f3adcf6fce94",
   "metadata": {},
   "source": [
    "## Generate stacked barplots"
   ]
  },
  {
   "cell_type": "code",
   "execution_count": 7,
   "id": "9a14a15b-246b-4c67-aec2-eec34ea366de",
   "metadata": {
    "tags": []
   },
   "outputs": [],
   "source": [
    "rect_ypos <- data.frame(\n",
    "    feature = c(rep(\"CD69\",6), rep(\"CD40L\",6)),\n",
    "    stim = c(\"no\",\"no\",\"no\",\"yes\",\"yes\",\"yes\",\"no\",\"no\",\"no\",\"yes\",\"yes\",\"yes\"),\n",
    "    subject = rep(c(\"PB04863\",\"PB04864\",\"PB04865\"),4),\n",
    "    ypos = rev(c(1,2,3,4.5,5.5,6.5,9,10,11,12.5,13.5,14.5))\n",
    ")\n",
    "y_label_pos <- data.frame(\n",
    "    ypos = c(2, 5.5, 10, 13.5),\n",
    "    label = c(\"CD40L\\nStim+\", \"CD40L\\nStim-\",\"CD69\\nStim+\",\"CD69\\nStim-\")\n",
    ")"
   ]
  },
  {
   "cell_type": "code",
   "execution_count": 8,
   "id": "14f0356f-0521-4a81-a1b8-cb9f3256ac5a",
   "metadata": {
    "tags": []
   },
   "outputs": [
    {
     "name": "stderr",
     "output_type": "stream",
     "text": [
      "\u001b[1m\u001b[22mJoining with `by = join_by(subject, stim, feature)`\n",
      "\u001b[1m\u001b[22mJoining with `by = join_by(treatment)`\n"
     ]
    }
   ],
   "source": [
    "plot_data <- res %>%\n",
    "  left_join(rect_ypos) %>%\n",
    "  left_join(treat_order) %>%\n",
    "  group_by(subject, treatment, stim, population, feature) %>%\n",
    "  mutate(xmin = lag(cum_frac, default = 0),\n",
    "         xmax = cum_frac) %>%\n",
    "  ungroup() "
   ]
  },
  {
   "cell_type": "code",
   "execution_count": 9,
   "id": "b60cc83f-3d02-4ffd-a0d5-995f183f50b6",
   "metadata": {
    "tags": []
   },
   "outputs": [],
   "source": [
    "dmso_marks <- plot_data %>%\n",
    "  filter(treatment == \"DMSO\") %>%\n",
    "  filter(xmin != 0) %>%\n",
    "  select(population, ypos, xmin)"
   ]
  },
  {
   "cell_type": "code",
   "execution_count": 10,
   "id": "a32ef781-a451-4a4d-abee-9a2ba5c63c53",
   "metadata": {
    "tags": []
   },
   "outputs": [],
   "source": [
    "dmso_rects <- plot_data %>%\n",
    "  filter(treatment == \"DMSO\") %>%\n",
    "  select(-treat_order)"
   ]
  },
  {
   "cell_type": "code",
   "execution_count": 11,
   "id": "9867ca16-2faf-44b8-b3fc-aa3af2e02211",
   "metadata": {
    "tags": []
   },
   "outputs": [
    {
     "data": {
      "image/png": "[encoded data removed]",
      "text/plain": [
       "plot without title"
      ]
     },
     "metadata": {
      "image/png": {
       "height": 360,
       "width": 720
      }
     },
     "output_type": "display_data"
    }
   ],
   "source": [
    "options(repr.plot.width = 12, repr.plot.height = 6)\n",
    "\n",
    "p <- ggplot() +\n",
    "  geom_vline(data = data.frame(x = c(0.25,0.5,0.75)),\n",
    "             aes(xintercept = x),\n",
    "             linetype = \"dashed\",\n",
    "             linewidth = 0.2,\n",
    "             color = \"gray50\") +\n",
    "  geom_rect(\n",
    "      data = dmso_rects,\n",
    "      aes(ymin = ypos - 0.45, ymax = ypos + 0.45,\n",
    "          xmin = xmin, xmax = xmax,\n",
    "          fill = group),\n",
    "      alpha = 0.2\n",
    "  ) +\n",
    "  geom_segment(\n",
    "      data = dmso_marks,\n",
    "      aes(x = xmin, xend = xmin,\n",
    "          y = ypos - 0.45, yend = ypos + 0.45),\n",
    "      linewidth = 0.25\n",
    "  ) +\n",
    "\n",
    "  geom_rect(\n",
    "      data = plot_data,\n",
    "      aes(ymin = ypos - 0.2, ymax = ypos + 0.2,\n",
    "          xmin = xmin, xmax = xmax,\n",
    "          fill = group)\n",
    "  ) +\n",
    "  geom_vline(data = data.frame(x = c(0,1)),\n",
    "             aes(xintercept = x),\n",
    "             linewidth = 0.2) +\n",
    "  scale_y_continuous(\n",
    "      breaks = y_label_pos$ypos,\n",
    "      labels = y_label_pos$label\n",
    "  ) +\n",
    "  scale_fill_manual(\n",
    "      breaks = c(\"mid\",\"neg\",\"pos\"),\n",
    "      values = c(\"orange\",\"lightskyblue\",\"orangered\")\n",
    "  ) +\n",
    "  facet_grid(\n",
    "      rows = vars(population),\n",
    "      cols = vars(treat_order)\n",
    "  ) +\n",
    "  theme_bw() +\n",
    "  theme(panel.border = element_blank(),\n",
    "        panel.grid = element_blank(),\n",
    "        axis.ticks = element_blank(),\n",
    "        axis.text.x = element_blank(),\n",
    "        axis.title = element_blank())\n",
    "p"
   ]
  },
  {
   "cell_type": "code",
   "execution_count": 12,
   "id": "2edae913-4e84-4efb-ae31-047ace8272de",
   "metadata": {
    "tags": []
   },
   "outputs": [],
   "source": [
    "out_file <- paste0(\"combinatorial_activation_barplots_\", Sys.Date(), \".pdf\")\n",
    "ggsave(\n",
    "    file.path(out_dir, out_file),\n",
    "    p,\n",
    "    width = 12, height = 6\n",
    ")"
   ]
  },
  {
   "cell_type": "code",
   "execution_count": 13,
   "id": "3ee6d1bf-ef4a-4e57-93e7-bf35c07df898",
   "metadata": {
    "tags": []
   },
   "outputs": [
    {
     "data": {
      "text/plain": [
       "R version 4.3.1 (2023-06-16)\n",
       "Platform: x86_64-conda-linux-gnu (64-bit)\n",
       "Running under: Ubuntu 20.04.6 LTS\n",
       "\n",
       "Matrix products: default\n",
       "BLAS/LAPACK: /opt/conda/lib/libopenblasp-r0.3.24.so;  LAPACK version 3.11.0\n",
       "\n",
       "locale:\n",
       " [1] LC_CTYPE=C.UTF-8       LC_NUMERIC=C           LC_TIME=C.UTF-8       \n",
       " [4] LC_COLLATE=C.UTF-8     LC_MONETARY=C.UTF-8    LC_MESSAGES=C.UTF-8   \n",
       " [7] LC_PAPER=C.UTF-8       LC_NAME=C              LC_ADDRESS=C          \n",
       "[10] LC_TELEPHONE=C         LC_MEASUREMENT=C.UTF-8 LC_IDENTIFICATION=C   \n",
       "\n",
       "time zone: Etc/UTC\n",
       "tzcode source: system (glibc)\n",
       "\n",
       "attached base packages:\n",
       "[1] stats     graphics  grDevices utils     datasets  methods   base     \n",
       "\n",
       "other attached packages:\n",
       "[1] ggplot2_3.4.3 purrr_1.0.2   dplyr_1.1.3  \n",
       "\n",
       "loaded via a namespace (and not attached):\n",
       " [1] gtable_0.3.4      jsonlite_1.8.7    compiler_4.3.1    crayon_1.5.2     \n",
       " [5] tidyselect_1.2.0  IRdisplay_1.1     systemfonts_1.0.4 scales_1.2.1     \n",
       " [9] textshaping_0.3.6 uuid_1.1-1        fastmap_1.1.1     IRkernel_1.3.2   \n",
       "[13] R6_2.5.1          labeling_0.4.3    generics_0.1.3    Cairo_1.6-1      \n",
       "[17] tibble_3.2.1      munsell_0.5.0     pillar_1.9.0      rlang_1.1.1      \n",
       "[21] utf8_1.2.3        repr_1.1.6.9000   cli_3.6.1         withr_2.5.1      \n",
       "[25] magrittr_2.0.3    digest_0.6.33     grid_4.3.1        base64enc_0.1-3  \n",
       "[29] pbdZMQ_0.3-10     lifecycle_1.0.3   vctrs_0.6.3       evaluate_0.21    \n",
       "[33] glue_1.6.2        farver_2.1.1      ragg_1.2.5        fansi_1.0.4      \n",
       "[37] colorspace_2.1-0  tools_4.3.1       pkgconfig_2.0.3   htmltools_0.5.6  "
      ]
     },
     "metadata": {},
     "output_type": "display_data"
    }
   ],
   "source": [
    "sessionInfo()"
   ]
  }
 ],
 "metadata": {
  "kernelspec": {
   "display_name": "R 4",
   "language": "R",
   "name": "ir4"
  },
  "language_info": {
   "codemirror_mode": "r",
   "file_extension": ".r",
   "mimetype": "text/x-r-source",
   "name": "R",
   "pygments_lexer": "r",
   "version": "4.3.1"
  }
 },
 "nbformat": 4,
 "nbformat_minor": 5
}
