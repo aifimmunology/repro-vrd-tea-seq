{
 "cells": [
  {
   "cell_type": "markdown",
   "id": "a0d87868-b65c-4046-91a4-830f72228efe",
   "metadata": {
    "tags": []
   },
   "source": [
    "# Supplementary Figure 5: Bortezomib in unfolded protein response\n",
    "\n",
    "In Supplementary Figure 5, we highlight differential expression of genes in Unfolded Protein Response (UPR) pathways. This gene set is curated from the Reactome gene set for UPR, and grouped based on the review by Rutkowski and Kaufman:\n",
    "\n",
    "Rutkowski, D. T. & Kaufman, R. J. That which does not kill me makes me stronger: adapting to chronic ER stress. Trends Biochem. Sci. 32, 469–476 (2007)"
   ]
  },
  {
   "cell_type": "markdown",
   "id": "45a7ddcb-d50a-443c-b147-c7bcfa81adf4",
   "metadata": {
    "tags": []
   },
   "source": [
    "## Load packages\n",
    "\n",
    "hise: The Human Immune System Explorer R SDK package  \n",
    "purrr: Functional programming tools  \n",
    "dplyr: Dataframe handling functions  \n",
    "ggplot2: plotting functions  \n",
    "cowplot: multi-panel plot assembly"
   ]
  },
  {
   "cell_type": "code",
   "execution_count": 1,
   "id": "6c21c38c-3afc-4e94-98a3-98602e1b22c7",
   "metadata": {
    "tags": []
   },
   "outputs": [],
   "source": [
    "quiet_library <- function(...) { suppressPackageStartupMessages(library(...)) }\n",
    "quiet_library(hise)\n",
    "quiet_library(purrr)\n",
    "quiet_library(dplyr)\n",
    "quiet_library(ggplot2)\n",
    "quiet_library(cowplot)"
   ]
  },
  {
   "cell_type": "code",
   "execution_count": 2,
   "id": "93b4cdaf-775d-4a7f-abfc-d9d887868a66",
   "metadata": {
    "tags": []
   },
   "outputs": [],
   "source": [
    "out_dir <- \"output/supp_figure_5\"\n",
    "if(!dir.exists(out_dir)) { dir.create(out_dir, recursive = TRUE) }"
   ]
  },
  {
   "cell_type": "markdown",
   "id": "bd60129c-d7ee-4c06-be0c-56f381aa4361",
   "metadata": {},
   "source": [
    "## Retrieve files\n",
    "\n",
    "Now, we'll use the HISE SDK package to retrieve the analysis results for MAST DEG tests, and will then filter those results for bortezomib conditions."
   ]
  },
  {
   "cell_type": "code",
   "execution_count": 3,
   "id": "b33b7d4c-a8b6-4112-a1e7-c42fe11ccdb7",
   "metadata": {
    "tags": []
   },
   "outputs": [],
   "source": [
    "deg_uuid <- list(\"fc83b89f-fd26-43b8-ac91-29c539703a45\")"
   ]
  },
  {
   "cell_type": "code",
   "execution_count": 4,
   "id": "3898cfa5-2f6e-41b5-abcd-fa5325d70d42",
   "metadata": {
    "tags": []
   },
   "outputs": [
    {
     "name": "stderr",
     "output_type": "stream",
     "text": [
      "submitting request as query ID first...\n",
      "\n",
      "retrieving files using fileIDS...\n",
      "\n"
     ]
    }
   ],
   "source": [
    "deg_fres <- cacheFiles(deg_uuid)\n",
    "deg_file <- list.files(\n",
    "    paste0(\"cache/\",deg_uuid),\n",
    "    recursive = TRUE, full.names = TRUE\n",
    ")"
   ]
  },
  {
   "cell_type": "code",
   "execution_count": 5,
   "id": "eec87e56-5a1f-4f36-b771-7161e1eee45c",
   "metadata": {
    "tags": []
   },
   "outputs": [],
   "source": [
    "all_deg <- read.csv(deg_file)"
   ]
  },
  {
   "cell_type": "code",
   "execution_count": 6,
   "id": "e29073c8-6cd9-4dff-8640-c14f528745c2",
   "metadata": {
    "tags": []
   },
   "outputs": [],
   "source": [
    "all_deg <- all_deg %>%\n",
    "  mutate(\n",
    "      direction_sign = ifelse(\n",
    "          is.na(logFC),\n",
    "          sign(coef_D),\n",
    "          sign(logFC)\n",
    "      ),\n",
    "      direction = ifelse(\n",
    "          direction_sign == 1,\n",
    "          \"up\", \"dn\"\n",
    "      )\n",
    "  )"
   ]
  },
  {
   "cell_type": "markdown",
   "id": "f5d42e17-4f7d-4e61-8971-a92542dfe219",
   "metadata": {},
   "source": [
    "Since there aren't significant DEGs for 4 hr Bortezomib treatment, we'll retain only 24 and 72 hour results for plotting."
   ]
  },
  {
   "cell_type": "code",
   "execution_count": 7,
   "id": "dba2b2de-0a8e-4bb9-9d19-01eb5693febe",
   "metadata": {
    "tags": []
   },
   "outputs": [],
   "source": [
    "deg <- all_deg %>%\n",
    "  filter(fg == \"bortezomib\",\n",
    "         timepoint %in% c(24, 72))"
   ]
  },
  {
   "cell_type": "code",
   "execution_count": 8,
   "id": "601889d6-4233-463d-bf31-0d24f310fba8",
   "metadata": {
    "tags": []
   },
   "outputs": [],
   "source": [
    "type_colors <- read.csv(\"../common/color_sets/aifi_cell_type_colors.csv\")"
   ]
  },
  {
   "cell_type": "markdown",
   "id": "632cc037-5f22-4697-96d7-1b70d2b3ee03",
   "metadata": {},
   "source": [
    "## UPR heatmap"
   ]
  },
  {
   "cell_type": "code",
   "execution_count": 9,
   "id": "65672473-868d-45aa-b492-0e1430a3bce8",
   "metadata": {
    "tags": []
   },
   "outputs": [],
   "source": [
    "upr_genes <- read.csv(\"../common/gene_sets/upr_genes.csv\")"
   ]
  },
  {
   "cell_type": "markdown",
   "id": "37e06fbe-18af-49f8-9140-21a3eeb3d623",
   "metadata": {},
   "source": [
    "For this plot, we'll retain only the UPR genes that are differentially expressed in at least one comparison. We'll also want to retain major regulators regardless of differential expression for context."
   ]
  },
  {
   "cell_type": "code",
   "execution_count": 10,
   "id": "3a463bdd-312c-4b28-8a0b-1e34602d188d",
   "metadata": {
    "tags": []
   },
   "outputs": [],
   "source": [
    "sig_upr_deg <- deg %>%\n",
    "  filter(gene %in% upr_genes$gene) %>%\n",
    "  filter(adjP < 0.01)"
   ]
  },
  {
   "cell_type": "code",
   "execution_count": 11,
   "id": "8713fe26-35d6-4226-a812-857c557e50a6",
   "metadata": {
    "tags": []
   },
   "outputs": [],
   "source": [
    "upr_genes <- upr_genes %>%\n",
    "  filter(gene %in% sig_upr_deg$gene | upr_pathway == \"Key regulators\") %>%\n",
    "  mutate(order = n():1) %>%\n",
    "  mutate(gene_ypos = order + y_offset)"
   ]
  },
  {
   "cell_type": "code",
   "execution_count": 12,
   "id": "f2d969d8-f2bf-4a5e-9dee-c00d61603ef3",
   "metadata": {
    "tags": []
   },
   "outputs": [
    {
     "data": {
      "text/html": [
       "56"
      ],
      "text/latex": [
       "56"
      ],
      "text/markdown": [
       "56"
      ],
      "text/plain": [
       "[1] 56"
      ]
     },
     "metadata": {},
     "output_type": "display_data"
    }
   ],
   "source": [
    "nrow(upr_genes)"
   ]
  },
  {
   "cell_type": "code",
   "execution_count": 13,
   "id": "df3af863-fe2b-425d-bb04-4d3e79cba0ea",
   "metadata": {
    "tags": []
   },
   "outputs": [],
   "source": [
    "plot_deg <- deg %>%\n",
    "  filter(gene %in% upr_genes$gene) %>%\n",
    "  left_join(upr_genes, by = c(\"gene\" = \"gene\"))"
   ]
  },
  {
   "cell_type": "code",
   "execution_count": 14,
   "id": "40ae7a00-fda6-4b1c-9281-e681de83e59c",
   "metadata": {
    "tags": []
   },
   "outputs": [
    {
     "name": "stderr",
     "output_type": "stream",
     "text": [
      "\u001b[1m\u001b[22mJoining with `by = join_by(aifi_cell_type)`\n"
     ]
    }
   ],
   "source": [
    "max_val <- 1.2\n",
    "\n",
    "type_pos <- type_colors %>%\n",
    "  filter(aifi_cell_type %in% plot_deg$aifi_cell_type) %>%\n",
    "  arrange(cell_type_xpos) %>%\n",
    "  mutate(cell_type_xpos = 1:n())\n",
    "\n",
    "type_plot_deg <- plot_deg %>%\n",
    "  mutate(treat_label = \"Bor/DMSO\") %>%\n",
    "  rename(aifi_cell_type = aifi_cell_type) %>%\n",
    "  left_join(type_pos) %>%\n",
    "  mutate(logFC = ifelse(\n",
    "      abs(logFC) > max_val | is.na(logFC),\n",
    "      max_val * direction_sign,\n",
    "      logFC\n",
    "  ))\n",
    "\n",
    "sig_plot_deg <- type_plot_deg %>%\n",
    "  filter(adjP < 0.01)\n",
    "\n",
    "h_guides <- data.frame(\n",
    "    y = setdiff(1:max(upr_genes$gene_ypos), upr_genes$gene_ypos)\n",
    ")"
   ]
  },
  {
   "cell_type": "code",
   "execution_count": 15,
   "id": "9cad7f06-99ee-402d-a624-1f6f09fbf6f5",
   "metadata": {
    "jp-MarkdownHeadingCollapsed": true,
    "tags": []
   },
   "outputs": [],
   "source": [
    "out_data <- file.path(out_dir, paste0(\"bortezomib_upr_data_\", Sys.Date(), \".csv\"))\n",
    "\n",
    "write.csv(\n",
    "    type_plot_deg,\n",
    "    out_data,\n",
    "    quote = FALSE, row.names = FALSE\n",
    ")"
   ]
  },
  {
   "cell_type": "code",
   "execution_count": 16,
   "id": "9244d6ac-d9ba-425a-a2a0-85b8b58b6bf1",
   "metadata": {
    "tags": []
   },
   "outputs": [
    {
     "data": {
      "text/html": [
       "<table class=\"dataframe\">\n",
       "<caption>A data.frame: 6 × 24</caption>\n",
       "<thead>\n",
       "\t<tr><th></th><th scope=col>aifi_cell_type</th><th scope=col>timepoint</th><th scope=col>fg</th><th scope=col>bg</th><th scope=col>n_sample</th><th scope=col>gene</th><th scope=col>coef_C</th><th scope=col>coef_D</th><th scope=col>logFC</th><th scope=col>nomP</th><th scope=col>⋯</th><th scope=col>alt_name</th><th scope=col>y_offset</th><th scope=col>y_pos</th><th scope=col>order</th><th scope=col>gene_ypos</th><th scope=col>treat_label</th><th scope=col>cell_type_label</th><th scope=col>cell_type_color</th><th scope=col>cell_type_xpos</th><th scope=col>cell_type_ypos</th></tr>\n",
       "\t<tr><th></th><th scope=col>&lt;chr&gt;</th><th scope=col>&lt;int&gt;</th><th scope=col>&lt;chr&gt;</th><th scope=col>&lt;chr&gt;</th><th scope=col>&lt;int&gt;</th><th scope=col>&lt;chr&gt;</th><th scope=col>&lt;dbl&gt;</th><th scope=col>&lt;dbl&gt;</th><th scope=col>&lt;dbl&gt;</th><th scope=col>&lt;dbl&gt;</th><th scope=col>⋯</th><th scope=col>&lt;chr&gt;</th><th scope=col>&lt;int&gt;</th><th scope=col>&lt;int&gt;</th><th scope=col>&lt;int&gt;</th><th scope=col>&lt;int&gt;</th><th scope=col>&lt;chr&gt;</th><th scope=col>&lt;chr&gt;</th><th scope=col>&lt;chr&gt;</th><th scope=col>&lt;int&gt;</th><th scope=col>&lt;int&gt;</th></tr>\n",
       "</thead>\n",
       "<tbody>\n",
       "\t<tr><th scope=row>1</th><td>t_cd4_cm</td><td>24</td><td>bortezomib</td><td>dmso</td><td>648</td><td>ACADVL  </td><td> 0.10974507</td><td> 1.17030410</td><td> 0.16816106</td><td>1.268284e-11</td><td>⋯</td><td></td><td>0</td><td>50</td><td>27</td><td>27</td><td>Bor/DMSO</td><td>CD4 CM</td><td>#00AEEF</td><td>2</td><td>6</td></tr>\n",
       "\t<tr><th scope=row>2</th><td>t_cd4_cm</td><td>24</td><td>bortezomib</td><td>dmso</td><td>648</td><td>ADD1    </td><td>-0.01612753</td><td> 0.31371079</td><td> 0.09959141</td><td>2.549561e-02</td><td>⋯</td><td></td><td>0</td><td>49</td><td>26</td><td>26</td><td>Bor/DMSO</td><td>CD4 CM</td><td>#00AEEF</td><td>2</td><td>6</td></tr>\n",
       "\t<tr><th scope=row>3</th><td>t_cd4_cm</td><td>24</td><td>bortezomib</td><td>dmso</td><td>648</td><td>ATF4    </td><td> 0.03578264</td><td> 0.02971956</td><td> 0.01806443</td><td>3.894864e-01</td><td>⋯</td><td></td><td>2</td><td>62</td><td>35</td><td>37</td><td>Bor/DMSO</td><td>CD4 CM</td><td>#00AEEF</td><td>2</td><td>6</td></tr>\n",
       "\t<tr><th scope=row>4</th><td>t_cd4_cm</td><td>24</td><td>bortezomib</td><td>dmso</td><td>648</td><td>ATF6    </td><td> 0.07217600</td><td> 0.31740758</td><td> 0.15760344</td><td>1.316519e-03</td><td>⋯</td><td></td><td>4</td><td>94</td><td>56</td><td>60</td><td>Bor/DMSO</td><td>CD4 CM</td><td>#00AEEF</td><td>2</td><td>6</td></tr>\n",
       "\t<tr><th scope=row>5</th><td>t_cd4_cm</td><td>24</td><td>bortezomib</td><td>dmso</td><td>648</td><td>ATP6V0D1</td><td>-0.06389532</td><td>-0.10177899</td><td>-0.01555072</td><td>2.707261e-01</td><td>⋯</td><td></td><td>0</td><td>47</td><td>24</td><td>24</td><td>Bor/DMSO</td><td>CD4 CM</td><td>#00AEEF</td><td>2</td><td>6</td></tr>\n",
       "\t<tr><th scope=row>6</th><td>t_cd4_cm</td><td>24</td><td>bortezomib</td><td>dmso</td><td>648</td><td>CALR    </td><td>-0.02492160</td><td>-0.13081358</td><td>-0.04264441</td><td>3.958763e-01</td><td>⋯</td><td></td><td>1</td><td>56</td><td>30</td><td>31</td><td>Bor/DMSO</td><td>CD4 CM</td><td>#00AEEF</td><td>2</td><td>6</td></tr>\n",
       "</tbody>\n",
       "</table>\n"
      ],
      "text/latex": [
       "A data.frame: 6 × 24\n",
       "\\begin{tabular}{r|lllllllllllllllllllll}\n",
       "  & aifi\\_cell\\_type & timepoint & fg & bg & n\\_sample & gene & coef\\_C & coef\\_D & logFC & nomP & ⋯ & alt\\_name & y\\_offset & y\\_pos & order & gene\\_ypos & treat\\_label & cell\\_type\\_label & cell\\_type\\_color & cell\\_type\\_xpos & cell\\_type\\_ypos\\\\\n",
       "  & <chr> & <int> & <chr> & <chr> & <int> & <chr> & <dbl> & <dbl> & <dbl> & <dbl> & ⋯ & <chr> & <int> & <int> & <int> & <int> & <chr> & <chr> & <chr> & <int> & <int>\\\\\n",
       "\\hline\n",
       "\t1 & t\\_cd4\\_cm & 24 & bortezomib & dmso & 648 & ACADVL   &  0.10974507 &  1.17030410 &  0.16816106 & 1.268284e-11 & ⋯ &  & 0 & 50 & 27 & 27 & Bor/DMSO & CD4 CM & \\#00AEEF & 2 & 6\\\\\n",
       "\t2 & t\\_cd4\\_cm & 24 & bortezomib & dmso & 648 & ADD1     & -0.01612753 &  0.31371079 &  0.09959141 & 2.549561e-02 & ⋯ &  & 0 & 49 & 26 & 26 & Bor/DMSO & CD4 CM & \\#00AEEF & 2 & 6\\\\\n",
       "\t3 & t\\_cd4\\_cm & 24 & bortezomib & dmso & 648 & ATF4     &  0.03578264 &  0.02971956 &  0.01806443 & 3.894864e-01 & ⋯ &  & 2 & 62 & 35 & 37 & Bor/DMSO & CD4 CM & \\#00AEEF & 2 & 6\\\\\n",
       "\t4 & t\\_cd4\\_cm & 24 & bortezomib & dmso & 648 & ATF6     &  0.07217600 &  0.31740758 &  0.15760344 & 1.316519e-03 & ⋯ &  & 4 & 94 & 56 & 60 & Bor/DMSO & CD4 CM & \\#00AEEF & 2 & 6\\\\\n",
       "\t5 & t\\_cd4\\_cm & 24 & bortezomib & dmso & 648 & ATP6V0D1 & -0.06389532 & -0.10177899 & -0.01555072 & 2.707261e-01 & ⋯ &  & 0 & 47 & 24 & 24 & Bor/DMSO & CD4 CM & \\#00AEEF & 2 & 6\\\\\n",
       "\t6 & t\\_cd4\\_cm & 24 & bortezomib & dmso & 648 & CALR     & -0.02492160 & -0.13081358 & -0.04264441 & 3.958763e-01 & ⋯ &  & 1 & 56 & 30 & 31 & Bor/DMSO & CD4 CM & \\#00AEEF & 2 & 6\\\\\n",
       "\\end{tabular}\n"
      ],
      "text/markdown": [
       "\n",
       "A data.frame: 6 × 24\n",
       "\n",
       "| <!--/--> | aifi_cell_type &lt;chr&gt; | timepoint &lt;int&gt; | fg &lt;chr&gt; | bg &lt;chr&gt; | n_sample &lt;int&gt; | gene &lt;chr&gt; | coef_C &lt;dbl&gt; | coef_D &lt;dbl&gt; | logFC &lt;dbl&gt; | nomP &lt;dbl&gt; | ⋯ ⋯ | alt_name &lt;chr&gt; | y_offset &lt;int&gt; | y_pos &lt;int&gt; | order &lt;int&gt; | gene_ypos &lt;int&gt; | treat_label &lt;chr&gt; | cell_type_label &lt;chr&gt; | cell_type_color &lt;chr&gt; | cell_type_xpos &lt;int&gt; | cell_type_ypos &lt;int&gt; |\n",
       "|---|---|---|---|---|---|---|---|---|---|---|---|---|---|---|---|---|---|---|---|---|---|\n",
       "| 1 | t_cd4_cm | 24 | bortezomib | dmso | 648 | ACADVL   |  0.10974507 |  1.17030410 |  0.16816106 | 1.268284e-11 | ⋯ | <!----> | 0 | 50 | 27 | 27 | Bor/DMSO | CD4 CM | #00AEEF | 2 | 6 |\n",
       "| 2 | t_cd4_cm | 24 | bortezomib | dmso | 648 | ADD1     | -0.01612753 |  0.31371079 |  0.09959141 | 2.549561e-02 | ⋯ | <!----> | 0 | 49 | 26 | 26 | Bor/DMSO | CD4 CM | #00AEEF | 2 | 6 |\n",
       "| 3 | t_cd4_cm | 24 | bortezomib | dmso | 648 | ATF4     |  0.03578264 |  0.02971956 |  0.01806443 | 3.894864e-01 | ⋯ | <!----> | 2 | 62 | 35 | 37 | Bor/DMSO | CD4 CM | #00AEEF | 2 | 6 |\n",
       "| 4 | t_cd4_cm | 24 | bortezomib | dmso | 648 | ATF6     |  0.07217600 |  0.31740758 |  0.15760344 | 1.316519e-03 | ⋯ | <!----> | 4 | 94 | 56 | 60 | Bor/DMSO | CD4 CM | #00AEEF | 2 | 6 |\n",
       "| 5 | t_cd4_cm | 24 | bortezomib | dmso | 648 | ATP6V0D1 | -0.06389532 | -0.10177899 | -0.01555072 | 2.707261e-01 | ⋯ | <!----> | 0 | 47 | 24 | 24 | Bor/DMSO | CD4 CM | #00AEEF | 2 | 6 |\n",
       "| 6 | t_cd4_cm | 24 | bortezomib | dmso | 648 | CALR     | -0.02492160 | -0.13081358 | -0.04264441 | 3.958763e-01 | ⋯ | <!----> | 1 | 56 | 30 | 31 | Bor/DMSO | CD4 CM | #00AEEF | 2 | 6 |\n",
       "\n"
      ],
      "text/plain": [
       "  aifi_cell_type timepoint fg         bg   n_sample gene     coef_C     \n",
       "1 t_cd4_cm       24        bortezomib dmso 648      ACADVL    0.10974507\n",
       "2 t_cd4_cm       24        bortezomib dmso 648      ADD1     -0.01612753\n",
       "3 t_cd4_cm       24        bortezomib dmso 648      ATF4      0.03578264\n",
       "4 t_cd4_cm       24        bortezomib dmso 648      ATF6      0.07217600\n",
       "5 t_cd4_cm       24        bortezomib dmso 648      ATP6V0D1 -0.06389532\n",
       "6 t_cd4_cm       24        bortezomib dmso 648      CALR     -0.02492160\n",
       "  coef_D      logFC       nomP         ⋯ alt_name y_offset y_pos order\n",
       "1  1.17030410  0.16816106 1.268284e-11 ⋯          0        50    27   \n",
       "2  0.31371079  0.09959141 2.549561e-02 ⋯          0        49    26   \n",
       "3  0.02971956  0.01806443 3.894864e-01 ⋯          2        62    35   \n",
       "4  0.31740758  0.15760344 1.316519e-03 ⋯          4        94    56   \n",
       "5 -0.10177899 -0.01555072 2.707261e-01 ⋯          0        47    24   \n",
       "6 -0.13081358 -0.04264441 3.958763e-01 ⋯          1        56    30   \n",
       "  gene_ypos treat_label cell_type_label cell_type_color cell_type_xpos\n",
       "1 27        Bor/DMSO    CD4 CM          #00AEEF         2             \n",
       "2 26        Bor/DMSO    CD4 CM          #00AEEF         2             \n",
       "3 37        Bor/DMSO    CD4 CM          #00AEEF         2             \n",
       "4 60        Bor/DMSO    CD4 CM          #00AEEF         2             \n",
       "5 24        Bor/DMSO    CD4 CM          #00AEEF         2             \n",
       "6 31        Bor/DMSO    CD4 CM          #00AEEF         2             \n",
       "  cell_type_ypos\n",
       "1 6             \n",
       "2 6             \n",
       "3 6             \n",
       "4 6             \n",
       "5 6             \n",
       "6 6             "
      ]
     },
     "metadata": {},
     "output_type": "display_data"
    }
   ],
   "source": [
    "head(type_plot_deg)"
   ]
  },
  {
   "cell_type": "code",
   "execution_count": 17,
   "id": "a36adf47-d5a9-4513-95ee-faea431502b4",
   "metadata": {
    "tags": []
   },
   "outputs": [],
   "source": [
    "all_pos <- expand.grid(\n",
    "    gene_ypos = upr_genes$gene_ypos,\n",
    "    cell_type_xpos = type_pos$cell_type_xpos,\n",
    "    timepoint = c(24, 72)\n",
    ")\n",
    "missing_pos <- all_pos %>%\n",
    "  filter(!paste(gene_ypos, cell_type_xpos, timepoint) %in% \n",
    "          paste(type_plot_deg$gene_ypos, type_plot_deg$cell_type_xpos, type_plot_deg$timepoint))"
   ]
  },
  {
   "cell_type": "code",
   "execution_count": 18,
   "id": "4f243d31-0ab9-4414-8f90-2840af38d719",
   "metadata": {
    "tags": []
   },
   "outputs": [
    {
     "data": {
      "image/png": "[encoded data removed]",
      "text/plain": [
       "plot without title"
      ]
     },
     "metadata": {
      "image/png": {
       "height": 360,
       "width": 150
      }
     },
     "output_type": "display_data"
    }
   ],
   "source": [
    "options(repr.plot.width = 2.5, repr.plot.height = 6)\n",
    "\n",
    "upr_plot <- ggplot() +\n",
    "  geom_hline(data = h_guides,\n",
    "             aes(yintercept = y)) +\n",
    "  geom_rect(\n",
    "      data = type_plot_deg,\n",
    "      aes(xmin = cell_type_xpos - 0.5, xmax = cell_type_xpos + 0.5,\n",
    "          ymin = gene_ypos - 0.5,\n",
    "          ymax = gene_ypos + 0.5,\n",
    "          fill = logFC),\n",
    "      color = \"black\",\n",
    "      linewidth = 0.2\n",
    "  ) +\n",
    "  geom_rect(\n",
    "      data = missing_pos,\n",
    "      aes(xmin = cell_type_xpos - 0.5, xmax = cell_type_xpos + 0.5,\n",
    "          ymin = gene_ypos - 0.5,\n",
    "          ymax = gene_ypos + 0.5),\n",
    "      fill = \"gray80\",\n",
    "      color = \"black\",\n",
    "      linewidth = 0.2\n",
    "  ) +  \n",
    "  geom_point(\n",
    "      data = sig_plot_deg,\n",
    "      aes(x = cell_type_xpos,\n",
    "          y = gene_ypos),\n",
    "      color = \"black\",\n",
    "      shape = 16,\n",
    "      size = 0.5\n",
    "  ) +\n",
    "  scale_fill_gradient2(\n",
    "      low = \"darkblue\",\n",
    "      mid = \"white\",\n",
    "      high = \"darkred\",\n",
    "      limits = c(-max_val, max_val)\n",
    "  ) +\n",
    "  scale_y_continuous(\n",
    "      \"\",\n",
    "      breaks = upr_genes$gene_ypos,\n",
    "      labels = upr_genes$gene,\n",
    "      expand = c(0,0)\n",
    "  ) +\n",
    "  scale_x_continuous(\n",
    "      \"\",\n",
    "      limits = c(0.5,6.5),\n",
    "      breaks = type_pos$cell_type_xpos,\n",
    "      labels = type_pos$cell_type_label,\n",
    "      expand = c(0,0)\n",
    "  ) +\n",
    "  facet_grid(\n",
    "      cols = vars(timepoint)\n",
    "  ) + \n",
    "  theme_bw(base_size = 7) +\n",
    "  theme(axis.text.x = element_text(angle = 90, hjust = 1, vjust = 0.3),\n",
    "        axis.ticks = element_blank(),\n",
    "        strip.background = element_blank(),\n",
    "        panel.grid = element_blank())\n",
    "\n",
    "upr_plot"
   ]
  },
  {
   "cell_type": "code",
   "execution_count": 19,
   "id": "f8823677-4554-4f6c-a8d8-0dc888e60f43",
   "metadata": {
    "jp-MarkdownHeadingCollapsed": true,
    "tags": []
   },
   "outputs": [],
   "source": [
    "out_plot <- file.path(out_dir, paste0(\"bortezomib_upr_heatmap_\", Sys.Date(), \".pdf\"))\n",
    "\n",
    "ggsave(\n",
    "    out_plot,\n",
    "    upr_plot,\n",
    "    width = 2.5, height = 6\n",
    ")"
   ]
  },
  {
   "cell_type": "markdown",
   "id": "72b0b226-d015-4d6c-881a-6db940a8d909",
   "metadata": {},
   "source": [
    "# Store results in HISE\n",
    "\n",
    "Finally, we store the output file in our Collaboration Space for later retrieval and use. We need to provide the UUID for our Collaboration Space (aka `studySpaceId`), as well as a title for this step in our analysis process.\n",
    "\n",
    "The hise function `uploadFiles()` also requires the FileIDs from the original fileset for reference."
   ]
  },
  {
   "cell_type": "code",
   "execution_count": 20,
   "id": "a326dfb7-6448-4fde-acb2-a16f656aa647",
   "metadata": {
    "tags": []
   },
   "outputs": [],
   "source": [
    "study_space_uuid <- \"40df6403-29f0-4b45-ab7d-f46d420c422e\"\n",
    "title <- paste(\"VRd TEA-seq Supp Fig 5\", Sys.Date())"
   ]
  },
  {
   "cell_type": "code",
   "execution_count": 21,
   "id": "61df9beb-c72b-4eea-bff6-6633de82ba4c",
   "metadata": {
    "tags": []
   },
   "outputs": [],
   "source": [
    "out_list <- as.list(c(out_data, out_plot))"
   ]
  },
  {
   "cell_type": "code",
   "execution_count": 22,
   "id": "5f534e6d-feab-464b-ac30-bb5131507ca8",
   "metadata": {
    "tags": []
   },
   "outputs": [
    {
     "data": {
      "text/html": [
       "<ol>\n",
       "\t<li>'output/supp_figure_5/bortezomib_upr_data_2023-10-27.csv'</li>\n",
       "\t<li>'output/supp_figure_5/bortezomib_upr_heatmap_2023-10-27.pdf'</li>\n",
       "</ol>\n"
      ],
      "text/latex": [
       "\\begin{enumerate}\n",
       "\\item 'output/supp\\_figure\\_5/bortezomib\\_upr\\_data\\_2023-10-27.csv'\n",
       "\\item 'output/supp\\_figure\\_5/bortezomib\\_upr\\_heatmap\\_2023-10-27.pdf'\n",
       "\\end{enumerate}\n"
      ],
      "text/markdown": [
       "1. 'output/supp_figure_5/bortezomib_upr_data_2023-10-27.csv'\n",
       "2. 'output/supp_figure_5/bortezomib_upr_heatmap_2023-10-27.pdf'\n",
       "\n",
       "\n"
      ],
      "text/plain": [
       "[[1]]\n",
       "[1] \"output/supp_figure_5/bortezomib_upr_data_2023-10-27.csv\"\n",
       "\n",
       "[[2]]\n",
       "[1] \"output/supp_figure_5/bortezomib_upr_heatmap_2023-10-27.pdf\"\n"
      ]
     },
     "metadata": {},
     "output_type": "display_data"
    }
   ],
   "source": [
    "out_list"
   ]
  },
  {
   "cell_type": "code",
   "execution_count": 23,
   "id": "417e2fb3-a931-4162-84a4-40e7bea78222",
   "metadata": {
    "tags": []
   },
   "outputs": [
    {
     "ename": "ERROR",
     "evalue": "Error: Request to https://allenimmunology.org/tracer/trace failed. Status: 400 Bad Request, Message: \"Invalid trace title: Title \\\"VRd TEA-seq Supp Fig 5 2023-10-27\\\" is not unique\"\n",
     "output_type": "error",
     "traceback": [
      "Error: Request to https://allenimmunology.org/tracer/trace failed. Status: 400 Bad Request, Message: \"Invalid trace title: Title \\\"VRd TEA-seq Supp Fig 5 2023-10-27\\\" is not unique\"\nTraceback:\n",
      "1. uploadFiles(files = out_list, studySpaceId = study_space_uuid, \n .     title = title, inputFileIds = deg_uuid, store = \"project\", \n .     doPrompt = FALSE)",
      "2. parseHISEResponse(doPost(url, payload, encode = encode))",
      "3. httr::content(resp, as = \"text\", encoding = \"UTF-8\")",
      "4. stopifnot(is.response(x))",
      "5. is.response(x)",
      "6. doPost(url, payload, encode = encode)",
      "7. ohNo(res)",
      "8. stop(err$Message, call. = FALSE)"
     ]
    }
   ],
   "source": [
    "uploadFiles(\n",
    "    files = out_list,\n",
    "    studySpaceId = study_space_uuid,\n",
    "    title = title,\n",
    "    inputFileIds = deg_uuid,\n",
    "    store = \"project\",\n",
    "    doPrompt = FALSE\n",
    ")"
   ]
  },
  {
   "cell_type": "code",
   "execution_count": null,
   "id": "0d232be5-42da-47a4-b0be-f38f194b4a1c",
   "metadata": {
    "tags": []
   },
   "outputs": [],
   "source": [
    "sessionInfo()"
   ]
  },
  {
   "cell_type": "code",
   "execution_count": null,
   "id": "4572a315-30f7-45c7-b3d3-65d287453f42",
   "metadata": {},
   "outputs": [],
   "source": []
  }
 ],
 "metadata": {
  "kernelspec": {
   "display_name": "R 4",
   "language": "R",
   "name": "ir4"
  },
  "language_info": {
   "codemirror_mode": "r",
   "file_extension": ".r",
   "mimetype": "text/x-r-source",
   "name": "R",
   "pygments_lexer": "r",
   "version": "4.3.1"
  }
 },
 "nbformat": 4,
 "nbformat_minor": 5
}
