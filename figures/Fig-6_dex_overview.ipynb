{
 "cells": [
  {
   "cell_type": "markdown",
   "id": "7f6eb3a2-ab20-4325-9cf8-71c22e4f1240",
   "metadata": {
    "tags": []
   },
   "source": [
    "# Figure 4\n",
    "\n",
    "In this notebook, we'll generate figure panels for use in Figure 4, the overview of Dexamethasone treatment results.\n",
    "\n",
    "For the UMAP plots, see the notebook for Figure 1. In this notebook, we'll generate the differential result barplots, Hallmark Pathway heatmaps, and motif enrichment volcano plots."
   ]
  },
  {
   "cell_type": "markdown",
   "id": "723f5449-4ce9-4500-8002-2d51566b944d",
   "metadata": {
    "tags": []
   },
   "source": [
    "## Load packages\n",
    "\n",
    "hise: The Human Immune System Explorer R SDK package  \n",
    "purrr: Functional programming tools  \n",
    "dplyr: Dataframe handling functions  \n",
    "ggplot2: plotting functions  \n",
    "cowplot: multi-panel plot assembly"
   ]
  },
  {
   "cell_type": "code",
   "execution_count": null,
   "id": "0abd03ed-c1d1-4319-aac5-1282289d1d4a",
   "metadata": {
    "tags": []
   },
   "outputs": [],
   "source": [
    "quiet_library <- function(...) { suppressPackageStartupMessages(library(...)) }\n",
    "quiet_library(hise)\n",
    "quiet_library(purrr)\n",
    "quiet_library(dplyr)\n",
    "quiet_library(ggplot2)\n",
    "quiet_library(ggrastr)\n",
    "quiet_library(cowplot)"
   ]
  },
  {
   "cell_type": "code",
   "execution_count": null,
   "id": "fe0958cf-b545-43bd-bd4e-52f4fc17f311",
   "metadata": {
    "tags": []
   },
   "outputs": [],
   "source": [
    "out_dir <- \"output/figure_6\"\n",
    "if(!dir.exists(out_dir)) { dir.create(out_dir, recursive = TRUE) }"
   ]
  },
  {
   "cell_type": "markdown",
   "id": "68063f5d-e745-419d-989c-75b9f3bf9089",
   "metadata": {},
   "source": [
    "## Retrieve files\n",
    "\n",
    "Now, we'll use the HISE SDK package to retrieve the analysis results for DEG, Hallmark Pathway enrichment, and motif enrichment."
   ]
  },
  {
   "cell_type": "markdown",
   "id": "7d428cc5-1799-4b77-8be9-c7b051d945d9",
   "metadata": {},
   "source": [
    "DEG: Differentially expressed genes"
   ]
  },
  {
   "cell_type": "code",
   "execution_count": null,
   "id": "a8b0d458-a4d1-4e56-9ae1-464777253a85",
   "metadata": {
    "tags": []
   },
   "outputs": [],
   "source": [
    "deg_uuid <- list(\"fc83b89f-fd26-43b8-ac91-29c539703a45\")"
   ]
  },
  {
   "cell_type": "code",
   "execution_count": null,
   "id": "dce41590-189f-40ba-b50b-a5b69ee2b77d",
   "metadata": {
    "tags": []
   },
   "outputs": [],
   "source": [
    "deg_fres <- cacheFiles(deg_uuid)\n",
    "deg_file <- list.files(\n",
    "    paste0(\"cache/\",deg_uuid),\n",
    "    recursive = TRUE, full.names = TRUE\n",
    ")"
   ]
  },
  {
   "cell_type": "markdown",
   "id": "ec110281-1767-4e2b-864a-8458800d3a41",
   "metadata": {},
   "source": [
    "DEP: Differentially expressed proteins (ADT)"
   ]
  },
  {
   "cell_type": "code",
   "execution_count": null,
   "id": "e77ec610-45ca-494d-a8c3-8f847673a5dc",
   "metadata": {
    "tags": []
   },
   "outputs": [],
   "source": [
    "dep_uuid <- list(\"4cbaa9ab-f8ef-495d-ac5e-1f1d99d33e33\")"
   ]
  },
  {
   "cell_type": "code",
   "execution_count": null,
   "id": "47b9fefb-7d7e-45c3-a1c1-d30ab5096e92",
   "metadata": {
    "tags": []
   },
   "outputs": [],
   "source": [
    "dep_fres <- cacheFiles(dep_uuid)\n",
    "dep_file <- list.files(\n",
    "    paste0(\"cache/\",dep_uuid),\n",
    "    recursive = TRUE, full.names = TRUE\n",
    ")"
   ]
  },
  {
   "cell_type": "markdown",
   "id": "97394026-3176-4240-93ca-858a57e7ed9b",
   "metadata": {},
   "source": [
    "DAP: Differentially accessible peaks (ATAC)"
   ]
  },
  {
   "cell_type": "code",
   "execution_count": null,
   "id": "7d4abb3c-1f0f-4ce7-a8d0-cb876eeafd9a",
   "metadata": {
    "tags": []
   },
   "outputs": [],
   "source": [
    "dap_uuid <- list(\"f2acae35-2e36-4885-970f-1e45f69ac3b8\")"
   ]
  },
  {
   "cell_type": "code",
   "execution_count": null,
   "id": "7a929a0d-5219-405c-a01b-7e7f6bdc0b1f",
   "metadata": {
    "tags": []
   },
   "outputs": [],
   "source": [
    "dap_fres <- cacheFiles(dap_uuid)\n",
    "dap_file <- list.files(\n",
    "    paste0(\"cache/\",dap_uuid),\n",
    "    recursive = TRUE, full.names = TRUE\n",
    ")"
   ]
  },
  {
   "cell_type": "code",
   "execution_count": null,
   "id": "0d60c863-8c25-44c4-b27f-09b485723ca5",
   "metadata": {
    "tags": []
   },
   "outputs": [],
   "source": [
    "hallmark_uuid <- list(\"4f05f2a0-59d2-4d04-b948-70d541613e71\")"
   ]
  },
  {
   "cell_type": "code",
   "execution_count": null,
   "id": "90e73c74-d36e-4616-b4b6-b76d681da660",
   "metadata": {
    "tags": []
   },
   "outputs": [],
   "source": [
    "hallmark_fres <- cacheFiles(hallmark_uuid)\n",
    "hallmark_file <- list.files(\n",
    "    paste0(\"cache/\",hallmark_uuid),\n",
    "    recursive = TRUE, full.names = TRUE\n",
    ")"
   ]
  },
  {
   "cell_type": "code",
   "execution_count": null,
   "id": "1031d581-16fd-4626-95fd-c1ea95927ae1",
   "metadata": {
    "tags": []
   },
   "outputs": [],
   "source": [
    "dem_uuid <- list(\"af70c9a6-7d73-46bd-a719-f5a3c410ed15\")"
   ]
  },
  {
   "cell_type": "code",
   "execution_count": null,
   "id": "1fb54ad2-a268-478e-9b0f-3b293b33e5d4",
   "metadata": {
    "tags": []
   },
   "outputs": [],
   "source": [
    "dem_fres <- cacheFiles(dem_uuid)\n",
    "dem_file <- list.files(\n",
    "    paste0(\"cache/\",dem_uuid),\n",
    "    recursive = TRUE, full.names = TRUE\n",
    ")"
   ]
  },
  {
   "cell_type": "markdown",
   "id": "905ba75c-cee6-49d1-b1cd-02fbfb4fad96",
   "metadata": {},
   "source": [
    "## Differential expression barplots"
   ]
  },
  {
   "cell_type": "markdown",
   "id": "1c3e4bb5-03ed-442a-9d02-7ff638f976ba",
   "metadata": {},
   "source": [
    "### DEG Barplots"
   ]
  },
  {
   "cell_type": "code",
   "execution_count": null,
   "id": "dd332feb-cf34-4252-8371-e2c5c224c0e3",
   "metadata": {
    "tags": []
   },
   "outputs": [],
   "source": [
    "fdr_cutoff <- 0.05"
   ]
  },
  {
   "cell_type": "code",
   "execution_count": null,
   "id": "b8a3a874-f7f0-4a39-9301-5643d845be34",
   "metadata": {
    "tags": []
   },
   "outputs": [],
   "source": [
    "type_colors <- read.csv(\"../common/color_sets/aifi_cell_type_colors.csv\")"
   ]
  },
  {
   "cell_type": "code",
   "execution_count": null,
   "id": "5de04188-a014-49b0-9b04-50eadc11005f",
   "metadata": {
    "tags": []
   },
   "outputs": [],
   "source": [
    "all_deg <- read.csv(deg_file)"
   ]
  },
  {
   "cell_type": "code",
   "execution_count": null,
   "id": "1373c9cb-ce1c-45b2-bda7-5a7353fe6a4a",
   "metadata": {
    "tags": []
   },
   "outputs": [],
   "source": [
    "all_deg <- all_deg %>%\n",
    "  mutate(\n",
    "      direction_sign = ifelse(\n",
    "          is.na(logFC),\n",
    "          sign(coef_D),\n",
    "          sign(logFC)\n",
    "      ),\n",
    "      direction = ifelse(\n",
    "          direction_sign == 1,\n",
    "          \"up\", \"dn\"\n",
    "      )\n",
    "  )"
   ]
  },
  {
   "cell_type": "code",
   "execution_count": null,
   "id": "6e3588a7-c440-423c-a329-18542f647f59",
   "metadata": {
    "tags": []
   },
   "outputs": [],
   "source": [
    "all_deg <- all_deg %>%\n",
    "  filter(fg == \"dexamethasone\")"
   ]
  },
  {
   "cell_type": "code",
   "execution_count": null,
   "id": "ba225a45-c85b-4311-9b36-7f0baafc20a0",
   "metadata": {
    "tags": []
   },
   "outputs": [],
   "source": [
    "deg_summary <- all_deg %>%\n",
    "  group_by(fg, timepoint, aifi_cell_type, n_sample) %>%\n",
    "  summarise(n_sig = sum(adjP < fdr_cutoff),\n",
    "            n_up = sum(adjP < fdr_cutoff & direction == \"up\"),\n",
    "            n_dn = sum(adjP < fdr_cutoff & direction == \"dn\"),\n",
    "            .groups = \"keep\")"
   ]
  },
  {
   "cell_type": "code",
   "execution_count": null,
   "id": "49b71adc-1717-4666-9d5f-8ca9e0e4dd5f",
   "metadata": {
    "tags": []
   },
   "outputs": [],
   "source": [
    "plot_data <- deg_summary %>%\n",
    "  rename(aifi_cell_type = aifi_cell_type) %>%\n",
    "  left_join(type_colors) %>%\n",
    "  mutate(treat_time = paste0(fg,\"_\",timepoint)) %>%\n",
    "  group_by(fg) %>%\n",
    "  mutate(max_val = max(c(n_up, n_dn))) %>%\n",
    "  ungroup()"
   ]
  },
  {
   "cell_type": "code",
   "execution_count": null,
   "id": "199a1ed4-2ad5-4011-a00c-a6142adb0702",
   "metadata": {
    "tags": []
   },
   "outputs": [],
   "source": [
    "plot_data %>%\n",
    "  filter(fg == \"dexamethasone\",\n",
    "         aifi_cell_type == \"t_cd4_naive\")"
   ]
  },
  {
   "cell_type": "code",
   "execution_count": null,
   "id": "d30daa04-1630-49d7-b798-76db60dea4a7",
   "metadata": {},
   "outputs": [],
   "source": [
    "write.csv(\n",
    "    plot_data,\n",
    "    file.path(out_dir, paste0(\"dexamethasone_deg_summary_data_\", Sys.Date(), \".csv\")),\n",
    "    quote = FALSE,\n",
    "    row.names = FALSE\n",
    ")"
   ]
  },
  {
   "cell_type": "code",
   "execution_count": null,
   "id": "fbd3f4b4-6f35-4a19-be9f-ee8bf6b611ee",
   "metadata": {
    "tags": []
   },
   "outputs": [],
   "source": [
    "options(repr.plot.width = 12, repr.plot.height = 4)\n",
    "treat_plots <- map(\n",
    "    treat_times,\n",
    "    function(tt) {\n",
    "                \n",
    "        pd <- plot_data %>%\n",
    "          filter(treat_time == tt)\n",
    "        \n",
    "        x_max <- pd$max_val[1]\n",
    "        x_min <- -1 * x_max\n",
    "        x_breaks <- unique(c(seq(signif(x_min, 1), 0, length.out = 3),\n",
    "                             seq(0, signif(x_max, 1), length.out = 3)))\n",
    "        \n",
    "        timepoint <- pd$timepoint[1]\n",
    "        pd_max <- max(max(pd$n_dn), max(pd$n_up))\n",
    "        if(pd_max < 100) {\n",
    "            pd_max <- 100\n",
    "        }\n",
    "        \n",
    "        up_pd <- pd %>%\n",
    "          mutate(xmin = 0, xmax = n_up,\n",
    "                 fill = \"orangered\")\n",
    "        dn_pd <- pd %>%\n",
    "          mutate(xmin = -1 * n_dn, xmax = 0,\n",
    "                 fill = \"dodgerblue\")\n",
    "        \n",
    "        pd <- rbind(up_pd, dn_pd)\n",
    "        \n",
    "        plot_ypos <- pd %>%\n",
    "          select(aifi_cell_type, cell_type_label, \n",
    "                 cell_type_color, cell_type_ypos, \n",
    "                 n_sample, n_sig) %>%\n",
    "          unique()\n",
    "        \n",
    "        p <- ggplot()\n",
    "        \n",
    "        if(timepoint == 4) {\n",
    "            x_lim <- c(x_min * 3.5, x_max * 1.1)\n",
    "            \n",
    "            p <- p + geom_rect(data = plot_ypos,\n",
    "                    aes(ymin = cell_type_ypos - 0.5, ymax = cell_type_ypos + 0.5,\n",
    "                        xmin = x_min * 3.5, xmax = x_min * 1.1,\n",
    "                        fill = cell_type_color),\n",
    "                    alpha = 0.8) +\n",
    "            geom_text(data = plot_ypos,\n",
    "                    aes(x = x_min * 1.6, y = cell_type_ypos,\n",
    "                        label = cell_type_label),\n",
    "                    hjust = 1,\n",
    "                    vjust = 0.5) +\n",
    "            geom_text(data = plot_ypos,\n",
    "                    aes(x = x_min * 1.2, y = cell_type_ypos,\n",
    "                        label = n_sample),\n",
    "                    hjust = 1)\n",
    "            \n",
    "        } else {\n",
    "            x_lim <- c(x_min * 1.1, x_max * 1.1)\n",
    "        }\n",
    "        p <- p +\n",
    "          geom_rect(data = plot_ypos,\n",
    "                    aes(ymin = cell_type_ypos - 0.5, ymax = cell_type_ypos + 0.5,\n",
    "                        xmin = x_min * 1.1, xmax = x_max * 1.1,\n",
    "                        fill = cell_type_color),\n",
    "                    alpha = 0.3) +\n",
    "          geom_rect(data = pd,\n",
    "                   aes(ymin = cell_type_ypos - 0.35, ymax = cell_type_ypos + 0.35,\n",
    "                       xmin = xmin, xmax = xmax,\n",
    "                       fill = fill)) +\n",
    "          geom_vline(data = data.frame(x = 0),\n",
    "                     aes(xintercept = x)) +\n",
    "          scale_y_continuous(\"\",\n",
    "                             limits = c(min(plot_ypos$cell_type_ypos) - 0.5, max(plot_ypos$cell_type_ypos) + 0.5)) +\n",
    "          scale_fill_identity() +\n",
    "          scale_x_continuous(paste0(\"N DEGs\\n(FDR < \",fdr_cutoff,\")\"),\n",
    "                             limits = x_lim,\n",
    "                             breaks = x_breaks,\n",
    "                             expand = c(0,0)) +\n",
    "          theme_bw(base_size = 16) +\n",
    "          facet_wrap(~ timepoint, ncol = 3) +\n",
    "          theme(panel.grid.major.y = element_blank(),\n",
    "                panel.grid.minor = element_blank(),\n",
    "                axis.ticks = element_blank(),\n",
    "                axis.text.y = element_blank(),\n",
    "                panel.border = element_blank(),\n",
    "                strip.background = element_blank())\n",
    "        \n",
    "        p\n",
    "    }\n",
    ")\n",
    "names(treat_plots) <- treat_times"
   ]
  },
  {
   "cell_type": "code",
   "execution_count": null,
   "id": "4e8aa47c-2295-42c7-a1d0-ccd99639314d",
   "metadata": {
    "tags": []
   },
   "outputs": [],
   "source": [
    "options(repr.plot.width = 10.5, repr.plot.height = 4)\n",
    "treat_plots <- treat_plots[c(\"dexamethasone_4\",\"dexamethasone_24\")]\n",
    "all_plots <- plot_grid(\n",
    "    plotlist = treat_plots,\n",
    "    nrow = 1, ncol = 2,\n",
    "    rel_widths = c(2,1)\n",
    ")\n",
    "all_plots"
   ]
  },
  {
   "cell_type": "code",
   "execution_count": null,
   "id": "4dafd0c2-2775-4e6a-9fb0-76d5b593bd4c",
   "metadata": {
    "tags": []
   },
   "outputs": [],
   "source": [
    "out_file <- file.path(\n",
    "    out_dir,\n",
    "    paste0(\"dexamethasone_deg_barplot_\",Sys.Date(),\".pdf\")\n",
    ")\n",
    "ggsave(out_file,\n",
    "       all_plots,\n",
    "       width = 10.5, height = 4)"
   ]
  },
  {
   "cell_type": "markdown",
   "id": "41e2785f-9fa5-4883-b14c-50106be29174",
   "metadata": {},
   "source": [
    "### DAP Barplots"
   ]
  },
  {
   "cell_type": "code",
   "execution_count": null,
   "id": "5bcace16-cd4c-44c3-94db-51b2a4a6aadc",
   "metadata": {
    "tags": []
   },
   "outputs": [],
   "source": [
    "fdr_cutoff <- 0.05"
   ]
  },
  {
   "cell_type": "code",
   "execution_count": null,
   "id": "3ae6191a-193b-43e0-b2c6-ee5670c7e028",
   "metadata": {
    "tags": []
   },
   "outputs": [],
   "source": [
    "all_dap <- read.csv(dap_file)"
   ]
  },
  {
   "cell_type": "code",
   "execution_count": null,
   "id": "820aaf68-fe0d-464c-8fa2-001de56d2785",
   "metadata": {
    "tags": []
   },
   "outputs": [],
   "source": [
    "head(all_dap)"
   ]
  },
  {
   "cell_type": "code",
   "execution_count": null,
   "id": "dc773bed-ff96-4477-9e07-00323e73cb37",
   "metadata": {
    "tags": []
   },
   "outputs": [],
   "source": [
    "all_dap <- all_dap %>%\n",
    "  mutate(timepoint = sub(\".+_\",\"\",fg),\n",
    "         fg = sub(\"_.+\",\"\",fg),\n",
    "         bg = sub(\"_.+\",\"\",bg)) %>%\n",
    "  filter(fg == \"dexamethasone\") %>%\n",
    "  mutate(direction = ifelse(logFC > 0, \"up\", \"dn\"))"
   ]
  },
  {
   "cell_type": "code",
   "execution_count": null,
   "id": "a8b78db5-1bd6-43e6-8ddb-27df5496425b",
   "metadata": {
    "tags": []
   },
   "outputs": [],
   "source": [
    "head(all_dap)"
   ]
  },
  {
   "cell_type": "code",
   "execution_count": null,
   "id": "225c503b-b3b2-4be9-b0fd-323a51bf3186",
   "metadata": {
    "tags": []
   },
   "outputs": [],
   "source": [
    "table(all_dap$aifi_cell_type)"
   ]
  },
  {
   "cell_type": "code",
   "execution_count": null,
   "id": "eb71525d-ee2b-4091-a0e9-034200137f6d",
   "metadata": {
    "tags": []
   },
   "outputs": [],
   "source": [
    "dap_summary <- all_dap %>%\n",
    "  group_by(fg, timepoint, aifi_cell_type) %>%\n",
    "  summarise(n_sig = sum(adjP < fdr_cutoff),\n",
    "            n_up = sum(adjP < fdr_cutoff & direction == \"up\"),\n",
    "            n_dn = sum(adjP < fdr_cutoff & direction == \"dn\"),\n",
    "            .groups = \"keep\")"
   ]
  },
  {
   "cell_type": "code",
   "execution_count": null,
   "id": "8b19f6bf-e380-495c-b3e7-22eba61d818f",
   "metadata": {
    "tags": []
   },
   "outputs": [],
   "source": [
    "head(dap_summary)"
   ]
  },
  {
   "cell_type": "code",
   "execution_count": null,
   "id": "faa19afd-1e6b-47ef-882c-e093d043a3f2",
   "metadata": {
    "tags": []
   },
   "outputs": [],
   "source": [
    "plot_data <- dap_summary %>%\n",
    "  left_join(type_colors) %>%\n",
    "  mutate(treat_time = paste0(fg,\"_\",timepoint)) %>%\n",
    "  group_by(fg) %>%\n",
    "  mutate(max_val = max(c(n_up, n_dn))) %>%\n",
    "  ungroup()"
   ]
  },
  {
   "cell_type": "code",
   "execution_count": null,
   "id": "4a926959-07b2-4f0d-818b-321bc429c9b2",
   "metadata": {
    "tags": []
   },
   "outputs": [],
   "source": [
    "plot_data %>%\n",
    "  filter(fg == \"dexamethasone\",\n",
    "         aifi_cell_type == \"t_cd4_naive\")"
   ]
  },
  {
   "cell_type": "code",
   "execution_count": null,
   "id": "1343d527-8950-4160-b595-941967ebd3e8",
   "metadata": {},
   "outputs": [],
   "source": [
    "write.csv(\n",
    "    plot_data,\n",
    "    file.path(out_dir, paste0(\"dexamethasone_dap_summary_data_\", Sys.Date(), \".csv\")),\n",
    "    quote = FALSE,\n",
    "    row.names = FALSE\n",
    ")"
   ]
  },
  {
   "cell_type": "code",
   "execution_count": null,
   "id": "fa08dec2-b539-41d9-b77f-73649c8274cb",
   "metadata": {
    "tags": []
   },
   "outputs": [],
   "source": [
    "treat_times <- unique(plot_data$treat_time)\n",
    "treat_times"
   ]
  },
  {
   "cell_type": "code",
   "execution_count": null,
   "id": "92fcebd7-2921-4172-b7b1-a9e748536037",
   "metadata": {
    "tags": []
   },
   "outputs": [],
   "source": [
    "options(repr.plot.width = 12, repr.plot.height = 4)\n",
    "treat_plots <- map(\n",
    "    treat_times,\n",
    "    function(tt) {\n",
    "        \n",
    "        pd <- plot_data %>%\n",
    "          filter(treat_time == tt)\n",
    "        \n",
    "        x_max <- pd$max_val[1]\n",
    "        x_min <- -1 * x_max\n",
    "        x_breaks <- unique(c(seq(signif(x_min, 1), 0, length.out = 3),\n",
    "                             seq(0, signif(x_max, 1), length.out = 3)))\n",
    "        x_max <- max(x_max, x_breaks[length(x_breaks)])\n",
    "        x_min <- min(x_min, x_breaks[1])\n",
    "        \n",
    "        timepoint <- pd$timepoint[1]\n",
    "\n",
    "        up_pd <- pd %>%\n",
    "          mutate(xmin = 0, xmax = n_up,\n",
    "                 fill = \"orangered\")\n",
    "        dn_pd <- pd %>%\n",
    "          mutate(xmin = -1 * n_dn, xmax = 0,\n",
    "                 fill = \"dodgerblue\")\n",
    "        \n",
    "        pd <- rbind(up_pd, dn_pd)\n",
    "        \n",
    "        plot_ypos <- pd %>%\n",
    "          select(aifi_cell_type, cell_type_label, \n",
    "                 cell_type_color, cell_type_ypos, \n",
    "                 n_sig) %>%\n",
    "          unique()\n",
    "        \n",
    "        p <- ggplot()\n",
    "        \n",
    "        if(timepoint == 4) {\n",
    "            x_lim <- c(x_min * 3.5, x_max * 1.1)\n",
    "            \n",
    "            p <- p + geom_rect(data = plot_ypos,\n",
    "                    aes(ymin = cell_type_ypos - 0.5, ymax = cell_type_ypos + 0.5,\n",
    "                        xmin = x_min * 3.5, xmax = x_min * 1.1,\n",
    "                        fill = cell_type_color),\n",
    "                    alpha = 0.8) +\n",
    "            geom_text(data = plot_ypos,\n",
    "                    aes(x = x_min * 1.6, y = cell_type_ypos,\n",
    "                        label = cell_type_label),\n",
    "                    hjust = 1,\n",
    "                    vjust = 0.5)\n",
    "            \n",
    "        } else {\n",
    "            x_lim <- c(x_min * 1.1, x_max * 1.1)\n",
    "        }\n",
    "        p <- p +\n",
    "          geom_rect(data = plot_ypos,\n",
    "                    aes(ymin = cell_type_ypos - 0.5, ymax = cell_type_ypos + 0.5,\n",
    "                        xmin = x_min * 1.1, xmax = x_max * 1.1,\n",
    "                        fill = cell_type_color),\n",
    "                    alpha = 0.3) +\n",
    "          geom_rect(data = pd,\n",
    "                   aes(ymin = cell_type_ypos - 0.35, ymax = cell_type_ypos + 0.35,\n",
    "                       xmin = xmin, xmax = xmax,\n",
    "                       fill = fill)) +\n",
    "          geom_vline(data = data.frame(x = 0),\n",
    "                     aes(xintercept = x)) +\n",
    "          scale_y_continuous(\"\",\n",
    "                             limits = c(min(plot_ypos$cell_type_ypos) - 0.5, max(plot_ypos$cell_type_ypos) + 0.5)) +\n",
    "          scale_fill_identity() +\n",
    "          scale_x_continuous(paste0(\"N DAPs\\n(FDR < \",fdr_cutoff,\")\"),\n",
    "                             limits = x_lim,\n",
    "                             breaks = x_breaks,\n",
    "                             expand = c(0,0)) +\n",
    "          theme_bw(base_size = 16) +\n",
    "          facet_wrap(~ timepoint, ncol = 3) +\n",
    "          theme(panel.grid.major.y = element_blank(),\n",
    "                panel.grid.minor = element_blank(),\n",
    "                axis.ticks = element_blank(),\n",
    "                axis.text.y = element_blank(),\n",
    "                panel.border = element_blank(),\n",
    "                strip.background = element_blank())\n",
    "        \n",
    "        p\n",
    "    }\n",
    ")\n",
    "names(treat_plots) <- treat_times"
   ]
  },
  {
   "cell_type": "code",
   "execution_count": null,
   "id": "88ac6a47-b982-4afd-a9a4-3c2b825eb51e",
   "metadata": {
    "tags": []
   },
   "outputs": [],
   "source": [
    "options(repr.plot.width = 10.5, repr.plot.height = 4)\n",
    "all_plots <- plot_grid(\n",
    "    plotlist = treat_plots[c(\"dexamethasone_4\",\"dexamethasone_24\")],\n",
    "    nrow = 1, ncol = 2,\n",
    "    rel_widths = c(2,1)\n",
    ")\n",
    "all_plots"
   ]
  },
  {
   "cell_type": "code",
   "execution_count": null,
   "id": "1c9f6f73-d09b-44ba-be7d-ae52e52902d0",
   "metadata": {
    "tags": []
   },
   "outputs": [],
   "source": [
    "out_file <- file.path(\n",
    "    out_dir,\n",
    "    paste0(\"dexamethasone_dap_barplot_\",Sys.Date(),\".pdf\")\n",
    ")\n",
    "ggsave(out_file,\n",
    "       all_plots,\n",
    "       width = 10.5, height = 4)"
   ]
  },
  {
   "cell_type": "markdown",
   "id": "fb389b51-6f07-4ae7-86d0-69931095dae2",
   "metadata": {},
   "source": [
    "### DDE Barplots\n",
    "Differentially detected epitopes, aka Differentially expressed proteins (DEP)"
   ]
  },
  {
   "cell_type": "code",
   "execution_count": null,
   "id": "c82d65a5-7d22-44e9-8687-229d8d705d75",
   "metadata": {
    "tags": []
   },
   "outputs": [],
   "source": [
    "fdr_cutoff <- 0.05"
   ]
  },
  {
   "cell_type": "code",
   "execution_count": null,
   "id": "5c877401-fcac-479d-a7df-90921a411959",
   "metadata": {
    "tags": []
   },
   "outputs": [],
   "source": [
    "all_dep <- read.csv(dep_file)"
   ]
  },
  {
   "cell_type": "code",
   "execution_count": null,
   "id": "f247be4e-35dd-407a-bb51-7b7c500ddfe2",
   "metadata": {
    "tags": []
   },
   "outputs": [],
   "source": [
    "all_dep <- all_dep %>%\n",
    "  filter(fg == \"dexamethasone\") %>%\n",
    "  mutate(direction = ifelse(logFC > 0, \"up\", \"dn\"))"
   ]
  },
  {
   "cell_type": "code",
   "execution_count": null,
   "id": "9e13252a-0bf9-4a95-89e7-99fd787d5fa8",
   "metadata": {
    "tags": []
   },
   "outputs": [],
   "source": [
    "dep_epitope_summary <- all_dep %>%\n",
    "  filter(adjP < fdr_cutoff) %>%\n",
    "  group_by(fg, feature, direction) %>%\n",
    "  summarise(n_types_up = n(), .groups = \"keep\")"
   ]
  },
  {
   "cell_type": "code",
   "execution_count": null,
   "id": "d106c55c-0e03-4fe4-8a65-3ff18bcb3013",
   "metadata": {
    "tags": []
   },
   "outputs": [],
   "source": [
    "dep_summary <- all_dep %>%\n",
    "  group_by(fg, timepoint, aifi_cell_type) %>%\n",
    "  summarise(n_sig = sum(adjP < fdr_cutoff),\n",
    "            n_up = sum(adjP < fdr_cutoff & direction == \"up\"),\n",
    "            n_dn = sum(adjP < fdr_cutoff & direction == \"dn\"),\n",
    "            .groups = \"keep\")"
   ]
  },
  {
   "cell_type": "code",
   "execution_count": null,
   "id": "3ee6fc3e-f7ad-4777-b977-7a608ccf177d",
   "metadata": {
    "tags": []
   },
   "outputs": [],
   "source": [
    "plot_data <- dep_summary %>%\n",
    "  left_join(type_colors) %>%\n",
    "  mutate(treat_time = paste0(fg,\"_\",timepoint)) %>%\n",
    "  group_by(fg) %>%\n",
    "  mutate(max_val = max(c(n_up, n_dn))) %>%\n",
    "  ungroup()"
   ]
  },
  {
   "cell_type": "code",
   "execution_count": null,
   "id": "b93da9af-af59-4583-89f8-54798cbf50b7",
   "metadata": {
    "tags": []
   },
   "outputs": [],
   "source": [
    "plot_data %>%\n",
    "  filter(fg == \"dexamethasone\",\n",
    "         aifi_cell_type == \"t_cd4_naive\")"
   ]
  },
  {
   "cell_type": "code",
   "execution_count": null,
   "id": "bde5f1e9-fce0-45ef-aeb8-0eb1934c6c09",
   "metadata": {},
   "outputs": [],
   "source": [
    "write.csv(\n",
    "    plot_data,\n",
    "    file.path(out_dir, paste0(\"dexamethasone_dde_summary_data_\", Sys.Date(), \".csv\")),\n",
    "    quote = FALSE,\n",
    "    row.names = FALSE\n",
    ")"
   ]
  },
  {
   "cell_type": "code",
   "execution_count": null,
   "id": "ba72ad8f-0aae-4278-93df-61e17ccc06c5",
   "metadata": {
    "tags": []
   },
   "outputs": [],
   "source": [
    "treat_times <- unique(plot_data$treat_time)\n",
    "treat_times"
   ]
  },
  {
   "cell_type": "code",
   "execution_count": null,
   "id": "f521652e-3ec7-4d6c-b56e-e0b5726f8c50",
   "metadata": {
    "tags": []
   },
   "outputs": [],
   "source": [
    "options(repr.plot.width = 12, repr.plot.height = 4)\n",
    "treat_plots <- map(\n",
    "    treat_times,\n",
    "    function(tt) {\n",
    "        \n",
    "        pd <- plot_data %>%\n",
    "          filter(treat_time == tt)\n",
    "        \n",
    "        x_max <- pd$max_val[1]\n",
    "        x_min <- -1 * x_max\n",
    "        x_breaks <- unique(c(seq(signif(x_min, 1), 0, length.out = 3),\n",
    "                             seq(0, signif(x_max, 1), length.out = 3)))\n",
    "        \n",
    "        timepoint <- pd$timepoint[1]\n",
    "        \n",
    "        up_pd <- pd %>%\n",
    "          mutate(xmin = 0, xmax = n_up,\n",
    "                 fill = \"orangered\")\n",
    "        dn_pd <- pd %>%\n",
    "          mutate(xmin = -1 * n_dn, xmax = 0,\n",
    "                 fill = \"dodgerblue\")\n",
    "        \n",
    "        pd <- rbind(up_pd, dn_pd)\n",
    "        \n",
    "        plot_ypos <- pd %>%\n",
    "          select(aifi_cell_type, cell_type_label, \n",
    "                 cell_type_color, cell_type_ypos, \n",
    "                 n_sig) %>%\n",
    "          unique()\n",
    "        \n",
    "        p <- ggplot()\n",
    "        \n",
    "        if(timepoint == 4) {\n",
    "            x_lim <- c(x_min * 3.5, x_max * 1.1)\n",
    "            \n",
    "            p <- p + geom_rect(data = plot_ypos,\n",
    "                    aes(ymin = cell_type_ypos - 0.5, ymax = cell_type_ypos + 0.5,\n",
    "                        xmin = x_min * 3.5, xmax = x_min * 1.1,\n",
    "                        fill = cell_type_color),\n",
    "                    alpha = 0.8) +\n",
    "            geom_text(data = plot_ypos,\n",
    "                    aes(x = x_min * 1.6, y = cell_type_ypos,\n",
    "                        label = cell_type_label),\n",
    "                    hjust = 1,\n",
    "                    vjust = 0.5)\n",
    "            \n",
    "        } else {\n",
    "            x_lim <- c(x_min * 1.1, x_max * 1.1)\n",
    "        }\n",
    "        p <- p +\n",
    "          geom_rect(data = plot_ypos,\n",
    "                    aes(ymin = cell_type_ypos - 0.5, ymax = cell_type_ypos + 0.5,\n",
    "                        xmin = x_min * 1.1, xmax = x_max * 1.1,\n",
    "                        fill = cell_type_color),\n",
    "                    alpha = 0.3) +\n",
    "          geom_rect(data = pd,\n",
    "                   aes(ymin = cell_type_ypos - 0.35, ymax = cell_type_ypos + 0.35,\n",
    "                       xmin = xmin, xmax = xmax,\n",
    "                       fill = fill)) +\n",
    "          geom_vline(data = data.frame(x = 0),\n",
    "                     aes(xintercept = x)) +\n",
    "          scale_y_continuous(\"\",\n",
    "                             limits = c(min(plot_ypos$cell_type_ypos) - 0.5, max(plot_ypos$cell_type_ypos) + 0.5)) +\n",
    "          scale_fill_identity() +\n",
    "          scale_x_continuous(paste0(\"N DDEs\\n(FDR < \",fdr_cutoff,\")\"),\n",
    "                             limits = x_lim,\n",
    "                             breaks = x_breaks,\n",
    "                             expand = c(0,0)) +\n",
    "          theme_bw(base_size = 16) +\n",
    "          facet_wrap(~ timepoint, ncol = 3) +\n",
    "          theme(panel.grid.major.y = element_blank(),\n",
    "                panel.grid.minor = element_blank(),\n",
    "                axis.ticks = element_blank(),\n",
    "                axis.text.y = element_blank(),\n",
    "                panel.border = element_blank(),\n",
    "                strip.background = element_blank())\n",
    "        \n",
    "        p\n",
    "    }\n",
    ")\n",
    "names(treat_plots) <- treat_times"
   ]
  },
  {
   "cell_type": "code",
   "execution_count": null,
   "id": "f53da806-fb11-4b20-8c9a-cab148c47d22",
   "metadata": {
    "tags": []
   },
   "outputs": [],
   "source": [
    "treat_times"
   ]
  },
  {
   "cell_type": "code",
   "execution_count": null,
   "id": "44667cc3-4b81-4d9f-bbe8-f1ae90843f3b",
   "metadata": {
    "tags": []
   },
   "outputs": [],
   "source": [
    "options(repr.plot.width = 10.5, repr.plot.height = 4)\n",
    "treat_plots <- treat_plots[c(\"dexamethasone_4\", \"dexamethasone_24\")]\n",
    "all_plots <- plot_grid(\n",
    "    plotlist = treat_plots,\n",
    "    nrow = 1, ncol = 2,\n",
    "    rel_widths = c(2,1)\n",
    ")\n",
    "all_plots"
   ]
  },
  {
   "cell_type": "code",
   "execution_count": null,
   "id": "ff994997-88ec-4649-ba89-9c81ff8bc25b",
   "metadata": {
    "tags": []
   },
   "outputs": [],
   "source": [
    "out_file <- file.path(\n",
    "    out_dir,\n",
    "    paste0(\"dexamethasone_dde_barplot_\",Sys.Date(),\".pdf\")\n",
    ")\n",
    "ggsave(out_file,\n",
    "       all_plots,\n",
    "       width = 10.5, height = 4)"
   ]
  },
  {
   "cell_type": "markdown",
   "id": "3d6022fc-a7a8-468c-bf29-017e2d2db447",
   "metadata": {},
   "source": [
    "## Hallmark pathway enrichment heatmaps"
   ]
  },
  {
   "cell_type": "code",
   "execution_count": null,
   "id": "a8038025-c866-411d-adab-6cee7bf2eb7e",
   "metadata": {
    "tags": []
   },
   "outputs": [],
   "source": [
    "fdr_cutoff <- 0.1"
   ]
  },
  {
   "cell_type": "code",
   "execution_count": null,
   "id": "55499989-8b0e-4b02-a467-7a65b606a1fc",
   "metadata": {
    "tags": []
   },
   "outputs": [],
   "source": [
    "hallmark_names <- read.csv(\"../common/gene_sets/hallmark_names.csv\")"
   ]
  },
  {
   "cell_type": "code",
   "execution_count": null,
   "id": "ed93a59f-7682-47f8-b6a5-3be3c843662a",
   "metadata": {
    "tags": []
   },
   "outputs": [],
   "source": [
    "type_colors <- read.csv(\"../common/color_sets/aifi_cell_type_colors.csv\")"
   ]
  },
  {
   "cell_type": "markdown",
   "id": "6b07e724-f598-463a-b829-051f17f28e47",
   "metadata": {},
   "source": [
    "Gradient colors"
   ]
  },
  {
   "cell_type": "code",
   "execution_count": null,
   "id": "01abdcb3-a5f7-4b30-9fb3-71c41a279bdb",
   "metadata": {
    "tags": []
   },
   "outputs": [],
   "source": [
    "lo_gc <- data.frame(NES = seq(-3, -1.01, 0.01)) %>%\n",
    "  mutate(nes_color = colorRampPalette(c(\"darkblue\", \"skyblue\"))(n()))\n",
    "mid_lo_gc <- data.frame(NES = seq(-1, 0, 0.01), nes_color = \"gray80\")\n",
    "hi_gc <- data.frame(NES = seq(3,1.01,-0.01)) %>%\n",
    "  mutate(nes_color = colorRampPalette(c(\"darkred\", \"coral\"))(n()))\n",
    "mid_hi_gc <- data.frame(NES = seq(1, 0.01, -0.01), nes_color = \"gray80\")\n",
    "\n",
    "gc_df <- do.call(rbind, list(lo_gc, mid_lo_gc, mid_hi_gc, hi_gc))\n",
    "gc_df$NES <- as.character(gc_df$NES)"
   ]
  },
  {
   "cell_type": "code",
   "execution_count": null,
   "id": "df2d19b5-f0d5-4391-9a5a-5df6e58cd99c",
   "metadata": {
    "tags": []
   },
   "outputs": [],
   "source": [
    "all_hallmark <- read.csv(hallmark_file)"
   ]
  },
  {
   "cell_type": "code",
   "execution_count": null,
   "id": "82af9721-1830-4616-aefd-5bd91fca77a9",
   "metadata": {
    "tags": []
   },
   "outputs": [],
   "source": [
    "all_hallmark <- all_hallmark %>%\n",
    "  filter(fg == \"dexamethasone\")"
   ]
  },
  {
   "cell_type": "code",
   "execution_count": null,
   "id": "bd844ef0-87ce-4de6-a71c-bb8027c12c78",
   "metadata": {
    "tags": []
   },
   "outputs": [],
   "source": [
    "head(all_hallmark)"
   ]
  },
  {
   "cell_type": "markdown",
   "id": "b83d0cf5-d532-4b30-bcbe-2a22b4d30f83",
   "metadata": {},
   "source": [
    "Add treat_time, display labels for pathways, and cell type "
   ]
  },
  {
   "cell_type": "code",
   "execution_count": null,
   "id": "b633d47a-4aaa-4997-b524-a2313ac4716d",
   "metadata": {
    "tags": []
   },
   "outputs": [],
   "source": [
    "plot_hallmark <- all_hallmark %>%\n",
    "  mutate(label_time = ifelse(timepoint == 4, \"04\", as.character(timepoint))) %>%\n",
    "  mutate(treat_time = paste0(fg, \"_\", label_time)) %>%\n",
    "  left_join(hallmark_names) %>%\n",
    "  left_join(type_colors)"
   ]
  },
  {
   "cell_type": "code",
   "execution_count": null,
   "id": "078f4d06-ba5a-4c42-90e8-ae4d1da79ea7",
   "metadata": {
    "tags": []
   },
   "outputs": [],
   "source": [
    "top_n <- 20\n",
    "\n",
    "sig_data <- plot_hallmark %>%\n",
    "  filter(adjP < fdr_cutoff) %>%\n",
    "  group_by(pathway) %>%\n",
    "  arrange(adjP) %>%\n",
    "  slice(1) %>%\n",
    "  ungroup() %>%\n",
    "  arrange(adjP) %>%\n",
    "  head(top_n)\n",
    "\n",
    "plot_data <- plot_hallmark %>%\n",
    "  filter(pathway %in% sig_data$pathway)\n",
    "\n",
    "xpos_df <- plot_data %>%\n",
    "  select(cell_type_label, cell_type_xpos) %>%\n",
    "  unique() %>%\n",
    "  arrange(cell_type_xpos) %>%\n",
    "  mutate(xpos = 1:n())\n",
    "\n",
    "ypos_df <- plot_data %>%\n",
    "  select(pathway_label) %>%\n",
    "  unique() %>%\n",
    "  arrange(pathway_label) %>%\n",
    "  mutate(ypos = n():1)\n",
    "\n",
    "timepoint_df <- data.frame(\n",
    "    timepoint = c(4, 24),\n",
    "    timepoint_label = factor(c(\"Dexamethasone, 4 Hours\", \"Dexamethasone, 24 Hours\"), \n",
    "                             levels = c(\"Dexamethasone, 4 Hours\", \"Dexamethasone, 24 Hours\"))\n",
    ")\n",
    "\n",
    "plot_data <- plot_data %>%\n",
    "  left_join(xpos_df) %>%\n",
    "  left_join(ypos_df) %>%\n",
    "  mutate(NES = as.character(round(NES, 2))) %>%\n",
    "  left_join(gc_df) %>%\n",
    "  left_join(timepoint_df)"
   ]
  },
  {
   "cell_type": "code",
   "execution_count": null,
   "id": "f58a996f-8c4e-48a0-9985-fda8d03d450c",
   "metadata": {
    "tags": []
   },
   "outputs": [],
   "source": [
    "options(repr.plot.width = 3.5, repr.plot.height = 4)\n",
    "hallmark_plot <- ggplot() +\n",
    "  geom_tile(\n",
    "      data = plot_data,\n",
    "      aes(x = xpos,\n",
    "          y = ypos,\n",
    "          fill = nes_color),\n",
    "      color = \"black\") +\n",
    "  geom_point(\n",
    "      data = plot_data %>% filter(adjP < fdr_cutoff),\n",
    "      aes(x = xpos,\n",
    "          y = ypos),\n",
    "      color = \"white\",\n",
    "      size = 0.9) +\n",
    "  scale_fill_identity() +\n",
    "  scale_x_continuous(\n",
    "      \"\",\n",
    "      breaks = xpos_df$xpos,\n",
    "      labels = xpos_df$cell_type_label,\n",
    "      expand = c(0, 0)) +\n",
    "  scale_y_continuous(\n",
    "      \"\",\n",
    "      breaks = ypos_df$ypos,\n",
    "      labels = ypos_df$pathway_label,\n",
    "      expand = c(0, 0)) +\n",
    "  facet_wrap(~ timepoint_label) +\n",
    "  theme_bw(base_size = 7) +\n",
    "  theme(axis.text.x = element_text(angle = 90, hjust = 1, vjust = 0.3),\n",
    "        panel.border = element_blank(),\n",
    "        axis.ticks = element_blank(),\n",
    "        strip.background = element_blank(),\n",
    "        panel.grid = element_blank(),\n",
    "        panel.background = element_rect(fill = \"gray30\"))\n",
    "hallmark_plot"
   ]
  },
  {
   "cell_type": "code",
   "execution_count": null,
   "id": "2b15cce1-2d27-442c-827b-e9b9bbe91797",
   "metadata": {
    "tags": []
   },
   "outputs": [],
   "source": [
    "out_file <- file.path(\n",
    "    out_dir,\n",
    "    paste0(\"dexamethasone_hallmark_heatmap_\",Sys.Date(),\".pdf\")\n",
    ")\n",
    "ggsave(out_file,\n",
    "       hallmark_plot,\n",
    "       width = 14, height = 4)"
   ]
  },
  {
   "cell_type": "markdown",
   "id": "b3112677-e220-4527-b4d1-08510cfaab0e",
   "metadata": {},
   "source": [
    "## Motif enrichment volcano plots"
   ]
  },
  {
   "cell_type": "code",
   "execution_count": null,
   "id": "b66a2e56-ccc2-49f2-a4f1-872ecaa456a9",
   "metadata": {
    "tags": []
   },
   "outputs": [],
   "source": [
    "all_dem <- read.csv(dem_file)"
   ]
  },
  {
   "cell_type": "code",
   "execution_count": null,
   "id": "8e071664-0cfb-49d3-bc9d-4b949f5955a5",
   "metadata": {
    "tags": []
   },
   "outputs": [],
   "source": [
    "all_dem <- all_dem %>%\n",
    "  mutate(timepoint = sub(\".+_\",\"\",fg),\n",
    "         fg = sub(\"_.+\",\"\",fg),\n",
    "         bg = sub(\"_.+\",\"\",bg)) %>%\n",
    "  filter(fg == \"dexamethasone\")"
   ]
  },
  {
   "cell_type": "markdown",
   "id": "eaf3175c-372d-4282-8fb8-718fff15df41",
   "metadata": {},
   "source": [
    "Set Enrichment to negative values for motifs enriched near down-regulated genes"
   ]
  },
  {
   "cell_type": "code",
   "execution_count": null,
   "id": "04293010-a7dc-4b34-8bdc-4e99e2dba421",
   "metadata": {
    "tags": []
   },
   "outputs": [],
   "source": [
    "all_dem <- all_dem %>%\n",
    "  mutate(Enrichment = ifelse(\n",
    "      direction == \"dn\",\n",
    "      -1 * Enrichment,\n",
    "      Enrichment))"
   ]
  },
  {
   "cell_type": "code",
   "execution_count": null,
   "id": "71603b6e-5f74-4fae-92fe-a2236b801005",
   "metadata": {
    "tags": []
   },
   "outputs": [],
   "source": [
    "plot_dem <- all_dem %>%\n",
    "  filter(timepoint == 72)"
   ]
  },
  {
   "cell_type": "code",
   "execution_count": null,
   "id": "d661fb16-ea53-4720-944a-5082c8162d23",
   "metadata": {
    "tags": []
   },
   "outputs": [],
   "source": [
    "tail(plot_dem)"
   ]
  },
  {
   "cell_type": "code",
   "execution_count": null,
   "id": "5b67ff7f-a590-4e6f-9e9a-6fdf1a9bdf8d",
   "metadata": {
    "tags": []
   },
   "outputs": [],
   "source": [
    "ggplot() +\n",
    "  geom_point(\n",
    "      data = plot_dem,\n",
    "      aes(x = Enrichment,\n",
    "          y = mlog10Padj)\n",
    "  ) +\n",
    "  facet_wrap(\n",
    "      ~ aifi_cell_type,\n",
    "      ncol = 3,\n",
    "      nrow = 2\n",
    "  )"
   ]
  },
  {
   "cell_type": "code",
   "execution_count": null,
   "id": "05f0633c-6274-47f2-8d6f-13b6d5bdd7c2",
   "metadata": {},
   "outputs": [],
   "source": []
  }
 ],
 "metadata": {
  "kernelspec": {
   "display_name": "R 4",
   "language": "R",
   "name": "ir4"
  },
  "language_info": {
   "codemirror_mode": "r",
   "file_extension": ".r",
   "mimetype": "text/x-r-source",
   "name": "R",
   "pygments_lexer": "r",
   "version": "4.3.1"
  }
 },
 "nbformat": 4,
 "nbformat_minor": 5
}
