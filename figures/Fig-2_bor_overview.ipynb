{
 "cells": [
  {
   "cell_type": "markdown",
   "id": "7f6eb3a2-ab20-4325-9cf8-71c22e4f1240",
   "metadata": {
    "tags": []
   },
   "source": [
    "# Figure 2\n",
    "\n",
    "In this notebook, we'll generate figure panels for use in Figure 2, the overview of Bortezomib treatment results.\n",
    "\n",
    "For the UMAP plots, see the notebook for Figure 1. In this notebook, we'll generate the differential result barplots, Hallmark Pathway heatmaps, and motif enrichment volcano plots."
   ]
  },
  {
   "cell_type": "markdown",
   "id": "723f5449-4ce9-4500-8002-2d51566b944d",
   "metadata": {
    "tags": []
   },
   "source": [
    "## Load packages\n",
    "\n",
    "hise: The Human Immune System Explorer R SDK package  \n",
    "purrr: Functional programming tools  \n",
    "dplyr: Dataframe handling functions  \n",
    "ggplot2: plotting functions  \n",
    "cowplot: multi-panel plot assembly"
   ]
  },
  {
   "cell_type": "code",
   "execution_count": 1,
   "id": "0abd03ed-c1d1-4319-aac5-1282289d1d4a",
   "metadata": {
    "tags": []
   },
   "outputs": [],
   "source": [
    "quiet_library <- function(...) { suppressPackageStartupMessages(library(...)) }\n",
    "quiet_library(hise)\n",
    "quiet_library(purrr)\n",
    "quiet_library(dplyr)\n",
    "quiet_library(ggplot2)\n",
    "quiet_library(ggrastr)\n",
    "quiet_library(cowplot)"
   ]
  },
  {
   "cell_type": "code",
   "execution_count": 2,
   "id": "fe0958cf-b545-43bd-bd4e-52f4fc17f311",
   "metadata": {
    "tags": []
   },
   "outputs": [],
   "source": [
    "out_dir <- \"output/figure_2\"\n",
    "if(!dir.exists(out_dir)) { dir.create(out_dir, recursive = TRUE) }"
   ]
  },
  {
   "cell_type": "markdown",
   "id": "68063f5d-e745-419d-989c-75b9f3bf9089",
   "metadata": {},
   "source": [
    "## Retrieve files\n",
    "\n",
    "Now, we'll use the HISE SDK package to retrieve the analysis results for DEG, Hallmark Pathway enrichment, and motif enrichment."
   ]
  },
  {
   "cell_type": "markdown",
   "id": "7d428cc5-1799-4b77-8be9-c7b051d945d9",
   "metadata": {},
   "source": [
    "DEG: Differentially expressed genes"
   ]
  },
  {
   "cell_type": "code",
   "execution_count": 3,
   "id": "a8b0d458-a4d1-4e56-9ae1-464777253a85",
   "metadata": {
    "tags": []
   },
   "outputs": [],
   "source": [
    "deg_uuid <- list(\"fc83b89f-fd26-43b8-ac91-29c539703a45\")"
   ]
  },
  {
   "cell_type": "code",
   "execution_count": 4,
   "id": "dce41590-189f-40ba-b50b-a5b69ee2b77d",
   "metadata": {
    "tags": []
   },
   "outputs": [
    {
     "name": "stderr",
     "output_type": "stream",
     "text": [
      "submitting request as query ID first...\n",
      "\n",
      "retrieving files using fileIDS...\n",
      "\n"
     ]
    },
    {
     "name": "stdout",
     "output_type": "stream",
     "text": [
      "[1] \"Initiating file download for all_mast_deg_2023-09-06.csv\"\n",
      "[1] \"Download successful.\"\n"
     ]
    }
   ],
   "source": [
    "deg_fres <- cacheFiles(deg_uuid)\n",
    "deg_file <- list.files(\n",
    "    paste0(\"cache/\",deg_uuid),\n",
    "    recursive = TRUE, full.names = TRUE\n",
    ")"
   ]
  },
  {
   "cell_type": "markdown",
   "id": "ec110281-1767-4e2b-864a-8458800d3a41",
   "metadata": {},
   "source": [
    "DEP: Differentially expressed proteins (ADT)"
   ]
  },
  {
   "cell_type": "code",
   "execution_count": 9,
   "id": "e77ec610-45ca-494d-a8c3-8f847673a5dc",
   "metadata": {
    "tags": []
   },
   "outputs": [],
   "source": [
    "dep_uuid <- list(\"4cbaa9ab-f8ef-495d-ac5e-1f1d99d33e33\")"
   ]
  },
  {
   "cell_type": "code",
   "execution_count": 10,
   "id": "47b9fefb-7d7e-45c3-a1c1-d30ab5096e92",
   "metadata": {
    "tags": []
   },
   "outputs": [
    {
     "name": "stderr",
     "output_type": "stream",
     "text": [
      "submitting request as query ID first...\n",
      "\n",
      "retrieving files using fileIDS...\n",
      "\n"
     ]
    },
    {
     "name": "stdout",
     "output_type": "stream",
     "text": [
      "[1] \"Initiating file download for all_lm_dep_2023-10-09.csv\"\n",
      "[1] \"Download successful.\"\n"
     ]
    }
   ],
   "source": [
    "dep_fres <- cacheFiles(dep_uuid)\n",
    "dep_file <- list.files(\n",
    "    paste0(\"cache/\",dep_uuid),\n",
    "    recursive = TRUE, full.names = TRUE\n",
    ")"
   ]
  },
  {
   "cell_type": "markdown",
   "id": "97394026-3176-4240-93ca-858a57e7ed9b",
   "metadata": {},
   "source": [
    "DAP: Differentially accessible peaks (ATAC)"
   ]
  },
  {
   "cell_type": "code",
   "execution_count": 11,
   "id": "7d4abb3c-1f0f-4ce7-a8d0-cb876eeafd9a",
   "metadata": {
    "tags": []
   },
   "outputs": [],
   "source": [
    "dap_uuid <- list(\"f2acae35-2e36-4885-970f-1e45f69ac3b8\")"
   ]
  },
  {
   "cell_type": "code",
   "execution_count": 12,
   "id": "7a929a0d-5219-405c-a01b-7e7f6bdc0b1f",
   "metadata": {
    "tags": []
   },
   "outputs": [
    {
     "name": "stderr",
     "output_type": "stream",
     "text": [
      "submitting request as query ID first...\n",
      "\n",
      "retrieving files using fileIDS...\n",
      "\n"
     ]
    },
    {
     "name": "stdout",
     "output_type": "stream",
     "text": [
      "[1] \"Initiating file download for all-archr-dap_2023-10-07.csv\"\n",
      "[1] \"Download successful.\"\n"
     ]
    }
   ],
   "source": [
    "dap_fres <- cacheFiles(dap_uuid)\n",
    "dap_file <- list.files(\n",
    "    paste0(\"cache/\",dap_uuid),\n",
    "    recursive = TRUE, full.names = TRUE\n",
    ")"
   ]
  },
  {
   "cell_type": "code",
   "execution_count": 5,
   "id": "0d60c863-8c25-44c4-b27f-09b485723ca5",
   "metadata": {
    "tags": []
   },
   "outputs": [],
   "source": [
    "hallmark_uuid <- list(\"4f05f2a0-59d2-4d04-b948-70d541613e71\")"
   ]
  },
  {
   "cell_type": "code",
   "execution_count": 6,
   "id": "90e73c74-d36e-4616-b4b6-b76d681da660",
   "metadata": {
    "tags": []
   },
   "outputs": [
    {
     "name": "stderr",
     "output_type": "stream",
     "text": [
      "submitting request as query ID first...\n",
      "\n",
      "retrieving files using fileIDS...\n",
      "\n"
     ]
    },
    {
     "name": "stdout",
     "output_type": "stream",
     "text": [
      "[1] \"Initiating file download for all_hallmark_gsea_res_2023-09-06.csv\"\n",
      "[1] \"Download successful.\"\n"
     ]
    }
   ],
   "source": [
    "hallmark_fres <- cacheFiles(hallmark_uuid)\n",
    "hallmark_file <- list.files(\n",
    "    paste0(\"cache/\",hallmark_uuid),\n",
    "    recursive = TRUE, full.names = TRUE\n",
    ")"
   ]
  },
  {
   "cell_type": "code",
   "execution_count": 7,
   "id": "1031d581-16fd-4626-95fd-c1ea95927ae1",
   "metadata": {
    "tags": []
   },
   "outputs": [],
   "source": [
    "dem_uuid <- list(\"af70c9a6-7d73-46bd-a719-f5a3c410ed15\")"
   ]
  },
  {
   "cell_type": "code",
   "execution_count": 8,
   "id": "1fb54ad2-a268-478e-9b0f-3b293b33e5d4",
   "metadata": {
    "tags": []
   },
   "outputs": [
    {
     "name": "stderr",
     "output_type": "stream",
     "text": [
      "submitting request as query ID first...\n",
      "\n",
      "retrieving files using fileIDS...\n",
      "\n"
     ]
    },
    {
     "name": "stdout",
     "output_type": "stream",
     "text": [
      "[1] \"Initiating file download for all-archr-dem_2023-10-07.csv\"\n",
      "[1] \"Download successful.\"\n"
     ]
    }
   ],
   "source": [
    "dem_fres <- cacheFiles(dem_uuid)\n",
    "dem_file <- list.files(\n",
    "    paste0(\"cache/\",dem_uuid),\n",
    "    recursive = TRUE, full.names = TRUE\n",
    ")"
   ]
  },
  {
   "cell_type": "markdown",
   "id": "905ba75c-cee6-49d1-b1cd-02fbfb4fad96",
   "metadata": {},
   "source": [
    "## Differential expression barplots"
   ]
  },
  {
   "cell_type": "markdown",
   "id": "1c3e4bb5-03ed-442a-9d02-7ff638f976ba",
   "metadata": {},
   "source": [
    "### DEG Barplots"
   ]
  },
  {
   "cell_type": "code",
   "execution_count": 13,
   "id": "dd332feb-cf34-4252-8371-e2c5c224c0e3",
   "metadata": {
    "tags": []
   },
   "outputs": [],
   "source": [
    "fdr_cutoff <- 0.05"
   ]
  },
  {
   "cell_type": "code",
   "execution_count": 23,
   "id": "b8a3a874-f7f0-4a39-9301-5643d845be34",
   "metadata": {
    "tags": []
   },
   "outputs": [],
   "source": [
    "type_colors <- read.csv(\"../common/color_sets/aifi_cell_type_colors.csv\")"
   ]
  },
  {
   "cell_type": "code",
   "execution_count": 24,
   "id": "5de04188-a014-49b0-9b04-50eadc11005f",
   "metadata": {
    "tags": []
   },
   "outputs": [],
   "source": [
    "all_deg <- read.csv(deg_file)"
   ]
  },
  {
   "cell_type": "code",
   "execution_count": 25,
   "id": "1373c9cb-ce1c-45b2-bda7-5a7353fe6a4a",
   "metadata": {
    "tags": []
   },
   "outputs": [],
   "source": [
    "all_deg <- all_deg %>%\n",
    "  mutate(\n",
    "      direction_sign = ifelse(\n",
    "          is.na(logFC),\n",
    "          sign(coef_D),\n",
    "          sign(logFC)\n",
    "      ),\n",
    "      direction = ifelse(\n",
    "          direction_sign == 1,\n",
    "          \"up\", \"dn\"\n",
    "      )\n",
    "  )"
   ]
  },
  {
   "cell_type": "code",
   "execution_count": 26,
   "id": "6e3588a7-c440-423c-a329-18542f647f59",
   "metadata": {
    "tags": []
   },
   "outputs": [],
   "source": [
    "all_deg <- all_deg %>%\n",
    "  filter(fg == \"bortezomib\")"
   ]
  },
  {
   "cell_type": "code",
   "execution_count": 36,
   "id": "ba225a45-c85b-4311-9b36-7f0baafc20a0",
   "metadata": {
    "tags": []
   },
   "outputs": [],
   "source": [
    "deg_summary <- all_deg %>%\n",
    "  group_by(fg, timepoint, aifi_cell_type, n_sample) %>%\n",
    "  summarise(n_sig = sum(adjP < fdr_cutoff),\n",
    "            n_up = sum(adjP < fdr_cutoff & direction == \"up\"),\n",
    "            n_dn = sum(adjP < fdr_cutoff & direction == \"dn\"),\n",
    "            .groups = \"keep\")"
   ]
  },
  {
   "cell_type": "code",
   "execution_count": 37,
   "id": "49b71adc-1717-4666-9d5f-8ca9e0e4dd5f",
   "metadata": {
    "tags": []
   },
   "outputs": [
    {
     "name": "stderr",
     "output_type": "stream",
     "text": [
      "\u001b[1m\u001b[22mJoining with `by = join_by(aifi_cell_type)`\n"
     ]
    }
   ],
   "source": [
    "plot_data <- deg_summary %>%\n",
    "  rename(aifi_cell_type = aifi_cell_type) %>%\n",
    "  left_join(type_colors) %>%\n",
    "  mutate(treat_time = paste0(fg,\"_\",timepoint)) %>%\n",
    "  group_by(fg) %>%\n",
    "  mutate(max_val = max(c(n_up, n_dn))) %>%\n",
    "  ungroup()"
   ]
  },
  {
   "cell_type": "code",
   "execution_count": 38,
   "id": "199a1ed4-2ad5-4011-a00c-a6142adb0702",
   "metadata": {
    "tags": []
   },
   "outputs": [
    {
     "data": {
      "text/html": [
       "<table class=\"dataframe\">\n",
       "<caption>A tibble: 3 × 13</caption>\n",
       "<thead>\n",
       "\t<tr><th scope=col>fg</th><th scope=col>timepoint</th><th scope=col>aifi_cell_type</th><th scope=col>n_sample</th><th scope=col>n_sig</th><th scope=col>n_up</th><th scope=col>n_dn</th><th scope=col>cell_type_label</th><th scope=col>cell_type_color</th><th scope=col>cell_type_xpos</th><th scope=col>cell_type_ypos</th><th scope=col>treat_time</th><th scope=col>max_val</th></tr>\n",
       "\t<tr><th scope=col>&lt;chr&gt;</th><th scope=col>&lt;int&gt;</th><th scope=col>&lt;chr&gt;</th><th scope=col>&lt;int&gt;</th><th scope=col>&lt;int&gt;</th><th scope=col>&lt;int&gt;</th><th scope=col>&lt;int&gt;</th><th scope=col>&lt;chr&gt;</th><th scope=col>&lt;chr&gt;</th><th scope=col>&lt;int&gt;</th><th scope=col>&lt;int&gt;</th><th scope=col>&lt;chr&gt;</th><th scope=col>&lt;int&gt;</th></tr>\n",
       "</thead>\n",
       "<tbody>\n",
       "\t<tr><td>bortezomib</td><td> 4</td><td>t_cd4_naive</td><td>1352</td><td>   0</td><td>   0</td><td>   0</td><td>CD4 Naive</td><td>#93A7D1</td><td>1</td><td>7</td><td>bortezomib_4 </td><td>3181</td></tr>\n",
       "\t<tr><td>bortezomib</td><td>24</td><td>t_cd4_naive</td><td>1352</td><td> 247</td><td> 165</td><td>  82</td><td>CD4 Naive</td><td>#93A7D1</td><td>1</td><td>7</td><td>bortezomib_24</td><td>3181</td></tr>\n",
       "\t<tr><td>bortezomib</td><td>72</td><td>t_cd4_naive</td><td>1352</td><td>5802</td><td>3181</td><td>2621</td><td>CD4 Naive</td><td>#93A7D1</td><td>1</td><td>7</td><td>bortezomib_72</td><td>3181</td></tr>\n",
       "</tbody>\n",
       "</table>\n"
      ],
      "text/latex": [
       "A tibble: 3 × 13\n",
       "\\begin{tabular}{lllllllllllll}\n",
       " fg & timepoint & aifi\\_cell\\_type & n\\_sample & n\\_sig & n\\_up & n\\_dn & cell\\_type\\_label & cell\\_type\\_color & cell\\_type\\_xpos & cell\\_type\\_ypos & treat\\_time & max\\_val\\\\\n",
       " <chr> & <int> & <chr> & <int> & <int> & <int> & <int> & <chr> & <chr> & <int> & <int> & <chr> & <int>\\\\\n",
       "\\hline\n",
       "\t bortezomib &  4 & t\\_cd4\\_naive & 1352 &    0 &    0 &    0 & CD4 Naive & \\#93A7D1 & 1 & 7 & bortezomib\\_4  & 3181\\\\\n",
       "\t bortezomib & 24 & t\\_cd4\\_naive & 1352 &  247 &  165 &   82 & CD4 Naive & \\#93A7D1 & 1 & 7 & bortezomib\\_24 & 3181\\\\\n",
       "\t bortezomib & 72 & t\\_cd4\\_naive & 1352 & 5802 & 3181 & 2621 & CD4 Naive & \\#93A7D1 & 1 & 7 & bortezomib\\_72 & 3181\\\\\n",
       "\\end{tabular}\n"
      ],
      "text/markdown": [
       "\n",
       "A tibble: 3 × 13\n",
       "\n",
       "| fg &lt;chr&gt; | timepoint &lt;int&gt; | aifi_cell_type &lt;chr&gt; | n_sample &lt;int&gt; | n_sig &lt;int&gt; | n_up &lt;int&gt; | n_dn &lt;int&gt; | cell_type_label &lt;chr&gt; | cell_type_color &lt;chr&gt; | cell_type_xpos &lt;int&gt; | cell_type_ypos &lt;int&gt; | treat_time &lt;chr&gt; | max_val &lt;int&gt; |\n",
       "|---|---|---|---|---|---|---|---|---|---|---|---|---|\n",
       "| bortezomib |  4 | t_cd4_naive | 1352 |    0 |    0 |    0 | CD4 Naive | #93A7D1 | 1 | 7 | bortezomib_4  | 3181 |\n",
       "| bortezomib | 24 | t_cd4_naive | 1352 |  247 |  165 |   82 | CD4 Naive | #93A7D1 | 1 | 7 | bortezomib_24 | 3181 |\n",
       "| bortezomib | 72 | t_cd4_naive | 1352 | 5802 | 3181 | 2621 | CD4 Naive | #93A7D1 | 1 | 7 | bortezomib_72 | 3181 |\n",
       "\n"
      ],
      "text/plain": [
       "  fg         timepoint aifi_cell_type n_sample n_sig n_up n_dn cell_type_label\n",
       "1 bortezomib  4        t_cd4_naive    1352        0     0    0 CD4 Naive      \n",
       "2 bortezomib 24        t_cd4_naive    1352      247   165   82 CD4 Naive      \n",
       "3 bortezomib 72        t_cd4_naive    1352     5802  3181 2621 CD4 Naive      \n",
       "  cell_type_color cell_type_xpos cell_type_ypos treat_time    max_val\n",
       "1 #93A7D1         1              7              bortezomib_4  3181   \n",
       "2 #93A7D1         1              7              bortezomib_24 3181   \n",
       "3 #93A7D1         1              7              bortezomib_72 3181   "
      ]
     },
     "metadata": {},
     "output_type": "display_data"
    }
   ],
   "source": [
    "plot_data %>%\n",
    "  filter(fg == \"bortezomib\",\n",
    "         aifi_cell_type == \"t_cd4_naive\")"
   ]
  },
  {
   "cell_type": "code",
   "execution_count": null,
   "id": "d30daa04-1630-49d7-b798-76db60dea4a7",
   "metadata": {},
   "outputs": [],
   "source": [
    "write.csv(\n",
    "    plot_data,\n",
    "    file.path(out_dir, paste0(\"bortezomib_deg_summary_data_\", Sys.Date(), \".csv\")),\n",
    "    quote = FALSE,\n",
    "    row.names = FALSE\n",
    ")"
   ]
  },
  {
   "cell_type": "code",
   "execution_count": 39,
   "id": "fbd3f4b4-6f35-4a19-be9f-ee8bf6b611ee",
   "metadata": {
    "tags": []
   },
   "outputs": [],
   "source": [
    "options(repr.plot.width = 12, repr.plot.height = 4)\n",
    "treat_plots <- map(\n",
    "    treat_times,\n",
    "    function(tt) {\n",
    "                \n",
    "        pd <- plot_data %>%\n",
    "          filter(treat_time == tt)\n",
    "        \n",
    "        x_max <- pd$max_val[1]\n",
    "        x_min <- -1 * x_max\n",
    "        x_breaks <- unique(c(seq(signif(x_min, 1), 0, length.out = 3),\n",
    "                             seq(0, signif(x_max, 1), length.out = 3)))\n",
    "        \n",
    "        timepoint <- pd$timepoint[1]\n",
    "        pd_max <- max(max(pd$n_dn), max(pd$n_up))\n",
    "        if(pd_max < 100) {\n",
    "            pd_max <- 100\n",
    "        }\n",
    "        \n",
    "        up_pd <- pd %>%\n",
    "          mutate(xmin = 0, xmax = n_up,\n",
    "                 fill = \"orangered\")\n",
    "        dn_pd <- pd %>%\n",
    "          mutate(xmin = -1 * n_dn, xmax = 0,\n",
    "                 fill = \"dodgerblue\")\n",
    "        \n",
    "        pd <- rbind(up_pd, dn_pd)\n",
    "        \n",
    "        plot_ypos <- pd %>%\n",
    "          select(aifi_cell_type, cell_type_label, \n",
    "                 cell_type_color, cell_type_ypos, \n",
    "                 n_sample, n_sig) %>%\n",
    "          unique()\n",
    "        \n",
    "        p <- ggplot()\n",
    "        \n",
    "        if(timepoint == 4) {\n",
    "            x_lim <- c(x_min * 3.5, x_max * 1.1)\n",
    "            \n",
    "            p <- p + geom_rect(data = plot_ypos,\n",
    "                    aes(ymin = cell_type_ypos - 0.5, ymax = cell_type_ypos + 0.5,\n",
    "                        xmin = x_min * 3.5, xmax = x_min * 1.1,\n",
    "                        fill = cell_type_color),\n",
    "                    alpha = 0.8) +\n",
    "            geom_text(data = plot_ypos,\n",
    "                    aes(x = x_min * 1.6, y = cell_type_ypos,\n",
    "                        label = cell_type_label),\n",
    "                    hjust = 1,\n",
    "                    vjust = 0.5) +\n",
    "            geom_text(data = plot_ypos,\n",
    "                    aes(x = x_min * 1.2, y = cell_type_ypos,\n",
    "                        label = n_sample),\n",
    "                    hjust = 1)\n",
    "            \n",
    "        } else {\n",
    "            x_lim <- c(x_min * 1.1, x_max * 1.1)\n",
    "        }\n",
    "        p <- p +\n",
    "          geom_rect(data = plot_ypos,\n",
    "                    aes(ymin = cell_type_ypos - 0.5, ymax = cell_type_ypos + 0.5,\n",
    "                        xmin = x_min * 1.1, xmax = x_max * 1.1,\n",
    "                        fill = cell_type_color),\n",
    "                    alpha = 0.3) +\n",
    "          geom_rect(data = pd,\n",
    "                   aes(ymin = cell_type_ypos - 0.35, ymax = cell_type_ypos + 0.35,\n",
    "                       xmin = xmin, xmax = xmax,\n",
    "                       fill = fill)) +\n",
    "          geom_vline(data = data.frame(x = 0),\n",
    "                     aes(xintercept = x)) +\n",
    "          scale_y_continuous(\"\",\n",
    "                             limits = c(min(plot_ypos$cell_type_ypos) - 0.5, max(plot_ypos$cell_type_ypos) + 0.5)) +\n",
    "          scale_fill_identity() +\n",
    "          scale_x_continuous(paste0(\"N DEGs\\n(FDR < \",fdr_cutoff,\")\"),\n",
    "                             limits = x_lim,\n",
    "                             breaks = x_breaks,\n",
    "                             expand = c(0,0)) +\n",
    "          theme_bw(base_size = 16) +\n",
    "          facet_wrap(~ timepoint, ncol = 3) +\n",
    "          theme(panel.grid.major.y = element_blank(),\n",
    "                panel.grid.minor = element_blank(),\n",
    "                axis.ticks = element_blank(),\n",
    "                axis.text.y = element_blank(),\n",
    "                panel.border = element_blank(),\n",
    "                strip.background = element_blank())\n",
    "        \n",
    "        p\n",
    "    }\n",
    ")\n",
    "names(treat_plots) <- treat_times"
   ]
  },
  {
   "cell_type": "code",
   "execution_count": 40,
   "id": "82c0f49a-1840-4579-98e1-0e59766c9304",
   "metadata": {
    "tags": []
   },
   "outputs": [
    {
     "data": {
      "text/html": [
       "<style>\n",
       ".list-inline {list-style: none; margin:0; padding: 0}\n",
       ".list-inline>li {display: inline-block}\n",
       ".list-inline>li:not(:last-child)::after {content: \"\\00b7\"; padding: 0 .5ex}\n",
       "</style>\n",
       "<ol class=list-inline><li>'bortezomib_4'</li><li>'bortezomib_24'</li><li>'bortezomib_72'</li></ol>\n"
      ],
      "text/latex": [
       "\\begin{enumerate*}\n",
       "\\item 'bortezomib\\_4'\n",
       "\\item 'bortezomib\\_24'\n",
       "\\item 'bortezomib\\_72'\n",
       "\\end{enumerate*}\n"
      ],
      "text/markdown": [
       "1. 'bortezomib_4'\n",
       "2. 'bortezomib_24'\n",
       "3. 'bortezomib_72'\n",
       "\n",
       "\n"
      ],
      "text/plain": [
       "[1] \"bortezomib_4\"  \"bortezomib_24\" \"bortezomib_72\""
      ]
     },
     "metadata": {},
     "output_type": "display_data"
    }
   ],
   "source": [
    "treat_times"
   ]
  },
  {
   "cell_type": "code",
   "execution_count": 41,
   "id": "4e8aa47c-2295-42c7-a1d0-ccd99639314d",
   "metadata": {
    "tags": []
   },
   "outputs": [
    {
     "data": {
      "image/png": "[encoded data removed]",
      "text/plain": [
       "plot without title"
      ]
     },
     "metadata": {
      "image/png": {
       "height": 240,
       "width": 840
      }
     },
     "output_type": "display_data"
    }
   ],
   "source": [
    "options(repr.plot.width = 14, repr.plot.height = 4)\n",
    "all_plots <- plot_grid(\n",
    "    plotlist = treat_plots,\n",
    "    nrow = 1, ncol = 3,\n",
    "    rel_widths = c(2,1,1)\n",
    ")\n",
    "all_plots"
   ]
  },
  {
   "cell_type": "code",
   "execution_count": 42,
   "id": "4dafd0c2-2775-4e6a-9fb0-76d5b593bd4c",
   "metadata": {
    "tags": []
   },
   "outputs": [],
   "source": [
    "out_file <- file.path(\n",
    "    out_dir,\n",
    "    paste0(\"bortezomib_deg_barplot_\",Sys.Date(),\".pdf\")\n",
    ")\n",
    "ggsave(out_file,\n",
    "       all_plots,\n",
    "       width = 14, height = 4)"
   ]
  },
  {
   "cell_type": "markdown",
   "id": "41e2785f-9fa5-4883-b14c-50106be29174",
   "metadata": {},
   "source": [
    "### DAP Barplots"
   ]
  },
  {
   "cell_type": "code",
   "execution_count": 43,
   "id": "5bcace16-cd4c-44c3-94db-51b2a4a6aadc",
   "metadata": {
    "tags": []
   },
   "outputs": [],
   "source": [
    "fdr_cutoff <- 0.05"
   ]
  },
  {
   "cell_type": "code",
   "execution_count": 44,
   "id": "3ae6191a-193b-43e0-b2c6-ee5670c7e028",
   "metadata": {
    "tags": []
   },
   "outputs": [],
   "source": [
    "all_dap <- read.csv(dap_file)"
   ]
  },
  {
   "cell_type": "code",
   "execution_count": 45,
   "id": "820aaf68-fe0d-464c-8fa2-001de56d2785",
   "metadata": {
    "tags": []
   },
   "outputs": [
    {
     "data": {
      "text/html": [
       "<table class=\"dataframe\">\n",
       "<caption>A data.frame: 6 × 10</caption>\n",
       "<thead>\n",
       "\t<tr><th></th><th scope=col>aifi_cell_type</th><th scope=col>fg</th><th scope=col>bg</th><th scope=col>seqnames</th><th scope=col>start</th><th scope=col>end</th><th scope=col>logFC</th><th scope=col>adjP</th><th scope=col>MeanDiff</th><th scope=col>idx</th></tr>\n",
       "\t<tr><th></th><th scope=col>&lt;chr&gt;</th><th scope=col>&lt;chr&gt;</th><th scope=col>&lt;chr&gt;</th><th scope=col>&lt;chr&gt;</th><th scope=col>&lt;int&gt;</th><th scope=col>&lt;int&gt;</th><th scope=col>&lt;dbl&gt;</th><th scope=col>&lt;dbl&gt;</th><th scope=col>&lt;dbl&gt;</th><th scope=col>&lt;int&gt;</th></tr>\n",
       "</thead>\n",
       "<tbody>\n",
       "\t<tr><th scope=row>1</th><td>t_cd4_cm</td><td>bortezomib_4</td><td>dmso_4</td><td>chr1</td><td>817080</td><td>817580</td><td> 0.71758991</td><td>0.9672773</td><td> 0.015274370</td><td> 1</td></tr>\n",
       "\t<tr><th scope=row>2</th><td>t_cd4_cm</td><td>bortezomib_4</td><td>dmso_4</td><td>chr1</td><td>827320</td><td>827820</td><td>-0.01365454</td><td>0.9672773</td><td>-0.002301029</td><td> 2</td></tr>\n",
       "\t<tr><th scope=row>3</th><td>t_cd4_cm</td><td>bortezomib_4</td><td>dmso_4</td><td>chr1</td><td>844410</td><td>844910</td><td>-0.77546781</td><td>0.9672773</td><td>-0.019452669</td><td> 3</td></tr>\n",
       "\t<tr><th scope=row>4</th><td>t_cd4_cm</td><td>bortezomib_4</td><td>dmso_4</td><td>chr1</td><td>903854</td><td>904354</td><td>-0.88964343</td><td>0.9672773</td><td>-0.009819916</td><td> 8</td></tr>\n",
       "\t<tr><th scope=row>5</th><td>t_cd4_cm</td><td>bortezomib_4</td><td>dmso_4</td><td>chr1</td><td>904492</td><td>904992</td><td>-0.24471014</td><td>0.9672773</td><td>-0.044446448</td><td> 9</td></tr>\n",
       "\t<tr><th scope=row>6</th><td>t_cd4_cm</td><td>bortezomib_4</td><td>dmso_4</td><td>chr1</td><td>942394</td><td>942894</td><td>-0.89070139</td><td>0.9672773</td><td>-0.039526604</td><td>22</td></tr>\n",
       "</tbody>\n",
       "</table>\n"
      ],
      "text/latex": [
       "A data.frame: 6 × 10\n",
       "\\begin{tabular}{r|llllllllll}\n",
       "  & aifi\\_cell\\_type & fg & bg & seqnames & start & end & logFC & adjP & MeanDiff & idx\\\\\n",
       "  & <chr> & <chr> & <chr> & <chr> & <int> & <int> & <dbl> & <dbl> & <dbl> & <int>\\\\\n",
       "\\hline\n",
       "\t1 & t\\_cd4\\_cm & bortezomib\\_4 & dmso\\_4 & chr1 & 817080 & 817580 &  0.71758991 & 0.9672773 &  0.015274370 &  1\\\\\n",
       "\t2 & t\\_cd4\\_cm & bortezomib\\_4 & dmso\\_4 & chr1 & 827320 & 827820 & -0.01365454 & 0.9672773 & -0.002301029 &  2\\\\\n",
       "\t3 & t\\_cd4\\_cm & bortezomib\\_4 & dmso\\_4 & chr1 & 844410 & 844910 & -0.77546781 & 0.9672773 & -0.019452669 &  3\\\\\n",
       "\t4 & t\\_cd4\\_cm & bortezomib\\_4 & dmso\\_4 & chr1 & 903854 & 904354 & -0.88964343 & 0.9672773 & -0.009819916 &  8\\\\\n",
       "\t5 & t\\_cd4\\_cm & bortezomib\\_4 & dmso\\_4 & chr1 & 904492 & 904992 & -0.24471014 & 0.9672773 & -0.044446448 &  9\\\\\n",
       "\t6 & t\\_cd4\\_cm & bortezomib\\_4 & dmso\\_4 & chr1 & 942394 & 942894 & -0.89070139 & 0.9672773 & -0.039526604 & 22\\\\\n",
       "\\end{tabular}\n"
      ],
      "text/markdown": [
       "\n",
       "A data.frame: 6 × 10\n",
       "\n",
       "| <!--/--> | aifi_cell_type &lt;chr&gt; | fg &lt;chr&gt; | bg &lt;chr&gt; | seqnames &lt;chr&gt; | start &lt;int&gt; | end &lt;int&gt; | logFC &lt;dbl&gt; | adjP &lt;dbl&gt; | MeanDiff &lt;dbl&gt; | idx &lt;int&gt; |\n",
       "|---|---|---|---|---|---|---|---|---|---|---|\n",
       "| 1 | t_cd4_cm | bortezomib_4 | dmso_4 | chr1 | 817080 | 817580 |  0.71758991 | 0.9672773 |  0.015274370 |  1 |\n",
       "| 2 | t_cd4_cm | bortezomib_4 | dmso_4 | chr1 | 827320 | 827820 | -0.01365454 | 0.9672773 | -0.002301029 |  2 |\n",
       "| 3 | t_cd4_cm | bortezomib_4 | dmso_4 | chr1 | 844410 | 844910 | -0.77546781 | 0.9672773 | -0.019452669 |  3 |\n",
       "| 4 | t_cd4_cm | bortezomib_4 | dmso_4 | chr1 | 903854 | 904354 | -0.88964343 | 0.9672773 | -0.009819916 |  8 |\n",
       "| 5 | t_cd4_cm | bortezomib_4 | dmso_4 | chr1 | 904492 | 904992 | -0.24471014 | 0.9672773 | -0.044446448 |  9 |\n",
       "| 6 | t_cd4_cm | bortezomib_4 | dmso_4 | chr1 | 942394 | 942894 | -0.89070139 | 0.9672773 | -0.039526604 | 22 |\n",
       "\n"
      ],
      "text/plain": [
       "  aifi_cell_type fg           bg     seqnames start  end    logFC      \n",
       "1 t_cd4_cm       bortezomib_4 dmso_4 chr1     817080 817580  0.71758991\n",
       "2 t_cd4_cm       bortezomib_4 dmso_4 chr1     827320 827820 -0.01365454\n",
       "3 t_cd4_cm       bortezomib_4 dmso_4 chr1     844410 844910 -0.77546781\n",
       "4 t_cd4_cm       bortezomib_4 dmso_4 chr1     903854 904354 -0.88964343\n",
       "5 t_cd4_cm       bortezomib_4 dmso_4 chr1     904492 904992 -0.24471014\n",
       "6 t_cd4_cm       bortezomib_4 dmso_4 chr1     942394 942894 -0.89070139\n",
       "  adjP      MeanDiff     idx\n",
       "1 0.9672773  0.015274370  1 \n",
       "2 0.9672773 -0.002301029  2 \n",
       "3 0.9672773 -0.019452669  3 \n",
       "4 0.9672773 -0.009819916  8 \n",
       "5 0.9672773 -0.044446448  9 \n",
       "6 0.9672773 -0.039526604 22 "
      ]
     },
     "metadata": {},
     "output_type": "display_data"
    }
   ],
   "source": [
    "head(all_dap)"
   ]
  },
  {
   "cell_type": "code",
   "execution_count": 46,
   "id": "dc773bed-ff96-4477-9e07-00323e73cb37",
   "metadata": {
    "tags": []
   },
   "outputs": [],
   "source": [
    "all_dap <- all_dap %>%\n",
    "  mutate(timepoint = sub(\".+_\",\"\",fg),\n",
    "         fg = sub(\"_.+\",\"\",fg),\n",
    "         bg = sub(\"_.+\",\"\",bg)) %>%\n",
    "  filter(fg == \"bortezomib\") %>%\n",
    "  mutate(direction = ifelse(logFC > 0, \"up\", \"dn\"))"
   ]
  },
  {
   "cell_type": "code",
   "execution_count": 47,
   "id": "a8b78db5-1bd6-43e6-8ddb-27df5496425b",
   "metadata": {
    "tags": []
   },
   "outputs": [
    {
     "data": {
      "text/html": [
       "<table class=\"dataframe\">\n",
       "<caption>A data.frame: 6 × 12</caption>\n",
       "<thead>\n",
       "\t<tr><th></th><th scope=col>aifi_cell_type</th><th scope=col>fg</th><th scope=col>bg</th><th scope=col>seqnames</th><th scope=col>start</th><th scope=col>end</th><th scope=col>logFC</th><th scope=col>adjP</th><th scope=col>MeanDiff</th><th scope=col>idx</th><th scope=col>timepoint</th><th scope=col>direction</th></tr>\n",
       "\t<tr><th></th><th scope=col>&lt;chr&gt;</th><th scope=col>&lt;chr&gt;</th><th scope=col>&lt;chr&gt;</th><th scope=col>&lt;chr&gt;</th><th scope=col>&lt;int&gt;</th><th scope=col>&lt;int&gt;</th><th scope=col>&lt;dbl&gt;</th><th scope=col>&lt;dbl&gt;</th><th scope=col>&lt;dbl&gt;</th><th scope=col>&lt;int&gt;</th><th scope=col>&lt;chr&gt;</th><th scope=col>&lt;chr&gt;</th></tr>\n",
       "</thead>\n",
       "<tbody>\n",
       "\t<tr><th scope=row>1</th><td>t_cd4_cm</td><td>bortezomib</td><td>dmso</td><td>chr1</td><td>817080</td><td>817580</td><td> 0.71758991</td><td>0.9672773</td><td> 0.015274370</td><td> 1</td><td>4</td><td>up</td></tr>\n",
       "\t<tr><th scope=row>2</th><td>t_cd4_cm</td><td>bortezomib</td><td>dmso</td><td>chr1</td><td>827320</td><td>827820</td><td>-0.01365454</td><td>0.9672773</td><td>-0.002301029</td><td> 2</td><td>4</td><td>dn</td></tr>\n",
       "\t<tr><th scope=row>3</th><td>t_cd4_cm</td><td>bortezomib</td><td>dmso</td><td>chr1</td><td>844410</td><td>844910</td><td>-0.77546781</td><td>0.9672773</td><td>-0.019452669</td><td> 3</td><td>4</td><td>dn</td></tr>\n",
       "\t<tr><th scope=row>4</th><td>t_cd4_cm</td><td>bortezomib</td><td>dmso</td><td>chr1</td><td>903854</td><td>904354</td><td>-0.88964343</td><td>0.9672773</td><td>-0.009819916</td><td> 8</td><td>4</td><td>dn</td></tr>\n",
       "\t<tr><th scope=row>5</th><td>t_cd4_cm</td><td>bortezomib</td><td>dmso</td><td>chr1</td><td>904492</td><td>904992</td><td>-0.24471014</td><td>0.9672773</td><td>-0.044446448</td><td> 9</td><td>4</td><td>dn</td></tr>\n",
       "\t<tr><th scope=row>6</th><td>t_cd4_cm</td><td>bortezomib</td><td>dmso</td><td>chr1</td><td>942394</td><td>942894</td><td>-0.89070139</td><td>0.9672773</td><td>-0.039526604</td><td>22</td><td>4</td><td>dn</td></tr>\n",
       "</tbody>\n",
       "</table>\n"
      ],
      "text/latex": [
       "A data.frame: 6 × 12\n",
       "\\begin{tabular}{r|llllllllllll}\n",
       "  & aifi\\_cell\\_type & fg & bg & seqnames & start & end & logFC & adjP & MeanDiff & idx & timepoint & direction\\\\\n",
       "  & <chr> & <chr> & <chr> & <chr> & <int> & <int> & <dbl> & <dbl> & <dbl> & <int> & <chr> & <chr>\\\\\n",
       "\\hline\n",
       "\t1 & t\\_cd4\\_cm & bortezomib & dmso & chr1 & 817080 & 817580 &  0.71758991 & 0.9672773 &  0.015274370 &  1 & 4 & up\\\\\n",
       "\t2 & t\\_cd4\\_cm & bortezomib & dmso & chr1 & 827320 & 827820 & -0.01365454 & 0.9672773 & -0.002301029 &  2 & 4 & dn\\\\\n",
       "\t3 & t\\_cd4\\_cm & bortezomib & dmso & chr1 & 844410 & 844910 & -0.77546781 & 0.9672773 & -0.019452669 &  3 & 4 & dn\\\\\n",
       "\t4 & t\\_cd4\\_cm & bortezomib & dmso & chr1 & 903854 & 904354 & -0.88964343 & 0.9672773 & -0.009819916 &  8 & 4 & dn\\\\\n",
       "\t5 & t\\_cd4\\_cm & bortezomib & dmso & chr1 & 904492 & 904992 & -0.24471014 & 0.9672773 & -0.044446448 &  9 & 4 & dn\\\\\n",
       "\t6 & t\\_cd4\\_cm & bortezomib & dmso & chr1 & 942394 & 942894 & -0.89070139 & 0.9672773 & -0.039526604 & 22 & 4 & dn\\\\\n",
       "\\end{tabular}\n"
      ],
      "text/markdown": [
       "\n",
       "A data.frame: 6 × 12\n",
       "\n",
       "| <!--/--> | aifi_cell_type &lt;chr&gt; | fg &lt;chr&gt; | bg &lt;chr&gt; | seqnames &lt;chr&gt; | start &lt;int&gt; | end &lt;int&gt; | logFC &lt;dbl&gt; | adjP &lt;dbl&gt; | MeanDiff &lt;dbl&gt; | idx &lt;int&gt; | timepoint &lt;chr&gt; | direction &lt;chr&gt; |\n",
       "|---|---|---|---|---|---|---|---|---|---|---|---|---|\n",
       "| 1 | t_cd4_cm | bortezomib | dmso | chr1 | 817080 | 817580 |  0.71758991 | 0.9672773 |  0.015274370 |  1 | 4 | up |\n",
       "| 2 | t_cd4_cm | bortezomib | dmso | chr1 | 827320 | 827820 | -0.01365454 | 0.9672773 | -0.002301029 |  2 | 4 | dn |\n",
       "| 3 | t_cd4_cm | bortezomib | dmso | chr1 | 844410 | 844910 | -0.77546781 | 0.9672773 | -0.019452669 |  3 | 4 | dn |\n",
       "| 4 | t_cd4_cm | bortezomib | dmso | chr1 | 903854 | 904354 | -0.88964343 | 0.9672773 | -0.009819916 |  8 | 4 | dn |\n",
       "| 5 | t_cd4_cm | bortezomib | dmso | chr1 | 904492 | 904992 | -0.24471014 | 0.9672773 | -0.044446448 |  9 | 4 | dn |\n",
       "| 6 | t_cd4_cm | bortezomib | dmso | chr1 | 942394 | 942894 | -0.89070139 | 0.9672773 | -0.039526604 | 22 | 4 | dn |\n",
       "\n"
      ],
      "text/plain": [
       "  aifi_cell_type fg         bg   seqnames start  end    logFC       adjP     \n",
       "1 t_cd4_cm       bortezomib dmso chr1     817080 817580  0.71758991 0.9672773\n",
       "2 t_cd4_cm       bortezomib dmso chr1     827320 827820 -0.01365454 0.9672773\n",
       "3 t_cd4_cm       bortezomib dmso chr1     844410 844910 -0.77546781 0.9672773\n",
       "4 t_cd4_cm       bortezomib dmso chr1     903854 904354 -0.88964343 0.9672773\n",
       "5 t_cd4_cm       bortezomib dmso chr1     904492 904992 -0.24471014 0.9672773\n",
       "6 t_cd4_cm       bortezomib dmso chr1     942394 942894 -0.89070139 0.9672773\n",
       "  MeanDiff     idx timepoint direction\n",
       "1  0.015274370  1  4         up       \n",
       "2 -0.002301029  2  4         dn       \n",
       "3 -0.019452669  3  4         dn       \n",
       "4 -0.009819916  8  4         dn       \n",
       "5 -0.044446448  9  4         dn       \n",
       "6 -0.039526604 22  4         dn       "
      ]
     },
     "metadata": {},
     "output_type": "display_data"
    }
   ],
   "source": [
    "head(all_dap)"
   ]
  },
  {
   "cell_type": "code",
   "execution_count": 48,
   "id": "225c503b-b3b2-4be9-b0fd-323a51bf3186",
   "metadata": {
    "tags": []
   },
   "outputs": [
    {
     "data": {
      "text/plain": [
       "\n",
       "    t_cd4_cm     t_cd4_em  t_cd4_naive   t_cd4_treg t_cd8_memory  t_cd8_naive \n",
       "      220388       213581       203460       174095       204682       218512 "
      ]
     },
     "metadata": {},
     "output_type": "display_data"
    }
   ],
   "source": [
    "table(all_dap$aifi_cell_type)"
   ]
  },
  {
   "cell_type": "code",
   "execution_count": 50,
   "id": "eb71525d-ee2b-4091-a0e9-034200137f6d",
   "metadata": {
    "tags": []
   },
   "outputs": [],
   "source": [
    "dap_summary <- all_dap %>%\n",
    "  group_by(fg, timepoint, aifi_cell_type) %>%\n",
    "  summarise(n_sig = sum(adjP < fdr_cutoff),\n",
    "            n_up = sum(adjP < fdr_cutoff & direction == \"up\"),\n",
    "            n_dn = sum(adjP < fdr_cutoff & direction == \"dn\"),\n",
    "            .groups = \"keep\")"
   ]
  },
  {
   "cell_type": "code",
   "execution_count": 52,
   "id": "8b19f6bf-e380-495c-b3e7-22eba61d818f",
   "metadata": {
    "tags": []
   },
   "outputs": [
    {
     "data": {
      "text/html": [
       "<table class=\"dataframe\">\n",
       "<caption>A grouped_df: 6 × 6</caption>\n",
       "<thead>\n",
       "\t<tr><th scope=col>fg</th><th scope=col>timepoint</th><th scope=col>aifi_cell_type</th><th scope=col>n_sig</th><th scope=col>n_up</th><th scope=col>n_dn</th></tr>\n",
       "\t<tr><th scope=col>&lt;chr&gt;</th><th scope=col>&lt;chr&gt;</th><th scope=col>&lt;chr&gt;</th><th scope=col>&lt;int&gt;</th><th scope=col>&lt;int&gt;</th><th scope=col>&lt;int&gt;</th></tr>\n",
       "</thead>\n",
       "<tbody>\n",
       "\t<tr><td>bortezomib</td><td>24</td><td>t_cd4_cm    </td><td>  5</td><td>  5</td><td>0</td></tr>\n",
       "\t<tr><td>bortezomib</td><td>24</td><td>t_cd4_em    </td><td> 47</td><td> 47</td><td>0</td></tr>\n",
       "\t<tr><td>bortezomib</td><td>24</td><td>t_cd4_naive </td><td>  2</td><td>  2</td><td>0</td></tr>\n",
       "\t<tr><td>bortezomib</td><td>24</td><td>t_cd4_treg  </td><td> 23</td><td> 23</td><td>0</td></tr>\n",
       "\t<tr><td>bortezomib</td><td>24</td><td>t_cd8_memory</td><td>178</td><td>171</td><td>7</td></tr>\n",
       "\t<tr><td>bortezomib</td><td>24</td><td>t_cd8_naive </td><td> 56</td><td> 52</td><td>4</td></tr>\n",
       "</tbody>\n",
       "</table>\n"
      ],
      "text/latex": [
       "A grouped\\_df: 6 × 6\n",
       "\\begin{tabular}{llllll}\n",
       " fg & timepoint & aifi\\_cell\\_type & n\\_sig & n\\_up & n\\_dn\\\\\n",
       " <chr> & <chr> & <chr> & <int> & <int> & <int>\\\\\n",
       "\\hline\n",
       "\t bortezomib & 24 & t\\_cd4\\_cm     &   5 &   5 & 0\\\\\n",
       "\t bortezomib & 24 & t\\_cd4\\_em     &  47 &  47 & 0\\\\\n",
       "\t bortezomib & 24 & t\\_cd4\\_naive  &   2 &   2 & 0\\\\\n",
       "\t bortezomib & 24 & t\\_cd4\\_treg   &  23 &  23 & 0\\\\\n",
       "\t bortezomib & 24 & t\\_cd8\\_memory & 178 & 171 & 7\\\\\n",
       "\t bortezomib & 24 & t\\_cd8\\_naive  &  56 &  52 & 4\\\\\n",
       "\\end{tabular}\n"
      ],
      "text/markdown": [
       "\n",
       "A grouped_df: 6 × 6\n",
       "\n",
       "| fg &lt;chr&gt; | timepoint &lt;chr&gt; | aifi_cell_type &lt;chr&gt; | n_sig &lt;int&gt; | n_up &lt;int&gt; | n_dn &lt;int&gt; |\n",
       "|---|---|---|---|---|---|\n",
       "| bortezomib | 24 | t_cd4_cm     |   5 |   5 | 0 |\n",
       "| bortezomib | 24 | t_cd4_em     |  47 |  47 | 0 |\n",
       "| bortezomib | 24 | t_cd4_naive  |   2 |   2 | 0 |\n",
       "| bortezomib | 24 | t_cd4_treg   |  23 |  23 | 0 |\n",
       "| bortezomib | 24 | t_cd8_memory | 178 | 171 | 7 |\n",
       "| bortezomib | 24 | t_cd8_naive  |  56 |  52 | 4 |\n",
       "\n"
      ],
      "text/plain": [
       "  fg         timepoint aifi_cell_type n_sig n_up n_dn\n",
       "1 bortezomib 24        t_cd4_cm         5     5  0   \n",
       "2 bortezomib 24        t_cd4_em        47    47  0   \n",
       "3 bortezomib 24        t_cd4_naive      2     2  0   \n",
       "4 bortezomib 24        t_cd4_treg      23    23  0   \n",
       "5 bortezomib 24        t_cd8_memory   178   171  7   \n",
       "6 bortezomib 24        t_cd8_naive     56    52  4   "
      ]
     },
     "metadata": {},
     "output_type": "display_data"
    }
   ],
   "source": [
    "head(dap_summary)"
   ]
  },
  {
   "cell_type": "code",
   "execution_count": 53,
   "id": "faa19afd-1e6b-47ef-882c-e093d043a3f2",
   "metadata": {
    "tags": []
   },
   "outputs": [
    {
     "name": "stderr",
     "output_type": "stream",
     "text": [
      "\u001b[1m\u001b[22mJoining with `by = join_by(aifi_cell_type)`\n"
     ]
    }
   ],
   "source": [
    "plot_data <- dap_summary %>%\n",
    "  left_join(type_colors) %>%\n",
    "  mutate(treat_time = paste0(fg,\"_\",timepoint)) %>%\n",
    "  group_by(fg) %>%\n",
    "  mutate(max_val = max(c(n_up, n_dn))) %>%\n",
    "  ungroup()"
   ]
  },
  {
   "cell_type": "code",
   "execution_count": 55,
   "id": "4a926959-07b2-4f0d-818b-321bc429c9b2",
   "metadata": {
    "tags": []
   },
   "outputs": [
    {
     "data": {
      "text/html": [
       "<table class=\"dataframe\">\n",
       "<caption>A tibble: 3 × 12</caption>\n",
       "<thead>\n",
       "\t<tr><th scope=col>fg</th><th scope=col>timepoint</th><th scope=col>aifi_cell_type</th><th scope=col>n_sig</th><th scope=col>n_up</th><th scope=col>n_dn</th><th scope=col>cell_type_label</th><th scope=col>cell_type_color</th><th scope=col>cell_type_xpos</th><th scope=col>cell_type_ypos</th><th scope=col>treat_time</th><th scope=col>max_val</th></tr>\n",
       "\t<tr><th scope=col>&lt;chr&gt;</th><th scope=col>&lt;chr&gt;</th><th scope=col>&lt;chr&gt;</th><th scope=col>&lt;int&gt;</th><th scope=col>&lt;int&gt;</th><th scope=col>&lt;int&gt;</th><th scope=col>&lt;chr&gt;</th><th scope=col>&lt;chr&gt;</th><th scope=col>&lt;int&gt;</th><th scope=col>&lt;int&gt;</th><th scope=col>&lt;chr&gt;</th><th scope=col>&lt;int&gt;</th></tr>\n",
       "</thead>\n",
       "<tbody>\n",
       "\t<tr><td>bortezomib</td><td>24</td><td>t_cd4_naive</td><td>   2</td><td>   2</td><td>   0</td><td>CD4 Naive</td><td>#93A7D1</td><td>1</td><td>7</td><td>bortezomib_24</td><td>3812</td></tr>\n",
       "\t<tr><td>bortezomib</td><td>4 </td><td>t_cd4_naive</td><td>   0</td><td>   0</td><td>   0</td><td>CD4 Naive</td><td>#93A7D1</td><td>1</td><td>7</td><td>bortezomib_4 </td><td>3812</td></tr>\n",
       "\t<tr><td>bortezomib</td><td>72</td><td>t_cd4_naive</td><td>2853</td><td>1793</td><td>1060</td><td>CD4 Naive</td><td>#93A7D1</td><td>1</td><td>7</td><td>bortezomib_72</td><td>3812</td></tr>\n",
       "</tbody>\n",
       "</table>\n"
      ],
      "text/latex": [
       "A tibble: 3 × 12\n",
       "\\begin{tabular}{llllllllllll}\n",
       " fg & timepoint & aifi\\_cell\\_type & n\\_sig & n\\_up & n\\_dn & cell\\_type\\_label & cell\\_type\\_color & cell\\_type\\_xpos & cell\\_type\\_ypos & treat\\_time & max\\_val\\\\\n",
       " <chr> & <chr> & <chr> & <int> & <int> & <int> & <chr> & <chr> & <int> & <int> & <chr> & <int>\\\\\n",
       "\\hline\n",
       "\t bortezomib & 24 & t\\_cd4\\_naive &    2 &    2 &    0 & CD4 Naive & \\#93A7D1 & 1 & 7 & bortezomib\\_24 & 3812\\\\\n",
       "\t bortezomib & 4  & t\\_cd4\\_naive &    0 &    0 &    0 & CD4 Naive & \\#93A7D1 & 1 & 7 & bortezomib\\_4  & 3812\\\\\n",
       "\t bortezomib & 72 & t\\_cd4\\_naive & 2853 & 1793 & 1060 & CD4 Naive & \\#93A7D1 & 1 & 7 & bortezomib\\_72 & 3812\\\\\n",
       "\\end{tabular}\n"
      ],
      "text/markdown": [
       "\n",
       "A tibble: 3 × 12\n",
       "\n",
       "| fg &lt;chr&gt; | timepoint &lt;chr&gt; | aifi_cell_type &lt;chr&gt; | n_sig &lt;int&gt; | n_up &lt;int&gt; | n_dn &lt;int&gt; | cell_type_label &lt;chr&gt; | cell_type_color &lt;chr&gt; | cell_type_xpos &lt;int&gt; | cell_type_ypos &lt;int&gt; | treat_time &lt;chr&gt; | max_val &lt;int&gt; |\n",
       "|---|---|---|---|---|---|---|---|---|---|---|---|\n",
       "| bortezomib | 24 | t_cd4_naive |    2 |    2 |    0 | CD4 Naive | #93A7D1 | 1 | 7 | bortezomib_24 | 3812 |\n",
       "| bortezomib | 4  | t_cd4_naive |    0 |    0 |    0 | CD4 Naive | #93A7D1 | 1 | 7 | bortezomib_4  | 3812 |\n",
       "| bortezomib | 72 | t_cd4_naive | 2853 | 1793 | 1060 | CD4 Naive | #93A7D1 | 1 | 7 | bortezomib_72 | 3812 |\n",
       "\n"
      ],
      "text/plain": [
       "  fg         timepoint aifi_cell_type n_sig n_up n_dn cell_type_label\n",
       "1 bortezomib 24        t_cd4_naive       2     2    0 CD4 Naive      \n",
       "2 bortezomib 4         t_cd4_naive       0     0    0 CD4 Naive      \n",
       "3 bortezomib 72        t_cd4_naive    2853  1793 1060 CD4 Naive      \n",
       "  cell_type_color cell_type_xpos cell_type_ypos treat_time    max_val\n",
       "1 #93A7D1         1              7              bortezomib_24 3812   \n",
       "2 #93A7D1         1              7              bortezomib_4  3812   \n",
       "3 #93A7D1         1              7              bortezomib_72 3812   "
      ]
     },
     "metadata": {},
     "output_type": "display_data"
    }
   ],
   "source": [
    "plot_data %>%\n",
    "  filter(fg == \"bortezomib\",\n",
    "         aifi_cell_type == \"t_cd4_naive\")"
   ]
  },
  {
   "cell_type": "code",
   "execution_count": null,
   "id": "1343d527-8950-4160-b595-941967ebd3e8",
   "metadata": {},
   "outputs": [],
   "source": [
    "write.csv(\n",
    "    plot_data,\n",
    "    file.path(out_dir, paste0(\"bortezomib_dap_summary_data_\", Sys.Date(), \".csv\")),\n",
    "    quote = FALSE,\n",
    "    row.names = FALSE\n",
    ")"
   ]
  },
  {
   "cell_type": "code",
   "execution_count": 56,
   "id": "fa08dec2-b539-41d9-b77f-73649c8274cb",
   "metadata": {
    "tags": []
   },
   "outputs": [
    {
     "data": {
      "text/html": [
       "<style>\n",
       ".list-inline {list-style: none; margin:0; padding: 0}\n",
       ".list-inline>li {display: inline-block}\n",
       ".list-inline>li:not(:last-child)::after {content: \"\\00b7\"; padding: 0 .5ex}\n",
       "</style>\n",
       "<ol class=list-inline><li>'bortezomib_24'</li><li>'bortezomib_4'</li><li>'bortezomib_72'</li></ol>\n"
      ],
      "text/latex": [
       "\\begin{enumerate*}\n",
       "\\item 'bortezomib\\_24'\n",
       "\\item 'bortezomib\\_4'\n",
       "\\item 'bortezomib\\_72'\n",
       "\\end{enumerate*}\n"
      ],
      "text/markdown": [
       "1. 'bortezomib_24'\n",
       "2. 'bortezomib_4'\n",
       "3. 'bortezomib_72'\n",
       "\n",
       "\n"
      ],
      "text/plain": [
       "[1] \"bortezomib_24\" \"bortezomib_4\"  \"bortezomib_72\""
      ]
     },
     "metadata": {},
     "output_type": "display_data"
    }
   ],
   "source": [
    "treat_times <- unique(plot_data$treat_time)\n",
    "treat_times"
   ]
  },
  {
   "cell_type": "code",
   "execution_count": 57,
   "id": "92fcebd7-2921-4172-b7b1-a9e748536037",
   "metadata": {
    "tags": []
   },
   "outputs": [],
   "source": [
    "options(repr.plot.width = 12, repr.plot.height = 4)\n",
    "treat_plots <- map(\n",
    "    treat_times,\n",
    "    function(tt) {\n",
    "        \n",
    "        pd <- plot_data %>%\n",
    "          filter(treat_time == tt)\n",
    "        \n",
    "        x_max <- pd$max_val[1]\n",
    "        x_min <- -1 * x_max\n",
    "        x_breaks <- unique(c(seq(signif(x_min, 1), 0, length.out = 3),\n",
    "                             seq(0, signif(x_max, 1), length.out = 3)))\n",
    "        x_max <- max(x_max, x_breaks[length(x_breaks)])\n",
    "        x_min <- min(x_min, x_breaks[1])\n",
    "        \n",
    "        timepoint <- pd$timepoint[1]\n",
    "\n",
    "        up_pd <- pd %>%\n",
    "          mutate(xmin = 0, xmax = n_up,\n",
    "                 fill = \"orangered\")\n",
    "        dn_pd <- pd %>%\n",
    "          mutate(xmin = -1 * n_dn, xmax = 0,\n",
    "                 fill = \"dodgerblue\")\n",
    "        \n",
    "        pd <- rbind(up_pd, dn_pd)\n",
    "        \n",
    "        plot_ypos <- pd %>%\n",
    "          select(aifi_cell_type, cell_type_label, \n",
    "                 cell_type_color, cell_type_ypos, \n",
    "                 n_sig) %>%\n",
    "          unique()\n",
    "        \n",
    "        p <- ggplot()\n",
    "        \n",
    "        if(timepoint == 4) {\n",
    "            x_lim <- c(x_min * 3.5, x_max * 1.1)\n",
    "            \n",
    "            p <- p + geom_rect(data = plot_ypos,\n",
    "                    aes(ymin = cell_type_ypos - 0.5, ymax = cell_type_ypos + 0.5,\n",
    "                        xmin = x_min * 3.5, xmax = x_min * 1.1,\n",
    "                        fill = cell_type_color),\n",
    "                    alpha = 0.8) +\n",
    "            geom_text(data = plot_ypos,\n",
    "                    aes(x = x_min * 1.6, y = cell_type_ypos,\n",
    "                        label = cell_type_label),\n",
    "                    hjust = 1,\n",
    "                    vjust = 0.5)\n",
    "            \n",
    "        } else {\n",
    "            x_lim <- c(x_min * 1.1, x_max * 1.1)\n",
    "        }\n",
    "        p <- p +\n",
    "          geom_rect(data = plot_ypos,\n",
    "                    aes(ymin = cell_type_ypos - 0.5, ymax = cell_type_ypos + 0.5,\n",
    "                        xmin = x_min * 1.1, xmax = x_max * 1.1,\n",
    "                        fill = cell_type_color),\n",
    "                    alpha = 0.3) +\n",
    "          geom_rect(data = pd,\n",
    "                   aes(ymin = cell_type_ypos - 0.35, ymax = cell_type_ypos + 0.35,\n",
    "                       xmin = xmin, xmax = xmax,\n",
    "                       fill = fill)) +\n",
    "          geom_vline(data = data.frame(x = 0),\n",
    "                     aes(xintercept = x)) +\n",
    "          scale_y_continuous(\"\",\n",
    "                             limits = c(min(plot_ypos$cell_type_ypos) - 0.5, max(plot_ypos$cell_type_ypos) + 0.5)) +\n",
    "          scale_fill_identity() +\n",
    "          scale_x_continuous(paste0(\"N DAPs\\n(FDR < \",fdr_cutoff,\")\"),\n",
    "                             limits = x_lim,\n",
    "                             breaks = x_breaks,\n",
    "                             expand = c(0,0)) +\n",
    "          theme_bw(base_size = 16) +\n",
    "          facet_wrap(~ timepoint, ncol = 3) +\n",
    "          theme(panel.grid.major.y = element_blank(),\n",
    "                panel.grid.minor = element_blank(),\n",
    "                axis.ticks = element_blank(),\n",
    "                axis.text.y = element_blank(),\n",
    "                panel.border = element_blank(),\n",
    "                strip.background = element_blank())\n",
    "        \n",
    "        p\n",
    "    }\n",
    ")\n",
    "names(treat_plots) <- treat_times"
   ]
  },
  {
   "cell_type": "code",
   "execution_count": 61,
   "id": "88ac6a47-b982-4afd-a9a4-3c2b825eb51e",
   "metadata": {
    "tags": []
   },
   "outputs": [
    {
     "data": {
      "image/png": "[encoded data removed]",
      "text/plain": [
       "plot without title"
      ]
     },
     "metadata": {
      "image/png": {
       "height": 240,
       "width": 840
      }
     },
     "output_type": "display_data"
    }
   ],
   "source": [
    "options(repr.plot.width = 14, repr.plot.height = 4)\n",
    "all_plots <- plot_grid(\n",
    "    plotlist = treat_plots[c(\"bortezomib_4\",\"bortezomib_24\",\"bortezomib_72\")],\n",
    "    nrow = 1, ncol = 3,\n",
    "    rel_widths = c(2,1,1)\n",
    ")\n",
    "all_plots"
   ]
  },
  {
   "cell_type": "code",
   "execution_count": 62,
   "id": "1c9f6f73-d09b-44ba-be7d-ae52e52902d0",
   "metadata": {
    "tags": []
   },
   "outputs": [],
   "source": [
    "out_file <- file.path(\n",
    "    out_dir,\n",
    "    paste0(\"bortezomib_dap_barplot_\",Sys.Date(),\".pdf\")\n",
    ")\n",
    "ggsave(out_file,\n",
    "       all_plots,\n",
    "       width = 14, height = 4)"
   ]
  },
  {
   "cell_type": "markdown",
   "id": "fb389b51-6f07-4ae7-86d0-69931095dae2",
   "metadata": {},
   "source": [
    "### DDE Barplots\n",
    "Differentially detected epitopes, aka Differentially expressed proteins (DEP)"
   ]
  },
  {
   "cell_type": "code",
   "execution_count": 63,
   "id": "c82d65a5-7d22-44e9-8687-229d8d705d75",
   "metadata": {
    "tags": []
   },
   "outputs": [],
   "source": [
    "fdr_cutoff <- 0.05"
   ]
  },
  {
   "cell_type": "code",
   "execution_count": 64,
   "id": "5c877401-fcac-479d-a7df-90921a411959",
   "metadata": {
    "tags": []
   },
   "outputs": [],
   "source": [
    "all_dep <- read.csv(dep_file)"
   ]
  },
  {
   "cell_type": "code",
   "execution_count": 85,
   "id": "f247be4e-35dd-407a-bb51-7b7c500ddfe2",
   "metadata": {
    "tags": []
   },
   "outputs": [],
   "source": [
    "all_dep <- all_dep %>%\n",
    "  filter(fg == \"bortezomib\") %>%\n",
    "  mutate(direction = ifelse(logFC > 0, \"up\", \"dn\"))"
   ]
  },
  {
   "cell_type": "code",
   "execution_count": 86,
   "id": "9e13252a-0bf9-4a95-89e7-99fd787d5fa8",
   "metadata": {
    "tags": []
   },
   "outputs": [],
   "source": [
    "dep_epitope_summary <- all_dep %>%\n",
    "  filter(adjP < fdr_cutoff) %>%\n",
    "  group_by(fg, feature, direction) %>%\n",
    "  summarise(n_types_up = n(), .groups = \"keep\")"
   ]
  },
  {
   "cell_type": "code",
   "execution_count": 87,
   "id": "d106c55c-0e03-4fe4-8a65-3ff18bcb3013",
   "metadata": {
    "tags": []
   },
   "outputs": [],
   "source": [
    "dep_summary <- all_dep %>%\n",
    "  group_by(fg, timepoint, aifi_cell_type) %>%\n",
    "  summarise(n_sig = sum(adjP < fdr_cutoff),\n",
    "            n_up = sum(adjP < fdr_cutoff & direction == \"up\"),\n",
    "            n_dn = sum(adjP < fdr_cutoff & direction == \"dn\"),\n",
    "            .groups = \"keep\")"
   ]
  },
  {
   "cell_type": "code",
   "execution_count": 89,
   "id": "3ee6fc3e-f7ad-4777-b977-7a608ccf177d",
   "metadata": {
    "tags": []
   },
   "outputs": [
    {
     "name": "stderr",
     "output_type": "stream",
     "text": [
      "\u001b[1m\u001b[22mJoining with `by = join_by(aifi_cell_type)`\n"
     ]
    }
   ],
   "source": [
    "plot_data <- dep_summary %>%\n",
    "  left_join(type_colors) %>%\n",
    "  mutate(treat_time = paste0(fg,\"_\",timepoint)) %>%\n",
    "  group_by(fg) %>%\n",
    "  mutate(max_val = max(c(n_up, n_dn))) %>%\n",
    "  ungroup()"
   ]
  },
  {
   "cell_type": "code",
   "execution_count": 91,
   "id": "b93da9af-af59-4583-89f8-54798cbf50b7",
   "metadata": {
    "tags": []
   },
   "outputs": [
    {
     "data": {
      "text/html": [
       "<table class=\"dataframe\">\n",
       "<caption>A tibble: 3 × 12</caption>\n",
       "<thead>\n",
       "\t<tr><th scope=col>fg</th><th scope=col>timepoint</th><th scope=col>aifi_cell_type</th><th scope=col>n_sig</th><th scope=col>n_up</th><th scope=col>n_dn</th><th scope=col>cell_type_label</th><th scope=col>cell_type_color</th><th scope=col>cell_type_xpos</th><th scope=col>cell_type_ypos</th><th scope=col>treat_time</th><th scope=col>max_val</th></tr>\n",
       "\t<tr><th scope=col>&lt;chr&gt;</th><th scope=col>&lt;int&gt;</th><th scope=col>&lt;chr&gt;</th><th scope=col>&lt;int&gt;</th><th scope=col>&lt;int&gt;</th><th scope=col>&lt;int&gt;</th><th scope=col>&lt;chr&gt;</th><th scope=col>&lt;chr&gt;</th><th scope=col>&lt;int&gt;</th><th scope=col>&lt;int&gt;</th><th scope=col>&lt;chr&gt;</th><th scope=col>&lt;int&gt;</th></tr>\n",
       "</thead>\n",
       "<tbody>\n",
       "\t<tr><td>bortezomib</td><td> 4</td><td>t_cd4_naive</td><td> 4</td><td> 2</td><td>2</td><td>CD4 Naive</td><td>#93A7D1</td><td>1</td><td>7</td><td>bortezomib_4 </td><td>12</td></tr>\n",
       "\t<tr><td>bortezomib</td><td>24</td><td>t_cd4_naive</td><td> 3</td><td> 1</td><td>2</td><td>CD4 Naive</td><td>#93A7D1</td><td>1</td><td>7</td><td>bortezomib_24</td><td>12</td></tr>\n",
       "\t<tr><td>bortezomib</td><td>72</td><td>t_cd4_naive</td><td>19</td><td>12</td><td>7</td><td>CD4 Naive</td><td>#93A7D1</td><td>1</td><td>7</td><td>bortezomib_72</td><td>12</td></tr>\n",
       "</tbody>\n",
       "</table>\n"
      ],
      "text/latex": [
       "A tibble: 3 × 12\n",
       "\\begin{tabular}{llllllllllll}\n",
       " fg & timepoint & aifi\\_cell\\_type & n\\_sig & n\\_up & n\\_dn & cell\\_type\\_label & cell\\_type\\_color & cell\\_type\\_xpos & cell\\_type\\_ypos & treat\\_time & max\\_val\\\\\n",
       " <chr> & <int> & <chr> & <int> & <int> & <int> & <chr> & <chr> & <int> & <int> & <chr> & <int>\\\\\n",
       "\\hline\n",
       "\t bortezomib &  4 & t\\_cd4\\_naive &  4 &  2 & 2 & CD4 Naive & \\#93A7D1 & 1 & 7 & bortezomib\\_4  & 12\\\\\n",
       "\t bortezomib & 24 & t\\_cd4\\_naive &  3 &  1 & 2 & CD4 Naive & \\#93A7D1 & 1 & 7 & bortezomib\\_24 & 12\\\\\n",
       "\t bortezomib & 72 & t\\_cd4\\_naive & 19 & 12 & 7 & CD4 Naive & \\#93A7D1 & 1 & 7 & bortezomib\\_72 & 12\\\\\n",
       "\\end{tabular}\n"
      ],
      "text/markdown": [
       "\n",
       "A tibble: 3 × 12\n",
       "\n",
       "| fg &lt;chr&gt; | timepoint &lt;int&gt; | aifi_cell_type &lt;chr&gt; | n_sig &lt;int&gt; | n_up &lt;int&gt; | n_dn &lt;int&gt; | cell_type_label &lt;chr&gt; | cell_type_color &lt;chr&gt; | cell_type_xpos &lt;int&gt; | cell_type_ypos &lt;int&gt; | treat_time &lt;chr&gt; | max_val &lt;int&gt; |\n",
       "|---|---|---|---|---|---|---|---|---|---|---|---|\n",
       "| bortezomib |  4 | t_cd4_naive |  4 |  2 | 2 | CD4 Naive | #93A7D1 | 1 | 7 | bortezomib_4  | 12 |\n",
       "| bortezomib | 24 | t_cd4_naive |  3 |  1 | 2 | CD4 Naive | #93A7D1 | 1 | 7 | bortezomib_24 | 12 |\n",
       "| bortezomib | 72 | t_cd4_naive | 19 | 12 | 7 | CD4 Naive | #93A7D1 | 1 | 7 | bortezomib_72 | 12 |\n",
       "\n"
      ],
      "text/plain": [
       "  fg         timepoint aifi_cell_type n_sig n_up n_dn cell_type_label\n",
       "1 bortezomib  4        t_cd4_naive     4     2   2    CD4 Naive      \n",
       "2 bortezomib 24        t_cd4_naive     3     1   2    CD4 Naive      \n",
       "3 bortezomib 72        t_cd4_naive    19    12   7    CD4 Naive      \n",
       "  cell_type_color cell_type_xpos cell_type_ypos treat_time    max_val\n",
       "1 #93A7D1         1              7              bortezomib_4  12     \n",
       "2 #93A7D1         1              7              bortezomib_24 12     \n",
       "3 #93A7D1         1              7              bortezomib_72 12     "
      ]
     },
     "metadata": {},
     "output_type": "display_data"
    }
   ],
   "source": [
    "plot_data %>%\n",
    "  filter(fg == \"bortezomib\",\n",
    "         aifi_cell_type == \"t_cd4_naive\")"
   ]
  },
  {
   "cell_type": "code",
   "execution_count": null,
   "id": "bde5f1e9-fce0-45ef-aeb8-0eb1934c6c09",
   "metadata": {},
   "outputs": [],
   "source": [
    "write.csv(\n",
    "    plot_data,\n",
    "    file.path(out_dir, paste0(\"bortezomib_dde_summary_data_\", Sys.Date(), \".csv\")),\n",
    "    quote = FALSE,\n",
    "    row.names = FALSE\n",
    ")"
   ]
  },
  {
   "cell_type": "code",
   "execution_count": 92,
   "id": "ba72ad8f-0aae-4278-93df-61e17ccc06c5",
   "metadata": {
    "tags": []
   },
   "outputs": [
    {
     "data": {
      "text/html": [
       "<style>\n",
       ".list-inline {list-style: none; margin:0; padding: 0}\n",
       ".list-inline>li {display: inline-block}\n",
       ".list-inline>li:not(:last-child)::after {content: \"\\00b7\"; padding: 0 .5ex}\n",
       "</style>\n",
       "<ol class=list-inline><li>'bortezomib_4'</li><li>'bortezomib_24'</li><li>'bortezomib_72'</li></ol>\n"
      ],
      "text/latex": [
       "\\begin{enumerate*}\n",
       "\\item 'bortezomib\\_4'\n",
       "\\item 'bortezomib\\_24'\n",
       "\\item 'bortezomib\\_72'\n",
       "\\end{enumerate*}\n"
      ],
      "text/markdown": [
       "1. 'bortezomib_4'\n",
       "2. 'bortezomib_24'\n",
       "3. 'bortezomib_72'\n",
       "\n",
       "\n"
      ],
      "text/plain": [
       "[1] \"bortezomib_4\"  \"bortezomib_24\" \"bortezomib_72\""
      ]
     },
     "metadata": {},
     "output_type": "display_data"
    }
   ],
   "source": [
    "treat_times <- unique(plot_data$treat_time)\n",
    "treat_times"
   ]
  },
  {
   "cell_type": "code",
   "execution_count": 93,
   "id": "f521652e-3ec7-4d6c-b56e-e0b5726f8c50",
   "metadata": {
    "tags": []
   },
   "outputs": [],
   "source": [
    "options(repr.plot.width = 12, repr.plot.height = 4)\n",
    "treat_plots <- map(\n",
    "    treat_times,\n",
    "    function(tt) {\n",
    "        \n",
    "        pd <- plot_data %>%\n",
    "          filter(treat_time == tt)\n",
    "        \n",
    "        x_max <- pd$max_val[1]\n",
    "        x_min <- -1 * x_max\n",
    "        x_breaks <- unique(c(seq(signif(x_min, 1), 0, length.out = 3),\n",
    "                             seq(0, signif(x_max, 1), length.out = 3)))\n",
    "        \n",
    "        timepoint <- pd$timepoint[1]\n",
    "        \n",
    "        up_pd <- pd %>%\n",
    "          mutate(xmin = 0, xmax = n_up,\n",
    "                 fill = \"orangered\")\n",
    "        dn_pd <- pd %>%\n",
    "          mutate(xmin = -1 * n_dn, xmax = 0,\n",
    "                 fill = \"dodgerblue\")\n",
    "        \n",
    "        pd <- rbind(up_pd, dn_pd)\n",
    "        \n",
    "        plot_ypos <- pd %>%\n",
    "          select(aifi_cell_type, cell_type_label, \n",
    "                 cell_type_color, cell_type_ypos, \n",
    "                 n_sig) %>%\n",
    "          unique()\n",
    "        \n",
    "        p <- ggplot()\n",
    "        \n",
    "        if(timepoint == 4) {\n",
    "            x_lim <- c(x_min * 3.5, x_max * 1.1)\n",
    "            \n",
    "            p <- p + geom_rect(data = plot_ypos,\n",
    "                    aes(ymin = cell_type_ypos - 0.5, ymax = cell_type_ypos + 0.5,\n",
    "                        xmin = x_min * 3.5, xmax = x_min * 1.1,\n",
    "                        fill = cell_type_color),\n",
    "                    alpha = 0.8) +\n",
    "            geom_text(data = plot_ypos,\n",
    "                    aes(x = x_min * 1.6, y = cell_type_ypos,\n",
    "                        label = cell_type_label),\n",
    "                    hjust = 1,\n",
    "                    vjust = 0.5)\n",
    "            \n",
    "        } else {\n",
    "            x_lim <- c(x_min * 1.1, x_max * 1.1)\n",
    "        }\n",
    "        p <- p +\n",
    "          geom_rect(data = plot_ypos,\n",
    "                    aes(ymin = cell_type_ypos - 0.5, ymax = cell_type_ypos + 0.5,\n",
    "                        xmin = x_min * 1.1, xmax = x_max * 1.1,\n",
    "                        fill = cell_type_color),\n",
    "                    alpha = 0.3) +\n",
    "          geom_rect(data = pd,\n",
    "                   aes(ymin = cell_type_ypos - 0.35, ymax = cell_type_ypos + 0.35,\n",
    "                       xmin = xmin, xmax = xmax,\n",
    "                       fill = fill)) +\n",
    "          geom_vline(data = data.frame(x = 0),\n",
    "                     aes(xintercept = x)) +\n",
    "          scale_y_continuous(\"\",\n",
    "                             limits = c(min(plot_ypos$cell_type_ypos) - 0.5, max(plot_ypos$cell_type_ypos) + 0.5)) +\n",
    "          scale_fill_identity() +\n",
    "          scale_x_continuous(paste0(\"N DDEs\\n(FDR < \",fdr_cutoff,\")\"),\n",
    "                             limits = x_lim,\n",
    "                             breaks = x_breaks,\n",
    "                             expand = c(0,0)) +\n",
    "          theme_bw(base_size = 16) +\n",
    "          facet_wrap(~ timepoint, ncol = 3) +\n",
    "          theme(panel.grid.major.y = element_blank(),\n",
    "                panel.grid.minor = element_blank(),\n",
    "                axis.ticks = element_blank(),\n",
    "                axis.text.y = element_blank(),\n",
    "                panel.border = element_blank(),\n",
    "                strip.background = element_blank())\n",
    "        \n",
    "        p\n",
    "    }\n",
    ")\n",
    "names(treat_plots) <- treat_times"
   ]
  },
  {
   "cell_type": "code",
   "execution_count": 94,
   "id": "f53da806-fb11-4b20-8c9a-cab148c47d22",
   "metadata": {
    "tags": []
   },
   "outputs": [
    {
     "data": {
      "text/html": [
       "<style>\n",
       ".list-inline {list-style: none; margin:0; padding: 0}\n",
       ".list-inline>li {display: inline-block}\n",
       ".list-inline>li:not(:last-child)::after {content: \"\\00b7\"; padding: 0 .5ex}\n",
       "</style>\n",
       "<ol class=list-inline><li>'bortezomib_4'</li><li>'bortezomib_24'</li><li>'bortezomib_72'</li></ol>\n"
      ],
      "text/latex": [
       "\\begin{enumerate*}\n",
       "\\item 'bortezomib\\_4'\n",
       "\\item 'bortezomib\\_24'\n",
       "\\item 'bortezomib\\_72'\n",
       "\\end{enumerate*}\n"
      ],
      "text/markdown": [
       "1. 'bortezomib_4'\n",
       "2. 'bortezomib_24'\n",
       "3. 'bortezomib_72'\n",
       "\n",
       "\n"
      ],
      "text/plain": [
       "[1] \"bortezomib_4\"  \"bortezomib_24\" \"bortezomib_72\""
      ]
     },
     "metadata": {},
     "output_type": "display_data"
    }
   ],
   "source": [
    "treat_times"
   ]
  },
  {
   "cell_type": "code",
   "execution_count": 95,
   "id": "44667cc3-4b81-4d9f-bbe8-f1ae90843f3b",
   "metadata": {
    "tags": []
   },
   "outputs": [
    {
     "data": {
      "image/png": "[encoded data removed]",
      "text/plain": [
       "plot without title"
      ]
     },
     "metadata": {
      "image/png": {
       "height": 240,
       "width": 840
      }
     },
     "output_type": "display_data"
    }
   ],
   "source": [
    "options(repr.plot.width = 14, repr.plot.height = 4)\n",
    "treat_plots <- treat_plots[c(\"bortezomib_4\", \"bortezomib_24\", \"bortezomib_72\")]\n",
    "all_plots <- plot_grid(\n",
    "    plotlist = treat_plots,\n",
    "    nrow = 1, ncol = 3,\n",
    "    rel_widths = c(2,1,1)\n",
    ")\n",
    "all_plots"
   ]
  },
  {
   "cell_type": "code",
   "execution_count": 96,
   "id": "ff994997-88ec-4649-ba89-9c81ff8bc25b",
   "metadata": {
    "tags": []
   },
   "outputs": [],
   "source": [
    "out_file <- file.path(\n",
    "    out_dir,\n",
    "    paste0(\"bortezomib_dde_barplot_\",Sys.Date(),\".pdf\")\n",
    ")\n",
    "ggsave(out_file,\n",
    "       all_plots,\n",
    "       width = 14, height = 4)"
   ]
  },
  {
   "cell_type": "markdown",
   "id": "3d6022fc-a7a8-468c-bf29-017e2d2db447",
   "metadata": {},
   "source": [
    "## Hallmark pathway enrichment heatmaps"
   ]
  },
  {
   "cell_type": "code",
   "execution_count": 97,
   "id": "a8038025-c866-411d-adab-6cee7bf2eb7e",
   "metadata": {
    "tags": []
   },
   "outputs": [],
   "source": [
    "fdr_cutoff <- 0.1"
   ]
  },
  {
   "cell_type": "code",
   "execution_count": 98,
   "id": "55499989-8b0e-4b02-a467-7a65b606a1fc",
   "metadata": {
    "tags": []
   },
   "outputs": [],
   "source": [
    "hallmark_names <- read.csv(\"../common/gene_sets/hallmark_names.csv\")"
   ]
  },
  {
   "cell_type": "code",
   "execution_count": 99,
   "id": "ed93a59f-7682-47f8-b6a5-3be3c843662a",
   "metadata": {
    "tags": []
   },
   "outputs": [],
   "source": [
    "type_colors <- read.csv(\"../common/color_sets/aifi_cell_type_colors.csv\")"
   ]
  },
  {
   "cell_type": "markdown",
   "id": "6b07e724-f598-463a-b829-051f17f28e47",
   "metadata": {},
   "source": [
    "Gradient colors"
   ]
  },
  {
   "cell_type": "code",
   "execution_count": 101,
   "id": "01abdcb3-a5f7-4b30-9fb3-71c41a279bdb",
   "metadata": {
    "tags": []
   },
   "outputs": [],
   "source": [
    "lo_gc <- data.frame(NES = seq(-3, -1.01, 0.01)) %>%\n",
    "  mutate(nes_color = colorRampPalette(c(\"darkblue\", \"skyblue\"))(n()))\n",
    "mid_lo_gc <- data.frame(NES = seq(-1, 0, 0.01), nes_color = \"gray80\")\n",
    "hi_gc <- data.frame(NES = seq(3,1.01,-0.01)) %>%\n",
    "  mutate(nes_color = colorRampPalette(c(\"darkred\", \"coral\"))(n()))\n",
    "mid_hi_gc <- data.frame(NES = seq(1, 0.01, -0.01), nes_color = \"gray80\")\n",
    "\n",
    "gc_df <- do.call(rbind, list(lo_gc, mid_lo_gc, mid_hi_gc, hi_gc))\n",
    "gc_df$NES <- as.character(gc_df$NES)"
   ]
  },
  {
   "cell_type": "code",
   "execution_count": 102,
   "id": "df2d19b5-f0d5-4391-9a5a-5df6e58cd99c",
   "metadata": {
    "tags": []
   },
   "outputs": [],
   "source": [
    "all_hallmark <- read.csv(hallmark_file)"
   ]
  },
  {
   "cell_type": "code",
   "execution_count": 104,
   "id": "82af9721-1830-4616-aefd-5bd91fca77a9",
   "metadata": {
    "tags": []
   },
   "outputs": [],
   "source": [
    "all_hallmark <- all_hallmark %>%\n",
    "  filter(fg == \"bortezomib\")"
   ]
  },
  {
   "cell_type": "code",
   "execution_count": 103,
   "id": "bd844ef0-87ce-4de6-a71c-bb8027c12c78",
   "metadata": {
    "tags": []
   },
   "outputs": [
    {
     "data": {
      "text/html": [
       "<table class=\"dataframe\">\n",
       "<caption>A data.frame: 6 × 12</caption>\n",
       "<thead>\n",
       "\t<tr><th></th><th scope=col>fg</th><th scope=col>bg</th><th scope=col>timepoint</th><th scope=col>aifi_cell_type</th><th scope=col>pathway_label</th><th scope=col>NES</th><th scope=col>nomP</th><th scope=col>adjP</th><th scope=col>n_leadingEdge</th><th scope=col>n_pathway_genes</th><th scope=col>leadingEdge</th><th scope=col>pathway_genes</th></tr>\n",
       "\t<tr><th></th><th scope=col>&lt;chr&gt;</th><th scope=col>&lt;chr&gt;</th><th scope=col>&lt;int&gt;</th><th scope=col>&lt;chr&gt;</th><th scope=col>&lt;chr&gt;</th><th scope=col>&lt;dbl&gt;</th><th scope=col>&lt;dbl&gt;</th><th scope=col>&lt;dbl&gt;</th><th scope=col>&lt;int&gt;</th><th scope=col>&lt;int&gt;</th><th scope=col>&lt;chr&gt;</th><th scope=col>&lt;chr&gt;</th></tr>\n",
       "</thead>\n",
       "<tbody>\n",
       "\t<tr><th scope=row>1</th><td>bortezomib</td><td>dmso</td><td>24</td><td>t_cd4_cm</td><td>MYC Targets V1       </td><td>2.013740</td><td>7.204018e-08</td><td>3.385888e-06</td><td>180</td><td>236</td><td>PSMD1;PSMD14;PSMB2;PSMD7;PSMA6;PSMC6;RAD23B;PSMD3;PSMB3;PSMA7;HSP90AB1;NAP1L1;PSMC4;SRSF2;PSMA4;PSMA2;CCT3;PTGES3;PSMA1;UBE2L3;PSMD8;XRCC6;CUL1;EIF3J;IFRD1;SRPK1;GLO1                  </td><td>ABCE1;ACP1;AIMP2;AP3S1;APEX1;BUB3;C1QBP;CAD;CANX;CANX;CBX3;CCNA2;CCT2;CCT3;CCT4;CCT5;CCT7;CDC20;CDC45;CDK2;CDK4;CLNS1A;CNBP;COPS5;COX5A;CSTF2;CTPS1;CUL1;CYC1;DDX18;DDX21;DEK;DHX15;DUT;EEF1B2;EEF1B2;EIF1AX;EIF2S1;EIF2S2;EIF3B;EIF3D;EIF3J;EIF4A1;EIF4E;EIF4G2;EIF4H;EIF4H;EPRS1;ERH;ETF1;EXOSC7;FAM120A;FBL;FBL;G3BP1;GLO1;GNL3;GOT2;GSPT1;H2AZ1;HDAC2;HDDC2;HDGF;HNRNPA1;HNRNPA2B1;HNRNPA3;HNRNPC;HNRNPD;HNRNPR;HNRNPR;HNRNPU;HPRT1;HSP90AB1;HSPD1;HSPE1;IARS1;IFRD1;ILF2;IMPDH2;KARS1;KPNA2;KPNB1;LDHA;LDHA;LSM2;LSM2;LSM2;LSM2;LSM2;LSM2;LSM7;MAD2L1;MCM2;MCM4;MCM5;MCM6;MCM7;MRPL23;MRPL23;MRPL9;MRPS18B;MRPS18B;MRPS18B;MRPS18B;MRPS18B;MRPS18B;MRPS18B;MYC;NAP1L1;NCBP1;NCBP2;NDUFAB1;NHP2;NME1;NOLC1;NOP16;NOP56;NPM1;ODC1;ORC2;PA2G4;PABPC1;PABPC4;PCBP1;PCNA;PGK1;PHB;PHB2;POLD2;POLE3;PPIA;PPM1G;PRDX3;PRDX4;PRPF31;PRPF31;PRPF31;PRPF31;PRPF31;PRPF31;PRPF31;PRPF31;PRPF31;PRPF31;PRPS2;PSMA1;PSMA2;PSMA4;PSMA6;PSMA7;PSMB2;PSMB3;PSMB3;PSMC4;PSMC4;PSMC6;PSMD1;PSMD14;PSMD3;PSMD7;PSMD8;PTGES3;PWP1;RACK1;RAD23B;RAN;RANBP1;RFC4;RNPS1;RNPS1;RNPS1;RNPS1;RNPS1;RNPS1;RPL14;RPL18;RPL22;RPL34;RPL6;RPLP0;RPS10;RPS2;RPS3;RPS5;RPS6;RRM1;RRP9;RSL1D1;RUVBL2;SERBP1;SET;SF3A1;SF3B3;SLC25A3;SMARCC1;SNRPA;SNRPA1;SNRPB2;SNRPD1;SNRPD2;SNRPD3;SNRPG;SRM;SRPK1;SRSF1;SRSF2;SRSF3;SRSF7;SSB;SSBP1;SSBP1;STARD7;SYNCRIP;TARDBP;TCP1;TFDP1;TOMM70;TRA2B;TRIM28;TUFM;TXNL4A;TYMS;U2AF1;UBA2;UBE2E1;UBE2L3;USP1;VBP1;VDAC1;VDAC3;XPO1;XPOT;XRCC6;YWHAE;YWHAE;YWHAQ</td></tr>\n",
       "\t<tr><th scope=row>2</th><td>bortezomib</td><td>dmso</td><td>24</td><td>t_cd4_cm</td><td>MTORC1 Signaling     </td><td>1.817862</td><td>2.233468e-04</td><td>3.499100e-03</td><td>142</td><td>211</td><td>PSMD14;TXNRD1;PSMD12;PSMC6;SQSTM1;PSMC2;PSMA3;NMT1;TBK1;GSR;PSMD13;PRDX1;HSPA9;PSMC4;PSMA4;PSMB5;NUP205;GPI;GBE1;GLA;STIP1;GAPDH;GCLC;IFRD1;ATP2A2;SLC2A3;GLRX;HMGCS1;NIBAN1;GSK3B;HSPD1</td><td>ABCF2;ACACA;ACACA;ACLY;ACSL3;ACTR2;ACTR3;ADD3;ADIPOR2;ADIPOR2;AK4;ALDOA;ARPC5L;ASNS;ATP2A2;ATP5MC1;ATP6V1D;AURKA;BCAT1;BHLHE40;BTG2;BUB1;CACYBP;CALR;CANX;CANX;CCNF;CCNG1;CCT6A;CD9;CDC25A;CDKN1A;CFP;COPS5;CORO1A;CTH;CTSC;CXCR4;CYB5B;CYP51A1;DAPP1;DDIT3;DDIT4;DDX39A;DHCR24;DHCR7;DHFR;EBP;EDEM1;EEF1E1;EGLN3;EIF2S2;ELOVL5;ELOVL6;ENO1;EPRS1;ERO1A;ETF1;FADS1;FADS2;FDXR;FGL2;FKBP2;G6PD;GAPDH;GBE1;GCLC;GGA2;GLA;GLRX;GMPS;GOT1;GPI;GPI;GSK3B;GSR;GTF2H1;GTF2H1;HK2;HMBS;HMGCR;HMGCS1;HPRT1;HSP90B1;HSPA4;HSPA5;HSPA9;HSPD1;HSPE1;IDH1;IDI1;IFI30;IFRD1;IGFBP5;IMMT;INSIG1;ITGB2;LDHA;LDHA;LDLR;LGMN;LTA4H;M6PR;MAP2K3;MCM2;MCM4;ME1;MLLT11;MTHFD2;MTHFD2L;NAMPT;NFIL3;NFKBIB;NFKBIB;NFYC;NIBAN1;NMT1;NUFIP1;NUP205;NUPR1;P4HA1;PDAP1;PDK1;PFKL;PGK1;PGM1;PHGDH;PIK3R3;PITPNB;PLK1;PLOD2;PNO1;PNP;POLR3G;PPA1;PPIA;PPP1R15A;PRDX1;PSAT1;PSMA3;PSMA4;PSMB5;PSMC2;PSMC4;PSMC4;PSMC6;PSMD12;PSMD13;PSMD14;PSME3;PSMG1;PSPH;QDPR;RAB1A;RDH11;RIT1;RPA1;RPN1;RRM2;RRP9;SC5D;SCD;SDF2L1;SEC11A;SERP1;SERPINH1;SHMT2;SKAP2;SLA;SLC1A4;SLC1A5;SLC2A1;SLC2A3;SLC37A4;SLC37A4;SLC37A4;SLC6A6;SLC7A11;SLC7A5;SLC9A3R1;SORD;SQLE;SQSTM1;SQSTM1;SRD5A1;SSR1;STARD4;STC1;STIP1;SYTL2;TBK1;TCEA1;TES;TFRC;TM7SF2;TMEM97;TOMM40;TPI1;TRIB3;TUBA4A;TUBG1;TXNRD1;UBE2D3;UCHL5;UFM1;UNG;USO1;VLDLR;WARS1;XBP1;YKT6                                                                                                                                                                  </td></tr>\n",
       "\t<tr><th scope=row>3</th><td>bortezomib</td><td>dmso</td><td>24</td><td>t_cd4_cm</td><td>ROS Pathway          </td><td>1.755945</td><td>9.261899e-03</td><td>5.441366e-02</td><td> 38</td><td> 58</td><td>TXNRD1;TXN;GSR;FTL;PRDX1;GCLM;SOD1;GCLC;PFKP;LAMTOR5;GLRX                                                                                                                               </td><td>ABCC1;ABCC1;ATOX1;CAT;CDKN2D;EGLN2;ERCC2;FES;FTL;G6PD;GCLC;GCLM;GLRX;GLRX2;GPX3;GPX4;GSR;HHEX;HMOX2;HMOX2;IPCEF1;JUNB;LAMTOR5;LSP1;LSP1;MBP;MGST1;MPO;MSRA;MSRA;NDUFA6;NDUFA6;NDUFA6;NDUFA6;NDUFA6;NDUFB4;NDUFS2;NQO1;OXSR1;PDLIM1;PFKP;PRDX1;PRDX2;PRDX4;PRDX6;PRNP;PTPA;SBNO2;SBNO2;SCAF4;SELENOS;SOD1;SOD2;SRXN1;STK25;TXN;TXNRD1;TXNRD2                                                                                                                                                                                                                                                                                                                                                                                                                                                                                                                                                                                                                                                                                                                                                                                                                                                                                                                                                                                                                                                                                                                            </td></tr>\n",
       "\t<tr><th scope=row>4</th><td>bortezomib</td><td>dmso</td><td>24</td><td>t_cd4_cm</td><td>Adipogenesis         </td><td>1.678625</td><td>3.414757e-03</td><td>2.621228e-02</td><td>121</td><td>210</td><td>UBC;UBQLN1;TALDO1;NMT1;BAZ2A;SOD1;ACO2;RTN3;GBE1;MAP4K3;GPD2;RREB1;SQOR;YWHAG;PEX14;RIOK3                                                                                               </td><td>ABCA1;ABCB8;ACAA2;ACADL;ACADM;ACADS;ACLY;ACO2;ACOX1;ADCY6;ADIG;ADIPOQ;ADIPOR2;ADIPOR2;AGPAT3;AIFM1;AK2;ALDH2;ALDOA;ANGPT1;ANGPTL4;APLP2;APOE;ARAF;ARL4A;ATL2;ATP1B3;ATP5PO;BAZ2A;BCKDHA;BCL2L13;BCL6;C3;CAT;CAVIN1;CAVIN2;CCNG2;CD151;CD302;CD36;CDKN2C;CHCHD10;CHCHD10;CHCHD10;CHUK;CIDEA;CMBL;CMPK1;COL15A1;COL4A1;COQ3;COQ5;COQ9;COX6A1;COX7B;COX8A;CPT2;CRAT;CS;CYC1;CYP4B1;DBT;DDT;DDT;DECR1;DGAT1;DGAT1;DGAT1;DHCR7;DHRS7;DHRS7B;DLAT;DLD;DNAJB9;DNAJC15;DRAM2;ECH1;ECH1;ECHS1;ELMOD3;ELOVL6;ENPP2;EPHX2;ESRRA;ESYT1;ETFB;FABP4;FAH;FZD4;G3BP2;GADD45A;GBE1;GHITM;GPAM;GPAT4;GPD2;GPHN;GPX3;GPX4;GRPEL1;HADH;HIBCH;HSPB8;IDH1;IDH3A;IDH3G;IFNGR1;IMMT;ITGA7;ITIH5;ITSN1;JAGN1;LAMA4;LEP;LIFR;LIPE;LPCAT3;LPL;LTC4S;LTC4S;MAP4K3;MCCC1;MDH2;ME1;MGLL;MGST3;MIGA2;MRAP;MRPL15;MTARC2;MTCH2;MTCH2;MYLK;NABP1;NDUFA5;NDUFAB1;NDUFB7;NDUFS3;NDUFS3;NKIRAS1;NMT1;OMD;ORM1;PDCD4;PEMT;PEX14;PFKFB3;PFKL;PGM1;PHLDB1;PHYH;PIM3;PLIN2;POR;PPARG;PPM1B;PPP1R15B;PRDX3;PREB;PTCD3;PTGER3;QDPR;RAB34;REEP5;REEP6;RETN;RETSAT;RIOK3;RMDN3;RNF11;RREB1;RTN3;SAMM50;SCARB1;SCP2;SDHB;SDHC;SLC19A1;SLC1A5;SLC25A1;SLC25A10;SLC27A1;SLC5A6;SLC66A3;SNCG;SOD1;SORBS1;SOWAHC;SPARCL1;SQOR;SSPN;STAT5A;STOM;SUCLG1;SULT1A1;TALDO1;TANK;TKT;TOB1;TST;UBC;UBQLN1;UCK1;UCP2;UQCR10;UQCR11;UQCRC1;UQCRQ;VEGFB;YWHAG                                                                                                                                                                      </td></tr>\n",
       "\t<tr><th scope=row>5</th><td>bortezomib</td><td>dmso</td><td>24</td><td>t_cd4_cm</td><td>Xenobiotic Metabolism</td><td>1.396928</td><td>9.308886e-02</td><td>2.662580e-01</td><td> 73</td><td>224</td><td>GABARAPL1;NMT1;GSR;PTGES3;ACO2;PGD;GCLC;BLVRB;ATP2A2;SAR1B;HACL1                                                                                                                        </td><td>ABCC2;ABCC3;ABCD2;ABHD6;ACO2;ACOX1;ACOX2;ACOX3;ACP1;ACP2;ACSM1;ADH1C;ADH5;ADH7;AHCY;AKR1C2;AKR1C3;ALAS1;ALDH2;ALDH3A1;ALDH9A1;ANGPTL3;AOX1;AP4B1;APOE;AQP9;ARG1;ARG2;ARPP19;ASL;ATOH8;ATP2A2;BCAR1;BCAR1;BCAT1;BLVRB;BPHL;CA2;CASP6;CAT;CBR1;CCL25;CD36;CDA;CDO1;CES1;CES1;CFB;CFB;CFB;CFB;CFB;CFB;CFB;CNDP2;COMT;CROT;CRP;CSAD;CYB5A;CYFIP2;CYP17A1;CYP1A1;CYP1A2;CYP26A1;CYP27A1;CYP2C18;CYP2E1;CYP2J2;CYP2S1;CYP4F2;DCXR;DDAH2;DDAH2;DDAH2;DDAH2;DDAH2;DDAH2;DDAH2;DDC;DDT;DDT;DHPS;DHRS1;DHRS1;DHRS7;ECH1;ECH1;ELOVL5;ENPEP;ENTPD5;EPHA2;EPHX1;ESR1;ETFDH;ETS2;F10;F11;FABP1;FAH;FAS;FBLN1;FBP1;FETUB;FMO1;FMO3;G6PC1;GABARAPL1;GAD1;GART;GART;GCH1;GCKR;GCLC;GCNT2;GCNT2;GNMT;GSR;GSS;GSTA3;GSTM4;GSTO1;GSTT2;GSTT2;HACL1;HES6;HGFAC;HMOX1;HNF4A;HPRT1;HRG;HSD11B1;HSD17B2;ID2;IDH1;IGF1;IGFBP1;IGFBP4;IL1R1;IRF8;ITIH1;ITIH4;JUP;KARS1;KYNU;LCAT;LEAP2;LONP1;LPIN2;MAN1A1;MAOA;MARCHF6;MBL2;MCCC2;MCCC2;MCCC2;MPP2;MT2A;MTHFD1;NDRG2;NFS1;NINJ1;NMT1;NPC1;NQO1;PAPSS2;PC;PDK4;PDLIM5;PEMT;PGD;PGRMC1;PINK1;PLG;PMM1;POR;PPARD;PROS1;PSMB10;PTGDS;PTGES;PTGES3;PTGR1;PTS;PYCR1;RAP1GAP;RBP4;REG1A;RETSAT;SAR1B;SERPINA6;SERPINA6;SERPINE1;SERTAD1;SHMT2;SLC12A4;SLC1A5;SLC22A1;SLC35B1;SLC35D1;SLC46A3;SLC6A12;SLC6A6;SMOX;SPINT2;SSR3;TAT;TDO2;TDO2;TGFB2;TKFC;TMBIM6;TMEM176B;TMEM97;TNFRSF1A;TPST1;TTPA;TYR;UGDH;UPB1;UPP1;VNN1;VTN;XDH                                                                                                                        </td></tr>\n",
       "\t<tr><th scope=row>6</th><td>bortezomib</td><td>dmso</td><td>24</td><td>t_cd4_cm</td><td>Fatty Acid Metabolism</td><td>1.372086</td><td>9.630607e-02</td><td>2.662580e-01</td><td> 94</td><td>165</td><td>HSP90AA1;GABARAPL1;ACADVL;HSPH1;XIST;HSD17B4;ACO2;GPD2;HMGCS1;GRHPR;ADIPOR2                                                                                                             </td><td>AADAT;ACAA1;ACAA2;ACADL;ACADM;ACADS;ACADVL;ACAT2;ACO2;ACOT2;ACOT8;ACOX1;ACSL1;ACSL4;ACSL5;ACSM3;ACSS1;ADH1C;ADH7;ADIPOR2;ADIPOR2;ADSL;ALAD;ALDH1A1;ALDH3A1;ALDH3A2;ALDH9A1;ALDOA;AOC3;APEX1;AQP7;AUH;BCKDHB;BLVRA;BMPR1B;BPHL;CA2;CA4;CA6;CBR1;CBR3;CD1D;CD36;CEL;CIDEA;CPOX;CPT1A;CPT2;CRAT;CRYZ;CYP1A1;CYP4A11;CYP4A22;D2HGDH;DECR1;DHCR24;DLD;DLST;ECH1;ECH1;ECHS1;ECI1;ECI2;EHHADH;ELOVL5;ENO2;ENO3;EPHX1;ERP29;ETFDH;FABP1;FABP2;FASN;FH;FMO1;G0S2;GABARAPL1;GAD2;GAPDHS;GCDH;GLUL;GPD1;GPD2;GRHPR;GSTZ1;H2AZ1;HADH;HADHB;HAO2;HCCS;HIBCH;HMGCL;HMGCS1;HMGCS2;HPGD;HSD17B10;HSD17B11;HSD17B4;HSD17B7;HSDL2;HSP90AA1;HSPH1;IDH1;IDH3B;IDH3G;IDI1;IL4I1;INMT;KMT5A;LDHA;LDHA;LGALS1;LTC4S;LTC4S;MAOA;MCEE;MDH1;MDH2;ME1;METAP1;MGLL;MIF;MIF;MIX23;MLYCD;NBN;NCAPH2;NSDHL;NTHL1;ODC1;OSTC;PCBD1;PDHA1;PDHB;PPARA;PRDX6;PSME1;PSME1;PTPRG;PTS;RAP1GDS1;RDH11;RDH16;REEP6;RETSAT;S100A10;SDHA;SDHC;SDHD;SERINC1;SLC22A5;SMS;SUCLA2;SUCLG1;SUCLG2;TDO2;TDO2;TP53INP2;UBE2L6;UGDH;UROD;UROS;VNN1;XIST;YWHAH                                                                                                                                                                                                                                                                                                                                                                                                                                                              </td></tr>\n",
       "</tbody>\n",
       "</table>\n"
      ],
      "text/latex": [
       "A data.frame: 6 × 12\n",
       "\\begin{tabular}{r|llllllllllll}\n",
       "  & fg & bg & timepoint & aifi\\_cell\\_type & pathway\\_label & NES & nomP & adjP & n\\_leadingEdge & n\\_pathway\\_genes & leadingEdge & pathway\\_genes\\\\\n",
       "  & <chr> & <chr> & <int> & <chr> & <chr> & <dbl> & <dbl> & <dbl> & <int> & <int> & <chr> & <chr>\\\\\n",
       "\\hline\n",
       "\t1 & bortezomib & dmso & 24 & t\\_cd4\\_cm & MYC Targets V1        & 2.013740 & 7.204018e-08 & 3.385888e-06 & 180 & 236 & PSMD1;PSMD14;PSMB2;PSMD7;PSMA6;PSMC6;RAD23B;PSMD3;PSMB3;PSMA7;HSP90AB1;NAP1L1;PSMC4;SRSF2;PSMA4;PSMA2;CCT3;PTGES3;PSMA1;UBE2L3;PSMD8;XRCC6;CUL1;EIF3J;IFRD1;SRPK1;GLO1                   & ABCE1;ACP1;AIMP2;AP3S1;APEX1;BUB3;C1QBP;CAD;CANX;CANX;CBX3;CCNA2;CCT2;CCT3;CCT4;CCT5;CCT7;CDC20;CDC45;CDK2;CDK4;CLNS1A;CNBP;COPS5;COX5A;CSTF2;CTPS1;CUL1;CYC1;DDX18;DDX21;DEK;DHX15;DUT;EEF1B2;EEF1B2;EIF1AX;EIF2S1;EIF2S2;EIF3B;EIF3D;EIF3J;EIF4A1;EIF4E;EIF4G2;EIF4H;EIF4H;EPRS1;ERH;ETF1;EXOSC7;FAM120A;FBL;FBL;G3BP1;GLO1;GNL3;GOT2;GSPT1;H2AZ1;HDAC2;HDDC2;HDGF;HNRNPA1;HNRNPA2B1;HNRNPA3;HNRNPC;HNRNPD;HNRNPR;HNRNPR;HNRNPU;HPRT1;HSP90AB1;HSPD1;HSPE1;IARS1;IFRD1;ILF2;IMPDH2;KARS1;KPNA2;KPNB1;LDHA;LDHA;LSM2;LSM2;LSM2;LSM2;LSM2;LSM2;LSM7;MAD2L1;MCM2;MCM4;MCM5;MCM6;MCM7;MRPL23;MRPL23;MRPL9;MRPS18B;MRPS18B;MRPS18B;MRPS18B;MRPS18B;MRPS18B;MRPS18B;MYC;NAP1L1;NCBP1;NCBP2;NDUFAB1;NHP2;NME1;NOLC1;NOP16;NOP56;NPM1;ODC1;ORC2;PA2G4;PABPC1;PABPC4;PCBP1;PCNA;PGK1;PHB;PHB2;POLD2;POLE3;PPIA;PPM1G;PRDX3;PRDX4;PRPF31;PRPF31;PRPF31;PRPF31;PRPF31;PRPF31;PRPF31;PRPF31;PRPF31;PRPF31;PRPS2;PSMA1;PSMA2;PSMA4;PSMA6;PSMA7;PSMB2;PSMB3;PSMB3;PSMC4;PSMC4;PSMC6;PSMD1;PSMD14;PSMD3;PSMD7;PSMD8;PTGES3;PWP1;RACK1;RAD23B;RAN;RANBP1;RFC4;RNPS1;RNPS1;RNPS1;RNPS1;RNPS1;RNPS1;RPL14;RPL18;RPL22;RPL34;RPL6;RPLP0;RPS10;RPS2;RPS3;RPS5;RPS6;RRM1;RRP9;RSL1D1;RUVBL2;SERBP1;SET;SF3A1;SF3B3;SLC25A3;SMARCC1;SNRPA;SNRPA1;SNRPB2;SNRPD1;SNRPD2;SNRPD3;SNRPG;SRM;SRPK1;SRSF1;SRSF2;SRSF3;SRSF7;SSB;SSBP1;SSBP1;STARD7;SYNCRIP;TARDBP;TCP1;TFDP1;TOMM70;TRA2B;TRIM28;TUFM;TXNL4A;TYMS;U2AF1;UBA2;UBE2E1;UBE2L3;USP1;VBP1;VDAC1;VDAC3;XPO1;XPOT;XRCC6;YWHAE;YWHAE;YWHAQ\\\\\n",
       "\t2 & bortezomib & dmso & 24 & t\\_cd4\\_cm & MTORC1 Signaling      & 1.817862 & 2.233468e-04 & 3.499100e-03 & 142 & 211 & PSMD14;TXNRD1;PSMD12;PSMC6;SQSTM1;PSMC2;PSMA3;NMT1;TBK1;GSR;PSMD13;PRDX1;HSPA9;PSMC4;PSMA4;PSMB5;NUP205;GPI;GBE1;GLA;STIP1;GAPDH;GCLC;IFRD1;ATP2A2;SLC2A3;GLRX;HMGCS1;NIBAN1;GSK3B;HSPD1 & ABCF2;ACACA;ACACA;ACLY;ACSL3;ACTR2;ACTR3;ADD3;ADIPOR2;ADIPOR2;AK4;ALDOA;ARPC5L;ASNS;ATP2A2;ATP5MC1;ATP6V1D;AURKA;BCAT1;BHLHE40;BTG2;BUB1;CACYBP;CALR;CANX;CANX;CCNF;CCNG1;CCT6A;CD9;CDC25A;CDKN1A;CFP;COPS5;CORO1A;CTH;CTSC;CXCR4;CYB5B;CYP51A1;DAPP1;DDIT3;DDIT4;DDX39A;DHCR24;DHCR7;DHFR;EBP;EDEM1;EEF1E1;EGLN3;EIF2S2;ELOVL5;ELOVL6;ENO1;EPRS1;ERO1A;ETF1;FADS1;FADS2;FDXR;FGL2;FKBP2;G6PD;GAPDH;GBE1;GCLC;GGA2;GLA;GLRX;GMPS;GOT1;GPI;GPI;GSK3B;GSR;GTF2H1;GTF2H1;HK2;HMBS;HMGCR;HMGCS1;HPRT1;HSP90B1;HSPA4;HSPA5;HSPA9;HSPD1;HSPE1;IDH1;IDI1;IFI30;IFRD1;IGFBP5;IMMT;INSIG1;ITGB2;LDHA;LDHA;LDLR;LGMN;LTA4H;M6PR;MAP2K3;MCM2;MCM4;ME1;MLLT11;MTHFD2;MTHFD2L;NAMPT;NFIL3;NFKBIB;NFKBIB;NFYC;NIBAN1;NMT1;NUFIP1;NUP205;NUPR1;P4HA1;PDAP1;PDK1;PFKL;PGK1;PGM1;PHGDH;PIK3R3;PITPNB;PLK1;PLOD2;PNO1;PNP;POLR3G;PPA1;PPIA;PPP1R15A;PRDX1;PSAT1;PSMA3;PSMA4;PSMB5;PSMC2;PSMC4;PSMC4;PSMC6;PSMD12;PSMD13;PSMD14;PSME3;PSMG1;PSPH;QDPR;RAB1A;RDH11;RIT1;RPA1;RPN1;RRM2;RRP9;SC5D;SCD;SDF2L1;SEC11A;SERP1;SERPINH1;SHMT2;SKAP2;SLA;SLC1A4;SLC1A5;SLC2A1;SLC2A3;SLC37A4;SLC37A4;SLC37A4;SLC6A6;SLC7A11;SLC7A5;SLC9A3R1;SORD;SQLE;SQSTM1;SQSTM1;SRD5A1;SSR1;STARD4;STC1;STIP1;SYTL2;TBK1;TCEA1;TES;TFRC;TM7SF2;TMEM97;TOMM40;TPI1;TRIB3;TUBA4A;TUBG1;TXNRD1;UBE2D3;UCHL5;UFM1;UNG;USO1;VLDLR;WARS1;XBP1;YKT6                                                                                                                                                                  \\\\\n",
       "\t3 & bortezomib & dmso & 24 & t\\_cd4\\_cm & ROS Pathway           & 1.755945 & 9.261899e-03 & 5.441366e-02 &  38 &  58 & TXNRD1;TXN;GSR;FTL;PRDX1;GCLM;SOD1;GCLC;PFKP;LAMTOR5;GLRX                                                                                                                                & ABCC1;ABCC1;ATOX1;CAT;CDKN2D;EGLN2;ERCC2;FES;FTL;G6PD;GCLC;GCLM;GLRX;GLRX2;GPX3;GPX4;GSR;HHEX;HMOX2;HMOX2;IPCEF1;JUNB;LAMTOR5;LSP1;LSP1;MBP;MGST1;MPO;MSRA;MSRA;NDUFA6;NDUFA6;NDUFA6;NDUFA6;NDUFA6;NDUFB4;NDUFS2;NQO1;OXSR1;PDLIM1;PFKP;PRDX1;PRDX2;PRDX4;PRDX6;PRNP;PTPA;SBNO2;SBNO2;SCAF4;SELENOS;SOD1;SOD2;SRXN1;STK25;TXN;TXNRD1;TXNRD2                                                                                                                                                                                                                                                                                                                                                                                                                                                                                                                                                                                                                                                                                                                                                                                                                                                                                                                                                                                                                                                                                                                            \\\\\n",
       "\t4 & bortezomib & dmso & 24 & t\\_cd4\\_cm & Adipogenesis          & 1.678625 & 3.414757e-03 & 2.621228e-02 & 121 & 210 & UBC;UBQLN1;TALDO1;NMT1;BAZ2A;SOD1;ACO2;RTN3;GBE1;MAP4K3;GPD2;RREB1;SQOR;YWHAG;PEX14;RIOK3                                                                                                & ABCA1;ABCB8;ACAA2;ACADL;ACADM;ACADS;ACLY;ACO2;ACOX1;ADCY6;ADIG;ADIPOQ;ADIPOR2;ADIPOR2;AGPAT3;AIFM1;AK2;ALDH2;ALDOA;ANGPT1;ANGPTL4;APLP2;APOE;ARAF;ARL4A;ATL2;ATP1B3;ATP5PO;BAZ2A;BCKDHA;BCL2L13;BCL6;C3;CAT;CAVIN1;CAVIN2;CCNG2;CD151;CD302;CD36;CDKN2C;CHCHD10;CHCHD10;CHCHD10;CHUK;CIDEA;CMBL;CMPK1;COL15A1;COL4A1;COQ3;COQ5;COQ9;COX6A1;COX7B;COX8A;CPT2;CRAT;CS;CYC1;CYP4B1;DBT;DDT;DDT;DECR1;DGAT1;DGAT1;DGAT1;DHCR7;DHRS7;DHRS7B;DLAT;DLD;DNAJB9;DNAJC15;DRAM2;ECH1;ECH1;ECHS1;ELMOD3;ELOVL6;ENPP2;EPHX2;ESRRA;ESYT1;ETFB;FABP4;FAH;FZD4;G3BP2;GADD45A;GBE1;GHITM;GPAM;GPAT4;GPD2;GPHN;GPX3;GPX4;GRPEL1;HADH;HIBCH;HSPB8;IDH1;IDH3A;IDH3G;IFNGR1;IMMT;ITGA7;ITIH5;ITSN1;JAGN1;LAMA4;LEP;LIFR;LIPE;LPCAT3;LPL;LTC4S;LTC4S;MAP4K3;MCCC1;MDH2;ME1;MGLL;MGST3;MIGA2;MRAP;MRPL15;MTARC2;MTCH2;MTCH2;MYLK;NABP1;NDUFA5;NDUFAB1;NDUFB7;NDUFS3;NDUFS3;NKIRAS1;NMT1;OMD;ORM1;PDCD4;PEMT;PEX14;PFKFB3;PFKL;PGM1;PHLDB1;PHYH;PIM3;PLIN2;POR;PPARG;PPM1B;PPP1R15B;PRDX3;PREB;PTCD3;PTGER3;QDPR;RAB34;REEP5;REEP6;RETN;RETSAT;RIOK3;RMDN3;RNF11;RREB1;RTN3;SAMM50;SCARB1;SCP2;SDHB;SDHC;SLC19A1;SLC1A5;SLC25A1;SLC25A10;SLC27A1;SLC5A6;SLC66A3;SNCG;SOD1;SORBS1;SOWAHC;SPARCL1;SQOR;SSPN;STAT5A;STOM;SUCLG1;SULT1A1;TALDO1;TANK;TKT;TOB1;TST;UBC;UBQLN1;UCK1;UCP2;UQCR10;UQCR11;UQCRC1;UQCRQ;VEGFB;YWHAG                                                                                                                                                                      \\\\\n",
       "\t5 & bortezomib & dmso & 24 & t\\_cd4\\_cm & Xenobiotic Metabolism & 1.396928 & 9.308886e-02 & 2.662580e-01 &  73 & 224 & GABARAPL1;NMT1;GSR;PTGES3;ACO2;PGD;GCLC;BLVRB;ATP2A2;SAR1B;HACL1                                                                                                                         & ABCC2;ABCC3;ABCD2;ABHD6;ACO2;ACOX1;ACOX2;ACOX3;ACP1;ACP2;ACSM1;ADH1C;ADH5;ADH7;AHCY;AKR1C2;AKR1C3;ALAS1;ALDH2;ALDH3A1;ALDH9A1;ANGPTL3;AOX1;AP4B1;APOE;AQP9;ARG1;ARG2;ARPP19;ASL;ATOH8;ATP2A2;BCAR1;BCAR1;BCAT1;BLVRB;BPHL;CA2;CASP6;CAT;CBR1;CCL25;CD36;CDA;CDO1;CES1;CES1;CFB;CFB;CFB;CFB;CFB;CFB;CFB;CNDP2;COMT;CROT;CRP;CSAD;CYB5A;CYFIP2;CYP17A1;CYP1A1;CYP1A2;CYP26A1;CYP27A1;CYP2C18;CYP2E1;CYP2J2;CYP2S1;CYP4F2;DCXR;DDAH2;DDAH2;DDAH2;DDAH2;DDAH2;DDAH2;DDAH2;DDC;DDT;DDT;DHPS;DHRS1;DHRS1;DHRS7;ECH1;ECH1;ELOVL5;ENPEP;ENTPD5;EPHA2;EPHX1;ESR1;ETFDH;ETS2;F10;F11;FABP1;FAH;FAS;FBLN1;FBP1;FETUB;FMO1;FMO3;G6PC1;GABARAPL1;GAD1;GART;GART;GCH1;GCKR;GCLC;GCNT2;GCNT2;GNMT;GSR;GSS;GSTA3;GSTM4;GSTO1;GSTT2;GSTT2;HACL1;HES6;HGFAC;HMOX1;HNF4A;HPRT1;HRG;HSD11B1;HSD17B2;ID2;IDH1;IGF1;IGFBP1;IGFBP4;IL1R1;IRF8;ITIH1;ITIH4;JUP;KARS1;KYNU;LCAT;LEAP2;LONP1;LPIN2;MAN1A1;MAOA;MARCHF6;MBL2;MCCC2;MCCC2;MCCC2;MPP2;MT2A;MTHFD1;NDRG2;NFS1;NINJ1;NMT1;NPC1;NQO1;PAPSS2;PC;PDK4;PDLIM5;PEMT;PGD;PGRMC1;PINK1;PLG;PMM1;POR;PPARD;PROS1;PSMB10;PTGDS;PTGES;PTGES3;PTGR1;PTS;PYCR1;RAP1GAP;RBP4;REG1A;RETSAT;SAR1B;SERPINA6;SERPINA6;SERPINE1;SERTAD1;SHMT2;SLC12A4;SLC1A5;SLC22A1;SLC35B1;SLC35D1;SLC46A3;SLC6A12;SLC6A6;SMOX;SPINT2;SSR3;TAT;TDO2;TDO2;TGFB2;TKFC;TMBIM6;TMEM176B;TMEM97;TNFRSF1A;TPST1;TTPA;TYR;UGDH;UPB1;UPP1;VNN1;VTN;XDH                                                                                                                        \\\\\n",
       "\t6 & bortezomib & dmso & 24 & t\\_cd4\\_cm & Fatty Acid Metabolism & 1.372086 & 9.630607e-02 & 2.662580e-01 &  94 & 165 & HSP90AA1;GABARAPL1;ACADVL;HSPH1;XIST;HSD17B4;ACO2;GPD2;HMGCS1;GRHPR;ADIPOR2                                                                                                              & AADAT;ACAA1;ACAA2;ACADL;ACADM;ACADS;ACADVL;ACAT2;ACO2;ACOT2;ACOT8;ACOX1;ACSL1;ACSL4;ACSL5;ACSM3;ACSS1;ADH1C;ADH7;ADIPOR2;ADIPOR2;ADSL;ALAD;ALDH1A1;ALDH3A1;ALDH3A2;ALDH9A1;ALDOA;AOC3;APEX1;AQP7;AUH;BCKDHB;BLVRA;BMPR1B;BPHL;CA2;CA4;CA6;CBR1;CBR3;CD1D;CD36;CEL;CIDEA;CPOX;CPT1A;CPT2;CRAT;CRYZ;CYP1A1;CYP4A11;CYP4A22;D2HGDH;DECR1;DHCR24;DLD;DLST;ECH1;ECH1;ECHS1;ECI1;ECI2;EHHADH;ELOVL5;ENO2;ENO3;EPHX1;ERP29;ETFDH;FABP1;FABP2;FASN;FH;FMO1;G0S2;GABARAPL1;GAD2;GAPDHS;GCDH;GLUL;GPD1;GPD2;GRHPR;GSTZ1;H2AZ1;HADH;HADHB;HAO2;HCCS;HIBCH;HMGCL;HMGCS1;HMGCS2;HPGD;HSD17B10;HSD17B11;HSD17B4;HSD17B7;HSDL2;HSP90AA1;HSPH1;IDH1;IDH3B;IDH3G;IDI1;IL4I1;INMT;KMT5A;LDHA;LDHA;LGALS1;LTC4S;LTC4S;MAOA;MCEE;MDH1;MDH2;ME1;METAP1;MGLL;MIF;MIF;MIX23;MLYCD;NBN;NCAPH2;NSDHL;NTHL1;ODC1;OSTC;PCBD1;PDHA1;PDHB;PPARA;PRDX6;PSME1;PSME1;PTPRG;PTS;RAP1GDS1;RDH11;RDH16;REEP6;RETSAT;S100A10;SDHA;SDHC;SDHD;SERINC1;SLC22A5;SMS;SUCLA2;SUCLG1;SUCLG2;TDO2;TDO2;TP53INP2;UBE2L6;UGDH;UROD;UROS;VNN1;XIST;YWHAH                                                                                                                                                                                                                                                                                                                                                                                                                                                              \\\\\n",
       "\\end{tabular}\n"
      ],
      "text/markdown": [
       "\n",
       "A data.frame: 6 × 12\n",
       "\n",
       "| <!--/--> | fg &lt;chr&gt; | bg &lt;chr&gt; | timepoint &lt;int&gt; | aifi_cell_type &lt;chr&gt; | pathway_label &lt;chr&gt; | NES &lt;dbl&gt; | nomP &lt;dbl&gt; | adjP &lt;dbl&gt; | n_leadingEdge &lt;int&gt; | n_pathway_genes &lt;int&gt; | leadingEdge &lt;chr&gt; | pathway_genes &lt;chr&gt; |\n",
       "|---|---|---|---|---|---|---|---|---|---|---|---|---|\n",
       "| 1 | bortezomib | dmso | 24 | t_cd4_cm | MYC Targets V1        | 2.013740 | 7.204018e-08 | 3.385888e-06 | 180 | 236 | PSMD1;PSMD14;PSMB2;PSMD7;PSMA6;PSMC6;RAD23B;PSMD3;PSMB3;PSMA7;HSP90AB1;NAP1L1;PSMC4;SRSF2;PSMA4;PSMA2;CCT3;PTGES3;PSMA1;UBE2L3;PSMD8;XRCC6;CUL1;EIF3J;IFRD1;SRPK1;GLO1                   | ABCE1;ACP1;AIMP2;AP3S1;APEX1;BUB3;C1QBP;CAD;CANX;CANX;CBX3;CCNA2;CCT2;CCT3;CCT4;CCT5;CCT7;CDC20;CDC45;CDK2;CDK4;CLNS1A;CNBP;COPS5;COX5A;CSTF2;CTPS1;CUL1;CYC1;DDX18;DDX21;DEK;DHX15;DUT;EEF1B2;EEF1B2;EIF1AX;EIF2S1;EIF2S2;EIF3B;EIF3D;EIF3J;EIF4A1;EIF4E;EIF4G2;EIF4H;EIF4H;EPRS1;ERH;ETF1;EXOSC7;FAM120A;FBL;FBL;G3BP1;GLO1;GNL3;GOT2;GSPT1;H2AZ1;HDAC2;HDDC2;HDGF;HNRNPA1;HNRNPA2B1;HNRNPA3;HNRNPC;HNRNPD;HNRNPR;HNRNPR;HNRNPU;HPRT1;HSP90AB1;HSPD1;HSPE1;IARS1;IFRD1;ILF2;IMPDH2;KARS1;KPNA2;KPNB1;LDHA;LDHA;LSM2;LSM2;LSM2;LSM2;LSM2;LSM2;LSM7;MAD2L1;MCM2;MCM4;MCM5;MCM6;MCM7;MRPL23;MRPL23;MRPL9;MRPS18B;MRPS18B;MRPS18B;MRPS18B;MRPS18B;MRPS18B;MRPS18B;MYC;NAP1L1;NCBP1;NCBP2;NDUFAB1;NHP2;NME1;NOLC1;NOP16;NOP56;NPM1;ODC1;ORC2;PA2G4;PABPC1;PABPC4;PCBP1;PCNA;PGK1;PHB;PHB2;POLD2;POLE3;PPIA;PPM1G;PRDX3;PRDX4;PRPF31;PRPF31;PRPF31;PRPF31;PRPF31;PRPF31;PRPF31;PRPF31;PRPF31;PRPF31;PRPS2;PSMA1;PSMA2;PSMA4;PSMA6;PSMA7;PSMB2;PSMB3;PSMB3;PSMC4;PSMC4;PSMC6;PSMD1;PSMD14;PSMD3;PSMD7;PSMD8;PTGES3;PWP1;RACK1;RAD23B;RAN;RANBP1;RFC4;RNPS1;RNPS1;RNPS1;RNPS1;RNPS1;RNPS1;RPL14;RPL18;RPL22;RPL34;RPL6;RPLP0;RPS10;RPS2;RPS3;RPS5;RPS6;RRM1;RRP9;RSL1D1;RUVBL2;SERBP1;SET;SF3A1;SF3B3;SLC25A3;SMARCC1;SNRPA;SNRPA1;SNRPB2;SNRPD1;SNRPD2;SNRPD3;SNRPG;SRM;SRPK1;SRSF1;SRSF2;SRSF3;SRSF7;SSB;SSBP1;SSBP1;STARD7;SYNCRIP;TARDBP;TCP1;TFDP1;TOMM70;TRA2B;TRIM28;TUFM;TXNL4A;TYMS;U2AF1;UBA2;UBE2E1;UBE2L3;USP1;VBP1;VDAC1;VDAC3;XPO1;XPOT;XRCC6;YWHAE;YWHAE;YWHAQ |\n",
       "| 2 | bortezomib | dmso | 24 | t_cd4_cm | MTORC1 Signaling      | 1.817862 | 2.233468e-04 | 3.499100e-03 | 142 | 211 | PSMD14;TXNRD1;PSMD12;PSMC6;SQSTM1;PSMC2;PSMA3;NMT1;TBK1;GSR;PSMD13;PRDX1;HSPA9;PSMC4;PSMA4;PSMB5;NUP205;GPI;GBE1;GLA;STIP1;GAPDH;GCLC;IFRD1;ATP2A2;SLC2A3;GLRX;HMGCS1;NIBAN1;GSK3B;HSPD1 | ABCF2;ACACA;ACACA;ACLY;ACSL3;ACTR2;ACTR3;ADD3;ADIPOR2;ADIPOR2;AK4;ALDOA;ARPC5L;ASNS;ATP2A2;ATP5MC1;ATP6V1D;AURKA;BCAT1;BHLHE40;BTG2;BUB1;CACYBP;CALR;CANX;CANX;CCNF;CCNG1;CCT6A;CD9;CDC25A;CDKN1A;CFP;COPS5;CORO1A;CTH;CTSC;CXCR4;CYB5B;CYP51A1;DAPP1;DDIT3;DDIT4;DDX39A;DHCR24;DHCR7;DHFR;EBP;EDEM1;EEF1E1;EGLN3;EIF2S2;ELOVL5;ELOVL6;ENO1;EPRS1;ERO1A;ETF1;FADS1;FADS2;FDXR;FGL2;FKBP2;G6PD;GAPDH;GBE1;GCLC;GGA2;GLA;GLRX;GMPS;GOT1;GPI;GPI;GSK3B;GSR;GTF2H1;GTF2H1;HK2;HMBS;HMGCR;HMGCS1;HPRT1;HSP90B1;HSPA4;HSPA5;HSPA9;HSPD1;HSPE1;IDH1;IDI1;IFI30;IFRD1;IGFBP5;IMMT;INSIG1;ITGB2;LDHA;LDHA;LDLR;LGMN;LTA4H;M6PR;MAP2K3;MCM2;MCM4;ME1;MLLT11;MTHFD2;MTHFD2L;NAMPT;NFIL3;NFKBIB;NFKBIB;NFYC;NIBAN1;NMT1;NUFIP1;NUP205;NUPR1;P4HA1;PDAP1;PDK1;PFKL;PGK1;PGM1;PHGDH;PIK3R3;PITPNB;PLK1;PLOD2;PNO1;PNP;POLR3G;PPA1;PPIA;PPP1R15A;PRDX1;PSAT1;PSMA3;PSMA4;PSMB5;PSMC2;PSMC4;PSMC4;PSMC6;PSMD12;PSMD13;PSMD14;PSME3;PSMG1;PSPH;QDPR;RAB1A;RDH11;RIT1;RPA1;RPN1;RRM2;RRP9;SC5D;SCD;SDF2L1;SEC11A;SERP1;SERPINH1;SHMT2;SKAP2;SLA;SLC1A4;SLC1A5;SLC2A1;SLC2A3;SLC37A4;SLC37A4;SLC37A4;SLC6A6;SLC7A11;SLC7A5;SLC9A3R1;SORD;SQLE;SQSTM1;SQSTM1;SRD5A1;SSR1;STARD4;STC1;STIP1;SYTL2;TBK1;TCEA1;TES;TFRC;TM7SF2;TMEM97;TOMM40;TPI1;TRIB3;TUBA4A;TUBG1;TXNRD1;UBE2D3;UCHL5;UFM1;UNG;USO1;VLDLR;WARS1;XBP1;YKT6                                                                                                                                                                   |\n",
       "| 3 | bortezomib | dmso | 24 | t_cd4_cm | ROS Pathway           | 1.755945 | 9.261899e-03 | 5.441366e-02 |  38 |  58 | TXNRD1;TXN;GSR;FTL;PRDX1;GCLM;SOD1;GCLC;PFKP;LAMTOR5;GLRX                                                                                                                                | ABCC1;ABCC1;ATOX1;CAT;CDKN2D;EGLN2;ERCC2;FES;FTL;G6PD;GCLC;GCLM;GLRX;GLRX2;GPX3;GPX4;GSR;HHEX;HMOX2;HMOX2;IPCEF1;JUNB;LAMTOR5;LSP1;LSP1;MBP;MGST1;MPO;MSRA;MSRA;NDUFA6;NDUFA6;NDUFA6;NDUFA6;NDUFA6;NDUFB4;NDUFS2;NQO1;OXSR1;PDLIM1;PFKP;PRDX1;PRDX2;PRDX4;PRDX6;PRNP;PTPA;SBNO2;SBNO2;SCAF4;SELENOS;SOD1;SOD2;SRXN1;STK25;TXN;TXNRD1;TXNRD2                                                                                                                                                                                                                                                                                                                                                                                                                                                                                                                                                                                                                                                                                                                                                                                                                                                                                                                                                                                                                                                                                                                             |\n",
       "| 4 | bortezomib | dmso | 24 | t_cd4_cm | Adipogenesis          | 1.678625 | 3.414757e-03 | 2.621228e-02 | 121 | 210 | UBC;UBQLN1;TALDO1;NMT1;BAZ2A;SOD1;ACO2;RTN3;GBE1;MAP4K3;GPD2;RREB1;SQOR;YWHAG;PEX14;RIOK3                                                                                                | ABCA1;ABCB8;ACAA2;ACADL;ACADM;ACADS;ACLY;ACO2;ACOX1;ADCY6;ADIG;ADIPOQ;ADIPOR2;ADIPOR2;AGPAT3;AIFM1;AK2;ALDH2;ALDOA;ANGPT1;ANGPTL4;APLP2;APOE;ARAF;ARL4A;ATL2;ATP1B3;ATP5PO;BAZ2A;BCKDHA;BCL2L13;BCL6;C3;CAT;CAVIN1;CAVIN2;CCNG2;CD151;CD302;CD36;CDKN2C;CHCHD10;CHCHD10;CHCHD10;CHUK;CIDEA;CMBL;CMPK1;COL15A1;COL4A1;COQ3;COQ5;COQ9;COX6A1;COX7B;COX8A;CPT2;CRAT;CS;CYC1;CYP4B1;DBT;DDT;DDT;DECR1;DGAT1;DGAT1;DGAT1;DHCR7;DHRS7;DHRS7B;DLAT;DLD;DNAJB9;DNAJC15;DRAM2;ECH1;ECH1;ECHS1;ELMOD3;ELOVL6;ENPP2;EPHX2;ESRRA;ESYT1;ETFB;FABP4;FAH;FZD4;G3BP2;GADD45A;GBE1;GHITM;GPAM;GPAT4;GPD2;GPHN;GPX3;GPX4;GRPEL1;HADH;HIBCH;HSPB8;IDH1;IDH3A;IDH3G;IFNGR1;IMMT;ITGA7;ITIH5;ITSN1;JAGN1;LAMA4;LEP;LIFR;LIPE;LPCAT3;LPL;LTC4S;LTC4S;MAP4K3;MCCC1;MDH2;ME1;MGLL;MGST3;MIGA2;MRAP;MRPL15;MTARC2;MTCH2;MTCH2;MYLK;NABP1;NDUFA5;NDUFAB1;NDUFB7;NDUFS3;NDUFS3;NKIRAS1;NMT1;OMD;ORM1;PDCD4;PEMT;PEX14;PFKFB3;PFKL;PGM1;PHLDB1;PHYH;PIM3;PLIN2;POR;PPARG;PPM1B;PPP1R15B;PRDX3;PREB;PTCD3;PTGER3;QDPR;RAB34;REEP5;REEP6;RETN;RETSAT;RIOK3;RMDN3;RNF11;RREB1;RTN3;SAMM50;SCARB1;SCP2;SDHB;SDHC;SLC19A1;SLC1A5;SLC25A1;SLC25A10;SLC27A1;SLC5A6;SLC66A3;SNCG;SOD1;SORBS1;SOWAHC;SPARCL1;SQOR;SSPN;STAT5A;STOM;SUCLG1;SULT1A1;TALDO1;TANK;TKT;TOB1;TST;UBC;UBQLN1;UCK1;UCP2;UQCR10;UQCR11;UQCRC1;UQCRQ;VEGFB;YWHAG                                                                                                                                                                       |\n",
       "| 5 | bortezomib | dmso | 24 | t_cd4_cm | Xenobiotic Metabolism | 1.396928 | 9.308886e-02 | 2.662580e-01 |  73 | 224 | GABARAPL1;NMT1;GSR;PTGES3;ACO2;PGD;GCLC;BLVRB;ATP2A2;SAR1B;HACL1                                                                                                                         | ABCC2;ABCC3;ABCD2;ABHD6;ACO2;ACOX1;ACOX2;ACOX3;ACP1;ACP2;ACSM1;ADH1C;ADH5;ADH7;AHCY;AKR1C2;AKR1C3;ALAS1;ALDH2;ALDH3A1;ALDH9A1;ANGPTL3;AOX1;AP4B1;APOE;AQP9;ARG1;ARG2;ARPP19;ASL;ATOH8;ATP2A2;BCAR1;BCAR1;BCAT1;BLVRB;BPHL;CA2;CASP6;CAT;CBR1;CCL25;CD36;CDA;CDO1;CES1;CES1;CFB;CFB;CFB;CFB;CFB;CFB;CFB;CNDP2;COMT;CROT;CRP;CSAD;CYB5A;CYFIP2;CYP17A1;CYP1A1;CYP1A2;CYP26A1;CYP27A1;CYP2C18;CYP2E1;CYP2J2;CYP2S1;CYP4F2;DCXR;DDAH2;DDAH2;DDAH2;DDAH2;DDAH2;DDAH2;DDAH2;DDC;DDT;DDT;DHPS;DHRS1;DHRS1;DHRS7;ECH1;ECH1;ELOVL5;ENPEP;ENTPD5;EPHA2;EPHX1;ESR1;ETFDH;ETS2;F10;F11;FABP1;FAH;FAS;FBLN1;FBP1;FETUB;FMO1;FMO3;G6PC1;GABARAPL1;GAD1;GART;GART;GCH1;GCKR;GCLC;GCNT2;GCNT2;GNMT;GSR;GSS;GSTA3;GSTM4;GSTO1;GSTT2;GSTT2;HACL1;HES6;HGFAC;HMOX1;HNF4A;HPRT1;HRG;HSD11B1;HSD17B2;ID2;IDH1;IGF1;IGFBP1;IGFBP4;IL1R1;IRF8;ITIH1;ITIH4;JUP;KARS1;KYNU;LCAT;LEAP2;LONP1;LPIN2;MAN1A1;MAOA;MARCHF6;MBL2;MCCC2;MCCC2;MCCC2;MPP2;MT2A;MTHFD1;NDRG2;NFS1;NINJ1;NMT1;NPC1;NQO1;PAPSS2;PC;PDK4;PDLIM5;PEMT;PGD;PGRMC1;PINK1;PLG;PMM1;POR;PPARD;PROS1;PSMB10;PTGDS;PTGES;PTGES3;PTGR1;PTS;PYCR1;RAP1GAP;RBP4;REG1A;RETSAT;SAR1B;SERPINA6;SERPINA6;SERPINE1;SERTAD1;SHMT2;SLC12A4;SLC1A5;SLC22A1;SLC35B1;SLC35D1;SLC46A3;SLC6A12;SLC6A6;SMOX;SPINT2;SSR3;TAT;TDO2;TDO2;TGFB2;TKFC;TMBIM6;TMEM176B;TMEM97;TNFRSF1A;TPST1;TTPA;TYR;UGDH;UPB1;UPP1;VNN1;VTN;XDH                                                                                                                         |\n",
       "| 6 | bortezomib | dmso | 24 | t_cd4_cm | Fatty Acid Metabolism | 1.372086 | 9.630607e-02 | 2.662580e-01 |  94 | 165 | HSP90AA1;GABARAPL1;ACADVL;HSPH1;XIST;HSD17B4;ACO2;GPD2;HMGCS1;GRHPR;ADIPOR2                                                                                                              | AADAT;ACAA1;ACAA2;ACADL;ACADM;ACADS;ACADVL;ACAT2;ACO2;ACOT2;ACOT8;ACOX1;ACSL1;ACSL4;ACSL5;ACSM3;ACSS1;ADH1C;ADH7;ADIPOR2;ADIPOR2;ADSL;ALAD;ALDH1A1;ALDH3A1;ALDH3A2;ALDH9A1;ALDOA;AOC3;APEX1;AQP7;AUH;BCKDHB;BLVRA;BMPR1B;BPHL;CA2;CA4;CA6;CBR1;CBR3;CD1D;CD36;CEL;CIDEA;CPOX;CPT1A;CPT2;CRAT;CRYZ;CYP1A1;CYP4A11;CYP4A22;D2HGDH;DECR1;DHCR24;DLD;DLST;ECH1;ECH1;ECHS1;ECI1;ECI2;EHHADH;ELOVL5;ENO2;ENO3;EPHX1;ERP29;ETFDH;FABP1;FABP2;FASN;FH;FMO1;G0S2;GABARAPL1;GAD2;GAPDHS;GCDH;GLUL;GPD1;GPD2;GRHPR;GSTZ1;H2AZ1;HADH;HADHB;HAO2;HCCS;HIBCH;HMGCL;HMGCS1;HMGCS2;HPGD;HSD17B10;HSD17B11;HSD17B4;HSD17B7;HSDL2;HSP90AA1;HSPH1;IDH1;IDH3B;IDH3G;IDI1;IL4I1;INMT;KMT5A;LDHA;LDHA;LGALS1;LTC4S;LTC4S;MAOA;MCEE;MDH1;MDH2;ME1;METAP1;MGLL;MIF;MIF;MIX23;MLYCD;NBN;NCAPH2;NSDHL;NTHL1;ODC1;OSTC;PCBD1;PDHA1;PDHB;PPARA;PRDX6;PSME1;PSME1;PTPRG;PTS;RAP1GDS1;RDH11;RDH16;REEP6;RETSAT;S100A10;SDHA;SDHC;SDHD;SERINC1;SLC22A5;SMS;SUCLA2;SUCLG1;SUCLG2;TDO2;TDO2;TP53INP2;UBE2L6;UGDH;UROD;UROS;VNN1;XIST;YWHAH                                                                                                                                                                                                                                                                                                                                                                                                                                                               |\n",
       "\n"
      ],
      "text/plain": [
       "  fg         bg   timepoint aifi_cell_type pathway_label         NES     \n",
       "1 bortezomib dmso 24        t_cd4_cm       MYC Targets V1        2.013740\n",
       "2 bortezomib dmso 24        t_cd4_cm       MTORC1 Signaling      1.817862\n",
       "3 bortezomib dmso 24        t_cd4_cm       ROS Pathway           1.755945\n",
       "4 bortezomib dmso 24        t_cd4_cm       Adipogenesis          1.678625\n",
       "5 bortezomib dmso 24        t_cd4_cm       Xenobiotic Metabolism 1.396928\n",
       "6 bortezomib dmso 24        t_cd4_cm       Fatty Acid Metabolism 1.372086\n",
       "  nomP         adjP         n_leadingEdge n_pathway_genes\n",
       "1 7.204018e-08 3.385888e-06 180           236            \n",
       "2 2.233468e-04 3.499100e-03 142           211            \n",
       "3 9.261899e-03 5.441366e-02  38            58            \n",
       "4 3.414757e-03 2.621228e-02 121           210            \n",
       "5 9.308886e-02 2.662580e-01  73           224            \n",
       "6 9.630607e-02 2.662580e-01  94           165            \n",
       "  leadingEdge                                                                                                                                                                             \n",
       "1 PSMD1;PSMD14;PSMB2;PSMD7;PSMA6;PSMC6;RAD23B;PSMD3;PSMB3;PSMA7;HSP90AB1;NAP1L1;PSMC4;SRSF2;PSMA4;PSMA2;CCT3;PTGES3;PSMA1;UBE2L3;PSMD8;XRCC6;CUL1;EIF3J;IFRD1;SRPK1;GLO1                  \n",
       "2 PSMD14;TXNRD1;PSMD12;PSMC6;SQSTM1;PSMC2;PSMA3;NMT1;TBK1;GSR;PSMD13;PRDX1;HSPA9;PSMC4;PSMA4;PSMB5;NUP205;GPI;GBE1;GLA;STIP1;GAPDH;GCLC;IFRD1;ATP2A2;SLC2A3;GLRX;HMGCS1;NIBAN1;GSK3B;HSPD1\n",
       "3 TXNRD1;TXN;GSR;FTL;PRDX1;GCLM;SOD1;GCLC;PFKP;LAMTOR5;GLRX                                                                                                                               \n",
       "4 UBC;UBQLN1;TALDO1;NMT1;BAZ2A;SOD1;ACO2;RTN3;GBE1;MAP4K3;GPD2;RREB1;SQOR;YWHAG;PEX14;RIOK3                                                                                               \n",
       "5 GABARAPL1;NMT1;GSR;PTGES3;ACO2;PGD;GCLC;BLVRB;ATP2A2;SAR1B;HACL1                                                                                                                        \n",
       "6 HSP90AA1;GABARAPL1;ACADVL;HSPH1;XIST;HSD17B4;ACO2;GPD2;HMGCS1;GRHPR;ADIPOR2                                                                                                             \n",
       "  pathway_genes                                                                                                                                                                                                                                                                                                                                                                                                                                                                                                                                                                                                                                                                                                                                                                                                                                                                                                                                                                                                                                                                                                                                                                                                                                                                                                                                                                                                                                                          \n",
       "1 ABCE1;ACP1;AIMP2;AP3S1;APEX1;BUB3;C1QBP;CAD;CANX;CANX;CBX3;CCNA2;CCT2;CCT3;CCT4;CCT5;CCT7;CDC20;CDC45;CDK2;CDK4;CLNS1A;CNBP;COPS5;COX5A;CSTF2;CTPS1;CUL1;CYC1;DDX18;DDX21;DEK;DHX15;DUT;EEF1B2;EEF1B2;EIF1AX;EIF2S1;EIF2S2;EIF3B;EIF3D;EIF3J;EIF4A1;EIF4E;EIF4G2;EIF4H;EIF4H;EPRS1;ERH;ETF1;EXOSC7;FAM120A;FBL;FBL;G3BP1;GLO1;GNL3;GOT2;GSPT1;H2AZ1;HDAC2;HDDC2;HDGF;HNRNPA1;HNRNPA2B1;HNRNPA3;HNRNPC;HNRNPD;HNRNPR;HNRNPR;HNRNPU;HPRT1;HSP90AB1;HSPD1;HSPE1;IARS1;IFRD1;ILF2;IMPDH2;KARS1;KPNA2;KPNB1;LDHA;LDHA;LSM2;LSM2;LSM2;LSM2;LSM2;LSM2;LSM7;MAD2L1;MCM2;MCM4;MCM5;MCM6;MCM7;MRPL23;MRPL23;MRPL9;MRPS18B;MRPS18B;MRPS18B;MRPS18B;MRPS18B;MRPS18B;MRPS18B;MYC;NAP1L1;NCBP1;NCBP2;NDUFAB1;NHP2;NME1;NOLC1;NOP16;NOP56;NPM1;ODC1;ORC2;PA2G4;PABPC1;PABPC4;PCBP1;PCNA;PGK1;PHB;PHB2;POLD2;POLE3;PPIA;PPM1G;PRDX3;PRDX4;PRPF31;PRPF31;PRPF31;PRPF31;PRPF31;PRPF31;PRPF31;PRPF31;PRPF31;PRPF31;PRPS2;PSMA1;PSMA2;PSMA4;PSMA6;PSMA7;PSMB2;PSMB3;PSMB3;PSMC4;PSMC4;PSMC6;PSMD1;PSMD14;PSMD3;PSMD7;PSMD8;PTGES3;PWP1;RACK1;RAD23B;RAN;RANBP1;RFC4;RNPS1;RNPS1;RNPS1;RNPS1;RNPS1;RNPS1;RPL14;RPL18;RPL22;RPL34;RPL6;RPLP0;RPS10;RPS2;RPS3;RPS5;RPS6;RRM1;RRP9;RSL1D1;RUVBL2;SERBP1;SET;SF3A1;SF3B3;SLC25A3;SMARCC1;SNRPA;SNRPA1;SNRPB2;SNRPD1;SNRPD2;SNRPD3;SNRPG;SRM;SRPK1;SRSF1;SRSF2;SRSF3;SRSF7;SSB;SSBP1;SSBP1;STARD7;SYNCRIP;TARDBP;TCP1;TFDP1;TOMM70;TRA2B;TRIM28;TUFM;TXNL4A;TYMS;U2AF1;UBA2;UBE2E1;UBE2L3;USP1;VBP1;VDAC1;VDAC3;XPO1;XPOT;XRCC6;YWHAE;YWHAE;YWHAQ\n",
       "2 ABCF2;ACACA;ACACA;ACLY;ACSL3;ACTR2;ACTR3;ADD3;ADIPOR2;ADIPOR2;AK4;ALDOA;ARPC5L;ASNS;ATP2A2;ATP5MC1;ATP6V1D;AURKA;BCAT1;BHLHE40;BTG2;BUB1;CACYBP;CALR;CANX;CANX;CCNF;CCNG1;CCT6A;CD9;CDC25A;CDKN1A;CFP;COPS5;CORO1A;CTH;CTSC;CXCR4;CYB5B;CYP51A1;DAPP1;DDIT3;DDIT4;DDX39A;DHCR24;DHCR7;DHFR;EBP;EDEM1;EEF1E1;EGLN3;EIF2S2;ELOVL5;ELOVL6;ENO1;EPRS1;ERO1A;ETF1;FADS1;FADS2;FDXR;FGL2;FKBP2;G6PD;GAPDH;GBE1;GCLC;GGA2;GLA;GLRX;GMPS;GOT1;GPI;GPI;GSK3B;GSR;GTF2H1;GTF2H1;HK2;HMBS;HMGCR;HMGCS1;HPRT1;HSP90B1;HSPA4;HSPA5;HSPA9;HSPD1;HSPE1;IDH1;IDI1;IFI30;IFRD1;IGFBP5;IMMT;INSIG1;ITGB2;LDHA;LDHA;LDLR;LGMN;LTA4H;M6PR;MAP2K3;MCM2;MCM4;ME1;MLLT11;MTHFD2;MTHFD2L;NAMPT;NFIL3;NFKBIB;NFKBIB;NFYC;NIBAN1;NMT1;NUFIP1;NUP205;NUPR1;P4HA1;PDAP1;PDK1;PFKL;PGK1;PGM1;PHGDH;PIK3R3;PITPNB;PLK1;PLOD2;PNO1;PNP;POLR3G;PPA1;PPIA;PPP1R15A;PRDX1;PSAT1;PSMA3;PSMA4;PSMB5;PSMC2;PSMC4;PSMC4;PSMC6;PSMD12;PSMD13;PSMD14;PSME3;PSMG1;PSPH;QDPR;RAB1A;RDH11;RIT1;RPA1;RPN1;RRM2;RRP9;SC5D;SCD;SDF2L1;SEC11A;SERP1;SERPINH1;SHMT2;SKAP2;SLA;SLC1A4;SLC1A5;SLC2A1;SLC2A3;SLC37A4;SLC37A4;SLC37A4;SLC6A6;SLC7A11;SLC7A5;SLC9A3R1;SORD;SQLE;SQSTM1;SQSTM1;SRD5A1;SSR1;STARD4;STC1;STIP1;SYTL2;TBK1;TCEA1;TES;TFRC;TM7SF2;TMEM97;TOMM40;TPI1;TRIB3;TUBA4A;TUBG1;TXNRD1;UBE2D3;UCHL5;UFM1;UNG;USO1;VLDLR;WARS1;XBP1;YKT6                                                                                                                                                                  \n",
       "3 ABCC1;ABCC1;ATOX1;CAT;CDKN2D;EGLN2;ERCC2;FES;FTL;G6PD;GCLC;GCLM;GLRX;GLRX2;GPX3;GPX4;GSR;HHEX;HMOX2;HMOX2;IPCEF1;JUNB;LAMTOR5;LSP1;LSP1;MBP;MGST1;MPO;MSRA;MSRA;NDUFA6;NDUFA6;NDUFA6;NDUFA6;NDUFA6;NDUFB4;NDUFS2;NQO1;OXSR1;PDLIM1;PFKP;PRDX1;PRDX2;PRDX4;PRDX6;PRNP;PTPA;SBNO2;SBNO2;SCAF4;SELENOS;SOD1;SOD2;SRXN1;STK25;TXN;TXNRD1;TXNRD2                                                                                                                                                                                                                                                                                                                                                                                                                                                                                                                                                                                                                                                                                                                                                                                                                                                                                                                                                                                                                                                                                                                            \n",
       "4 ABCA1;ABCB8;ACAA2;ACADL;ACADM;ACADS;ACLY;ACO2;ACOX1;ADCY6;ADIG;ADIPOQ;ADIPOR2;ADIPOR2;AGPAT3;AIFM1;AK2;ALDH2;ALDOA;ANGPT1;ANGPTL4;APLP2;APOE;ARAF;ARL4A;ATL2;ATP1B3;ATP5PO;BAZ2A;BCKDHA;BCL2L13;BCL6;C3;CAT;CAVIN1;CAVIN2;CCNG2;CD151;CD302;CD36;CDKN2C;CHCHD10;CHCHD10;CHCHD10;CHUK;CIDEA;CMBL;CMPK1;COL15A1;COL4A1;COQ3;COQ5;COQ9;COX6A1;COX7B;COX8A;CPT2;CRAT;CS;CYC1;CYP4B1;DBT;DDT;DDT;DECR1;DGAT1;DGAT1;DGAT1;DHCR7;DHRS7;DHRS7B;DLAT;DLD;DNAJB9;DNAJC15;DRAM2;ECH1;ECH1;ECHS1;ELMOD3;ELOVL6;ENPP2;EPHX2;ESRRA;ESYT1;ETFB;FABP4;FAH;FZD4;G3BP2;GADD45A;GBE1;GHITM;GPAM;GPAT4;GPD2;GPHN;GPX3;GPX4;GRPEL1;HADH;HIBCH;HSPB8;IDH1;IDH3A;IDH3G;IFNGR1;IMMT;ITGA7;ITIH5;ITSN1;JAGN1;LAMA4;LEP;LIFR;LIPE;LPCAT3;LPL;LTC4S;LTC4S;MAP4K3;MCCC1;MDH2;ME1;MGLL;MGST3;MIGA2;MRAP;MRPL15;MTARC2;MTCH2;MTCH2;MYLK;NABP1;NDUFA5;NDUFAB1;NDUFB7;NDUFS3;NDUFS3;NKIRAS1;NMT1;OMD;ORM1;PDCD4;PEMT;PEX14;PFKFB3;PFKL;PGM1;PHLDB1;PHYH;PIM3;PLIN2;POR;PPARG;PPM1B;PPP1R15B;PRDX3;PREB;PTCD3;PTGER3;QDPR;RAB34;REEP5;REEP6;RETN;RETSAT;RIOK3;RMDN3;RNF11;RREB1;RTN3;SAMM50;SCARB1;SCP2;SDHB;SDHC;SLC19A1;SLC1A5;SLC25A1;SLC25A10;SLC27A1;SLC5A6;SLC66A3;SNCG;SOD1;SORBS1;SOWAHC;SPARCL1;SQOR;SSPN;STAT5A;STOM;SUCLG1;SULT1A1;TALDO1;TANK;TKT;TOB1;TST;UBC;UBQLN1;UCK1;UCP2;UQCR10;UQCR11;UQCRC1;UQCRQ;VEGFB;YWHAG                                                                                                                                                                      \n",
       "5 ABCC2;ABCC3;ABCD2;ABHD6;ACO2;ACOX1;ACOX2;ACOX3;ACP1;ACP2;ACSM1;ADH1C;ADH5;ADH7;AHCY;AKR1C2;AKR1C3;ALAS1;ALDH2;ALDH3A1;ALDH9A1;ANGPTL3;AOX1;AP4B1;APOE;AQP9;ARG1;ARG2;ARPP19;ASL;ATOH8;ATP2A2;BCAR1;BCAR1;BCAT1;BLVRB;BPHL;CA2;CASP6;CAT;CBR1;CCL25;CD36;CDA;CDO1;CES1;CES1;CFB;CFB;CFB;CFB;CFB;CFB;CFB;CNDP2;COMT;CROT;CRP;CSAD;CYB5A;CYFIP2;CYP17A1;CYP1A1;CYP1A2;CYP26A1;CYP27A1;CYP2C18;CYP2E1;CYP2J2;CYP2S1;CYP4F2;DCXR;DDAH2;DDAH2;DDAH2;DDAH2;DDAH2;DDAH2;DDAH2;DDC;DDT;DDT;DHPS;DHRS1;DHRS1;DHRS7;ECH1;ECH1;ELOVL5;ENPEP;ENTPD5;EPHA2;EPHX1;ESR1;ETFDH;ETS2;F10;F11;FABP1;FAH;FAS;FBLN1;FBP1;FETUB;FMO1;FMO3;G6PC1;GABARAPL1;GAD1;GART;GART;GCH1;GCKR;GCLC;GCNT2;GCNT2;GNMT;GSR;GSS;GSTA3;GSTM4;GSTO1;GSTT2;GSTT2;HACL1;HES6;HGFAC;HMOX1;HNF4A;HPRT1;HRG;HSD11B1;HSD17B2;ID2;IDH1;IGF1;IGFBP1;IGFBP4;IL1R1;IRF8;ITIH1;ITIH4;JUP;KARS1;KYNU;LCAT;LEAP2;LONP1;LPIN2;MAN1A1;MAOA;MARCHF6;MBL2;MCCC2;MCCC2;MCCC2;MPP2;MT2A;MTHFD1;NDRG2;NFS1;NINJ1;NMT1;NPC1;NQO1;PAPSS2;PC;PDK4;PDLIM5;PEMT;PGD;PGRMC1;PINK1;PLG;PMM1;POR;PPARD;PROS1;PSMB10;PTGDS;PTGES;PTGES3;PTGR1;PTS;PYCR1;RAP1GAP;RBP4;REG1A;RETSAT;SAR1B;SERPINA6;SERPINA6;SERPINE1;SERTAD1;SHMT2;SLC12A4;SLC1A5;SLC22A1;SLC35B1;SLC35D1;SLC46A3;SLC6A12;SLC6A6;SMOX;SPINT2;SSR3;TAT;TDO2;TDO2;TGFB2;TKFC;TMBIM6;TMEM176B;TMEM97;TNFRSF1A;TPST1;TTPA;TYR;UGDH;UPB1;UPP1;VNN1;VTN;XDH                                                                                                                        \n",
       "6 AADAT;ACAA1;ACAA2;ACADL;ACADM;ACADS;ACADVL;ACAT2;ACO2;ACOT2;ACOT8;ACOX1;ACSL1;ACSL4;ACSL5;ACSM3;ACSS1;ADH1C;ADH7;ADIPOR2;ADIPOR2;ADSL;ALAD;ALDH1A1;ALDH3A1;ALDH3A2;ALDH9A1;ALDOA;AOC3;APEX1;AQP7;AUH;BCKDHB;BLVRA;BMPR1B;BPHL;CA2;CA4;CA6;CBR1;CBR3;CD1D;CD36;CEL;CIDEA;CPOX;CPT1A;CPT2;CRAT;CRYZ;CYP1A1;CYP4A11;CYP4A22;D2HGDH;DECR1;DHCR24;DLD;DLST;ECH1;ECH1;ECHS1;ECI1;ECI2;EHHADH;ELOVL5;ENO2;ENO3;EPHX1;ERP29;ETFDH;FABP1;FABP2;FASN;FH;FMO1;G0S2;GABARAPL1;GAD2;GAPDHS;GCDH;GLUL;GPD1;GPD2;GRHPR;GSTZ1;H2AZ1;HADH;HADHB;HAO2;HCCS;HIBCH;HMGCL;HMGCS1;HMGCS2;HPGD;HSD17B10;HSD17B11;HSD17B4;HSD17B7;HSDL2;HSP90AA1;HSPH1;IDH1;IDH3B;IDH3G;IDI1;IL4I1;INMT;KMT5A;LDHA;LDHA;LGALS1;LTC4S;LTC4S;MAOA;MCEE;MDH1;MDH2;ME1;METAP1;MGLL;MIF;MIF;MIX23;MLYCD;NBN;NCAPH2;NSDHL;NTHL1;ODC1;OSTC;PCBD1;PDHA1;PDHB;PPARA;PRDX6;PSME1;PSME1;PTPRG;PTS;RAP1GDS1;RDH11;RDH16;REEP6;RETSAT;S100A10;SDHA;SDHC;SDHD;SERINC1;SLC22A5;SMS;SUCLA2;SUCLG1;SUCLG2;TDO2;TDO2;TP53INP2;UBE2L6;UGDH;UROD;UROS;VNN1;XIST;YWHAH                                                                                                                                                                                                                                                                                                                                                                                                                                                              "
      ]
     },
     "metadata": {},
     "output_type": "display_data"
    }
   ],
   "source": [
    "head(all_hallmark)"
   ]
  },
  {
   "cell_type": "markdown",
   "id": "b83d0cf5-d532-4b30-bcbe-2a22b4d30f83",
   "metadata": {},
   "source": [
    "Add treat_time, display labels for pathways, and cell type "
   ]
  },
  {
   "cell_type": "code",
   "execution_count": 106,
   "id": "b633d47a-4aaa-4997-b524-a2313ac4716d",
   "metadata": {
    "tags": []
   },
   "outputs": [
    {
     "name": "stderr",
     "output_type": "stream",
     "text": [
      "\u001b[1m\u001b[22mJoining with `by = join_by(pathway_label)`\n",
      "\u001b[1m\u001b[22mJoining with `by = join_by(aifi_cell_type)`\n"
     ]
    }
   ],
   "source": [
    "plot_hallmark <- all_hallmark %>%\n",
    "  mutate(label_time = ifelse(timepoint == 4, \"04\", as.character(timepoint))) %>%\n",
    "  mutate(treat_time = paste0(fg, \"_\", label_time)) %>%\n",
    "  left_join(hallmark_names) %>%\n",
    "  left_join(type_colors)"
   ]
  },
  {
   "cell_type": "code",
   "execution_count": 109,
   "id": "078f4d06-ba5a-4c42-90e8-ae4d1da79ea7",
   "metadata": {
    "tags": []
   },
   "outputs": [
    {
     "name": "stderr",
     "output_type": "stream",
     "text": [
      "\u001b[1m\u001b[22mJoining with `by = join_by(cell_type_label, cell_type_xpos)`\n",
      "\u001b[1m\u001b[22mJoining with `by = join_by(pathway_label)`\n",
      "\u001b[1m\u001b[22mJoining with `by = join_by(NES)`\n",
      "\u001b[1m\u001b[22mJoining with `by = join_by(timepoint)`\n"
     ]
    }
   ],
   "source": [
    "top_n <- 20\n",
    "\n",
    "sig_data <- plot_hallmark %>%\n",
    "  filter(adjP < fdr_cutoff) %>%\n",
    "  group_by(pathway) %>%\n",
    "  arrange(adjP) %>%\n",
    "  slice(1) %>%\n",
    "  ungroup() %>%\n",
    "  arrange(adjP) %>%\n",
    "  head(top_n)\n",
    "\n",
    "plot_data <- plot_hallmark %>%\n",
    "  filter(pathway %in% sig_data$pathway)\n",
    "\n",
    "xpos_df <- plot_data %>%\n",
    "  select(cell_type_label, cell_type_xpos) %>%\n",
    "  unique() %>%\n",
    "  arrange(cell_type_xpos) %>%\n",
    "  mutate(xpos = 1:n())\n",
    "\n",
    "ypos_df <- plot_data %>%\n",
    "  select(pathway_label) %>%\n",
    "  unique() %>%\n",
    "  arrange(pathway_label) %>%\n",
    "  mutate(ypos = n():1)\n",
    "\n",
    "timepoint_df <- data.frame(\n",
    "    timepoint = c(4, 24, 72),\n",
    "    timepoint_label = factor(c(\"Bortezomib, 4 Hours\", \"Bortezomib, 24 Hours\", \"Bortezomib, 72 Hours\"), \n",
    "                             levels = c(\"Bortezomib, 4 Hours\", \"Bortezomib, 24 Hours\", \"Bortezomib, 72 Hours\"))\n",
    ")\n",
    "\n",
    "plot_data <- plot_data %>%\n",
    "  left_join(xpos_df) %>%\n",
    "  left_join(ypos_df) %>%\n",
    "  mutate(NES = as.character(round(NES, 2))) %>%\n",
    "  left_join(gc_df) %>%\n",
    "  left_join(timepoint_df)"
   ]
  },
  {
   "cell_type": "code",
   "execution_count": 113,
   "id": "f58a996f-8c4e-48a0-9985-fda8d03d450c",
   "metadata": {
    "tags": []
   },
   "outputs": [
    {
     "data": {
      "image/png": "[encoded data removed]",
      "text/plain": [
       "plot without title"
      ]
     },
     "metadata": {
      "image/png": {
       "height": 240,
       "width": 270
      }
     },
     "output_type": "display_data"
    }
   ],
   "source": [
    "options(repr.plot.width = 4.5, repr.plot.height = 4)\n",
    "hallmark_plot <- ggplot() +\n",
    "  geom_tile(\n",
    "      data = plot_data,\n",
    "      aes(x = xpos,\n",
    "          y = ypos,\n",
    "          fill = nes_color),\n",
    "      color = \"black\") +\n",
    "  geom_point(\n",
    "      data = plot_data %>% filter(adjP < fdr_cutoff),\n",
    "      aes(x = xpos,\n",
    "          y = ypos),\n",
    "      color = \"white\",\n",
    "      size = 0.9) +\n",
    "  scale_fill_identity() +\n",
    "  scale_x_continuous(\n",
    "      \"\",\n",
    "      breaks = xpos_df$xpos,\n",
    "      labels = xpos_df$cell_type_label,\n",
    "      expand = c(0, 0)) +\n",
    "  scale_y_continuous(\n",
    "      \"\",\n",
    "      breaks = ypos_df$ypos,\n",
    "      labels = ypos_df$pathway_label,\n",
    "      expand = c(0, 0)) +\n",
    "  facet_wrap(~ timepoint_label) +\n",
    "  theme_bw(base_size = 7) +\n",
    "  theme(axis.text.x = element_text(angle = 90, hjust = 1, vjust = 0.3),\n",
    "        panel.border = element_blank(),\n",
    "        axis.ticks = element_blank(),\n",
    "        strip.background = element_blank(),\n",
    "        panel.grid = element_blank(),\n",
    "        panel.background = element_rect(fill = \"gray30\"))\n",
    "hallmark_plot"
   ]
  },
  {
   "cell_type": "code",
   "execution_count": 114,
   "id": "2b15cce1-2d27-442c-827b-e9b9bbe91797",
   "metadata": {
    "tags": []
   },
   "outputs": [],
   "source": [
    "out_file <- file.path(\n",
    "    out_dir,\n",
    "    paste0(\"bortezomib_hallmark_heatmap_\",Sys.Date(),\".pdf\")\n",
    ")\n",
    "ggsave(out_file,\n",
    "       hallmark_plot,\n",
    "       width = 14, height = 4)"
   ]
  },
  {
   "cell_type": "markdown",
   "id": "b3112677-e220-4527-b4d1-08510cfaab0e",
   "metadata": {},
   "source": [
    "## Motif enrichment volcano plots"
   ]
  },
  {
   "cell_type": "code",
   "execution_count": 156,
   "id": "b66a2e56-ccc2-49f2-a4f1-872ecaa456a9",
   "metadata": {
    "tags": []
   },
   "outputs": [],
   "source": [
    "all_dem <- read.csv(dem_file)"
   ]
  },
  {
   "cell_type": "code",
   "execution_count": 157,
   "id": "8e071664-0cfb-49d3-bc9d-4b949f5955a5",
   "metadata": {
    "tags": []
   },
   "outputs": [],
   "source": [
    "all_dem <- all_dem %>%\n",
    "  mutate(timepoint = sub(\".+_\",\"\",fg),\n",
    "         fg = sub(\"_.+\",\"\",fg),\n",
    "         bg = sub(\"_.+\",\"\",bg)) %>%\n",
    "  filter(fg == \"bortezomib\")"
   ]
  },
  {
   "cell_type": "markdown",
   "id": "eaf3175c-372d-4282-8fb8-718fff15df41",
   "metadata": {},
   "source": [
    "Set Enrichment to negative values for motifs enriched near down-regulated genes"
   ]
  },
  {
   "cell_type": "code",
   "execution_count": 158,
   "id": "04293010-a7dc-4b34-8bdc-4e99e2dba421",
   "metadata": {
    "tags": []
   },
   "outputs": [],
   "source": [
    "all_dem <- all_dem %>%\n",
    "  mutate(Enrichment = ifelse(\n",
    "      direction == \"dn\",\n",
    "      -1 * Enrichment,\n",
    "      Enrichment))"
   ]
  },
  {
   "cell_type": "code",
   "execution_count": 159,
   "id": "71603b6e-5f74-4fae-92fe-a2236b801005",
   "metadata": {
    "tags": []
   },
   "outputs": [],
   "source": [
    "plot_dem <- all_dem %>%\n",
    "  filter(timepoint == 72)"
   ]
  },
  {
   "cell_type": "code",
   "execution_count": 161,
   "id": "d661fb16-ea53-4720-944a-5082c8162d23",
   "metadata": {
    "tags": []
   },
   "outputs": [
    {
     "data": {
      "text/html": [
       "<table class=\"dataframe\">\n",
       "<caption>A data.frame: 6 × 18</caption>\n",
       "<thead>\n",
       "\t<tr><th></th><th scope=col>aifi_cell_type</th><th scope=col>fg</th><th scope=col>bg</th><th scope=col>direction</th><th scope=col>feature</th><th scope=col>tf_gene</th><th scope=col>Enrichment</th><th scope=col>nomP</th><th scope=col>adjP</th><th scope=col>mlog10Padj</th><th scope=col>mlog10p</th><th scope=col>BackgroundProporition</th><th scope=col>nBackground</th><th scope=col>BackgroundFrequency</th><th scope=col>CompareProportion</th><th scope=col>nCompare</th><th scope=col>CompareFrequency</th><th scope=col>timepoint</th></tr>\n",
       "\t<tr><th></th><th scope=col>&lt;chr&gt;</th><th scope=col>&lt;chr&gt;</th><th scope=col>&lt;chr&gt;</th><th scope=col>&lt;chr&gt;</th><th scope=col>&lt;chr&gt;</th><th scope=col>&lt;chr&gt;</th><th scope=col>&lt;dbl&gt;</th><th scope=col>&lt;dbl&gt;</th><th scope=col>&lt;dbl&gt;</th><th scope=col>&lt;dbl&gt;</th><th scope=col>&lt;dbl&gt;</th><th scope=col>&lt;dbl&gt;</th><th scope=col>&lt;int&gt;</th><th scope=col>&lt;int&gt;</th><th scope=col>&lt;dbl&gt;</th><th scope=col>&lt;int&gt;</th><th scope=col>&lt;int&gt;</th><th scope=col>&lt;chr&gt;</th></tr>\n",
       "</thead>\n",
       "<tbody>\n",
       "\t<tr><th scope=row>10435</th><td>t_cd8_naive</td><td>bortezomib</td><td>dmso</td><td>dn</td><td>RORB_865 </td><td>RORB </td><td>NA</td><td>1</td><td>1</td><td>0</td><td>0</td><td>0.04598330</td><td>73070</td><td>3360</td><td>NA</td><td>0</td><td>0</td><td>72</td></tr>\n",
       "\t<tr><th scope=row>10436</th><td>t_cd8_naive</td><td>bortezomib</td><td>dmso</td><td>dn</td><td>SMAD5_866</td><td>SMAD5</td><td>NA</td><td>1</td><td>1</td><td>0</td><td>0</td><td>0.12581087</td><td>73070</td><td>9193</td><td>NA</td><td>0</td><td>0</td><td>72</td></tr>\n",
       "\t<tr><th scope=row>10437</th><td>t_cd8_naive</td><td>bortezomib</td><td>dmso</td><td>dn</td><td>SMAD9_867</td><td>SMAD9</td><td>NA</td><td>1</td><td>1</td><td>0</td><td>0</td><td>0.05605584</td><td>73070</td><td>4096</td><td>NA</td><td>0</td><td>0</td><td>72</td></tr>\n",
       "\t<tr><th scope=row>10438</th><td>t_cd8_naive</td><td>bortezomib</td><td>dmso</td><td>dn</td><td>SOX6_868 </td><td>SOX6 </td><td>NA</td><td>1</td><td>1</td><td>0</td><td>0</td><td>0.06381552</td><td>73070</td><td>4663</td><td>NA</td><td>0</td><td>0</td><td>72</td></tr>\n",
       "\t<tr><th scope=row>10439</th><td>t_cd8_naive</td><td>bortezomib</td><td>dmso</td><td>dn</td><td>TBX18_869</td><td>TBX18</td><td>NA</td><td>1</td><td>1</td><td>0</td><td>0</td><td>0.04252087</td><td>73070</td><td>3107</td><td>NA</td><td>0</td><td>0</td><td>72</td></tr>\n",
       "\t<tr><th scope=row>10440</th><td>t_cd8_naive</td><td>bortezomib</td><td>dmso</td><td>dn</td><td>TBX22_870</td><td>TBX22</td><td>NA</td><td>1</td><td>1</td><td>0</td><td>0</td><td>0.04252087</td><td>73070</td><td>3107</td><td>NA</td><td>0</td><td>0</td><td>72</td></tr>\n",
       "</tbody>\n",
       "</table>\n"
      ],
      "text/latex": [
       "A data.frame: 6 × 18\n",
       "\\begin{tabular}{r|llllllllllllllllll}\n",
       "  & aifi\\_cell\\_type & fg & bg & direction & feature & tf\\_gene & Enrichment & nomP & adjP & mlog10Padj & mlog10p & BackgroundProporition & nBackground & BackgroundFrequency & CompareProportion & nCompare & CompareFrequency & timepoint\\\\\n",
       "  & <chr> & <chr> & <chr> & <chr> & <chr> & <chr> & <dbl> & <dbl> & <dbl> & <dbl> & <dbl> & <dbl> & <int> & <int> & <dbl> & <int> & <int> & <chr>\\\\\n",
       "\\hline\n",
       "\t10435 & t\\_cd8\\_naive & bortezomib & dmso & dn & RORB\\_865  & RORB  & NA & 1 & 1 & 0 & 0 & 0.04598330 & 73070 & 3360 & NA & 0 & 0 & 72\\\\\n",
       "\t10436 & t\\_cd8\\_naive & bortezomib & dmso & dn & SMAD5\\_866 & SMAD5 & NA & 1 & 1 & 0 & 0 & 0.12581087 & 73070 & 9193 & NA & 0 & 0 & 72\\\\\n",
       "\t10437 & t\\_cd8\\_naive & bortezomib & dmso & dn & SMAD9\\_867 & SMAD9 & NA & 1 & 1 & 0 & 0 & 0.05605584 & 73070 & 4096 & NA & 0 & 0 & 72\\\\\n",
       "\t10438 & t\\_cd8\\_naive & bortezomib & dmso & dn & SOX6\\_868  & SOX6  & NA & 1 & 1 & 0 & 0 & 0.06381552 & 73070 & 4663 & NA & 0 & 0 & 72\\\\\n",
       "\t10439 & t\\_cd8\\_naive & bortezomib & dmso & dn & TBX18\\_869 & TBX18 & NA & 1 & 1 & 0 & 0 & 0.04252087 & 73070 & 3107 & NA & 0 & 0 & 72\\\\\n",
       "\t10440 & t\\_cd8\\_naive & bortezomib & dmso & dn & TBX22\\_870 & TBX22 & NA & 1 & 1 & 0 & 0 & 0.04252087 & 73070 & 3107 & NA & 0 & 0 & 72\\\\\n",
       "\\end{tabular}\n"
      ],
      "text/markdown": [
       "\n",
       "A data.frame: 6 × 18\n",
       "\n",
       "| <!--/--> | aifi_cell_type &lt;chr&gt; | fg &lt;chr&gt; | bg &lt;chr&gt; | direction &lt;chr&gt; | feature &lt;chr&gt; | tf_gene &lt;chr&gt; | Enrichment &lt;dbl&gt; | nomP &lt;dbl&gt; | adjP &lt;dbl&gt; | mlog10Padj &lt;dbl&gt; | mlog10p &lt;dbl&gt; | BackgroundProporition &lt;dbl&gt; | nBackground &lt;int&gt; | BackgroundFrequency &lt;int&gt; | CompareProportion &lt;dbl&gt; | nCompare &lt;int&gt; | CompareFrequency &lt;int&gt; | timepoint &lt;chr&gt; |\n",
       "|---|---|---|---|---|---|---|---|---|---|---|---|---|---|---|---|---|---|---|\n",
       "| 10435 | t_cd8_naive | bortezomib | dmso | dn | RORB_865  | RORB  | NA | 1 | 1 | 0 | 0 | 0.04598330 | 73070 | 3360 | NA | 0 | 0 | 72 |\n",
       "| 10436 | t_cd8_naive | bortezomib | dmso | dn | SMAD5_866 | SMAD5 | NA | 1 | 1 | 0 | 0 | 0.12581087 | 73070 | 9193 | NA | 0 | 0 | 72 |\n",
       "| 10437 | t_cd8_naive | bortezomib | dmso | dn | SMAD9_867 | SMAD9 | NA | 1 | 1 | 0 | 0 | 0.05605584 | 73070 | 4096 | NA | 0 | 0 | 72 |\n",
       "| 10438 | t_cd8_naive | bortezomib | dmso | dn | SOX6_868  | SOX6  | NA | 1 | 1 | 0 | 0 | 0.06381552 | 73070 | 4663 | NA | 0 | 0 | 72 |\n",
       "| 10439 | t_cd8_naive | bortezomib | dmso | dn | TBX18_869 | TBX18 | NA | 1 | 1 | 0 | 0 | 0.04252087 | 73070 | 3107 | NA | 0 | 0 | 72 |\n",
       "| 10440 | t_cd8_naive | bortezomib | dmso | dn | TBX22_870 | TBX22 | NA | 1 | 1 | 0 | 0 | 0.04252087 | 73070 | 3107 | NA | 0 | 0 | 72 |\n",
       "\n"
      ],
      "text/plain": [
       "      aifi_cell_type fg         bg   direction feature   tf_gene Enrichment\n",
       "10435 t_cd8_naive    bortezomib dmso dn        RORB_865  RORB    NA        \n",
       "10436 t_cd8_naive    bortezomib dmso dn        SMAD5_866 SMAD5   NA        \n",
       "10437 t_cd8_naive    bortezomib dmso dn        SMAD9_867 SMAD9   NA        \n",
       "10438 t_cd8_naive    bortezomib dmso dn        SOX6_868  SOX6    NA        \n",
       "10439 t_cd8_naive    bortezomib dmso dn        TBX18_869 TBX18   NA        \n",
       "10440 t_cd8_naive    bortezomib dmso dn        TBX22_870 TBX22   NA        \n",
       "      nomP adjP mlog10Padj mlog10p BackgroundProporition nBackground\n",
       "10435 1    1    0          0       0.04598330            73070      \n",
       "10436 1    1    0          0       0.12581087            73070      \n",
       "10437 1    1    0          0       0.05605584            73070      \n",
       "10438 1    1    0          0       0.06381552            73070      \n",
       "10439 1    1    0          0       0.04252087            73070      \n",
       "10440 1    1    0          0       0.04252087            73070      \n",
       "      BackgroundFrequency CompareProportion nCompare CompareFrequency timepoint\n",
       "10435 3360                NA                0        0                72       \n",
       "10436 9193                NA                0        0                72       \n",
       "10437 4096                NA                0        0                72       \n",
       "10438 4663                NA                0        0                72       \n",
       "10439 3107                NA                0        0                72       \n",
       "10440 3107                NA                0        0                72       "
      ]
     },
     "metadata": {},
     "output_type": "display_data"
    }
   ],
   "source": [
    "tail(plot_dem)"
   ]
  },
  {
   "cell_type": "code",
   "execution_count": 147,
   "id": "5b67ff7f-a590-4e6f-9e9a-6fdf1a9bdf8d",
   "metadata": {
    "tags": []
   },
   "outputs": [
    {
     "name": "stderr",
     "output_type": "stream",
     "text": [
      "Warning message:\n",
      "“\u001b[1m\u001b[22mRemoved 5220 rows containing missing values (`geom_point()`).”\n"
     ]
    },
    {
     "data": {
      "image/png": "[encoded data removed]",
      "text/plain": [
       "plot without title"
      ]
     },
     "metadata": {
      "image/png": {
       "height": 240,
       "width": 270
      }
     },
     "output_type": "display_data"
    }
   ],
   "source": [
    "ggplot() +\n",
    "  geom_point(\n",
    "      data = plot_dem,\n",
    "      aes(x = Enrichment,\n",
    "          y = mlog10Padj)\n",
    "  ) +\n",
    "  facet_wrap(\n",
    "      ~ aifi_cell_type,\n",
    "      ncol = 3,\n",
    "      nrow = 2\n",
    "  )"
   ]
  },
  {
   "cell_type": "code",
   "execution_count": null,
   "id": "05f0633c-6274-47f2-8d6f-13b6d5bdd7c2",
   "metadata": {},
   "outputs": [],
   "source": []
  }
 ],
 "metadata": {
  "kernelspec": {
   "display_name": "R 4",
   "language": "R",
   "name": "ir4"
  },
  "language_info": {
   "codemirror_mode": "r",
   "file_extension": ".r",
   "mimetype": "text/x-r-source",
   "name": "R",
   "pygments_lexer": "r",
   "version": "4.3.1"
  }
 },
 "nbformat": 4,
 "nbformat_minor": 5
}
