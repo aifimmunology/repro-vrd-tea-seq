{
 "cells": [
  {
   "cell_type": "markdown",
   "id": "35f9752b-3539-469e-9efc-bb24c0efe8fd",
   "metadata": {},
   "source": [
    "# Assemble cell type-specific ATAC datasets\n",
    "\n",
    "To begin our analysis, we'll retrieve the .arrow files that contain ATAC data and metadata after our TEA-seq QC and demultiplexing pipeline. We'll then extract the metadata for cells to use for cell filtering and QC plots."
   ]
  },
  {
   "cell_type": "markdown",
   "id": "fb1e57f3-2cc0-43a7-bb7c-90001c4a225f",
   "metadata": {},
   "source": [
    "## Load packages\n",
    "\n",
    "hise: The Human Immune System Explorer R SDK package  \n",
    "dplyr: Dataframe handling functions   \n",
    "ArchR: .arrow file handling  \n",
    "purrr: Functional programming tools  \n"
   ]
  },
  {
   "cell_type": "code",
   "execution_count": 1,
   "id": "7757bed4-513b-40c7-875e-c23f99f74695",
   "metadata": {},
   "outputs": [
    {
     "name": "stderr",
     "output_type": "stream",
     "text": [
      "\n",
      "                                                   / |\n",
      "                                                 /    \\\n",
      "            .                                  /      |.\n",
      "            \\\\\\                              /        |.\n",
      "              \\\\\\                          /           `|.\n",
      "                \\\\\\                      /              |.\n",
      "                  \\                    /                |\\\n",
      "                  \\\\#####\\           /                  ||\n",
      "                ==###########>      /                   ||\n",
      "                 \\\\##==......\\    /                     ||\n",
      "            ______ =       =|__ /__                     ||      \\\\\\\n",
      "        ,--' ,----`-,__ ___/'  --,-`-===================##========>\n",
      "       \\               '        ##_______ _____ ,--,__,=##,__   ///\n",
      "        ,    __==    ___,-,__,--'#'  ==='      `-'    | ##,-/\n",
      "        -,____,---'       \\\\####\\\\________________,--\\\\_##,/\n",
      "           ___      .______        ______  __    __  .______      \n",
      "          /   \\     |   _  \\      /      ||  |  |  | |   _  \\     \n",
      "         /  ^  \\    |  |_)  |    |  ,----'|  |__|  | |  |_)  |    \n",
      "        /  /_\\  \\   |      /     |  |     |   __   | |      /     \n",
      "       /  _____  \\  |  |\\  \\\\___ |  `----.|  |  |  | |  |\\  \\\\___.\n",
      "      /__/     \\__\\ | _| `._____| \\______||__|  |__| | _| `._____|\n",
      "    \n",
      "\n"
     ]
    }
   ],
   "source": [
    "quiet_library <- function(...) { suppressPackageStartupMessages(library(...)) }\n",
    "quiet_library(hise)\n",
    "quiet_library(dplyr)\n",
    "quiet_library(ArchR)\n",
    "quiet_library(purrr)"
   ]
  },
  {
   "cell_type": "markdown",
   "id": "a63220a2-551f-4c01-a4e6-5a04cc9f8ad6",
   "metadata": {},
   "source": [
    "## Retrieve files\n",
    "\n",
    "Now, we'll use the HISE SDK package to retrieve the TEA-seq .arrow file outputs based on their file UUIDs. These will be placed in the `cache/` subdirectory by default."
   ]
  },
  {
   "cell_type": "code",
   "execution_count": 2,
   "id": "a1ed5829-bb1d-45d8-a4c1-963ef386153d",
   "metadata": {},
   "outputs": [],
   "source": [
    "atac_file_uuids <- list(\n",
    "    \"052b769d-cbdf-41f6-8fe8-0d34564b442a\",\n",
    "    \"16e0c562-5d36-431f-bb27-b443aabc7077\",\n",
    "    \"30167a93-70a8-4c38-b615-2252dabe417e\",\n",
    "    \"57dde81e-bdaa-4138-add6-2551968672f4\",\n",
    "    \"6853fb68-fa85-43d5-9071-c5e42667a75e\",\n",
    "    \"6d8185bf-8a35-492d-a6ab-5783006b3b8e\",\n",
    "    \"8c2a93be-de53-4d6f-ae2e-ab40a356edc3\",\n",
    "    \"9ab975f8-7763-4892-96a7-a7438ecc9470\",\n",
    "    \"a56fd2ba-a055-4ff8-9ab1-69df113bc032\",\n",
    "    \"ad2f347d-e961-4a70-b294-4df83c12355d\",\n",
    "    \"c299a55a-3325-4eb3-ba8e-c8ceccafaa8c\",\n",
    "    \"ff8fe67e-cfe0-482a-bad1-aa189390a1c0\"\n",
    ")"
   ]
  },
  {
   "cell_type": "code",
   "execution_count": 3,
   "id": "efd35c48-23ce-44fd-bba9-6548ffa1f17d",
   "metadata": {},
   "outputs": [
    {
     "name": "stdout",
     "output_type": "stream",
     "text": [
      "[1] \"Initiating file download for EXP-00454-P1_PC02184-038_archr.arrow\"\n",
      "[1] \"Download successful.\"\n",
      "[1] \"Initiating file download for EXP-00454-P1_PC02184-040_archr.arrow\"\n",
      "[1] \"Download successful.\"\n",
      "[1] \"Initiating file download for EXP-00454-P1_PC02184-041_archr.arrow\"\n",
      "[1] \"Download successful.\"\n",
      "[1] \"Initiating file download for EXP-00454-P1_PC02184-039_archr.arrow\"\n",
      "[1] \"Download successful.\"\n",
      "[1] \"Initiating file download for EXP-00454-P1_PC02184-045_archr.arrow\"\n",
      "[1] \"Download successful.\"\n",
      "[1] \"Initiating file download for EXP-00454-P1_PC02184-046_archr.arrow\"\n",
      "[1] \"Download successful.\"\n",
      "[1] \"Initiating file download for EXP-00454-P1_PC02184-048_archr.arrow\"\n",
      "[1] \"Download successful.\"\n",
      "[1] \"Initiating file download for EXP-00454-P1_PC02184-044_archr.arrow\"\n",
      "[1] \"Download successful.\"\n",
      "[1] \"Initiating file download for EXP-00454-P1_PC02184-043_archr.arrow\"\n",
      "[1] \"Download successful.\"\n",
      "[1] \"Initiating file download for EXP-00454-P1_PC02184-049_archr.arrow\"\n",
      "[1] \"Download successful.\"\n",
      "[1] \"Initiating file download for EXP-00454-P1_PC02184-047_archr.arrow\"\n",
      "[1] \"Download successful.\"\n",
      "[1] \"Initiating file download for EXP-00454-P1_PC02184-042_archr.arrow\"\n",
      "[1] \"Download successful.\"\n"
     ]
    }
   ],
   "source": [
    "fres <- hise::cacheFiles(\n",
    "    atac_file_uuids\n",
    ")"
   ]
  },
  {
   "cell_type": "markdown",
   "id": "828ceb07-aac1-48d2-8522-c2bf87be40e5",
   "metadata": {},
   "source": [
    "We'll also need the cell type labels identified using scRNA-seq and ADT markers to select cells from each cell type:"
   ]
  },
  {
   "cell_type": "code",
   "execution_count": 4,
   "id": "7340ca10-c8cc-47c6-a5c4-7af5d15bc01c",
   "metadata": {},
   "outputs": [],
   "source": [
    "label_uuids <- list(\n",
    "    \"ebd4bee7-2f5d-46e1-b2fc-22157f1b8d04\", # CD4 type labels\n",
    "    \"4d6aade9-288c-452f-8f0d-ac59e539f4cc\"  # CD8 type labels\n",
    ")"
   ]
  },
  {
   "cell_type": "code",
   "execution_count": 5,
   "id": "77b75347-88fe-45df-b18b-bd5014119baa",
   "metadata": {
    "scrolled": true
   },
   "outputs": [
    {
     "name": "stdout",
     "output_type": "stream",
     "text": [
      "[1] \"Initiating file download for cd4_cell_type_labels_2023-09-05.csv\"\n",
      "[1] \"Download successful.\"\n",
      "[1] \"Initiating file download for cd8_cell_type_labels_2023-09-05.csv\"\n",
      "[1] \"Download successful.\"\n"
     ]
    }
   ],
   "source": [
    "fres <- cacheFiles(label_uuids)"
   ]
  },
  {
   "cell_type": "markdown",
   "id": "a9a51aac-e9f4-4103-93d0-e9fdf7d25e6f",
   "metadata": {},
   "source": [
    "## Assemble Full ArchR Project\n",
    "\n",
    "First, we'll assemble all cells into a single large ArchR project. We'll then add cell type labels, and then subset this project for each cell type for downstream analyses."
   ]
  },
  {
   "cell_type": "code",
   "execution_count": 6,
   "id": "0605cdbf-3f5f-405e-a375-2fa25ae70217",
   "metadata": {},
   "outputs": [
    {
     "name": "stderr",
     "output_type": "stream",
     "text": [
      "Setting default genome to Hg38.\n",
      "\n",
      "Setting default number of Parallel threads to 12.\n",
      "\n"
     ]
    }
   ],
   "source": [
    "addArchRGenome(\"hg38\")\n",
    "addArchRThreads(12)"
   ]
  },
  {
   "cell_type": "code",
   "execution_count": 7,
   "id": "11f8f24c-b40b-4352-bb65-5b31a340176f",
   "metadata": {},
   "outputs": [],
   "source": [
    "arrow_files <- list.files(\n",
    "    \"cache\",\n",
    "    pattern = \".arrow$\",\n",
    "    recursive = TRUE,\n",
    "    full.names = TRUE\n",
    ")"
   ]
  },
  {
   "cell_type": "code",
   "execution_count": 8,
   "id": "c5e48230-74c7-479a-8cc9-b4622a42ddca",
   "metadata": {},
   "outputs": [
    {
     "name": "stderr",
     "output_type": "stream",
     "text": [
      "Using GeneAnnotation set by addArchRGenome(Hg38)!\n",
      "\n",
      "Using GeneAnnotation set by addArchRGenome(Hg38)!\n",
      "\n",
      "Validating Arrows...\n",
      "\n",
      "Getting SampleNames...\n",
      "\n",
      "\n",
      "\n",
      "Copying ArrowFiles to Ouptut Directory! If you want to save disk space set copyArrows = FALSE\n",
      "\n",
      "1 \n",
      "2 \n",
      "3 \n",
      "4 \n",
      "5 \n",
      "6 \n",
      "7 \n",
      "8 \n",
      "9 \n",
      "10 \n",
      "11 \n",
      "12 \n",
      "\n",
      "\n",
      "Getting Cell Metadata...\n",
      "\n",
      "\n",
      "\n",
      "Merging Cell Metadata...\n",
      "\n",
      "Initializing ArchRProject...\n",
      "\n",
      "\n",
      "                                                   / |\n",
      "                                                 /    \\\n",
      "            .                                  /      |.\n",
      "            \\\\\\                              /        |.\n",
      "              \\\\\\                          /           `|.\n",
      "                \\\\\\                      /              |.\n",
      "                  \\                    /                |\\\n",
      "                  \\\\#####\\           /                  ||\n",
      "                ==###########>      /                   ||\n",
      "                 \\\\##==......\\    /                     ||\n",
      "            ______ =       =|__ /__                     ||      \\\\\\\n",
      "        ,--' ,----`-,__ ___/'  --,-`-===================##========>\n",
      "       \\               '        ##_______ _____ ,--,__,=##,__   ///\n",
      "        ,    __==    ___,-,__,--'#'  ==='      `-'    | ##,-/\n",
      "        -,____,---'       \\\\####\\\\________________,--\\\\_##,/\n",
      "           ___      .______        ______  __    __  .______      \n",
      "          /   \\     |   _  \\      /      ||  |  |  | |   _  \\     \n",
      "         /  ^  \\    |  |_)  |    |  ,----'|  |__|  | |  |_)  |    \n",
      "        /  /_\\  \\   |      /     |  |     |   __   | |      /     \n",
      "       /  _____  \\  |  |\\  \\\\___ |  `----.|  |  |  | |  |\\  \\\\___.\n",
      "      /__/     \\__\\ | _| `._____| \\______||__|  |__| | _| `._____|\n",
      "    \n",
      "\n"
     ]
    }
   ],
   "source": [
    "full_proj <- ArchRProject(\n",
    "    ArrowFiles = arrow_files,\n",
    "    outputDirectory = \"vrdtea_ArchR_all\"\n",
    ")"
   ]
  },
  {
   "cell_type": "markdown",
   "id": "5689ab7f-851c-499f-813f-e09c098ebf62",
   "metadata": {},
   "source": [
    "### Load cell type labels"
   ]
  },
  {
   "cell_type": "code",
   "execution_count": 9,
   "id": "5cbb6957-9cb4-4c35-9d05-1f0e68775eef",
   "metadata": {},
   "outputs": [],
   "source": [
    "label_files <- list.files(\n",
    "    \"cache\",\n",
    "    pattern = \"cell_type_labels\",\n",
    "    recursive = TRUE,\n",
    "    full.names = TRUE\n",
    ")"
   ]
  },
  {
   "cell_type": "code",
   "execution_count": 10,
   "id": "51722441-51a0-4662-9764-45e02c907007",
   "metadata": {},
   "outputs": [],
   "source": [
    "cell_type_labels <- map_dfr(\n",
    "    label_files,\n",
    "    read.csv\n",
    ")"
   ]
  },
  {
   "cell_type": "code",
   "execution_count": 11,
   "id": "caa2c7b6-ade0-47fb-b44b-4c42a8009b77",
   "metadata": {},
   "outputs": [
    {
     "data": {
      "text/html": [
       "<table class=\"dataframe\">\n",
       "<caption>A data.frame: 6 × 10</caption>\n",
       "<thead>\n",
       "\t<tr><th></th><th scope=col>barcodes</th><th scope=col>treatment</th><th scope=col>timepoint</th><th scope=col>predicted.celltype.l1.score</th><th scope=col>predicted.celltype.l1</th><th scope=col>predicted.celltype.l2.score</th><th scope=col>predicted.celltype.l2</th><th scope=col>predicted.celltype.l3.score</th><th scope=col>predicted.celltype.l3</th><th scope=col>aifi_cell_type</th></tr>\n",
       "\t<tr><th></th><th scope=col>&lt;chr&gt;</th><th scope=col>&lt;chr&gt;</th><th scope=col>&lt;int&gt;</th><th scope=col>&lt;dbl&gt;</th><th scope=col>&lt;chr&gt;</th><th scope=col>&lt;dbl&gt;</th><th scope=col>&lt;chr&gt;</th><th scope=col>&lt;dbl&gt;</th><th scope=col>&lt;chr&gt;</th><th scope=col>&lt;chr&gt;</th></tr>\n",
       "</thead>\n",
       "<tbody>\n",
       "\t<tr><th scope=row>1</th><td>2db4ad86fb8111eda35df29f570c0793</td><td>dmso</td><td>24</td><td>1</td><td>CD8 T</td><td>0.9935699</td><td>CD8 TCM  </td><td>0.7719808</td><td>CD8 TCM_2</td><td>t_cd8_memory</td></tr>\n",
       "\t<tr><th scope=row>2</th><td>2db5b3acfb8111eda35df29f570c0793</td><td>dmso</td><td>24</td><td>1</td><td>CD8 T</td><td>0.9516342</td><td>CD8 Naive</td><td>0.5145206</td><td>CD8 Naive</td><td>t_cd8_naive </td></tr>\n",
       "\t<tr><th scope=row>3</th><td>2db85e7cfb8111eda35df29f570c0793</td><td>dmso</td><td>24</td><td>1</td><td>CD8 T</td><td>0.9234621</td><td>CD8 Naive</td><td>0.5688105</td><td>CD8 Naive</td><td>t_cd8_naive </td></tr>\n",
       "\t<tr><th scope=row>4</th><td>2dbf2874fb8111eda35df29f570c0793</td><td>dmso</td><td>24</td><td>1</td><td>CD8 T</td><td>0.6689411</td><td>CD8 Naive</td><td>0.5051748</td><td>CD8 Naive</td><td>t_cd8_naive </td></tr>\n",
       "\t<tr><th scope=row>5</th><td>2df6a268fb8111eda35df29f570c0793</td><td>dmso</td><td>24</td><td>1</td><td>CD8 T</td><td>0.8623866</td><td>CD8 Naive</td><td>0.8623866</td><td>CD8 Naive</td><td>t_cd8_naive </td></tr>\n",
       "\t<tr><th scope=row>6</th><td>2df88042fb8111eda35df29f570c0793</td><td>dmso</td><td>24</td><td>1</td><td>CD8 T</td><td>0.6799530</td><td>CD8 Naive</td><td>0.6599393</td><td>CD8 Naive</td><td>t_cd8_naive </td></tr>\n",
       "</tbody>\n",
       "</table>\n"
      ],
      "text/latex": [
       "A data.frame: 6 × 10\n",
       "\\begin{tabular}{r|llllllllll}\n",
       "  & barcodes & treatment & timepoint & predicted.celltype.l1.score & predicted.celltype.l1 & predicted.celltype.l2.score & predicted.celltype.l2 & predicted.celltype.l3.score & predicted.celltype.l3 & aifi\\_cell\\_type\\\\\n",
       "  & <chr> & <chr> & <int> & <dbl> & <chr> & <dbl> & <chr> & <dbl> & <chr> & <chr>\\\\\n",
       "\\hline\n",
       "\t1 & 2db4ad86fb8111eda35df29f570c0793 & dmso & 24 & 1 & CD8 T & 0.9935699 & CD8 TCM   & 0.7719808 & CD8 TCM\\_2 & t\\_cd8\\_memory\\\\\n",
       "\t2 & 2db5b3acfb8111eda35df29f570c0793 & dmso & 24 & 1 & CD8 T & 0.9516342 & CD8 Naive & 0.5145206 & CD8 Naive & t\\_cd8\\_naive \\\\\n",
       "\t3 & 2db85e7cfb8111eda35df29f570c0793 & dmso & 24 & 1 & CD8 T & 0.9234621 & CD8 Naive & 0.5688105 & CD8 Naive & t\\_cd8\\_naive \\\\\n",
       "\t4 & 2dbf2874fb8111eda35df29f570c0793 & dmso & 24 & 1 & CD8 T & 0.6689411 & CD8 Naive & 0.5051748 & CD8 Naive & t\\_cd8\\_naive \\\\\n",
       "\t5 & 2df6a268fb8111eda35df29f570c0793 & dmso & 24 & 1 & CD8 T & 0.8623866 & CD8 Naive & 0.8623866 & CD8 Naive & t\\_cd8\\_naive \\\\\n",
       "\t6 & 2df88042fb8111eda35df29f570c0793 & dmso & 24 & 1 & CD8 T & 0.6799530 & CD8 Naive & 0.6599393 & CD8 Naive & t\\_cd8\\_naive \\\\\n",
       "\\end{tabular}\n"
      ],
      "text/markdown": [
       "\n",
       "A data.frame: 6 × 10\n",
       "\n",
       "| <!--/--> | barcodes &lt;chr&gt; | treatment &lt;chr&gt; | timepoint &lt;int&gt; | predicted.celltype.l1.score &lt;dbl&gt; | predicted.celltype.l1 &lt;chr&gt; | predicted.celltype.l2.score &lt;dbl&gt; | predicted.celltype.l2 &lt;chr&gt; | predicted.celltype.l3.score &lt;dbl&gt; | predicted.celltype.l3 &lt;chr&gt; | aifi_cell_type &lt;chr&gt; |\n",
       "|---|---|---|---|---|---|---|---|---|---|---|\n",
       "| 1 | 2db4ad86fb8111eda35df29f570c0793 | dmso | 24 | 1 | CD8 T | 0.9935699 | CD8 TCM   | 0.7719808 | CD8 TCM_2 | t_cd8_memory |\n",
       "| 2 | 2db5b3acfb8111eda35df29f570c0793 | dmso | 24 | 1 | CD8 T | 0.9516342 | CD8 Naive | 0.5145206 | CD8 Naive | t_cd8_naive  |\n",
       "| 3 | 2db85e7cfb8111eda35df29f570c0793 | dmso | 24 | 1 | CD8 T | 0.9234621 | CD8 Naive | 0.5688105 | CD8 Naive | t_cd8_naive  |\n",
       "| 4 | 2dbf2874fb8111eda35df29f570c0793 | dmso | 24 | 1 | CD8 T | 0.6689411 | CD8 Naive | 0.5051748 | CD8 Naive | t_cd8_naive  |\n",
       "| 5 | 2df6a268fb8111eda35df29f570c0793 | dmso | 24 | 1 | CD8 T | 0.8623866 | CD8 Naive | 0.8623866 | CD8 Naive | t_cd8_naive  |\n",
       "| 6 | 2df88042fb8111eda35df29f570c0793 | dmso | 24 | 1 | CD8 T | 0.6799530 | CD8 Naive | 0.6599393 | CD8 Naive | t_cd8_naive  |\n",
       "\n"
      ],
      "text/plain": [
       "  barcodes                         treatment timepoint\n",
       "1 2db4ad86fb8111eda35df29f570c0793 dmso      24       \n",
       "2 2db5b3acfb8111eda35df29f570c0793 dmso      24       \n",
       "3 2db85e7cfb8111eda35df29f570c0793 dmso      24       \n",
       "4 2dbf2874fb8111eda35df29f570c0793 dmso      24       \n",
       "5 2df6a268fb8111eda35df29f570c0793 dmso      24       \n",
       "6 2df88042fb8111eda35df29f570c0793 dmso      24       \n",
       "  predicted.celltype.l1.score predicted.celltype.l1 predicted.celltype.l2.score\n",
       "1 1                           CD8 T                 0.9935699                  \n",
       "2 1                           CD8 T                 0.9516342                  \n",
       "3 1                           CD8 T                 0.9234621                  \n",
       "4 1                           CD8 T                 0.6689411                  \n",
       "5 1                           CD8 T                 0.8623866                  \n",
       "6 1                           CD8 T                 0.6799530                  \n",
       "  predicted.celltype.l2 predicted.celltype.l3.score predicted.celltype.l3\n",
       "1 CD8 TCM               0.7719808                   CD8 TCM_2            \n",
       "2 CD8 Naive             0.5145206                   CD8 Naive            \n",
       "3 CD8 Naive             0.5688105                   CD8 Naive            \n",
       "4 CD8 Naive             0.5051748                   CD8 Naive            \n",
       "5 CD8 Naive             0.8623866                   CD8 Naive            \n",
       "6 CD8 Naive             0.6599393                   CD8 Naive            \n",
       "  aifi_cell_type\n",
       "1 t_cd8_memory  \n",
       "2 t_cd8_naive   \n",
       "3 t_cd8_naive   \n",
       "4 t_cd8_naive   \n",
       "5 t_cd8_naive   \n",
       "6 t_cd8_naive   "
      ]
     },
     "metadata": {},
     "output_type": "display_data"
    }
   ],
   "source": [
    "head(cell_type_labels)"
   ]
  },
  {
   "cell_type": "markdown",
   "id": "b0463d86-5219-44ab-831e-e03eb019dea3",
   "metadata": {},
   "source": [
    "### Add labels to ArchR metadata"
   ]
  },
  {
   "cell_type": "code",
   "execution_count": 12,
   "id": "26055920-cab5-48e0-a66b-20565e40d62c",
   "metadata": {},
   "outputs": [],
   "source": [
    "archr_meta <- getCellColData(full_proj)\n",
    "archr_meta <- as.data.frame(archr_meta)"
   ]
  },
  {
   "cell_type": "code",
   "execution_count": 13,
   "id": "0fcfae7e-e708-477e-8d89-77b600811dd4",
   "metadata": {},
   "outputs": [],
   "source": [
    "archr_barcodes <- data.frame(\n",
    "    archr_name = rownames(archr_meta),\n",
    "    barcodes = archr_meta$barcodes\n",
    ")"
   ]
  },
  {
   "cell_type": "code",
   "execution_count": 14,
   "id": "3bdb0585-4ce8-489a-871c-199c1e9a4c17",
   "metadata": {},
   "outputs": [
    {
     "name": "stderr",
     "output_type": "stream",
     "text": [
      "\u001b[1m\u001b[22mJoining with `by = join_by(barcodes)`\n"
     ]
    }
   ],
   "source": [
    "cell_type_labels <- cell_type_labels %>%\n",
    "  left_join(archr_barcodes)"
   ]
  },
  {
   "cell_type": "code",
   "execution_count": 15,
   "id": "7980b57c-aee5-4a27-b325-de1f7497e3b0",
   "metadata": {},
   "outputs": [
    {
     "data": {
      "text/html": [
       "0"
      ],
      "text/latex": [
       "0"
      ],
      "text/markdown": [
       "0"
      ],
      "text/plain": [
       "[1] 0"
      ]
     },
     "metadata": {},
     "output_type": "display_data"
    }
   ],
   "source": [
    "sum(is.na(cell_type_labels$archr_name))"
   ]
  },
  {
   "cell_type": "code",
   "execution_count": 16,
   "id": "2179210f-a63e-4384-9205-eb871216311c",
   "metadata": {},
   "outputs": [],
   "source": [
    "full_proj <- addCellColData(\n",
    "    full_proj,\n",
    "    data = cell_type_labels$aifi_cell_type,\n",
    "    name = \"aifi_cell_type\",\n",
    "    cells = cell_type_labels$archr_name\n",
    ")"
   ]
  },
  {
   "cell_type": "markdown",
   "id": "b9a4f75d-da06-48d1-a4f7-8efd9eaeab18",
   "metadata": {},
   "source": [
    "## Split ArchR Project"
   ]
  },
  {
   "cell_type": "code",
   "execution_count": 17,
   "id": "351701e3-eb21-4ae6-b145-6b95a9c829aa",
   "metadata": {},
   "outputs": [],
   "source": [
    "dir.create(\"output\")"
   ]
  },
  {
   "cell_type": "code",
   "execution_count": 18,
   "id": "548706c6-9c2e-47bb-ae76-7f2e8e50c1cf",
   "metadata": {},
   "outputs": [],
   "source": [
    "archr_meta <- getCellColData(full_proj)\n",
    "archr_meta <- as.data.frame(archr_meta)\n",
    "cell_type_meta_list <- split(archr_meta, archr_meta$aifi_cell_type)"
   ]
  },
  {
   "cell_type": "code",
   "execution_count": 19,
   "id": "abb36393-2c8f-4cc2-bb60-c1a81f1f95a9",
   "metadata": {},
   "outputs": [
    {
     "data": {
      "text/html": [
       "<style>\n",
       ".list-inline {list-style: none; margin:0; padding: 0}\n",
       ".list-inline>li {display: inline-block}\n",
       ".list-inline>li:not(:last-child)::after {content: \"\\00b7\"; padding: 0 .5ex}\n",
       "</style>\n",
       "<ol class=list-inline><li>'t_cd4_cm'</li><li>'t_cd4_em'</li><li>'t_cd4_naive'</li><li>'t_cd4_treg'</li><li>'t_cd8_memory'</li><li>'t_cd8_naive'</li></ol>\n"
      ],
      "text/latex": [
       "\\begin{enumerate*}\n",
       "\\item 't\\_cd4\\_cm'\n",
       "\\item 't\\_cd4\\_em'\n",
       "\\item 't\\_cd4\\_naive'\n",
       "\\item 't\\_cd4\\_treg'\n",
       "\\item 't\\_cd8\\_memory'\n",
       "\\item 't\\_cd8\\_naive'\n",
       "\\end{enumerate*}\n"
      ],
      "text/markdown": [
       "1. 't_cd4_cm'\n",
       "2. 't_cd4_em'\n",
       "3. 't_cd4_naive'\n",
       "4. 't_cd4_treg'\n",
       "5. 't_cd8_memory'\n",
       "6. 't_cd8_naive'\n",
       "\n",
       "\n"
      ],
      "text/plain": [
       "[1] \"t_cd4_cm\"     \"t_cd4_em\"     \"t_cd4_naive\"  \"t_cd4_treg\"   \"t_cd8_memory\"\n",
       "[6] \"t_cd8_naive\" "
      ]
     },
     "metadata": {},
     "output_type": "display_data"
    }
   ],
   "source": [
    "names(cell_type_meta_list)"
   ]
  },
  {
   "cell_type": "code",
   "execution_count": 20,
   "id": "914ed123-28ca-4d46-822a-63fcc11a459d",
   "metadata": {},
   "outputs": [],
   "source": [
    "cell_types <- names(cell_type_meta_list)\n",
    "subset_paths <- paste0(\"output/vrdtea_ArchR-\", cell_types, \"_\", Sys.Date())"
   ]
  },
  {
   "cell_type": "code",
   "execution_count": 21,
   "id": "1db1b025-53bc-4ded-b303-57b5027b3533",
   "metadata": {},
   "outputs": [
    {
     "name": "stderr",
     "output_type": "stream",
     "text": [
      "Copying ArchRProject to new outputDirectory : /home/jupyter/repro-vrd-tea-seq/04-atac-analysis/output/vrdtea_ArchR-t_cd4_cm_2023-10-02\n",
      "\n",
      "Copying Arrow Files...\n",
      "\n",
      "Getting ImputeWeights\n",
      "\n",
      "No imputeWeights found, returning NULL\n",
      "\n",
      "Copying Other Files...\n",
      "\n",
      "Saving ArchRProject...\n",
      "\n",
      "Loading ArchRProject...\n",
      "\n",
      "Successfully loaded ArchRProject!\n",
      "\n",
      "\n",
      "                                                   / |\n",
      "                                                 /    \\\n",
      "            .                                  /      |.\n",
      "            \\\\\\                              /        |.\n",
      "              \\\\\\                          /           `|.\n",
      "                \\\\\\                      /              |.\n",
      "                  \\                    /                |\\\n",
      "                  \\\\#####\\           /                  ||\n",
      "                ==###########>      /                   ||\n",
      "                 \\\\##==......\\    /                     ||\n",
      "            ______ =       =|__ /__                     ||      \\\\\\\n",
      "        ,--' ,----`-,__ ___/'  --,-`-===================##========>\n",
      "       \\               '        ##_______ _____ ,--,__,=##,__   ///\n",
      "        ,    __==    ___,-,__,--'#'  ==='      `-'    | ##,-/\n",
      "        -,____,---'       \\\\####\\\\________________,--\\\\_##,/\n",
      "           ___      .______        ______  __    __  .______      \n",
      "          /   \\     |   _  \\      /      ||  |  |  | |   _  \\     \n",
      "         /  ^  \\    |  |_)  |    |  ,----'|  |__|  | |  |_)  |    \n",
      "        /  /_\\  \\   |      /     |  |     |   __   | |      /     \n",
      "       /  _____  \\  |  |\\  \\\\___ |  `----.|  |  |  | |  |\\  \\\\___.\n",
      "      /__/     \\__\\ | _| `._____| \\______||__|  |__| | _| `._____|\n",
      "    \n",
      "\n",
      "Copying ArchRProject to new outputDirectory : /home/jupyter/repro-vrd-tea-seq/04-atac-analysis/output/vrdtea_ArchR-t_cd4_em_2023-10-02\n",
      "\n",
      "Copying Arrow Files...\n",
      "\n",
      "Getting ImputeWeights\n",
      "\n",
      "No imputeWeights found, returning NULL\n",
      "\n",
      "Copying Other Files...\n",
      "\n",
      "Saving ArchRProject...\n",
      "\n",
      "Loading ArchRProject...\n",
      "\n",
      "Successfully loaded ArchRProject!\n",
      "\n",
      "\n",
      "                                                   / |\n",
      "                                                 /    \\\n",
      "            .                                  /      |.\n",
      "            \\\\\\                              /        |.\n",
      "              \\\\\\                          /           `|.\n",
      "                \\\\\\                      /              |.\n",
      "                  \\                    /                |\\\n",
      "                  \\\\#####\\           /                  ||\n",
      "                ==###########>      /                   ||\n",
      "                 \\\\##==......\\    /                     ||\n",
      "            ______ =       =|__ /__                     ||      \\\\\\\n",
      "        ,--' ,----`-,__ ___/'  --,-`-===================##========>\n",
      "       \\               '        ##_______ _____ ,--,__,=##,__   ///\n",
      "        ,    __==    ___,-,__,--'#'  ==='      `-'    | ##,-/\n",
      "        -,____,---'       \\\\####\\\\________________,--\\\\_##,/\n",
      "           ___      .______        ______  __    __  .______      \n",
      "          /   \\     |   _  \\      /      ||  |  |  | |   _  \\     \n",
      "         /  ^  \\    |  |_)  |    |  ,----'|  |__|  | |  |_)  |    \n",
      "        /  /_\\  \\   |      /     |  |     |   __   | |      /     \n",
      "       /  _____  \\  |  |\\  \\\\___ |  `----.|  |  |  | |  |\\  \\\\___.\n",
      "      /__/     \\__\\ | _| `._____| \\______||__|  |__| | _| `._____|\n",
      "    \n",
      "\n",
      "Copying ArchRProject to new outputDirectory : /home/jupyter/repro-vrd-tea-seq/04-atac-analysis/output/vrdtea_ArchR-t_cd4_naive_2023-10-02\n",
      "\n",
      "Copying Arrow Files...\n",
      "\n",
      "Getting ImputeWeights\n",
      "\n",
      "No imputeWeights found, returning NULL\n",
      "\n",
      "Copying Other Files...\n",
      "\n",
      "Saving ArchRProject...\n",
      "\n",
      "Loading ArchRProject...\n",
      "\n",
      "Successfully loaded ArchRProject!\n",
      "\n",
      "\n",
      "                                                   / |\n",
      "                                                 /    \\\n",
      "            .                                  /      |.\n",
      "            \\\\\\                              /        |.\n",
      "              \\\\\\                          /           `|.\n",
      "                \\\\\\                      /              |.\n",
      "                  \\                    /                |\\\n",
      "                  \\\\#####\\           /                  ||\n",
      "                ==###########>      /                   ||\n",
      "                 \\\\##==......\\    /                     ||\n",
      "            ______ =       =|__ /__                     ||      \\\\\\\n",
      "        ,--' ,----`-,__ ___/'  --,-`-===================##========>\n",
      "       \\               '        ##_______ _____ ,--,__,=##,__   ///\n",
      "        ,    __==    ___,-,__,--'#'  ==='      `-'    | ##,-/\n",
      "        -,____,---'       \\\\####\\\\________________,--\\\\_##,/\n",
      "           ___      .______        ______  __    __  .______      \n",
      "          /   \\     |   _  \\      /      ||  |  |  | |   _  \\     \n",
      "         /  ^  \\    |  |_)  |    |  ,----'|  |__|  | |  |_)  |    \n",
      "        /  /_\\  \\   |      /     |  |     |   __   | |      /     \n",
      "       /  _____  \\  |  |\\  \\\\___ |  `----.|  |  |  | |  |\\  \\\\___.\n",
      "      /__/     \\__\\ | _| `._____| \\______||__|  |__| | _| `._____|\n",
      "    \n",
      "\n",
      "Copying ArchRProject to new outputDirectory : /home/jupyter/repro-vrd-tea-seq/04-atac-analysis/output/vrdtea_ArchR-t_cd4_treg_2023-10-02\n",
      "\n",
      "Copying Arrow Files...\n",
      "\n",
      "Getting ImputeWeights\n",
      "\n",
      "No imputeWeights found, returning NULL\n",
      "\n",
      "Copying Other Files...\n",
      "\n",
      "Saving ArchRProject...\n",
      "\n",
      "Loading ArchRProject...\n",
      "\n",
      "Successfully loaded ArchRProject!\n",
      "\n",
      "\n",
      "                                                   / |\n",
      "                                                 /    \\\n",
      "            .                                  /      |.\n",
      "            \\\\\\                              /        |.\n",
      "              \\\\\\                          /           `|.\n",
      "                \\\\\\                      /              |.\n",
      "                  \\                    /                |\\\n",
      "                  \\\\#####\\           /                  ||\n",
      "                ==###########>      /                   ||\n",
      "                 \\\\##==......\\    /                     ||\n",
      "            ______ =       =|__ /__                     ||      \\\\\\\n",
      "        ,--' ,----`-,__ ___/'  --,-`-===================##========>\n",
      "       \\               '        ##_______ _____ ,--,__,=##,__   ///\n",
      "        ,    __==    ___,-,__,--'#'  ==='      `-'    | ##,-/\n",
      "        -,____,---'       \\\\####\\\\________________,--\\\\_##,/\n",
      "           ___      .______        ______  __    __  .______      \n",
      "          /   \\     |   _  \\      /      ||  |  |  | |   _  \\     \n",
      "         /  ^  \\    |  |_)  |    |  ,----'|  |__|  | |  |_)  |    \n",
      "        /  /_\\  \\   |      /     |  |     |   __   | |      /     \n",
      "       /  _____  \\  |  |\\  \\\\___ |  `----.|  |  |  | |  |\\  \\\\___.\n",
      "      /__/     \\__\\ | _| `._____| \\______||__|  |__| | _| `._____|\n",
      "    \n",
      "\n",
      "Copying ArchRProject to new outputDirectory : /home/jupyter/repro-vrd-tea-seq/04-atac-analysis/output/vrdtea_ArchR-t_cd8_memory_2023-10-02\n",
      "\n",
      "Copying Arrow Files...\n",
      "\n",
      "Getting ImputeWeights\n",
      "\n",
      "No imputeWeights found, returning NULL\n",
      "\n",
      "Copying Other Files...\n",
      "\n",
      "Saving ArchRProject...\n",
      "\n",
      "Loading ArchRProject...\n",
      "\n",
      "Successfully loaded ArchRProject!\n",
      "\n",
      "\n",
      "                                                   / |\n",
      "                                                 /    \\\n",
      "            .                                  /      |.\n",
      "            \\\\\\                              /        |.\n",
      "              \\\\\\                          /           `|.\n",
      "                \\\\\\                      /              |.\n",
      "                  \\                    /                |\\\n",
      "                  \\\\#####\\           /                  ||\n",
      "                ==###########>      /                   ||\n",
      "                 \\\\##==......\\    /                     ||\n",
      "            ______ =       =|__ /__                     ||      \\\\\\\n",
      "        ,--' ,----`-,__ ___/'  --,-`-===================##========>\n",
      "       \\               '        ##_______ _____ ,--,__,=##,__   ///\n",
      "        ,    __==    ___,-,__,--'#'  ==='      `-'    | ##,-/\n",
      "        -,____,---'       \\\\####\\\\________________,--\\\\_##,/\n",
      "           ___      .______        ______  __    __  .______      \n",
      "          /   \\     |   _  \\      /      ||  |  |  | |   _  \\     \n",
      "         /  ^  \\    |  |_)  |    |  ,----'|  |__|  | |  |_)  |    \n",
      "        /  /_\\  \\   |      /     |  |     |   __   | |      /     \n",
      "       /  _____  \\  |  |\\  \\\\___ |  `----.|  |  |  | |  |\\  \\\\___.\n",
      "      /__/     \\__\\ | _| `._____| \\______||__|  |__| | _| `._____|\n",
      "    \n",
      "\n",
      "Copying ArchRProject to new outputDirectory : /home/jupyter/repro-vrd-tea-seq/04-atac-analysis/output/vrdtea_ArchR-t_cd8_naive_2023-10-02\n",
      "\n",
      "Copying Arrow Files...\n",
      "\n",
      "Getting ImputeWeights\n",
      "\n",
      "No imputeWeights found, returning NULL\n",
      "\n",
      "Copying Other Files...\n",
      "\n",
      "Saving ArchRProject...\n",
      "\n",
      "Loading ArchRProject...\n",
      "\n",
      "Successfully loaded ArchRProject!\n",
      "\n",
      "\n",
      "                                                   / |\n",
      "                                                 /    \\\n",
      "            .                                  /      |.\n",
      "            \\\\\\                              /        |.\n",
      "              \\\\\\                          /           `|.\n",
      "                \\\\\\                      /              |.\n",
      "                  \\                    /                |\\\n",
      "                  \\\\#####\\           /                  ||\n",
      "                ==###########>      /                   ||\n",
      "                 \\\\##==......\\    /                     ||\n",
      "            ______ =       =|__ /__                     ||      \\\\\\\n",
      "        ,--' ,----`-,__ ___/'  --,-`-===================##========>\n",
      "       \\               '        ##_______ _____ ,--,__,=##,__   ///\n",
      "        ,    __==    ___,-,__,--'#'  ==='      `-'    | ##,-/\n",
      "        -,____,---'       \\\\####\\\\________________,--\\\\_##,/\n",
      "           ___      .______        ______  __    __  .______      \n",
      "          /   \\     |   _  \\      /      ||  |  |  | |   _  \\     \n",
      "         /  ^  \\    |  |_)  |    |  ,----'|  |__|  | |  |_)  |    \n",
      "        /  /_\\  \\   |      /     |  |     |   __   | |      /     \n",
      "       /  _____  \\  |  |\\  \\\\___ |  `----.|  |  |  | |  |\\  \\\\___.\n",
      "      /__/     \\__\\ | _| `._____| \\______||__|  |__| | _| `._____|\n",
      "    \n",
      "\n"
     ]
    }
   ],
   "source": [
    "walk2(\n",
    "    subset_paths,\n",
    "    cell_type_meta_list,\n",
    "    function(subset_path, cell_type_meta) {\n",
    "\n",
    "        sub_proj <- subsetArchRProject(\n",
    "            full_proj,\n",
    "            cells = rownames(cell_type_meta),\n",
    "            outputDirectory = subset_path\n",
    "        )\n",
    "        \n",
    "    }\n",
    ")"
   ]
  },
  {
   "cell_type": "markdown",
   "id": "39767979-b9ca-4ee3-a7ed-cb7e6ce0551a",
   "metadata": {},
   "source": [
    "### Bundle projects for storage\n",
    "\n",
    "To store and retrieve these ArchR projects, we'll bundle these cell type projects using `tar` for later use."
   ]
  },
  {
   "cell_type": "code",
   "execution_count": 22,
   "id": "c6dd6791-585a-4b0b-8be4-809dfac69eef",
   "metadata": {},
   "outputs": [],
   "source": [
    "walk2(\n",
    "    cell_types,\n",
    "    subset_paths,\n",
    "    function(cell_type, proj_path) {\n",
    "        proj_tar <- paste0(proj_path, \".tar\")\n",
    "\n",
    "        command <- paste(\n",
    "            \"tar -cf\",\n",
    "            proj_tar,\n",
    "            proj_path\n",
    "        )\n",
    "\n",
    "        system(command)\n",
    "    }\n",
    ")"
   ]
  },
  {
   "cell_type": "markdown",
   "id": "fe83be6f-4bd9-4f7a-a2f3-9ae40db34444",
   "metadata": {},
   "source": [
    "## Store results in HISE\n",
    "\n",
    "Finally, we store the output file in our Collaboration Space for later retrieval and use. We need to provide the UUID for our Collaboration Space (aka `studySpaceId`), as well as a title for this step in our analysis process.\n",
    "\n",
    "The hise function `uploadFiles()` also requires the FileIDs from the original filesets for reference."
   ]
  },
  {
   "cell_type": "code",
   "execution_count": 23,
   "id": "5ca0ac94-c928-4b2a-a796-9c86049c60b8",
   "metadata": {},
   "outputs": [],
   "source": [
    "study_space_uuid <- \"40df6403-29f0-4b45-ab7d-f46d420c422e\"\n",
    "title <- paste(\"VRd TEA-seq T Cell Type ArchR\", Sys.Date())"
   ]
  },
  {
   "cell_type": "code",
   "execution_count": 24,
   "id": "a393b56c-f380-4fc9-8157-6bb30c555a09",
   "metadata": {},
   "outputs": [],
   "source": [
    "out_files <- list.files(\n",
    "    \"output\",\n",
    "    pattern = \".tar$\",\n",
    "    full.names = TRUE\n",
    ")\n",
    "out_list <- as.list(out_files)"
   ]
  },
  {
   "cell_type": "code",
   "execution_count": 25,
   "id": "3cf5e486-ead0-411f-a233-c36eae52a9b6",
   "metadata": {},
   "outputs": [
    {
     "data": {
      "text/html": [
       "<ol>\n",
       "\t<li>'output/vrdtea_ArchR-t_cd4_cm_2023-10-02.tar'</li>\n",
       "\t<li>'output/vrdtea_ArchR-t_cd4_em_2023-10-02.tar'</li>\n",
       "\t<li>'output/vrdtea_ArchR-t_cd4_naive_2023-10-02.tar'</li>\n",
       "\t<li>'output/vrdtea_ArchR-t_cd4_treg_2023-10-02.tar'</li>\n",
       "\t<li>'output/vrdtea_ArchR-t_cd8_memory_2023-10-02.tar'</li>\n",
       "\t<li>'output/vrdtea_ArchR-t_cd8_naive_2023-10-02.tar'</li>\n",
       "</ol>\n"
      ],
      "text/latex": [
       "\\begin{enumerate}\n",
       "\\item 'output/vrdtea\\_ArchR-t\\_cd4\\_cm\\_2023-10-02.tar'\n",
       "\\item 'output/vrdtea\\_ArchR-t\\_cd4\\_em\\_2023-10-02.tar'\n",
       "\\item 'output/vrdtea\\_ArchR-t\\_cd4\\_naive\\_2023-10-02.tar'\n",
       "\\item 'output/vrdtea\\_ArchR-t\\_cd4\\_treg\\_2023-10-02.tar'\n",
       "\\item 'output/vrdtea\\_ArchR-t\\_cd8\\_memory\\_2023-10-02.tar'\n",
       "\\item 'output/vrdtea\\_ArchR-t\\_cd8\\_naive\\_2023-10-02.tar'\n",
       "\\end{enumerate}\n"
      ],
      "text/markdown": [
       "1. 'output/vrdtea_ArchR-t_cd4_cm_2023-10-02.tar'\n",
       "2. 'output/vrdtea_ArchR-t_cd4_em_2023-10-02.tar'\n",
       "3. 'output/vrdtea_ArchR-t_cd4_naive_2023-10-02.tar'\n",
       "4. 'output/vrdtea_ArchR-t_cd4_treg_2023-10-02.tar'\n",
       "5. 'output/vrdtea_ArchR-t_cd8_memory_2023-10-02.tar'\n",
       "6. 'output/vrdtea_ArchR-t_cd8_naive_2023-10-02.tar'\n",
       "\n",
       "\n"
      ],
      "text/plain": [
       "[[1]]\n",
       "[1] \"output/vrdtea_ArchR-t_cd4_cm_2023-10-02.tar\"\n",
       "\n",
       "[[2]]\n",
       "[1] \"output/vrdtea_ArchR-t_cd4_em_2023-10-02.tar\"\n",
       "\n",
       "[[3]]\n",
       "[1] \"output/vrdtea_ArchR-t_cd4_naive_2023-10-02.tar\"\n",
       "\n",
       "[[4]]\n",
       "[1] \"output/vrdtea_ArchR-t_cd4_treg_2023-10-02.tar\"\n",
       "\n",
       "[[5]]\n",
       "[1] \"output/vrdtea_ArchR-t_cd8_memory_2023-10-02.tar\"\n",
       "\n",
       "[[6]]\n",
       "[1] \"output/vrdtea_ArchR-t_cd8_naive_2023-10-02.tar\"\n"
      ]
     },
     "metadata": {},
     "output_type": "display_data"
    }
   ],
   "source": [
    "out_list"
   ]
  },
  {
   "cell_type": "code",
   "execution_count": 26,
   "id": "2998d7ab-54f2-44fd-b761-9363030b8020",
   "metadata": {},
   "outputs": [],
   "source": [
    "file_uuids <- c(\n",
    "    atac_file_uuids,\n",
    "    label_uuids\n",
    ")"
   ]
  },
  {
   "cell_type": "code",
   "execution_count": 27,
   "id": "11557b44-b762-41a9-8d1c-36114778bf15",
   "metadata": {},
   "outputs": [
    {
     "data": {
      "text/html": [
       "<dl>\n",
       "\t<dt>$files</dt>\n",
       "\t\t<dd><ol>\n",
       "\t<li>'output/vrdtea_ArchR-t_cd4_cm_2023-10-02.tar'</li>\n",
       "\t<li>'output/vrdtea_ArchR-t_cd4_em_2023-10-02.tar'</li>\n",
       "\t<li>'output/vrdtea_ArchR-t_cd4_naive_2023-10-02.tar'</li>\n",
       "\t<li>'output/vrdtea_ArchR-t_cd4_treg_2023-10-02.tar'</li>\n",
       "\t<li>'output/vrdtea_ArchR-t_cd8_memory_2023-10-02.tar'</li>\n",
       "\t<li>'output/vrdtea_ArchR-t_cd8_naive_2023-10-02.tar'</li>\n",
       "</ol>\n",
       "</dd>\n",
       "\t<dt>$traceId</dt>\n",
       "\t\t<dd>'ba13262d-5c55-472c-9de2-7904fc3d9632'</dd>\n",
       "</dl>\n"
      ],
      "text/latex": [
       "\\begin{description}\n",
       "\\item[\\$files] \\begin{enumerate}\n",
       "\\item 'output/vrdtea\\_ArchR-t\\_cd4\\_cm\\_2023-10-02.tar'\n",
       "\\item 'output/vrdtea\\_ArchR-t\\_cd4\\_em\\_2023-10-02.tar'\n",
       "\\item 'output/vrdtea\\_ArchR-t\\_cd4\\_naive\\_2023-10-02.tar'\n",
       "\\item 'output/vrdtea\\_ArchR-t\\_cd4\\_treg\\_2023-10-02.tar'\n",
       "\\item 'output/vrdtea\\_ArchR-t\\_cd8\\_memory\\_2023-10-02.tar'\n",
       "\\item 'output/vrdtea\\_ArchR-t\\_cd8\\_naive\\_2023-10-02.tar'\n",
       "\\end{enumerate}\n",
       "\n",
       "\\item[\\$traceId] 'ba13262d-5c55-472c-9de2-7904fc3d9632'\n",
       "\\end{description}\n"
      ],
      "text/markdown": [
       "$files\n",
       ":   1. 'output/vrdtea_ArchR-t_cd4_cm_2023-10-02.tar'\n",
       "2. 'output/vrdtea_ArchR-t_cd4_em_2023-10-02.tar'\n",
       "3. 'output/vrdtea_ArchR-t_cd4_naive_2023-10-02.tar'\n",
       "4. 'output/vrdtea_ArchR-t_cd4_treg_2023-10-02.tar'\n",
       "5. 'output/vrdtea_ArchR-t_cd8_memory_2023-10-02.tar'\n",
       "6. 'output/vrdtea_ArchR-t_cd8_naive_2023-10-02.tar'\n",
       "\n",
       "\n",
       "\n",
       "$traceId\n",
       ":   'ba13262d-5c55-472c-9de2-7904fc3d9632'\n",
       "\n",
       "\n"
      ],
      "text/plain": [
       "$files\n",
       "$files[[1]]\n",
       "[1] \"output/vrdtea_ArchR-t_cd4_cm_2023-10-02.tar\"\n",
       "\n",
       "$files[[2]]\n",
       "[1] \"output/vrdtea_ArchR-t_cd4_em_2023-10-02.tar\"\n",
       "\n",
       "$files[[3]]\n",
       "[1] \"output/vrdtea_ArchR-t_cd4_naive_2023-10-02.tar\"\n",
       "\n",
       "$files[[4]]\n",
       "[1] \"output/vrdtea_ArchR-t_cd4_treg_2023-10-02.tar\"\n",
       "\n",
       "$files[[5]]\n",
       "[1] \"output/vrdtea_ArchR-t_cd8_memory_2023-10-02.tar\"\n",
       "\n",
       "$files[[6]]\n",
       "[1] \"output/vrdtea_ArchR-t_cd8_naive_2023-10-02.tar\"\n",
       "\n",
       "\n",
       "$traceId\n",
       "[1] \"ba13262d-5c55-472c-9de2-7904fc3d9632\"\n"
      ]
     },
     "metadata": {},
     "output_type": "display_data"
    }
   ],
   "source": [
    "uploadFiles(\n",
    "    files = out_list,\n",
    "    studySpaceId = study_space_uuid,\n",
    "    title = title,\n",
    "    inputFileIds = file_uuids,\n",
    "    store = \"project\",\n",
    "    doPrompt = FALSE\n",
    ")"
   ]
  },
  {
   "cell_type": "code",
   "execution_count": 28,
   "id": "cf2e6707-88cc-42f6-a5ec-5698722df2c0",
   "metadata": {},
   "outputs": [
    {
     "data": {
      "text/plain": [
       "R version 4.3.1 (2023-06-16)\n",
       "Platform: x86_64-conda-linux-gnu (64-bit)\n",
       "Running under: Ubuntu 20.04.6 LTS\n",
       "\n",
       "Matrix products: default\n",
       "BLAS/LAPACK: /opt/conda/lib/libopenblasp-r0.3.23.so;  LAPACK version 3.11.0\n",
       "\n",
       "Random number generation:\n",
       " RNG:     L'Ecuyer-CMRG \n",
       " Normal:  Inversion \n",
       " Sample:  Rejection \n",
       " \n",
       "locale:\n",
       " [1] LC_CTYPE=C.UTF-8       LC_NUMERIC=C           LC_TIME=C.UTF-8       \n",
       " [4] LC_COLLATE=C.UTF-8     LC_MONETARY=C.UTF-8    LC_MESSAGES=C.UTF-8   \n",
       " [7] LC_PAPER=C.UTF-8       LC_NAME=C              LC_ADDRESS=C          \n",
       "[10] LC_TELEPHONE=C         LC_MEASUREMENT=C.UTF-8 LC_IDENTIFICATION=C   \n",
       "\n",
       "time zone: Etc/UTC\n",
       "tzcode source: system (glibc)\n",
       "\n",
       "attached base packages:\n",
       " [1] parallel  stats4    grid      stats     graphics  grDevices utils    \n",
       " [8] datasets  methods   base     \n",
       "\n",
       "other attached packages:\n",
       " [1] BSgenome.Hsapiens.UCSC.hg38_1.4.5 BSgenome_1.68.0                  \n",
       " [3] rtracklayer_1.60.1                Biostrings_2.68.1                \n",
       " [5] XVector_0.40.0                    purrr_1.0.2                      \n",
       " [7] rhdf5_2.44.0                      SummarizedExperiment_1.30.2      \n",
       " [9] Biobase_2.60.0                    MatrixGenerics_1.12.3            \n",
       "[11] Rcpp_1.0.11                       Matrix_1.6-1                     \n",
       "[13] GenomicRanges_1.52.0              GenomeInfoDb_1.36.2              \n",
       "[15] IRanges_2.34.1                    S4Vectors_0.38.1                 \n",
       "[17] BiocGenerics_0.46.0               matrixStats_1.0.0                \n",
       "[19] data.table_1.14.8                 stringr_1.5.0                    \n",
       "[21] plyr_1.8.8                        magrittr_2.0.3                   \n",
       "[23] ggplot2_3.4.3                     gtable_0.3.4                     \n",
       "[25] gtools_3.9.4                      gridExtra_2.3                    \n",
       "[27] ArchR_1.0.2                       dplyr_1.1.3                      \n",
       "[29] hise_2.16.0                      \n",
       "\n",
       "loaded via a namespace (and not attached):\n",
       " [1] rjson_0.2.21             lattice_0.21-8           rhdf5filters_1.12.1     \n",
       " [4] vctrs_0.6.3              tools_4.3.1              bitops_1.0-7            \n",
       " [7] generics_0.1.3           curl_5.0.2               tibble_3.2.1            \n",
       "[10] fansi_1.0.4              pkgconfig_2.0.3          assertthat_0.2.1        \n",
       "[13] uuid_1.1-1               lifecycle_1.0.3          GenomeInfoDbData_1.2.10 \n",
       "[16] compiler_4.3.1           Rsamtools_2.16.0         munsell_0.5.0           \n",
       "[19] repr_1.1.6.9000          codetools_0.2-19         htmltools_0.5.6         \n",
       "[22] yaml_2.3.7               RCurl_1.98-1.12          pillar_1.9.0            \n",
       "[25] crayon_1.5.2             BiocParallel_1.34.2      DelayedArray_0.26.7     \n",
       "[28] abind_1.4-5              tidyselect_1.2.0         digest_0.6.33           \n",
       "[31] stringi_1.7.12           restfulr_0.0.15          fastmap_1.1.1           \n",
       "[34] colorspace_2.1-0         cli_3.6.1                S4Arrays_1.0.6          \n",
       "[37] base64enc_0.1-3          XML_3.99-0.14            utf8_1.2.3              \n",
       "[40] IRdisplay_1.1            withr_2.5.0              scales_1.2.1            \n",
       "[43] IRkernel_1.3.2           httr_1.4.7               pbdZMQ_0.3-10           \n",
       "[46] evaluate_0.21            BiocIO_1.10.0            rlang_1.1.1             \n",
       "[49] glue_1.6.2               jsonlite_1.8.7           R6_2.5.1                \n",
       "[52] Rhdf5lib_1.22.0          GenomicAlignments_1.36.0 zlibbioc_1.46.0         "
      ]
     },
     "metadata": {},
     "output_type": "display_data"
    }
   ],
   "source": [
    "sessionInfo()"
   ]
  },
  {
   "cell_type": "code",
   "execution_count": null,
   "id": "04a64dcf-e1d8-4ab4-8add-f7eecd8fb104",
   "metadata": {},
   "outputs": [],
   "source": []
  }
 ],
 "metadata": {
  "kernelspec": {
   "display_name": "R 4",
   "language": "R",
   "name": "ir4"
  },
  "language_info": {
   "codemirror_mode": "r",
   "file_extension": ".r",
   "mimetype": "text/x-r-source",
   "name": "R",
   "pygments_lexer": "r",
   "version": "4.3.1"
  }
 },
 "nbformat": 4,
 "nbformat_minor": 5
}
