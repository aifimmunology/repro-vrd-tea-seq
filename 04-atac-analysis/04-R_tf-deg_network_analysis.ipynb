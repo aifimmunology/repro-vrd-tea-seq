{
 "cells": [
  {
   "cell_type": "code",
   "execution_count": 1,
   "id": "7c777697-506f-4ead-a234-da4fcda5780a",
   "metadata": {
    "tags": []
   },
   "outputs": [
    {
     "name": "stderr",
     "output_type": "stream",
     "text": [
      "\n",
      "                                                   / |\n",
      "                                                 /    \\\n",
      "            .                                  /      |.\n",
      "            \\\\\\                              /        |.\n",
      "              \\\\\\                          /           `|.\n",
      "                \\\\\\                      /              |.\n",
      "                  \\                    /                |\\\n",
      "                  \\\\#####\\           /                  ||\n",
      "                ==###########>      /                   ||\n",
      "                 \\\\##==......\\    /                     ||\n",
      "            ______ =       =|__ /__                     ||      \\\\\\\n",
      "        ,--' ,----`-,__ ___/'  --,-`-===================##========>\n",
      "       \\               '        ##_______ _____ ,--,__,=##,__   ///\n",
      "        ,    __==    ___,-,__,--'#'  ==='      `-'    | ##,-/\n",
      "        -,____,---'       \\\\####\\\\________________,--\\\\_##,/\n",
      "           ___      .______        ______  __    __  .______      \n",
      "          /   \\     |   _  \\      /      ||  |  |  | |   _  \\     \n",
      "         /  ^  \\    |  |_)  |    |  ,----'|  |__|  | |  |_)  |    \n",
      "        /  /_\\  \\   |      /     |  |     |   __   | |      /     \n",
      "       /  _____  \\  |  |\\  \\\\___ |  `----.|  |  |  | |  |\\  \\\\___.\n",
      "      /__/     \\__\\ | _| `._____| \\______||__|  |__| | _| `._____|\n",
      "    \n",
      "\n"
     ]
    }
   ],
   "source": [
    "quiet_library <- function(...) { suppressPackageStartupMessages(library(...)) }\n",
    "quiet_library(hise)\n",
    "quiet_library(ArchR)\n",
    "quiet_library(dplyr)\n",
    "quiet_library(purrr)\n",
    "quiet_library(ggplot2)"
   ]
  },
  {
   "cell_type": "markdown",
   "id": "980874b7-1805-4d81-bde2-49b53e847886",
   "metadata": {},
   "source": [
    "## Retrieve files\n",
    "\n",
    "Now, we'll use the HISE SDK package to retrieve the DEG results and motif annotations based on their file UUIDs. These will be placed in the `cache/` subdirectory by default."
   ]
  },
  {
   "cell_type": "code",
   "execution_count": 2,
   "id": "a25cbfde-c4b6-4c0e-8707-a281023e3b66",
   "metadata": {
    "tags": []
   },
   "outputs": [],
   "source": [
    "file_uuids <- list(\n",
    "    \"fc83b89f-fd26-43b8-ac91-29c539703a45\", # MAST DEG results\n",
    "    \"1f1d68ad-a7dc-45fb-9f4b-67ce1e49790d\", # Motif-Peak annotation matrices\n",
    "    \"a7ecb9ba-26d3-4221-8610-bfc60c6c5c4b\",\n",
    "    \"66d7a494-2e0a-449e-8bfb-eea1e7ca1a25\",\n",
    "    \"f1f82eb9-201c-403a-86cd-5d1f5fec877d\",\n",
    "    \"cae2811c-3fdc-44ab-ae44-a365fb35ccb2\",\n",
    "    \"5d53e1f1-4f10-4b35-81ee-602b4a491160\",\n",
    "    \"aa410188-cfdc-4234-ba4a-21c40a8110c7\", # Peak-to-gene correlations\n",
    "    \"ea924bd2-e3f5-40b7-9d49-20219cc6eea2\",\n",
    "    \"4cd86b32-cba5-4721-a559-66f1a4ccb1f3\",\n",
    "    \"652db815-097b-460a-b314-202e578a37eb\",\n",
    "    \"e601997d-904b-4746-aadc-b22a582c6179\",\n",
    "    \"e7bab98a-7a15-421a-8e09-574a340dd499\"\n",
    ")"
   ]
  },
  {
   "cell_type": "code",
   "execution_count": 3,
   "id": "fc55e15d-22c2-4b3a-9836-c4c6ffb18a2b",
   "metadata": {
    "tags": []
   },
   "outputs": [],
   "source": [
    "file_res <- cacheFiles(file_uuids)"
   ]
  },
  {
   "cell_type": "markdown",
   "id": "8ef92faf-25dd-4863-b09e-8d3186c471df",
   "metadata": {},
   "source": [
    "### Get peak annotations and metadata per cell type"
   ]
  },
  {
   "cell_type": "code",
   "execution_count": 4,
   "id": "f2383428-f756-41a0-8d04-becbf62a3e89",
   "metadata": {
    "tags": []
   },
   "outputs": [],
   "source": [
    "p2g_files <- list.files(\n",
    "    \"cache\",\n",
    "    pattern = \"peak-to-gene\",\n",
    "    full.names = TRUE,\n",
    "    recursive = TRUE\n",
    ")\n",
    "p2g_types <- sub(\".+-t(.+)_20.+\", \"t\\\\1\", p2g_files)"
   ]
  },
  {
   "cell_type": "code",
   "execution_count": 5,
   "id": "55039f58-2c61-4eb4-a30e-187e52601691",
   "metadata": {
    "tags": []
   },
   "outputs": [],
   "source": [
    "type_p2g <- map(\n",
    "    p2g_files,\n",
    "    read.csv\n",
    ")\n",
    "names(type_p2g) <- p2g_types"
   ]
  },
  {
   "cell_type": "code",
   "execution_count": 6,
   "id": "d4dba750-05eb-46b3-8fe2-15baae7b665c",
   "metadata": {
    "tags": []
   },
   "outputs": [],
   "source": [
    "anno_files <- list.files(\n",
    "    \"cache\",\n",
    "    pattern = \"peak-motif-matches\",\n",
    "    full.names = TRUE,\n",
    "    recursive = TRUE\n",
    ")\n",
    "anno_types <- sub(\".+-t(.+)_20.+\", \"t\\\\1\", anno_files)"
   ]
  },
  {
   "cell_type": "code",
   "execution_count": 7,
   "id": "2824f250-5ea4-46f5-9d17-c76ab68eefb4",
   "metadata": {
    "tags": []
   },
   "outputs": [],
   "source": [
    "type_peak_anno <- map(\n",
    "    anno_files,\n",
    "    readRDS\n",
    ")\n",
    "names(type_peak_anno) <- anno_types"
   ]
  },
  {
   "cell_type": "markdown",
   "id": "a9450499-0d55-44fa-a688-1cad166e689e",
   "metadata": {},
   "source": [
    "### Generate gene lists for each motif"
   ]
  },
  {
   "cell_type": "markdown",
   "id": "688062bc-9f6e-40d7-bfa8-3c277f56c937",
   "metadata": {},
   "source": [
    "We'll filter based on peak2gene correlation scores"
   ]
  },
  {
   "cell_type": "code",
   "execution_count": 9,
   "id": "eb99d8f5-ee54-4a2f-80d4-bda55f397de0",
   "metadata": {
    "tags": []
   },
   "outputs": [],
   "source": [
    "cor_cutoff <- 0.3"
   ]
  },
  {
   "cell_type": "code",
   "execution_count": 10,
   "id": "fa810f6b-df30-44ba-b79d-f6b79363670b",
   "metadata": {
    "tags": []
   },
   "outputs": [],
   "source": [
    "motif_gene_sets <- map2(\n",
    "    type_peak_anno,\n",
    "    type_p2g,\n",
    "    function(peak_anno, p2g) {\n",
    "        res <- map(colnames(peak_anno),\n",
    "            function(motif) {\n",
    "                tf_peak_idx <- which(peak_anno[,motif])\n",
    "                \n",
    "                target_p2g <- p2g %>%\n",
    "                  filter(abs(Correlation) > cor_cutoff) %>%\n",
    "                  filter(idxATAC %in% tf_peak_idx)\n",
    "                \n",
    "                unique(target_p2g$gene)\n",
    "        })\n",
    "        names(res) <- colnames(peak_anno)\n",
    "        res\n",
    "    }\n",
    ")"
   ]
  },
  {
   "cell_type": "code",
   "execution_count": 11,
   "id": "a8700bdd-7491-4741-b63c-273ccc8bcd60",
   "metadata": {
    "tags": []
   },
   "outputs": [],
   "source": [
    "n_motif_genes_list <- map(motif_gene_sets, map_int, length)"
   ]
  },
  {
   "cell_type": "markdown",
   "id": "a76a1489-20b5-4eef-963c-f8fdf1169311",
   "metadata": {},
   "source": [
    "### Get DEG per condition"
   ]
  },
  {
   "cell_type": "code",
   "execution_count": 12,
   "id": "ba50cb52-0846-4405-9a26-b0ee98b076ee",
   "metadata": {
    "tags": []
   },
   "outputs": [],
   "source": [
    "all_deg <- read.csv(\"cache/fc83b89f-fd26-43b8-ac91-29c539703a45/all_mast_deg_2023-09-06.csv\")"
   ]
  },
  {
   "cell_type": "code",
   "execution_count": 13,
   "id": "d4960d04-e5a8-435d-9e0a-ac4e4611074e",
   "metadata": {
    "tags": []
   },
   "outputs": [],
   "source": [
    "all_deg$test_group <- paste0(all_deg$fg, \"_\", all_deg$timepoint, \"_\", all_deg$aifi_cell_type)"
   ]
  },
  {
   "cell_type": "code",
   "execution_count": 14,
   "id": "b790bbcc-a544-4ca7-a06d-fe2bd41ec321",
   "metadata": {
    "tags": []
   },
   "outputs": [],
   "source": [
    "split_deg <- split(all_deg, all_deg$test_group)"
   ]
  },
  {
   "cell_type": "code",
   "execution_count": 15,
   "id": "d4f13977-2350-41b9-819d-86b7450ee00d",
   "metadata": {
    "tags": []
   },
   "outputs": [],
   "source": [
    "deg <- split_deg[[\"dexamethasone_4_t_cd4_naive\"]]\n",
    "deg <- deg %>%\n",
    "  filter(!is.na(logFC)) %>%\n",
    "  mutate(weight = abs(logFC))"
   ]
  },
  {
   "cell_type": "code",
   "execution_count": 16,
   "id": "3afa9908-b98c-42c4-8537-3dfe79f45486",
   "metadata": {
    "tags": []
   },
   "outputs": [
    {
     "data": {
      "text/html": [
       "<table class=\"dataframe\">\n",
       "<caption>A data.frame: 1 × 13</caption>\n",
       "<thead>\n",
       "\t<tr><th scope=col>aifi_cell_type</th><th scope=col>timepoint</th><th scope=col>fg</th><th scope=col>bg</th><th scope=col>n_sample</th><th scope=col>gene</th><th scope=col>coef_C</th><th scope=col>coef_D</th><th scope=col>logFC</th><th scope=col>nomP</th><th scope=col>adjP</th><th scope=col>test_group</th><th scope=col>weight</th></tr>\n",
       "\t<tr><th scope=col>&lt;chr&gt;</th><th scope=col>&lt;int&gt;</th><th scope=col>&lt;chr&gt;</th><th scope=col>&lt;chr&gt;</th><th scope=col>&lt;int&gt;</th><th scope=col>&lt;chr&gt;</th><th scope=col>&lt;dbl&gt;</th><th scope=col>&lt;dbl&gt;</th><th scope=col>&lt;dbl&gt;</th><th scope=col>&lt;dbl&gt;</th><th scope=col>&lt;dbl&gt;</th><th scope=col>&lt;chr&gt;</th><th scope=col>&lt;dbl&gt;</th></tr>\n",
       "</thead>\n",
       "<tbody>\n",
       "\t<tr><td>t_cd4_naive</td><td>4</td><td>dexamethasone</td><td>dmso</td><td>1739</td><td>IKZF1</td><td>0.07850894</td><td>0.3771654</td><td>0.1317326</td><td>1.557141e-05</td><td>0.0002793878</td><td>dexamethasone_4_t_cd4_naive</td><td>0.1317326</td></tr>\n",
       "</tbody>\n",
       "</table>\n"
      ],
      "text/latex": [
       "A data.frame: 1 × 13\n",
       "\\begin{tabular}{lllllllllllll}\n",
       " aifi\\_cell\\_type & timepoint & fg & bg & n\\_sample & gene & coef\\_C & coef\\_D & logFC & nomP & adjP & test\\_group & weight\\\\\n",
       " <chr> & <int> & <chr> & <chr> & <int> & <chr> & <dbl> & <dbl> & <dbl> & <dbl> & <dbl> & <chr> & <dbl>\\\\\n",
       "\\hline\n",
       "\t t\\_cd4\\_naive & 4 & dexamethasone & dmso & 1739 & IKZF1 & 0.07850894 & 0.3771654 & 0.1317326 & 1.557141e-05 & 0.0002793878 & dexamethasone\\_4\\_t\\_cd4\\_naive & 0.1317326\\\\\n",
       "\\end{tabular}\n"
      ],
      "text/markdown": [
       "\n",
       "A data.frame: 1 × 13\n",
       "\n",
       "| aifi_cell_type &lt;chr&gt; | timepoint &lt;int&gt; | fg &lt;chr&gt; | bg &lt;chr&gt; | n_sample &lt;int&gt; | gene &lt;chr&gt; | coef_C &lt;dbl&gt; | coef_D &lt;dbl&gt; | logFC &lt;dbl&gt; | nomP &lt;dbl&gt; | adjP &lt;dbl&gt; | test_group &lt;chr&gt; | weight &lt;dbl&gt; |\n",
       "|---|---|---|---|---|---|---|---|---|---|---|---|---|\n",
       "| t_cd4_naive | 4 | dexamethasone | dmso | 1739 | IKZF1 | 0.07850894 | 0.3771654 | 0.1317326 | 1.557141e-05 | 0.0002793878 | dexamethasone_4_t_cd4_naive | 0.1317326 |\n",
       "\n"
      ],
      "text/plain": [
       "  aifi_cell_type timepoint fg            bg   n_sample gene  coef_C    \n",
       "1 t_cd4_naive    4         dexamethasone dmso 1739     IKZF1 0.07850894\n",
       "  coef_D    logFC     nomP         adjP         test_group                 \n",
       "1 0.3771654 0.1317326 1.557141e-05 0.0002793878 dexamethasone_4_t_cd4_naive\n",
       "  weight   \n",
       "1 0.1317326"
      ]
     },
     "metadata": {},
     "output_type": "display_data"
    }
   ],
   "source": [
    "deg %>%\n",
    "  filter(gene == \"IKZF1\")"
   ]
  },
  {
   "cell_type": "code",
   "execution_count": 17,
   "id": "3109623a-cdc0-44a9-88dc-cca0a41cb08b",
   "metadata": {
    "tags": []
   },
   "outputs": [],
   "source": [
    "anno <- type_peak_anno[[\"t_cd4_naive\"]]\n",
    "p2g <- type_p2g[[\"t_cd4_naive\"]]"
   ]
  },
  {
   "cell_type": "code",
   "execution_count": 18,
   "id": "ef8981df-2970-479a-9ed6-18d5638fc08a",
   "metadata": {
    "tags": []
   },
   "outputs": [],
   "source": [
    "all_genes <- intersect(deg$gene, p2g$gene)"
   ]
  },
  {
   "cell_type": "code",
   "execution_count": 19,
   "id": "c4ed3bbc-a134-4d7b-a281-875364b84fe5",
   "metadata": {
    "tags": []
   },
   "outputs": [],
   "source": [
    "all_tf_ids <- colnames(anno)\n",
    "all_tf_genes <- sub(\"_.+\",\"\",all_tf_ids)\n",
    "expressed_tf_genes <- all_tf_genes[all_tf_genes %in% all_genes]\n",
    "expressed_tf_ids <- all_tf_ids[all_tf_genes %in% all_genes]"
   ]
  },
  {
   "cell_type": "code",
   "execution_count": 20,
   "id": "01885690-e1b4-4fd1-a925-165843b9008b",
   "metadata": {
    "tags": []
   },
   "outputs": [],
   "source": [
    "expressed_tf_anno <- anno[,expressed_tf_ids]"
   ]
  },
  {
   "cell_type": "code",
   "execution_count": 21,
   "id": "e107cd5f-a650-4cc1-8dc1-66c39bed0562",
   "metadata": {
    "tags": []
   },
   "outputs": [],
   "source": [
    "link_df <- map_dfr(\n",
    "    colnames(expressed_tf_anno),\n",
    "    function(tf_id) {\n",
    "        idx <- which(expressed_tf_anno[,tf_id])\n",
    "        p2g_weights <- p2g %>%\n",
    "          filter(idxATAC %in% idx) %>%\n",
    "          group_by(gene) %>%\n",
    "          summarise(max_cor = max(abs(Correlation)),\n",
    "                    sum_cor = sum(abs(Correlation))) %>%\n",
    "          mutate(weight = max_cor)\n",
    "        genes <- p2g_weights$gene\n",
    "        genes <- genes[genes %in% all_genes]\n",
    "        data.frame(\n",
    "            from = sub(\"_.+\",\"\",tf_id),\n",
    "            to = genes,\n",
    "            weight = abs(p2g_weights$weight[match(genes, p2g_weights$gene)])\n",
    "        )\n",
    "    }\n",
    ")"
   ]
  },
  {
   "cell_type": "code",
   "execution_count": 22,
   "id": "3e8194a2-08ec-47a8-aabe-6c109c6c06a8",
   "metadata": {
    "tags": []
   },
   "outputs": [],
   "source": [
    "link_df <- link_df %>%\n",
    "  mutate(weight = scale(weight))"
   ]
  },
  {
   "cell_type": "code",
   "execution_count": 23,
   "id": "a98720ff-7286-4651-8e57-8e899336e8a1",
   "metadata": {
    "tags": []
   },
   "outputs": [
    {
     "data": {
      "text/html": [
       "<table class=\"dataframe\">\n",
       "<caption>A data.frame: 6 × 3</caption>\n",
       "<thead>\n",
       "\t<tr><th></th><th scope=col>from</th><th scope=col>to</th><th scope=col>weight</th></tr>\n",
       "\t<tr><th></th><th scope=col>&lt;chr&gt;</th><th scope=col>&lt;chr&gt;</th><th scope=col>&lt;dbl[,1]&gt;</th></tr>\n",
       "</thead>\n",
       "<tbody>\n",
       "\t<tr><th scope=row>1</th><td>ARID5B</td><td>AAK1  </td><td>-1.0283430</td></tr>\n",
       "\t<tr><th scope=row>2</th><td>ARID5B</td><td>ABCA1 </td><td> 2.6476449</td></tr>\n",
       "\t<tr><th scope=row>3</th><td>ARID5B</td><td>ABCA7 </td><td> 0.7534332</td></tr>\n",
       "\t<tr><th scope=row>4</th><td>ARID5B</td><td>ABCB8 </td><td>-0.8212072</td></tr>\n",
       "\t<tr><th scope=row>5</th><td>ARID5B</td><td>ABCC10</td><td>-0.6602297</td></tr>\n",
       "\t<tr><th scope=row>6</th><td>ARID5B</td><td>ABCD2 </td><td> 0.7298766</td></tr>\n",
       "</tbody>\n",
       "</table>\n"
      ],
      "text/latex": [
       "A data.frame: 6 × 3\n",
       "\\begin{tabular}{r|lll}\n",
       "  & from & to & weight\\\\\n",
       "  & <chr> & <chr> & <dbl{[},1{]}>\\\\\n",
       "\\hline\n",
       "\t1 & ARID5B & AAK1   & -1.0283430\\\\\n",
       "\t2 & ARID5B & ABCA1  &  2.6476449\\\\\n",
       "\t3 & ARID5B & ABCA7  &  0.7534332\\\\\n",
       "\t4 & ARID5B & ABCB8  & -0.8212072\\\\\n",
       "\t5 & ARID5B & ABCC10 & -0.6602297\\\\\n",
       "\t6 & ARID5B & ABCD2  &  0.7298766\\\\\n",
       "\\end{tabular}\n"
      ],
      "text/markdown": [
       "\n",
       "A data.frame: 6 × 3\n",
       "\n",
       "| <!--/--> | from &lt;chr&gt; | to &lt;chr&gt; | weight &lt;dbl[,1]&gt; |\n",
       "|---|---|---|---|\n",
       "| 1 | ARID5B | AAK1   | -1.0283430 |\n",
       "| 2 | ARID5B | ABCA1  |  2.6476449 |\n",
       "| 3 | ARID5B | ABCA7  |  0.7534332 |\n",
       "| 4 | ARID5B | ABCB8  | -0.8212072 |\n",
       "| 5 | ARID5B | ABCC10 | -0.6602297 |\n",
       "| 6 | ARID5B | ABCD2  |  0.7298766 |\n",
       "\n"
      ],
      "text/plain": [
       "  from   to     weight    \n",
       "1 ARID5B AAK1   -1.0283430\n",
       "2 ARID5B ABCA1   2.6476449\n",
       "3 ARID5B ABCA7   0.7534332\n",
       "4 ARID5B ABCB8  -0.8212072\n",
       "5 ARID5B ABCC10 -0.6602297\n",
       "6 ARID5B ABCD2   0.7298766"
      ]
     },
     "metadata": {},
     "output_type": "display_data"
    }
   ],
   "source": [
    "head(link_df)"
   ]
  },
  {
   "cell_type": "markdown",
   "id": "46276ef8-2a76-4ffa-927f-3458a6d4ce5a",
   "metadata": {},
   "source": [
    "remove self-references"
   ]
  },
  {
   "cell_type": "code",
   "execution_count": 24,
   "id": "2c094ee7-7058-4e83-9024-afa8d7bdbee4",
   "metadata": {
    "tags": []
   },
   "outputs": [],
   "source": [
    "link_df <- link_df %>%\n",
    "  filter(from != to)"
   ]
  },
  {
   "cell_type": "code",
   "execution_count": 25,
   "id": "b07b9b7d-0471-4966-9cf6-ef7586fc278e",
   "metadata": {
    "tags": []
   },
   "outputs": [],
   "source": [
    "suppressPackageStartupMessages(library(igraph))"
   ]
  },
  {
   "cell_type": "code",
   "execution_count": 26,
   "id": "7c806fc0-0320-40f4-a70a-3cdcd4484c49",
   "metadata": {
    "tags": []
   },
   "outputs": [],
   "source": [
    "g <- graph_from_data_frame(\n",
    "    link_df\n",
    ")"
   ]
  },
  {
   "cell_type": "code",
   "execution_count": 27,
   "id": "6fc9458e-77a8-4869-b363-aed04d9c6ee2",
   "metadata": {
    "tags": []
   },
   "outputs": [
    {
     "data": {
      "text/plain": [
       "IGRAPH 1b7cab9 DNW- 6569 600143 -- \n",
       "+ attr: name (v/c), weight (e/n)\n",
       "+ edges from 1b7cab9 (vertex names):\n",
       " [1] ARID5B->AAK1    ARID5B->ABCA1   ARID5B->ABCA7   ARID5B->ABCB8  \n",
       " [5] ARID5B->ABCC10  ARID5B->ABCD2   ARID5B->ABHD10  ARID5B->ABHD13 \n",
       " [9] ARID5B->ABHD16A ARID5B->ABHD17A ARID5B->ABHD17B ARID5B->ABHD2  \n",
       "[13] ARID5B->ABLIM2  ARID5B->ABRACL  ARID5B->ACAA1   ARID5B->ACAD9  \n",
       "[17] ARID5B->ACADM   ARID5B->ACAP1   ARID5B->ACAP3   ARID5B->ACIN1  \n",
       "[21] ARID5B->ACOT13  ARID5B->ACOX1   ARID5B->ACSL5   ARID5B->ACTA2  \n",
       "[25] ARID5B->ACTB    ARID5B->ACTG1   ARID5B->ACTN1   ARID5B->ACTN4  \n",
       "[29] ARID5B->ACTR1A  ARID5B->ACVR1   ARID5B->ACVR1C  ARID5B->ADAM10 \n",
       "+ ... omitted several edges"
      ]
     },
     "metadata": {},
     "output_type": "display_data"
    }
   ],
   "source": [
    "g"
   ]
  },
  {
   "cell_type": "code",
   "execution_count": 28,
   "id": "67666613-59c5-4b83-9f7e-ca77afe87200",
   "metadata": {
    "tags": []
   },
   "outputs": [],
   "source": [
    "pr <- page_rank(g, vids = unique(link_df$from))"
   ]
  },
  {
   "cell_type": "code",
   "execution_count": 29,
   "id": "a2041d47-3379-4b7a-a5d1-0093a7a46fc1",
   "metadata": {
    "tags": []
   },
   "outputs": [],
   "source": [
    "pr <- pr$vector[order(pr$vector, decreasing = TRUE)]"
   ]
  },
  {
   "cell_type": "code",
   "execution_count": 30,
   "id": "bc83955e-9624-4be6-87b5-4488fb2a4adc",
   "metadata": {
    "tags": []
   },
   "outputs": [
    {
     "data": {
      "text/html": [
       "<style>\n",
       ".dl-inline {width: auto; margin:0; padding: 0}\n",
       ".dl-inline>dt, .dl-inline>dd {float: none; width: auto; display: inline-block}\n",
       ".dl-inline>dt::after {content: \":\\0020\"; padding-right: .5ex}\n",
       ".dl-inline>dt:not(:first-of-type) {padding-left: .5ex}\n",
       "</style><dl class=dl-inline><dt>ETS1</dt><dd>0.000215854553709126</dd><dt>JUND</dt><dd>0.000202327775954216</dd><dt>JUNB</dt><dd>0.000196925225611133</dd><dt>FOS</dt><dd>0.000194984893671836</dd><dt>IRF1</dt><dd>0.000190818317021198</dd><dt>KLF6</dt><dd>0.000189996576454598</dd></dl>\n"
      ],
      "text/latex": [
       "\\begin{description*}\n",
       "\\item[ETS1] 0.000215854553709126\n",
       "\\item[JUND] 0.000202327775954216\n",
       "\\item[JUNB] 0.000196925225611133\n",
       "\\item[FOS] 0.000194984893671836\n",
       "\\item[IRF1] 0.000190818317021198\n",
       "\\item[KLF6] 0.000189996576454598\n",
       "\\end{description*}\n"
      ],
      "text/markdown": [
       "ETS1\n",
       ":   0.000215854553709126JUND\n",
       ":   0.000202327775954216JUNB\n",
       ":   0.000196925225611133FOS\n",
       ":   0.000194984893671836IRF1\n",
       ":   0.000190818317021198KLF6\n",
       ":   0.000189996576454598\n",
       "\n"
      ],
      "text/plain": [
       "        ETS1         JUND         JUNB          FOS         IRF1         KLF6 \n",
       "0.0002158546 0.0002023278 0.0001969252 0.0001949849 0.0001908183 0.0001899966 "
      ]
     },
     "metadata": {},
     "output_type": "display_data"
    }
   ],
   "source": [
    "head(pr)"
   ]
  },
  {
   "cell_type": "code",
   "execution_count": 31,
   "id": "6c403be2-4a1b-4b58-a443-08197c3033dd",
   "metadata": {
    "tags": []
   },
   "outputs": [
    {
     "data": {
      "text/html": [
       "<style>\n",
       ".list-inline {list-style: none; margin:0; padding: 0}\n",
       ".list-inline>li {display: inline-block}\n",
       ".list-inline>li:not(:last-child)::after {content: \"\\00b7\"; padding: 0 .5ex}\n",
       "</style>\n",
       "<ol class=list-inline><li>'ETS1'</li><li>'JUND'</li><li>'JUNB'</li><li>'FOS'</li><li>'IRF1'</li><li>'KLF6'</li><li>'STAT1'</li><li>'TCF7'</li><li>'MYB'</li><li>'HIF1A'</li><li>'BHLHE40'</li><li>'KLF7'</li><li>'ARID5B'</li><li>'IRF4'</li><li>'ELK3'</li><li>'STAT2'</li><li>'AHR'</li><li>'ARNT'</li><li>'NFAT5'</li><li>'RUNX1'</li></ol>\n"
      ],
      "text/latex": [
       "\\begin{enumerate*}\n",
       "\\item 'ETS1'\n",
       "\\item 'JUND'\n",
       "\\item 'JUNB'\n",
       "\\item 'FOS'\n",
       "\\item 'IRF1'\n",
       "\\item 'KLF6'\n",
       "\\item 'STAT1'\n",
       "\\item 'TCF7'\n",
       "\\item 'MYB'\n",
       "\\item 'HIF1A'\n",
       "\\item 'BHLHE40'\n",
       "\\item 'KLF7'\n",
       "\\item 'ARID5B'\n",
       "\\item 'IRF4'\n",
       "\\item 'ELK3'\n",
       "\\item 'STAT2'\n",
       "\\item 'AHR'\n",
       "\\item 'ARNT'\n",
       "\\item 'NFAT5'\n",
       "\\item 'RUNX1'\n",
       "\\end{enumerate*}\n"
      ],
      "text/markdown": [
       "1. 'ETS1'\n",
       "2. 'JUND'\n",
       "3. 'JUNB'\n",
       "4. 'FOS'\n",
       "5. 'IRF1'\n",
       "6. 'KLF6'\n",
       "7. 'STAT1'\n",
       "8. 'TCF7'\n",
       "9. 'MYB'\n",
       "10. 'HIF1A'\n",
       "11. 'BHLHE40'\n",
       "12. 'KLF7'\n",
       "13. 'ARID5B'\n",
       "14. 'IRF4'\n",
       "15. 'ELK3'\n",
       "16. 'STAT2'\n",
       "17. 'AHR'\n",
       "18. 'ARNT'\n",
       "19. 'NFAT5'\n",
       "20. 'RUNX1'\n",
       "\n",
       "\n"
      ],
      "text/plain": [
       " [1] \"ETS1\"    \"JUND\"    \"JUNB\"    \"FOS\"     \"IRF1\"    \"KLF6\"    \"STAT1\"  \n",
       " [8] \"TCF7\"    \"MYB\"     \"HIF1A\"   \"BHLHE40\" \"KLF7\"    \"ARID5B\"  \"IRF4\"   \n",
       "[15] \"ELK3\"    \"STAT2\"   \"AHR\"     \"ARNT\"    \"NFAT5\"   \"RUNX1\"  "
      ]
     },
     "metadata": {},
     "output_type": "display_data"
    }
   ],
   "source": [
    "names(pr)[1:20]"
   ]
  },
  {
   "cell_type": "code",
   "execution_count": 32,
   "id": "8ef28369-2c20-481a-877b-9cd2a2c556dd",
   "metadata": {
    "tags": []
   },
   "outputs": [
    {
     "data": {
      "text/html": [
       "81"
      ],
      "text/latex": [
       "81"
      ],
      "text/markdown": [
       "81"
      ],
      "text/plain": [
       "[1] 81"
      ]
     },
     "metadata": {},
     "output_type": "display_data"
    }
   ],
   "source": [
    "which(names(pr) == \"NR3C2\")"
   ]
  },
  {
   "cell_type": "code",
   "execution_count": 33,
   "id": "18aaeb82-5366-4a5d-9f80-cbcada983092",
   "metadata": {
    "tags": []
   },
   "outputs": [
    {
     "data": {
      "text/html": [
       "33"
      ],
      "text/latex": [
       "33"
      ],
      "text/markdown": [
       "33"
      ],
      "text/plain": [
       "[1] 33"
      ]
     },
     "metadata": {},
     "output_type": "display_data"
    }
   ],
   "source": [
    "which(names(pr) == \"IKZF1\")"
   ]
  },
  {
   "cell_type": "code",
   "execution_count": 35,
   "id": "3cf95540-7a77-454b-b1dd-b96d3946ad56",
   "metadata": {
    "tags": []
   },
   "outputs": [
    {
     "data": {
      "text/html": [
       "150"
      ],
      "text/latex": [
       "150"
      ],
      "text/markdown": [
       "150"
      ],
      "text/plain": [
       "[1] 150"
      ]
     },
     "metadata": {},
     "output_type": "display_data"
    }
   ],
   "source": [
    "which(names(pr) == \"CTCF\")"
   ]
  },
  {
   "cell_type": "code",
   "execution_count": 34,
   "id": "02244d42-9431-4b5e-b401-cc5c0d004f15",
   "metadata": {
    "tags": []
   },
   "outputs": [
    {
     "data": {
      "text/plain": [
       "R version 4.3.1 (2023-06-16)\n",
       "Platform: x86_64-conda-linux-gnu (64-bit)\n",
       "Running under: Ubuntu 20.04.6 LTS\n",
       "\n",
       "Matrix products: default\n",
       "BLAS/LAPACK: /opt/conda/lib/libopenblasp-r0.3.24.so;  LAPACK version 3.11.0\n",
       "\n",
       "locale:\n",
       " [1] LC_CTYPE=C.UTF-8       LC_NUMERIC=C           LC_TIME=C.UTF-8       \n",
       " [4] LC_COLLATE=C.UTF-8     LC_MONETARY=C.UTF-8    LC_MESSAGES=C.UTF-8   \n",
       " [7] LC_PAPER=C.UTF-8       LC_NAME=C              LC_ADDRESS=C          \n",
       "[10] LC_TELEPHONE=C         LC_MEASUREMENT=C.UTF-8 LC_IDENTIFICATION=C   \n",
       "\n",
       "time zone: Etc/UTC\n",
       "tzcode source: system (glibc)\n",
       "\n",
       "attached base packages:\n",
       "[1] stats4    grid      stats     graphics  grDevices utils     datasets \n",
       "[8] methods   base     \n",
       "\n",
       "other attached packages:\n",
       " [1] igraph_1.5.1                purrr_1.0.2                \n",
       " [3] dplyr_1.1.3                 rhdf5_2.44.0               \n",
       " [5] SummarizedExperiment_1.30.2 Biobase_2.60.0             \n",
       " [7] MatrixGenerics_1.12.3       Rcpp_1.0.11                \n",
       " [9] Matrix_1.6-1.1              GenomicRanges_1.52.0       \n",
       "[11] GenomeInfoDb_1.36.3         IRanges_2.34.1             \n",
       "[13] S4Vectors_0.38.1            BiocGenerics_0.46.0        \n",
       "[15] matrixStats_1.0.0           data.table_1.14.8          \n",
       "[17] stringr_1.5.0               plyr_1.8.8                 \n",
       "[19] magrittr_2.0.3              ggplot2_3.4.3              \n",
       "[21] gtable_0.3.4                gtools_3.9.4               \n",
       "[23] gridExtra_2.3               ArchR_1.0.2                \n",
       "[25] hise_2.16.0                \n",
       "\n",
       "loaded via a namespace (and not attached):\n",
       " [1] utf8_1.2.3              generics_0.1.3          bitops_1.0-7           \n",
       " [4] stringi_1.7.12          lattice_0.21-8          digest_0.6.33          \n",
       " [7] evaluate_0.21           pbdZMQ_0.3-10           fastmap_1.1.1          \n",
       "[10] jsonlite_1.8.7          httr_1.4.7              fansi_1.0.4            \n",
       "[13] scales_1.2.1            abind_1.4-5             cli_3.6.1              \n",
       "[16] rlang_1.1.1             crayon_1.5.2            XVector_0.40.0         \n",
       "[19] munsell_0.5.0           DelayedArray_0.26.7     base64enc_0.1-3        \n",
       "[22] withr_2.5.1             repr_1.1.6.9000         S4Arrays_1.0.6         \n",
       "[25] tools_4.3.1             uuid_1.1-1              Rhdf5lib_1.22.1        \n",
       "[28] colorspace_2.1-0        GenomeInfoDbData_1.2.10 curl_5.0.2             \n",
       "[31] assertthat_0.2.1        IRdisplay_1.1           vctrs_0.6.3            \n",
       "[34] R6_2.5.1                lifecycle_1.0.3         zlibbioc_1.46.0        \n",
       "[37] pkgconfig_2.0.3         pillar_1.9.0            glue_1.6.2             \n",
       "[40] tibble_3.2.1            tidyselect_1.2.0        rhdf5filters_1.12.1    \n",
       "[43] IRkernel_1.3.2          htmltools_0.5.6         compiler_4.3.1         \n",
       "[46] RCurl_1.98-1.12        "
      ]
     },
     "metadata": {},
     "output_type": "display_data"
    }
   ],
   "source": [
    "sessionInfo()"
   ]
  }
 ],
 "metadata": {
  "kernelspec": {
   "display_name": "R 4",
   "language": "R",
   "name": "ir4"
  },
  "language_info": {
   "codemirror_mode": "r",
   "file_extension": ".r",
   "mimetype": "text/x-r-source",
   "name": "R",
   "pygments_lexer": "r",
   "version": "4.3.1"
  }
 },
 "nbformat": 4,
 "nbformat_minor": 5
}
