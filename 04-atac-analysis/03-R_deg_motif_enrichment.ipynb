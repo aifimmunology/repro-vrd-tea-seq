{
 "cells": [
  {
   "cell_type": "markdown",
   "id": "cf5826e6-6ff0-441f-a375-393f108fb7d2",
   "metadata": {
    "tags": []
   },
   "source": [
    "# Enrichment of TF motifs near DEGs\n",
    "\n",
    "### Concept\n",
    "\n",
    "This notebook is centered around a simple approach to testing for enrichment of motifs near differentially expressed genes.\n",
    "\n",
    "Here, we take a gene-centric question: how many DEGs have a given motif associated with them based on ArchR's nearestGene annotation for peaks?\n",
    "\n",
    "DEG -> nearestGene peak -> Cisbp annotation\n",
    "\n",
    "We'll ignore whether the peak is differentially accessible or correlated with gene expression.\n",
    "\n",
    "\n",
    "### Test variables\n",
    "To test for enrichment, we'll use hypergeometric tests:\n",
    "\n",
    "The intersection of all nearestGene values and all tested genes in DEG results as the set of possible genes. (n_all_genes)\n",
    "\n",
    "The number of possible successes is the number of genes with a nearestGene annotation for a given motif. (n_motif_genes)\n",
    "\n",
    "The number of draws is the number of DEGs. (n_deg)\n",
    "\n",
    "The number of successes is the number of DEGs with a nearestGene annotation for a given motif. (n_ol)\n",
    "\n",
    "For use with R's `phyper`, the variables will be as follows:  \n",
    "```\n",
    "phyper(\n",
    "    q = n_ol - 1,                    # successes\n",
    "    m = n_motif_genes,               # number of possible successes\n",
    "    n = n_all_genes - n_motif_genes, # number of non-successes\n",
    "    k = n_deg,                       # number of draws\n",
    "    lower.tail = FALSE\n",
    ")\n",
    "```"
   ]
  },
  {
   "cell_type": "markdown",
   "id": "0eafb902-0012-4465-b039-d8595f82e038",
   "metadata": {},
   "source": [
    "### FDR cutoff for DEGs"
   ]
  },
  {
   "cell_type": "code",
   "execution_count": 1,
   "id": "5a90b1d3-c44e-469c-a9f2-9aab242320bc",
   "metadata": {
    "tags": []
   },
   "outputs": [],
   "source": [
    "fdr_cutoff <- 0.01"
   ]
  },
  {
   "cell_type": "code",
   "execution_count": 2,
   "id": "9c305852-e397-4efb-aae0-a4addb755b0a",
   "metadata": {
    "tags": []
   },
   "outputs": [
    {
     "name": "stderr",
     "output_type": "stream",
     "text": [
      "\n",
      "                                                   / |\n",
      "                                                 /    \\\n",
      "            .                                  /      |.\n",
      "            \\\\\\                              /        |.\n",
      "              \\\\\\                          /           `|.\n",
      "                \\\\\\                      /              |.\n",
      "                  \\                    /                |\\\n",
      "                  \\\\#####\\           /                  ||\n",
      "                ==###########>      /                   ||\n",
      "                 \\\\##==......\\    /                     ||\n",
      "            ______ =       =|__ /__                     ||      \\\\\\\n",
      "        ,--' ,----`-,__ ___/'  --,-`-===================##========>\n",
      "       \\               '        ##_______ _____ ,--,__,=##,__   ///\n",
      "        ,    __==    ___,-,__,--'#'  ==='      `-'    | ##,-/\n",
      "        -,____,---'       \\\\####\\\\________________,--\\\\_##,/\n",
      "           ___      .______        ______  __    __  .______      \n",
      "          /   \\     |   _  \\      /      ||  |  |  | |   _  \\     \n",
      "         /  ^  \\    |  |_)  |    |  ,----'|  |__|  | |  |_)  |    \n",
      "        /  /_\\  \\   |      /     |  |     |   __   | |      /     \n",
      "       /  _____  \\  |  |\\  \\\\___ |  `----.|  |  |  | |  |\\  \\\\___.\n",
      "      /__/     \\__\\ | _| `._____| \\______||__|  |__| | _| `._____|\n",
      "    \n",
      "\n"
     ]
    }
   ],
   "source": [
    "quiet_library <- function(...) { suppressPackageStartupMessages(library(...)) }\n",
    "quiet_library(hise)\n",
    "quiet_library(ArchR)\n",
    "quiet_library(dplyr)\n",
    "quiet_library(purrr)\n",
    "quiet_library(ggplot2)"
   ]
  },
  {
   "cell_type": "markdown",
   "id": "78014c7d-467c-4c44-a66c-e31b649275dc",
   "metadata": {},
   "source": [
    "## Retrieve files\n",
    "\n",
    "Now, we'll use the HISE SDK package to retrieve the DEG results and motif annotations based on their file UUIDs. These will be placed in the `cache/` subdirectory by default."
   ]
  },
  {
   "cell_type": "code",
   "execution_count": 3,
   "id": "081187b1-fde1-46cf-8114-816babfb7afb",
   "metadata": {},
   "outputs": [],
   "source": [
    "deg_uuid <- list(\"fc83b89f-fd26-43b8-ac91-29c539703a45\")"
   ]
  },
  {
   "cell_type": "code",
   "execution_count": 4,
   "id": "42999ea9-1b0b-4d64-acc4-79b9402e6492",
   "metadata": {
    "scrolled": true,
    "tags": []
   },
   "outputs": [
    {
     "name": "stderr",
     "output_type": "stream",
     "text": [
      "submitting request as query ID first...\n",
      "\n",
      "retrieving files using fileIDS...\n",
      "\n"
     ]
    },
    {
     "name": "stdout",
     "output_type": "stream",
     "text": [
      "[1] \"Initiating file download for all_mast_deg_2023-09-06.csv\"\n",
      "[1] \"Download successful.\"\n"
     ]
    }
   ],
   "source": [
    "deg_res <- cacheFiles(deg_uuid)\n",
    "deg_file <- list.files(\n",
    "    paste0(\"cache/\",deg_uuid),\n",
    "    recursive = TRUE, full.names = TRUE\n",
    ")"
   ]
  },
  {
   "cell_type": "code",
   "execution_count": 5,
   "id": "23096054-adce-4572-ab95-f25ca936a4c5",
   "metadata": {},
   "outputs": [],
   "source": [
    "peak_uuids <- list(\n",
    "    \"44367c6e-74f5-489e-ae42-7c9320fa9d1a\",\n",
    "    \"08e92bce-208e-463a-8297-76d2d5e2e404\",\n",
    "    \"b5f0fe70-ef2b-4bba-9bd5-942f11220dd2\",\n",
    "    \"9eb067cc-0f7b-40c3-ac87-55b4ecc98119\",\n",
    "    \"a6c975fb-04d7-4a7b-89a8-b3486745db94\",\n",
    "    \"248ef256-14ea-4a7a-b3f4-af414966ff86\"\n",
    ")"
   ]
  },
  {
   "cell_type": "code",
   "execution_count": 6,
   "id": "d255694c-28a1-4ccf-b27d-07ad5b2d65a7",
   "metadata": {
    "scrolled": true,
    "tags": []
   },
   "outputs": [
    {
     "name": "stdout",
     "output_type": "stream",
     "text": [
      "[1] \"Initiating file download for peak-GRanges-t_cd4_cm_2023-10-16.rds\"\n",
      "[1] \"Download successful.\"\n",
      "[1] \"Initiating file download for peak-GRanges-t_cd4_em_2023-10-16.rds\"\n",
      "[1] \"Download successful.\"\n",
      "[1] \"Initiating file download for peak-GRanges-t_cd4_naive_2023-10-16.rds\"\n",
      "[1] \"Download successful.\"\n",
      "[1] \"Initiating file download for peak-GRanges-t_cd4_treg_2023-10-16.rds\"\n",
      "[1] \"Download successful.\"\n",
      "[1] \"Initiating file download for peak-GRanges-t_cd8_memory_2023-10-16.rds\"\n",
      "[1] \"Download successful.\"\n",
      "[1] \"Initiating file download for peak-GRanges-t_cd8_naive_2023-10-16.rds\"\n",
      "[1] \"Download successful.\"\n"
     ]
    }
   ],
   "source": [
    "peak_res <- cacheFiles(peak_uuids)\n",
    "peak_files <- list.files(\n",
    "    paste0(\"cache/\",peak_uuids),\n",
    "    recursive = TRUE, full.names = TRUE\n",
    ")"
   ]
  },
  {
   "cell_type": "code",
   "execution_count": 7,
   "id": "734058a6-726e-43e4-838c-f900b8bf7cc6",
   "metadata": {
    "tags": []
   },
   "outputs": [],
   "source": [
    "anno_uuids <- list(\n",
    "    \"1a89076d-06c1-4daf-b4b1-a58d289c0689\",\n",
    "    \"785d6c93-92d5-40ca-b8ba-82e7fbc48c38\",\n",
    "    \"e3a8dec3-72c2-4130-bb5d-e79e6207c47c\",\n",
    "    \"246d2418-70e6-4826-8654-2e128daaa347\",\n",
    "    \"a4328ddf-916e-4217-9b97-c3cf6fe931f1\",\n",
    "    \"dedd7406-21cd-4d8b-a55b-8d5ae6839b45\"\n",
    ")"
   ]
  },
  {
   "cell_type": "code",
   "execution_count": 8,
   "id": "6d12f217-75ac-4974-a93d-a4dee1f0b824",
   "metadata": {
    "scrolled": true,
    "tags": []
   },
   "outputs": [
    {
     "name": "stdout",
     "output_type": "stream",
     "text": [
      "[1] \"Initiating file download for peak-motif-matches-t_cd4_cm_2023-10-16.rds\"\n",
      "[1] \"Download successful.\"\n",
      "[1] \"Initiating file download for peak-motif-matches-t_cd4_em_2023-10-16.rds\"\n",
      "[1] \"Download successful.\"\n",
      "[1] \"Initiating file download for peak-motif-matches-t_cd4_naive_2023-10-16.rds\"\n",
      "[1] \"Download successful.\"\n",
      "[1] \"Initiating file download for peak-motif-matches-t_cd4_treg_2023-10-16.rds\"\n",
      "[1] \"Download successful.\"\n",
      "[1] \"Initiating file download for peak-motif-matches-t_cd8_memory_2023-10-16.rds\"\n",
      "[1] \"Download successful.\"\n",
      "[1] \"Initiating file download for peak-motif-matches-t_cd8_naive_2023-10-16.rds\"\n",
      "[1] \"Download successful.\"\n"
     ]
    }
   ],
   "source": [
    "anno_res <- cacheFiles(anno_uuids)\n",
    "anno_files <- list.files(\n",
    "    paste0(\"cache/\",anno_uuids),\n",
    "    recursive = TRUE, full.names = TRUE\n",
    ")"
   ]
  },
  {
   "cell_type": "markdown",
   "id": "9c852af1-6f9e-4df7-afbe-48410e08c7e4",
   "metadata": {},
   "source": [
    "### Get peak annotations and metadata per cell type"
   ]
  },
  {
   "cell_type": "code",
   "execution_count": 9,
   "id": "54f01082-b767-43c1-995e-ba0ae36cb0d4",
   "metadata": {
    "tags": []
   },
   "outputs": [],
   "source": [
    "peak_types <- sub(\".+-t(.+)_20.+\", \"t\\\\1\", peak_files)"
   ]
  },
  {
   "cell_type": "code",
   "execution_count": 10,
   "id": "b67b2f2b-1914-414e-b11f-5903685b5cca",
   "metadata": {
    "tags": []
   },
   "outputs": [],
   "source": [
    "get_peak_meta <- function(peak_file) {\n",
    "    peaks <- readRDS(peak_file)\n",
    "    meta <- as.data.frame(elementMetadata(peaks))\n",
    "    meta\n",
    "}"
   ]
  },
  {
   "cell_type": "code",
   "execution_count": 11,
   "id": "d69f253a-36f5-4475-847f-1650d90990ce",
   "metadata": {
    "tags": []
   },
   "outputs": [],
   "source": [
    "type_peak_meta <- map(\n",
    "    peak_files,\n",
    "    get_peak_meta\n",
    ")\n",
    "names(type_peak_meta) <- peak_types"
   ]
  },
  {
   "cell_type": "code",
   "execution_count": 12,
   "id": "70cd0324-7f45-4dc8-8714-33e56267317b",
   "metadata": {
    "tags": []
   },
   "outputs": [],
   "source": [
    "anno_types <- sub(\".+-t(.+)_20.+\", \"t\\\\1\", anno_files)"
   ]
  },
  {
   "cell_type": "code",
   "execution_count": 13,
   "id": "765a54ad-d729-463e-9b40-8aa5423a9204",
   "metadata": {
    "tags": []
   },
   "outputs": [],
   "source": [
    "type_peak_anno <- map(\n",
    "    anno_files,\n",
    "    readRDS\n",
    ")\n",
    "names(type_peak_anno) <- anno_types"
   ]
  },
  {
   "cell_type": "markdown",
   "id": "66830b47-c5dd-4918-91ae-9ee020d884a0",
   "metadata": {},
   "source": [
    "### Generate gene lists for each motif"
   ]
  },
  {
   "cell_type": "code",
   "execution_count": 14,
   "id": "e3baf6c7-eb8a-4801-811d-4c1c60a208f6",
   "metadata": {
    "tags": []
   },
   "outputs": [],
   "source": [
    "motif_gene_sets <- map2(\n",
    "    type_peak_anno,\n",
    "    type_peak_meta,\n",
    "    function(peak_anno, peak_meta) {\n",
    "        res <- map(colnames(peak_anno),\n",
    "            function(motif) {\n",
    "                target_meta <- peak_meta[peak_anno[,motif],]\n",
    "                genes <- target_meta$nearestGene\n",
    "                unique(genes)\n",
    "        })\n",
    "        names(res) <- colnames(peak_anno)\n",
    "        res\n",
    "    }\n",
    ")"
   ]
  },
  {
   "cell_type": "code",
   "execution_count": 15,
   "id": "61779dfd-3ec2-46ef-a808-233fde0ca717",
   "metadata": {
    "tags": []
   },
   "outputs": [],
   "source": [
    "n_motif_genes_list <- map(motif_gene_sets, map_int, length)"
   ]
  },
  {
   "cell_type": "markdown",
   "id": "3e51c91b-8b78-441c-9459-5f166b067794",
   "metadata": {},
   "source": [
    "### Get DEG per condition"
   ]
  },
  {
   "cell_type": "code",
   "execution_count": 16,
   "id": "9db917f5-f730-4d3d-bdba-74efe00b800a",
   "metadata": {
    "tags": []
   },
   "outputs": [],
   "source": [
    "all_deg <- read.csv(deg_file)"
   ]
  },
  {
   "cell_type": "code",
   "execution_count": 17,
   "id": "f8683118-ba39-4376-96ed-7c48f2a21150",
   "metadata": {
    "tags": []
   },
   "outputs": [
    {
     "data": {
      "text/html": [
       "<table class=\"dataframe\">\n",
       "<caption>A data.frame: 6 × 11</caption>\n",
       "<thead>\n",
       "\t<tr><th></th><th scope=col>aifi_cell_type</th><th scope=col>timepoint</th><th scope=col>fg</th><th scope=col>bg</th><th scope=col>n_sample</th><th scope=col>gene</th><th scope=col>coef_C</th><th scope=col>coef_D</th><th scope=col>logFC</th><th scope=col>nomP</th><th scope=col>adjP</th></tr>\n",
       "\t<tr><th></th><th scope=col>&lt;chr&gt;</th><th scope=col>&lt;int&gt;</th><th scope=col>&lt;chr&gt;</th><th scope=col>&lt;chr&gt;</th><th scope=col>&lt;int&gt;</th><th scope=col>&lt;chr&gt;</th><th scope=col>&lt;dbl&gt;</th><th scope=col>&lt;dbl&gt;</th><th scope=col>&lt;dbl&gt;</th><th scope=col>&lt;dbl&gt;</th><th scope=col>&lt;dbl&gt;</th></tr>\n",
       "</thead>\n",
       "<tbody>\n",
       "\t<tr><th scope=row>1</th><td>t_cd4_cm</td><td>4</td><td>bortezomib</td><td>dmso</td><td>648</td><td>A1BG-AS1</td><td> 0.028411773</td><td>-0.12714495</td><td>-0.00860394</td><td>0.7403701</td><td>0.9992370</td></tr>\n",
       "\t<tr><th scope=row>2</th><td>t_cd4_cm</td><td>4</td><td>bortezomib</td><td>dmso</td><td>648</td><td>AAGAB   </td><td> 0.032287238</td><td>-0.25574995</td><td>-0.05429509</td><td>0.1455986</td><td>0.9918874</td></tr>\n",
       "\t<tr><th scope=row>3</th><td>t_cd4_cm</td><td>4</td><td>bortezomib</td><td>dmso</td><td>648</td><td>AAK1    </td><td>-0.009058149</td><td> 0.04769567</td><td> 0.01481580</td><td>0.8762539</td><td>0.9992370</td></tr>\n",
       "\t<tr><th scope=row>4</th><td>t_cd4_cm</td><td>4</td><td>bortezomib</td><td>dmso</td><td>648</td><td>AAMDC   </td><td> 0.062294844</td><td> 0.19250673</td><td> 0.04313545</td><td>0.1602309</td><td>0.9918874</td></tr>\n",
       "\t<tr><th scope=row>5</th><td>t_cd4_cm</td><td>4</td><td>bortezomib</td><td>dmso</td><td>648</td><td>AAMP    </td><td> 0.018080684</td><td>-0.16673307</td><td>-0.01001203</td><td>0.7332528</td><td>0.9992370</td></tr>\n",
       "\t<tr><th scope=row>6</th><td>t_cd4_cm</td><td>4</td><td>bortezomib</td><td>dmso</td><td>648</td><td>AARS    </td><td> 0.019996604</td><td>-0.13135182</td><td>-0.01430162</td><td>0.6785156</td><td>0.9992370</td></tr>\n",
       "</tbody>\n",
       "</table>\n"
      ],
      "text/latex": [
       "A data.frame: 6 × 11\n",
       "\\begin{tabular}{r|lllllllllll}\n",
       "  & aifi\\_cell\\_type & timepoint & fg & bg & n\\_sample & gene & coef\\_C & coef\\_D & logFC & nomP & adjP\\\\\n",
       "  & <chr> & <int> & <chr> & <chr> & <int> & <chr> & <dbl> & <dbl> & <dbl> & <dbl> & <dbl>\\\\\n",
       "\\hline\n",
       "\t1 & t\\_cd4\\_cm & 4 & bortezomib & dmso & 648 & A1BG-AS1 &  0.028411773 & -0.12714495 & -0.00860394 & 0.7403701 & 0.9992370\\\\\n",
       "\t2 & t\\_cd4\\_cm & 4 & bortezomib & dmso & 648 & AAGAB    &  0.032287238 & -0.25574995 & -0.05429509 & 0.1455986 & 0.9918874\\\\\n",
       "\t3 & t\\_cd4\\_cm & 4 & bortezomib & dmso & 648 & AAK1     & -0.009058149 &  0.04769567 &  0.01481580 & 0.8762539 & 0.9992370\\\\\n",
       "\t4 & t\\_cd4\\_cm & 4 & bortezomib & dmso & 648 & AAMDC    &  0.062294844 &  0.19250673 &  0.04313545 & 0.1602309 & 0.9918874\\\\\n",
       "\t5 & t\\_cd4\\_cm & 4 & bortezomib & dmso & 648 & AAMP     &  0.018080684 & -0.16673307 & -0.01001203 & 0.7332528 & 0.9992370\\\\\n",
       "\t6 & t\\_cd4\\_cm & 4 & bortezomib & dmso & 648 & AARS     &  0.019996604 & -0.13135182 & -0.01430162 & 0.6785156 & 0.9992370\\\\\n",
       "\\end{tabular}\n"
      ],
      "text/markdown": [
       "\n",
       "A data.frame: 6 × 11\n",
       "\n",
       "| <!--/--> | aifi_cell_type &lt;chr&gt; | timepoint &lt;int&gt; | fg &lt;chr&gt; | bg &lt;chr&gt; | n_sample &lt;int&gt; | gene &lt;chr&gt; | coef_C &lt;dbl&gt; | coef_D &lt;dbl&gt; | logFC &lt;dbl&gt; | nomP &lt;dbl&gt; | adjP &lt;dbl&gt; |\n",
       "|---|---|---|---|---|---|---|---|---|---|---|---|\n",
       "| 1 | t_cd4_cm | 4 | bortezomib | dmso | 648 | A1BG-AS1 |  0.028411773 | -0.12714495 | -0.00860394 | 0.7403701 | 0.9992370 |\n",
       "| 2 | t_cd4_cm | 4 | bortezomib | dmso | 648 | AAGAB    |  0.032287238 | -0.25574995 | -0.05429509 | 0.1455986 | 0.9918874 |\n",
       "| 3 | t_cd4_cm | 4 | bortezomib | dmso | 648 | AAK1     | -0.009058149 |  0.04769567 |  0.01481580 | 0.8762539 | 0.9992370 |\n",
       "| 4 | t_cd4_cm | 4 | bortezomib | dmso | 648 | AAMDC    |  0.062294844 |  0.19250673 |  0.04313545 | 0.1602309 | 0.9918874 |\n",
       "| 5 | t_cd4_cm | 4 | bortezomib | dmso | 648 | AAMP     |  0.018080684 | -0.16673307 | -0.01001203 | 0.7332528 | 0.9992370 |\n",
       "| 6 | t_cd4_cm | 4 | bortezomib | dmso | 648 | AARS     |  0.019996604 | -0.13135182 | -0.01430162 | 0.6785156 | 0.9992370 |\n",
       "\n"
      ],
      "text/plain": [
       "  aifi_cell_type timepoint fg         bg   n_sample gene     coef_C      \n",
       "1 t_cd4_cm       4         bortezomib dmso 648      A1BG-AS1  0.028411773\n",
       "2 t_cd4_cm       4         bortezomib dmso 648      AAGAB     0.032287238\n",
       "3 t_cd4_cm       4         bortezomib dmso 648      AAK1     -0.009058149\n",
       "4 t_cd4_cm       4         bortezomib dmso 648      AAMDC     0.062294844\n",
       "5 t_cd4_cm       4         bortezomib dmso 648      AAMP      0.018080684\n",
       "6 t_cd4_cm       4         bortezomib dmso 648      AARS      0.019996604\n",
       "  coef_D      logFC       nomP      adjP     \n",
       "1 -0.12714495 -0.00860394 0.7403701 0.9992370\n",
       "2 -0.25574995 -0.05429509 0.1455986 0.9918874\n",
       "3  0.04769567  0.01481580 0.8762539 0.9992370\n",
       "4  0.19250673  0.04313545 0.1602309 0.9918874\n",
       "5 -0.16673307 -0.01001203 0.7332528 0.9992370\n",
       "6 -0.13135182 -0.01430162 0.6785156 0.9992370"
      ]
     },
     "metadata": {},
     "output_type": "display_data"
    }
   ],
   "source": [
    "head(all_deg)"
   ]
  },
  {
   "cell_type": "code",
   "execution_count": 18,
   "id": "98850f61-81a0-4201-a7fa-9962f818d51f",
   "metadata": {
    "tags": []
   },
   "outputs": [],
   "source": [
    "all_deg <- all_deg %>%\n",
    "  mutate(\n",
    "      dir_sign = ifelse(\n",
    "          is.na(logFC),\n",
    "          sign(coef_D),\n",
    "          sign(logFC)),\n",
    "      direction = ifelse(\n",
    "          dir_sign == 1,\n",
    "          \"up\", \"dn\")\n",
    "    )"
   ]
  },
  {
   "cell_type": "code",
   "execution_count": 19,
   "id": "addccc4d-2fe5-41fe-bb11-91b430c5f382",
   "metadata": {
    "tags": []
   },
   "outputs": [],
   "source": [
    "all_deg$test_group <- paste0(all_deg$fg, \"_\", all_deg$timepoint, \"_\", all_deg$aifi_cell_type)"
   ]
  },
  {
   "cell_type": "code",
   "execution_count": 20,
   "id": "a062dbd9-c438-4bea-bce0-b9663cdb627c",
   "metadata": {
    "tags": []
   },
   "outputs": [],
   "source": [
    "split_deg <- split(all_deg, all_deg$test_group)"
   ]
  },
  {
   "cell_type": "markdown",
   "id": "80841d47-16a3-4ac1-af28-8d02ac6452bf",
   "metadata": {},
   "source": [
    "### Test for enrichment"
   ]
  },
  {
   "cell_type": "code",
   "execution_count": 21,
   "id": "80cd3ca3-8e9e-4584-a17a-cfb4e313a260",
   "metadata": {},
   "outputs": [],
   "source": [
    "overlap_results <- map_dfr(\n",
    "    split_deg,\n",
    "    function(deg) {\n",
    "        ct <- deg$aifi_cell_type[1]\n",
    "        tp <- deg$timepoint[1]\n",
    "        treat <- deg$fg[1]\n",
    "\n",
    "        peak_anno <- type_peak_anno[[ct]]\n",
    "        peak_meta <- type_peak_meta[[ct]]\n",
    "        \n",
    "        all_genes <- intersect(\n",
    "            deg$gene,\n",
    "            peak_meta$nearestGene\n",
    "        )\n",
    "        n_all_genes <- length(all_genes)\n",
    "        \n",
    "        sig_deg <- deg %>%\n",
    "          filter(adjP < fdr_cutoff)\n",
    "        n_sig_deg <- nrow(sig_deg)\n",
    "\n",
    "        motif_genes <- motif_gene_sets[[ct]]\n",
    "        tf_names <- sub(\"_.+\", \"\", names(motif_genes))\n",
    "        motif_genes <- motif_genes[tf_names %in% deg$gene]\n",
    "        \n",
    "        motif_genes <- map(\n",
    "            motif_genes,\n",
    "            function(mg) {\n",
    "                intersect(mg, all_genes)\n",
    "            }\n",
    "        )\n",
    "        n_motif_genes <- map_int(motif_genes, length)\n",
    "        \n",
    "        up_deg <- sig_deg %>%\n",
    "          filter(direction == \"up\")\n",
    "        n_up_deg <- nrow(up_deg)\n",
    "\n",
    "        dn_deg <- sig_deg %>%\n",
    "          filter(direction == \"dn\")\n",
    "        n_dn_deg <- nrow(dn_deg)\n",
    "        \n",
    "        sig_ol <- map(\n",
    "            motif_genes,\n",
    "            function(gene_set) {\n",
    "                length(intersect(gene_set, sig_deg$gene))\n",
    "            }\n",
    "        )\n",
    "        \n",
    "        sig_ol <- map(\n",
    "            motif_genes,\n",
    "            function(gene_set) {\n",
    "                sort(intersect(gene_set, sig_deg$gene))\n",
    "            }\n",
    "        )\n",
    "        n_sig_ol <- map(sig_ol, length)\n",
    "        sig_ol <- map(sig_ol, paste, collapse = \";\")\n",
    "        up_ol <- map(\n",
    "            motif_genes,\n",
    "            function(gene_set) {\n",
    "                sort(intersect(gene_set, up_deg$gene))\n",
    "            }\n",
    "        )\n",
    "        n_up_ol <- map(up_ol, length)\n",
    "        up_ol <- map(up_ol, paste, collapse = \";\")\n",
    "        dn_ol <- map(\n",
    "            motif_genes,\n",
    "            function(gene_set) {\n",
    "                sort(intersect(gene_set, dn_deg$gene))\n",
    "            }\n",
    "        )\n",
    "        n_dn_ol <- map(dn_ol, length)\n",
    "        dn_ol <- map(dn_ol, paste, collapse = \";\")\n",
    "        \n",
    "        sig_hyper_res <- pmap_dfr(\n",
    "            list(\n",
    "                n_ol = n_sig_ol,\n",
    "                ol = sig_ol,\n",
    "                n_motif_genes = n_motif_genes,\n",
    "                motif_names = names(n_motif_genes)\n",
    "            ),\n",
    "            function(n_ol, ol, n_motif_genes, motif_names) {\n",
    "                tf <- sub(\"_.+\", \"\", motif_names)\n",
    "                \n",
    "                data.frame(\n",
    "                    treatment = treat,\n",
    "                    timepoint = tp,\n",
    "                    aifi_cell_type = ct,\n",
    "                    direction = \"all\",\n",
    "                    motif_id = motif_names,\n",
    "                    tf_gene = tf,\n",
    "                    tf_logFC = deg$logFC[deg$gene == tf],\n",
    "                    tf_adjP = deg$adjP[deg$gene == tf],\n",
    "                    n_all_genes = n_all_genes,\n",
    "                    n_motif_genes = n_motif_genes,\n",
    "                    n_deg = n_sig_deg,\n",
    "                    n_ol = n_ol,\n",
    "                    nomP = phyper(n_ol - 1, n_motif_genes, n_all_genes - n_motif_genes, n_sig_deg, lower.tail = FALSE),\n",
    "                    ol_genes = ol\n",
    "                )\n",
    "            }\n",
    "        )\n",
    "        up_hyper_res <- pmap_dfr(\n",
    "            list(\n",
    "                n_ol = n_up_ol,\n",
    "                ol = up_ol,\n",
    "                n_motif_genes = n_motif_genes,\n",
    "                motif_names = names(n_motif_genes)\n",
    "            ),\n",
    "            function(n_ol, ol, n_motif_genes, motif_names) {\n",
    "                tf <- sub(\"_.+\", \"\", motif_names)\n",
    "\n",
    "                data.frame(\n",
    "                    treatment = treat,\n",
    "                    timepoint = tp,\n",
    "                    aifi_cell_type = ct,\n",
    "                    direction = \"up\",\n",
    "                    motif_id = motif_names,\n",
    "                    tf_gene = tf,\n",
    "                    tf_logFC = deg$logFC[deg$gene == tf],\n",
    "                    tf_adjP = deg$adjP[deg$gene == tf],\n",
    "                    n_all_genes = n_all_genes,\n",
    "                    n_motif_genes = n_motif_genes,\n",
    "                    n_deg = n_up_deg,\n",
    "                    n_ol = n_ol,\n",
    "                    nomP = phyper(n_ol - 1, n_motif_genes, n_all_genes - n_motif_genes, n_up_deg, lower.tail = FALSE),\n",
    "                    ol_genes = ol\n",
    "                )\n",
    "            }\n",
    "        )\n",
    "        dn_hyper_res <- pmap_dfr(\n",
    "            list(\n",
    "                n_ol = n_dn_ol,\n",
    "                ol = dn_ol,\n",
    "                n_motif_genes = n_motif_genes,\n",
    "                motif_names = names(n_motif_genes)\n",
    "            ),\n",
    "            function(n_ol, ol, n_motif_genes, motif_names) {\n",
    "                tf <- sub(\"_.+\", \"\", motif_names)\n",
    "\n",
    "                data.frame(\n",
    "                    treatment = treat,\n",
    "                    timepoint = tp,\n",
    "                    aifi_cell_type = ct,\n",
    "                    direction = \"dn\",\n",
    "                    motif_id = motif_names,\n",
    "                    tf_gene = tf,\n",
    "                    tf_logFC = deg$logFC[deg$gene == tf],\n",
    "                    tf_adjP = deg$adjP[deg$gene == tf],\n",
    "                    n_all_genes = n_all_genes,\n",
    "                    n_motif_genes = n_motif_genes,\n",
    "                    n_deg = n_dn_deg,\n",
    "                    n_ol = n_ol,\n",
    "                    nomP = phyper(n_ol - 1, n_motif_genes, n_all_genes - n_motif_genes, n_dn_deg, lower.tail = FALSE),\n",
    "                    ol_genes = ol\n",
    "                )\n",
    "            }\n",
    "        )\n",
    "        \n",
    "        rbind(sig_hyper_res,\n",
    "              up_hyper_res,\n",
    "              dn_hyper_res)\n",
    "    }\n",
    ")"
   ]
  },
  {
   "cell_type": "code",
   "execution_count": 22,
   "id": "7bd256b3-11f9-459e-9c66-fac7ef7818b4",
   "metadata": {},
   "outputs": [],
   "source": [
    "overlap_results$adjP <- p.adjust(overlap_results$nomP, method = \"BH\")"
   ]
  },
  {
   "cell_type": "code",
   "execution_count": 23,
   "id": "40654ba4-dda1-48e1-8584-ac64f4fdb789",
   "metadata": {},
   "outputs": [
    {
     "name": "stderr",
     "output_type": "stream",
     "text": [
      "Warning message in dir.create(\"output\"):\n",
      "“'output' already exists”\n"
     ]
    }
   ],
   "source": [
    "dir.create(\"output\")"
   ]
  },
  {
   "cell_type": "code",
   "execution_count": 24,
   "id": "d0de5cce-ea44-413a-b792-5d4045f47167",
   "metadata": {},
   "outputs": [],
   "source": [
    "write.csv(\n",
    "    overlap_results,\n",
    "    paste0(\"output/deg_motif_enrichment_\",Sys.Date(),\".csv\"),\n",
    "    row.names = FALSE,\n",
    "    quote = FALSE\n",
    ")"
   ]
  },
  {
   "cell_type": "markdown",
   "id": "2fcaf74e-ea4c-4df1-9f86-1fd1eae7b03c",
   "metadata": {},
   "source": [
    "## Store results in HISE"
   ]
  },
  {
   "cell_type": "code",
   "execution_count": 32,
   "id": "e1950ec2-176f-4124-b53b-5bca5852bb9a",
   "metadata": {},
   "outputs": [],
   "source": [
    "study_space_uuid <- \"40df6403-29f0-4b45-ab7d-f46d420c422e\"\n",
    "title <- paste(\"VRd TEA-seq T Cell DEG TF Motif Enrichment\", Sys.Date())"
   ]
  },
  {
   "cell_type": "code",
   "execution_count": 33,
   "id": "b7194f0e-146c-4f72-b30c-d1112ca6fa10",
   "metadata": {},
   "outputs": [],
   "source": [
    "out_list <- list(paste0(\"output/deg_motif_enrichment_\",Sys.Date(),\".csv\"))\n",
    "input_ids <- c(c(deg_uuid, peak_uuids, anno_uuids))"
   ]
  },
  {
   "cell_type": "code",
   "execution_count": 34,
   "id": "c4914073-4229-4ce7-8139-e376e4e652f6",
   "metadata": {},
   "outputs": [
    {
     "data": {
      "text/html": [
       "<dl>\n",
       "\t<dt>$files</dt>\n",
       "\t\t<dd><ol>\n",
       "\t<li>'output/deg_motif_enrichment_2023-10-17.csv'</li>\n",
       "</ol>\n",
       "</dd>\n",
       "\t<dt>$traceId</dt>\n",
       "\t\t<dd>'dfc99048-7a6c-40cc-a6c9-379b6c427193'</dd>\n",
       "</dl>\n"
      ],
      "text/latex": [
       "\\begin{description}\n",
       "\\item[\\$files] \\begin{enumerate}\n",
       "\\item 'output/deg\\_motif\\_enrichment\\_2023-10-17.csv'\n",
       "\\end{enumerate}\n",
       "\n",
       "\\item[\\$traceId] 'dfc99048-7a6c-40cc-a6c9-379b6c427193'\n",
       "\\end{description}\n"
      ],
      "text/markdown": [
       "$files\n",
       ":   1. 'output/deg_motif_enrichment_2023-10-17.csv'\n",
       "\n",
       "\n",
       "\n",
       "$traceId\n",
       ":   'dfc99048-7a6c-40cc-a6c9-379b6c427193'\n",
       "\n",
       "\n"
      ],
      "text/plain": [
       "$files\n",
       "$files[[1]]\n",
       "[1] \"output/deg_motif_enrichment_2023-10-17.csv\"\n",
       "\n",
       "\n",
       "$traceId\n",
       "[1] \"dfc99048-7a6c-40cc-a6c9-379b6c427193\"\n"
      ]
     },
     "metadata": {},
     "output_type": "display_data"
    }
   ],
   "source": [
    "uploadFiles(\n",
    "    files = out_list,\n",
    "    studySpaceId = study_space_uuid,\n",
    "    title = title,\n",
    "    inputFileIds = input_ids,\n",
    "    store = \"project\",\n",
    "    doPrompt = FALSE\n",
    ")"
   ]
  },
  {
   "cell_type": "code",
   "execution_count": 35,
   "id": "7d4d2027-ef9b-4274-9531-a64150f22368",
   "metadata": {},
   "outputs": [
    {
     "data": {
      "text/plain": [
       "R version 4.3.1 (2023-06-16)\n",
       "Platform: x86_64-conda-linux-gnu (64-bit)\n",
       "Running under: Ubuntu 20.04.6 LTS\n",
       "\n",
       "Matrix products: default\n",
       "BLAS/LAPACK: /opt/conda/lib/libopenblasp-r0.3.24.so;  LAPACK version 3.11.0\n",
       "\n",
       "locale:\n",
       " [1] LC_CTYPE=C.UTF-8       LC_NUMERIC=C           LC_TIME=C.UTF-8       \n",
       " [4] LC_COLLATE=C.UTF-8     LC_MONETARY=C.UTF-8    LC_MESSAGES=C.UTF-8   \n",
       " [7] LC_PAPER=C.UTF-8       LC_NAME=C              LC_ADDRESS=C          \n",
       "[10] LC_TELEPHONE=C         LC_MEASUREMENT=C.UTF-8 LC_IDENTIFICATION=C   \n",
       "\n",
       "time zone: Etc/UTC\n",
       "tzcode source: system (glibc)\n",
       "\n",
       "attached base packages:\n",
       "[1] stats4    grid      stats     graphics  grDevices utils     datasets \n",
       "[8] methods   base     \n",
       "\n",
       "other attached packages:\n",
       " [1] purrr_1.0.2                 dplyr_1.1.3                \n",
       " [3] rhdf5_2.44.0                SummarizedExperiment_1.30.2\n",
       " [5] Biobase_2.60.0              MatrixGenerics_1.12.3      \n",
       " [7] Rcpp_1.0.11                 Matrix_1.6-1.1             \n",
       " [9] GenomicRanges_1.52.0        GenomeInfoDb_1.36.3        \n",
       "[11] IRanges_2.34.1              S4Vectors_0.38.1           \n",
       "[13] BiocGenerics_0.46.0         matrixStats_1.0.0          \n",
       "[15] data.table_1.14.8           stringr_1.5.0              \n",
       "[17] plyr_1.8.8                  magrittr_2.0.3             \n",
       "[19] ggplot2_3.4.3               gtable_0.3.4               \n",
       "[21] gtools_3.9.4                gridExtra_2.3              \n",
       "[23] ArchR_1.0.2                 hise_2.16.0                \n",
       "\n",
       "loaded via a namespace (and not attached):\n",
       " [1] utf8_1.2.3              generics_0.1.3          bitops_1.0-7           \n",
       " [4] stringi_1.7.12          lattice_0.21-8          digest_0.6.33          \n",
       " [7] evaluate_0.21           pbdZMQ_0.3-10           fastmap_1.1.1          \n",
       "[10] jsonlite_1.8.7          httr_1.4.7              fansi_1.0.4            \n",
       "[13] scales_1.2.1            abind_1.4-5             cli_3.6.1              \n",
       "[16] rlang_1.1.1             crayon_1.5.2            XVector_0.40.0         \n",
       "[19] munsell_0.5.0           DelayedArray_0.26.7     base64enc_0.1-3        \n",
       "[22] withr_2.5.1             repr_1.1.6.9000         S4Arrays_1.0.6         \n",
       "[25] tools_4.3.1             uuid_1.1-1              Rhdf5lib_1.22.1        \n",
       "[28] colorspace_2.1-0        GenomeInfoDbData_1.2.10 curl_5.0.2             \n",
       "[31] assertthat_0.2.1        IRdisplay_1.1           vctrs_0.6.3            \n",
       "[34] R6_2.5.1                lifecycle_1.0.3         zlibbioc_1.46.0        \n",
       "[37] pkgconfig_2.0.3         pillar_1.9.0            glue_1.6.2             \n",
       "[40] tibble_3.2.1            tidyselect_1.2.0        rhdf5filters_1.12.1    \n",
       "[43] IRkernel_1.3.2          htmltools_0.5.6         compiler_4.3.1         \n",
       "[46] RCurl_1.98-1.12        "
      ]
     },
     "metadata": {},
     "output_type": "display_data"
    }
   ],
   "source": [
    "sessionInfo()"
   ]
  },
  {
   "cell_type": "code",
   "execution_count": null,
   "id": "376524c0-8e08-4819-96a8-5b03eb40e744",
   "metadata": {},
   "outputs": [],
   "source": []
  }
 ],
 "metadata": {
  "kernelspec": {
   "display_name": "R 4",
   "language": "R",
   "name": "ir4"
  },
  "language_info": {
   "codemirror_mode": "r",
   "file_extension": ".r",
   "mimetype": "text/x-r-source",
   "name": "R",
   "pygments_lexer": "r",
   "version": "4.3.1"
  }
 },
 "nbformat": 4,
 "nbformat_minor": 5
}
