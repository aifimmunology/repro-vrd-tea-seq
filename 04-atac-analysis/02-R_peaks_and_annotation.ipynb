{
 "cells": [
  {
   "cell_type": "markdown",
   "id": "5349bc9a-1946-4809-bcf6-a29afed522e7",
   "metadata": {},
   "source": [
    "# Call, annotate, and analyze peaks for each cell type\n",
    "\n",
    "To analyze the scATAC-seq data, we'll need to call peaks and identify TF motifs in each peak. To facilitate downstream analyses, a single set of peaks will be called for all cells obtained for each cell type. This will give us a single set of features to use for differential testing for each type.\n",
    "\n",
    "Once we have peaks, we'll analyze them from 3 angles: \n",
    "1. Identify differentially accessible sites induced by drug treatment at each time point.\n",
    "2. Calculate enrichment of motif annotations in differentially-acessible peaks.\n",
    "3. Compute Peak-to-gene correlations using the paired scRNA-seq data from our TEA-seq experiments.\n",
    "\n",
    "Along the way, we'll save each of the stages of analysis for downstream work and visualization:\n",
    "- Peaks and annotations\n",
    "- Differential peaks and annotation enrichments\n",
    "- Peak-to-gene correlations"
   ]
  },
  {
   "cell_type": "markdown",
   "id": "e6a29243-663c-42cc-ae9e-bd6db6f32258",
   "metadata": {},
   "source": [
    "# Setup\n",
    "\n",
    "To call peaks, we'll need to install MACS2"
   ]
  },
  {
   "cell_type": "code",
   "execution_count": null,
   "id": "5242ee7e-2833-4e69-9abf-d63a00e300f8",
   "metadata": {},
   "outputs": [],
   "source": [
    "system(\"pip install --upgrade --force-reinstall MACS2\")"
   ]
  },
  {
   "cell_type": "markdown",
   "id": "778c921c-112c-4c95-a734-8f886b501b47",
   "metadata": {},
   "source": [
    "## Load packages\n",
    "\n",
    "hise: The Human Immune System Explorer R SDK package  \n",
    "dplyr: Dataframe handling functions   \n",
    "ArchR: scATAC-seq analysis  \n",
    "purrr: Functional programming tools  \n"
   ]
  },
  {
   "cell_type": "code",
   "execution_count": null,
   "id": "d4b0c889-cc81-4412-8ebb-97545506db86",
   "metadata": {},
   "outputs": [],
   "source": [
    "quiet_library <- function(...) { suppressPackageStartupMessages(library(...)) }\n",
    "quiet_library(hise)\n",
    "quiet_library(dplyr)\n",
    "quiet_library(ArchR)\n",
    "quiet_library(BSgenome.Hsapiens.UCSC.hg38)\n",
    "quiet_library(purrr)"
   ]
  },
  {
   "cell_type": "markdown",
   "id": "73e4a3e7-cdd3-475e-a54a-cca61151e662",
   "metadata": {},
   "source": [
    "## Retrieve files\n",
    "\n",
    "Now, we'll use the HISE SDK package to retrieve the TEA-seq ArchR Projects based on their file UUIDs. These will be placed in the `cache/` subdirectory by default."
   ]
  },
  {
   "cell_type": "code",
   "execution_count": null,
   "id": "f69e39ef-a0d8-4d09-9983-412c01fa3142",
   "metadata": {},
   "outputs": [],
   "source": [
    "atac_file_uuids <- list(\n",
    "    \"11235534-d09d-4c57-a648-20fb13317eab\",\n",
    "    \"2d1a00ca-f1f6-41c1-9691-f37916fad00c\",\n",
    "    \"365045be-e8a6-4a4d-9fe1-b31b7593799a\",\n",
    "    \"403e1064-34ea-4992-8752-6d1ddb9fb614\",\n",
    "    \"49d66578-bc16-4840-871c-25de96456f83\",\n",
    "    \"f1a32e62-d2e9-4052-b971-dd960d605d70\"\n",
    ")"
   ]
  },
  {
   "cell_type": "code",
   "execution_count": null,
   "id": "4baa66f5-cfaa-40f8-bb35-864dcd041832",
   "metadata": {},
   "outputs": [],
   "source": [
    "fres <- hise::cacheFiles(\n",
    "    atac_file_uuids\n",
    ")"
   ]
  },
  {
   "cell_type": "code",
   "execution_count": null,
   "id": "965a99e0-62b0-40cb-800d-67711c9d0458",
   "metadata": {},
   "outputs": [],
   "source": [
    "atac_tar_files <- map(fres, \"filePath\")"
   ]
  },
  {
   "cell_type": "code",
   "execution_count": null,
   "id": "fb395cf3-8cb3-4ebe-adcc-4bd2044cd2fd",
   "metadata": {},
   "outputs": [],
   "source": [
    "walk(\n",
    "    atac_tar_files,\n",
    "    function(tf) {\n",
    "        command <- paste(\"tar -xf\", tf)\n",
    "        system(command)\n",
    "    }\n",
    ")"
   ]
  },
  {
   "cell_type": "markdown",
   "id": "13308355-76ec-4c05-b824-862654b11a02",
   "metadata": {},
   "source": [
    "Note: un-tar-ing the files moves them to the `output` directory, based on their original filenames."
   ]
  },
  {
   "cell_type": "code",
   "execution_count": null,
   "id": "50c0ca2f-5bee-444b-aa27-afe03dff4bb8",
   "metadata": {},
   "outputs": [],
   "source": [
    "type_paths <- list.files(\n",
    "    \"output\",\n",
    "    full.names = TRUE\n",
    ")"
   ]
  },
  {
   "cell_type": "code",
   "execution_count": null,
   "id": "b672b16f-98b2-424d-b478-8530df307fb0",
   "metadata": {},
   "outputs": [],
   "source": [
    "cell_types <- sub(\".+-(.+)_20.+\", \"\\\\1\", type_paths)\n",
    "cell_types"
   ]
  },
  {
   "cell_type": "code",
   "execution_count": null,
   "id": "899aed64-302f-4d91-81b4-ed9c4254c4d2",
   "metadata": {},
   "outputs": [],
   "source": [
    "type_proj <- map(\n",
    "    type_paths,\n",
    "    loadArchRProject,\n",
    "    showLogo = FALSE\n",
    ")\n",
    "names(type_proj) <- cell_types"
   ]
  },
  {
   "cell_type": "markdown",
   "id": "8a747d7c-b327-47de-bf62-dc1e14a9edf3",
   "metadata": {},
   "source": [
    "# Run analysis per cell type"
   ]
  },
  {
   "cell_type": "markdown",
   "id": "a9d5638a-a233-48bc-85b0-f749733b0ec3",
   "metadata": {},
   "source": [
    "## Peak calling and annotation"
   ]
  },
  {
   "cell_type": "code",
   "execution_count": null,
   "id": "63a97490-bd3c-40db-a871-afdd7e14d385",
   "metadata": {},
   "outputs": [],
   "source": [
    "addArchRVerbose(verbose = FALSE)\n",
    "addArchRThreads(14)\n",
    "addArchRGenome(\"hg38\")"
   ]
  },
  {
   "cell_type": "code",
   "execution_count": null,
   "id": "f738ac6e-2960-4bea-9308-70c83b70833d",
   "metadata": {
    "scrolled": true
   },
   "outputs": [],
   "source": [
    "type_proj <- map(\n",
    "    type_proj,\n",
    "    function(proj) {\n",
    "        message(\"Adding coverage\")\n",
    "        proj <- addGroupCoverages(proj, groupBy = \"Sample\", force = TRUE)\n",
    "        message(\"Adding peak set\")\n",
    "        proj <- addReproduciblePeakSet(proj, groupBy = \"Sample\", force = TRUE)\n",
    "        message(\"Adding peak matrix\")\n",
    "        proj <- addPeakMatrix(proj, force = TRUE)\n",
    "        message(\"Adding Peak Annotations\")\n",
    "        proj <- addMotifAnnotations(\n",
    "            proj, \n",
    "            motifSet = \"cisbp\", \n",
    "            name = \"Motif\",\n",
    "            force = TRUE\n",
    "        )\n",
    "        proj <- saveArchRProject(proj)\n",
    "    }\n",
    ")"
   ]
  },
  {
   "cell_type": "markdown",
   "id": "01e8c91f-b2ce-417a-b34c-4ad7e091afa4",
   "metadata": {},
   "source": [
    "Extract and output peaks and annotations matrix for downstream use"
   ]
  },
  {
   "cell_type": "code",
   "execution_count": null,
   "id": "9f7a397e-f5f2-4c92-87b4-a79cfc2fabe8",
   "metadata": {},
   "outputs": [],
   "source": [
    "type_peak_gr <- map(\n",
    "    type_proj,\n",
    "    getPeakSet\n",
    ")"
   ]
  },
  {
   "cell_type": "code",
   "execution_count": null,
   "id": "41ea2d5d-6436-4147-b979-f78b44725d69",
   "metadata": {},
   "outputs": [],
   "source": [
    "dir.create(\"output\")"
   ]
  },
  {
   "cell_type": "code",
   "execution_count": null,
   "id": "cfb6cf2f-9927-440c-8b3b-13cc284aebe2",
   "metadata": {},
   "outputs": [],
   "source": [
    "peak_output_files <- paste0(\n",
    "    \"output/peak-GRanges-\",\n",
    "    cell_types,\n",
    "    \"_\", Sys.Date(),\n",
    "    \".rds\")"
   ]
  },
  {
   "cell_type": "code",
   "execution_count": null,
   "id": "6385baa0-b6e7-490c-8cf3-1b5a1368c1ca",
   "metadata": {},
   "outputs": [],
   "source": [
    "walk2(\n",
    "    type_peak_gr,\n",
    "    peak_output_files,\n",
    "    saveRDS\n",
    ")"
   ]
  },
  {
   "cell_type": "code",
   "execution_count": null,
   "id": "a16c8801-4626-4719-8c5d-874cd8dde141",
   "metadata": {},
   "outputs": [],
   "source": [
    "type_motif_mat <- map(\n",
    "    type_proj,\n",
    "    function(proj) {\n",
    "        anno <- getPeakAnnotation(proj)\n",
    "        matches <- readRDS(anno$Matches)\n",
    "        assays(matches)$matches\n",
    "    }\n",
    ")"
   ]
  },
  {
   "cell_type": "code",
   "execution_count": null,
   "id": "4c4937ff-3818-4454-865d-5d973b50541d",
   "metadata": {},
   "outputs": [],
   "source": [
    "motif_mat_output_files <- paste0(\n",
    "    \"output/peak-motif-matches-\",\n",
    "    cell_types,\n",
    "    \"_\", Sys.Date(),\n",
    "    \".rds\")"
   ]
  },
  {
   "cell_type": "code",
   "execution_count": null,
   "id": "82cd4cf7-b24d-41f4-a4cd-5bd6ac72c37c",
   "metadata": {},
   "outputs": [],
   "source": [
    "walk2(\n",
    "    type_motif_mat,\n",
    "    motif_mat_output_files,\n",
    "    saveRDS\n",
    ")"
   ]
  },
  {
   "cell_type": "markdown",
   "id": "2b96bd54-1b3b-471f-8b7f-6a3bbbbe7944",
   "metadata": {},
   "source": [
    "## Differential peak accessibility\n",
    "\n",
    "To test for DAPs, we'll need to include the treatment and timepoint metadata for each sample in the ArchR projects:"
   ]
  },
  {
   "cell_type": "code",
   "execution_count": null,
   "id": "55117c30-735e-4f49-b54f-4e31f3f1b136",
   "metadata": {},
   "outputs": [],
   "source": [
    "sample_manifest <- read.csv(\"../common/EXP00454_TEAseq_sample_manifest.csv\")"
   ]
  },
  {
   "cell_type": "code",
   "execution_count": null,
   "id": "dc1dcd88-d0fb-47e4-8a72-d94933def271",
   "metadata": {},
   "outputs": [],
   "source": [
    "sample_meta <- sample_manifest %>%\n",
    "  select(pbmc_sample_id, treatment, timepoint) %>%\n",
    "  mutate(Sample = paste0(\"EXP-00454-P1_\", pbmc_sample_id),\n",
    "         treat_time = paste0(treatment, \"_\", timepoint)) %>%\n",
    "  select(-pbmc_sample_id)\n",
    "head(sample_meta)"
   ]
  },
  {
   "cell_type": "code",
   "execution_count": null,
   "id": "e2fd2a18-14be-45b9-999d-c077741fb29c",
   "metadata": {},
   "outputs": [],
   "source": [
    "type_proj <- map(\n",
    "    type_proj,\n",
    "    function(proj) {\n",
    "        proj_meta <- as.data.frame(getCellColData(proj))\n",
    "        cell_names <- rownames(proj_meta)\n",
    "\n",
    "        proj_meta <- proj_meta %>%\n",
    "          select(Sample) %>%\n",
    "          left_join(sample_meta)\n",
    "\n",
    "        addCellColData(proj, proj_meta$treat_time, \"treat_time\", cell_names, force = TRUE)\n",
    "        \n",
    "    }\n",
    ")"
   ]
  },
  {
   "cell_type": "markdown",
   "id": "3aeecb38-2e34-4180-beed-f9e75dc15589",
   "metadata": {},
   "source": [
    "Next, we can define the foreground and background conditions for the DAP tests:"
   ]
  },
  {
   "cell_type": "code",
   "execution_count": null,
   "id": "bd6af64e-b61e-4b0a-bd2b-7b959c0c0e18",
   "metadata": {},
   "outputs": [],
   "source": [
    "fg_treat_times <- c(\"bortezomib_4\", \"lenalidomide_4\", \"dexamethasone_4\",\n",
    "                    \"bortezomib_24\", \"lenalidomide_24\", \"dexamethasone_24\",\n",
    "                    \"bortezomib_72\", \"lenalidomide_72\")\n",
    "bg_treat_times <- c(rep(\"dmso_4\", 3),\n",
    "                    rep(\"dmso_24\", 3),\n",
    "                    rep(\"dmso_72\", 2))"
   ]
  },
  {
   "cell_type": "markdown",
   "id": "386f8371-9a49-4ee6-849a-afbe6e643e97",
   "metadata": {},
   "source": [
    "And we'll define this helper function for running the tests and retrieving the results.\n",
    "\n",
    "Note that the cutoff of FDR < 2 is there to retrieve results for all peaks regardless of FDR, since all FDR values will be 1 or lower."
   ]
  },
  {
   "cell_type": "code",
   "execution_count": null,
   "id": "89f3bd34-2485-4d99-9949-424247c73fc7",
   "metadata": {},
   "outputs": [],
   "source": [
    "run_dap_test <- function(fg, bg, proj) {\n",
    "\n",
    "    message(paste(fg, \"vs\", bg))\n",
    "    \n",
    "    suppressMessages(\n",
    "        getMarkerFeatures(\n",
    "            proj,\n",
    "            useMatrix = \"PeakMatrix\",\n",
    "            groupBy = \"treat_time\",\n",
    "            useGroups = fg,\n",
    "            bgdGroups = bg\n",
    "        )\n",
    "    )\n",
    "    \n",
    "}"
   ]
  },
  {
   "cell_type": "code",
   "execution_count": null,
   "id": "2e30383b-d670-4ef2-822e-6919d2ada6a5",
   "metadata": {},
   "outputs": [],
   "source": [
    "table(getCellColData(type_proj[[1]])$treat_time)"
   ]
  },
  {
   "cell_type": "code",
   "execution_count": null,
   "id": "3d200809-f973-4b27-bd16-c25052b12bd4",
   "metadata": {
    "scrolled": true
   },
   "outputs": [],
   "source": [
    "all_dap_results <- map(\n",
    "    type_proj,\n",
    "    function(proj) {\n",
    "        ct <- getCellColData(proj)$aifi_cell_type[1]\n",
    "        message(ct)\n",
    "        \n",
    "        dap_results <- map2(\n",
    "            fg_treat_times,\n",
    "            bg_treat_times,\n",
    "            run_dap_test,\n",
    "            proj = proj\n",
    "        )\n",
    "        \n",
    "        dap_results\n",
    "\n",
    "    }\n",
    ")"
   ]
  },
  {
   "cell_type": "markdown",
   "id": "ae98693d-c67b-45a2-a3f7-0aa238f0eb5b",
   "metadata": {},
   "source": [
    "Extract DAP results to data.frame"
   ]
  },
  {
   "cell_type": "code",
   "execution_count": null,
   "id": "47cb6780-77e5-4cac-80fc-91b55440b376",
   "metadata": {},
   "outputs": [],
   "source": [
    "all_dap_df <- map2_dfr(\n",
    "    all_dap_results,\n",
    "    cell_types,\n",
    "    function(dap, ct) {\n",
    "        dap_df <- pmap_dfr(\n",
    "            list(fg = fg_treat_times,\n",
    "                 bg = bg_treat_times,\n",
    "                 res = dap),\n",
    "            function(fg, bg, res) {\n",
    "                group_marker_res <- getMarkers(\n",
    "                    res, \n",
    "                    cutOff = \"FDR < 2\")\n",
    "                \n",
    "                group_marker_df <- as.data.frame(group_marker_res[[1]])\n",
    "                group_marker_df$fg <- fg\n",
    "                group_marker_df$bg <- bg\n",
    "\n",
    "                group_marker_df\n",
    "            }\n",
    "        )\n",
    "\n",
    "        dap_df$aifi_cell_type <- ct\n",
    "        dap_df\n",
    "    }\n",
    ")"
   ]
  },
  {
   "cell_type": "code",
   "execution_count": null,
   "id": "8e756b10-fd55-4f78-8003-084a12ef8dad",
   "metadata": {},
   "outputs": [],
   "source": [
    "all_dap_df <- all_dap_df %>%\n",
    "  dplyr::rename(logFC = Log2FC,\n",
    "                adjP = FDR) %>%\n",
    "  select(aifi_cell_type, fg, bg, seqnames, start, end, logFC, adjP, MeanDiff, idx)"
   ]
  },
  {
   "cell_type": "code",
   "execution_count": null,
   "id": "b8725702-8706-4dd4-ad17-a7a4b2918e25",
   "metadata": {},
   "outputs": [],
   "source": [
    "dap_output_file <- paste0(\n",
    "    \"output/all-archr-dap_\",\n",
    "    Sys.Date(),\n",
    "    \".csv\")"
   ]
  },
  {
   "cell_type": "code",
   "execution_count": null,
   "id": "da3dc9b1-ad89-47d1-ba75-df02edcee74f",
   "metadata": {},
   "outputs": [],
   "source": [
    "write.csv(all_dap_df,\n",
    "          dap_output_file,\n",
    "          quote = FALSE,\n",
    "          row.names = FALSE)"
   ]
  },
  {
   "cell_type": "markdown",
   "id": "57d8403e-b1fa-4e51-a4a6-8211658e1eb0",
   "metadata": {},
   "source": [
    "## Motif annotation enrichment"
   ]
  },
  {
   "cell_type": "markdown",
   "id": "77d40599-9da2-4f30-86d1-bcdf809689cf",
   "metadata": {},
   "source": [
    "For each set of differentially accessible peaks, we'll calculate differentially enriched motifs.\n",
    "\n",
    "To account for the differences in cell count that affect sensitivity of DAP results, we'll use the top 500 peaks from each comparison to identify DEMs.\n",
    "\n",
    "We'll also separate peaks with increased accessibility from peaks with decreased accessibility in the DAP results.\n",
    "\n",
    "The helper function, below, does the bulk of this work:"
   ]
  },
  {
   "cell_type": "code",
   "execution_count": null,
   "id": "da6aa1f7-5e2b-443b-93cb-c224453437cf",
   "metadata": {},
   "outputs": [],
   "source": [
    "top_dap_directional_dem <- function(fg, bg, dap, proj, top_n = 500) {\n",
    "\n",
    "    message(paste(fg, \"vs\", bg))\n",
    "\n",
    "    group_marker_res <- getMarkers(\n",
    "        dap, \n",
    "        cutOff = \"FDR < 2\")\n",
    "    \n",
    "    peak_df <- as.data.frame(group_marker_res[[1]])\n",
    "    names(peak_df) <- names(assays(dap))\n",
    "    \n",
    "    up_peaks <- peak_df %>%\n",
    "      filter(Log2FC > 0) %>%\n",
    "      arrange(Pval) %>%\n",
    "      head(top_n)\n",
    "    up_cut <- up_peaks$Pval[top_n]\n",
    "    \n",
    "    up_enriched_motifs <- suppressMessages(\n",
    "        peakAnnoEnrichment(\n",
    "            seMarker = dap,\n",
    "            ArchRProj = proj,\n",
    "            peakAnnotation = \"Motif\",\n",
    "            cutOff = paste(\"Pval < \", up_cut,\"& Log2FC > 0\")\n",
    "    ))\n",
    "    \n",
    "    up_res <- as.data.frame(as.list(assays(up_enriched_motifs)))\n",
    "    names(up_res) <- names(assays(up_enriched_motifs))\n",
    "    up_res$direction <- \"up\"\n",
    "    \n",
    "    dn_peaks <- peak_df %>%\n",
    "      filter(Log2FC < 0) %>%\n",
    "      arrange(Pval) %>%\n",
    "      head(top_n)\n",
    "    dn_cut <- dn_peaks$Pval[top_n]\n",
    "    \n",
    "    dn_enriched_motifs <- suppressMessages(\n",
    "        peakAnnoEnrichment(\n",
    "            seMarker = dap,\n",
    "            ArchRProj = proj,\n",
    "            peakAnnotation = \"Motif\",\n",
    "            cutOff = paste(\"Pval < \", dn_cut, \"& Log2FC < 0\")\n",
    "    ))\n",
    "    \n",
    "    dn_res <- as.data.frame(as.list(assays(dn_enriched_motifs)))\n",
    "    names(dn_res) <- names(assays(dn_enriched_motifs))\n",
    "    dn_res$direction <- \"dn\"\n",
    "    \n",
    "    res <- rbind(up_res, dn_res)\n",
    "    res$fg <- fg\n",
    "    res$bg <- bg\n",
    "\n",
    "    res\n",
    "}"
   ]
  },
  {
   "cell_type": "markdown",
   "id": "f26c9198-3787-446c-bb1c-53189dd7f374",
   "metadata": {},
   "source": [
    "Here, we'll iterate over each cell type (the first `map2_dfr` call), and each comparison (the `pmap_dfr` call):"
   ]
  },
  {
   "cell_type": "code",
   "execution_count": null,
   "id": "ceeed64f-f405-44c4-80c4-4f034847bc72",
   "metadata": {
    "scrolled": true
   },
   "outputs": [],
   "source": [
    "all_dem_res <- map2_dfr(\n",
    "    type_proj,\n",
    "    all_dap_results,\n",
    "    function(proj, type_dap) {\n",
    "        ct <- getCellColData(proj)$aifi_cell_type[1]\n",
    "        message(ct)\n",
    "         \n",
    "        dem_res <- pmap_dfr(\n",
    "            list(fg = fg_treat_times,\n",
    "                 bg = bg_treat_times,\n",
    "                 dap = type_dap),\n",
    "            top_dap_directional_dem,\n",
    "            proj = proj,\n",
    "            top_n = 500\n",
    "        )\n",
    "\n",
    "        dem_res$aifi_cell_type <- ct\n",
    "        dem_res\n",
    "    }\n",
    ")"
   ]
  },
  {
   "cell_type": "code",
   "execution_count": null,
   "id": "fd30a5a8-f2de-4f9d-9597-84f791c48e5c",
   "metadata": {
    "scrolled": true
   },
   "outputs": [],
   "source": [
    "all_dem_res <- all_dem_res %>%\n",
    "  mutate(\n",
    "      nomP = 10^(-mlog10p),\n",
    "      adjP = 10^(-mlog10Padj),\n",
    "      tf_gene = sub(\"_.+\", \"\", feature)\n",
    "  ) %>%\n",
    "  select(aifi_cell_type, fg, bg, direction,\n",
    "         feature, tf_gene, Enrichment, nomP, adjP,\n",
    "         everything())"
   ]
  },
  {
   "cell_type": "code",
   "execution_count": null,
   "id": "8ca12457-59c8-4b20-a555-e29861e87e56",
   "metadata": {},
   "outputs": [],
   "source": [
    "head(all_dem_res)"
   ]
  },
  {
   "cell_type": "code",
   "execution_count": null,
   "id": "acae6d6f-e125-4220-ba90-16a897757102",
   "metadata": {},
   "outputs": [],
   "source": [
    "dem_output_file <- paste0(\n",
    "    \"output/all-archr-dem_\",\n",
    "    Sys.Date(),\n",
    "    \".csv\")"
   ]
  },
  {
   "cell_type": "code",
   "execution_count": null,
   "id": "330f7cf4-b4d7-456b-929d-0eb7018381e1",
   "metadata": {},
   "outputs": [],
   "source": [
    "write.csv(all_dem_res,\n",
    "          dem_output_file,\n",
    "          quote = FALSE,\n",
    "          row.names = FALSE)"
   ]
  },
  {
   "cell_type": "markdown",
   "id": "74977cf4-fab8-4346-bc2d-f464ff0d0146",
   "metadata": {},
   "source": [
    "## Peak-to-Gene correlation\n",
    "\n",
    "Finally, we'll test peak-to-gene correlation by integrating the scRNA-seq data from TEA-seq. This will be matched at the single-cell level to the cells in the ArchR Projects. First, we'll need to retrieve the scRNA-seq matrices from HISE:"
   ]
  },
  {
   "cell_type": "code",
   "execution_count": null,
   "id": "d61772a4-43e9-4ff6-966b-e87086714dbd",
   "metadata": {},
   "outputs": [],
   "source": [
    "scrna_file_ids <- list(\n",
    "    \"7bdac6ef-e5e5-4150-b4f3-9c1a1e250334\", # CD4 data\n",
    "    \"46438bc4-cde6-4ae6-b349-9c513dd9d16f\" # CD8 data\n",
    ")"
   ]
  },
  {
   "cell_type": "code",
   "execution_count": null,
   "id": "f33fd690-9c18-4f59-a936-11454f731bd9",
   "metadata": {},
   "outputs": [],
   "source": [
    "scrna_file_res <- hise::cacheFiles(\n",
    "    scrna_file_ids\n",
    ")"
   ]
  },
  {
   "cell_type": "code",
   "execution_count": null,
   "id": "11c513f3-c622-4038-b502-4075ac01eba8",
   "metadata": {},
   "outputs": [],
   "source": [
    "scrna_files <- map(scrna_file_res, \"filePath\")"
   ]
  },
  {
   "cell_type": "code",
   "execution_count": null,
   "id": "a2aaba1b-c4c5-4504-90e4-cf98b49494b1",
   "metadata": {},
   "outputs": [],
   "source": [
    "so_list <- map(scrna_files, readRDS)"
   ]
  },
  {
   "cell_type": "code",
   "execution_count": null,
   "id": "783c15f8-8262-4c02-a65e-b4a1a456324b",
   "metadata": {},
   "outputs": [],
   "source": [
    "count_mat <- cbind(\n",
    "    so_list[[1]][[\"RNA\"]]@counts,\n",
    "    so_list[[2]][[\"RNA\"]]@counts\n",
    ")"
   ]
  },
  {
   "cell_type": "markdown",
   "id": "a516353a-0165-41aa-9c29-9e0819e6683e",
   "metadata": {},
   "source": [
    "Before integration, we'll need to filter for genes that are in the gene annotations for the ArchR Projects.\n",
    "\n",
    "We'll then be able to use the counts and the gene GRanges to build the SummarizedExperiment objects that ArchR requires."
   ]
  },
  {
   "cell_type": "code",
   "execution_count": null,
   "id": "41794514-3370-48e2-9d96-77e8448c9f62",
   "metadata": {},
   "outputs": [],
   "source": [
    "gene_gr <- type_proj[[1]]@geneAnnotation$genes\n",
    "gene_gr <- gene_gr[gene_gr$symbol %in% rownames(count_mat)]\n",
    "count_mat <- count_mat[gene_gr$symbol,]"
   ]
  },
  {
   "cell_type": "code",
   "execution_count": null,
   "id": "b81b5ae5-8d4f-41d6-a83a-dba9e050aa6b",
   "metadata": {},
   "outputs": [],
   "source": [
    "str(count_mat)"
   ]
  },
  {
   "cell_type": "markdown",
   "id": "f373bae7-c5a7-4348-a8dd-896d1ed65483",
   "metadata": {},
   "source": [
    "For each cell type, we'll select the cells for that type using barcodes, then match the cell names to those used by ArchR so that the data are compatible."
   ]
  },
  {
   "cell_type": "code",
   "execution_count": null,
   "id": "ab939914-bd2b-4581-b4e8-b4d06c9cb3bd",
   "metadata": {
    "scrolled": true
   },
   "outputs": [],
   "source": [
    "type_proj <- map(\n",
    "    type_proj,\n",
    "    function(proj) {\n",
    "        proj_meta <- as.data.frame(getCellColData(proj))\n",
    "        rna_mat <- count_mat[,proj_meta$barcodes]\n",
    "        colnames(rna_mat) <- rownames(proj_meta)\n",
    "\n",
    "        serna <- SummarizedExperiment(\n",
    "            assays = SimpleList(counts = rna_mat),\n",
    "            rowRanges = gene_gr\n",
    "        )\n",
    "        \n",
    "        addGeneExpressionMatrix(\n",
    "            proj,\n",
    "            serna\n",
    "        )\n",
    "    })"
   ]
  },
  {
   "cell_type": "markdown",
   "id": "21cf6cf9-295b-4856-87db-36b4ab599248",
   "metadata": {},
   "source": [
    "Now that we have gene expression in the object, we can compute peak-to-gene correlations. This step requires a reduced dimensionality projection to find neighborhoods of cells, so we'll also compute LSI for each cell type."
   ]
  },
  {
   "cell_type": "code",
   "execution_count": null,
   "id": "71d95d0f-8e02-4259-8379-8ba7afb2071f",
   "metadata": {
    "scrolled": true
   },
   "outputs": [],
   "source": [
    "type_proj <- map(\n",
    "    type_proj,\n",
    "    addIterativeLSI\n",
    ")"
   ]
  },
  {
   "cell_type": "code",
   "execution_count": null,
   "id": "7ba574f6-a099-499e-9c8b-aeb608662073",
   "metadata": {
    "scrolled": true
   },
   "outputs": [],
   "source": [
    "type_proj <- map(\n",
    "    type_proj,\n",
    "    addPeak2GeneLinks,\n",
    "    useMatrix = \"GeneExpressionMatrix\"\n",
    ")"
   ]
  },
  {
   "cell_type": "markdown",
   "id": "c07ce770-dfcc-4793-b816-732ad697ae9a",
   "metadata": {},
   "source": [
    "We'll use this helper function to extract the Peak2Gene results using an absolute correlation cutoff. This is more permissive than the methods built in to ArchR, as it will allow us to retrieve negative correlations as well as positive correlations. These can be difficult to interpret, but let's keep them at this point.\n",
    "\n",
    "It's also nice to have the position of the peak, gene symbol, and distance from peak to gene for thinking about the results. This function will also collate that information from the peak and gene GRanges objects."
   ]
  },
  {
   "cell_type": "code",
   "execution_count": null,
   "id": "6262810e-46e2-4f61-991f-c34edae2d688",
   "metadata": {},
   "outputs": [],
   "source": [
    "get_p2g_links <- function(proj, abs_cutoff = 0.1) {\n",
    "    p2g <- metadata(proj@peakSet)$Peak2GeneLinks\n",
    "    peaks <- metadata(p2g)$peakSet\n",
    "    genes <- metadata(p2g)$geneSet\n",
    "    p2g_df <- as.data.frame(p2g)\n",
    "    p2g_df <- p2g_df %>%\n",
    "      filter(abs(Correlation) > 0.1)\n",
    "    p2g_df <- p2g_df %>%\n",
    "      mutate(gene = as.character(genes$name[idxRNA]),\n",
    "             seqnames = as.character(seqnames(peaks)[idxATAC]),\n",
    "             start = start(peaks)[idxATAC],\n",
    "             end = end(peaks)[idxATAC]) %>%\n",
    "      mutate(\n",
    "         distance = pmin(\n",
    "             abs(start(peaks)[idxATAC] - start(genes)[idxRNA]),\n",
    "             abs(end(peaks)[idxATAC] - start(genes)[idxRNA])\n",
    "         )\n",
    "      )\n",
    "}"
   ]
  },
  {
   "cell_type": "code",
   "execution_count": null,
   "id": "fe18119f-27aa-4622-a5b5-d6053e70e0ac",
   "metadata": {
    "scrolled": true
   },
   "outputs": [],
   "source": [
    "type_p2g <- map2(\n",
    "    type_proj,\n",
    "    cell_types,\n",
    "    function(proj, ct) {\n",
    "        p2g_df <- get_p2g_links(\n",
    "            proj,\n",
    "            abs_cutoff = 0.1\n",
    "        )\n",
    "        p2g_df$aifi_cell_type <- ct\n",
    "        p2g_df\n",
    "    }\n",
    ")"
   ]
  },
  {
   "cell_type": "code",
   "execution_count": null,
   "id": "6561e152-19b2-4727-aec4-b073320cf2e8",
   "metadata": {},
   "outputs": [],
   "source": [
    "p2g_output_files <- paste0(\n",
    "    \"output/peak-to-gene-\",\n",
    "    cell_types,\n",
    "    \"_\", Sys.Date(),\n",
    "    \".csv\")"
   ]
  },
  {
   "cell_type": "code",
   "execution_count": null,
   "id": "1eff4bed-5617-4855-abe1-795276645576",
   "metadata": {},
   "outputs": [],
   "source": [
    "walk2(\n",
    "    type_p2g,\n",
    "    p2g_output_files,\n",
    "    write.csv,\n",
    "    quote = FALSE,\n",
    "    row.names = FALSE\n",
    ")"
   ]
  },
  {
   "cell_type": "markdown",
   "id": "10c98748-9a8d-471e-ad77-f54b1c47bb30",
   "metadata": {},
   "source": [
    "### Store results in HISE"
   ]
  },
  {
   "cell_type": "markdown",
   "id": "3da22f16-9541-42c3-9f85-87e58454af01",
   "metadata": {},
   "source": [
    "Update folder names for ArchR Projects and bundle the files as .tar for upload."
   ]
  },
  {
   "cell_type": "code",
   "execution_count": null,
   "id": "d63ba3ce-4f5c-42f9-bf64-fbd3439c3648",
   "metadata": {},
   "outputs": [],
   "source": [
    "out_paths <- sub(\"20.+\",Sys.Date(),type_paths)"
   ]
  },
  {
   "cell_type": "code",
   "execution_count": null,
   "id": "c58e629f-92d3-450e-8532-70a83cbef434",
   "metadata": {},
   "outputs": [],
   "source": [
    "walk2(\n",
    "    type_paths,\n",
    "    out_paths,\n",
    "    function(type_path, out_path) {\n",
    "        file.rename(type_path, out_path)\n",
    "        out_tar <- paste0(out_path, \".tar\")\n",
    "\n",
    "        command <- paste(\n",
    "            \"tar -cf\",\n",
    "            out_tar,\n",
    "            out_path\n",
    "        )\n",
    "\n",
    "        system(command)\n",
    "    }\n",
    ")"
   ]
  },
  {
   "cell_type": "code",
   "execution_count": null,
   "id": "b4efe021-6b3f-40fb-95f6-81496823bbbf",
   "metadata": {},
   "outputs": [],
   "source": [
    "study_space_uuid <- \"40df6403-29f0-4b45-ab7d-f46d420c422e\"\n",
    "title <- paste(\"VRd TEA-seq T Cell ATAC Analysis\", Sys.Date())"
   ]
  },
  {
   "cell_type": "code",
   "execution_count": null,
   "id": "257f2c26-a4ea-4720-a0c5-7b3a5a66d7b9",
   "metadata": {},
   "outputs": [],
   "source": [
    "out_list <- as.list(\n",
    "    list.files(\n",
    "        \"output\", \n",
    "        pattern = \".csv$|.rds$|.tar$\",\n",
    "        full.names = TRUE\n",
    "))\n",
    "input_ids <- c(atac_file_uuids, scrna_file_ids)"
   ]
  },
  {
   "cell_type": "code",
   "execution_count": null,
   "id": "b2f89b0b-2147-43d1-b2f8-1b435ed721c7",
   "metadata": {},
   "outputs": [],
   "source": [
    "uploadFiles(\n",
    "    files = out_list,\n",
    "    studySpaceId = study_space_uuid,\n",
    "    title = title,\n",
    "    inputFileIds = input_ids,\n",
    "    store = \"project\",\n",
    "    doPrompt = FALSE\n",
    ")"
   ]
  },
  {
   "cell_type": "markdown",
   "id": "0f425145-cfb6-4e81-86a6-407de1ddfd93",
   "metadata": {},
   "source": [
    "# Session Info"
   ]
  },
  {
   "cell_type": "code",
   "execution_count": null,
   "id": "e6aba05a-69c1-4b76-9ad0-abd1048c7dae",
   "metadata": {},
   "outputs": [],
   "source": [
    "sessionInfo()"
   ]
  },
  {
   "cell_type": "code",
   "execution_count": null,
   "id": "bb975889-3865-492c-a28b-d3d0f0a222eb",
   "metadata": {},
   "outputs": [],
   "source": []
  }
 ],
 "metadata": {
  "kernelspec": {
   "display_name": "R 4",
   "language": "R",
   "name": "ir4"
  },
  "language_info": {
   "codemirror_mode": "r",
   "file_extension": ".r",
   "mimetype": "text/x-r-source",
   "name": "R",
   "pygments_lexer": "r",
   "version": "4.3.1"
  }
 },
 "nbformat": 4,
 "nbformat_minor": 5
}
