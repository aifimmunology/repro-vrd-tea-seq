{
 "cells": [
  {
   "cell_type": "markdown",
   "id": "5349bc9a-1946-4809-bcf6-a29afed522e7",
   "metadata": {},
   "source": [
    "# Call, annotate, and analyze peaks for each cell type\n",
    "\n",
    "To analyze the scATAC-seq data, we'll need to call peaks and identify TF motifs in each peak. To facilitate downstream analyses, a single set of peaks will be called for all cells obtained for each cell type. This will give us a single set of features to use for differential testing for each type.\n",
    "\n",
    "Once we have peaks, we'll analyze them from 3 angles: \n",
    "1. Identify differentially accessible sites induced by drug treatment at each time point.\n",
    "2. Calculate enrichment of motif annotations in differentially-acessible peaks.\n",
    "3. Compute Peak-to-gene correlations using the paired scRNA-seq data from our TEA-seq experiments.\n",
    "\n",
    "Along the way, we'll save each of the stages of analysis for downstream work and visualization:\n",
    "- Peaks and annotations\n",
    "- Differential peaks and annotation enrichments\n",
    "- Peak-to-gene correlations"
   ]
  },
  {
   "cell_type": "markdown",
   "id": "e6a29243-663c-42cc-ae9e-bd6db6f32258",
   "metadata": {},
   "source": [
    "# Setup\n",
    "\n",
    "To call peaks, we'll need to install MACS2"
   ]
  },
  {
   "cell_type": "code",
   "execution_count": null,
   "id": "5905274d-2da6-4a67-b40c-79d9b6d7945e",
   "metadata": {},
   "outputs": [],
   "source": [
    "system(\"pip install --upgrade --force-reinstall MACS2\")"
   ]
  },
  {
   "cell_type": "markdown",
   "id": "778c921c-112c-4c95-a734-8f886b501b47",
   "metadata": {},
   "source": [
    "## Load packages\n",
    "\n",
    "hise: The Human Immune System Explorer R SDK package  \n",
    "dplyr: Dataframe handling functions   \n",
    "ArchR: scATAC-seq analysis  \n",
    "purrr: Functional programming tools  \n"
   ]
  },
  {
   "cell_type": "code",
   "execution_count": 7,
   "id": "d4b0c889-cc81-4412-8ebb-97545506db86",
   "metadata": {},
   "outputs": [],
   "source": [
    "quiet_library <- function(...) { suppressPackageStartupMessages(library(...)) }\n",
    "quiet_library(hise)\n",
    "quiet_library(dplyr)\n",
    "quiet_library(ArchR)\n",
    "quiet_library(BSgenome.Hsapiens.UCSC.hg38)\n",
    "quiet_library(purrr)"
   ]
  },
  {
   "cell_type": "markdown",
   "id": "73e4a3e7-cdd3-475e-a54a-cca61151e662",
   "metadata": {},
   "source": [
    "## Retrieve files\n",
    "\n",
    "Now, we'll use the HISE SDK package to retrieve the TEA-seq ArchR Projects based on their file UUIDs. These will be placed in the `cache/` subdirectory by default."
   ]
  },
  {
   "cell_type": "code",
   "execution_count": 140,
   "id": "f69e39ef-a0d8-4d09-9983-412c01fa3142",
   "metadata": {},
   "outputs": [],
   "source": [
    "atac_file_uuids <- list(\n",
    "    \"11235534-d09d-4c57-a648-20fb13317eab\",\n",
    "    \"2d1a00ca-f1f6-41c1-9691-f37916fad00c\",\n",
    "    \"365045be-e8a6-4a4d-9fe1-b31b7593799a\",\n",
    "    \"403e1064-34ea-4992-8752-6d1ddb9fb614\",\n",
    "    \"49d66578-bc16-4840-871c-25de96456f83\",\n",
    "    \"f1a32e62-d2e9-4052-b971-dd960d605d70\"\n",
    ")"
   ]
  },
  {
   "cell_type": "code",
   "execution_count": 3,
   "id": "4baa66f5-cfaa-40f8-bb35-864dcd041832",
   "metadata": {},
   "outputs": [
    {
     "name": "stdout",
     "output_type": "stream",
     "text": [
      "[1] \"Initiating file download for vrdtea_ArchR-t_cd4_cm_2023-10-02.tar\"\n",
      "[1] \"Download successful.\"\n",
      "[1] \"Initiating file download for vrdtea_ArchR-t_cd4_em_2023-10-02.tar\"\n",
      "[1] \"Download successful.\"\n",
      "[1] \"Initiating file download for vrdtea_ArchR-t_cd4_treg_2023-10-02.tar\"\n",
      "[1] \"Download successful.\"\n",
      "[1] \"Initiating file download for vrdtea_ArchR-t_cd4_naive_2023-10-02.tar\"\n",
      "[1] \"Download successful.\"\n",
      "[1] \"Initiating file download for vrdtea_ArchR-t_cd8_naive_2023-10-02.tar\"\n",
      "[1] \"Download successful.\"\n",
      "[1] \"Initiating file download for vrdtea_ArchR-t_cd8_memory_2023-10-02.tar\"\n",
      "[1] \"Download successful.\"\n"
     ]
    }
   ],
   "source": [
    "fres <- hise::cacheFiles(\n",
    "    atac_file_uuids\n",
    ")"
   ]
  },
  {
   "cell_type": "code",
   "execution_count": 4,
   "id": "965a99e0-62b0-40cb-800d-67711c9d0458",
   "metadata": {},
   "outputs": [],
   "source": [
    "atac_tar_files <- map(fres, \"filePath\")"
   ]
  },
  {
   "cell_type": "code",
   "execution_count": 6,
   "id": "fb395cf3-8cb3-4ebe-adcc-4bd2044cd2fd",
   "metadata": {},
   "outputs": [],
   "source": [
    "walk(\n",
    "    atac_tar_files,\n",
    "    function(tf) {\n",
    "        command <- paste(\"tar -xf\", tf)\n",
    "        system(command)\n",
    "    }\n",
    ")"
   ]
  },
  {
   "cell_type": "markdown",
   "id": "13308355-76ec-4c05-b824-862654b11a02",
   "metadata": {},
   "source": [
    "Note: un-tar-ing the files moves them to the `output` directory, based on their original filenames."
   ]
  },
  {
   "cell_type": "code",
   "execution_count": 2,
   "id": "50c0ca2f-5bee-444b-aa27-afe03dff4bb8",
   "metadata": {},
   "outputs": [],
   "source": [
    "type_paths <- list.files(\n",
    "    \"output\",\n",
    "    full.names = TRUE\n",
    ")"
   ]
  },
  {
   "cell_type": "code",
   "execution_count": 3,
   "id": "b672b16f-98b2-424d-b478-8530df307fb0",
   "metadata": {},
   "outputs": [
    {
     "data": {
      "text/html": [
       "<style>\n",
       ".list-inline {list-style: none; margin:0; padding: 0}\n",
       ".list-inline>li {display: inline-block}\n",
       ".list-inline>li:not(:last-child)::after {content: \"\\00b7\"; padding: 0 .5ex}\n",
       "</style>\n",
       "<ol class=list-inline><li>'t_cd4_cm'</li><li>'t_cd4_em'</li><li>'t_cd4_naive'</li><li>'t_cd4_treg'</li><li>'t_cd8_memory'</li><li>'t_cd8_naive'</li></ol>\n"
      ],
      "text/latex": [
       "\\begin{enumerate*}\n",
       "\\item 't\\_cd4\\_cm'\n",
       "\\item 't\\_cd4\\_em'\n",
       "\\item 't\\_cd4\\_naive'\n",
       "\\item 't\\_cd4\\_treg'\n",
       "\\item 't\\_cd8\\_memory'\n",
       "\\item 't\\_cd8\\_naive'\n",
       "\\end{enumerate*}\n"
      ],
      "text/markdown": [
       "1. 't_cd4_cm'\n",
       "2. 't_cd4_em'\n",
       "3. 't_cd4_naive'\n",
       "4. 't_cd4_treg'\n",
       "5. 't_cd8_memory'\n",
       "6. 't_cd8_naive'\n",
       "\n",
       "\n"
      ],
      "text/plain": [
       "[1] \"t_cd4_cm\"     \"t_cd4_em\"     \"t_cd4_naive\"  \"t_cd4_treg\"   \"t_cd8_memory\"\n",
       "[6] \"t_cd8_naive\" "
      ]
     },
     "metadata": {},
     "output_type": "display_data"
    }
   ],
   "source": [
    "cell_types <- sub(\".+-(.+)_20.+\", \"\\\\1\", type_paths)\n",
    "cell_types"
   ]
  },
  {
   "cell_type": "code",
   "execution_count": 4,
   "id": "899aed64-302f-4d91-81b4-ed9c4254c4d2",
   "metadata": {},
   "outputs": [
    {
     "name": "stderr",
     "output_type": "stream",
     "text": [
      "Successfully loaded ArchRProject!\n",
      "\n",
      "Successfully loaded ArchRProject!\n",
      "\n",
      "Successfully loaded ArchRProject!\n",
      "\n",
      "Successfully loaded ArchRProject!\n",
      "\n",
      "Successfully loaded ArchRProject!\n",
      "\n",
      "Successfully loaded ArchRProject!\n",
      "\n"
     ]
    }
   ],
   "source": [
    "type_proj <- map(\n",
    "    type_paths,\n",
    "    loadArchRProject,\n",
    "    showLogo = FALSE\n",
    ")\n",
    "names(type_proj) <- cell_types"
   ]
  },
  {
   "cell_type": "markdown",
   "id": "8a747d7c-b327-47de-bf62-dc1e14a9edf3",
   "metadata": {},
   "source": [
    "# Run analysis per cell type"
   ]
  },
  {
   "cell_type": "markdown",
   "id": "a9d5638a-a233-48bc-85b0-f749733b0ec3",
   "metadata": {},
   "source": [
    "## Peak calling and annotation"
   ]
  },
  {
   "cell_type": "code",
   "execution_count": 5,
   "id": "63a97490-bd3c-40db-a871-afdd7e14d385",
   "metadata": {},
   "outputs": [
    {
     "name": "stderr",
     "output_type": "stream",
     "text": [
      "Setting addArchRVerbose = FALSE\n",
      "\n",
      "Setting default number of Parallel threads to 14.\n",
      "\n",
      "Setting default genome to Hg38.\n",
      "\n"
     ]
    }
   ],
   "source": [
    "addArchRVerbose(verbose = FALSE)\n",
    "addArchRThreads(14)\n",
    "addArchRGenome(\"hg38\")"
   ]
  },
  {
   "cell_type": "code",
   "execution_count": 8,
   "id": "f738ac6e-2960-4bea-9308-70c83b70833d",
   "metadata": {
    "scrolled": true
   },
   "outputs": [
    {
     "name": "stderr",
     "output_type": "stream",
     "text": [
      "Adding coverage\n",
      "\n",
      "Adding peak set\n",
      "\n",
      "Searching For MACS2..\n",
      "\n",
      "Found with $path!\n",
      "\n"
     ]
    },
    {
     "name": "stdout",
     "output_type": "stream",
     "text": [
      "                                            Group nCells nCellsUsed nReplicates\n",
      "EXP-00454-P1_PC02184-049 EXP-00454-P1_PC02184-049   4614        540           2\n",
      "EXP-00454-P1_PC02184-048 EXP-00454-P1_PC02184-048   2679        540           2\n",
      "EXP-00454-P1_PC02184-047 EXP-00454-P1_PC02184-047   3562        540           2\n",
      "EXP-00454-P1_PC02184-046 EXP-00454-P1_PC02184-046   1372        540           2\n",
      "EXP-00454-P1_PC02184-045 EXP-00454-P1_PC02184-045   7124        540           2\n",
      "EXP-00454-P1_PC02184-044 EXP-00454-P1_PC02184-044   5262        540           2\n",
      "EXP-00454-P1_PC02184-043 EXP-00454-P1_PC02184-043   4371        540           2\n",
      "EXP-00454-P1_PC02184-042 EXP-00454-P1_PC02184-042   2742        540           2\n",
      "EXP-00454-P1_PC02184-041 EXP-00454-P1_PC02184-041    981        540           2\n",
      "EXP-00454-P1_PC02184-040 EXP-00454-P1_PC02184-040    648        540           2\n",
      "EXP-00454-P1_PC02184-039 EXP-00454-P1_PC02184-039    685        540           2\n",
      "EXP-00454-P1_PC02184-038 EXP-00454-P1_PC02184-038   1583        540           2\n",
      "                         nMin nMax maxPeaks\n",
      "EXP-00454-P1_PC02184-049   40  500   150000\n",
      "EXP-00454-P1_PC02184-048   40  500   150000\n",
      "EXP-00454-P1_PC02184-047   40  500   150000\n",
      "EXP-00454-P1_PC02184-046   40  500   150000\n",
      "EXP-00454-P1_PC02184-045   40  500   150000\n",
      "EXP-00454-P1_PC02184-044   40  500   150000\n",
      "EXP-00454-P1_PC02184-043   40  500   150000\n",
      "EXP-00454-P1_PC02184-042   40  500   150000\n",
      "EXP-00454-P1_PC02184-041   40  500   150000\n",
      "EXP-00454-P1_PC02184-040   40  500   150000\n",
      "EXP-00454-P1_PC02184-039   40  500   150000\n",
      "EXP-00454-P1_PC02184-038   40  500   150000\n"
     ]
    },
    {
     "name": "stderr",
     "output_type": "stream",
     "text": [
      "Converged after 5 iterations!\n",
      "\n",
      "Adding peak matrix\n",
      "\n",
      "Adding Peak Annotations\n",
      "\n",
      "Using version 2 motifs!\n",
      "\n",
      "Saving ArchRProject...\n",
      "\n",
      "Loading ArchRProject...\n",
      "\n",
      "Successfully loaded ArchRProject!\n",
      "\n",
      "\n",
      "                                                   / |\n",
      "                                                 /    \\\n",
      "            .                                  /      |.\n",
      "            \\\\\\                              /        |.\n",
      "              \\\\\\                          /           `|.\n",
      "                \\\\\\                      /              |.\n",
      "                  \\                    /                |\\\n",
      "                  \\\\#####\\           /                  ||\n",
      "                ==###########>      /                   ||\n",
      "                 \\\\##==......\\    /                     ||\n",
      "            ______ =       =|__ /__                     ||      \\\\\\\n",
      "        ,--' ,----`-,__ ___/'  --,-`-===================##========>\n",
      "       \\               '        ##_______ _____ ,--,__,=##,__   ///\n",
      "        ,    __==    ___,-,__,--'#'  ==='      `-'    | ##,-/\n",
      "        -,____,---'       \\\\####\\\\________________,--\\\\_##,/\n",
      "           ___      .______        ______  __    __  .______      \n",
      "          /   \\     |   _  \\      /      ||  |  |  | |   _  \\     \n",
      "         /  ^  \\    |  |_)  |    |  ,----'|  |__|  | |  |_)  |    \n",
      "        /  /_\\  \\   |      /     |  |     |   __   | |      /     \n",
      "       /  _____  \\  |  |\\  \\\\___ |  `----.|  |  |  | |  |\\  \\\\___.\n",
      "      /__/     \\__\\ | _| `._____| \\______||__|  |__| | _| `._____|\n",
      "    \n",
      "\n",
      "Adding coverage\n",
      "\n",
      "Adding peak set\n",
      "\n",
      "Searching For MACS2..\n",
      "\n",
      "Found with $path!\n",
      "\n"
     ]
    },
    {
     "name": "stdout",
     "output_type": "stream",
     "text": [
      "                                            Group nCells nCellsUsed nReplicates\n",
      "EXP-00454-P1_PC02184-049 EXP-00454-P1_PC02184-049   1481        540           2\n",
      "EXP-00454-P1_PC02184-048 EXP-00454-P1_PC02184-048    819        540           2\n",
      "EXP-00454-P1_PC02184-047 EXP-00454-P1_PC02184-047   1214        540           2\n",
      "EXP-00454-P1_PC02184-046 EXP-00454-P1_PC02184-046    479        479           2\n",
      "EXP-00454-P1_PC02184-045 EXP-00454-P1_PC02184-045   2097        540           2\n",
      "EXP-00454-P1_PC02184-044 EXP-00454-P1_PC02184-044   1812        540           2\n",
      "EXP-00454-P1_PC02184-043 EXP-00454-P1_PC02184-043   1419        540           2\n",
      "EXP-00454-P1_PC02184-042 EXP-00454-P1_PC02184-042    894        540           2\n",
      "EXP-00454-P1_PC02184-041 EXP-00454-P1_PC02184-041    401        401           2\n",
      "EXP-00454-P1_PC02184-040 EXP-00454-P1_PC02184-040    180        180           2\n",
      "EXP-00454-P1_PC02184-039 EXP-00454-P1_PC02184-039    657        540           2\n",
      "EXP-00454-P1_PC02184-038 EXP-00454-P1_PC02184-038    578        540           2\n",
      "                         nMin nMax maxPeaks\n",
      "EXP-00454-P1_PC02184-049   40  500   150000\n",
      "EXP-00454-P1_PC02184-048   40  500   150000\n",
      "EXP-00454-P1_PC02184-047   40  500   150000\n",
      "EXP-00454-P1_PC02184-046   40  439   150000\n",
      "EXP-00454-P1_PC02184-045   40  500   150000\n",
      "EXP-00454-P1_PC02184-044   40  500   150000\n",
      "EXP-00454-P1_PC02184-043   40  500   150000\n",
      "EXP-00454-P1_PC02184-042   40  500   150000\n",
      "EXP-00454-P1_PC02184-041   40  361   150000\n",
      "EXP-00454-P1_PC02184-040   40  140    90000\n",
      "EXP-00454-P1_PC02184-039   40  500   150000\n",
      "EXP-00454-P1_PC02184-038   40  500   150000\n"
     ]
    },
    {
     "name": "stderr",
     "output_type": "stream",
     "text": [
      "Converged after 6 iterations!\n",
      "\n",
      "Adding peak matrix\n",
      "\n",
      "Adding Peak Annotations\n",
      "\n",
      "Using version 2 motifs!\n",
      "\n",
      "Saving ArchRProject...\n",
      "\n",
      "Loading ArchRProject...\n",
      "\n",
      "Successfully loaded ArchRProject!\n",
      "\n",
      "\n",
      "                                                   / |\n",
      "                                                 /    \\\n",
      "            .                                  /      |.\n",
      "            \\\\\\                              /        |.\n",
      "              \\\\\\                          /           `|.\n",
      "                \\\\\\                      /              |.\n",
      "                  \\                    /                |\\\n",
      "                  \\\\#####\\           /                  ||\n",
      "                ==###########>      /                   ||\n",
      "                 \\\\##==......\\    /                     ||\n",
      "            ______ =       =|__ /__                     ||      \\\\\\\n",
      "        ,--' ,----`-,__ ___/'  --,-`-===================##========>\n",
      "       \\               '        ##_______ _____ ,--,__,=##,__   ///\n",
      "        ,    __==    ___,-,__,--'#'  ==='      `-'    | ##,-/\n",
      "        -,____,---'       \\\\####\\\\________________,--\\\\_##,/\n",
      "           ___      .______        ______  __    __  .______      \n",
      "          /   \\     |   _  \\      /      ||  |  |  | |   _  \\     \n",
      "         /  ^  \\    |  |_)  |    |  ,----'|  |__|  | |  |_)  |    \n",
      "        /  /_\\  \\   |      /     |  |     |   __   | |      /     \n",
      "       /  _____  \\  |  |\\  \\\\___ |  `----.|  |  |  | |  |\\  \\\\___.\n",
      "      /__/     \\__\\ | _| `._____| \\______||__|  |__| | _| `._____|\n",
      "    \n",
      "\n",
      "Adding coverage\n",
      "\n",
      "Adding peak set\n",
      "\n",
      "Searching For MACS2..\n",
      "\n",
      "Found with $path!\n",
      "\n"
     ]
    },
    {
     "name": "stdout",
     "output_type": "stream",
     "text": [
      "                                            Group nCells nCellsUsed nReplicates\n",
      "EXP-00454-P1_PC02184-049 EXP-00454-P1_PC02184-049   6876        540           2\n",
      "EXP-00454-P1_PC02184-048 EXP-00454-P1_PC02184-048   4420        540           2\n",
      "EXP-00454-P1_PC02184-047 EXP-00454-P1_PC02184-047   5953        540           2\n",
      "EXP-00454-P1_PC02184-046 EXP-00454-P1_PC02184-046   2296        540           2\n",
      "EXP-00454-P1_PC02184-045 EXP-00454-P1_PC02184-045  10717        540           2\n",
      "EXP-00454-P1_PC02184-044 EXP-00454-P1_PC02184-044   9299        540           2\n",
      "EXP-00454-P1_PC02184-043 EXP-00454-P1_PC02184-043   6974        540           2\n",
      "EXP-00454-P1_PC02184-042 EXP-00454-P1_PC02184-042   4733        540           2\n",
      "EXP-00454-P1_PC02184-041 EXP-00454-P1_PC02184-041   1739        540           2\n",
      "EXP-00454-P1_PC02184-040 EXP-00454-P1_PC02184-040   1352        540           2\n",
      "EXP-00454-P1_PC02184-039 EXP-00454-P1_PC02184-039   2483        540           2\n",
      "EXP-00454-P1_PC02184-038 EXP-00454-P1_PC02184-038   3059        540           2\n",
      "                         nMin nMax maxPeaks\n",
      "EXP-00454-P1_PC02184-049   40  500   150000\n",
      "EXP-00454-P1_PC02184-048   40  500   150000\n",
      "EXP-00454-P1_PC02184-047   40  500   150000\n",
      "EXP-00454-P1_PC02184-046   40  500   150000\n",
      "EXP-00454-P1_PC02184-045   40  500   150000\n",
      "EXP-00454-P1_PC02184-044   40  500   150000\n",
      "EXP-00454-P1_PC02184-043   40  500   150000\n",
      "EXP-00454-P1_PC02184-042   40  500   150000\n",
      "EXP-00454-P1_PC02184-041   40  500   150000\n",
      "EXP-00454-P1_PC02184-040   40  500   150000\n",
      "EXP-00454-P1_PC02184-039   40  500   150000\n",
      "EXP-00454-P1_PC02184-038   40  500   150000\n"
     ]
    },
    {
     "name": "stderr",
     "output_type": "stream",
     "text": [
      "Converged after 5 iterations!\n",
      "\n",
      "Adding peak matrix\n",
      "\n",
      "Adding Peak Annotations\n",
      "\n",
      "Using version 2 motifs!\n",
      "\n",
      "Saving ArchRProject...\n",
      "\n",
      "Loading ArchRProject...\n",
      "\n",
      "Successfully loaded ArchRProject!\n",
      "\n",
      "\n",
      "                                                   / |\n",
      "                                                 /    \\\n",
      "            .                                  /      |.\n",
      "            \\\\\\                              /        |.\n",
      "              \\\\\\                          /           `|.\n",
      "                \\\\\\                      /              |.\n",
      "                  \\                    /                |\\\n",
      "                  \\\\#####\\           /                  ||\n",
      "                ==###########>      /                   ||\n",
      "                 \\\\##==......\\    /                     ||\n",
      "            ______ =       =|__ /__                     ||      \\\\\\\n",
      "        ,--' ,----`-,__ ___/'  --,-`-===================##========>\n",
      "       \\               '        ##_______ _____ ,--,__,=##,__   ///\n",
      "        ,    __==    ___,-,__,--'#'  ==='      `-'    | ##,-/\n",
      "        -,____,---'       \\\\####\\\\________________,--\\\\_##,/\n",
      "           ___      .______        ______  __    __  .______      \n",
      "          /   \\     |   _  \\      /      ||  |  |  | |   _  \\     \n",
      "         /  ^  \\    |  |_)  |    |  ,----'|  |__|  | |  |_)  |    \n",
      "        /  /_\\  \\   |      /     |  |     |   __   | |      /     \n",
      "       /  _____  \\  |  |\\  \\\\___ |  `----.|  |  |  | |  |\\  \\\\___.\n",
      "      /__/     \\__\\ | _| `._____| \\______||__|  |__| | _| `._____|\n",
      "    \n",
      "\n",
      "Adding coverage\n",
      "\n",
      "Adding peak set\n",
      "\n",
      "Searching For MACS2..\n",
      "\n",
      "Found with $path!\n",
      "\n"
     ]
    },
    {
     "name": "stdout",
     "output_type": "stream",
     "text": [
      "                                            Group nCells nCellsUsed nReplicates\n",
      "EXP-00454-P1_PC02184-049 EXP-00454-P1_PC02184-049   1121        540           2\n",
      "EXP-00454-P1_PC02184-048 EXP-00454-P1_PC02184-048    567        540           2\n",
      "EXP-00454-P1_PC02184-047 EXP-00454-P1_PC02184-047    774        540           2\n",
      "EXP-00454-P1_PC02184-046 EXP-00454-P1_PC02184-046    275        275           2\n",
      "EXP-00454-P1_PC02184-045 EXP-00454-P1_PC02184-045   1271        540           2\n",
      "EXP-00454-P1_PC02184-044 EXP-00454-P1_PC02184-044   1022        540           2\n",
      "EXP-00454-P1_PC02184-043 EXP-00454-P1_PC02184-043    712        540           2\n",
      "EXP-00454-P1_PC02184-042 EXP-00454-P1_PC02184-042    516        516           2\n",
      "EXP-00454-P1_PC02184-041 EXP-00454-P1_PC02184-041    210        210           2\n",
      "EXP-00454-P1_PC02184-040 EXP-00454-P1_PC02184-040    126        126           2\n",
      "EXP-00454-P1_PC02184-039 EXP-00454-P1_PC02184-039     78         65           2\n",
      "EXP-00454-P1_PC02184-038 EXP-00454-P1_PC02184-038    319        319           2\n",
      "                         nMin nMax maxPeaks\n",
      "EXP-00454-P1_PC02184-049   40  500   150000\n",
      "EXP-00454-P1_PC02184-048   40  500   150000\n",
      "EXP-00454-P1_PC02184-047   40  500   150000\n",
      "EXP-00454-P1_PC02184-046   40  235   137500\n",
      "EXP-00454-P1_PC02184-045   40  500   150000\n",
      "EXP-00454-P1_PC02184-044   40  500   150000\n",
      "EXP-00454-P1_PC02184-043   40  500   150000\n",
      "EXP-00454-P1_PC02184-042   40  476   150000\n",
      "EXP-00454-P1_PC02184-041   40  170   105000\n",
      "EXP-00454-P1_PC02184-040   40   86    63000\n",
      "EXP-00454-P1_PC02184-039   40   40    32500\n",
      "EXP-00454-P1_PC02184-038   40  279   150000\n"
     ]
    },
    {
     "name": "stderr",
     "output_type": "stream",
     "text": [
      "Converged after 5 iterations!\n",
      "\n",
      "Adding peak matrix\n",
      "\n",
      "Adding Peak Annotations\n",
      "\n",
      "Using version 2 motifs!\n",
      "\n",
      "Saving ArchRProject...\n",
      "\n",
      "Loading ArchRProject...\n",
      "\n",
      "Successfully loaded ArchRProject!\n",
      "\n",
      "\n",
      "                                                   / |\n",
      "                                                 /    \\\n",
      "            .                                  /      |.\n",
      "            \\\\\\                              /        |.\n",
      "              \\\\\\                          /           `|.\n",
      "                \\\\\\                      /              |.\n",
      "                  \\                    /                |\\\n",
      "                  \\\\#####\\           /                  ||\n",
      "                ==###########>      /                   ||\n",
      "                 \\\\##==......\\    /                     ||\n",
      "            ______ =       =|__ /__                     ||      \\\\\\\n",
      "        ,--' ,----`-,__ ___/'  --,-`-===================##========>\n",
      "       \\               '        ##_______ _____ ,--,__,=##,__   ///\n",
      "        ,    __==    ___,-,__,--'#'  ==='      `-'    | ##,-/\n",
      "        -,____,---'       \\\\####\\\\________________,--\\\\_##,/\n",
      "           ___      .______        ______  __    __  .______      \n",
      "          /   \\     |   _  \\      /      ||  |  |  | |   _  \\     \n",
      "         /  ^  \\    |  |_)  |    |  ,----'|  |__|  | |  |_)  |    \n",
      "        /  /_\\  \\   |      /     |  |     |   __   | |      /     \n",
      "       /  _____  \\  |  |\\  \\\\___ |  `----.|  |  |  | |  |\\  \\\\___.\n",
      "      /__/     \\__\\ | _| `._____| \\______||__|  |__| | _| `._____|\n",
      "    \n",
      "\n",
      "Adding coverage\n",
      "\n",
      "Adding peak set\n",
      "\n",
      "Searching For MACS2..\n",
      "\n",
      "Found with $path!\n",
      "\n"
     ]
    },
    {
     "name": "stdout",
     "output_type": "stream",
     "text": [
      "                                            Group nCells nCellsUsed nReplicates\n",
      "EXP-00454-P1_PC02184-049 EXP-00454-P1_PC02184-049   2261        540           2\n",
      "EXP-00454-P1_PC02184-048 EXP-00454-P1_PC02184-048    886        540           2\n",
      "EXP-00454-P1_PC02184-047 EXP-00454-P1_PC02184-047   1231        540           2\n",
      "EXP-00454-P1_PC02184-046 EXP-00454-P1_PC02184-046    460        460           2\n",
      "EXP-00454-P1_PC02184-045 EXP-00454-P1_PC02184-045   2472        540           2\n",
      "EXP-00454-P1_PC02184-044 EXP-00454-P1_PC02184-044   1793        540           2\n",
      "EXP-00454-P1_PC02184-043 EXP-00454-P1_PC02184-043   1371        540           2\n",
      "EXP-00454-P1_PC02184-042 EXP-00454-P1_PC02184-042    832        540           2\n",
      "EXP-00454-P1_PC02184-041 EXP-00454-P1_PC02184-041    328        328           2\n",
      "EXP-00454-P1_PC02184-040 EXP-00454-P1_PC02184-040    163        163           2\n",
      "EXP-00454-P1_PC02184-039 EXP-00454-P1_PC02184-039    200        200           2\n",
      "EXP-00454-P1_PC02184-038 EXP-00454-P1_PC02184-038    513        513           2\n",
      "                         nMin nMax maxPeaks\n",
      "EXP-00454-P1_PC02184-049   40  500   150000\n",
      "EXP-00454-P1_PC02184-048   40  500   150000\n",
      "EXP-00454-P1_PC02184-047   40  500   150000\n",
      "EXP-00454-P1_PC02184-046   40  420   150000\n",
      "EXP-00454-P1_PC02184-045   40  500   150000\n",
      "EXP-00454-P1_PC02184-044   40  500   150000\n",
      "EXP-00454-P1_PC02184-043   40  500   150000\n",
      "EXP-00454-P1_PC02184-042   40  500   150000\n",
      "EXP-00454-P1_PC02184-041   40  288   150000\n",
      "EXP-00454-P1_PC02184-040   40  123    81500\n",
      "EXP-00454-P1_PC02184-039   40  160   100000\n",
      "EXP-00454-P1_PC02184-038   40  473   150000\n"
     ]
    },
    {
     "name": "stderr",
     "output_type": "stream",
     "text": [
      "Converged after 5 iterations!\n",
      "\n",
      "Adding peak matrix\n",
      "\n",
      "Adding Peak Annotations\n",
      "\n",
      "Using version 2 motifs!\n",
      "\n",
      "Saving ArchRProject...\n",
      "\n",
      "Loading ArchRProject...\n",
      "\n",
      "Successfully loaded ArchRProject!\n",
      "\n",
      "\n",
      "                                                   / |\n",
      "                                                 /    \\\n",
      "            .                                  /      |.\n",
      "            \\\\\\                              /        |.\n",
      "              \\\\\\                          /           `|.\n",
      "                \\\\\\                      /              |.\n",
      "                  \\                    /                |\\\n",
      "                  \\\\#####\\           /                  ||\n",
      "                ==###########>      /                   ||\n",
      "                 \\\\##==......\\    /                     ||\n",
      "            ______ =       =|__ /__                     ||      \\\\\\\n",
      "        ,--' ,----`-,__ ___/'  --,-`-===================##========>\n",
      "       \\               '        ##_______ _____ ,--,__,=##,__   ///\n",
      "        ,    __==    ___,-,__,--'#'  ==='      `-'    | ##,-/\n",
      "        -,____,---'       \\\\####\\\\________________,--\\\\_##,/\n",
      "           ___      .______        ______  __    __  .______      \n",
      "          /   \\     |   _  \\      /      ||  |  |  | |   _  \\     \n",
      "         /  ^  \\    |  |_)  |    |  ,----'|  |__|  | |  |_)  |    \n",
      "        /  /_\\  \\   |      /     |  |     |   __   | |      /     \n",
      "       /  _____  \\  |  |\\  \\\\___ |  `----.|  |  |  | |  |\\  \\\\___.\n",
      "      /__/     \\__\\ | _| `._____| \\______||__|  |__| | _| `._____|\n",
      "    \n",
      "\n",
      "Adding coverage\n",
      "\n",
      "Adding peak set\n",
      "\n",
      "Searching For MACS2..\n",
      "\n",
      "Found with $path!\n",
      "\n"
     ]
    },
    {
     "name": "stdout",
     "output_type": "stream",
     "text": [
      "                                            Group nCells nCellsUsed nReplicates\n",
      "EXP-00454-P1_PC02184-049 EXP-00454-P1_PC02184-049   2456        540           2\n",
      "EXP-00454-P1_PC02184-048 EXP-00454-P1_PC02184-048   1448        540           2\n",
      "EXP-00454-P1_PC02184-047 EXP-00454-P1_PC02184-047   1945        540           2\n",
      "EXP-00454-P1_PC02184-046 EXP-00454-P1_PC02184-046    856        540           2\n",
      "EXP-00454-P1_PC02184-045 EXP-00454-P1_PC02184-045   3672        540           2\n",
      "EXP-00454-P1_PC02184-044 EXP-00454-P1_PC02184-044   2989        540           2\n",
      "EXP-00454-P1_PC02184-043 EXP-00454-P1_PC02184-043   2292        540           2\n",
      "EXP-00454-P1_PC02184-042 EXP-00454-P1_PC02184-042   1786        540           2\n",
      "EXP-00454-P1_PC02184-041 EXP-00454-P1_PC02184-041    601        540           2\n",
      "EXP-00454-P1_PC02184-040 EXP-00454-P1_PC02184-040    451        451           2\n",
      "EXP-00454-P1_PC02184-039 EXP-00454-P1_PC02184-039    755        540           2\n",
      "EXP-00454-P1_PC02184-038 EXP-00454-P1_PC02184-038   1107        540           2\n",
      "                         nMin nMax maxPeaks\n",
      "EXP-00454-P1_PC02184-049   40  500   150000\n",
      "EXP-00454-P1_PC02184-048   40  500   150000\n",
      "EXP-00454-P1_PC02184-047   40  500   150000\n",
      "EXP-00454-P1_PC02184-046   40  500   150000\n",
      "EXP-00454-P1_PC02184-045   40  500   150000\n",
      "EXP-00454-P1_PC02184-044   40  500   150000\n",
      "EXP-00454-P1_PC02184-043   40  500   150000\n",
      "EXP-00454-P1_PC02184-042   40  500   150000\n",
      "EXP-00454-P1_PC02184-041   40  500   150000\n",
      "EXP-00454-P1_PC02184-040   40  411   150000\n",
      "EXP-00454-P1_PC02184-039   40  500   150000\n",
      "EXP-00454-P1_PC02184-038   40  500   150000\n"
     ]
    },
    {
     "name": "stderr",
     "output_type": "stream",
     "text": [
      "Converged after 5 iterations!\n",
      "\n",
      "Adding peak matrix\n",
      "\n",
      "Adding Peak Annotations\n",
      "\n",
      "Using version 2 motifs!\n",
      "\n",
      "Saving ArchRProject...\n",
      "\n",
      "Loading ArchRProject...\n",
      "\n",
      "Successfully loaded ArchRProject!\n",
      "\n",
      "\n",
      "                                                   / |\n",
      "                                                 /    \\\n",
      "            .                                  /      |.\n",
      "            \\\\\\                              /        |.\n",
      "              \\\\\\                          /           `|.\n",
      "                \\\\\\                      /              |.\n",
      "                  \\                    /                |\\\n",
      "                  \\\\#####\\           /                  ||\n",
      "                ==###########>      /                   ||\n",
      "                 \\\\##==......\\    /                     ||\n",
      "            ______ =       =|__ /__                     ||      \\\\\\\n",
      "        ,--' ,----`-,__ ___/'  --,-`-===================##========>\n",
      "       \\               '        ##_______ _____ ,--,__,=##,__   ///\n",
      "        ,    __==    ___,-,__,--'#'  ==='      `-'    | ##,-/\n",
      "        -,____,---'       \\\\####\\\\________________,--\\\\_##,/\n",
      "           ___      .______        ______  __    __  .______      \n",
      "          /   \\     |   _  \\      /      ||  |  |  | |   _  \\     \n",
      "         /  ^  \\    |  |_)  |    |  ,----'|  |__|  | |  |_)  |    \n",
      "        /  /_\\  \\   |      /     |  |     |   __   | |      /     \n",
      "       /  _____  \\  |  |\\  \\\\___ |  `----.|  |  |  | |  |\\  \\\\___.\n",
      "      /__/     \\__\\ | _| `._____| \\______||__|  |__| | _| `._____|\n",
      "    \n",
      "\n"
     ]
    }
   ],
   "source": [
    "type_proj <- map(\n",
    "    type_proj,\n",
    "    function(proj) {\n",
    "        message(\"Adding coverage\")\n",
    "        proj <- addGroupCoverages(proj, groupBy = \"Sample\", force = TRUE)\n",
    "        message(\"Adding peak set\")\n",
    "        proj <- addReproduciblePeakSet(proj, groupBy = \"Sample\", force = TRUE)\n",
    "        message(\"Adding peak matrix\")\n",
    "        proj <- addPeakMatrix(proj, force = TRUE)\n",
    "        message(\"Adding Peak Annotations\")\n",
    "        proj <- addMotifAnnotations(\n",
    "            proj, \n",
    "            motifSet = \"cisbp\", \n",
    "            name = \"Motif\",\n",
    "            force = TRUE\n",
    "        )\n",
    "        proj <- saveArchRProject(proj)\n",
    "    }\n",
    ")"
   ]
  },
  {
   "cell_type": "markdown",
   "id": "01e8c91f-b2ce-417a-b34c-4ad7e091afa4",
   "metadata": {},
   "source": [
    "Extract and output peaks and annotations matrix for downstream use"
   ]
  },
  {
   "cell_type": "code",
   "execution_count": 40,
   "id": "9f7a397e-f5f2-4c92-87b4-a79cfc2fabe8",
   "metadata": {},
   "outputs": [],
   "source": [
    "type_peak_gr <- map(\n",
    "    type_proj,\n",
    "    getPeakSet\n",
    ")"
   ]
  },
  {
   "cell_type": "code",
   "execution_count": 47,
   "id": "41ea2d5d-6436-4147-b979-f78b44725d69",
   "metadata": {},
   "outputs": [
    {
     "name": "stderr",
     "output_type": "stream",
     "text": [
      "Warning message in dir.create(\"output\"):\n",
      "“'output' already exists”\n"
     ]
    }
   ],
   "source": [
    "dir.create(\"output\")"
   ]
  },
  {
   "cell_type": "code",
   "execution_count": 48,
   "id": "cfb6cf2f-9927-440c-8b3b-13cc284aebe2",
   "metadata": {},
   "outputs": [],
   "source": [
    "peak_output_files <- paste0(\n",
    "    \"output/peak_GRanges-\",\n",
    "    cell_types,\n",
    "    \"_\", Sys.Date(),\n",
    "    \".rds\")"
   ]
  },
  {
   "cell_type": "code",
   "execution_count": 50,
   "id": "6385baa0-b6e7-490c-8cf3-1b5a1368c1ca",
   "metadata": {},
   "outputs": [],
   "source": [
    "walk2(\n",
    "    type_peak_gr,\n",
    "    peak_output_files,\n",
    "    saveRDS\n",
    ")"
   ]
  },
  {
   "cell_type": "code",
   "execution_count": 45,
   "id": "a16c8801-4626-4719-8c5d-874cd8dde141",
   "metadata": {},
   "outputs": [],
   "source": [
    "type_motif_mat <- map(\n",
    "    type_proj,\n",
    "    function(proj) {\n",
    "        anno <- getPeakAnnotation(proj)\n",
    "        matches <- readRDS(anno$Matches)\n",
    "        assays(matches)$matches\n",
    "    }\n",
    ")"
   ]
  },
  {
   "cell_type": "code",
   "execution_count": 51,
   "id": "4c4937ff-3818-4454-865d-5d973b50541d",
   "metadata": {},
   "outputs": [],
   "source": [
    "motif_mat_output_files <- paste0(\n",
    "    \"output/peak_motif_matches-\",\n",
    "    cell_types,\n",
    "    \"_\", Sys.Date(),\n",
    "    \".rds\")"
   ]
  },
  {
   "cell_type": "code",
   "execution_count": 52,
   "id": "82cd4cf7-b24d-41f4-a4cd-5bd6ac72c37c",
   "metadata": {},
   "outputs": [],
   "source": [
    "walk2(\n",
    "    type_motif_mat,\n",
    "    motif_mat_output_files,\n",
    "    saveRDS\n",
    ")"
   ]
  },
  {
   "cell_type": "markdown",
   "id": "70647896-e27c-4944-bf47-b44a7586a79d",
   "metadata": {},
   "source": [
    "### Upload to HISE"
   ]
  },
  {
   "cell_type": "code",
   "execution_count": 23,
   "id": "c5040fd3-92e8-4028-b762-af9221680d25",
   "metadata": {},
   "outputs": [],
   "source": [
    "study_space_uuid <- \"40df6403-29f0-4b45-ab7d-f46d420c422e\"\n",
    "title <- paste(\"VRd TEA-seq T Cell Type Peaks and Motifs\", Sys.Date())"
   ]
  },
  {
   "cell_type": "code",
   "execution_count": 24,
   "id": "109adfbb-1aab-44e7-970d-e8314d4581ae",
   "metadata": {},
   "outputs": [],
   "source": [
    "out_list <- as.list(c(peak_output_files, motif_mat_output_files))"
   ]
  },
  {
   "cell_type": "code",
   "execution_count": 27,
   "id": "f8c2a8fd-a902-4320-b7cf-e8d22f7b00ef",
   "metadata": {},
   "outputs": [
    {
     "data": {
      "text/html": [
       "<dl>\n",
       "\t<dt>$files</dt>\n",
       "\t\t<dd><ol>\n",
       "\t<li>'output/vrdtea_ArchR-t_cd4_cm_2023-10-02.tar'</li>\n",
       "\t<li>'output/vrdtea_ArchR-t_cd4_em_2023-10-02.tar'</li>\n",
       "\t<li>'output/vrdtea_ArchR-t_cd4_naive_2023-10-02.tar'</li>\n",
       "\t<li>'output/vrdtea_ArchR-t_cd4_treg_2023-10-02.tar'</li>\n",
       "\t<li>'output/vrdtea_ArchR-t_cd8_memory_2023-10-02.tar'</li>\n",
       "\t<li>'output/vrdtea_ArchR-t_cd8_naive_2023-10-02.tar'</li>\n",
       "</ol>\n",
       "</dd>\n",
       "\t<dt>$traceId</dt>\n",
       "\t\t<dd>'ba13262d-5c55-472c-9de2-7904fc3d9632'</dd>\n",
       "</dl>\n"
      ],
      "text/latex": [
       "\\begin{description}\n",
       "\\item[\\$files] \\begin{enumerate}\n",
       "\\item 'output/vrdtea\\_ArchR-t\\_cd4\\_cm\\_2023-10-02.tar'\n",
       "\\item 'output/vrdtea\\_ArchR-t\\_cd4\\_em\\_2023-10-02.tar'\n",
       "\\item 'output/vrdtea\\_ArchR-t\\_cd4\\_naive\\_2023-10-02.tar'\n",
       "\\item 'output/vrdtea\\_ArchR-t\\_cd4\\_treg\\_2023-10-02.tar'\n",
       "\\item 'output/vrdtea\\_ArchR-t\\_cd8\\_memory\\_2023-10-02.tar'\n",
       "\\item 'output/vrdtea\\_ArchR-t\\_cd8\\_naive\\_2023-10-02.tar'\n",
       "\\end{enumerate}\n",
       "\n",
       "\\item[\\$traceId] 'ba13262d-5c55-472c-9de2-7904fc3d9632'\n",
       "\\end{description}\n"
      ],
      "text/markdown": [
       "$files\n",
       ":   1. 'output/vrdtea_ArchR-t_cd4_cm_2023-10-02.tar'\n",
       "2. 'output/vrdtea_ArchR-t_cd4_em_2023-10-02.tar'\n",
       "3. 'output/vrdtea_ArchR-t_cd4_naive_2023-10-02.tar'\n",
       "4. 'output/vrdtea_ArchR-t_cd4_treg_2023-10-02.tar'\n",
       "5. 'output/vrdtea_ArchR-t_cd8_memory_2023-10-02.tar'\n",
       "6. 'output/vrdtea_ArchR-t_cd8_naive_2023-10-02.tar'\n",
       "\n",
       "\n",
       "\n",
       "$traceId\n",
       ":   'ba13262d-5c55-472c-9de2-7904fc3d9632'\n",
       "\n",
       "\n"
      ],
      "text/plain": [
       "$files\n",
       "$files[[1]]\n",
       "[1] \"output/vrdtea_ArchR-t_cd4_cm_2023-10-02.tar\"\n",
       "\n",
       "$files[[2]]\n",
       "[1] \"output/vrdtea_ArchR-t_cd4_em_2023-10-02.tar\"\n",
       "\n",
       "$files[[3]]\n",
       "[1] \"output/vrdtea_ArchR-t_cd4_naive_2023-10-02.tar\"\n",
       "\n",
       "$files[[4]]\n",
       "[1] \"output/vrdtea_ArchR-t_cd4_treg_2023-10-02.tar\"\n",
       "\n",
       "$files[[5]]\n",
       "[1] \"output/vrdtea_ArchR-t_cd8_memory_2023-10-02.tar\"\n",
       "\n",
       "$files[[6]]\n",
       "[1] \"output/vrdtea_ArchR-t_cd8_naive_2023-10-02.tar\"\n",
       "\n",
       "\n",
       "$traceId\n",
       "[1] \"ba13262d-5c55-472c-9de2-7904fc3d9632\"\n"
      ]
     },
     "metadata": {},
     "output_type": "display_data"
    }
   ],
   "source": [
    "uploadFiles(\n",
    "    files = out_list,\n",
    "    studySpaceId = study_space_uuid,\n",
    "    title = title,\n",
    "    inputFileIds = atac_file_uuids,\n",
    "    store = \"project\",\n",
    "    doPrompt = FALSE\n",
    ")"
   ]
  },
  {
   "cell_type": "markdown",
   "id": "2b96bd54-1b3b-471f-8b7f-6a3bbbbe7944",
   "metadata": {},
   "source": [
    "## Differential peak accessibility\n",
    "\n",
    "To test for DAPs, we'll need to include the treatment and timepoint metadata for each sample in the ArchR projects:"
   ]
  },
  {
   "cell_type": "code",
   "execution_count": 9,
   "id": "55117c30-735e-4f49-b54f-4e31f3f1b136",
   "metadata": {},
   "outputs": [],
   "source": [
    "sample_manifest <- read.csv(\"../common/EXP00454_TEAseq_sample_manifest.csv\")"
   ]
  },
  {
   "cell_type": "code",
   "execution_count": 10,
   "id": "dc1dcd88-d0fb-47e4-8a72-d94933def271",
   "metadata": {},
   "outputs": [
    {
     "data": {
      "text/html": [
       "<table class=\"dataframe\">\n",
       "<caption>A data.frame: 6 × 4</caption>\n",
       "<thead>\n",
       "\t<tr><th></th><th scope=col>treatment</th><th scope=col>timepoint</th><th scope=col>Sample</th><th scope=col>treat_time</th></tr>\n",
       "\t<tr><th></th><th scope=col>&lt;chr&gt;</th><th scope=col>&lt;int&gt;</th><th scope=col>&lt;chr&gt;</th><th scope=col>&lt;chr&gt;</th></tr>\n",
       "</thead>\n",
       "<tbody>\n",
       "\t<tr><th scope=row>1</th><td>lenalidomide </td><td>72</td><td>EXP-00454-P1_PC02184-038</td><td>lenalidomide_72 </td></tr>\n",
       "\t<tr><th scope=row>2</th><td>bortezomib   </td><td>72</td><td>EXP-00454-P1_PC02184-039</td><td>bortezomib_72   </td></tr>\n",
       "\t<tr><th scope=row>3</th><td>dmso         </td><td>72</td><td>EXP-00454-P1_PC02184-040</td><td>dmso_72         </td></tr>\n",
       "\t<tr><th scope=row>4</th><td>dexamethasone</td><td>24</td><td>EXP-00454-P1_PC02184-041</td><td>dexamethasone_24</td></tr>\n",
       "\t<tr><th scope=row>5</th><td>lenalidomide </td><td>24</td><td>EXP-00454-P1_PC02184-042</td><td>lenalidomide_24 </td></tr>\n",
       "\t<tr><th scope=row>6</th><td>bortezomib   </td><td>24</td><td>EXP-00454-P1_PC02184-043</td><td>bortezomib_24   </td></tr>\n",
       "</tbody>\n",
       "</table>\n"
      ],
      "text/latex": [
       "A data.frame: 6 × 4\n",
       "\\begin{tabular}{r|llll}\n",
       "  & treatment & timepoint & Sample & treat\\_time\\\\\n",
       "  & <chr> & <int> & <chr> & <chr>\\\\\n",
       "\\hline\n",
       "\t1 & lenalidomide  & 72 & EXP-00454-P1\\_PC02184-038 & lenalidomide\\_72 \\\\\n",
       "\t2 & bortezomib    & 72 & EXP-00454-P1\\_PC02184-039 & bortezomib\\_72   \\\\\n",
       "\t3 & dmso          & 72 & EXP-00454-P1\\_PC02184-040 & dmso\\_72         \\\\\n",
       "\t4 & dexamethasone & 24 & EXP-00454-P1\\_PC02184-041 & dexamethasone\\_24\\\\\n",
       "\t5 & lenalidomide  & 24 & EXP-00454-P1\\_PC02184-042 & lenalidomide\\_24 \\\\\n",
       "\t6 & bortezomib    & 24 & EXP-00454-P1\\_PC02184-043 & bortezomib\\_24   \\\\\n",
       "\\end{tabular}\n"
      ],
      "text/markdown": [
       "\n",
       "A data.frame: 6 × 4\n",
       "\n",
       "| <!--/--> | treatment &lt;chr&gt; | timepoint &lt;int&gt; | Sample &lt;chr&gt; | treat_time &lt;chr&gt; |\n",
       "|---|---|---|---|---|\n",
       "| 1 | lenalidomide  | 72 | EXP-00454-P1_PC02184-038 | lenalidomide_72  |\n",
       "| 2 | bortezomib    | 72 | EXP-00454-P1_PC02184-039 | bortezomib_72    |\n",
       "| 3 | dmso          | 72 | EXP-00454-P1_PC02184-040 | dmso_72          |\n",
       "| 4 | dexamethasone | 24 | EXP-00454-P1_PC02184-041 | dexamethasone_24 |\n",
       "| 5 | lenalidomide  | 24 | EXP-00454-P1_PC02184-042 | lenalidomide_24  |\n",
       "| 6 | bortezomib    | 24 | EXP-00454-P1_PC02184-043 | bortezomib_24    |\n",
       "\n"
      ],
      "text/plain": [
       "  treatment     timepoint Sample                   treat_time      \n",
       "1 lenalidomide  72        EXP-00454-P1_PC02184-038 lenalidomide_72 \n",
       "2 bortezomib    72        EXP-00454-P1_PC02184-039 bortezomib_72   \n",
       "3 dmso          72        EXP-00454-P1_PC02184-040 dmso_72         \n",
       "4 dexamethasone 24        EXP-00454-P1_PC02184-041 dexamethasone_24\n",
       "5 lenalidomide  24        EXP-00454-P1_PC02184-042 lenalidomide_24 \n",
       "6 bortezomib    24        EXP-00454-P1_PC02184-043 bortezomib_24   "
      ]
     },
     "metadata": {},
     "output_type": "display_data"
    }
   ],
   "source": [
    "sample_meta <- sample_manifest %>%\n",
    "  select(pbmc_sample_id, treatment, timepoint) %>%\n",
    "  mutate(Sample = paste0(\"EXP-00454-P1_\", pbmc_sample_id),\n",
    "         treat_time = paste0(treatment, \"_\", timepoint)) %>%\n",
    "  select(-pbmc_sample_id)\n",
    "head(sample_meta)"
   ]
  },
  {
   "cell_type": "code",
   "execution_count": 11,
   "id": "e2fd2a18-14be-45b9-999d-c077741fb29c",
   "metadata": {},
   "outputs": [
    {
     "name": "stderr",
     "output_type": "stream",
     "text": [
      "\u001b[1m\u001b[22mJoining with `by = join_by(Sample)`\n",
      "\u001b[1m\u001b[22mJoining with `by = join_by(Sample)`\n",
      "\u001b[1m\u001b[22mJoining with `by = join_by(Sample)`\n",
      "\u001b[1m\u001b[22mJoining with `by = join_by(Sample)`\n",
      "\u001b[1m\u001b[22mJoining with `by = join_by(Sample)`\n",
      "\u001b[1m\u001b[22mJoining with `by = join_by(Sample)`\n"
     ]
    }
   ],
   "source": [
    "type_proj <- map(\n",
    "    type_proj,\n",
    "    function(proj) {\n",
    "        proj_meta <- as.data.frame(getCellColData(proj))\n",
    "        cell_names <- rownames(proj_meta)\n",
    "\n",
    "        proj_meta <- proj_meta %>%\n",
    "          select(Sample) %>%\n",
    "          left_join(sample_meta)\n",
    "\n",
    "        addCellColData(proj, proj_meta$treat_time, \"treat_time\", cell_names, force = TRUE)\n",
    "        \n",
    "    }\n",
    ")"
   ]
  },
  {
   "cell_type": "markdown",
   "id": "3aeecb38-2e34-4180-beed-f9e75dc15589",
   "metadata": {},
   "source": [
    "Next, we can define the foreground and background conditions for the DAP tests:"
   ]
  },
  {
   "cell_type": "code",
   "execution_count": 12,
   "id": "bd6af64e-b61e-4b0a-bd2b-7b959c0c0e18",
   "metadata": {},
   "outputs": [],
   "source": [
    "fg_treat_times <- c(\"bortezomib_4\", \"lenalidomide_4\", \"dexamethasone_4\",\n",
    "                    \"bortezomib_24\", \"lenalidomide_24\", \"dexamethasone_24\",\n",
    "                    \"bortezomib_72\", \"lenalidomide_72\")\n",
    "bg_treat_times <- c(rep(\"dmso_4\", 3),\n",
    "                    rep(\"dmso_24\", 3),\n",
    "                    rep(\"dmso_72\", 2))"
   ]
  },
  {
   "cell_type": "markdown",
   "id": "386f8371-9a49-4ee6-849a-afbe6e643e97",
   "metadata": {},
   "source": [
    "And we'll define this helper function for running the tests and retrieving the results.\n",
    "\n",
    "Note that the cutoff of FDR < 2 is there to retrieve results for all peaks regardless of FDR, since all FDR values will be 1 or lower."
   ]
  },
  {
   "cell_type": "code",
   "execution_count": 13,
   "id": "89f3bd34-2485-4d99-9949-424247c73fc7",
   "metadata": {},
   "outputs": [],
   "source": [
    "run_dap_test <- function(fg, bg, proj) {\n",
    "\n",
    "    message(paste(fg, \"vs\", bg))\n",
    "    \n",
    "    suppressMessages(\n",
    "        getMarkerFeatures(\n",
    "            proj,\n",
    "            useMatrix = \"PeakMatrix\",\n",
    "            groupBy = \"treat_time\",\n",
    "            useGroups = fg,\n",
    "            bgdGroups = bg\n",
    "        )\n",
    "    )\n",
    "    \n",
    "}"
   ]
  },
  {
   "cell_type": "code",
   "execution_count": 14,
   "id": "2e30383b-d670-4ef2-822e-6919d2ada6a5",
   "metadata": {},
   "outputs": [
    {
     "data": {
      "text/plain": [
       "\n",
       "   bortezomib_24     bortezomib_4    bortezomib_72 dexamethasone_24 \n",
       "            4371             3562              685              981 \n",
       " dexamethasone_4          dmso_24           dmso_4          dmso_72 \n",
       "            7124             5262             2679              648 \n",
       " lenalidomide_24   lenalidomide_4  lenalidomide_72      untreated_0 \n",
       "            2742             1372             1583             4614 "
      ]
     },
     "metadata": {},
     "output_type": "display_data"
    }
   ],
   "source": [
    "table(getCellColData(type_proj[[1]])$treat_time)"
   ]
  },
  {
   "cell_type": "code",
   "execution_count": 15,
   "id": "3d200809-f973-4b27-bd16-c25052b12bd4",
   "metadata": {
    "scrolled": true
   },
   "outputs": [
    {
     "name": "stderr",
     "output_type": "stream",
     "text": [
      "t_cd4_cm\n",
      "\n",
      "bortezomib_4 vs dmso_4\n",
      "\n",
      "lenalidomide_4 vs dmso_4\n",
      "\n",
      "dexamethasone_4 vs dmso_4\n",
      "\n",
      "bortezomib_24 vs dmso_24\n",
      "\n",
      "lenalidomide_24 vs dmso_24\n",
      "\n",
      "dexamethasone_24 vs dmso_24\n",
      "\n",
      "bortezomib_72 vs dmso_72\n",
      "\n",
      "lenalidomide_72 vs dmso_72\n",
      "\n",
      "t_cd4_em\n",
      "\n",
      "bortezomib_4 vs dmso_4\n",
      "\n",
      "lenalidomide_4 vs dmso_4\n",
      "\n",
      "dexamethasone_4 vs dmso_4\n",
      "\n",
      "bortezomib_24 vs dmso_24\n",
      "\n",
      "lenalidomide_24 vs dmso_24\n",
      "\n",
      "dexamethasone_24 vs dmso_24\n",
      "\n",
      "bortezomib_72 vs dmso_72\n",
      "\n",
      "lenalidomide_72 vs dmso_72\n",
      "\n",
      "t_cd4_naive\n",
      "\n",
      "bortezomib_4 vs dmso_4\n",
      "\n",
      "lenalidomide_4 vs dmso_4\n",
      "\n",
      "dexamethasone_4 vs dmso_4\n",
      "\n",
      "bortezomib_24 vs dmso_24\n",
      "\n",
      "lenalidomide_24 vs dmso_24\n",
      "\n",
      "dexamethasone_24 vs dmso_24\n",
      "\n",
      "bortezomib_72 vs dmso_72\n",
      "\n",
      "lenalidomide_72 vs dmso_72\n",
      "\n",
      "t_cd4_treg\n",
      "\n",
      "bortezomib_4 vs dmso_4\n",
      "\n",
      "lenalidomide_4 vs dmso_4\n",
      "\n",
      "dexamethasone_4 vs dmso_4\n",
      "\n",
      "bortezomib_24 vs dmso_24\n",
      "\n",
      "lenalidomide_24 vs dmso_24\n",
      "\n",
      "dexamethasone_24 vs dmso_24\n",
      "\n",
      "bortezomib_72 vs dmso_72\n",
      "\n",
      "lenalidomide_72 vs dmso_72\n",
      "\n",
      "t_cd8_memory\n",
      "\n",
      "bortezomib_4 vs dmso_4\n",
      "\n",
      "lenalidomide_4 vs dmso_4\n",
      "\n",
      "dexamethasone_4 vs dmso_4\n",
      "\n",
      "bortezomib_24 vs dmso_24\n",
      "\n",
      "lenalidomide_24 vs dmso_24\n",
      "\n",
      "dexamethasone_24 vs dmso_24\n",
      "\n",
      "bortezomib_72 vs dmso_72\n",
      "\n",
      "lenalidomide_72 vs dmso_72\n",
      "\n",
      "t_cd8_naive\n",
      "\n",
      "bortezomib_4 vs dmso_4\n",
      "\n",
      "lenalidomide_4 vs dmso_4\n",
      "\n",
      "dexamethasone_4 vs dmso_4\n",
      "\n",
      "bortezomib_24 vs dmso_24\n",
      "\n",
      "lenalidomide_24 vs dmso_24\n",
      "\n",
      "dexamethasone_24 vs dmso_24\n",
      "\n",
      "bortezomib_72 vs dmso_72\n",
      "\n",
      "lenalidomide_72 vs dmso_72\n",
      "\n"
     ]
    }
   ],
   "source": [
    "all_dap_results <- map(\n",
    "    type_proj,\n",
    "    function(proj) {\n",
    "        ct <- getCellColData(proj)$aifi_cell_type[1]\n",
    "        message(ct)\n",
    "        \n",
    "        dap_results <- map2(\n",
    "            fg_treat_times,\n",
    "            bg_treat_times,\n",
    "            run_dap_test,\n",
    "            proj = proj\n",
    "        )\n",
    "        \n",
    "        dap_results\n",
    "\n",
    "    }\n",
    ")"
   ]
  },
  {
   "cell_type": "markdown",
   "id": "ae98693d-c67b-45a2-a3f7-0aa238f0eb5b",
   "metadata": {},
   "source": [
    "Extract DAP results to data.frame"
   ]
  },
  {
   "cell_type": "code",
   "execution_count": 16,
   "id": "47cb6780-77e5-4cac-80fc-91b55440b376",
   "metadata": {},
   "outputs": [],
   "source": [
    "all_dap_df <- map2_dfr(\n",
    "    all_dap_results,\n",
    "    cell_types,\n",
    "    function(dap, ct) {\n",
    "        dap_df <- pmap_dfr(\n",
    "            list(fg = fg_treat_times,\n",
    "                 bg = bg_treat_times,\n",
    "                 res = dap),\n",
    "            function(fg, bg, res) {\n",
    "                group_marker_res <- getMarkers(\n",
    "                    res, \n",
    "                    cutOff = \"FDR < 2\")\n",
    "                \n",
    "                group_marker_df <- as.data.frame(group_marker_res[[1]])\n",
    "                group_marker_df$fg <- fg\n",
    "                group_marker_df$bg <- bg\n",
    "\n",
    "                group_marker_df\n",
    "            }\n",
    "        )\n",
    "\n",
    "        dap_df$aifi_cell_type <- ct\n",
    "        dap_df\n",
    "    }\n",
    ")"
   ]
  },
  {
   "cell_type": "code",
   "execution_count": 62,
   "id": "8e756b10-fd55-4f78-8003-084a12ef8dad",
   "metadata": {},
   "outputs": [],
   "source": [
    "all_dap_df <- all_dap_df %>%\n",
    "  dplyr::rename(logFC = Log2FC,\n",
    "                adjP = FDR) %>%\n",
    "  select(aifi_cell_type, fg, bg, seqnames, start, end, logFC, adjP, MeanDiff, idx)"
   ]
  },
  {
   "cell_type": "code",
   "execution_count": 73,
   "id": "b8725702-8706-4dd4-ad17-a7a4b2918e25",
   "metadata": {},
   "outputs": [],
   "source": [
    "dap_output_file <- paste0(\n",
    "    \"output/all_archr_dap_\",\n",
    "    Sys.Date(),\n",
    "    \".csv\")"
   ]
  },
  {
   "cell_type": "code",
   "execution_count": 74,
   "id": "da3dc9b1-ad89-47d1-ba75-df02edcee74f",
   "metadata": {},
   "outputs": [],
   "source": [
    "write.csv(all_dap_df,\n",
    "          dap_output_file,\n",
    "          quote = FALSE,\n",
    "          row.names = FALSE)"
   ]
  },
  {
   "cell_type": "markdown",
   "id": "57d8403e-b1fa-4e51-a4a6-8211658e1eb0",
   "metadata": {},
   "source": [
    "## Motif annotation enrichment"
   ]
  },
  {
   "cell_type": "markdown",
   "id": "77d40599-9da2-4f30-86d1-bcdf809689cf",
   "metadata": {},
   "source": [
    "For each set of differentially accessible peaks, we'll calculate differentially enriched motifs.\n",
    "\n",
    "To account for the differences in cell count that affect sensitivity of DAP results, we'll use the top 500 peaks from each comparison to identify DEMs.\n",
    "\n",
    "We'll also separate peaks with increased accessibility from peaks with decreased accessibility in the DAP results.\n",
    "\n",
    "The helper function, below, does the bulk of this work:"
   ]
  },
  {
   "cell_type": "code",
   "execution_count": 17,
   "id": "da6aa1f7-5e2b-443b-93cb-c224453437cf",
   "metadata": {},
   "outputs": [],
   "source": [
    "top_dap_directional_dem <- function(fg, bg, dap, proj, top_n = 500) {\n",
    "\n",
    "    message(paste(fg, \"vs\", bg))\n",
    "\n",
    "    group_marker_res <- getMarkers(\n",
    "        dap, \n",
    "        cutOff = \"FDR < 2\")\n",
    "    \n",
    "    peak_df <- as.data.frame(group_marker_res[[1]])\n",
    "    names(peak_df) <- names(assays(dap))\n",
    "    \n",
    "    up_peaks <- peak_df %>%\n",
    "      filter(Log2FC > 0) %>%\n",
    "      arrange(Pval) %>%\n",
    "      head(top_n)\n",
    "    up_cut <- up_peaks$Pval[top_n]\n",
    "    \n",
    "    up_enriched_motifs <- suppressMessages(\n",
    "        peakAnnoEnrichment(\n",
    "            seMarker = dap,\n",
    "            ArchRProj = proj,\n",
    "            peakAnnotation = \"Motif\",\n",
    "            cutOff = paste(\"Pval < \", up_cut,\"& Log2FC > 0\")\n",
    "    ))\n",
    "    \n",
    "    up_res <- as.data.frame(as.list(assays(up_enriched_motifs)))\n",
    "    names(up_res) <- names(assays(up_enriched_motifs))\n",
    "    up_res$direction <- \"up\"\n",
    "    \n",
    "    dn_peaks <- peak_df %>%\n",
    "      filter(Log2FC < 0) %>%\n",
    "      arrange(Pval) %>%\n",
    "      head(top_n)\n",
    "    dn_cut <- dn_peaks$Pval[top_n]\n",
    "    \n",
    "    dn_enriched_motifs <- suppressMessages(\n",
    "        peakAnnoEnrichment(\n",
    "            seMarker = dap,\n",
    "            ArchRProj = proj,\n",
    "            peakAnnotation = \"Motif\",\n",
    "            cutOff = paste(\"Pval < \", dn_cut, \"& Log2FC < 0\")\n",
    "    ))\n",
    "    \n",
    "    dn_res <- as.data.frame(as.list(assays(dn_enriched_motifs)))\n",
    "    names(dn_res) <- names(assays(dn_enriched_motifs))\n",
    "    dn_res$direction <- \"dn\"\n",
    "    \n",
    "    res <- rbind(up_res, dn_res)\n",
    "    res$fg <- fg\n",
    "    res$bg <- bg\n",
    "\n",
    "    res\n",
    "}"
   ]
  },
  {
   "cell_type": "markdown",
   "id": "f26c9198-3787-446c-bb1c-53189dd7f374",
   "metadata": {},
   "source": [
    "Here, we'll iterate over each cell type (the first `map_dfr` call), and each comparison (the `pmap_dfr` call):"
   ]
  },
  {
   "cell_type": "code",
   "execution_count": 18,
   "id": "ceeed64f-f405-44c4-80c4-4f034847bc72",
   "metadata": {
    "scrolled": true
   },
   "outputs": [
    {
     "name": "stderr",
     "output_type": "stream",
     "text": [
      "t_cd4_cm\n",
      "\n",
      "bortezomib_4 vs dmso_4\n",
      "\n",
      "lenalidomide_4 vs dmso_4\n",
      "\n",
      "dexamethasone_4 vs dmso_4\n",
      "\n",
      "bortezomib_24 vs dmso_24\n",
      "\n",
      "lenalidomide_24 vs dmso_24\n",
      "\n",
      "dexamethasone_24 vs dmso_24\n",
      "\n",
      "bortezomib_72 vs dmso_72\n",
      "\n",
      "lenalidomide_72 vs dmso_72\n",
      "\n",
      "t_cd4_em\n",
      "\n",
      "bortezomib_4 vs dmso_4\n",
      "\n",
      "lenalidomide_4 vs dmso_4\n",
      "\n",
      "dexamethasone_4 vs dmso_4\n",
      "\n",
      "bortezomib_24 vs dmso_24\n",
      "\n",
      "lenalidomide_24 vs dmso_24\n",
      "\n",
      "dexamethasone_24 vs dmso_24\n",
      "\n",
      "bortezomib_72 vs dmso_72\n",
      "\n",
      "lenalidomide_72 vs dmso_72\n",
      "\n",
      "t_cd4_naive\n",
      "\n",
      "bortezomib_4 vs dmso_4\n",
      "\n",
      "lenalidomide_4 vs dmso_4\n",
      "\n",
      "dexamethasone_4 vs dmso_4\n",
      "\n",
      "bortezomib_24 vs dmso_24\n",
      "\n",
      "lenalidomide_24 vs dmso_24\n",
      "\n",
      "dexamethasone_24 vs dmso_24\n",
      "\n",
      "bortezomib_72 vs dmso_72\n",
      "\n",
      "lenalidomide_72 vs dmso_72\n",
      "\n",
      "t_cd4_treg\n",
      "\n",
      "bortezomib_4 vs dmso_4\n",
      "\n",
      "lenalidomide_4 vs dmso_4\n",
      "\n",
      "dexamethasone_4 vs dmso_4\n",
      "\n",
      "bortezomib_24 vs dmso_24\n",
      "\n",
      "lenalidomide_24 vs dmso_24\n",
      "\n",
      "dexamethasone_24 vs dmso_24\n",
      "\n",
      "bortezomib_72 vs dmso_72\n",
      "\n",
      "lenalidomide_72 vs dmso_72\n",
      "\n",
      "t_cd8_memory\n",
      "\n",
      "bortezomib_4 vs dmso_4\n",
      "\n",
      "lenalidomide_4 vs dmso_4\n",
      "\n",
      "dexamethasone_4 vs dmso_4\n",
      "\n",
      "bortezomib_24 vs dmso_24\n",
      "\n",
      "lenalidomide_24 vs dmso_24\n",
      "\n",
      "dexamethasone_24 vs dmso_24\n",
      "\n",
      "bortezomib_72 vs dmso_72\n",
      "\n",
      "lenalidomide_72 vs dmso_72\n",
      "\n",
      "t_cd8_naive\n",
      "\n",
      "bortezomib_4 vs dmso_4\n",
      "\n",
      "lenalidomide_4 vs dmso_4\n",
      "\n",
      "dexamethasone_4 vs dmso_4\n",
      "\n",
      "bortezomib_24 vs dmso_24\n",
      "\n",
      "lenalidomide_24 vs dmso_24\n",
      "\n",
      "dexamethasone_24 vs dmso_24\n",
      "\n",
      "bortezomib_72 vs dmso_72\n",
      "\n",
      "lenalidomide_72 vs dmso_72\n",
      "\n"
     ]
    }
   ],
   "source": [
    "all_dem_res <- map2_dfr(\n",
    "    type_proj,\n",
    "    all_dap_results,\n",
    "    function(proj, type_dap) {\n",
    "        ct <- getCellColData(proj)$aifi_cell_type[1]\n",
    "        message(ct)\n",
    "         \n",
    "        dem_res <- pmap_dfr(\n",
    "            list(fg = fg_treat_times,\n",
    "                 bg = bg_treat_times,\n",
    "                 dap = type_dap),\n",
    "            top_dap_directional_dem,\n",
    "            proj = proj,\n",
    "            top_n = 500\n",
    "        )\n",
    "\n",
    "        dem_res$aifi_cell_type <- ct\n",
    "        dem_res\n",
    "    }\n",
    ")"
   ]
  },
  {
   "cell_type": "code",
   "execution_count": 69,
   "id": "fd30a5a8-f2de-4f9d-9597-84f791c48e5c",
   "metadata": {
    "scrolled": true
   },
   "outputs": [],
   "source": [
    "all_dem_res <- all_dem_res %>%\n",
    "  mutate(\n",
    "      nomP = 10^(-mlog10p),\n",
    "      adjP = 10^(-mlog10Padj),\n",
    "      tf_gene = sub(\"_.+\", \"\", feature)\n",
    "  ) %>%\n",
    "  select(aifi_cell_type, fg, bg, direction,\n",
    "         feature, tf_gene, Enrichment, nomP, adjP,\n",
    "         everything())"
   ]
  },
  {
   "cell_type": "code",
   "execution_count": 70,
   "id": "8ca12457-59c8-4b20-a555-e29861e87e56",
   "metadata": {},
   "outputs": [
    {
     "data": {
      "text/html": [
       "<table class=\"dataframe\">\n",
       "<caption>A data.frame: 6 × 17</caption>\n",
       "<thead>\n",
       "\t<tr><th></th><th scope=col>aifi_cell_type</th><th scope=col>fg</th><th scope=col>bg</th><th scope=col>direction</th><th scope=col>feature</th><th scope=col>tf_gene</th><th scope=col>Enrichment</th><th scope=col>nomP</th><th scope=col>adjP</th><th scope=col>mlog10Padj</th><th scope=col>mlog10p</th><th scope=col>BackgroundProporition</th><th scope=col>nBackground</th><th scope=col>BackgroundFrequency</th><th scope=col>CompareProportion</th><th scope=col>nCompare</th><th scope=col>CompareFrequency</th></tr>\n",
       "\t<tr><th></th><th scope=col>&lt;chr&gt;</th><th scope=col>&lt;chr&gt;</th><th scope=col>&lt;chr&gt;</th><th scope=col>&lt;chr&gt;</th><th scope=col>&lt;chr&gt;</th><th scope=col>&lt;chr&gt;</th><th scope=col>&lt;dbl&gt;</th><th scope=col>&lt;dbl&gt;</th><th scope=col>&lt;dbl&gt;</th><th scope=col>&lt;dbl&gt;</th><th scope=col>&lt;dbl&gt;</th><th scope=col>&lt;dbl&gt;</th><th scope=col>&lt;int&gt;</th><th scope=col>&lt;int&gt;</th><th scope=col>&lt;dbl&gt;</th><th scope=col>&lt;int&gt;</th><th scope=col>&lt;int&gt;</th></tr>\n",
       "</thead>\n",
       "<tbody>\n",
       "\t<tr><th scope=row>TFAP2B_1...1</th><td>t_cd4_cm</td><td>bortezomib_4</td><td>dmso_4</td><td>up</td><td>TFAP2B_1</td><td>TFAP2B</td><td>1.0086266</td><td>0.270832014</td><td>1.00000000</td><td>0.000000</td><td>0.5673</td><td>0.06808505</td><td>72101</td><td> 4909</td><td>0.06867239</td><td>35997</td><td> 2472</td></tr>\n",
       "\t<tr><th scope=row>TFAP2D_2...2</th><td>t_cd4_cm</td><td>bortezomib_4</td><td>dmso_4</td><td>up</td><td>TFAP2D_2</td><td>TFAP2D</td><td>1.0233564</td><td>0.002498619</td><td>0.02248757</td><td>1.648057</td><td>2.6023</td><td>0.16830557</td><td>72101</td><td>12135</td><td>0.17223658</td><td>35997</td><td> 6200</td></tr>\n",
       "\t<tr><th scope=row>TFAP2C_3...3</th><td>t_cd4_cm</td><td>bortezomib_4</td><td>dmso_4</td><td>up</td><td>TFAP2C_3</td><td>TFAP2C</td><td>1.0222279</td><td>0.007474807</td><td>0.06727327</td><td>1.172157</td><td>2.1264</td><td>0.14397859</td><td>72101</td><td>10381</td><td>0.14717893</td><td>35997</td><td> 5298</td></tr>\n",
       "\t<tr><th scope=row>TFAP2E_4...4</th><td>t_cd4_cm</td><td>bortezomib_4</td><td>dmso_4</td><td>up</td><td>TFAP2E_4</td><td>TFAP2E</td><td>0.9998059</td><td>0.511564030</td><td>1.00000000</td><td>0.000000</td><td>0.2911</td><td>0.04959709</td><td>72101</td><td> 3576</td><td>0.04958747</td><td>35997</td><td> 1785</td></tr>\n",
       "\t<tr><th scope=row>TFAP2A_5...5</th><td>t_cd4_cm</td><td>bortezomib_4</td><td>dmso_4</td><td>up</td><td>TFAP2A_5</td><td>TFAP2A</td><td>1.0139218</td><td>0.135987816</td><td>1.00000000</td><td>0.000000</td><td>0.8665</td><td>0.08153840</td><td>72101</td><td> 5879</td><td>0.08267356</td><td>35997</td><td> 2976</td></tr>\n",
       "\t<tr><th scope=row>ARID3A_6...6</th><td>t_cd4_cm</td><td>bortezomib_4</td><td>dmso_4</td><td>up</td><td>ARID3A_6</td><td>ARID3A</td><td>0.9822014</td><td>0.999079390</td><td>1.00000000</td><td>0.000000</td><td>0.0004</td><td>0.29386555</td><td>72101</td><td>21188</td><td>0.28863516</td><td>35997</td><td>10390</td></tr>\n",
       "</tbody>\n",
       "</table>\n"
      ],
      "text/latex": [
       "A data.frame: 6 × 17\n",
       "\\begin{tabular}{r|lllllllllllllllll}\n",
       "  & aifi\\_cell\\_type & fg & bg & direction & feature & tf\\_gene & Enrichment & nomP & adjP & mlog10Padj & mlog10p & BackgroundProporition & nBackground & BackgroundFrequency & CompareProportion & nCompare & CompareFrequency\\\\\n",
       "  & <chr> & <chr> & <chr> & <chr> & <chr> & <chr> & <dbl> & <dbl> & <dbl> & <dbl> & <dbl> & <dbl> & <int> & <int> & <dbl> & <int> & <int>\\\\\n",
       "\\hline\n",
       "\tTFAP2B\\_1...1 & t\\_cd4\\_cm & bortezomib\\_4 & dmso\\_4 & up & TFAP2B\\_1 & TFAP2B & 1.0086266 & 0.270832014 & 1.00000000 & 0.000000 & 0.5673 & 0.06808505 & 72101 &  4909 & 0.06867239 & 35997 &  2472\\\\\n",
       "\tTFAP2D\\_2...2 & t\\_cd4\\_cm & bortezomib\\_4 & dmso\\_4 & up & TFAP2D\\_2 & TFAP2D & 1.0233564 & 0.002498619 & 0.02248757 & 1.648057 & 2.6023 & 0.16830557 & 72101 & 12135 & 0.17223658 & 35997 &  6200\\\\\n",
       "\tTFAP2C\\_3...3 & t\\_cd4\\_cm & bortezomib\\_4 & dmso\\_4 & up & TFAP2C\\_3 & TFAP2C & 1.0222279 & 0.007474807 & 0.06727327 & 1.172157 & 2.1264 & 0.14397859 & 72101 & 10381 & 0.14717893 & 35997 &  5298\\\\\n",
       "\tTFAP2E\\_4...4 & t\\_cd4\\_cm & bortezomib\\_4 & dmso\\_4 & up & TFAP2E\\_4 & TFAP2E & 0.9998059 & 0.511564030 & 1.00000000 & 0.000000 & 0.2911 & 0.04959709 & 72101 &  3576 & 0.04958747 & 35997 &  1785\\\\\n",
       "\tTFAP2A\\_5...5 & t\\_cd4\\_cm & bortezomib\\_4 & dmso\\_4 & up & TFAP2A\\_5 & TFAP2A & 1.0139218 & 0.135987816 & 1.00000000 & 0.000000 & 0.8665 & 0.08153840 & 72101 &  5879 & 0.08267356 & 35997 &  2976\\\\\n",
       "\tARID3A\\_6...6 & t\\_cd4\\_cm & bortezomib\\_4 & dmso\\_4 & up & ARID3A\\_6 & ARID3A & 0.9822014 & 0.999079390 & 1.00000000 & 0.000000 & 0.0004 & 0.29386555 & 72101 & 21188 & 0.28863516 & 35997 & 10390\\\\\n",
       "\\end{tabular}\n"
      ],
      "text/markdown": [
       "\n",
       "A data.frame: 6 × 17\n",
       "\n",
       "| <!--/--> | aifi_cell_type &lt;chr&gt; | fg &lt;chr&gt; | bg &lt;chr&gt; | direction &lt;chr&gt; | feature &lt;chr&gt; | tf_gene &lt;chr&gt; | Enrichment &lt;dbl&gt; | nomP &lt;dbl&gt; | adjP &lt;dbl&gt; | mlog10Padj &lt;dbl&gt; | mlog10p &lt;dbl&gt; | BackgroundProporition &lt;dbl&gt; | nBackground &lt;int&gt; | BackgroundFrequency &lt;int&gt; | CompareProportion &lt;dbl&gt; | nCompare &lt;int&gt; | CompareFrequency &lt;int&gt; |\n",
       "|---|---|---|---|---|---|---|---|---|---|---|---|---|---|---|---|---|---|\n",
       "| TFAP2B_1...1 | t_cd4_cm | bortezomib_4 | dmso_4 | up | TFAP2B_1 | TFAP2B | 1.0086266 | 0.270832014 | 1.00000000 | 0.000000 | 0.5673 | 0.06808505 | 72101 |  4909 | 0.06867239 | 35997 |  2472 |\n",
       "| TFAP2D_2...2 | t_cd4_cm | bortezomib_4 | dmso_4 | up | TFAP2D_2 | TFAP2D | 1.0233564 | 0.002498619 | 0.02248757 | 1.648057 | 2.6023 | 0.16830557 | 72101 | 12135 | 0.17223658 | 35997 |  6200 |\n",
       "| TFAP2C_3...3 | t_cd4_cm | bortezomib_4 | dmso_4 | up | TFAP2C_3 | TFAP2C | 1.0222279 | 0.007474807 | 0.06727327 | 1.172157 | 2.1264 | 0.14397859 | 72101 | 10381 | 0.14717893 | 35997 |  5298 |\n",
       "| TFAP2E_4...4 | t_cd4_cm | bortezomib_4 | dmso_4 | up | TFAP2E_4 | TFAP2E | 0.9998059 | 0.511564030 | 1.00000000 | 0.000000 | 0.2911 | 0.04959709 | 72101 |  3576 | 0.04958747 | 35997 |  1785 |\n",
       "| TFAP2A_5...5 | t_cd4_cm | bortezomib_4 | dmso_4 | up | TFAP2A_5 | TFAP2A | 1.0139218 | 0.135987816 | 1.00000000 | 0.000000 | 0.8665 | 0.08153840 | 72101 |  5879 | 0.08267356 | 35997 |  2976 |\n",
       "| ARID3A_6...6 | t_cd4_cm | bortezomib_4 | dmso_4 | up | ARID3A_6 | ARID3A | 0.9822014 | 0.999079390 | 1.00000000 | 0.000000 | 0.0004 | 0.29386555 | 72101 | 21188 | 0.28863516 | 35997 | 10390 |\n",
       "\n"
      ],
      "text/plain": [
       "             aifi_cell_type fg           bg     direction feature  tf_gene\n",
       "TFAP2B_1...1 t_cd4_cm       bortezomib_4 dmso_4 up        TFAP2B_1 TFAP2B \n",
       "TFAP2D_2...2 t_cd4_cm       bortezomib_4 dmso_4 up        TFAP2D_2 TFAP2D \n",
       "TFAP2C_3...3 t_cd4_cm       bortezomib_4 dmso_4 up        TFAP2C_3 TFAP2C \n",
       "TFAP2E_4...4 t_cd4_cm       bortezomib_4 dmso_4 up        TFAP2E_4 TFAP2E \n",
       "TFAP2A_5...5 t_cd4_cm       bortezomib_4 dmso_4 up        TFAP2A_5 TFAP2A \n",
       "ARID3A_6...6 t_cd4_cm       bortezomib_4 dmso_4 up        ARID3A_6 ARID3A \n",
       "             Enrichment nomP        adjP       mlog10Padj mlog10p\n",
       "TFAP2B_1...1 1.0086266  0.270832014 1.00000000 0.000000   0.5673 \n",
       "TFAP2D_2...2 1.0233564  0.002498619 0.02248757 1.648057   2.6023 \n",
       "TFAP2C_3...3 1.0222279  0.007474807 0.06727327 1.172157   2.1264 \n",
       "TFAP2E_4...4 0.9998059  0.511564030 1.00000000 0.000000   0.2911 \n",
       "TFAP2A_5...5 1.0139218  0.135987816 1.00000000 0.000000   0.8665 \n",
       "ARID3A_6...6 0.9822014  0.999079390 1.00000000 0.000000   0.0004 \n",
       "             BackgroundProporition nBackground BackgroundFrequency\n",
       "TFAP2B_1...1 0.06808505            72101        4909              \n",
       "TFAP2D_2...2 0.16830557            72101       12135              \n",
       "TFAP2C_3...3 0.14397859            72101       10381              \n",
       "TFAP2E_4...4 0.04959709            72101        3576              \n",
       "TFAP2A_5...5 0.08153840            72101        5879              \n",
       "ARID3A_6...6 0.29386555            72101       21188              \n",
       "             CompareProportion nCompare CompareFrequency\n",
       "TFAP2B_1...1 0.06867239        35997     2472           \n",
       "TFAP2D_2...2 0.17223658        35997     6200           \n",
       "TFAP2C_3...3 0.14717893        35997     5298           \n",
       "TFAP2E_4...4 0.04958747        35997     1785           \n",
       "TFAP2A_5...5 0.08267356        35997     2976           \n",
       "ARID3A_6...6 0.28863516        35997    10390           "
      ]
     },
     "metadata": {},
     "output_type": "display_data"
    }
   ],
   "source": [
    "head(all_dem_res)"
   ]
  },
  {
   "cell_type": "code",
   "execution_count": 75,
   "id": "acae6d6f-e125-4220-ba90-16a897757102",
   "metadata": {},
   "outputs": [],
   "source": [
    "dem_output_file <- paste0(\n",
    "    \"output/all_archr_dem_\",\n",
    "    Sys.Date(),\n",
    "    \".csv\")"
   ]
  },
  {
   "cell_type": "code",
   "execution_count": 76,
   "id": "330f7cf4-b4d7-456b-929d-0eb7018381e1",
   "metadata": {},
   "outputs": [],
   "source": [
    "write.csv(all_dem_res,\n",
    "          dem_output_file,\n",
    "          quote = FALSE,\n",
    "          row.names = FALSE)"
   ]
  },
  {
   "cell_type": "markdown",
   "id": "2c1f9600-8a4e-4eae-94da-d6004ac729e1",
   "metadata": {},
   "source": [
    "### Store differentials and enrichments in HISE"
   ]
  },
  {
   "cell_type": "code",
   "execution_count": 23,
   "id": "c20a665c-dd9f-4fdd-99ab-e7e314d6e210",
   "metadata": {},
   "outputs": [],
   "source": [
    "study_space_uuid <- \"40df6403-29f0-4b45-ab7d-f46d420c422e\"\n",
    "title <- paste(\"VRd TEA-seq T Cell Type DAP and DEM\", Sys.Date())"
   ]
  },
  {
   "cell_type": "code",
   "execution_count": 24,
   "id": "e42ea000-708f-4fd1-bde5-544124fa505f",
   "metadata": {},
   "outputs": [],
   "source": [
    "out_list <- as.list(c(dap_output_file, dem_output_file))"
   ]
  },
  {
   "cell_type": "code",
   "execution_count": 27,
   "id": "ee4133a0-12f1-45b2-b71d-9117c310df3d",
   "metadata": {},
   "outputs": [
    {
     "data": {
      "text/html": [
       "<dl>\n",
       "\t<dt>$files</dt>\n",
       "\t\t<dd><ol>\n",
       "\t<li>'output/vrdtea_ArchR-t_cd4_cm_2023-10-02.tar'</li>\n",
       "\t<li>'output/vrdtea_ArchR-t_cd4_em_2023-10-02.tar'</li>\n",
       "\t<li>'output/vrdtea_ArchR-t_cd4_naive_2023-10-02.tar'</li>\n",
       "\t<li>'output/vrdtea_ArchR-t_cd4_treg_2023-10-02.tar'</li>\n",
       "\t<li>'output/vrdtea_ArchR-t_cd8_memory_2023-10-02.tar'</li>\n",
       "\t<li>'output/vrdtea_ArchR-t_cd8_naive_2023-10-02.tar'</li>\n",
       "</ol>\n",
       "</dd>\n",
       "\t<dt>$traceId</dt>\n",
       "\t\t<dd>'ba13262d-5c55-472c-9de2-7904fc3d9632'</dd>\n",
       "</dl>\n"
      ],
      "text/latex": [
       "\\begin{description}\n",
       "\\item[\\$files] \\begin{enumerate}\n",
       "\\item 'output/vrdtea\\_ArchR-t\\_cd4\\_cm\\_2023-10-02.tar'\n",
       "\\item 'output/vrdtea\\_ArchR-t\\_cd4\\_em\\_2023-10-02.tar'\n",
       "\\item 'output/vrdtea\\_ArchR-t\\_cd4\\_naive\\_2023-10-02.tar'\n",
       "\\item 'output/vrdtea\\_ArchR-t\\_cd4\\_treg\\_2023-10-02.tar'\n",
       "\\item 'output/vrdtea\\_ArchR-t\\_cd8\\_memory\\_2023-10-02.tar'\n",
       "\\item 'output/vrdtea\\_ArchR-t\\_cd8\\_naive\\_2023-10-02.tar'\n",
       "\\end{enumerate}\n",
       "\n",
       "\\item[\\$traceId] 'ba13262d-5c55-472c-9de2-7904fc3d9632'\n",
       "\\end{description}\n"
      ],
      "text/markdown": [
       "$files\n",
       ":   1. 'output/vrdtea_ArchR-t_cd4_cm_2023-10-02.tar'\n",
       "2. 'output/vrdtea_ArchR-t_cd4_em_2023-10-02.tar'\n",
       "3. 'output/vrdtea_ArchR-t_cd4_naive_2023-10-02.tar'\n",
       "4. 'output/vrdtea_ArchR-t_cd4_treg_2023-10-02.tar'\n",
       "5. 'output/vrdtea_ArchR-t_cd8_memory_2023-10-02.tar'\n",
       "6. 'output/vrdtea_ArchR-t_cd8_naive_2023-10-02.tar'\n",
       "\n",
       "\n",
       "\n",
       "$traceId\n",
       ":   'ba13262d-5c55-472c-9de2-7904fc3d9632'\n",
       "\n",
       "\n"
      ],
      "text/plain": [
       "$files\n",
       "$files[[1]]\n",
       "[1] \"output/vrdtea_ArchR-t_cd4_cm_2023-10-02.tar\"\n",
       "\n",
       "$files[[2]]\n",
       "[1] \"output/vrdtea_ArchR-t_cd4_em_2023-10-02.tar\"\n",
       "\n",
       "$files[[3]]\n",
       "[1] \"output/vrdtea_ArchR-t_cd4_naive_2023-10-02.tar\"\n",
       "\n",
       "$files[[4]]\n",
       "[1] \"output/vrdtea_ArchR-t_cd4_treg_2023-10-02.tar\"\n",
       "\n",
       "$files[[5]]\n",
       "[1] \"output/vrdtea_ArchR-t_cd8_memory_2023-10-02.tar\"\n",
       "\n",
       "$files[[6]]\n",
       "[1] \"output/vrdtea_ArchR-t_cd8_naive_2023-10-02.tar\"\n",
       "\n",
       "\n",
       "$traceId\n",
       "[1] \"ba13262d-5c55-472c-9de2-7904fc3d9632\"\n"
      ]
     },
     "metadata": {},
     "output_type": "display_data"
    }
   ],
   "source": [
    "uploadFiles(\n",
    "    files = out_list,\n",
    "    studySpaceId = study_space_uuid,\n",
    "    title = title,\n",
    "    inputFileIds = atac_file_uuids,\n",
    "    store = \"project\",\n",
    "    doPrompt = FALSE\n",
    ")"
   ]
  },
  {
   "cell_type": "markdown",
   "id": "74977cf4-fab8-4346-bc2d-f464ff0d0146",
   "metadata": {},
   "source": [
    "## Peak-to-Gene correlation\n",
    "\n",
    "Finally, we'll test peak-to-gene correlation by integrating the scRNA-seq data from TEA-seq. This will be matched at the single-cell level to the cells in the ArchR Projects. First, we'll need to retrieve the scRNA-seq matrices from HISE:"
   ]
  },
  {
   "cell_type": "code",
   "execution_count": 141,
   "id": "d61772a4-43e9-4ff6-966b-e87086714dbd",
   "metadata": {},
   "outputs": [],
   "source": [
    "scrna_file_ids <- list(\n",
    "    \"7bdac6ef-e5e5-4150-b4f3-9c1a1e250334\", # CD4 data\n",
    "    \"46438bc4-cde6-4ae6-b349-9c513dd9d16f\" # CD8 data\n",
    ")"
   ]
  },
  {
   "cell_type": "code",
   "execution_count": 21,
   "id": "f33fd690-9c18-4f59-a936-11454f731bd9",
   "metadata": {},
   "outputs": [
    {
     "name": "stdout",
     "output_type": "stream",
     "text": [
      "[1] \"Initiating file download for filtered_cd4_te_seurat.rds\"\n",
      "[1] \"Download successful.\"\n",
      "[1] \"Initiating file download for filtered_cd8_te_seurat.rds\"\n",
      "[1] \"Download successful.\"\n"
     ]
    }
   ],
   "source": [
    "scrna_file_res <- hise::cacheFiles(\n",
    "    scrna_file_ids\n",
    ")"
   ]
  },
  {
   "cell_type": "code",
   "execution_count": 22,
   "id": "11c513f3-c622-4038-b502-4075ac01eba8",
   "metadata": {},
   "outputs": [],
   "source": [
    "scrna_files <- map(scrna_file_res, \"filePath\")"
   ]
  },
  {
   "cell_type": "code",
   "execution_count": 23,
   "id": "a2aaba1b-c4c5-4504-90e4-cf98b49494b1",
   "metadata": {},
   "outputs": [],
   "source": [
    "so_list <- map(scrna_files, readRDS)"
   ]
  },
  {
   "cell_type": "code",
   "execution_count": 24,
   "id": "783c15f8-8262-4c02-a65e-b4a1a456324b",
   "metadata": {},
   "outputs": [
    {
     "name": "stderr",
     "output_type": "stream",
     "text": [
      "Loading required package: SeuratObject\n",
      "\n",
      "Loading required package: sp\n",
      "\n",
      "The legacy packages maptools, rgdal, and rgeos, underpinning the sp package,\n",
      "which was just loaded, will retire in October 2023.\n",
      "Please refer to R-spatial evolution reports for details, especially\n",
      "https://r-spatial.org/r/2023/05/15/evolution4.html.\n",
      "It may be desirable to make the sf package available;\n",
      "package maintainers should consider adding sf to Suggests:.\n",
      "The sp package is now running under evolution status 2\n",
      "     (status 2 uses the sf package in place of rgdal)\n",
      "\n",
      "\n",
      "Attaching package: ‘sp’\n",
      "\n",
      "\n",
      "The following object is masked from ‘package:IRanges’:\n",
      "\n",
      "    %over%\n",
      "\n",
      "\n",
      "\n",
      "Attaching package: ‘SeuratObject’\n",
      "\n",
      "\n",
      "The following object is masked from ‘package:SummarizedExperiment’:\n",
      "\n",
      "    Assays\n",
      "\n",
      "\n"
     ]
    }
   ],
   "source": [
    "count_mat <- cbind(\n",
    "    so_list[[1]][[\"RNA\"]]@counts,\n",
    "    so_list[[2]][[\"RNA\"]]@counts\n",
    ")"
   ]
  },
  {
   "cell_type": "markdown",
   "id": "a516353a-0165-41aa-9c29-9e0819e6683e",
   "metadata": {},
   "source": [
    "Before integration, we'll need to filter for genes that are in the gene annotations for the ArchR Projects.\n",
    "\n",
    "We'll then be able to use the counts and the gene GRanges to build the SummarizedExperiment objects that ArchR requires."
   ]
  },
  {
   "cell_type": "code",
   "execution_count": 25,
   "id": "41794514-3370-48e2-9d96-77e8448c9f62",
   "metadata": {},
   "outputs": [],
   "source": [
    "gene_gr <- type_proj[[1]]@geneAnnotation$genes\n",
    "gene_gr <- gene_gr[gene_gr$symbol %in% rownames(count_mat)]\n",
    "count_mat <- count_mat[gene_gr$symbol,]"
   ]
  },
  {
   "cell_type": "code",
   "execution_count": 26,
   "id": "b81b5ae5-8d4f-41d6-a83a-dba9e050aa6b",
   "metadata": {},
   "outputs": [
    {
     "name": "stdout",
     "output_type": "stream",
     "text": [
      "Formal class 'dgCMatrix' [package \"Matrix\"] with 6 slots\n",
      "  ..@ i       : int [1:238272702] 7 50 53 68 90 106 109 134 142 143 ...\n",
      "  ..@ p       : int [1:147415] 0 2010 4007 5983 7463 9226 10851 12304 14641 16258 ...\n",
      "  ..@ Dim     : int [1:2] 21406 147414\n",
      "  ..@ Dimnames:List of 2\n",
      "  .. ..$ : chr [1:21406] \"OR4F5\" \"FAM87B\" \"LINC01128\" \"LINC00115\" ...\n",
      "  .. ..$ : chr [1:147414] \"2da9d348fb8111eda35df29f570c0793\" \"2daec6d2fb8111eda35df29f570c0793\" \"2db119d2fb8111eda35df29f570c0793\" \"2db582c4fb8111eda35df29f570c0793\" ...\n",
      "  ..@ x       : num [1:238272702] 1 1 3 1 1 1 1 1 3 1 ...\n",
      "  ..@ factors : list()\n"
     ]
    }
   ],
   "source": [
    "str(count_mat)"
   ]
  },
  {
   "cell_type": "markdown",
   "id": "f373bae7-c5a7-4348-a8dd-896d1ed65483",
   "metadata": {},
   "source": [
    "For each cell type, we'll select the cells for that type using barcodes, then match the cell names to those used by ArchR so that the data are compatible."
   ]
  },
  {
   "cell_type": "code",
   "execution_count": 27,
   "id": "ab939914-bd2b-4581-b4e8-b4d06c9cb3bd",
   "metadata": {
    "scrolled": true
   },
   "outputs": [
    {
     "name": "stderr",
     "output_type": "stream",
     "text": [
      "2023-10-05 20:18:36.47052 : SuppressedMessaged due to getArchRVerbose() is FALSE!\n",
      "\n",
      "2023-10-05 20:18:36.545285 : SuppressedMessaged due to getArchRVerbose() is FALSE!\n",
      "\n",
      "2023-10-05 20:20:48.105922 : SuppressedMessaged due to getArchRVerbose() is FALSE!\n",
      "\n",
      "2023-10-05 20:20:48.143577 : SuppressedMessaged due to getArchRVerbose() is FALSE!\n",
      "\n",
      "2023-10-05 20:22:54.911468 : SuppressedMessaged due to getArchRVerbose() is FALSE!\n",
      "\n",
      "2023-10-05 20:22:55.04188 : SuppressedMessaged due to getArchRVerbose() is FALSE!\n",
      "\n",
      "2023-10-05 20:25:11.941557 : SuppressedMessaged due to getArchRVerbose() is FALSE!\n",
      "\n",
      "2023-10-05 20:25:11.970226 : SuppressedMessaged due to getArchRVerbose() is FALSE!\n",
      "\n",
      "2023-10-05 20:27:20.67783 : SuppressedMessaged due to getArchRVerbose() is FALSE!\n",
      "\n",
      "2023-10-05 20:27:20.717445 : SuppressedMessaged due to getArchRVerbose() is FALSE!\n",
      "\n",
      "2023-10-05 20:29:27.942837 : SuppressedMessaged due to getArchRVerbose() is FALSE!\n",
      "\n",
      "2023-10-05 20:29:27.994991 : SuppressedMessaged due to getArchRVerbose() is FALSE!\n",
      "\n"
     ]
    }
   ],
   "source": [
    "type_proj <- map(\n",
    "    type_proj,\n",
    "    function(proj) {\n",
    "        proj_meta <- as.data.frame(getCellColData(proj))\n",
    "        rna_mat <- count_mat[,proj_meta$barcodes]\n",
    "        colnames(rna_mat) <- rownames(proj_meta)\n",
    "\n",
    "        serna <- SummarizedExperiment(\n",
    "            assays = SimpleList(counts = rna_mat),\n",
    "            rowRanges = gene_gr\n",
    "        )\n",
    "        \n",
    "        addGeneExpressionMatrix(\n",
    "            proj,\n",
    "            serna\n",
    "        )\n",
    "    })"
   ]
  },
  {
   "cell_type": "markdown",
   "id": "21cf6cf9-295b-4856-87db-36b4ab599248",
   "metadata": {},
   "source": [
    "Now that we have gene expression in the object, we can compute peak-to-gene correlations. This step requires a reduced dimensionality projection to find neighborhoods of cells, so we'll also compute LSI for each cell type."
   ]
  },
  {
   "cell_type": "code",
   "execution_count": null,
   "id": "71d95d0f-8e02-4259-8379-8ba7afb2071f",
   "metadata": {
    "scrolled": true
   },
   "outputs": [
    {
     "name": "stderr",
     "output_type": "stream",
     "text": [
      "Checking Inputs...\n",
      "\n",
      "Checking Inputs...\n",
      "\n"
     ]
    }
   ],
   "source": [
    "type_proj <- map(\n",
    "    type_proj,\n",
    "    addIterativeLSI\n",
    ")"
   ]
  },
  {
   "cell_type": "code",
   "execution_count": 37,
   "id": "7ba574f6-a099-499e-9c8b-aeb608662073",
   "metadata": {
    "scrolled": true
   },
   "outputs": [
    {
     "name": "stderr",
     "output_type": "stream",
     "text": [
      "Filtering 1 dims correlated > 0.75 to log10(depth + 1)\n",
      "\n"
     ]
    }
   ],
   "source": [
    "type_proj <- map(\n",
    "    type_proj,\n",
    "    addPeak2GeneLinks,\n",
    "    useMatrix = \"GeneExpressionMatrix\"\n",
    ")"
   ]
  },
  {
   "cell_type": "markdown",
   "id": "c07ce770-dfcc-4793-b816-732ad697ae9a",
   "metadata": {},
   "source": [
    "We'll use this helper function to extract the Peak2Gene results using an absolute correlation cutoff. This is more permissive than the methods built in to ArchR, as it will allow us to retrieve negative correlations as well as positive correlations. These can be difficult to interpret, but let's keep them at this point.\n",
    "\n",
    "It's also nice to have the position of the peak, gene symbol, and distance from peak to gene for thinking about the results. This function will also collate that information from the peak and gene GRanges objects."
   ]
  },
  {
   "cell_type": "code",
   "execution_count": 134,
   "id": "6262810e-46e2-4f61-991f-c34edae2d688",
   "metadata": {},
   "outputs": [],
   "source": [
    "get_p2g_links <- function(proj, abs_cutoff = 0.1) {\n",
    "    p2g <- metadata(proj@peakSet)$Peak2GeneLinks\n",
    "    peaks <- metadata(p2g)$peakSet\n",
    "    genes <- metadata(p2g)$geneSet\n",
    "    p2g_df <- as.data.frame(p2g)\n",
    "    p2g_df <- p2g_df %>%\n",
    "      filter(abs(Correlation) > 0.1)\n",
    "    p2g_df <- p2g_df %>%\n",
    "      mutate(gene = as.character(genes$name[idxRNA]),\n",
    "             seqnames = as.character(seqnames(peaks)[idxATAC]),\n",
    "             start = start(peaks)[idxATAC],\n",
    "             end = end(peaks)[idxATAC]) %>%\n",
    "      mutate(\n",
    "         distance = pmin(\n",
    "             abs(start(peaks)[idxATAC] - start(genes)[idxRNA]),\n",
    "             abs(end(peaks)[idxATAC] - start(genes)[idxRNA])\n",
    "         )\n",
    "      )\n",
    "}"
   ]
  },
  {
   "cell_type": "code",
   "execution_count": 135,
   "id": "fe18119f-27aa-4622-a5b5-d6053e70e0ac",
   "metadata": {
    "scrolled": true
   },
   "outputs": [],
   "source": [
    "type_p2g <- map2(\n",
    "    type_proj,\n",
    "    cell_types,\n",
    "    function(proj, ct) {\n",
    "        p2g_df <- get_p2g_links(\n",
    "            proj,\n",
    "            abs_cutoff = 0.1\n",
    "        )\n",
    "        p2g_df$aifi_cell_type <- ct\n",
    "        p2g_df\n",
    "    }\n",
    ")"
   ]
  },
  {
   "cell_type": "code",
   "execution_count": 137,
   "id": "6561e152-19b2-4727-aec4-b073320cf2e8",
   "metadata": {},
   "outputs": [],
   "source": [
    "p2g_output_files <- paste0(\n",
    "    \"output/peak_to_gene-\",\n",
    "    cell_types,\n",
    "    \"_\", Sys.Date(),\n",
    "    \".rds\")"
   ]
  },
  {
   "cell_type": "code",
   "execution_count": 138,
   "id": "1eff4bed-5617-4855-abe1-795276645576",
   "metadata": {},
   "outputs": [],
   "source": [
    "walk2(\n",
    "    type_p2g,\n",
    "    p2g_output_files,\n",
    "    write.csv,\n",
    "    quote = FALSE,\n",
    "    row.names = FALSE\n",
    ")"
   ]
  },
  {
   "cell_type": "markdown",
   "id": "10c98748-9a8d-471e-ad77-f54b1c47bb30",
   "metadata": {},
   "source": [
    "### Store Peak2Gene results in HISE"
   ]
  },
  {
   "cell_type": "code",
   "execution_count": 23,
   "id": "b4efe021-6b3f-40fb-95f6-81496823bbbf",
   "metadata": {},
   "outputs": [],
   "source": [
    "study_space_uuid <- \"40df6403-29f0-4b45-ab7d-f46d420c422e\"\n",
    "title <- paste(\"VRd TEA-seq T Cell Type Peak2Gene\", Sys.Date())"
   ]
  },
  {
   "cell_type": "code",
   "execution_count": 142,
   "id": "257f2c26-a4ea-4720-a0c5-7b3a5a66d7b9",
   "metadata": {},
   "outputs": [],
   "source": [
    "out_list <- as.list(p2g_output_files)\n",
    "input_ids <- c(atac_file_uuids, scrna_file_ids)"
   ]
  },
  {
   "cell_type": "code",
   "execution_count": 27,
   "id": "b2f89b0b-2147-43d1-b2f8-1b435ed721c7",
   "metadata": {},
   "outputs": [
    {
     "data": {
      "text/html": [
       "<dl>\n",
       "\t<dt>$files</dt>\n",
       "\t\t<dd><ol>\n",
       "\t<li>'output/vrdtea_ArchR-t_cd4_cm_2023-10-02.tar'</li>\n",
       "\t<li>'output/vrdtea_ArchR-t_cd4_em_2023-10-02.tar'</li>\n",
       "\t<li>'output/vrdtea_ArchR-t_cd4_naive_2023-10-02.tar'</li>\n",
       "\t<li>'output/vrdtea_ArchR-t_cd4_treg_2023-10-02.tar'</li>\n",
       "\t<li>'output/vrdtea_ArchR-t_cd8_memory_2023-10-02.tar'</li>\n",
       "\t<li>'output/vrdtea_ArchR-t_cd8_naive_2023-10-02.tar'</li>\n",
       "</ol>\n",
       "</dd>\n",
       "\t<dt>$traceId</dt>\n",
       "\t\t<dd>'ba13262d-5c55-472c-9de2-7904fc3d9632'</dd>\n",
       "</dl>\n"
      ],
      "text/latex": [
       "\\begin{description}\n",
       "\\item[\\$files] \\begin{enumerate}\n",
       "\\item 'output/vrdtea\\_ArchR-t\\_cd4\\_cm\\_2023-10-02.tar'\n",
       "\\item 'output/vrdtea\\_ArchR-t\\_cd4\\_em\\_2023-10-02.tar'\n",
       "\\item 'output/vrdtea\\_ArchR-t\\_cd4\\_naive\\_2023-10-02.tar'\n",
       "\\item 'output/vrdtea\\_ArchR-t\\_cd4\\_treg\\_2023-10-02.tar'\n",
       "\\item 'output/vrdtea\\_ArchR-t\\_cd8\\_memory\\_2023-10-02.tar'\n",
       "\\item 'output/vrdtea\\_ArchR-t\\_cd8\\_naive\\_2023-10-02.tar'\n",
       "\\end{enumerate}\n",
       "\n",
       "\\item[\\$traceId] 'ba13262d-5c55-472c-9de2-7904fc3d9632'\n",
       "\\end{description}\n"
      ],
      "text/markdown": [
       "$files\n",
       ":   1. 'output/vrdtea_ArchR-t_cd4_cm_2023-10-02.tar'\n",
       "2. 'output/vrdtea_ArchR-t_cd4_em_2023-10-02.tar'\n",
       "3. 'output/vrdtea_ArchR-t_cd4_naive_2023-10-02.tar'\n",
       "4. 'output/vrdtea_ArchR-t_cd4_treg_2023-10-02.tar'\n",
       "5. 'output/vrdtea_ArchR-t_cd8_memory_2023-10-02.tar'\n",
       "6. 'output/vrdtea_ArchR-t_cd8_naive_2023-10-02.tar'\n",
       "\n",
       "\n",
       "\n",
       "$traceId\n",
       ":   'ba13262d-5c55-472c-9de2-7904fc3d9632'\n",
       "\n",
       "\n"
      ],
      "text/plain": [
       "$files\n",
       "$files[[1]]\n",
       "[1] \"output/vrdtea_ArchR-t_cd4_cm_2023-10-02.tar\"\n",
       "\n",
       "$files[[2]]\n",
       "[1] \"output/vrdtea_ArchR-t_cd4_em_2023-10-02.tar\"\n",
       "\n",
       "$files[[3]]\n",
       "[1] \"output/vrdtea_ArchR-t_cd4_naive_2023-10-02.tar\"\n",
       "\n",
       "$files[[4]]\n",
       "[1] \"output/vrdtea_ArchR-t_cd4_treg_2023-10-02.tar\"\n",
       "\n",
       "$files[[5]]\n",
       "[1] \"output/vrdtea_ArchR-t_cd8_memory_2023-10-02.tar\"\n",
       "\n",
       "$files[[6]]\n",
       "[1] \"output/vrdtea_ArchR-t_cd8_naive_2023-10-02.tar\"\n",
       "\n",
       "\n",
       "$traceId\n",
       "[1] \"ba13262d-5c55-472c-9de2-7904fc3d9632\"\n"
      ]
     },
     "metadata": {},
     "output_type": "display_data"
    }
   ],
   "source": [
    "uploadFiles(\n",
    "    files = out_list,\n",
    "    studySpaceId = study_space_uuid,\n",
    "    title = title,\n",
    "    inputFileIds = input_ids,\n",
    "    store = \"project\",\n",
    "    doPrompt = FALSE\n",
    ")"
   ]
  },
  {
   "cell_type": "markdown",
   "id": "0f425145-cfb6-4e81-86a6-407de1ddfd93",
   "metadata": {},
   "source": [
    "# Session Info"
   ]
  },
  {
   "cell_type": "code",
   "execution_count": 29,
   "id": "e6aba05a-69c1-4b76-9ad0-abd1048c7dae",
   "metadata": {},
   "outputs": [
    {
     "data": {
      "text/plain": [
       "R version 4.3.1 (2023-06-16)\n",
       "Platform: x86_64-conda-linux-gnu (64-bit)\n",
       "Running under: Ubuntu 20.04.6 LTS\n",
       "\n",
       "Matrix products: default\n",
       "BLAS/LAPACK: /opt/conda/lib/libopenblasp-r0.3.23.so;  LAPACK version 3.11.0\n",
       "\n",
       "Random number generation:\n",
       " RNG:     L'Ecuyer-CMRG \n",
       " Normal:  Inversion \n",
       " Sample:  Rejection \n",
       " \n",
       "locale:\n",
       " [1] LC_CTYPE=C.UTF-8       LC_NUMERIC=C           LC_TIME=C.UTF-8       \n",
       " [4] LC_COLLATE=C.UTF-8     LC_MONETARY=C.UTF-8    LC_MESSAGES=C.UTF-8   \n",
       " [7] LC_PAPER=C.UTF-8       LC_NAME=C              LC_ADDRESS=C          \n",
       "[10] LC_TELEPHONE=C         LC_MEASUREMENT=C.UTF-8 LC_IDENTIFICATION=C   \n",
       "\n",
       "time zone: Etc/UTC\n",
       "tzcode source: system (glibc)\n",
       "\n",
       "attached base packages:\n",
       " [1] parallel  stats4    grid      stats     graphics  grDevices utils    \n",
       " [8] datasets  methods   base     \n",
       "\n",
       "other attached packages:\n",
       " [1] uwot_0.1.16                       Seurat_4.3.0.1                   \n",
       " [3] SeuratObject_4.1.3                sp_2.0-0                         \n",
       " [5] presto_1.0.0                      nabor_0.5.0                      \n",
       " [7] chromVARmotifs_0.2.0              motifmatchr_1.22.0               \n",
       " [9] BSgenome.Hsapiens.UCSC.hg38_1.4.5 BSgenome_1.68.0                  \n",
       "[11] rtracklayer_1.60.1                Biostrings_2.68.1                \n",
       "[13] XVector_0.40.0                    purrr_1.0.2                      \n",
       "[15] rhdf5_2.44.0                      SummarizedExperiment_1.30.2      \n",
       "[17] Biobase_2.60.0                    MatrixGenerics_1.12.3            \n",
       "[19] Rcpp_1.0.11                       Matrix_1.6-1                     \n",
       "[21] GenomicRanges_1.52.0              GenomeInfoDb_1.36.2              \n",
       "[23] IRanges_2.34.1                    S4Vectors_0.38.1                 \n",
       "[25] BiocGenerics_0.46.0               matrixStats_1.0.0                \n",
       "[27] data.table_1.14.8                 stringr_1.5.0                    \n",
       "[29] plyr_1.8.8                        magrittr_2.0.3                   \n",
       "[31] ggplot2_3.4.3                     gtable_0.3.4                     \n",
       "[33] gtools_3.9.4                      gridExtra_2.3                    \n",
       "[35] ArchR_1.0.2                       dplyr_1.1.3                      \n",
       "[37] hise_2.16.0                      \n",
       "\n",
       "loaded via a namespace (and not attached):\n",
       "  [1] RcppAnnoy_0.0.21            splines_4.3.1              \n",
       "  [3] later_1.3.1                 pbdZMQ_0.3-10              \n",
       "  [5] BiocIO_1.10.0               bitops_1.0-7               \n",
       "  [7] tibble_3.2.1                R.oo_1.25.0                \n",
       "  [9] polyclip_1.10-4             XML_3.99-0.14              \n",
       " [11] DirichletMultinomial_1.42.0 lifecycle_1.0.3            \n",
       " [13] globals_0.16.2              lattice_0.21-8             \n",
       " [15] MASS_7.3-60                 plotly_4.10.2              \n",
       " [17] yaml_2.3.7                  httpuv_1.6.11              \n",
       " [19] sctransform_0.3.5           spatstat.sparse_3.0-2      \n",
       " [21] reticulate_1.31             pbapply_1.7-2              \n",
       " [23] cowplot_1.1.1               DBI_1.1.3                  \n",
       " [25] CNEr_1.36.0                 RColorBrewer_1.1-3         \n",
       " [27] abind_1.4-5                 zlibbioc_1.46.0            \n",
       " [29] Rtsne_0.16                  R.utils_2.12.2             \n",
       " [31] RCurl_1.98-1.12             pracma_2.4.2               \n",
       " [33] GenomeInfoDbData_1.2.10     ggrepel_0.9.3              \n",
       " [35] irlba_2.3.5.1               spatstat.utils_3.0-3       \n",
       " [37] listenv_0.9.0               seqLogo_1.66.0             \n",
       " [39] goftest_1.2-3               spatstat.random_3.1-5      \n",
       " [41] annotate_1.78.0             fitdistrplus_1.1-11        \n",
       " [43] parallelly_1.36.0           leiden_0.4.3               \n",
       " [45] codetools_0.2-19            DelayedArray_0.26.7        \n",
       " [47] tidyselect_1.2.0            farver_2.1.1               \n",
       " [49] spatstat.explore_3.2-1      base64enc_0.1-3            \n",
       " [51] GenomicAlignments_1.36.0    jsonlite_1.8.7             \n",
       " [53] ellipsis_0.3.2              progressr_0.14.0           \n",
       " [55] ggridges_0.5.4              survival_3.5-7             \n",
       " [57] tools_4.3.1                 TFMPvalue_0.0.9            \n",
       " [59] ica_1.0-3                   glue_1.6.2                 \n",
       " [61] IRdisplay_1.1               withr_2.5.0                \n",
       " [63] fastmap_1.1.1               rhdf5filters_1.12.1        \n",
       " [65] fansi_1.0.4                 caTools_1.18.2             \n",
       " [67] digest_0.6.33               mime_0.12                  \n",
       " [69] R6_2.5.1                    colorspace_2.1-0           \n",
       " [71] Cairo_1.6-1                 scattermore_1.2            \n",
       " [73] GO.db_3.17.0                tensor_1.5                 \n",
       " [75] poweRlaw_0.70.6             spatstat.data_3.0-1        \n",
       " [77] RSQLite_2.3.1               R.methodsS3_1.8.2          \n",
       " [79] tidyr_1.3.0                 utf8_1.2.3                 \n",
       " [81] generics_0.1.3              htmlwidgets_1.6.2          \n",
       " [83] httr_1.4.7                  S4Arrays_1.0.6             \n",
       " [85] TFBSTools_1.38.0            pkgconfig_2.0.3            \n",
       " [87] blob_1.2.4                  lmtest_0.9-40              \n",
       " [89] htmltools_0.5.6             scales_1.2.1               \n",
       " [91] png_0.1-8                   tzdb_0.4.0                 \n",
       " [93] reshape2_1.4.4              rjson_0.2.21               \n",
       " [95] uuid_1.1-1                  nlme_3.1-163               \n",
       " [97] curl_5.0.2                  repr_1.1.6.9000            \n",
       " [99] cachem_1.0.8                zoo_1.8-12                 \n",
       "[101] KernSmooth_2.23-22          miniUI_0.1.1.1             \n",
       "[103] AnnotationDbi_1.62.2        restfulr_0.0.15            \n",
       "[105] pillar_1.9.0                vctrs_0.6.3                \n",
       "[107] RANN_2.6.1                  promises_1.2.1             \n",
       "[109] xtable_1.8-4                cluster_2.1.4              \n",
       "[111] evaluate_0.21               readr_2.1.4                \n",
       "[113] cli_3.6.1                   compiler_4.3.1             \n",
       "[115] Rsamtools_2.16.0            rlang_1.1.1                \n",
       "[117] crayon_1.5.2                future.apply_1.11.0        \n",
       "[119] labeling_0.4.3              stringi_1.7.12             \n",
       "[121] deldir_1.0-9                viridisLite_0.4.2          \n",
       "[123] BiocParallel_1.34.2         assertthat_0.2.1           \n",
       "[125] munsell_0.5.0               lazyeval_0.2.2             \n",
       "[127] spatstat.geom_3.2-5         IRkernel_1.3.2             \n",
       "[129] patchwork_1.1.3             hms_1.1.3                  \n",
       "[131] bit64_4.0.5                 future_1.33.0              \n",
       "[133] Rhdf5lib_1.22.0             KEGGREST_1.40.0            \n",
       "[135] shiny_1.7.5                 ROCR_1.0-11                \n",
       "[137] igraph_1.5.1                memoise_2.0.1              \n",
       "[139] bit_4.0.5                  "
      ]
     },
     "metadata": {},
     "output_type": "display_data"
    }
   ],
   "source": [
    "sessionInfo()"
   ]
  },
  {
   "cell_type": "code",
   "execution_count": null,
   "id": "bb975889-3865-492c-a28b-d3d0f0a222eb",
   "metadata": {},
   "outputs": [],
   "source": []
  }
 ],
 "metadata": {
  "kernelspec": {
   "display_name": "R 4",
   "language": "R",
   "name": "ir4"
  },
  "language_info": {
   "codemirror_mode": "r",
   "file_extension": ".r",
   "mimetype": "text/x-r-source",
   "name": "R",
   "pygments_lexer": "r",
   "version": "4.3.1"
  }
 },
 "nbformat": 4,
 "nbformat_minor": 5
}
