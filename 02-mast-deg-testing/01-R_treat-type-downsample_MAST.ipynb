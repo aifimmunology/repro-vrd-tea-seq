{
 "cells": [
  {
   "cell_type": "markdown",
   "id": "a1887682-7939-489f-a207-e81b26c7e07d",
   "metadata": {},
   "source": [
    "# Perform MAST Differential Expression Tests\n",
    "\n",
    "In this notebook, we retrieve our CD4 and CD8 T cells and our cell type labels, then perform MAST differential gene expression tests. Comparisons will be carried out for each drug treatment at each timepoint compared to the DMSO-only control for each timepoint within each cell type.\n",
    "\n",
    "To balance cell counts, we'll group cells by treatment or control and cell type, then use the minimum number of cells across all samples. For example, to test CD4 Naive T cells under Bortezomib treatment, we'll examine the number of CD4 Naive cells in Bortezomib and DMSO at 4, 24, and 72 hours and randomly sample based on the minimum counts from all 6 samples.\n",
    "\n",
    "We'll then perform comparisons between treatment and control at each timepoint (e.g. CD4 Naive w/Bortezomib @ 4 hr vs. CD4 Naive w/DMSO @4 hr). \n",
    "\n",
    "For MAST, we need to also include Cellular Detection Rate (CDR) as a cofactor to control for gene expression differences between samples."
   ]
  },
  {
   "cell_type": "markdown",
   "id": "c4235301-2930-4ac0-82d8-435d26a543ac",
   "metadata": {
    "tags": []
   },
   "source": [
    "## Load packages\n",
    "\n",
    "hise: The Human Immune System Explorer R SDK package  \n",
    "purrr: Functional programming tools  \n",
    "furrr: Parallelization of functional programming using `futures`  \n",
    "dplyr: Dataframe handling functions  \n",
    "ggplot2: plotting functions  \n",
    "Seurat: single cell genomics methods  \n",
    "MAST: single cell differential expression tests"
   ]
  },
  {
   "cell_type": "code",
   "execution_count": 1,
   "id": "079bed78-ca7c-4314-aa80-fa884b82a934",
   "metadata": {},
   "outputs": [],
   "source": [
    "quiet_library <- function(...) { suppressPackageStartupMessages(library(...)) }\n",
    "quiet_library(hise)\n",
    "quiet_library(purrr)\n",
    "quiet_library(furrr)\n",
    "quiet_library(dplyr)\n",
    "quiet_library(ggplot2)\n",
    "quiet_library(Seurat)\n",
    "quiet_library(MAST)"
   ]
  },
  {
   "cell_type": "markdown",
   "id": "0b6cdb98-1cd3-47dd-a43b-c499e349a029",
   "metadata": {},
   "source": [
    "## Retrieve files\n",
    "\n",
    "Now, we'll use the HISE SDK package to retrieve the Seurat objects and cell type labels based on file UUIDs. This will be placed in the `cache/` subdirectory by default."
   ]
  },
  {
   "cell_type": "code",
   "execution_count": 2,
   "id": "65f97749-6524-4a1a-8556-d04f5113d61e",
   "metadata": {},
   "outputs": [],
   "source": [
    "file_uuids <- list(\n",
    "    \"7bdac6ef-e5e5-4150-b4f3-9c1a1e250334\", # CD4 T cell Seurat object\n",
    "    \"46438bc4-cde6-4ae6-b349-9c513dd9d16f\", # CD8 T cell Seurat object\n",
    "    \"ebd4bee7-2f5d-46e1-b2fc-22157f1b8d04\", # CD4 type labels\n",
    "    \"4d6aade9-288c-452f-8f0d-ac59e539f4cc\"  # CD8 type labels\n",
    ")"
   ]
  },
  {
   "cell_type": "code",
   "execution_count": 3,
   "id": "0f53f481-6286-4989-8d1e-8827d7eb48f0",
   "metadata": {
    "scrolled": true
   },
   "outputs": [],
   "source": [
    "fres <- cacheFiles(file_uuids)"
   ]
  },
  {
   "cell_type": "markdown",
   "id": "e870676a-e616-4f17-9d09-715157d93235",
   "metadata": {},
   "source": [
    "## Select cells\n"
   ]
  },
  {
   "cell_type": "code",
   "execution_count": 4,
   "id": "e8788e01-b60d-46f8-a6bc-3b70a2f2848f",
   "metadata": {},
   "outputs": [],
   "source": [
    "cd4_labels <- read.csv(\"cache/ebd4bee7-2f5d-46e1-b2fc-22157f1b8d04/cd4_cell_type_labels_2023-09-05.csv\")\n",
    "cd8_labels <- read.csv(\"cache/4d6aade9-288c-452f-8f0d-ac59e539f4cc/cd8_cell_type_labels_2023-09-05.csv\")"
   ]
  },
  {
   "cell_type": "code",
   "execution_count": 5,
   "id": "84efcc74-2115-4c44-8d9a-b510b3d27d86",
   "metadata": {},
   "outputs": [],
   "source": [
    "all_labels <- rbind(cd4_labels, cd8_labels)"
   ]
  },
  {
   "cell_type": "code",
   "execution_count": 6,
   "id": "4fa6631b-b894-45e8-8c0d-cdb48be44a81",
   "metadata": {},
   "outputs": [
    {
     "data": {
      "text/html": [
       "<table class=\"dataframe\">\n",
       "<caption>A data.frame: 6 × 10</caption>\n",
       "<thead>\n",
       "\t<tr><th></th><th scope=col>barcodes</th><th scope=col>treatment</th><th scope=col>timepoint</th><th scope=col>predicted.celltype.l1.score</th><th scope=col>predicted.celltype.l1</th><th scope=col>predicted.celltype.l2.score</th><th scope=col>predicted.celltype.l2</th><th scope=col>predicted.celltype.l3.score</th><th scope=col>predicted.celltype.l3</th><th scope=col>aifi_cell_type</th></tr>\n",
       "\t<tr><th></th><th scope=col>&lt;chr&gt;</th><th scope=col>&lt;chr&gt;</th><th scope=col>&lt;int&gt;</th><th scope=col>&lt;dbl&gt;</th><th scope=col>&lt;chr&gt;</th><th scope=col>&lt;dbl&gt;</th><th scope=col>&lt;chr&gt;</th><th scope=col>&lt;dbl&gt;</th><th scope=col>&lt;chr&gt;</th><th scope=col>&lt;chr&gt;</th></tr>\n",
       "</thead>\n",
       "<tbody>\n",
       "\t<tr><th scope=row>1</th><td>2da9d348fb8111eda35df29f570c0793</td><td>dmso</td><td>24</td><td>1</td><td>CD4 T</td><td>0.7379073</td><td>CD4 Naive</td><td>0.7379073</td><td>CD4 Naive</td><td>t_cd4_naive</td></tr>\n",
       "\t<tr><th scope=row>2</th><td>2daec6d2fb8111eda35df29f570c0793</td><td>dmso</td><td>24</td><td>1</td><td>CD4 T</td><td>1.0000000</td><td>CD4 Naive</td><td>1.0000000</td><td>CD4 Naive</td><td>t_cd4_naive</td></tr>\n",
       "\t<tr><th scope=row>3</th><td>2db119d2fb8111eda35df29f570c0793</td><td>dmso</td><td>24</td><td>1</td><td>CD4 T</td><td>0.6491493</td><td>CD4 TCM  </td><td>0.4892181</td><td>CD4 TCM_1</td><td>t_cd4_naive</td></tr>\n",
       "\t<tr><th scope=row>4</th><td>2db582c4fb8111eda35df29f570c0793</td><td>dmso</td><td>24</td><td>1</td><td>CD4 T</td><td>0.8972198</td><td>CD4 Naive</td><td>0.8972198</td><td>CD4 Naive</td><td>t_cd4_naive</td></tr>\n",
       "\t<tr><th scope=row>5</th><td>2db6727efb8111eda35df29f570c0793</td><td>dmso</td><td>24</td><td>1</td><td>CD4 T</td><td>0.3939763</td><td>CD4 TCM  </td><td>0.2974696</td><td>CD4 Naive</td><td>t_cd4_naive</td></tr>\n",
       "\t<tr><th scope=row>6</th><td>2dc35a20fb8111eda35df29f570c0793</td><td>dmso</td><td>24</td><td>1</td><td>CD4 T</td><td>0.6306972</td><td>CD4 Naive</td><td>0.6306972</td><td>CD4 Naive</td><td>t_cd4_naive</td></tr>\n",
       "</tbody>\n",
       "</table>\n"
      ],
      "text/latex": [
       "A data.frame: 6 × 10\n",
       "\\begin{tabular}{r|llllllllll}\n",
       "  & barcodes & treatment & timepoint & predicted.celltype.l1.score & predicted.celltype.l1 & predicted.celltype.l2.score & predicted.celltype.l2 & predicted.celltype.l3.score & predicted.celltype.l3 & aifi\\_cell\\_type\\\\\n",
       "  & <chr> & <chr> & <int> & <dbl> & <chr> & <dbl> & <chr> & <dbl> & <chr> & <chr>\\\\\n",
       "\\hline\n",
       "\t1 & 2da9d348fb8111eda35df29f570c0793 & dmso & 24 & 1 & CD4 T & 0.7379073 & CD4 Naive & 0.7379073 & CD4 Naive & t\\_cd4\\_naive\\\\\n",
       "\t2 & 2daec6d2fb8111eda35df29f570c0793 & dmso & 24 & 1 & CD4 T & 1.0000000 & CD4 Naive & 1.0000000 & CD4 Naive & t\\_cd4\\_naive\\\\\n",
       "\t3 & 2db119d2fb8111eda35df29f570c0793 & dmso & 24 & 1 & CD4 T & 0.6491493 & CD4 TCM   & 0.4892181 & CD4 TCM\\_1 & t\\_cd4\\_naive\\\\\n",
       "\t4 & 2db582c4fb8111eda35df29f570c0793 & dmso & 24 & 1 & CD4 T & 0.8972198 & CD4 Naive & 0.8972198 & CD4 Naive & t\\_cd4\\_naive\\\\\n",
       "\t5 & 2db6727efb8111eda35df29f570c0793 & dmso & 24 & 1 & CD4 T & 0.3939763 & CD4 TCM   & 0.2974696 & CD4 Naive & t\\_cd4\\_naive\\\\\n",
       "\t6 & 2dc35a20fb8111eda35df29f570c0793 & dmso & 24 & 1 & CD4 T & 0.6306972 & CD4 Naive & 0.6306972 & CD4 Naive & t\\_cd4\\_naive\\\\\n",
       "\\end{tabular}\n"
      ],
      "text/markdown": [
       "\n",
       "A data.frame: 6 × 10\n",
       "\n",
       "| <!--/--> | barcodes &lt;chr&gt; | treatment &lt;chr&gt; | timepoint &lt;int&gt; | predicted.celltype.l1.score &lt;dbl&gt; | predicted.celltype.l1 &lt;chr&gt; | predicted.celltype.l2.score &lt;dbl&gt; | predicted.celltype.l2 &lt;chr&gt; | predicted.celltype.l3.score &lt;dbl&gt; | predicted.celltype.l3 &lt;chr&gt; | aifi_cell_type &lt;chr&gt; |\n",
       "|---|---|---|---|---|---|---|---|---|---|---|\n",
       "| 1 | 2da9d348fb8111eda35df29f570c0793 | dmso | 24 | 1 | CD4 T | 0.7379073 | CD4 Naive | 0.7379073 | CD4 Naive | t_cd4_naive |\n",
       "| 2 | 2daec6d2fb8111eda35df29f570c0793 | dmso | 24 | 1 | CD4 T | 1.0000000 | CD4 Naive | 1.0000000 | CD4 Naive | t_cd4_naive |\n",
       "| 3 | 2db119d2fb8111eda35df29f570c0793 | dmso | 24 | 1 | CD4 T | 0.6491493 | CD4 TCM   | 0.4892181 | CD4 TCM_1 | t_cd4_naive |\n",
       "| 4 | 2db582c4fb8111eda35df29f570c0793 | dmso | 24 | 1 | CD4 T | 0.8972198 | CD4 Naive | 0.8972198 | CD4 Naive | t_cd4_naive |\n",
       "| 5 | 2db6727efb8111eda35df29f570c0793 | dmso | 24 | 1 | CD4 T | 0.3939763 | CD4 TCM   | 0.2974696 | CD4 Naive | t_cd4_naive |\n",
       "| 6 | 2dc35a20fb8111eda35df29f570c0793 | dmso | 24 | 1 | CD4 T | 0.6306972 | CD4 Naive | 0.6306972 | CD4 Naive | t_cd4_naive |\n",
       "\n"
      ],
      "text/plain": [
       "  barcodes                         treatment timepoint\n",
       "1 2da9d348fb8111eda35df29f570c0793 dmso      24       \n",
       "2 2daec6d2fb8111eda35df29f570c0793 dmso      24       \n",
       "3 2db119d2fb8111eda35df29f570c0793 dmso      24       \n",
       "4 2db582c4fb8111eda35df29f570c0793 dmso      24       \n",
       "5 2db6727efb8111eda35df29f570c0793 dmso      24       \n",
       "6 2dc35a20fb8111eda35df29f570c0793 dmso      24       \n",
       "  predicted.celltype.l1.score predicted.celltype.l1 predicted.celltype.l2.score\n",
       "1 1                           CD4 T                 0.7379073                  \n",
       "2 1                           CD4 T                 1.0000000                  \n",
       "3 1                           CD4 T                 0.6491493                  \n",
       "4 1                           CD4 T                 0.8972198                  \n",
       "5 1                           CD4 T                 0.3939763                  \n",
       "6 1                           CD4 T                 0.6306972                  \n",
       "  predicted.celltype.l2 predicted.celltype.l3.score predicted.celltype.l3\n",
       "1 CD4 Naive             0.7379073                   CD4 Naive            \n",
       "2 CD4 Naive             1.0000000                   CD4 Naive            \n",
       "3 CD4 TCM               0.4892181                   CD4 TCM_1            \n",
       "4 CD4 Naive             0.8972198                   CD4 Naive            \n",
       "5 CD4 TCM               0.2974696                   CD4 Naive            \n",
       "6 CD4 Naive             0.6306972                   CD4 Naive            \n",
       "  aifi_cell_type\n",
       "1 t_cd4_naive   \n",
       "2 t_cd4_naive   \n",
       "3 t_cd4_naive   \n",
       "4 t_cd4_naive   \n",
       "5 t_cd4_naive   \n",
       "6 t_cd4_naive   "
      ]
     },
     "metadata": {},
     "output_type": "display_data"
    }
   ],
   "source": [
    "head(all_labels)"
   ]
  },
  {
   "cell_type": "markdown",
   "id": "b7cd6595-c43c-42dd-8da9-7441084bfa7a",
   "metadata": {},
   "source": [
    "Exclude untreated cells - we won't use these for our treatment comparisons"
   ]
  },
  {
   "cell_type": "code",
   "execution_count": 7,
   "id": "6a999d1f-fb61-4a1f-bd44-801fda550694",
   "metadata": {},
   "outputs": [],
   "source": [
    "all_labels <- all_labels %>%\n",
    "  filter(treatment != \"untreated\")"
   ]
  },
  {
   "cell_type": "markdown",
   "id": "6d67ebaa-e523-4963-b52a-7b50c23513a9",
   "metadata": {},
   "source": [
    "Get counts of each cell type for each sample:"
   ]
  },
  {
   "cell_type": "code",
   "execution_count": 8,
   "id": "badeb3a7-3856-4965-83d3-3f69d839d688",
   "metadata": {},
   "outputs": [],
   "source": [
    "count_summary <- all_labels %>%\n",
    "  group_by(treatment, timepoint, aifi_cell_type) %>%\n",
    "  summarise(n_cells = n(),\n",
    "            .groups = \"keep\") %>%\n",
    "  ungroup()"
   ]
  },
  {
   "cell_type": "markdown",
   "id": "999b85b3-2303-42af-a95c-8d60ce8bd011",
   "metadata": {},
   "source": [
    "Add a column for DMSO counts per type and timepoint"
   ]
  },
  {
   "cell_type": "code",
   "execution_count": 9,
   "id": "e854bce1-dd09-47df-80c4-1f06171f445f",
   "metadata": {},
   "outputs": [],
   "source": [
    "count_summary <- count_summary %>%\n",
    "  ungroup() %>%\n",
    "  group_by(aifi_cell_type, timepoint) %>%\n",
    "  mutate(n_dmso = n_cells[treatment == \"dmso\"]) %>%\n",
    "  ungroup() %>%\n",
    "  filter(treatment != \"dmso\")"
   ]
  },
  {
   "cell_type": "markdown",
   "id": "c8c86f7c-70fe-41a3-bdab-f320c769ff36",
   "metadata": {},
   "source": [
    "Regroup by treatment and cell type, and use treatment and DMSO counts to find minimums for sampling"
   ]
  },
  {
   "cell_type": "code",
   "execution_count": 10,
   "id": "e6b533fa-1bb2-45ab-a20f-e31e9e9fece4",
   "metadata": {},
   "outputs": [],
   "source": [
    "type_minimums <- count_summary %>%\n",
    "  group_by(treatment, aifi_cell_type) %>%\n",
    "  mutate(n_sample = min(c(n_cells, n_dmso)))"
   ]
  },
  {
   "cell_type": "raw",
   "id": "e8af9c8e-4d55-41bc-87d6-fe2dfc71da64",
   "metadata": {},
   "source": [
    "type_minimums %>%\n",
    "  arrange(treatment, aifi_cell_type, timepoint)"
   ]
  },
  {
   "cell_type": "code",
   "execution_count": 11,
   "id": "49c0b075-85dc-4058-a696-4731c87adb6b",
   "metadata": {},
   "outputs": [],
   "source": [
    "comp_list <- map(\n",
    "    1:nrow(type_minimums),\n",
    "    function(i) {\n",
    "        as.list(type_minimums[i,])\n",
    "    }\n",
    ")"
   ]
  },
  {
   "cell_type": "markdown",
   "id": "0a903c57-0990-4beb-aee2-2a5c45be848a",
   "metadata": {},
   "source": [
    "## Sample cells for each test\n",
    "\n",
    "Here, we'll sample cells for comparisons and generate a table of foreground and background cells to use for analysis."
   ]
  },
  {
   "cell_type": "code",
   "execution_count": 12,
   "id": "4eb4c0fa-1ea3-4416-808a-9a0c1ce09137",
   "metadata": {},
   "outputs": [],
   "source": [
    "sampled_comp_cells <- map(\n",
    "    comp_list,\n",
    "    function(comp) {\n",
    "        set.seed(3030)\n",
    "        \n",
    "        tp <- comp$timepoint\n",
    "        ct <- comp$aifi_cell_type\n",
    "        \n",
    "        fg_treat <- comp$treatment\n",
    "        bg_treat <- \"dmso\"\n",
    "\n",
    "        n_sample <- comp$n_sample\n",
    "\n",
    "        fg_cells <- all_labels %>%\n",
    "          filter(treatment == fg_treat,\n",
    "                 timepoint == tp,\n",
    "                 aifi_cell_type == ct) %>%\n",
    "          sample_n(n_sample)\n",
    "        bg_cells <- all_labels %>%\n",
    "          filter(treatment == bg_treat,\n",
    "                 timepoint == tp,\n",
    "                 aifi_cell_type == ct) %>%\n",
    "          sample_n(n_sample)\n",
    "\n",
    "        rbind(bg_cells, fg_cells)\n",
    "    }\n",
    ")"
   ]
  },
  {
   "cell_type": "markdown",
   "id": "4774cf5f-71c5-4b10-ac13-72aabe4ea4b9",
   "metadata": {},
   "source": [
    "## Build matrices for each test\n",
    "\n",
    "Now, we'll use the selected cells to build a data matrix for each comparison.\n",
    "\n",
    "We'll use these together with the cell metadata to run MAST. Because some steps in the analysis are single-threaded, I've found that it's quite efficient to build a list of datasets and run MAST on each comparison using its own core, rather than rely on the built-in parallelization provided by MAST. This may not be possible on larger datasets, where duplication of data in RAM would be prohibitive (i.e. the shared DMSO control data), but on the scale used for this analysis we should get away with it."
   ]
  },
  {
   "cell_type": "code",
   "execution_count": 13,
   "id": "452a6331-d907-4c37-a5c4-b73ac88ffe55",
   "metadata": {},
   "outputs": [],
   "source": [
    "cd4_so <- readRDS(\"cache/7bdac6ef-e5e5-4150-b4f3-9c1a1e250334/filtered_cd4_te_seurat.rds\")\n",
    "cd8_so <- readRDS(\"cache/46438bc4-cde6-4ae6-b349-9c513dd9d16f/filtered_cd8_te_seurat.rds\")"
   ]
  },
  {
   "cell_type": "code",
   "execution_count": 14,
   "id": "260552bd-3566-4713-9a14-25358c93904c",
   "metadata": {},
   "outputs": [],
   "source": [
    "all_so <- merge(cd4_so, cd8_so)"
   ]
  },
  {
   "cell_type": "code",
   "execution_count": 15,
   "id": "a630056c-0435-4013-acfa-18b3505ddf41",
   "metadata": {},
   "outputs": [],
   "source": [
    "all_so <- NormalizeData(\n",
    "    all_so, \n",
    "    normalization.method = \"LogNormalize\"\n",
    ")"
   ]
  },
  {
   "cell_type": "code",
   "execution_count": 16,
   "id": "47cbc259-fbc0-45c8-b37d-d1235e08e29c",
   "metadata": {},
   "outputs": [],
   "source": [
    "all_mat <- all_so[[\"RNA\"]]@data\n",
    "rm(cd4_so)\n",
    "rm(cd8_so)\n",
    "rm(all_so)"
   ]
  },
  {
   "cell_type": "code",
   "execution_count": 17,
   "id": "c790d960-70b8-44b5-b0e0-76bd527d7dc2",
   "metadata": {},
   "outputs": [],
   "source": [
    "sampled_comp_mats <- map(\n",
    "    sampled_comp_cells,\n",
    "    function(meta) {\n",
    "        all_mat[,meta$barcodes]\n",
    "    }\n",
    ")"
   ]
  },
  {
   "cell_type": "markdown",
   "id": "1b5a2c0a-6230-4a9b-be47-e02a87a3f965",
   "metadata": {},
   "source": [
    "## Filter genes prior to testing\n",
    "\n",
    "Before we perform differential tests, we'll remove genes that have low expression in either test group. For our purposes, we'll remove any gene that isn't expressed in at least 5% of either the treatment or DMSO control cells. Note that we don't require that the gene be expressed in 5% of **both** groups - a difference between low/no expression in one group and > 5% expression in another group would still be good to capture."
   ]
  },
  {
   "cell_type": "code",
   "execution_count": 18,
   "id": "ac4704ec-7352-4146-a63c-b545fcaa01d2",
   "metadata": {},
   "outputs": [],
   "source": [
    "min_gene_frac <- 0.05"
   ]
  },
  {
   "cell_type": "code",
   "execution_count": 19,
   "id": "c3db5730-60cd-4899-aa43-345afd48adcd",
   "metadata": {},
   "outputs": [],
   "source": [
    "filtered_comp_mats <- map2(\n",
    "    sampled_comp_cells,\n",
    "    sampled_comp_mats,\n",
    "    function(meta, mat) {\n",
    "        fg_meta <- meta %>%\n",
    "          filter(treatment != \"dmso\")\n",
    "        bg_meta <- meta %>%\n",
    "          filter(treatment == \"dmso\")\n",
    "\n",
    "        fg_mat <- mat[,fg_meta$barcodes]\n",
    "        bg_mat <- mat[,bg_meta$barcodes]\n",
    "\n",
    "        # Running diff on the pointers of transposed sparse matrices is a pretty fast way to get # non-zero\n",
    "        fg_fracs <- diff(t(fg_mat)@p) / ncol(fg_mat)\n",
    "        bg_fracs <- diff(t(bg_mat)@p) / ncol(bg_mat)\n",
    "\n",
    "        keep_genes <- fg_fracs > min_gene_frac | bg_fracs > min_gene_frac\n",
    "\n",
    "        mat[keep_genes,]\n",
    "    }\n",
    ")"
   ]
  },
  {
   "cell_type": "code",
   "execution_count": 20,
   "id": "dec6edb6-5aa8-48fb-975a-d7071b8d2f22",
   "metadata": {},
   "outputs": [
    {
     "data": {
      "text/html": [
       "<style>\n",
       ".list-inline {list-style: none; margin:0; padding: 0}\n",
       ".list-inline>li {display: inline-block}\n",
       ".list-inline>li:not(:last-child)::after {content: \"\\00b7\"; padding: 0 .5ex}\n",
       "</style>\n",
       "<ol class=list-inline><li>7927</li><li>7761</li><li>7170</li><li>8358</li><li>7689</li><li>7817</li><li>8494</li><li>8291</li><li>7670</li><li>8759</li><li>8285</li><li>8339</li><li>9125</li><li>8954</li><li>8289</li><li>9126</li><li>8829</li><li>9046</li><li>7865</li><li>7615</li><li>7159</li><li>7600</li><li>7591</li><li>7685</li><li>8370</li><li>8160</li><li>7643</li><li>8210</li><li>8219</li><li>8194</li><li>8017</li><li>7772</li><li>7218</li><li>7654</li><li>7739</li><li>7783</li><li>8501</li><li>8403</li><li>7741</li><li>8129</li><li>8341</li><li>8311</li><li>8589</li><li>8689</li><li>7736</li><li>8322</li><li>8707</li><li>8518</li></ol>\n"
      ],
      "text/latex": [
       "\\begin{enumerate*}\n",
       "\\item 7927\n",
       "\\item 7761\n",
       "\\item 7170\n",
       "\\item 8358\n",
       "\\item 7689\n",
       "\\item 7817\n",
       "\\item 8494\n",
       "\\item 8291\n",
       "\\item 7670\n",
       "\\item 8759\n",
       "\\item 8285\n",
       "\\item 8339\n",
       "\\item 9125\n",
       "\\item 8954\n",
       "\\item 8289\n",
       "\\item 9126\n",
       "\\item 8829\n",
       "\\item 9046\n",
       "\\item 7865\n",
       "\\item 7615\n",
       "\\item 7159\n",
       "\\item 7600\n",
       "\\item 7591\n",
       "\\item 7685\n",
       "\\item 8370\n",
       "\\item 8160\n",
       "\\item 7643\n",
       "\\item 8210\n",
       "\\item 8219\n",
       "\\item 8194\n",
       "\\item 8017\n",
       "\\item 7772\n",
       "\\item 7218\n",
       "\\item 7654\n",
       "\\item 7739\n",
       "\\item 7783\n",
       "\\item 8501\n",
       "\\item 8403\n",
       "\\item 7741\n",
       "\\item 8129\n",
       "\\item 8341\n",
       "\\item 8311\n",
       "\\item 8589\n",
       "\\item 8689\n",
       "\\item 7736\n",
       "\\item 8322\n",
       "\\item 8707\n",
       "\\item 8518\n",
       "\\end{enumerate*}\n"
      ],
      "text/markdown": [
       "1. 7927\n",
       "2. 7761\n",
       "3. 7170\n",
       "4. 8358\n",
       "5. 7689\n",
       "6. 7817\n",
       "7. 8494\n",
       "8. 8291\n",
       "9. 7670\n",
       "10. 8759\n",
       "11. 8285\n",
       "12. 8339\n",
       "13. 9125\n",
       "14. 8954\n",
       "15. 8289\n",
       "16. 9126\n",
       "17. 8829\n",
       "18. 9046\n",
       "19. 7865\n",
       "20. 7615\n",
       "21. 7159\n",
       "22. 7600\n",
       "23. 7591\n",
       "24. 7685\n",
       "25. 8370\n",
       "26. 8160\n",
       "27. 7643\n",
       "28. 8210\n",
       "29. 8219\n",
       "30. 8194\n",
       "31. 8017\n",
       "32. 7772\n",
       "33. 7218\n",
       "34. 7654\n",
       "35. 7739\n",
       "36. 7783\n",
       "37. 8501\n",
       "38. 8403\n",
       "39. 7741\n",
       "40. 8129\n",
       "41. 8341\n",
       "42. 8311\n",
       "43. 8589\n",
       "44. 8689\n",
       "45. 7736\n",
       "46. 8322\n",
       "47. 8707\n",
       "48. 8518\n",
       "\n",
       "\n"
      ],
      "text/plain": [
       " [1] 7927 7761 7170 8358 7689 7817 8494 8291 7670 8759 8285 8339 9125 8954 8289\n",
       "[16] 9126 8829 9046 7865 7615 7159 7600 7591 7685 8370 8160 7643 8210 8219 8194\n",
       "[31] 8017 7772 7218 7654 7739 7783 8501 8403 7741 8129 8341 8311 8589 8689 7736\n",
       "[46] 8322 8707 8518"
      ]
     },
     "metadata": {},
     "output_type": "display_data"
    }
   ],
   "source": [
    "map_int(filtered_comp_mats, nrow)"
   ]
  },
  {
   "cell_type": "markdown",
   "id": "22586649-0ceb-407d-a9e5-83395467ab88",
   "metadata": {},
   "source": [
    "## Compute CDR values\n",
    "\n",
    "To account for technical factors that may affect gene detection in each cell, we'll also need to calculate Cellular Detection Rate values for each cell (CDR), and use these as a cofactor in our MAST equation.\n",
    "\n",
    "Since we just filtered genes, we'll compute the CDR based on the remaining genes used for analysis for each cell, and add that to our metadata"
   ]
  },
  {
   "cell_type": "code",
   "execution_count": 21,
   "id": "7ac43474-bf7d-40cb-9fb5-03257b5fd362",
   "metadata": {},
   "outputs": [],
   "source": [
    "sampled_comp_cells <- map2(\n",
    "    sampled_comp_cells,\n",
    "    filtered_comp_mats,\n",
    "    function(meta, mat) {\n",
    "        gene_counts <- diff(mat@p)\n",
    "\n",
    "        meta %>%\n",
    "          mutate(cdr = scale(gene_counts))\n",
    "    }\n",
    ")"
   ]
  },
  {
   "cell_type": "markdown",
   "id": "4e9ef309-a886-4f52-8c4c-fcdda2619729",
   "metadata": {},
   "source": [
    "## Run MAST tests\n",
    "\n",
    "Now, we have all of the pieces we need to run our MAST tests easily. We'll run these across multiple cores using `furrr`'s `future_map2()`.\n",
    "\n",
    "This takes around 15-16 minutes to run."
   ]
  },
  {
   "cell_type": "code",
   "execution_count": 22,
   "id": "2e0cac07-e157-4e6d-b4c5-e77b49499fd1",
   "metadata": {},
   "outputs": [],
   "source": [
    "future::plan(future::multisession, workers = 12)"
   ]
  },
  {
   "cell_type": "code",
   "execution_count": 23,
   "id": "973badcb-5f28-4a51-ac48-ec0862a32b83",
   "metadata": {},
   "outputs": [],
   "source": [
    "quietly <- function(...) { suppressMessages(suppressWarnings(...)) }"
   ]
  },
  {
   "cell_type": "code",
   "execution_count": 24,
   "id": "a9f99c2e-35df-45f0-84f7-23d2fee9a830",
   "metadata": {},
   "outputs": [
    {
     "name": "stderr",
     "output_type": "stream",
     "text": [
      "`fData` has no primerid.  I'll make something up.\n",
      "\n",
      "`cData` has no wellKey.  I'll make something up.\n",
      "\n",
      "Assuming data assay in position 1, with name et is log-transformed.\n",
      "\n",
      "`fData` has no primerid.  I'll make something up.\n",
      "\n",
      "`cData` has no wellKey.  I'll make something up.\n",
      "\n",
      "Assuming data assay in position 1, with name et is log-transformed.\n",
      "\n",
      "`fData` has no primerid.  I'll make something up.\n",
      "\n",
      "`cData` has no wellKey.  I'll make something up.\n",
      "\n",
      "Assuming data assay in position 1, with name et is log-transformed.\n",
      "\n",
      "`fData` has no primerid.  I'll make something up.\n",
      "\n",
      "`cData` has no wellKey.  I'll make something up.\n",
      "\n",
      "Assuming data assay in position 1, with name et is log-transformed.\n",
      "\n",
      "`fData` has no primerid.  I'll make something up.\n",
      "\n",
      "`cData` has no wellKey.  I'll make something up.\n",
      "\n",
      "Assuming data assay in position 1, with name et is log-transformed.\n",
      "\n",
      "`fData` has no primerid.  I'll make something up.\n",
      "\n",
      "`cData` has no wellKey.  I'll make something up.\n",
      "\n",
      "Assuming data assay in position 1, with name et is log-transformed.\n",
      "\n",
      "`fData` has no primerid.  I'll make something up.\n",
      "\n",
      "`cData` has no wellKey.  I'll make something up.\n",
      "\n",
      "Assuming data assay in position 1, with name et is log-transformed.\n",
      "\n",
      "`fData` has no primerid.  I'll make something up.\n",
      "\n",
      "`cData` has no wellKey.  I'll make something up.\n",
      "\n",
      "Assuming data assay in position 1, with name et is log-transformed.\n",
      "\n",
      "`fData` has no primerid.  I'll make something up.\n",
      "\n",
      "`cData` has no wellKey.  I'll make something up.\n",
      "\n",
      "Assuming data assay in position 1, with name et is log-transformed.\n",
      "\n",
      "`fData` has no primerid.  I'll make something up.\n",
      "\n",
      "`cData` has no wellKey.  I'll make something up.\n",
      "\n",
      "Assuming data assay in position 1, with name et is log-transformed.\n",
      "\n",
      "`fData` has no primerid.  I'll make something up.\n",
      "\n",
      "`cData` has no wellKey.  I'll make something up.\n",
      "\n",
      "Assuming data assay in position 1, with name et is log-transformed.\n",
      "\n",
      "`fData` has no primerid.  I'll make something up.\n",
      "\n",
      "`cData` has no wellKey.  I'll make something up.\n",
      "\n",
      "Assuming data assay in position 1, with name et is log-transformed.\n",
      "\n",
      "`fData` has no primerid.  I'll make something up.\n",
      "\n",
      "`cData` has no wellKey.  I'll make something up.\n",
      "\n",
      "Assuming data assay in position 1, with name et is log-transformed.\n",
      "\n",
      "`fData` has no primerid.  I'll make something up.\n",
      "\n",
      "`cData` has no wellKey.  I'll make something up.\n",
      "\n",
      "Assuming data assay in position 1, with name et is log-transformed.\n",
      "\n",
      "`fData` has no primerid.  I'll make something up.\n",
      "\n",
      "`cData` has no wellKey.  I'll make something up.\n",
      "\n",
      "Assuming data assay in position 1, with name et is log-transformed.\n",
      "\n",
      "`fData` has no primerid.  I'll make something up.\n",
      "\n",
      "`cData` has no wellKey.  I'll make something up.\n",
      "\n",
      "Assuming data assay in position 1, with name et is log-transformed.\n",
      "\n",
      "`fData` has no primerid.  I'll make something up.\n",
      "\n",
      "`cData` has no wellKey.  I'll make something up.\n",
      "\n",
      "Assuming data assay in position 1, with name et is log-transformed.\n",
      "\n",
      "`fData` has no primerid.  I'll make something up.\n",
      "\n",
      "`cData` has no wellKey.  I'll make something up.\n",
      "\n",
      "Assuming data assay in position 1, with name et is log-transformed.\n",
      "\n",
      "`fData` has no primerid.  I'll make something up.\n",
      "\n",
      "`cData` has no wellKey.  I'll make something up.\n",
      "\n",
      "Assuming data assay in position 1, with name et is log-transformed.\n",
      "\n",
      "`fData` has no primerid.  I'll make something up.\n",
      "\n",
      "`cData` has no wellKey.  I'll make something up.\n",
      "\n",
      "Assuming data assay in position 1, with name et is log-transformed.\n",
      "\n",
      "`fData` has no primerid.  I'll make something up.\n",
      "\n",
      "`cData` has no wellKey.  I'll make something up.\n",
      "\n",
      "Assuming data assay in position 1, with name et is log-transformed.\n",
      "\n",
      "`fData` has no primerid.  I'll make something up.\n",
      "\n",
      "`cData` has no wellKey.  I'll make something up.\n",
      "\n",
      "Assuming data assay in position 1, with name et is log-transformed.\n",
      "\n",
      "`fData` has no primerid.  I'll make something up.\n",
      "\n",
      "`cData` has no wellKey.  I'll make something up.\n",
      "\n",
      "Assuming data assay in position 1, with name et is log-transformed.\n",
      "\n",
      "`fData` has no primerid.  I'll make something up.\n",
      "\n",
      "`cData` has no wellKey.  I'll make something up.\n",
      "\n",
      "Assuming data assay in position 1, with name et is log-transformed.\n",
      "\n",
      "`fData` has no primerid.  I'll make something up.\n",
      "\n",
      "`cData` has no wellKey.  I'll make something up.\n",
      "\n",
      "Assuming data assay in position 1, with name et is log-transformed.\n",
      "\n",
      "`fData` has no primerid.  I'll make something up.\n",
      "\n",
      "`cData` has no wellKey.  I'll make something up.\n",
      "\n",
      "Assuming data assay in position 1, with name et is log-transformed.\n",
      "\n",
      "`fData` has no primerid.  I'll make something up.\n",
      "\n",
      "`cData` has no wellKey.  I'll make something up.\n",
      "\n",
      "Assuming data assay in position 1, with name et is log-transformed.\n",
      "\n",
      "`fData` has no primerid.  I'll make something up.\n",
      "\n",
      "`cData` has no wellKey.  I'll make something up.\n",
      "\n",
      "Assuming data assay in position 1, with name et is log-transformed.\n",
      "\n",
      "`fData` has no primerid.  I'll make something up.\n",
      "\n",
      "`cData` has no wellKey.  I'll make something up.\n",
      "\n",
      "Assuming data assay in position 1, with name et is log-transformed.\n",
      "\n",
      "`fData` has no primerid.  I'll make something up.\n",
      "\n",
      "`cData` has no wellKey.  I'll make something up.\n",
      "\n",
      "Assuming data assay in position 1, with name et is log-transformed.\n",
      "\n",
      "`fData` has no primerid.  I'll make something up.\n",
      "\n",
      "`cData` has no wellKey.  I'll make something up.\n",
      "\n",
      "Assuming data assay in position 1, with name et is log-transformed.\n",
      "\n",
      "`fData` has no primerid.  I'll make something up.\n",
      "\n",
      "`cData` has no wellKey.  I'll make something up.\n",
      "\n",
      "Assuming data assay in position 1, with name et is log-transformed.\n",
      "\n",
      "`fData` has no primerid.  I'll make something up.\n",
      "\n",
      "`cData` has no wellKey.  I'll make something up.\n",
      "\n",
      "Assuming data assay in position 1, with name et is log-transformed.\n",
      "\n",
      "`fData` has no primerid.  I'll make something up.\n",
      "\n",
      "`cData` has no wellKey.  I'll make something up.\n",
      "\n",
      "Assuming data assay in position 1, with name et is log-transformed.\n",
      "\n",
      "`fData` has no primerid.  I'll make something up.\n",
      "\n",
      "`cData` has no wellKey.  I'll make something up.\n",
      "\n",
      "Assuming data assay in position 1, with name et is log-transformed.\n",
      "\n",
      "`fData` has no primerid.  I'll make something up.\n",
      "\n",
      "`cData` has no wellKey.  I'll make something up.\n",
      "\n",
      "Assuming data assay in position 1, with name et is log-transformed.\n",
      "\n",
      "`fData` has no primerid.  I'll make something up.\n",
      "\n",
      "`cData` has no wellKey.  I'll make something up.\n",
      "\n",
      "Assuming data assay in position 1, with name et is log-transformed.\n",
      "\n",
      "`fData` has no primerid.  I'll make something up.\n",
      "\n",
      "`cData` has no wellKey.  I'll make something up.\n",
      "\n",
      "Assuming data assay in position 1, with name et is log-transformed.\n",
      "\n",
      "`fData` has no primerid.  I'll make something up.\n",
      "\n",
      "`cData` has no wellKey.  I'll make something up.\n",
      "\n",
      "Assuming data assay in position 1, with name et is log-transformed.\n",
      "\n",
      "`fData` has no primerid.  I'll make something up.\n",
      "\n",
      "`cData` has no wellKey.  I'll make something up.\n",
      "\n",
      "Assuming data assay in position 1, with name et is log-transformed.\n",
      "\n",
      "`fData` has no primerid.  I'll make something up.\n",
      "\n",
      "`cData` has no wellKey.  I'll make something up.\n",
      "\n",
      "Assuming data assay in position 1, with name et is log-transformed.\n",
      "\n",
      "`fData` has no primerid.  I'll make something up.\n",
      "\n",
      "`cData` has no wellKey.  I'll make something up.\n",
      "\n",
      "Assuming data assay in position 1, with name et is log-transformed.\n",
      "\n",
      "`fData` has no primerid.  I'll make something up.\n",
      "\n",
      "`cData` has no wellKey.  I'll make something up.\n",
      "\n",
      "Assuming data assay in position 1, with name et is log-transformed.\n",
      "\n",
      "`fData` has no primerid.  I'll make something up.\n",
      "\n",
      "`cData` has no wellKey.  I'll make something up.\n",
      "\n",
      "Assuming data assay in position 1, with name et is log-transformed.\n",
      "\n",
      "`fData` has no primerid.  I'll make something up.\n",
      "\n",
      "`cData` has no wellKey.  I'll make something up.\n",
      "\n",
      "Assuming data assay in position 1, with name et is log-transformed.\n",
      "\n",
      "`fData` has no primerid.  I'll make something up.\n",
      "\n",
      "`cData` has no wellKey.  I'll make something up.\n",
      "\n",
      "Assuming data assay in position 1, with name et is log-transformed.\n",
      "\n",
      "`fData` has no primerid.  I'll make something up.\n",
      "\n",
      "`cData` has no wellKey.  I'll make something up.\n",
      "\n",
      "Assuming data assay in position 1, with name et is log-transformed.\n",
      "\n",
      "`fData` has no primerid.  I'll make something up.\n",
      "\n",
      "`cData` has no wellKey.  I'll make something up.\n",
      "\n",
      "Assuming data assay in position 1, with name et is log-transformed.\n",
      "\n"
     ]
    }
   ],
   "source": [
    "zlm_res_list <- future_map2(\n",
    "    sampled_comp_cells,\n",
    "    filtered_comp_mats,\n",
    "    function(meta, mat) {\n",
    "        treatments <- unique(meta$treatment)\n",
    "        fg_treat <- treatments[treatments != \"dmso\"]\n",
    "        treat_levels <- c(\"dmso\", fg_treat)\n",
    "        meta$treatment <- factor(meta$treatment, levels = treat_levels)\n",
    "        \n",
    "        fdat <- data.frame(x = rownames(mat))\n",
    "        rownames(fdat) <- rownames(mat)\n",
    "        \n",
    "        sca <- FromMatrix(\n",
    "            exprsArray = as.matrix(mat),\n",
    "            cData = meta,\n",
    "            fData = fdat)\n",
    "\n",
    "        zlm_res <- quietly(\n",
    "            zlm(formula = formula(~ treatment + cdr), \n",
    "                sca = sca,\n",
    "                method = \"bayesglm\",\n",
    "                ebayes = TRUE,\n",
    "                parallel = FALSE\n",
    "            )\n",
    "        )\n",
    "\n",
    "        zlm_res\n",
    "    }\n",
    ")"
   ]
  },
  {
   "cell_type": "markdown",
   "id": "0ea77cd6-12b4-40bd-bded-22fdc62a1482",
   "metadata": {},
   "source": [
    "### Extract results based on treatment\n",
    "\n",
    "This takes an additional 6 minutes or so."
   ]
  },
  {
   "cell_type": "code",
   "execution_count": 25,
   "id": "bf0d727f-88b1-460c-a6f7-9a8a1ec5e1f6",
   "metadata": {},
   "outputs": [],
   "source": [
    "lrt_list <- paste0(\"treatment\", type_minimums$treatment)\n",
    "\n",
    "mast_res_list <- future_map2(\n",
    "    zlm_res_list,\n",
    "    lrt_list,\n",
    "    function(zlm_res, lrt_vars) {\n",
    "        suppressMessages(\n",
    "            MAST::summary(\n",
    "                object = zlm_res, \n",
    "                doLRT = lrt_vars)\n",
    "        )\n",
    "    }\n",
    ")"
   ]
  },
  {
   "cell_type": "markdown",
   "id": "283fb663-bc41-4a09-9a35-bd650f5a20eb",
   "metadata": {},
   "source": [
    "### Format results"
   ]
  },
  {
   "cell_type": "code",
   "execution_count": 26,
   "id": "74458423-a04b-4c19-9eb1-094825b79db5",
   "metadata": {},
   "outputs": [],
   "source": [
    "formatted_mast_res <- map2(\n",
    "    mast_res_list,\n",
    "    comp_list,\n",
    "    function(res, comp) {\n",
    "        all_res <- res$datatable %>%\n",
    "          as.data.frame() %>%\n",
    "          filter(contrast == paste0(\"treatment\", comp$treatment))\n",
    "\n",
    "        split_res <- split(all_res, all_res$component)\n",
    "\n",
    "        split_res$H %>%\n",
    "          filter(contrast == paste0(\"treatment\", comp$treatment)) %>%\n",
    "          dplyr::rename(\n",
    "              gene = primerid,\n",
    "              nomP = `Pr(>Chisq)`) %>%\n",
    "          mutate(\n",
    "              fg = comp$treatment,\n",
    "              bg = \"dmso\",\n",
    "              aifi_cell_type = comp$aifi_cell_type,\n",
    "              timepoint = comp$timepoint,\n",
    "              n_sample = comp$n_sample,\n",
    "              logFC = split_res$logFC$coef,\n",
    "              coef_C = split_res$C$coef,\n",
    "              coef_D = split_res$D$coef) %>%\n",
    "          select(aifi_cell_type, timepoint, fg, bg, n_sample,\n",
    "                 gene, coef_C, coef_D, logFC, nomP) %>%\n",
    "          mutate(adjP = p.adjust(nomP, method = \"BH\"))\n",
    "                 \n",
    "    }\n",
    ")"
   ]
  },
  {
   "cell_type": "code",
   "execution_count": 27,
   "id": "3b4babf3-039b-42ba-9d70-1e8ced89d966",
   "metadata": {},
   "outputs": [],
   "source": [
    "all_res <- do.call(rbind, formatted_mast_res)"
   ]
  },
  {
   "cell_type": "code",
   "execution_count": 28,
   "id": "ef767f7e-d2b7-4d05-835a-e96782e4131d",
   "metadata": {},
   "outputs": [
    {
     "data": {
      "text/html": [
       "<table class=\"dataframe\">\n",
       "<caption>A data.frame: 6 × 11</caption>\n",
       "<thead>\n",
       "\t<tr><th></th><th scope=col>aifi_cell_type</th><th scope=col>timepoint</th><th scope=col>fg</th><th scope=col>bg</th><th scope=col>n_sample</th><th scope=col>gene</th><th scope=col>coef_C</th><th scope=col>coef_D</th><th scope=col>logFC</th><th scope=col>nomP</th><th scope=col>adjP</th></tr>\n",
       "\t<tr><th></th><th scope=col>&lt;chr&gt;</th><th scope=col>&lt;int&gt;</th><th scope=col>&lt;chr&gt;</th><th scope=col>&lt;chr&gt;</th><th scope=col>&lt;int&gt;</th><th scope=col>&lt;chr&gt;</th><th scope=col>&lt;dbl&gt;</th><th scope=col>&lt;dbl&gt;</th><th scope=col>&lt;dbl&gt;</th><th scope=col>&lt;dbl&gt;</th><th scope=col>&lt;dbl&gt;</th></tr>\n",
       "</thead>\n",
       "<tbody>\n",
       "\t<tr><th scope=row>1</th><td>t_cd4_cm</td><td>4</td><td>bortezomib</td><td>dmso</td><td>648</td><td>A1BG-AS1</td><td> 0.028411773</td><td>-0.12714495</td><td>-0.00860394</td><td>0.7403701</td><td>0.9992370</td></tr>\n",
       "\t<tr><th scope=row>2</th><td>t_cd4_cm</td><td>4</td><td>bortezomib</td><td>dmso</td><td>648</td><td>AAGAB   </td><td> 0.032287238</td><td>-0.25574995</td><td>-0.05429509</td><td>0.1455986</td><td>0.9918874</td></tr>\n",
       "\t<tr><th scope=row>3</th><td>t_cd4_cm</td><td>4</td><td>bortezomib</td><td>dmso</td><td>648</td><td>AAK1    </td><td>-0.009058149</td><td> 0.04769567</td><td> 0.01481580</td><td>0.8762539</td><td>0.9992370</td></tr>\n",
       "\t<tr><th scope=row>4</th><td>t_cd4_cm</td><td>4</td><td>bortezomib</td><td>dmso</td><td>648</td><td>AAMDC   </td><td> 0.062294844</td><td> 0.19250673</td><td> 0.04313545</td><td>0.1602309</td><td>0.9918874</td></tr>\n",
       "\t<tr><th scope=row>5</th><td>t_cd4_cm</td><td>4</td><td>bortezomib</td><td>dmso</td><td>648</td><td>AAMP    </td><td> 0.018080684</td><td>-0.16673307</td><td>-0.01001203</td><td>0.7332528</td><td>0.9992370</td></tr>\n",
       "\t<tr><th scope=row>6</th><td>t_cd4_cm</td><td>4</td><td>bortezomib</td><td>dmso</td><td>648</td><td>AARS    </td><td> 0.019996604</td><td>-0.13135182</td><td>-0.01430162</td><td>0.6785156</td><td>0.9992370</td></tr>\n",
       "</tbody>\n",
       "</table>\n"
      ],
      "text/latex": [
       "A data.frame: 6 × 11\n",
       "\\begin{tabular}{r|lllllllllll}\n",
       "  & aifi\\_cell\\_type & timepoint & fg & bg & n\\_sample & gene & coef\\_C & coef\\_D & logFC & nomP & adjP\\\\\n",
       "  & <chr> & <int> & <chr> & <chr> & <int> & <chr> & <dbl> & <dbl> & <dbl> & <dbl> & <dbl>\\\\\n",
       "\\hline\n",
       "\t1 & t\\_cd4\\_cm & 4 & bortezomib & dmso & 648 & A1BG-AS1 &  0.028411773 & -0.12714495 & -0.00860394 & 0.7403701 & 0.9992370\\\\\n",
       "\t2 & t\\_cd4\\_cm & 4 & bortezomib & dmso & 648 & AAGAB    &  0.032287238 & -0.25574995 & -0.05429509 & 0.1455986 & 0.9918874\\\\\n",
       "\t3 & t\\_cd4\\_cm & 4 & bortezomib & dmso & 648 & AAK1     & -0.009058149 &  0.04769567 &  0.01481580 & 0.8762539 & 0.9992370\\\\\n",
       "\t4 & t\\_cd4\\_cm & 4 & bortezomib & dmso & 648 & AAMDC    &  0.062294844 &  0.19250673 &  0.04313545 & 0.1602309 & 0.9918874\\\\\n",
       "\t5 & t\\_cd4\\_cm & 4 & bortezomib & dmso & 648 & AAMP     &  0.018080684 & -0.16673307 & -0.01001203 & 0.7332528 & 0.9992370\\\\\n",
       "\t6 & t\\_cd4\\_cm & 4 & bortezomib & dmso & 648 & AARS     &  0.019996604 & -0.13135182 & -0.01430162 & 0.6785156 & 0.9992370\\\\\n",
       "\\end{tabular}\n"
      ],
      "text/markdown": [
       "\n",
       "A data.frame: 6 × 11\n",
       "\n",
       "| <!--/--> | aifi_cell_type &lt;chr&gt; | timepoint &lt;int&gt; | fg &lt;chr&gt; | bg &lt;chr&gt; | n_sample &lt;int&gt; | gene &lt;chr&gt; | coef_C &lt;dbl&gt; | coef_D &lt;dbl&gt; | logFC &lt;dbl&gt; | nomP &lt;dbl&gt; | adjP &lt;dbl&gt; |\n",
       "|---|---|---|---|---|---|---|---|---|---|---|---|\n",
       "| 1 | t_cd4_cm | 4 | bortezomib | dmso | 648 | A1BG-AS1 |  0.028411773 | -0.12714495 | -0.00860394 | 0.7403701 | 0.9992370 |\n",
       "| 2 | t_cd4_cm | 4 | bortezomib | dmso | 648 | AAGAB    |  0.032287238 | -0.25574995 | -0.05429509 | 0.1455986 | 0.9918874 |\n",
       "| 3 | t_cd4_cm | 4 | bortezomib | dmso | 648 | AAK1     | -0.009058149 |  0.04769567 |  0.01481580 | 0.8762539 | 0.9992370 |\n",
       "| 4 | t_cd4_cm | 4 | bortezomib | dmso | 648 | AAMDC    |  0.062294844 |  0.19250673 |  0.04313545 | 0.1602309 | 0.9918874 |\n",
       "| 5 | t_cd4_cm | 4 | bortezomib | dmso | 648 | AAMP     |  0.018080684 | -0.16673307 | -0.01001203 | 0.7332528 | 0.9992370 |\n",
       "| 6 | t_cd4_cm | 4 | bortezomib | dmso | 648 | AARS     |  0.019996604 | -0.13135182 | -0.01430162 | 0.6785156 | 0.9992370 |\n",
       "\n"
      ],
      "text/plain": [
       "  aifi_cell_type timepoint fg         bg   n_sample gene     coef_C      \n",
       "1 t_cd4_cm       4         bortezomib dmso 648      A1BG-AS1  0.028411773\n",
       "2 t_cd4_cm       4         bortezomib dmso 648      AAGAB     0.032287238\n",
       "3 t_cd4_cm       4         bortezomib dmso 648      AAK1     -0.009058149\n",
       "4 t_cd4_cm       4         bortezomib dmso 648      AAMDC     0.062294844\n",
       "5 t_cd4_cm       4         bortezomib dmso 648      AAMP      0.018080684\n",
       "6 t_cd4_cm       4         bortezomib dmso 648      AARS      0.019996604\n",
       "  coef_D      logFC       nomP      adjP     \n",
       "1 -0.12714495 -0.00860394 0.7403701 0.9992370\n",
       "2 -0.25574995 -0.05429509 0.1455986 0.9918874\n",
       "3  0.04769567  0.01481580 0.8762539 0.9992370\n",
       "4  0.19250673  0.04313545 0.1602309 0.9918874\n",
       "5 -0.16673307 -0.01001203 0.7332528 0.9992370\n",
       "6 -0.13135182 -0.01430162 0.6785156 0.9992370"
      ]
     },
     "metadata": {},
     "output_type": "display_data"
    }
   ],
   "source": [
    "head(all_res)"
   ]
  },
  {
   "cell_type": "code",
   "execution_count": 29,
   "id": "5ee24e45-90ca-4b93-8147-b40cf3f59147",
   "metadata": {},
   "outputs": [],
   "source": [
    "sig_res <- all_res %>%\n",
    "  mutate(treat_time = paste0(fg, \"_\", timepoint)) %>%\n",
    "  filter(adjP < 0.01)"
   ]
  },
  {
   "cell_type": "code",
   "execution_count": 30,
   "id": "f9f25246-efc8-47e4-8a83-a83b6debfed4",
   "metadata": {},
   "outputs": [
    {
     "data": {
      "text/plain": [
       "                  \n",
       "                   t_cd4_cm t_cd4_em t_cd4_naive t_cd4_treg t_cd8_memory\n",
       "  bortezomib_24         528      129         247         16          256\n",
       "  bortezomib_72        3532     1640        5802        370         1090\n",
       "  dexamethasone_24      560      182         870         63          105\n",
       "  dexamethasone_4       433      167         580         42           87\n",
       "  lenalidomide_24       197       14         686          0            4\n",
       "  lenalidomide_4        114       12         188          0            0\n",
       "  lenalidomide_72        36        0         292          0            1\n",
       "                  \n",
       "                   t_cd8_naive\n",
       "  bortezomib_24            486\n",
       "  bortezomib_72           3315\n",
       "  dexamethasone_24         290\n",
       "  dexamethasone_4          204\n",
       "  lenalidomide_24          176\n",
       "  lenalidomide_4            88\n",
       "  lenalidomide_72           43"
      ]
     },
     "metadata": {},
     "output_type": "display_data"
    }
   ],
   "source": [
    "table(sig_res$treat_time, sig_res$aifi_cell_type)"
   ]
  },
  {
   "cell_type": "markdown",
   "id": "f60fa92a-b665-421f-8110-30bf38f57669",
   "metadata": {},
   "source": [
    "## Generate output files\n",
    "\n",
    "For downstream use, we'll output the table of aifi_cell_type labels for each cell."
   ]
  },
  {
   "cell_type": "code",
   "execution_count": 31,
   "id": "de8eaa34-85d5-4b53-8a91-8e17dfe7adb6",
   "metadata": {
    "scrolled": true
   },
   "outputs": [],
   "source": [
    "dir.create(\"output\")"
   ]
  },
  {
   "cell_type": "code",
   "execution_count": 32,
   "id": "2b51af12-90d5-477c-86ea-163aa6a576ce",
   "metadata": {
    "editable": true,
    "slideshow": {
     "slide_type": ""
    },
    "tags": []
   },
   "outputs": [],
   "source": [
    "write.csv(all_res,\n",
    "          paste0(\"output/all_mast_deg_\",Sys.Date(),\".csv\"),\n",
    "          quote = FALSE, row.names = FALSE)"
   ]
  },
  {
   "cell_type": "markdown",
   "id": "75da57da-0d55-48f0-841c-fe3adc0a69b8",
   "metadata": {},
   "source": [
    "## Store results in HISE\n",
    "\n",
    "Finally, we store the output file in our Collaboration Space for later retrieval and use. We need to provide the UUID for our Collaboration Space (aka `studySpaceId`), as well as a title for this step in our analysis process.\n",
    "\n",
    "The hise function `uploadFiles()` also requires the FileIDs from the original fileset for reference."
   ]
  },
  {
   "cell_type": "code",
   "execution_count": 33,
   "id": "1396ce5a-d677-4671-a3df-593822d9b8d5",
   "metadata": {},
   "outputs": [],
   "source": [
    "study_space_uuid <- \"40df6403-29f0-4b45-ab7d-f46d420c422e\"\n",
    "title <- paste(\"VRd TEA-seq MAST DEG\", Sys.Date())"
   ]
  },
  {
   "cell_type": "code",
   "execution_count": 34,
   "id": "bb38211a-fed4-47bc-a4d6-799bce5e8cd3",
   "metadata": {},
   "outputs": [],
   "source": [
    "out_files <- list.files(\n",
    "    \"output\",\n",
    "    full.names = TRUE\n",
    ")\n",
    "out_list <- as.list(out_files)"
   ]
  },
  {
   "cell_type": "code",
   "execution_count": 35,
   "id": "4bd4f6f2-3e38-4a3d-a192-1c84130720e5",
   "metadata": {},
   "outputs": [
    {
     "data": {
      "text/html": [
       "<ol>\n",
       "\t<li>'output/all_mast_deg_2023-09-06.csv'</li>\n",
       "</ol>\n"
      ],
      "text/latex": [
       "\\begin{enumerate}\n",
       "\\item 'output/all\\_mast\\_deg\\_2023-09-06.csv'\n",
       "\\end{enumerate}\n"
      ],
      "text/markdown": [
       "1. 'output/all_mast_deg_2023-09-06.csv'\n",
       "\n",
       "\n"
      ],
      "text/plain": [
       "[[1]]\n",
       "[1] \"output/all_mast_deg_2023-09-06.csv\"\n"
      ]
     },
     "metadata": {},
     "output_type": "display_data"
    }
   ],
   "source": [
    "out_list"
   ]
  },
  {
   "cell_type": "code",
   "execution_count": 36,
   "id": "6a589325-106c-4baf-851d-f94ef9fb9c9e",
   "metadata": {},
   "outputs": [
    {
     "data": {
      "text/html": [
       "<dl>\n",
       "\t<dt>$files</dt>\n",
       "\t\t<dd><ol>\n",
       "\t<li>'output/all_mast_deg_2023-09-06.csv'</li>\n",
       "</ol>\n",
       "</dd>\n",
       "\t<dt>$traceId</dt>\n",
       "\t\t<dd>'74d92e7c-7664-450b-9f00-700fd3ef93c3'</dd>\n",
       "</dl>\n"
      ],
      "text/latex": [
       "\\begin{description}\n",
       "\\item[\\$files] \\begin{enumerate}\n",
       "\\item 'output/all\\_mast\\_deg\\_2023-09-06.csv'\n",
       "\\end{enumerate}\n",
       "\n",
       "\\item[\\$traceId] '74d92e7c-7664-450b-9f00-700fd3ef93c3'\n",
       "\\end{description}\n"
      ],
      "text/markdown": [
       "$files\n",
       ":   1. 'output/all_mast_deg_2023-09-06.csv'\n",
       "\n",
       "\n",
       "\n",
       "$traceId\n",
       ":   '74d92e7c-7664-450b-9f00-700fd3ef93c3'\n",
       "\n",
       "\n"
      ],
      "text/plain": [
       "$files\n",
       "$files[[1]]\n",
       "[1] \"output/all_mast_deg_2023-09-06.csv\"\n",
       "\n",
       "\n",
       "$traceId\n",
       "[1] \"74d92e7c-7664-450b-9f00-700fd3ef93c3\"\n"
      ]
     },
     "metadata": {},
     "output_type": "display_data"
    }
   ],
   "source": [
    "uploadFiles(\n",
    "    files = out_list,\n",
    "    studySpaceId = study_space_uuid,\n",
    "    title = title,\n",
    "    inputFileIds = file_uuids,\n",
    "    store = \"project\",\n",
    "    doPrompt = FALSE\n",
    ")"
   ]
  },
  {
   "cell_type": "code",
   "execution_count": 37,
   "id": "13ee8e53-ed75-464f-a54c-392fe2f7da8e",
   "metadata": {},
   "outputs": [
    {
     "data": {
      "text/plain": [
       "R version 4.3.1 (2023-06-16)\n",
       "Platform: x86_64-conda-linux-gnu (64-bit)\n",
       "Running under: Ubuntu 20.04.6 LTS\n",
       "\n",
       "Matrix products: default\n",
       "BLAS/LAPACK: /opt/conda/lib/libopenblasp-r0.3.23.so;  LAPACK version 3.11.0\n",
       "\n",
       "locale:\n",
       " [1] LC_CTYPE=C.UTF-8       LC_NUMERIC=C           LC_TIME=C.UTF-8       \n",
       " [4] LC_COLLATE=C.UTF-8     LC_MONETARY=C.UTF-8    LC_MESSAGES=C.UTF-8   \n",
       " [7] LC_PAPER=C.UTF-8       LC_NAME=C              LC_ADDRESS=C          \n",
       "[10] LC_TELEPHONE=C         LC_MEASUREMENT=C.UTF-8 LC_IDENTIFICATION=C   \n",
       "\n",
       "time zone: Etc/UTC\n",
       "tzcode source: system (glibc)\n",
       "\n",
       "attached base packages:\n",
       "[1] stats4    stats     graphics  grDevices utils     datasets  methods  \n",
       "[8] base     \n",
       "\n",
       "other attached packages:\n",
       " [1] MAST_1.26.0                 SingleCellExperiment_1.22.0\n",
       " [3] SummarizedExperiment_1.30.2 Biobase_2.60.0             \n",
       " [5] GenomicRanges_1.52.0        GenomeInfoDb_1.36.1        \n",
       " [7] IRanges_2.34.1              S4Vectors_0.38.1           \n",
       " [9] BiocGenerics_0.46.0         MatrixGenerics_1.12.3      \n",
       "[11] matrixStats_1.0.0           SeuratObject_4.1.3         \n",
       "[13] Seurat_4.3.0.1              ggplot2_3.4.3              \n",
       "[15] dplyr_1.1.2                 furrr_0.3.1                \n",
       "[17] future_1.33.0               purrr_1.0.2                \n",
       "[19] hise_2.16.0                \n",
       "\n",
       "loaded via a namespace (and not attached):\n",
       "  [1] RColorBrewer_1.1-3      jsonlite_1.8.7          magrittr_2.0.3         \n",
       "  [4] spatstat.utils_3.0-3    zlibbioc_1.46.0         vctrs_0.6.3            \n",
       "  [7] ROCR_1.0-11             spatstat.explore_3.2-1  RCurl_1.98-1.12        \n",
       " [10] base64enc_0.1-3         S4Arrays_1.0.5          htmltools_0.5.6        \n",
       " [13] curl_5.0.2              sctransform_0.3.5       parallelly_1.36.0      \n",
       " [16] KernSmooth_2.23-22      htmlwidgets_1.6.2       ica_1.0-3              \n",
       " [19] plyr_1.8.8              plotly_4.10.2           zoo_1.8-12             \n",
       " [22] uuid_1.1-1              igraph_1.5.1            mime_0.12              \n",
       " [25] lifecycle_1.0.3         pkgconfig_2.0.3         Matrix_1.6-1           \n",
       " [28] R6_2.5.1                fastmap_1.1.1           GenomeInfoDbData_1.2.10\n",
       " [31] fitdistrplus_1.1-11     shiny_1.7.5             digest_0.6.33          \n",
       " [34] colorspace_2.1-0        patchwork_1.1.3         tensor_1.5             \n",
       " [37] irlba_2.3.5.1           progressr_0.14.0        fansi_1.0.4            \n",
       " [40] spatstat.sparse_3.0-2   httr_1.4.7              polyclip_1.10-4        \n",
       " [43] abind_1.4-5             compiler_4.3.1          withr_2.5.0            \n",
       " [46] MASS_7.3-60             DelayedArray_0.26.7     tools_4.3.1            \n",
       " [49] lmtest_0.9-40           httpuv_1.6.11           future.apply_1.11.0    \n",
       " [52] goftest_1.2-3           glue_1.6.2              nlme_3.1-163           \n",
       " [55] promises_1.2.1          grid_4.3.1              pbdZMQ_0.3-9           \n",
       " [58] Rtsne_0.16              cluster_2.1.4           reshape2_1.4.4         \n",
       " [61] generics_0.1.3          gtable_0.3.3            spatstat.data_3.0-1    \n",
       " [64] tidyr_1.3.0             data.table_1.14.8       XVector_0.40.0         \n",
       " [67] sp_2.0-0                utf8_1.2.3              spatstat.geom_3.2-4    \n",
       " [70] RcppAnnoy_0.0.21        ggrepel_0.9.3           RANN_2.6.1             \n",
       " [73] pillar_1.9.0            stringr_1.5.0           IRdisplay_1.1          \n",
       " [76] later_1.3.1             splines_4.3.1           lattice_0.21-8         \n",
       " [79] survival_3.5-7          deldir_1.0-9            tidyselect_1.2.0       \n",
       " [82] miniUI_0.1.1.1          pbapply_1.7-2           gridExtra_2.3          \n",
       " [85] scattermore_1.2         stringi_1.7.12          lazyeval_0.2.2         \n",
       " [88] evaluate_0.21           codetools_0.2-19        tibble_3.2.1           \n",
       " [91] cli_3.6.1               uwot_0.1.16             IRkernel_1.3.2         \n",
       " [94] xtable_1.8-4            reticulate_1.31         repr_1.1.6.9000        \n",
       " [97] munsell_0.5.0           Rcpp_1.0.11             globals_0.16.2         \n",
       "[100] spatstat.random_3.1-5   png_0.1-8               parallel_4.3.1         \n",
       "[103] ellipsis_0.3.2          assertthat_0.2.1        bitops_1.0-7           \n",
       "[106] listenv_0.9.0           viridisLite_0.4.2       scales_1.2.1           \n",
       "[109] ggridges_0.5.4          leiden_0.4.3            crayon_1.5.2           \n",
       "[112] rlang_1.1.1             cowplot_1.1.1          "
      ]
     },
     "metadata": {},
     "output_type": "display_data"
    }
   ],
   "source": [
    "sessionInfo()"
   ]
  },
  {
   "cell_type": "code",
   "execution_count": null,
   "id": "5889e27b-b7f3-476d-b58e-7db4015fa170",
   "metadata": {},
   "outputs": [],
   "source": []
  }
 ],
 "metadata": {
  "kernelspec": {
   "display_name": "R 4",
   "language": "R",
   "name": "ir4"
  },
  "language_info": {
   "codemirror_mode": "r",
   "file_extension": ".r",
   "mimetype": "text/x-r-source",
   "name": "R",
   "pygments_lexer": "r",
   "version": "4.3.1"
  }
 },
 "nbformat": 4,
 "nbformat_minor": 5
}
