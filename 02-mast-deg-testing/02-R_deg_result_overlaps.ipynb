{
 "cells": [
  {
   "cell_type": "markdown",
   "id": "43c0ce94-7d68-414e-9312-6c4281cb35b3",
   "metadata": {},
   "source": [
    "# Intersect DEG sets to identify possible conflicts\n",
    "\n",
    "In this notebook, we compare the outputs of our previous MAST DEG analysis for each condition to identify overlapping genes and perform statistical tests to determine if these overlaps occur more frequently than expected by chance.\n",
    "\n",
    "To simplify this analysis somewhat, we'll restrain comparisons to gene sets within each cell type, rather than comparing changes across different cell types.\n",
    "\n",
    "To identify directional effects, we'll consider up and down-regulated genes separately for this analysis.\n",
    "\n",
    "Because the MAST results are somewhat dependent on cell number for statistical power, we'll use the top 500 up and down-regulated genes based on ranking by nominal P-value.\n",
    "\n",
    "After selecting and overlapping these gene sets, hypergeometric tests will be used to determine if overlaps occur more frequently than expected by chance. \n",
    "\n",
    "For use with R's `phyper`, the variables will be as follows:  \n",
    "```\n",
    "phyper(\n",
    "    q = n_ol - 1,                  # successes\n",
    "    m = n_fg_genes,                # number of possible successes\n",
    "    n = n_expr_genes - n_fg_genes, # number of non-successes\n",
    "    k = n_bg_genes,                # number of draws\n",
    "    lower.tail = FALSE\n",
    ")\n",
    "```\n",
    "Where `n_ol` is the number of overlapping genes between the two sets, `n_expr_genes` is the number of genes detected in both conditions (see MAST notebook for threshhold), `n_fg_genes` is the number of genes in one of the two sets (designated as foreground, fg, arbitrarily), and `n_bg_genes` is the number of genes in the second set (background, bg). Note that the `fg` and `bg` designations should be reversible."
   ]
  },
  {
   "cell_type": "markdown",
   "id": "26d4cc1d-0e95-4e2d-872a-95701c76534d",
   "metadata": {
    "tags": []
   },
   "source": [
    "## Load packages\n",
    "\n",
    "hise: The Human Immune System Explorer R SDK package  \n",
    "purrr: Functional programming tools  \n",
    "dplyr: Dataframe handling functions  \n",
    "tibble: A modern dataframe implementation  "
   ]
  },
  {
   "cell_type": "code",
   "execution_count": 1,
   "id": "8f2c8409-90c4-4237-9162-c07cb53cfa5a",
   "metadata": {
    "tags": []
   },
   "outputs": [],
   "source": [
    "quiet_library <- function(...) { suppressPackageStartupMessages(library(...)) }\n",
    "quiet_library(hise)\n",
    "quiet_library(purrr)\n",
    "quiet_library(dplyr)\n",
    "quiet_library(tidyr)\n",
    "quiet_library(tibble)"
   ]
  },
  {
   "cell_type": "markdown",
   "id": "fa26bd95-e1fb-4916-9af9-deece7ffbc7f",
   "metadata": {},
   "source": [
    "## Set parameters\n",
    "\n",
    "The main parameter to consider for this analysis is the number of DEGs to consider per condition and differential expression direction, `n_top`."
   ]
  },
  {
   "cell_type": "code",
   "execution_count": 2,
   "id": "873e7e6a-875c-4507-9372-0e3b62ff9602",
   "metadata": {
    "tags": []
   },
   "outputs": [],
   "source": [
    "n_top <- 500"
   ]
  },
  {
   "cell_type": "markdown",
   "id": "107979e2-15bc-43e9-bd58-5d82b9b21444",
   "metadata": {},
   "source": [
    "## Retrieve files\n",
    "\n",
    "Now, we'll use the HISE SDK package to retrieve the DEG results labels based on file UUIDs. This will be placed in the `cache/` subdirectory by default."
   ]
  },
  {
   "cell_type": "code",
   "execution_count": 3,
   "id": "bf7d2756-b73f-464e-9612-67b78ab2f49a",
   "metadata": {
    "tags": []
   },
   "outputs": [],
   "source": [
    "file_uuid <- list(\"fc83b89f-fd26-43b8-ac91-29c539703a45\")"
   ]
  },
  {
   "cell_type": "code",
   "execution_count": 4,
   "id": "9ffabad2-27f2-4dbe-b145-98d37a7c968e",
   "metadata": {
    "tags": []
   },
   "outputs": [
    {
     "name": "stderr",
     "output_type": "stream",
     "text": [
      "submitting request as query ID first...\n",
      "\n",
      "retrieving files using fileIDS...\n",
      "\n"
     ]
    }
   ],
   "source": [
    "fres <- cacheFiles(file_uuid)"
   ]
  },
  {
   "cell_type": "markdown",
   "id": "517262ef-6594-452d-baf3-1dbf034990fc",
   "metadata": {},
   "source": [
    "## Load and prepare DEG results"
   ]
  },
  {
   "cell_type": "code",
   "execution_count": 5,
   "id": "7936bd52-b38f-41f7-8591-7ae86e720788",
   "metadata": {
    "tags": []
   },
   "outputs": [],
   "source": [
    "deg <- read.csv(\"cache/fc83b89f-fd26-43b8-ac91-29c539703a45/all_mast_deg_2023-09-06.csv\")"
   ]
  },
  {
   "cell_type": "markdown",
   "id": "70a07c6f-3b50-4f24-98cc-9690e2d7a3ab",
   "metadata": {},
   "source": [
    "Add a direction column to make it easy to split up and down-regulated genes."
   ]
  },
  {
   "cell_type": "code",
   "execution_count": 6,
   "id": "51545635-4cdd-4eda-9607-689b43b39758",
   "metadata": {
    "tags": []
   },
   "outputs": [],
   "source": [
    "deg <- deg %>%\n",
    "  mutate(\n",
    "      direction_sign = ifelse(\n",
    "          is.na(logFC),\n",
    "          sign(coef_D),\n",
    "          sign(logFC)\n",
    "      ),\n",
    "      direction = ifelse(\n",
    "          direction_sign == 1,\n",
    "          \"up\", \"dn\"\n",
    "      )\n",
    "  )"
   ]
  },
  {
   "cell_type": "markdown",
   "id": "9961e9a3-bca1-442a-b324-b1c5e195a94b",
   "metadata": {},
   "source": [
    "Add a column for result grouping and split the gene sets by those groups. For this analysis, we need to group by treatment and timepoint *within* each cell type."
   ]
  },
  {
   "cell_type": "code",
   "execution_count": 7,
   "id": "21875c00-7991-45f1-b454-ab8d911e515f",
   "metadata": {
    "tags": []
   },
   "outputs": [],
   "source": [
    "deg <- deg %>%\n",
    "  mutate(\n",
    "      treat_time = ifelse(\n",
    "          timepoint == 4,\n",
    "          paste0(fg, \"_0\", timepoint), # add a 0 for 4hr to help with sorting\n",
    "          paste0(fg, \"_\", timepoint)\n",
    "      )\n",
    "  )\n",
    "# split by cell type\n",
    "type_deg <- split(deg, deg$aifi_cell_type)\n",
    "# split within each cell type\n",
    "type_deg <- map(\n",
    "    type_deg,\n",
    "    function(deg) { split(deg, deg$treat_time) }\n",
    ")"
   ]
  },
  {
   "cell_type": "markdown",
   "id": "0e437c56-1a9b-472f-83cd-e534dc89873e",
   "metadata": {},
   "source": [
    "## Perform overlaps"
   ]
  },
  {
   "cell_type": "code",
   "execution_count": 8,
   "id": "88a5fa48-a04b-498b-b9ee-dcbafeac042e",
   "metadata": {
    "tags": []
   },
   "outputs": [
    {
     "name": "stdout",
     "output_type": "stream",
     "text": [
      "[1] \"t_cd4_cm\"\n",
      "[1] \"t_cd4_em\"\n",
      "[1] \"t_cd4_naive\"\n",
      "[1] \"t_cd4_treg\"\n",
      "[1] \"t_cd8_memory\"\n",
      "[1] \"t_cd8_naive\"\n"
     ]
    }
   ],
   "source": [
    "type_overlaps <- map2( # For each cell type\n",
    "    type_deg, names(type_deg),\n",
    "    function(cond_list, cell_type) {\n",
    "        print(cell_type)\n",
    "        map2_dfr( # For each condition as \"foreground\"\n",
    "            cond_list, names(cond_list),\n",
    "            function(fg_deg, fg_cond) {\n",
    "                \n",
    "                all_fg_deg_up <- fg_deg %>%\n",
    "                  filter(direction == \"up\")\n",
    "                all_fg_deg_dn <- fg_deg %>%\n",
    "                  filter(direction == \"dn\")\n",
    "                \n",
    "                map2_dfr( # Compare to every condition as \"background\"\n",
    "                    cond_list, names(cond_list),\n",
    "                    function(bg_deg, bg_cond) {\n",
    "                        \n",
    "                        common_genes <- intersect(fg_deg$gene, bg_deg$gene)\n",
    "                        n_common <- length(common_genes)\n",
    "                        \n",
    "                        fg_deg_up <- all_fg_deg_up %>%\n",
    "                          filter(gene %in% common_genes) %>%\n",
    "                          arrange(nomP) %>%\n",
    "                          head(n_top)\n",
    "                        fg_deg_dn <- all_fg_deg_dn %>%\n",
    "                          filter(gene %in% common_genes) %>%\n",
    "                          arrange(nomP) %>%\n",
    "                          head(n_top)\n",
    "                        \n",
    "                        bg_deg_up <- bg_deg %>%\n",
    "                          filter(gene %in% common_genes) %>%\n",
    "                          filter(direction == \"up\") %>%\n",
    "                          arrange(nomP) %>%\n",
    "                          head(n_top)\n",
    "                        bg_deg_dn <- bg_deg %>%\n",
    "                          filter(gene %in% common_genes) %>%\n",
    "                          filter(direction == \"dn\") %>%\n",
    "                          arrange(nomP) %>%\n",
    "                          head(n_top)\n",
    "                        \n",
    "                        ol <- list(fg_up_bg_up = intersect(fg_deg_up$gene, bg_deg_up$gene),\n",
    "                                   fg_up_bg_dn = intersect(fg_deg_up$gene, bg_deg_dn$gene),\n",
    "                                   fg_dn_bg_dn = intersect(fg_deg_dn$gene, bg_deg_dn$gene),\n",
    "                                   fg_dn_bg_up = intersect(fg_deg_dn$gene, bg_deg_up$gene)\n",
    "                               )\n",
    "                        ol <- map(ol, sort)\n",
    "                        n_ol <- unname(map_int(ol, length))\n",
    "                        ol <- map_chr(ol, paste, collapse = \";\")\n",
    "\n",
    "                        tibble(\n",
    "                            aifi_cell_type = cell_type,\n",
    "                            fg_treatment = sub(\"_.+\", \"\", fg_cond),\n",
    "                            fg_timepoint = as.numeric(sub(\".+_\", \"\", fg_cond)),\n",
    "                            fg_direction = c(\"up\", \"up\", \"dn\", \"dn\"),\n",
    "                            bg_treatment = sub(\"_.+\", \"\", bg_cond),\n",
    "                            bg_timepoint = as.numeric(sub(\".+_\", \"\", bg_cond)),\n",
    "                            bg_direction = c(\"up\", \"dn\", \"dn\", \"up\"),\n",
    "                            n_common = n_common,\n",
    "                            n_fg = n_top,\n",
    "                            n_bg = n_top,\n",
    "                            n_ol = n_ol,\n",
    "                            ol_genes = ol\n",
    "                        )\n",
    "                        \n",
    "                    })\n",
    "\n",
    "            })\n",
    "    })"
   ]
  },
  {
   "cell_type": "markdown",
   "id": "83fbebbe-dd22-48d1-8b40-ebacb9a35413",
   "metadata": {},
   "source": [
    "## Perform hypergeometric tests"
   ]
  },
  {
   "cell_type": "code",
   "execution_count": 9,
   "id": "855377ad-473f-4595-aa9c-80b148a59fed",
   "metadata": {
    "tags": []
   },
   "outputs": [],
   "source": [
    "type_overlap_stats <- map(\n",
    "    type_overlaps,\n",
    "    function(type_ol) {\n",
    "           type_ol %>%\n",
    "              mutate(nomP = phyper(n_ol - 1, n_fg, n_common - n_fg, n_bg, lower.tail = FALSE))\n",
    "    })"
   ]
  },
  {
   "cell_type": "markdown",
   "id": "9539eca7-583b-4d5b-ba5b-22e9f700c62b",
   "metadata": {},
   "source": [
    "## Remove self-comparisons and adjust P-values"
   ]
  },
  {
   "cell_type": "code",
   "execution_count": 10,
   "id": "c679e697-cba8-4bcf-bf6c-681e0bd3bdd7",
   "metadata": {
    "tags": []
   },
   "outputs": [],
   "source": [
    "all_overlap_stats <- do.call(rbind, type_overlap_stats)\n",
    "all_overlap_stats <- all_overlap_stats %>%\n",
    "  filter(paste(fg_treatment, fg_timepoint) != paste(bg_treatment, bg_timepoint))"
   ]
  },
  {
   "cell_type": "code",
   "execution_count": 11,
   "id": "9db9da04-3628-42dd-92a7-a646dd7f1334",
   "metadata": {
    "tags": []
   },
   "outputs": [],
   "source": [
    "all_overlap_stats <- all_overlap_stats %>%\n",
    "  mutate(adjP = p.adjust(nomP, method = \"BH\"))"
   ]
  },
  {
   "cell_type": "markdown",
   "id": "74a4fd9e-71a7-46f1-ba93-90fe00df0d37",
   "metadata": {},
   "source": [
    "## Generate output files"
   ]
  },
  {
   "cell_type": "code",
   "execution_count": 12,
   "id": "d5528744-f922-4f6c-8958-98b1f2eb9181",
   "metadata": {
    "tags": []
   },
   "outputs": [],
   "source": [
    "out_overlap_stats <- all_overlap_stats %>%\n",
    "  rename(group1_treatment = fg_treatment,\n",
    "         group1_timepoint = fg_timepoint,\n",
    "         group1_direction = fg_direction,\n",
    "         n_group1 = n_fg,\n",
    "         group2_treatment = bg_treatment,\n",
    "         group2_timepoint = bg_timepoint,\n",
    "         group2_direction = bg_direction,\n",
    "         n_group2 = n_bg) %>%\n",
    "  select(aifi_cell_type, \n",
    "         group1_treatment, group1_timepoint, group1_direction,\n",
    "         group2_treatment, group2_timepoint, group2_direction,\n",
    "         n_common, n_group1, n_group2, n_ol, nomP, adjP, ol_genes)"
   ]
  },
  {
   "cell_type": "code",
   "execution_count": 13,
   "id": "5bfabe74-b287-4e9f-bf64-224a721e93a8",
   "metadata": {
    "tags": []
   },
   "outputs": [
    {
     "name": "stderr",
     "output_type": "stream",
     "text": [
      "Warning message in dir.create(\"output\"):\n",
      "“'output' already exists”\n"
     ]
    }
   ],
   "source": [
    "dir.create(\"output\")"
   ]
  },
  {
   "cell_type": "code",
   "execution_count": 14,
   "id": "1c454bd2-be0a-4e12-918b-a5a36f7bf874",
   "metadata": {
    "tags": []
   },
   "outputs": [],
   "source": [
    "out_file <- paste0(\"output/mast_deg_overlap_analysis_\", Sys.Date(), \".csv\")\n",
    "write.csv(\n",
    "    out_overlap_stats,\n",
    "    out_file,\n",
    "    row.names = FALSE,\n",
    "    quote = FALSE\n",
    ")"
   ]
  },
  {
   "cell_type": "markdown",
   "id": "6aaab375-dad8-4025-b570-dd7b1589406e",
   "metadata": {},
   "source": [
    "## Store results in HISE\n",
    "\n",
    "Finally, we store the output file in our Collaboration Space for later retrieval and use. We need to provide the UUID for our Collaboration Space (aka `studySpaceId`), as well as a title for this step in our analysis process.\n",
    "\n",
    "The hise function `uploadFiles()` also requires the FileIDs from the original fileset for reference."
   ]
  },
  {
   "cell_type": "code",
   "execution_count": 15,
   "id": "ab72c5d5-13d6-41e0-a9c2-d5189174160a",
   "metadata": {},
   "outputs": [],
   "source": [
    "study_space_uuid <- \"40df6403-29f0-4b45-ab7d-f46d420c422e\"\n",
    "title <- paste(\"VRd TEA-seq MAST Overlap Analysis\", Sys.Date())"
   ]
  },
  {
   "cell_type": "code",
   "execution_count": 16,
   "id": "f4c76d87-6471-4e5e-8ae1-1146cf5f9a0e",
   "metadata": {},
   "outputs": [
    {
     "name": "stdout",
     "output_type": "stream",
     "text": [
      "[1] \"Cannot determine the current notebook.\"\n",
      "[1] \"1) /home/jupyter/repro-vrd-tea-seq/02-mast-deg-testing/02-R_deg_result_overlaps.ipynb\"\n",
      "[1] \"2) /home/jupyter/repro-vrd-tea-seq/figures/Supp-Fig-10_treatment_comparisons.ipynb\"\n",
      "[1] \"3) /home/jupyter/repro-vrd-tea-seq/figures/Figure-R_all_type_overlaps (1).ipynb\"\n"
     ]
    },
    {
     "name": "stdin",
     "output_type": "stream",
     "text": [
      "Please select (1-3)  1\n"
     ]
    },
    {
     "data": {
      "text/html": [
       "<dl>\n",
       "\t<dt>$files</dt>\n",
       "\t\t<dd><ol>\n",
       "\t<li>'output/mast_deg_overlap_analysis_2023-10-28.csv'</li>\n",
       "</ol>\n",
       "</dd>\n",
       "\t<dt>$traceId</dt>\n",
       "\t\t<dd>'bcb1bf0d-5cf5-4b61-93bd-bdff778356f5'</dd>\n",
       "</dl>\n"
      ],
      "text/latex": [
       "\\begin{description}\n",
       "\\item[\\$files] \\begin{enumerate}\n",
       "\\item 'output/mast\\_deg\\_overlap\\_analysis\\_2023-10-28.csv'\n",
       "\\end{enumerate}\n",
       "\n",
       "\\item[\\$traceId] 'bcb1bf0d-5cf5-4b61-93bd-bdff778356f5'\n",
       "\\end{description}\n"
      ],
      "text/markdown": [
       "$files\n",
       ":   1. 'output/mast_deg_overlap_analysis_2023-10-28.csv'\n",
       "\n",
       "\n",
       "\n",
       "$traceId\n",
       ":   'bcb1bf0d-5cf5-4b61-93bd-bdff778356f5'\n",
       "\n",
       "\n"
      ],
      "text/plain": [
       "$files\n",
       "$files[[1]]\n",
       "[1] \"output/mast_deg_overlap_analysis_2023-10-28.csv\"\n",
       "\n",
       "\n",
       "$traceId\n",
       "[1] \"bcb1bf0d-5cf5-4b61-93bd-bdff778356f5\"\n"
      ]
     },
     "metadata": {},
     "output_type": "display_data"
    }
   ],
   "source": [
    "uploadFiles(\n",
    "    files = list(out_file),\n",
    "    studySpaceId = study_space_uuid,\n",
    "    title = title,\n",
    "    inputFileIds = file_uuid,\n",
    "    store = \"project\",\n",
    "    doPrompt = FALSE\n",
    ")"
   ]
  },
  {
   "cell_type": "code",
   "execution_count": 17,
   "id": "9f516c72-5041-403e-85da-bafdadb2b70c",
   "metadata": {},
   "outputs": [
    {
     "data": {
      "text/plain": [
       "R version 4.3.1 (2023-06-16)\n",
       "Platform: x86_64-conda-linux-gnu (64-bit)\n",
       "Running under: Ubuntu 20.04.6 LTS\n",
       "\n",
       "Matrix products: default\n",
       "BLAS/LAPACK: /opt/conda/lib/libopenblasp-r0.3.24.so;  LAPACK version 3.11.0\n",
       "\n",
       "locale:\n",
       " [1] LC_CTYPE=C.UTF-8       LC_NUMERIC=C           LC_TIME=C.UTF-8       \n",
       " [4] LC_COLLATE=C.UTF-8     LC_MONETARY=C.UTF-8    LC_MESSAGES=C.UTF-8   \n",
       " [7] LC_PAPER=C.UTF-8       LC_NAME=C              LC_ADDRESS=C          \n",
       "[10] LC_TELEPHONE=C         LC_MEASUREMENT=C.UTF-8 LC_IDENTIFICATION=C   \n",
       "\n",
       "time zone: Etc/UTC\n",
       "tzcode source: system (glibc)\n",
       "\n",
       "attached base packages:\n",
       "[1] stats     graphics  grDevices utils     datasets  methods   base     \n",
       "\n",
       "other attached packages:\n",
       "[1] tibble_3.2.1 tidyr_1.3.0  dplyr_1.1.3  purrr_1.0.2  hise_2.16.0 \n",
       "\n",
       "loaded via a namespace (and not attached):\n",
       " [1] crayon_1.5.2     vctrs_0.6.3      httr_1.4.7       cli_3.6.1       \n",
       " [5] rlang_1.1.1      generics_0.1.3   assertthat_0.2.1 jsonlite_1.8.7  \n",
       " [9] glue_1.6.2       RCurl_1.98-1.12  htmltools_0.5.6  IRdisplay_1.1   \n",
       "[13] IRkernel_1.3.2   fansi_1.0.4      evaluate_0.21    bitops_1.0-7    \n",
       "[17] fastmap_1.1.1    base64enc_0.1-3  lifecycle_1.0.3  compiler_4.3.1  \n",
       "[21] pkgconfig_2.0.3  pbdZMQ_0.3-10    digest_0.6.33    R6_2.5.1        \n",
       "[25] repr_1.1.6.9000  tidyselect_1.2.0 utf8_1.2.3       curl_5.0.2      \n",
       "[29] pillar_1.9.0     magrittr_2.0.3   withr_2.5.1      uuid_1.1-1      \n",
       "[33] tools_4.3.1      mime_0.12       "
      ]
     },
     "metadata": {},
     "output_type": "display_data"
    }
   ],
   "source": [
    "sessionInfo()"
   ]
  },
  {
   "cell_type": "code",
   "execution_count": null,
   "id": "32470a2a-0ab2-4b3e-b0b9-7a1edbab310d",
   "metadata": {},
   "outputs": [],
   "source": []
  }
 ],
 "metadata": {
  "kernelspec": {
   "display_name": "R 4",
   "language": "R",
   "name": "ir4"
  },
  "language_info": {
   "codemirror_mode": "r",
   "file_extension": ".r",
   "mimetype": "text/x-r-source",
   "name": "R",
   "pygments_lexer": "r",
   "version": "4.3.2"
  }
 },
 "nbformat": 4,
 "nbformat_minor": 5
}
