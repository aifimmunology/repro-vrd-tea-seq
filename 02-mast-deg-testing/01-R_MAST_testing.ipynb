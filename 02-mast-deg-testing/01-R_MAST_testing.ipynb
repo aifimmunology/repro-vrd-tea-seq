{
 "cells": [
  {
   "cell_type": "markdown",
   "id": "a1887682-7939-489f-a207-e81b26c7e07d",
   "metadata": {},
   "source": [
    "# Perform MAST Differential Expression Tests\n",
    "\n",
    "In this notebook, we retrieve our CD4 and CD8 T cells and our cell type labels, then perform MAST differential gene expression tests. Comparisons will be carried out for each drug treatment at each timepoint compared to the DMSO-only control for each timepoint within each cell type.\n",
    "\n",
    "To balance cell counts, we'll group cells by treatment or control and cell type, then use the minimum number of cells across all samples. For example, to test CD4 Naive T cells under Bortezomib treatment, we'll examine the number of CD4 Naive cells in Bortezomib and DMSO at 4, 24, and 72 hours and randomly sample based on the minimum counts from all 6 samples.\n",
    "\n",
    "We'll then perform comparisons between treatment and control at each timepoint (e.g. CD4 Naive w/Bortezomib @ 4 hr vs. CD4 Naive w/DMSO @4 hr). \n",
    "\n",
    "For MAST, we need to also include Cellular Detection Rate (CDR) as a cofactor to control for gene expression differences between samples."
   ]
  },
  {
   "cell_type": "markdown",
   "id": "c4235301-2930-4ac0-82d8-435d26a543ac",
   "metadata": {},
   "source": [
    "## Load packages\n",
    "\n",
    "hise: The Human Immune System Explorer R SDK package  \n",
    "purrr: Functional programming tools  \n",
    "dplyr: Dataframe handling functions  \n",
    "ggplot2: plotting functions  \n",
    "Seurat: single cell genomics methods\n",
    "MAST: single cell differential expression tests"
   ]
  },
  {
   "cell_type": "code",
   "execution_count": 1,
   "id": "079bed78-ca7c-4314-aa80-fa884b82a934",
   "metadata": {},
   "outputs": [],
   "source": [
    "quiet_library <- function(...) { suppressPackageStartupMessages(library(...)) }\n",
    "quiet_library(hise)\n",
    "quiet_library(purrr)\n",
    "quiet_library(dplyr)\n",
    "quiet_library(ggplot2)\n",
    "quiet_library(Seurat)\n",
    "quiet_library(MAST)"
   ]
  },
  {
   "cell_type": "markdown",
   "id": "0b6cdb98-1cd3-47dd-a43b-c499e349a029",
   "metadata": {},
   "source": [
    "## Retrieve files\n",
    "\n",
    "Now, we'll use the HISE SDK package to retrieve the Seurat objects and cell type labels based on file UUIDs. This will be placed in the `cache/` subdirectory by default."
   ]
  },
  {
   "cell_type": "code",
   "execution_count": 2,
   "id": "65f97749-6524-4a1a-8556-d04f5113d61e",
   "metadata": {},
   "outputs": [],
   "source": [
    "file_uuids <- list(\n",
    "    \"7bdac6ef-e5e5-4150-b4f3-9c1a1e250334\", # CD4 T cell Seurat object\n",
    "    \"46438bc4-cde6-4ae6-b349-9c513dd9d16f\", # CD8 T cell Seurat object\n",
    "    \"a89342dc-be78-4856-aa2c-fe8dbef2d5ad\", # CD4 type labels\n",
    "    \"c2b5cf2a-b83a-4eee-bda1-66a0e2ff45d2\"  # CD8 type labels\n",
    ")"
   ]
  },
  {
   "cell_type": "code",
   "execution_count": 3,
   "id": "0f53f481-6286-4989-8d1e-8827d7eb48f0",
   "metadata": {
    "scrolled": true
   },
   "outputs": [
    {
     "name": "stdout",
     "output_type": "stream",
     "text": [
      "[1] \"Initiating file download for filtered_cd4_te_seurat.rds\"\n",
      "[1] \"Download successful.\"\n",
      "[1] \"Initiating file download for filtered_cd8_te_seurat.rds\"\n",
      "[1] \"Download successful.\"\n",
      "[1] \"Initiating file download for cd4_cell_type_labels.csv\"\n",
      "[1] \"Download successful.\"\n",
      "[1] \"Initiating file download for cd8_cell_type_labels.csv\"\n",
      "[1] \"Download successful.\"\n"
     ]
    }
   ],
   "source": [
    "fres <- cacheFiles(file_uuids)"
   ]
  },
  {
   "cell_type": "markdown",
   "id": "e870676a-e616-4f17-9d09-715157d93235",
   "metadata": {},
   "source": [
    "## Select cells\n"
   ]
  },
  {
   "cell_type": "code",
   "execution_count": 4,
   "id": "e8788e01-b60d-46f8-a6bc-3b70a2f2848f",
   "metadata": {},
   "outputs": [],
   "source": [
    "cd4_labels <- read.csv(\"cache/a89342dc-be78-4856-aa2c-fe8dbef2d5ad/cd4_cell_type_labels.csv\")\n",
    "cd8_labels <- read.csv(\"cache/c2b5cf2a-b83a-4eee-bda1-66a0e2ff45d2/cd8_cell_type_labels.csv\")"
   ]
  },
  {
   "cell_type": "code",
   "execution_count": 5,
   "id": "84efcc74-2115-4c44-8d9a-b510b3d27d86",
   "metadata": {},
   "outputs": [],
   "source": [
    "all_labels <- rbind(cd4_labels, cd8_labels)"
   ]
  },
  {
   "cell_type": "code",
   "execution_count": 6,
   "id": "4fa6631b-b894-45e8-8c0d-cdb48be44a81",
   "metadata": {},
   "outputs": [
    {
     "data": {
      "text/html": [
       "<table class=\"dataframe\">\n",
       "<caption>A data.frame: 6 × 10</caption>\n",
       "<thead>\n",
       "\t<tr><th></th><th scope=col>barcodes</th><th scope=col>treatment</th><th scope=col>timepoint</th><th scope=col>predicted.celltype.l1.score</th><th scope=col>predicted.celltype.l1</th><th scope=col>predicted.celltype.l2.score</th><th scope=col>predicted.celltype.l2</th><th scope=col>predicted.celltype.l3.score</th><th scope=col>predicted.celltype.l3</th><th scope=col>aifi_cell_type</th></tr>\n",
       "\t<tr><th></th><th scope=col>&lt;chr&gt;</th><th scope=col>&lt;chr&gt;</th><th scope=col>&lt;int&gt;</th><th scope=col>&lt;dbl&gt;</th><th scope=col>&lt;chr&gt;</th><th scope=col>&lt;dbl&gt;</th><th scope=col>&lt;chr&gt;</th><th scope=col>&lt;dbl&gt;</th><th scope=col>&lt;chr&gt;</th><th scope=col>&lt;chr&gt;</th></tr>\n",
       "</thead>\n",
       "<tbody>\n",
       "\t<tr><th scope=row>1</th><td>2da9d348fb8111eda35df29f570c0793</td><td>dmso</td><td>24</td><td>1</td><td>CD4 T</td><td>0.7379073</td><td>CD4 Naive</td><td>0.7379073</td><td>CD4 Naive</td><td>t_cd4_naive</td></tr>\n",
       "\t<tr><th scope=row>2</th><td>2daec6d2fb8111eda35df29f570c0793</td><td>dmso</td><td>24</td><td>1</td><td>CD4 T</td><td>1.0000000</td><td>CD4 Naive</td><td>1.0000000</td><td>CD4 Naive</td><td>t_cd4_naive</td></tr>\n",
       "\t<tr><th scope=row>3</th><td>2db119d2fb8111eda35df29f570c0793</td><td>dmso</td><td>24</td><td>1</td><td>CD4 T</td><td>0.6491493</td><td>CD4 TCM  </td><td>0.4892181</td><td>CD4 TCM_1</td><td>t_cd4_cm   </td></tr>\n",
       "\t<tr><th scope=row>4</th><td>2db582c4fb8111eda35df29f570c0793</td><td>dmso</td><td>24</td><td>1</td><td>CD4 T</td><td>0.8972198</td><td>CD4 Naive</td><td>0.8972198</td><td>CD4 Naive</td><td>t_cd4_naive</td></tr>\n",
       "\t<tr><th scope=row>5</th><td>2db6727efb8111eda35df29f570c0793</td><td>dmso</td><td>24</td><td>1</td><td>CD4 T</td><td>0.3939763</td><td>CD4 TCM  </td><td>0.2974696</td><td>CD4 Naive</td><td>t_cd4_naive</td></tr>\n",
       "\t<tr><th scope=row>6</th><td>2dc35a20fb8111eda35df29f570c0793</td><td>dmso</td><td>24</td><td>1</td><td>CD4 T</td><td>0.6306972</td><td>CD4 Naive</td><td>0.6306972</td><td>CD4 Naive</td><td>t_cd4_naive</td></tr>\n",
       "</tbody>\n",
       "</table>\n"
      ],
      "text/latex": [
       "A data.frame: 6 × 10\n",
       "\\begin{tabular}{r|llllllllll}\n",
       "  & barcodes & treatment & timepoint & predicted.celltype.l1.score & predicted.celltype.l1 & predicted.celltype.l2.score & predicted.celltype.l2 & predicted.celltype.l3.score & predicted.celltype.l3 & aifi\\_cell\\_type\\\\\n",
       "  & <chr> & <chr> & <int> & <dbl> & <chr> & <dbl> & <chr> & <dbl> & <chr> & <chr>\\\\\n",
       "\\hline\n",
       "\t1 & 2da9d348fb8111eda35df29f570c0793 & dmso & 24 & 1 & CD4 T & 0.7379073 & CD4 Naive & 0.7379073 & CD4 Naive & t\\_cd4\\_naive\\\\\n",
       "\t2 & 2daec6d2fb8111eda35df29f570c0793 & dmso & 24 & 1 & CD4 T & 1.0000000 & CD4 Naive & 1.0000000 & CD4 Naive & t\\_cd4\\_naive\\\\\n",
       "\t3 & 2db119d2fb8111eda35df29f570c0793 & dmso & 24 & 1 & CD4 T & 0.6491493 & CD4 TCM   & 0.4892181 & CD4 TCM\\_1 & t\\_cd4\\_cm   \\\\\n",
       "\t4 & 2db582c4fb8111eda35df29f570c0793 & dmso & 24 & 1 & CD4 T & 0.8972198 & CD4 Naive & 0.8972198 & CD4 Naive & t\\_cd4\\_naive\\\\\n",
       "\t5 & 2db6727efb8111eda35df29f570c0793 & dmso & 24 & 1 & CD4 T & 0.3939763 & CD4 TCM   & 0.2974696 & CD4 Naive & t\\_cd4\\_naive\\\\\n",
       "\t6 & 2dc35a20fb8111eda35df29f570c0793 & dmso & 24 & 1 & CD4 T & 0.6306972 & CD4 Naive & 0.6306972 & CD4 Naive & t\\_cd4\\_naive\\\\\n",
       "\\end{tabular}\n"
      ],
      "text/markdown": [
       "\n",
       "A data.frame: 6 × 10\n",
       "\n",
       "| <!--/--> | barcodes &lt;chr&gt; | treatment &lt;chr&gt; | timepoint &lt;int&gt; | predicted.celltype.l1.score &lt;dbl&gt; | predicted.celltype.l1 &lt;chr&gt; | predicted.celltype.l2.score &lt;dbl&gt; | predicted.celltype.l2 &lt;chr&gt; | predicted.celltype.l3.score &lt;dbl&gt; | predicted.celltype.l3 &lt;chr&gt; | aifi_cell_type &lt;chr&gt; |\n",
       "|---|---|---|---|---|---|---|---|---|---|---|\n",
       "| 1 | 2da9d348fb8111eda35df29f570c0793 | dmso | 24 | 1 | CD4 T | 0.7379073 | CD4 Naive | 0.7379073 | CD4 Naive | t_cd4_naive |\n",
       "| 2 | 2daec6d2fb8111eda35df29f570c0793 | dmso | 24 | 1 | CD4 T | 1.0000000 | CD4 Naive | 1.0000000 | CD4 Naive | t_cd4_naive |\n",
       "| 3 | 2db119d2fb8111eda35df29f570c0793 | dmso | 24 | 1 | CD4 T | 0.6491493 | CD4 TCM   | 0.4892181 | CD4 TCM_1 | t_cd4_cm    |\n",
       "| 4 | 2db582c4fb8111eda35df29f570c0793 | dmso | 24 | 1 | CD4 T | 0.8972198 | CD4 Naive | 0.8972198 | CD4 Naive | t_cd4_naive |\n",
       "| 5 | 2db6727efb8111eda35df29f570c0793 | dmso | 24 | 1 | CD4 T | 0.3939763 | CD4 TCM   | 0.2974696 | CD4 Naive | t_cd4_naive |\n",
       "| 6 | 2dc35a20fb8111eda35df29f570c0793 | dmso | 24 | 1 | CD4 T | 0.6306972 | CD4 Naive | 0.6306972 | CD4 Naive | t_cd4_naive |\n",
       "\n"
      ],
      "text/plain": [
       "  barcodes                         treatment timepoint\n",
       "1 2da9d348fb8111eda35df29f570c0793 dmso      24       \n",
       "2 2daec6d2fb8111eda35df29f570c0793 dmso      24       \n",
       "3 2db119d2fb8111eda35df29f570c0793 dmso      24       \n",
       "4 2db582c4fb8111eda35df29f570c0793 dmso      24       \n",
       "5 2db6727efb8111eda35df29f570c0793 dmso      24       \n",
       "6 2dc35a20fb8111eda35df29f570c0793 dmso      24       \n",
       "  predicted.celltype.l1.score predicted.celltype.l1 predicted.celltype.l2.score\n",
       "1 1                           CD4 T                 0.7379073                  \n",
       "2 1                           CD4 T                 1.0000000                  \n",
       "3 1                           CD4 T                 0.6491493                  \n",
       "4 1                           CD4 T                 0.8972198                  \n",
       "5 1                           CD4 T                 0.3939763                  \n",
       "6 1                           CD4 T                 0.6306972                  \n",
       "  predicted.celltype.l2 predicted.celltype.l3.score predicted.celltype.l3\n",
       "1 CD4 Naive             0.7379073                   CD4 Naive            \n",
       "2 CD4 Naive             1.0000000                   CD4 Naive            \n",
       "3 CD4 TCM               0.4892181                   CD4 TCM_1            \n",
       "4 CD4 Naive             0.8972198                   CD4 Naive            \n",
       "5 CD4 TCM               0.2974696                   CD4 Naive            \n",
       "6 CD4 Naive             0.6306972                   CD4 Naive            \n",
       "  aifi_cell_type\n",
       "1 t_cd4_naive   \n",
       "2 t_cd4_naive   \n",
       "3 t_cd4_cm      \n",
       "4 t_cd4_naive   \n",
       "5 t_cd4_naive   \n",
       "6 t_cd4_naive   "
      ]
     },
     "metadata": {},
     "output_type": "display_data"
    }
   ],
   "source": [
    "head(all_labels)"
   ]
  },
  {
   "cell_type": "markdown",
   "id": "b7cd6595-c43c-42dd-8da9-7441084bfa7a",
   "metadata": {},
   "source": [
    "Exclude untreated cells - we won't use these for our treatment comparisons"
   ]
  },
  {
   "cell_type": "code",
   "execution_count": 19,
   "id": "6a999d1f-fb61-4a1f-bd44-801fda550694",
   "metadata": {},
   "outputs": [],
   "source": [
    "all_labels <- all_labels %>%\n",
    "  filter(treatment != \"untreated\")"
   ]
  },
  {
   "cell_type": "markdown",
   "id": "6d67ebaa-e523-4963-b52a-7b50c23513a9",
   "metadata": {},
   "source": [
    "Get counts of each cell type for each sample:"
   ]
  },
  {
   "cell_type": "code",
   "execution_count": 20,
   "id": "badeb3a7-3856-4965-83d3-3f69d839d688",
   "metadata": {},
   "outputs": [],
   "source": [
    "count_summary <- all_labels %>%\n",
    "  group_by(treatment, timepoint, aifi_cell_type) %>%\n",
    "  summarise(n_cells = n(),\n",
    "            .groups = \"keep\") %>%\n",
    "  ungroup()"
   ]
  },
  {
   "cell_type": "markdown",
   "id": "999b85b3-2303-42af-a95c-8d60ce8bd011",
   "metadata": {},
   "source": [
    "Add a column for DMSO counts per type and timepoint"
   ]
  },
  {
   "cell_type": "code",
   "execution_count": 25,
   "id": "e854bce1-dd09-47df-80c4-1f06171f445f",
   "metadata": {},
   "outputs": [],
   "source": [
    "count_summary <- count_summary %>%\n",
    "  ungroup() %>%\n",
    "  group_by(aifi_cell_type, timepoint) %>%\n",
    "  mutate(n_dmso = n_cells[treatment == \"dmso\"]) %>%\n",
    "  ungroup() %>%\n",
    "  filter(treatment != \"dmso\")"
   ]
  },
  {
   "cell_type": "markdown",
   "id": "c8c86f7c-70fe-41a3-bdab-f320c769ff36",
   "metadata": {},
   "source": [
    "Regroup by treatment and cell type, and use treatment and DMSO counts to find minimums for sampling"
   ]
  },
  {
   "cell_type": "code",
   "execution_count": 26,
   "id": "e6b533fa-1bb2-45ab-a20f-e31e9e9fece4",
   "metadata": {},
   "outputs": [],
   "source": [
    "type_minimums <- count_summary %>%\n",
    "  group_by(treatment, aifi_cell_type) %>%\n",
    "  mutate(n_sample = min(c(n_cells, n_dmso)))"
   ]
  },
  {
   "cell_type": "code",
   "execution_count": 28,
   "id": "a0fe6124-60c6-4266-97aa-fc9c020b9e29",
   "metadata": {},
   "outputs": [
    {
     "data": {
      "text/html": [
       "<table class=\"dataframe\">\n",
       "<caption>A grouped_df: 46 × 6</caption>\n",
       "<thead>\n",
       "\t<tr><th scope=col>treatment</th><th scope=col>timepoint</th><th scope=col>aifi_cell_type</th><th scope=col>n_cells</th><th scope=col>n_dmso</th><th scope=col>n_sample</th></tr>\n",
       "\t<tr><th scope=col>&lt;chr&gt;</th><th scope=col>&lt;int&gt;</th><th scope=col>&lt;chr&gt;</th><th scope=col>&lt;int&gt;</th><th scope=col>&lt;int&gt;</th><th scope=col>&lt;int&gt;</th></tr>\n",
       "</thead>\n",
       "<tbody>\n",
       "\t<tr><td>bortezomib   </td><td> 4</td><td>t_cd4_cm    </td><td> 3481</td><td>2619</td><td> 467</td></tr>\n",
       "\t<tr><td>bortezomib   </td><td>24</td><td>t_cd4_cm    </td><td> 3936</td><td>5180</td><td> 467</td></tr>\n",
       "\t<tr><td>bortezomib   </td><td>72</td><td>t_cd4_cm    </td><td> 1399</td><td> 467</td><td> 467</td></tr>\n",
       "\t<tr><td>bortezomib   </td><td> 4</td><td>t_cd4_naive </td><td> 5975</td><td>4393</td><td>1341</td></tr>\n",
       "\t<tr><td>bortezomib   </td><td>24</td><td>t_cd4_naive </td><td> 7016</td><td>9328</td><td>1341</td></tr>\n",
       "\t<tr><td>bortezomib   </td><td>72</td><td>t_cd4_naive </td><td> 2504</td><td>1341</td><td>1341</td></tr>\n",
       "\t<tr><td>bortezomib   </td><td> 4</td><td>t_cd4_treg  </td><td>  802</td><td> 587</td><td> 587</td></tr>\n",
       "\t<tr><td>bortezomib   </td><td>24</td><td>t_cd4_treg  </td><td>  716</td><td>1034</td><td> 587</td></tr>\n",
       "\t<tr><td>bortezomib   </td><td> 4</td><td>t_cd8_memory</td><td> 1153</td><td> 883</td><td> 166</td></tr>\n",
       "\t<tr><td>bortezomib   </td><td>24</td><td>t_cd8_memory</td><td> 1374</td><td>1770</td><td> 166</td></tr>\n",
       "\t<tr><td>bortezomib   </td><td>72</td><td>t_cd8_memory</td><td>  210</td><td> 166</td><td> 166</td></tr>\n",
       "\t<tr><td>bortezomib   </td><td> 4</td><td>t_cd8_naive </td><td> 2023</td><td>1451</td><td> 448</td></tr>\n",
       "\t<tr><td>bortezomib   </td><td>24</td><td>t_cd8_naive </td><td> 2289</td><td>3012</td><td> 448</td></tr>\n",
       "\t<tr><td>bortezomib   </td><td>72</td><td>t_cd8_naive </td><td>  745</td><td> 448</td><td> 448</td></tr>\n",
       "\t<tr><td>bortezomib   </td><td> 4</td><td>tc_cd4_em   </td><td> 1245</td><td> 886</td><td> 886</td></tr>\n",
       "\t<tr><td>bortezomib   </td><td>24</td><td>tc_cd4_em   </td><td> 1808</td><td>1853</td><td> 886</td></tr>\n",
       "\t<tr><td>dexamethasone</td><td> 4</td><td>t_cd4_cm    </td><td> 6875</td><td>2619</td><td> 916</td></tr>\n",
       "\t<tr><td>dexamethasone</td><td>24</td><td>t_cd4_cm    </td><td>  916</td><td>5180</td><td> 916</td></tr>\n",
       "\t<tr><td>dexamethasone</td><td> 4</td><td>t_cd4_naive </td><td>10821</td><td>4393</td><td>1728</td></tr>\n",
       "\t<tr><td>dexamethasone</td><td>24</td><td>t_cd4_naive </td><td> 1728</td><td>9328</td><td>1728</td></tr>\n",
       "\t<tr><td>dexamethasone</td><td> 4</td><td>t_cd4_treg  </td><td> 1305</td><td> 587</td><td> 205</td></tr>\n",
       "\t<tr><td>dexamethasone</td><td>24</td><td>t_cd4_treg  </td><td>  205</td><td>1034</td><td> 205</td></tr>\n",
       "\t<tr><td>dexamethasone</td><td> 4</td><td>t_cd8_memory</td><td> 2297</td><td> 883</td><td> 285</td></tr>\n",
       "\t<tr><td>dexamethasone</td><td>24</td><td>t_cd8_memory</td><td>  285</td><td>1770</td><td> 285</td></tr>\n",
       "\t<tr><td>dexamethasone</td><td> 4</td><td>t_cd8_naive </td><td> 3847</td><td>1451</td><td> 644</td></tr>\n",
       "\t<tr><td>dexamethasone</td><td>24</td><td>t_cd8_naive </td><td>  644</td><td>3012</td><td> 644</td></tr>\n",
       "\t<tr><td>dexamethasone</td><td> 4</td><td>tc_cd4_em   </td><td> 2208</td><td> 886</td><td> 482</td></tr>\n",
       "\t<tr><td>dexamethasone</td><td>24</td><td>tc_cd4_em   </td><td>  482</td><td>1853</td><td> 482</td></tr>\n",
       "\t<tr><td>lenalidomide </td><td> 4</td><td>t_cd4_cm    </td><td> 1404</td><td>2619</td><td> 467</td></tr>\n",
       "\t<tr><td>lenalidomide </td><td>24</td><td>t_cd4_cm    </td><td> 2715</td><td>5180</td><td> 467</td></tr>\n",
       "\t<tr><td>lenalidomide </td><td>72</td><td>t_cd4_cm    </td><td> 1591</td><td> 467</td><td> 467</td></tr>\n",
       "\t<tr><td>lenalidomide </td><td> 4</td><td>t_cd4_naive </td><td> 2222</td><td>4393</td><td>1341</td></tr>\n",
       "\t<tr><td>lenalidomide </td><td>24</td><td>t_cd4_naive </td><td> 4715</td><td>9328</td><td>1341</td></tr>\n",
       "\t<tr><td>lenalidomide </td><td>72</td><td>t_cd4_naive </td><td> 3046</td><td>1341</td><td>1341</td></tr>\n",
       "\t<tr><td>lenalidomide </td><td> 4</td><td>t_cd4_treg  </td><td>  282</td><td> 587</td><td> 136</td></tr>\n",
       "\t<tr><td>lenalidomide </td><td>24</td><td>t_cd4_treg  </td><td>  531</td><td>1034</td><td> 136</td></tr>\n",
       "\t<tr><td>lenalidomide </td><td>72</td><td>t_cd4_treg  </td><td>  322</td><td> 136</td><td> 136</td></tr>\n",
       "\t<tr><td>lenalidomide </td><td> 4</td><td>t_cd8_memory</td><td>  465</td><td> 883</td><td> 166</td></tr>\n",
       "\t<tr><td>lenalidomide </td><td>24</td><td>t_cd8_memory</td><td>  827</td><td>1770</td><td> 166</td></tr>\n",
       "\t<tr><td>lenalidomide </td><td>72</td><td>t_cd8_memory</td><td>  477</td><td> 166</td><td> 166</td></tr>\n",
       "\t<tr><td>lenalidomide </td><td> 4</td><td>t_cd8_naive </td><td>  851</td><td>1451</td><td> 448</td></tr>\n",
       "\t<tr><td>lenalidomide </td><td>24</td><td>t_cd8_naive </td><td> 1791</td><td>3012</td><td> 448</td></tr>\n",
       "\t<tr><td>lenalidomide </td><td>72</td><td>t_cd8_naive </td><td> 1143</td><td> 448</td><td> 448</td></tr>\n",
       "\t<tr><td>lenalidomide </td><td> 4</td><td>tc_cd4_em   </td><td>  514</td><td> 886</td><td> 362</td></tr>\n",
       "\t<tr><td>lenalidomide </td><td>24</td><td>tc_cd4_em   </td><td>  924</td><td>1853</td><td> 362</td></tr>\n",
       "\t<tr><td>lenalidomide </td><td>72</td><td>tc_cd4_em   </td><td>  580</td><td> 362</td><td> 362</td></tr>\n",
       "</tbody>\n",
       "</table>\n"
      ],
      "text/latex": [
       "A grouped\\_df: 46 × 6\n",
       "\\begin{tabular}{llllll}\n",
       " treatment & timepoint & aifi\\_cell\\_type & n\\_cells & n\\_dmso & n\\_sample\\\\\n",
       " <chr> & <int> & <chr> & <int> & <int> & <int>\\\\\n",
       "\\hline\n",
       "\t bortezomib    &  4 & t\\_cd4\\_cm     &  3481 & 2619 &  467\\\\\n",
       "\t bortezomib    & 24 & t\\_cd4\\_cm     &  3936 & 5180 &  467\\\\\n",
       "\t bortezomib    & 72 & t\\_cd4\\_cm     &  1399 &  467 &  467\\\\\n",
       "\t bortezomib    &  4 & t\\_cd4\\_naive  &  5975 & 4393 & 1341\\\\\n",
       "\t bortezomib    & 24 & t\\_cd4\\_naive  &  7016 & 9328 & 1341\\\\\n",
       "\t bortezomib    & 72 & t\\_cd4\\_naive  &  2504 & 1341 & 1341\\\\\n",
       "\t bortezomib    &  4 & t\\_cd4\\_treg   &   802 &  587 &  587\\\\\n",
       "\t bortezomib    & 24 & t\\_cd4\\_treg   &   716 & 1034 &  587\\\\\n",
       "\t bortezomib    &  4 & t\\_cd8\\_memory &  1153 &  883 &  166\\\\\n",
       "\t bortezomib    & 24 & t\\_cd8\\_memory &  1374 & 1770 &  166\\\\\n",
       "\t bortezomib    & 72 & t\\_cd8\\_memory &   210 &  166 &  166\\\\\n",
       "\t bortezomib    &  4 & t\\_cd8\\_naive  &  2023 & 1451 &  448\\\\\n",
       "\t bortezomib    & 24 & t\\_cd8\\_naive  &  2289 & 3012 &  448\\\\\n",
       "\t bortezomib    & 72 & t\\_cd8\\_naive  &   745 &  448 &  448\\\\\n",
       "\t bortezomib    &  4 & tc\\_cd4\\_em    &  1245 &  886 &  886\\\\\n",
       "\t bortezomib    & 24 & tc\\_cd4\\_em    &  1808 & 1853 &  886\\\\\n",
       "\t dexamethasone &  4 & t\\_cd4\\_cm     &  6875 & 2619 &  916\\\\\n",
       "\t dexamethasone & 24 & t\\_cd4\\_cm     &   916 & 5180 &  916\\\\\n",
       "\t dexamethasone &  4 & t\\_cd4\\_naive  & 10821 & 4393 & 1728\\\\\n",
       "\t dexamethasone & 24 & t\\_cd4\\_naive  &  1728 & 9328 & 1728\\\\\n",
       "\t dexamethasone &  4 & t\\_cd4\\_treg   &  1305 &  587 &  205\\\\\n",
       "\t dexamethasone & 24 & t\\_cd4\\_treg   &   205 & 1034 &  205\\\\\n",
       "\t dexamethasone &  4 & t\\_cd8\\_memory &  2297 &  883 &  285\\\\\n",
       "\t dexamethasone & 24 & t\\_cd8\\_memory &   285 & 1770 &  285\\\\\n",
       "\t dexamethasone &  4 & t\\_cd8\\_naive  &  3847 & 1451 &  644\\\\\n",
       "\t dexamethasone & 24 & t\\_cd8\\_naive  &   644 & 3012 &  644\\\\\n",
       "\t dexamethasone &  4 & tc\\_cd4\\_em    &  2208 &  886 &  482\\\\\n",
       "\t dexamethasone & 24 & tc\\_cd4\\_em    &   482 & 1853 &  482\\\\\n",
       "\t lenalidomide  &  4 & t\\_cd4\\_cm     &  1404 & 2619 &  467\\\\\n",
       "\t lenalidomide  & 24 & t\\_cd4\\_cm     &  2715 & 5180 &  467\\\\\n",
       "\t lenalidomide  & 72 & t\\_cd4\\_cm     &  1591 &  467 &  467\\\\\n",
       "\t lenalidomide  &  4 & t\\_cd4\\_naive  &  2222 & 4393 & 1341\\\\\n",
       "\t lenalidomide  & 24 & t\\_cd4\\_naive  &  4715 & 9328 & 1341\\\\\n",
       "\t lenalidomide  & 72 & t\\_cd4\\_naive  &  3046 & 1341 & 1341\\\\\n",
       "\t lenalidomide  &  4 & t\\_cd4\\_treg   &   282 &  587 &  136\\\\\n",
       "\t lenalidomide  & 24 & t\\_cd4\\_treg   &   531 & 1034 &  136\\\\\n",
       "\t lenalidomide  & 72 & t\\_cd4\\_treg   &   322 &  136 &  136\\\\\n",
       "\t lenalidomide  &  4 & t\\_cd8\\_memory &   465 &  883 &  166\\\\\n",
       "\t lenalidomide  & 24 & t\\_cd8\\_memory &   827 & 1770 &  166\\\\\n",
       "\t lenalidomide  & 72 & t\\_cd8\\_memory &   477 &  166 &  166\\\\\n",
       "\t lenalidomide  &  4 & t\\_cd8\\_naive  &   851 & 1451 &  448\\\\\n",
       "\t lenalidomide  & 24 & t\\_cd8\\_naive  &  1791 & 3012 &  448\\\\\n",
       "\t lenalidomide  & 72 & t\\_cd8\\_naive  &  1143 &  448 &  448\\\\\n",
       "\t lenalidomide  &  4 & tc\\_cd4\\_em    &   514 &  886 &  362\\\\\n",
       "\t lenalidomide  & 24 & tc\\_cd4\\_em    &   924 & 1853 &  362\\\\\n",
       "\t lenalidomide  & 72 & tc\\_cd4\\_em    &   580 &  362 &  362\\\\\n",
       "\\end{tabular}\n"
      ],
      "text/markdown": [
       "\n",
       "A grouped_df: 46 × 6\n",
       "\n",
       "| treatment &lt;chr&gt; | timepoint &lt;int&gt; | aifi_cell_type &lt;chr&gt; | n_cells &lt;int&gt; | n_dmso &lt;int&gt; | n_sample &lt;int&gt; |\n",
       "|---|---|---|---|---|---|\n",
       "| bortezomib    |  4 | t_cd4_cm     |  3481 | 2619 |  467 |\n",
       "| bortezomib    | 24 | t_cd4_cm     |  3936 | 5180 |  467 |\n",
       "| bortezomib    | 72 | t_cd4_cm     |  1399 |  467 |  467 |\n",
       "| bortezomib    |  4 | t_cd4_naive  |  5975 | 4393 | 1341 |\n",
       "| bortezomib    | 24 | t_cd4_naive  |  7016 | 9328 | 1341 |\n",
       "| bortezomib    | 72 | t_cd4_naive  |  2504 | 1341 | 1341 |\n",
       "| bortezomib    |  4 | t_cd4_treg   |   802 |  587 |  587 |\n",
       "| bortezomib    | 24 | t_cd4_treg   |   716 | 1034 |  587 |\n",
       "| bortezomib    |  4 | t_cd8_memory |  1153 |  883 |  166 |\n",
       "| bortezomib    | 24 | t_cd8_memory |  1374 | 1770 |  166 |\n",
       "| bortezomib    | 72 | t_cd8_memory |   210 |  166 |  166 |\n",
       "| bortezomib    |  4 | t_cd8_naive  |  2023 | 1451 |  448 |\n",
       "| bortezomib    | 24 | t_cd8_naive  |  2289 | 3012 |  448 |\n",
       "| bortezomib    | 72 | t_cd8_naive  |   745 |  448 |  448 |\n",
       "| bortezomib    |  4 | tc_cd4_em    |  1245 |  886 |  886 |\n",
       "| bortezomib    | 24 | tc_cd4_em    |  1808 | 1853 |  886 |\n",
       "| dexamethasone |  4 | t_cd4_cm     |  6875 | 2619 |  916 |\n",
       "| dexamethasone | 24 | t_cd4_cm     |   916 | 5180 |  916 |\n",
       "| dexamethasone |  4 | t_cd4_naive  | 10821 | 4393 | 1728 |\n",
       "| dexamethasone | 24 | t_cd4_naive  |  1728 | 9328 | 1728 |\n",
       "| dexamethasone |  4 | t_cd4_treg   |  1305 |  587 |  205 |\n",
       "| dexamethasone | 24 | t_cd4_treg   |   205 | 1034 |  205 |\n",
       "| dexamethasone |  4 | t_cd8_memory |  2297 |  883 |  285 |\n",
       "| dexamethasone | 24 | t_cd8_memory |   285 | 1770 |  285 |\n",
       "| dexamethasone |  4 | t_cd8_naive  |  3847 | 1451 |  644 |\n",
       "| dexamethasone | 24 | t_cd8_naive  |   644 | 3012 |  644 |\n",
       "| dexamethasone |  4 | tc_cd4_em    |  2208 |  886 |  482 |\n",
       "| dexamethasone | 24 | tc_cd4_em    |   482 | 1853 |  482 |\n",
       "| lenalidomide  |  4 | t_cd4_cm     |  1404 | 2619 |  467 |\n",
       "| lenalidomide  | 24 | t_cd4_cm     |  2715 | 5180 |  467 |\n",
       "| lenalidomide  | 72 | t_cd4_cm     |  1591 |  467 |  467 |\n",
       "| lenalidomide  |  4 | t_cd4_naive  |  2222 | 4393 | 1341 |\n",
       "| lenalidomide  | 24 | t_cd4_naive  |  4715 | 9328 | 1341 |\n",
       "| lenalidomide  | 72 | t_cd4_naive  |  3046 | 1341 | 1341 |\n",
       "| lenalidomide  |  4 | t_cd4_treg   |   282 |  587 |  136 |\n",
       "| lenalidomide  | 24 | t_cd4_treg   |   531 | 1034 |  136 |\n",
       "| lenalidomide  | 72 | t_cd4_treg   |   322 |  136 |  136 |\n",
       "| lenalidomide  |  4 | t_cd8_memory |   465 |  883 |  166 |\n",
       "| lenalidomide  | 24 | t_cd8_memory |   827 | 1770 |  166 |\n",
       "| lenalidomide  | 72 | t_cd8_memory |   477 |  166 |  166 |\n",
       "| lenalidomide  |  4 | t_cd8_naive  |   851 | 1451 |  448 |\n",
       "| lenalidomide  | 24 | t_cd8_naive  |  1791 | 3012 |  448 |\n",
       "| lenalidomide  | 72 | t_cd8_naive  |  1143 |  448 |  448 |\n",
       "| lenalidomide  |  4 | tc_cd4_em    |   514 |  886 |  362 |\n",
       "| lenalidomide  | 24 | tc_cd4_em    |   924 | 1853 |  362 |\n",
       "| lenalidomide  | 72 | tc_cd4_em    |   580 |  362 |  362 |\n",
       "\n"
      ],
      "text/plain": [
       "   treatment     timepoint aifi_cell_type n_cells n_dmso n_sample\n",
       "1  bortezomib     4        t_cd4_cm        3481   2619    467    \n",
       "2  bortezomib    24        t_cd4_cm        3936   5180    467    \n",
       "3  bortezomib    72        t_cd4_cm        1399    467    467    \n",
       "4  bortezomib     4        t_cd4_naive     5975   4393   1341    \n",
       "5  bortezomib    24        t_cd4_naive     7016   9328   1341    \n",
       "6  bortezomib    72        t_cd4_naive     2504   1341   1341    \n",
       "7  bortezomib     4        t_cd4_treg       802    587    587    \n",
       "8  bortezomib    24        t_cd4_treg       716   1034    587    \n",
       "9  bortezomib     4        t_cd8_memory    1153    883    166    \n",
       "10 bortezomib    24        t_cd8_memory    1374   1770    166    \n",
       "11 bortezomib    72        t_cd8_memory     210    166    166    \n",
       "12 bortezomib     4        t_cd8_naive     2023   1451    448    \n",
       "13 bortezomib    24        t_cd8_naive     2289   3012    448    \n",
       "14 bortezomib    72        t_cd8_naive      745    448    448    \n",
       "15 bortezomib     4        tc_cd4_em       1245    886    886    \n",
       "16 bortezomib    24        tc_cd4_em       1808   1853    886    \n",
       "17 dexamethasone  4        t_cd4_cm        6875   2619    916    \n",
       "18 dexamethasone 24        t_cd4_cm         916   5180    916    \n",
       "19 dexamethasone  4        t_cd4_naive    10821   4393   1728    \n",
       "20 dexamethasone 24        t_cd4_naive     1728   9328   1728    \n",
       "21 dexamethasone  4        t_cd4_treg      1305    587    205    \n",
       "22 dexamethasone 24        t_cd4_treg       205   1034    205    \n",
       "23 dexamethasone  4        t_cd8_memory    2297    883    285    \n",
       "24 dexamethasone 24        t_cd8_memory     285   1770    285    \n",
       "25 dexamethasone  4        t_cd8_naive     3847   1451    644    \n",
       "26 dexamethasone 24        t_cd8_naive      644   3012    644    \n",
       "27 dexamethasone  4        tc_cd4_em       2208    886    482    \n",
       "28 dexamethasone 24        tc_cd4_em        482   1853    482    \n",
       "29 lenalidomide   4        t_cd4_cm        1404   2619    467    \n",
       "30 lenalidomide  24        t_cd4_cm        2715   5180    467    \n",
       "31 lenalidomide  72        t_cd4_cm        1591    467    467    \n",
       "32 lenalidomide   4        t_cd4_naive     2222   4393   1341    \n",
       "33 lenalidomide  24        t_cd4_naive     4715   9328   1341    \n",
       "34 lenalidomide  72        t_cd4_naive     3046   1341   1341    \n",
       "35 lenalidomide   4        t_cd4_treg       282    587    136    \n",
       "36 lenalidomide  24        t_cd4_treg       531   1034    136    \n",
       "37 lenalidomide  72        t_cd4_treg       322    136    136    \n",
       "38 lenalidomide   4        t_cd8_memory     465    883    166    \n",
       "39 lenalidomide  24        t_cd8_memory     827   1770    166    \n",
       "40 lenalidomide  72        t_cd8_memory     477    166    166    \n",
       "41 lenalidomide   4        t_cd8_naive      851   1451    448    \n",
       "42 lenalidomide  24        t_cd8_naive     1791   3012    448    \n",
       "43 lenalidomide  72        t_cd8_naive     1143    448    448    \n",
       "44 lenalidomide   4        tc_cd4_em        514    886    362    \n",
       "45 lenalidomide  24        tc_cd4_em        924   1853    362    \n",
       "46 lenalidomide  72        tc_cd4_em        580    362    362    "
      ]
     },
     "metadata": {},
     "output_type": "display_data"
    }
   ],
   "source": [
    "type_minimums %>%\n",
    "  arrange(treatment, aifi_cell_type, timepoint)"
   ]
  },
  {
   "cell_type": "code",
   "execution_count": null,
   "id": "68365ac4-8b59-46c7-9e28-bdb909811fd5",
   "metadata": {},
   "outputs": [],
   "source": []
  }
 ],
 "metadata": {
  "kernelspec": {
   "display_name": "R 4",
   "language": "R",
   "name": "ir4"
  },
  "language_info": {
   "codemirror_mode": "r",
   "file_extension": ".r",
   "mimetype": "text/x-r-source",
   "name": "R",
   "pygments_lexer": "r",
   "version": "4.3.1"
  }
 },
 "nbformat": 4,
 "nbformat_minor": 5
}
