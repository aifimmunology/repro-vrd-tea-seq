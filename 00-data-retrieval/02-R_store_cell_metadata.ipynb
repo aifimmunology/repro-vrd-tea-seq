{
 "cells": [
  {
   "cell_type": "code",
   "execution_count": 1,
   "id": "04e3c3df-161d-4242-a9ba-b50224364dd9",
   "metadata": {},
   "outputs": [],
   "source": [
    "library(hise)"
   ]
  },
  {
   "cell_type": "code",
   "execution_count": 3,
   "id": "2a84a1df-2e2e-4cfd-8ceb-b84eeb5c33f5",
   "metadata": {},
   "outputs": [],
   "source": [
    "out_files <- list.files(\n",
    "    \"output\",\n",
    "    full.names = TRUE\n",
    ")\n",
    "out_list <- as.list(out_files)"
   ]
  },
  {
   "cell_type": "code",
   "execution_count": 6,
   "id": "31171c59-56f7-4620-8efb-9efd4a648855",
   "metadata": {},
   "outputs": [],
   "source": [
    "study_space_uuid <- \"40df6403-29f0-4b45-ab7d-f46d420c422e\"\n",
    "title <- \"VRd TEA-seq unfiltered RNA and ADT cell metadata\"\n",
    "input_file_uuids <- list(\n",
    "    \"0a4dcc97-bc5a-4aa6-a3d3-16cf612502ce\", \n",
    "    \"0af11a1e-c721-40e1-9455-032416ab1aa1\", \n",
    "    \"1981a346-0a61-4360-a11c-2e846af8aa52\", \n",
    "    \"1be65739-445a-41fe-89a4-52fbbba2000d\", \n",
    "    \"5ed5b8a3-1a79-40fb-b47f-c38dda0f012c\", \n",
    "    \"636e9db3-1870-4691-832c-814588039474\", \n",
    "    \"63a493fb-f7cb-4544-bd3a-c55fc9c26426\", \n",
    "    \"7d9548ce-8468-45d6-9489-fa638e421934\", \n",
    "    \"d3a284cf-b101-44d4-9f88-d3683b371fa6\", \n",
    "    \"d5ddec3e-c699-4f04-89fa-34c9d3cfeec1\", \n",
    "    \"de3962ef-1b9f-4e16-a660-6d839d52e432\", \n",
    "    \"f9a1b436-a5cf-4950-99ba-add2c5ac0707\"\n",
    ")"
   ]
  },
  {
   "cell_type": "code",
   "execution_count": 7,
   "id": "1074b5c5-8beb-4c5c-8c8b-a50b72833932",
   "metadata": {},
   "outputs": [
    {
     "name": "stdout",
     "output_type": "stream",
     "text": [
      "[1] \"Cannot determine the current notebook.\"\n",
      "[1] \"1) /home/jupyter/repro-vrd-tea-seq/00-data-retrieval/02-R_store_cell_metadata.ipynb\"\n",
      "[1] \"2) /home/jupyter/repro-vrd-tea-seq/00-data-retrieval/01-R_retrieve_cell_metadata.ipynb\"\n",
      "[1] \"3) /home/jupyter/repro-vrd-tea-seq/00-data-retrieval/00-R_get_rna_data.ipynb\"\n"
     ]
    },
    {
     "name": "stdin",
     "output_type": "stream",
     "text": [
      "Please select (1-3)  1\n"
     ]
    },
    {
     "data": {
      "text/html": [
       "<dl>\n",
       "\t<dt>$files</dt>\n",
       "\t\t<dd><ol>\n",
       "\t<li>'output/all_rna_adt_cell_metadata.csv'</li>\n",
       "</ol>\n",
       "</dd>\n",
       "\t<dt>$traceId</dt>\n",
       "\t\t<dd>'529aa99e-2ca3-48cd-ba6f-220db74048fb'</dd>\n",
       "</dl>\n"
      ],
      "text/latex": [
       "\\begin{description}\n",
       "\\item[\\$files] \\begin{enumerate}\n",
       "\\item 'output/all\\_rna\\_adt\\_cell\\_metadata.csv'\n",
       "\\end{enumerate}\n",
       "\n",
       "\\item[\\$traceId] '529aa99e-2ca3-48cd-ba6f-220db74048fb'\n",
       "\\end{description}\n"
      ],
      "text/markdown": [
       "$files\n",
       ":   1. 'output/all_rna_adt_cell_metadata.csv'\n",
       "\n",
       "\n",
       "\n",
       "$traceId\n",
       ":   '529aa99e-2ca3-48cd-ba6f-220db74048fb'\n",
       "\n",
       "\n"
      ],
      "text/plain": [
       "$files\n",
       "$files[[1]]\n",
       "[1] \"output/all_rna_adt_cell_metadata.csv\"\n",
       "\n",
       "\n",
       "$traceId\n",
       "[1] \"529aa99e-2ca3-48cd-ba6f-220db74048fb\"\n"
      ]
     },
     "metadata": {},
     "output_type": "display_data"
    }
   ],
   "source": [
    "uploadFiles(\n",
    "    files = out_list,\n",
    "    studySpaceId = study_space_uuid,\n",
    "    title = title,\n",
    "    inputFileIds = input_file_uuids,\n",
    "    store = \"project\",\n",
    "    doPrompt = FALSE\n",
    ")"
   ]
  },
  {
   "cell_type": "code",
   "execution_count": 8,
   "id": "ca06c323-6854-4aae-afbe-8b2cdb752bbd",
   "metadata": {},
   "outputs": [
    {
     "data": {
      "text/plain": [
       "R version 4.2.2 Patched (2022-11-10 r83330)\n",
       "Platform: x86_64-pc-linux-gnu (64-bit)\n",
       "Running under: Ubuntu 20.04.5 LTS\n",
       "\n",
       "Matrix products: default\n",
       "BLAS:   /usr/lib/x86_64-linux-gnu/openblas-pthread/libblas.so.3\n",
       "LAPACK: /usr/lib/x86_64-linux-gnu/openblas-pthread/liblapack.so.3\n",
       "\n",
       "locale:\n",
       " [1] LC_CTYPE=C.UTF-8       LC_NUMERIC=C           LC_TIME=C.UTF-8       \n",
       " [4] LC_COLLATE=C.UTF-8     LC_MONETARY=C.UTF-8    LC_MESSAGES=C.UTF-8   \n",
       " [7] LC_PAPER=C.UTF-8       LC_NAME=C              LC_ADDRESS=C          \n",
       "[10] LC_TELEPHONE=C         LC_MEASUREMENT=C.UTF-8 LC_IDENTIFICATION=C   \n",
       "\n",
       "attached base packages:\n",
       "[1] stats     graphics  grDevices utils     datasets  methods   base     \n",
       "\n",
       "other attached packages:\n",
       "[1] hise_2.16.0\n",
       "\n",
       "loaded via a namespace (and not attached):\n",
       " [1] uuid_1.1-0       R6_2.5.1         rlang_1.1.1      fastmap_1.1.1   \n",
       " [5] fansi_1.0.4      httr_1.4.6       tools_4.2.2      utf8_1.2.3      \n",
       " [9] cli_3.6.1        htmltools_0.5.5  digest_0.6.32    assertthat_0.2.1\n",
       "[13] lifecycle_1.0.3  crayon_1.5.2     IRdisplay_1.1    repr_1.1.6.9000 \n",
       "[17] bitops_1.0-7     base64enc_0.1-3  vctrs_0.6.3      RCurl_1.98-1.10 \n",
       "[21] IRkernel_1.3.2   curl_5.0.1       glue_1.6.2       evaluate_0.21   \n",
       "[25] mime_0.12        pbdZMQ_0.3-9     compiler_4.2.2   pillar_1.9.0    \n",
       "[29] jsonlite_1.8.7  "
      ]
     },
     "metadata": {},
     "output_type": "display_data"
    }
   ],
   "source": [
    "sessionInfo()"
   ]
  },
  {
   "cell_type": "code",
   "execution_count": null,
   "id": "910737e9-1f14-48cd-acb2-6e29d0d586b4",
   "metadata": {},
   "outputs": [],
   "source": []
  }
 ],
 "metadata": {
  "kernelspec": {
   "display_name": "R",
   "language": "R",
   "name": "ir"
  },
  "language_info": {
   "codemirror_mode": "r",
   "file_extension": ".r",
   "mimetype": "text/x-r-source",
   "name": "R",
   "pygments_lexer": "r",
   "version": "4.2.2"
  }
 },
 "nbformat": 4,
 "nbformat_minor": 5
}
