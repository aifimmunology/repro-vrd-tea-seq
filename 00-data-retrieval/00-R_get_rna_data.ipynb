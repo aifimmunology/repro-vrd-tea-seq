{
 "cells": [
  {
   "cell_type": "code",
   "execution_count": 1,
   "id": "74053ca6-2556-4a1e-a18a-7ae6a72b16a1",
   "metadata": {},
   "outputs": [],
   "source": [
    "library(hise)"
   ]
  },
  {
   "cell_type": "code",
   "execution_count": 2,
   "id": "5d63c64c-0590-4a9f-8ca1-f627139fee9b",
   "metadata": {},
   "outputs": [
    {
     "name": "stderr",
     "output_type": "stream",
     "text": [
      "Querying and downloading data onto IDE...\n",
      "\n"
     ]
    },
    {
     "name": "stdout",
     "output_type": "stream",
     "text": [
      "[1] \"Initiating file download for EXP-00454-P1_PC02184-044_2023-05-25T00:12:45.113045212Z_labeled.h5\"\n",
      "[1] \"Download successful.\"\n",
      "[1] \"Initiating file download for EXP-00454-P1_PC02184-048_2023-05-25T00:12:45.113045212Z_labeled.h5\"\n",
      "[1] \"Download successful.\"\n",
      "[1] \"Initiating file download for EXP-00454-P1_PC02184-045_2023-05-25T00:12:45.113045212Z_labeled.h5\"\n",
      "[1] \"Download successful.\"\n",
      "[1] \"Initiating file download for EXP-00454-P1_PC02184-049_2023-05-25T00:12:45.113045212Z_labeled.h5\"\n",
      "[1] \"Download successful.\"\n",
      "[1] \"Initiating file download for EXP-00454-P1_PC02184-038_2023-05-25T00:12:45.113045212Z_labeled.h5\"\n",
      "[1] \"Download successful.\"\n",
      "[1] \"Initiating file download for EXP-00454-P1_PC02184-043_2023-05-25T00:12:45.113045212Z_labeled.h5\"\n",
      "[1] \"Download successful.\"\n",
      "[1] \"Initiating file download for EXP-00454-P1_PC02184-047_2023-05-25T00:12:45.113045212Z_labeled.h5\"\n",
      "[1] \"Download successful.\"\n",
      "[1] \"Initiating file download for EXP-00454-P1_PC02184-042_2023-05-25T00:12:45.113045212Z_labeled.h5\"\n",
      "[1] \"Download successful.\"\n",
      "[1] \"Initiating file download for EXP-00454-P1_PC02184-040_2023-05-25T00:12:45.113045212Z_labeled.h5\"\n",
      "[1] \"Download successful.\"\n",
      "[1] \"Initiating file download for EXP-00454-P1_PC02184-046_2023-05-25T00:12:45.113045212Z_labeled.h5\"\n",
      "[1] \"Download successful.\"\n",
      "[1] \"Initiating file download for EXP-00454-P1_PC02184-039_2023-05-25T00:12:45.113045212Z_labeled.h5\"\n",
      "[1] \"Download successful.\"\n",
      "[1] \"Initiating file download for EXP-00454-P1_PC02184-041_2023-05-25T00:12:45.113045212Z_labeled.h5\"\n",
      "[1] \"Download successful.\"\n"
     ]
    }
   ],
   "source": [
    "fres <- hise::readFiles(\n",
    "    list(\"0a4dcc97-bc5a-4aa6-a3d3-16cf612502ce\", \n",
    "         \"0af11a1e-c721-40e1-9455-032416ab1aa1\", \n",
    "         \"1981a346-0a61-4360-a11c-2e846af8aa52\", \n",
    "         \"1be65739-445a-41fe-89a4-52fbbba2000d\", \n",
    "         \"5ed5b8a3-1a79-40fb-b47f-c38dda0f012c\", \n",
    "         \"636e9db3-1870-4691-832c-814588039474\", \n",
    "         \"63a493fb-f7cb-4544-bd3a-c55fc9c26426\", \n",
    "         \"7d9548ce-8468-45d6-9489-fa638e421934\", \n",
    "         \"d3a284cf-b101-44d4-9f88-d3683b371fa6\", \n",
    "         \"d5ddec3e-c699-4f04-89fa-34c9d3cfeec1\", \n",
    "         \"de3962ef-1b9f-4e16-a660-6d839d52e432\", \n",
    "         \"f9a1b436-a5cf-4950-99ba-add2c5ac0707\")\n",
    ")"
   ]
  },
  {
   "cell_type": "code",
   "execution_count": 3,
   "id": "c42c119c-09d3-467a-845d-50c93a897466",
   "metadata": {},
   "outputs": [
    {
     "data": {
      "text/plain": [
       "R version 4.2.2 Patched (2022-11-10 r83330)\n",
       "Platform: x86_64-pc-linux-gnu (64-bit)\n",
       "Running under: Ubuntu 20.04.5 LTS\n",
       "\n",
       "Matrix products: default\n",
       "BLAS:   /usr/lib/x86_64-linux-gnu/openblas-pthread/libblas.so.3\n",
       "LAPACK: /usr/lib/x86_64-linux-gnu/openblas-pthread/liblapack.so.3\n",
       "\n",
       "locale:\n",
       " [1] LC_CTYPE=C.UTF-8       LC_NUMERIC=C           LC_TIME=C.UTF-8       \n",
       " [4] LC_COLLATE=C.UTF-8     LC_MONETARY=C.UTF-8    LC_MESSAGES=C.UTF-8   \n",
       " [7] LC_PAPER=C.UTF-8       LC_NAME=C              LC_ADDRESS=C          \n",
       "[10] LC_TELEPHONE=C         LC_MEASUREMENT=C.UTF-8 LC_IDENTIFICATION=C   \n",
       "\n",
       "attached base packages:\n",
       "[1] stats     graphics  grDevices utils     datasets  methods   base     \n",
       "\n",
       "other attached packages:\n",
       "[1] hise_2.16.0\n",
       "\n",
       "loaded via a namespace (and not attached):\n",
       " [1] pillar_1.9.0        compiler_4.2.2      bitops_1.0-7       \n",
       " [4] base64enc_0.1-3     rhdf5filters_1.10.0 tools_4.2.2        \n",
       " [7] digest_0.6.32       uuid_1.1-0          lattice_0.20-45    \n",
       "[10] jsonlite_1.8.7      evaluate_0.21       lifecycle_1.0.3    \n",
       "[13] tibble_3.2.1        rhdf5_2.42.0        pkgconfig_2.0.3    \n",
       "[16] rlang_1.1.1         Matrix_1.5-3        IRdisplay_1.1      \n",
       "[19] cli_3.6.1           curl_5.0.1          IRkernel_1.3.2     \n",
       "[22] fastmap_1.1.1       repr_1.1.6.9000     httr_1.4.6         \n",
       "[25] dplyr_1.1.0         generics_0.1.3      vctrs_0.6.3        \n",
       "[28] grid_4.2.2          tidyselect_1.2.0    glue_1.6.2         \n",
       "[31] R6_2.5.1            fansi_1.0.4         pbdZMQ_0.3-9       \n",
       "[34] H5weaver_1.2.0      Rhdf5lib_1.20.0     magrittr_2.0.3     \n",
       "[37] htmltools_0.5.5     assertthat_0.2.1    utf8_1.2.3         \n",
       "[40] RCurl_1.98-1.10     crayon_1.5.2       "
      ]
     },
     "metadata": {},
     "output_type": "display_data"
    }
   ],
   "source": [
    "sessionInfo()"
   ]
  },
  {
   "cell_type": "code",
   "execution_count": null,
   "id": "9c1f7e99-5960-4d18-bcdf-387c5253ccd9",
   "metadata": {},
   "outputs": [],
   "source": []
  }
 ],
 "metadata": {
  "kernelspec": {
   "display_name": "R",
   "language": "R",
   "name": "ir"
  },
  "language_info": {
   "codemirror_mode": "r",
   "file_extension": ".r",
   "mimetype": "text/x-r-source",
   "name": "R",
   "pygments_lexer": "r",
   "version": "4.2.2"
  }
 },
 "nbformat": 4,
 "nbformat_minor": 5
}
