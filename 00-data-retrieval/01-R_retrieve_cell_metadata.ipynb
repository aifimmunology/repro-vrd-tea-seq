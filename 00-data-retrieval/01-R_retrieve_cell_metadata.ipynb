{
 "cells": [
  {
   "cell_type": "code",
   "execution_count": 1,
   "id": "5f447ba3-a0c9-43d7-9683-6ffd798cf4b0",
   "metadata": {},
   "outputs": [
    {
     "name": "stderr",
     "output_type": "stream",
     "text": [
      "Loading required package: data.table\n",
      "\n",
      "Loading required package: Matrix\n",
      "\n",
      "Loading required package: rhdf5\n",
      "\n",
      "\n",
      "Attaching package: ‘H5weaver’\n",
      "\n",
      "\n",
      "The following objects are masked from ‘package:rhdf5’:\n",
      "\n",
      "    h5dump, h5ls\n",
      "\n",
      "\n",
      "\n",
      "Attaching package: ‘purrr’\n",
      "\n",
      "\n",
      "The following object is masked from ‘package:data.table’:\n",
      "\n",
      "    transpose\n",
      "\n",
      "\n"
     ]
    }
   ],
   "source": [
    "library(H5weaver)\n",
    "library(purrr)"
   ]
  },
  {
   "cell_type": "code",
   "execution_count": 5,
   "id": "b7261d35-dbd5-4fe2-9ac2-200116a40668",
   "metadata": {},
   "outputs": [],
   "source": [
    "dir.create(\"output\")"
   ]
  },
  {
   "cell_type": "code",
   "execution_count": 2,
   "id": "b4cfad3a-9535-43e3-8fdc-5f96769c71ee",
   "metadata": {},
   "outputs": [],
   "source": [
    "h5_files <- list.files(\n",
    "    \"cache/\",\n",
    "    pattern = \".h5$\",\n",
    "    recursive = TRUE,\n",
    "    full.names = TRUE)"
   ]
  },
  {
   "cell_type": "code",
   "execution_count": 3,
   "id": "592244ca-cd56-4eb6-b0d5-3c22366a9392",
   "metadata": {},
   "outputs": [],
   "source": [
    "all_metadata <- map_dfr(\n",
    "    h5_files,\n",
    "    read_h5_cell_meta\n",
    ")"
   ]
  },
  {
   "cell_type": "code",
   "execution_count": 4,
   "id": "d51c10c1-f2c5-4f56-afaa-a8f44ae270ab",
   "metadata": {},
   "outputs": [
    {
     "data": {
      "text/html": [
       "<table class=\"dataframe\">\n",
       "<caption>A data.frame: 6 × 21</caption>\n",
       "<thead>\n",
       "\t<tr><th></th><th scope=col>barcodes</th><th scope=col>adt_qc_flag</th><th scope=col>adt_umis</th><th scope=col>batch_id</th><th scope=col>cell_name</th><th scope=col>chip_id</th><th scope=col>hto_barcode</th><th scope=col>hto_category</th><th scope=col>n_genes</th><th scope=col>n_mito_umis</th><th scope=col>⋯</th><th scope=col>n_umis</th><th scope=col>original_barcodes</th><th scope=col>pbmc_sample_id</th><th scope=col>pool_id</th><th scope=col>rna_cell_uuid</th><th scope=col>seurat_pbmc_type</th><th scope=col>seurat_pbmc_type_score</th><th scope=col>umap_1</th><th scope=col>umap_2</th><th scope=col>well_id</th></tr>\n",
       "\t<tr><th></th><th scope=col>&lt;chr&gt;</th><th scope=col>&lt;chr&gt;</th><th scope=col>&lt;int&gt;</th><th scope=col>&lt;chr&gt;</th><th scope=col>&lt;chr&gt;</th><th scope=col>&lt;chr&gt;</th><th scope=col>&lt;chr&gt;</th><th scope=col>&lt;chr&gt;</th><th scope=col>&lt;int&gt;</th><th scope=col>&lt;int&gt;</th><th scope=col>⋯</th><th scope=col>&lt;int&gt;</th><th scope=col>&lt;chr&gt;</th><th scope=col>&lt;chr&gt;</th><th scope=col>&lt;chr&gt;</th><th scope=col>&lt;chr&gt;</th><th scope=col>&lt;chr&gt;</th><th scope=col>&lt;dbl&gt;</th><th scope=col>&lt;dbl&gt;</th><th scope=col>&lt;dbl&gt;</th><th scope=col>&lt;chr&gt;</th></tr>\n",
       "</thead>\n",
       "<tbody>\n",
       "\t<tr><th scope=row>1</th><td>2da9d348fb8111eda35df29f570c0793</td><td>Good</td><td>1746</td><td>EXP-00454</td><td>jovial_jockeyish_urus       </td><td>EXP-00454-P1C1</td><td>TGTCTTTCCTGCCAG</td><td>singlet</td><td>2157</td><td>363</td><td>⋯</td><td>4974</td><td>AAACAGCCATAGTCAT</td><td>PC02184-044</td><td>EXP-00454-P1</td><td>2582f1a6fb8911edb940c6bd9515220e</td><td>CD4 Memory</td><td>0.6268495</td><td>-1.6470808</td><td>-8.418920</td><td>EXP-00454-P1C1W1</td></tr>\n",
       "\t<tr><th scope=row>2</th><td>2daec6d2fb8111eda35df29f570c0793</td><td>Good</td><td>1506</td><td>EXP-00454</td><td>possessive_sirenic_esok     </td><td>EXP-00454-P1C1</td><td>TGTCTTTCCTGCCAG</td><td>singlet</td><td>2134</td><td>161</td><td>⋯</td><td>4511</td><td>AAACCAACAGCTCATA</td><td>PC02184-044</td><td>EXP-00454-P1</td><td>2582f462fb8911edb940c6bd9515220e</td><td>CD4 Memory</td><td>0.6597796</td><td>-0.8160710</td><td>-8.692452</td><td>EXP-00454-P1C1W1</td></tr>\n",
       "\t<tr><th scope=row>3</th><td>2db119d2fb8111eda35df29f570c0793</td><td>Good</td><td>1661</td><td>EXP-00454</td><td>petaline_lawabiding_snowyowl</td><td>EXP-00454-P1C1</td><td>TGTCTTTCCTGCCAG</td><td>singlet</td><td>2091</td><td>302</td><td>⋯</td><td>4289</td><td>AAACCGAAGGAAGCAC</td><td>PC02184-044</td><td>EXP-00454-P1</td><td>2582f624fb8911edb940c6bd9515220e</td><td>CD4 Memory</td><td>0.8507561</td><td>-4.9873077</td><td> 2.534072</td><td>EXP-00454-P1C1W1</td></tr>\n",
       "\t<tr><th scope=row>4</th><td>2db4ad86fb8111eda35df29f570c0793</td><td>Good</td><td>1866</td><td>EXP-00454</td><td>vixenish_ardent_seahorse    </td><td>EXP-00454-P1C1</td><td>TGTCTTTCCTGCCAG</td><td>singlet</td><td>2033</td><td>308</td><td>⋯</td><td>3931</td><td>AAACCGCGTTAAGCGC</td><td>PC02184-044</td><td>EXP-00454-P1</td><td>2582f7aafb8911edb940c6bd9515220e</td><td>CD4 Memory</td><td>0.6342125</td><td>-4.7517462</td><td> 5.226646</td><td>EXP-00454-P1C1W1</td></tr>\n",
       "\t<tr><th scope=row>5</th><td>2db582c4fb8111eda35df29f570c0793</td><td>Good</td><td>1400</td><td>EXP-00454</td><td>stimulated_maroon_jerboa    </td><td>EXP-00454-P1C1</td><td>TGTCTTTCCTGCCAG</td><td>singlet</td><td>1560</td><td>179</td><td>⋯</td><td>2904</td><td>AAACCGCGTTGGCCGA</td><td>PC02184-044</td><td>EXP-00454-P1</td><td>2582f840fb8911edb940c6bd9515220e</td><td>CD4 Memory</td><td>0.6119409</td><td> 0.8885885</td><td>-6.354211</td><td>EXP-00454-P1C1W1</td></tr>\n",
       "\t<tr><th scope=row>6</th><td>2db5b3acfb8111eda35df29f570c0793</td><td>Good</td><td>2220</td><td>EXP-00454</td><td>antigorite_erect_earthworm  </td><td>EXP-00454-P1C1</td><td>TGTCTTTCCTGCCAG</td><td>singlet</td><td>2053</td><td>213</td><td>⋯</td><td>4329</td><td>AAACCGGCAACTAGCC</td><td>PC02184-044</td><td>EXP-00454-P1</td><td>2582f94efb8911edb940c6bd9515220e</td><td>CD4 Memory</td><td>0.4161609</td><td> 3.5414620</td><td>-8.356009</td><td>EXP-00454-P1C1W1</td></tr>\n",
       "</tbody>\n",
       "</table>\n"
      ],
      "text/latex": [
       "A data.frame: 6 × 21\n",
       "\\begin{tabular}{r|lllllllllllllllllllll}\n",
       "  & barcodes & adt\\_qc\\_flag & adt\\_umis & batch\\_id & cell\\_name & chip\\_id & hto\\_barcode & hto\\_category & n\\_genes & n\\_mito\\_umis & ⋯ & n\\_umis & original\\_barcodes & pbmc\\_sample\\_id & pool\\_id & rna\\_cell\\_uuid & seurat\\_pbmc\\_type & seurat\\_pbmc\\_type\\_score & umap\\_1 & umap\\_2 & well\\_id\\\\\n",
       "  & <chr> & <chr> & <int> & <chr> & <chr> & <chr> & <chr> & <chr> & <int> & <int> & ⋯ & <int> & <chr> & <chr> & <chr> & <chr> & <chr> & <dbl> & <dbl> & <dbl> & <chr>\\\\\n",
       "\\hline\n",
       "\t1 & 2da9d348fb8111eda35df29f570c0793 & Good & 1746 & EXP-00454 & jovial\\_jockeyish\\_urus        & EXP-00454-P1C1 & TGTCTTTCCTGCCAG & singlet & 2157 & 363 & ⋯ & 4974 & AAACAGCCATAGTCAT & PC02184-044 & EXP-00454-P1 & 2582f1a6fb8911edb940c6bd9515220e & CD4 Memory & 0.6268495 & -1.6470808 & -8.418920 & EXP-00454-P1C1W1\\\\\n",
       "\t2 & 2daec6d2fb8111eda35df29f570c0793 & Good & 1506 & EXP-00454 & possessive\\_sirenic\\_esok      & EXP-00454-P1C1 & TGTCTTTCCTGCCAG & singlet & 2134 & 161 & ⋯ & 4511 & AAACCAACAGCTCATA & PC02184-044 & EXP-00454-P1 & 2582f462fb8911edb940c6bd9515220e & CD4 Memory & 0.6597796 & -0.8160710 & -8.692452 & EXP-00454-P1C1W1\\\\\n",
       "\t3 & 2db119d2fb8111eda35df29f570c0793 & Good & 1661 & EXP-00454 & petaline\\_lawabiding\\_snowyowl & EXP-00454-P1C1 & TGTCTTTCCTGCCAG & singlet & 2091 & 302 & ⋯ & 4289 & AAACCGAAGGAAGCAC & PC02184-044 & EXP-00454-P1 & 2582f624fb8911edb940c6bd9515220e & CD4 Memory & 0.8507561 & -4.9873077 &  2.534072 & EXP-00454-P1C1W1\\\\\n",
       "\t4 & 2db4ad86fb8111eda35df29f570c0793 & Good & 1866 & EXP-00454 & vixenish\\_ardent\\_seahorse     & EXP-00454-P1C1 & TGTCTTTCCTGCCAG & singlet & 2033 & 308 & ⋯ & 3931 & AAACCGCGTTAAGCGC & PC02184-044 & EXP-00454-P1 & 2582f7aafb8911edb940c6bd9515220e & CD4 Memory & 0.6342125 & -4.7517462 &  5.226646 & EXP-00454-P1C1W1\\\\\n",
       "\t5 & 2db582c4fb8111eda35df29f570c0793 & Good & 1400 & EXP-00454 & stimulated\\_maroon\\_jerboa     & EXP-00454-P1C1 & TGTCTTTCCTGCCAG & singlet & 1560 & 179 & ⋯ & 2904 & AAACCGCGTTGGCCGA & PC02184-044 & EXP-00454-P1 & 2582f840fb8911edb940c6bd9515220e & CD4 Memory & 0.6119409 &  0.8885885 & -6.354211 & EXP-00454-P1C1W1\\\\\n",
       "\t6 & 2db5b3acfb8111eda35df29f570c0793 & Good & 2220 & EXP-00454 & antigorite\\_erect\\_earthworm   & EXP-00454-P1C1 & TGTCTTTCCTGCCAG & singlet & 2053 & 213 & ⋯ & 4329 & AAACCGGCAACTAGCC & PC02184-044 & EXP-00454-P1 & 2582f94efb8911edb940c6bd9515220e & CD4 Memory & 0.4161609 &  3.5414620 & -8.356009 & EXP-00454-P1C1W1\\\\\n",
       "\\end{tabular}\n"
      ],
      "text/markdown": [
       "\n",
       "A data.frame: 6 × 21\n",
       "\n",
       "| <!--/--> | barcodes &lt;chr&gt; | adt_qc_flag &lt;chr&gt; | adt_umis &lt;int&gt; | batch_id &lt;chr&gt; | cell_name &lt;chr&gt; | chip_id &lt;chr&gt; | hto_barcode &lt;chr&gt; | hto_category &lt;chr&gt; | n_genes &lt;int&gt; | n_mito_umis &lt;int&gt; | ⋯ ⋯ | n_umis &lt;int&gt; | original_barcodes &lt;chr&gt; | pbmc_sample_id &lt;chr&gt; | pool_id &lt;chr&gt; | rna_cell_uuid &lt;chr&gt; | seurat_pbmc_type &lt;chr&gt; | seurat_pbmc_type_score &lt;dbl&gt; | umap_1 &lt;dbl&gt; | umap_2 &lt;dbl&gt; | well_id &lt;chr&gt; |\n",
       "|---|---|---|---|---|---|---|---|---|---|---|---|---|---|---|---|---|---|---|---|---|---|\n",
       "| 1 | 2da9d348fb8111eda35df29f570c0793 | Good | 1746 | EXP-00454 | jovial_jockeyish_urus        | EXP-00454-P1C1 | TGTCTTTCCTGCCAG | singlet | 2157 | 363 | ⋯ | 4974 | AAACAGCCATAGTCAT | PC02184-044 | EXP-00454-P1 | 2582f1a6fb8911edb940c6bd9515220e | CD4 Memory | 0.6268495 | -1.6470808 | -8.418920 | EXP-00454-P1C1W1 |\n",
       "| 2 | 2daec6d2fb8111eda35df29f570c0793 | Good | 1506 | EXP-00454 | possessive_sirenic_esok      | EXP-00454-P1C1 | TGTCTTTCCTGCCAG | singlet | 2134 | 161 | ⋯ | 4511 | AAACCAACAGCTCATA | PC02184-044 | EXP-00454-P1 | 2582f462fb8911edb940c6bd9515220e | CD4 Memory | 0.6597796 | -0.8160710 | -8.692452 | EXP-00454-P1C1W1 |\n",
       "| 3 | 2db119d2fb8111eda35df29f570c0793 | Good | 1661 | EXP-00454 | petaline_lawabiding_snowyowl | EXP-00454-P1C1 | TGTCTTTCCTGCCAG | singlet | 2091 | 302 | ⋯ | 4289 | AAACCGAAGGAAGCAC | PC02184-044 | EXP-00454-P1 | 2582f624fb8911edb940c6bd9515220e | CD4 Memory | 0.8507561 | -4.9873077 |  2.534072 | EXP-00454-P1C1W1 |\n",
       "| 4 | 2db4ad86fb8111eda35df29f570c0793 | Good | 1866 | EXP-00454 | vixenish_ardent_seahorse     | EXP-00454-P1C1 | TGTCTTTCCTGCCAG | singlet | 2033 | 308 | ⋯ | 3931 | AAACCGCGTTAAGCGC | PC02184-044 | EXP-00454-P1 | 2582f7aafb8911edb940c6bd9515220e | CD4 Memory | 0.6342125 | -4.7517462 |  5.226646 | EXP-00454-P1C1W1 |\n",
       "| 5 | 2db582c4fb8111eda35df29f570c0793 | Good | 1400 | EXP-00454 | stimulated_maroon_jerboa     | EXP-00454-P1C1 | TGTCTTTCCTGCCAG | singlet | 1560 | 179 | ⋯ | 2904 | AAACCGCGTTGGCCGA | PC02184-044 | EXP-00454-P1 | 2582f840fb8911edb940c6bd9515220e | CD4 Memory | 0.6119409 |  0.8885885 | -6.354211 | EXP-00454-P1C1W1 |\n",
       "| 6 | 2db5b3acfb8111eda35df29f570c0793 | Good | 2220 | EXP-00454 | antigorite_erect_earthworm   | EXP-00454-P1C1 | TGTCTTTCCTGCCAG | singlet | 2053 | 213 | ⋯ | 4329 | AAACCGGCAACTAGCC | PC02184-044 | EXP-00454-P1 | 2582f94efb8911edb940c6bd9515220e | CD4 Memory | 0.4161609 |  3.5414620 | -8.356009 | EXP-00454-P1C1W1 |\n",
       "\n"
      ],
      "text/plain": [
       "  barcodes                         adt_qc_flag adt_umis batch_id \n",
       "1 2da9d348fb8111eda35df29f570c0793 Good        1746     EXP-00454\n",
       "2 2daec6d2fb8111eda35df29f570c0793 Good        1506     EXP-00454\n",
       "3 2db119d2fb8111eda35df29f570c0793 Good        1661     EXP-00454\n",
       "4 2db4ad86fb8111eda35df29f570c0793 Good        1866     EXP-00454\n",
       "5 2db582c4fb8111eda35df29f570c0793 Good        1400     EXP-00454\n",
       "6 2db5b3acfb8111eda35df29f570c0793 Good        2220     EXP-00454\n",
       "  cell_name                    chip_id        hto_barcode     hto_category\n",
       "1 jovial_jockeyish_urus        EXP-00454-P1C1 TGTCTTTCCTGCCAG singlet     \n",
       "2 possessive_sirenic_esok      EXP-00454-P1C1 TGTCTTTCCTGCCAG singlet     \n",
       "3 petaline_lawabiding_snowyowl EXP-00454-P1C1 TGTCTTTCCTGCCAG singlet     \n",
       "4 vixenish_ardent_seahorse     EXP-00454-P1C1 TGTCTTTCCTGCCAG singlet     \n",
       "5 stimulated_maroon_jerboa     EXP-00454-P1C1 TGTCTTTCCTGCCAG singlet     \n",
       "6 antigorite_erect_earthworm   EXP-00454-P1C1 TGTCTTTCCTGCCAG singlet     \n",
       "  n_genes n_mito_umis ⋯ n_umis original_barcodes pbmc_sample_id pool_id     \n",
       "1 2157    363         ⋯ 4974   AAACAGCCATAGTCAT  PC02184-044    EXP-00454-P1\n",
       "2 2134    161         ⋯ 4511   AAACCAACAGCTCATA  PC02184-044    EXP-00454-P1\n",
       "3 2091    302         ⋯ 4289   AAACCGAAGGAAGCAC  PC02184-044    EXP-00454-P1\n",
       "4 2033    308         ⋯ 3931   AAACCGCGTTAAGCGC  PC02184-044    EXP-00454-P1\n",
       "5 1560    179         ⋯ 2904   AAACCGCGTTGGCCGA  PC02184-044    EXP-00454-P1\n",
       "6 2053    213         ⋯ 4329   AAACCGGCAACTAGCC  PC02184-044    EXP-00454-P1\n",
       "  rna_cell_uuid                    seurat_pbmc_type seurat_pbmc_type_score\n",
       "1 2582f1a6fb8911edb940c6bd9515220e CD4 Memory       0.6268495             \n",
       "2 2582f462fb8911edb940c6bd9515220e CD4 Memory       0.6597796             \n",
       "3 2582f624fb8911edb940c6bd9515220e CD4 Memory       0.8507561             \n",
       "4 2582f7aafb8911edb940c6bd9515220e CD4 Memory       0.6342125             \n",
       "5 2582f840fb8911edb940c6bd9515220e CD4 Memory       0.6119409             \n",
       "6 2582f94efb8911edb940c6bd9515220e CD4 Memory       0.4161609             \n",
       "  umap_1     umap_2    well_id         \n",
       "1 -1.6470808 -8.418920 EXP-00454-P1C1W1\n",
       "2 -0.8160710 -8.692452 EXP-00454-P1C1W1\n",
       "3 -4.9873077  2.534072 EXP-00454-P1C1W1\n",
       "4 -4.7517462  5.226646 EXP-00454-P1C1W1\n",
       "5  0.8885885 -6.354211 EXP-00454-P1C1W1\n",
       "6  3.5414620 -8.356009 EXP-00454-P1C1W1"
      ]
     },
     "metadata": {},
     "output_type": "display_data"
    }
   ],
   "source": [
    "head(all_metadata)"
   ]
  },
  {
   "cell_type": "code",
   "execution_count": 6,
   "id": "e0747036-da06-423d-ad92-8757f592400e",
   "metadata": {},
   "outputs": [],
   "source": [
    "write.csv(\n",
    "    all_metadata,\n",
    "    \"output/all_rna_adt_cell_metadata.csv\",\n",
    "    row.names = FALSE,\n",
    "    quote = FALSE\n",
    ")"
   ]
  },
  {
   "cell_type": "code",
   "execution_count": 7,
   "id": "c5c88ad2-d2ff-4aac-8fef-4a762bfca42b",
   "metadata": {},
   "outputs": [
    {
     "data": {
      "text/plain": [
       "R version 4.2.2 Patched (2022-11-10 r83330)\n",
       "Platform: x86_64-pc-linux-gnu (64-bit)\n",
       "Running under: Ubuntu 20.04.5 LTS\n",
       "\n",
       "Matrix products: default\n",
       "BLAS:   /usr/lib/x86_64-linux-gnu/openblas-pthread/libblas.so.3\n",
       "LAPACK: /usr/lib/x86_64-linux-gnu/openblas-pthread/liblapack.so.3\n",
       "\n",
       "locale:\n",
       " [1] LC_CTYPE=C.UTF-8       LC_NUMERIC=C           LC_TIME=C.UTF-8       \n",
       " [4] LC_COLLATE=C.UTF-8     LC_MONETARY=C.UTF-8    LC_MESSAGES=C.UTF-8   \n",
       " [7] LC_PAPER=C.UTF-8       LC_NAME=C              LC_ADDRESS=C          \n",
       "[10] LC_TELEPHONE=C         LC_MEASUREMENT=C.UTF-8 LC_IDENTIFICATION=C   \n",
       "\n",
       "attached base packages:\n",
       "[1] stats     graphics  grDevices utils     datasets  methods   base     \n",
       "\n",
       "other attached packages:\n",
       "[1] purrr_1.0.1       H5weaver_1.2.0    rhdf5_2.42.0      Matrix_1.5-3     \n",
       "[5] data.table_1.14.8\n",
       "\n",
       "loaded via a namespace (and not attached):\n",
       " [1] pillar_1.9.0        compiler_4.2.2      rhdf5filters_1.10.0\n",
       " [4] base64enc_0.1-3     tools_4.2.2         digest_0.6.32      \n",
       " [7] uuid_1.1-0          jsonlite_1.8.7      evaluate_0.21      \n",
       "[10] lifecycle_1.0.3     tibble_3.2.1        lattice_0.20-45    \n",
       "[13] pkgconfig_2.0.3     rlang_1.1.1         IRdisplay_1.1      \n",
       "[16] cli_3.6.1           IRkernel_1.3.2      fastmap_1.1.1      \n",
       "[19] repr_1.1.6.9000     dplyr_1.1.0         generics_0.1.3     \n",
       "[22] vctrs_0.6.3         grid_4.2.2          tidyselect_1.2.0   \n",
       "[25] glue_1.6.2          R6_2.5.1            fansi_1.0.4        \n",
       "[28] pbdZMQ_0.3-9        Rhdf5lib_1.20.0     magrittr_2.0.3     \n",
       "[31] htmltools_0.5.5     assertthat_0.2.1    utf8_1.2.3         \n",
       "[34] crayon_1.5.2       "
      ]
     },
     "metadata": {},
     "output_type": "display_data"
    }
   ],
   "source": [
    "sessionInfo()"
   ]
  },
  {
   "cell_type": "code",
   "execution_count": null,
   "id": "78cfcae4-6028-4185-a8ce-1a3d6e9a65b0",
   "metadata": {},
   "outputs": [],
   "source": []
  }
 ],
 "metadata": {
  "kernelspec": {
   "display_name": "R",
   "language": "R",
   "name": "ir"
  },
  "language_info": {
   "codemirror_mode": "r",
   "file_extension": ".r",
   "mimetype": "text/x-r-source",
   "name": "R",
   "pygments_lexer": "r",
   "version": "4.2.2"
  }
 },
 "nbformat": 4,
 "nbformat_minor": 5
}
