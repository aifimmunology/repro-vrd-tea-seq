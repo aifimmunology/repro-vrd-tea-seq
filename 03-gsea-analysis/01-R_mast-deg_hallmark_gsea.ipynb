{
 "cells": [
  {
   "cell_type": "markdown",
   "id": "c18ef260-5810-4485-98db-dd52c985adbb",
   "metadata": {},
   "source": [
    "# GSEA of MAST DEGs against Hallmark Pathways\n",
    "\n",
    "To perform gene set enrichment analysis (GSEA), we'll rank the DEG results from MAST testing based on their nominal P-values. We use nomP rather than adjusted P-values because the ranking of genes is very similar, but we see ties in adjP that complicate these rank-based approaches.\n"
   ]
  },
  {
   "cell_type": "markdown",
   "id": "fcfebafb-85ee-4ffb-8d3a-2fcb0c0e82cd",
   "metadata": {},
   "source": [
    "## Setup\n",
    "\n",
    "For this analysis, we'll compare our DEGs to the MSigDB Hallmark Gene Sets, available in the `msidbr` package. We'll need to install this package if it's not already present."
   ]
  },
  {
   "cell_type": "code",
   "execution_count": 1,
   "id": "f7858f17-ebed-4dc5-88d3-c6889cea5243",
   "metadata": {},
   "outputs": [],
   "source": [
    "ip <- installed.packages()\n",
    "if(!\"msigdbr\" %in% rownames(ip)) {\n",
    "    install.packages(\"msigdbr\", upgrade = \"never\")\n",
    "}"
   ]
  },
  {
   "cell_type": "markdown",
   "id": "5e4c5666-684f-4a83-947e-45e8e7475ca7",
   "metadata": {},
   "source": [
    "## Load packages\n",
    "\n",
    "hise: The Human Immune System Explorer R SDK package  \n",
    "purrr: Functional programming tools  \n",
    "dplyr: Dataframe handling functions  \n",
    "fgsea: Fast Gene Set Enrichment Analysis\n",
    "msigdbr: MSigDB gene sets"
   ]
  },
  {
   "cell_type": "code",
   "execution_count": 2,
   "id": "56c2ea2d-c795-4e94-91cc-7c5a1664f122",
   "metadata": {},
   "outputs": [],
   "source": [
    "quiet_library <- function(...) { suppressPackageStartupMessages(library(...)) }\n",
    "quiet_library(hise)\n",
    "quiet_library(purrr)\n",
    "quiet_library(dplyr)\n",
    "quiet_library(fgsea)\n",
    "quiet_library(msigdbr)"
   ]
  },
  {
   "cell_type": "markdown",
   "id": "31b5f755-cd0a-44df-ad43-f2e2d2e93f00",
   "metadata": {},
   "source": [
    "## Retrieve files\n",
    "\n",
    "Now, we'll use the HISE SDK package to retrieve the MAST DEG results file based on its UUID. This will be placed in the `cache/` subdirectory by default."
   ]
  },
  {
   "cell_type": "code",
   "execution_count": 3,
   "id": "046ca25b-db80-4845-afd9-91101733300a",
   "metadata": {},
   "outputs": [],
   "source": [
    "file_uuid <- list(\n",
    "    \"fc83b89f-fd26-43b8-ac91-29c539703a45\"\n",
    ")"
   ]
  },
  {
   "cell_type": "code",
   "execution_count": 4,
   "id": "bf4a25ec-64c4-44be-95b0-85ec17920817",
   "metadata": {
    "scrolled": true
   },
   "outputs": [
    {
     "name": "stderr",
     "output_type": "stream",
     "text": [
      "submitting request as query ID first...\n",
      "\n",
      "retrieving files using fileIDS...\n",
      "\n"
     ]
    }
   ],
   "source": [
    "fres <- cacheFiles(file_uuid)"
   ]
  },
  {
   "cell_type": "markdown",
   "id": "965fa690-b0b2-41eb-9c6e-c8cf41b8e58a",
   "metadata": {},
   "source": [
    "### Prepare DEG lists\n",
    "\n",
    "To rank genes, we'll convert nomP to -log10(nomP), and incorporate the direction of differential expression by multiplying by the direction of effect size (sign(logFC))."
   ]
  },
  {
   "cell_type": "code",
   "execution_count": 5,
   "id": "26112542-bd77-47f8-8ef9-cc464b06c068",
   "metadata": {},
   "outputs": [],
   "source": [
    "all_deg <- read.csv(\"cache/fc83b89f-fd26-43b8-ac91-29c539703a45/all_mast_deg_2023-09-06.csv\")\n",
    "all_deg$treat_time_type <- paste0(\n",
    "    all_deg$fg, \"_\", \n",
    "    all_deg$timepoint, \"_\", \n",
    "    all_deg$aifi_cell_type)"
   ]
  },
  {
   "cell_type": "markdown",
   "id": "db6ebaee-e9eb-4c32-a168-98323c83357e",
   "metadata": {},
   "source": [
    "Prior to ranking, we'll need to resolve missing `logFC` values. These can occur if one of the groups used for DEG analysis had no expression of the gene."
   ]
  },
  {
   "cell_type": "code",
   "execution_count": 6,
   "id": "639475e9-087e-4c27-a1d8-b4ac62a72b8f",
   "metadata": {
    "scrolled": true
   },
   "outputs": [
    {
     "data": {
      "text/html": [
       "<table class=\"dataframe\">\n",
       "<caption>A data.frame: 6 × 12</caption>\n",
       "<thead>\n",
       "\t<tr><th></th><th scope=col>aifi_cell_type</th><th scope=col>timepoint</th><th scope=col>fg</th><th scope=col>bg</th><th scope=col>n_sample</th><th scope=col>gene</th><th scope=col>coef_C</th><th scope=col>coef_D</th><th scope=col>logFC</th><th scope=col>nomP</th><th scope=col>adjP</th><th scope=col>treat_time_type</th></tr>\n",
       "\t<tr><th></th><th scope=col>&lt;chr&gt;</th><th scope=col>&lt;int&gt;</th><th scope=col>&lt;chr&gt;</th><th scope=col>&lt;chr&gt;</th><th scope=col>&lt;int&gt;</th><th scope=col>&lt;chr&gt;</th><th scope=col>&lt;dbl&gt;</th><th scope=col>&lt;dbl&gt;</th><th scope=col>&lt;dbl&gt;</th><th scope=col>&lt;dbl&gt;</th><th scope=col>&lt;dbl&gt;</th><th scope=col>&lt;chr&gt;</th></tr>\n",
       "</thead>\n",
       "<tbody>\n",
       "\t<tr><th scope=row>1</th><td>t_cd4_em  </td><td>4</td><td>bortezomib</td><td>dmso</td><td>180</td><td>TFDP1     </td><td>NA</td><td> 3.196997</td><td>NA</td><td>3.817725e-05</td><td>0.1481468</td><td>bortezomib_4_t_cd4_em  </td></tr>\n",
       "\t<tr><th scope=row>2</th><td>t_cd4_treg</td><td>4</td><td>bortezomib</td><td>dmso</td><td> 78</td><td>ABCA3     </td><td>NA</td><td>-2.453613</td><td>NA</td><td>1.337154e-02</td><td>0.9999222</td><td>bortezomib_4_t_cd4_treg</td></tr>\n",
       "\t<tr><th scope=row>3</th><td>t_cd4_treg</td><td>4</td><td>bortezomib</td><td>dmso</td><td> 78</td><td>AC005070.3</td><td>NA</td><td>-2.259963</td><td>NA</td><td>3.110707e-02</td><td>0.9999222</td><td>bortezomib_4_t_cd4_treg</td></tr>\n",
       "\t<tr><th scope=row>4</th><td>t_cd4_treg</td><td>4</td><td>bortezomib</td><td>dmso</td><td> 78</td><td>AC006504.5</td><td>NA</td><td>-2.470421</td><td>NA</td><td>1.243915e-02</td><td>0.9999222</td><td>bortezomib_4_t_cd4_treg</td></tr>\n",
       "\t<tr><th scope=row>5</th><td>t_cd4_treg</td><td>4</td><td>bortezomib</td><td>dmso</td><td> 78</td><td>AC007686.3</td><td>NA</td><td>-2.265379</td><td>NA</td><td>3.041017e-02</td><td>0.9999222</td><td>bortezomib_4_t_cd4_treg</td></tr>\n",
       "\t<tr><th scope=row>6</th><td>t_cd4_treg</td><td>4</td><td>bortezomib</td><td>dmso</td><td> 78</td><td>AC010754.1</td><td>NA</td><td>-2.272969</td><td>NA</td><td>2.952072e-02</td><td>0.9999222</td><td>bortezomib_4_t_cd4_treg</td></tr>\n",
       "</tbody>\n",
       "</table>\n"
      ],
      "text/latex": [
       "A data.frame: 6 × 12\n",
       "\\begin{tabular}{r|llllllllllll}\n",
       "  & aifi\\_cell\\_type & timepoint & fg & bg & n\\_sample & gene & coef\\_C & coef\\_D & logFC & nomP & adjP & treat\\_time\\_type\\\\\n",
       "  & <chr> & <int> & <chr> & <chr> & <int> & <chr> & <dbl> & <dbl> & <dbl> & <dbl> & <dbl> & <chr>\\\\\n",
       "\\hline\n",
       "\t1 & t\\_cd4\\_em   & 4 & bortezomib & dmso & 180 & TFDP1      & NA &  3.196997 & NA & 3.817725e-05 & 0.1481468 & bortezomib\\_4\\_t\\_cd4\\_em  \\\\\n",
       "\t2 & t\\_cd4\\_treg & 4 & bortezomib & dmso &  78 & ABCA3      & NA & -2.453613 & NA & 1.337154e-02 & 0.9999222 & bortezomib\\_4\\_t\\_cd4\\_treg\\\\\n",
       "\t3 & t\\_cd4\\_treg & 4 & bortezomib & dmso &  78 & AC005070.3 & NA & -2.259963 & NA & 3.110707e-02 & 0.9999222 & bortezomib\\_4\\_t\\_cd4\\_treg\\\\\n",
       "\t4 & t\\_cd4\\_treg & 4 & bortezomib & dmso &  78 & AC006504.5 & NA & -2.470421 & NA & 1.243915e-02 & 0.9999222 & bortezomib\\_4\\_t\\_cd4\\_treg\\\\\n",
       "\t5 & t\\_cd4\\_treg & 4 & bortezomib & dmso &  78 & AC007686.3 & NA & -2.265379 & NA & 3.041017e-02 & 0.9999222 & bortezomib\\_4\\_t\\_cd4\\_treg\\\\\n",
       "\t6 & t\\_cd4\\_treg & 4 & bortezomib & dmso &  78 & AC010754.1 & NA & -2.272969 & NA & 2.952072e-02 & 0.9999222 & bortezomib\\_4\\_t\\_cd4\\_treg\\\\\n",
       "\\end{tabular}\n"
      ],
      "text/markdown": [
       "\n",
       "A data.frame: 6 × 12\n",
       "\n",
       "| <!--/--> | aifi_cell_type &lt;chr&gt; | timepoint &lt;int&gt; | fg &lt;chr&gt; | bg &lt;chr&gt; | n_sample &lt;int&gt; | gene &lt;chr&gt; | coef_C &lt;dbl&gt; | coef_D &lt;dbl&gt; | logFC &lt;dbl&gt; | nomP &lt;dbl&gt; | adjP &lt;dbl&gt; | treat_time_type &lt;chr&gt; |\n",
       "|---|---|---|---|---|---|---|---|---|---|---|---|---|\n",
       "| 1 | t_cd4_em   | 4 | bortezomib | dmso | 180 | TFDP1      | NA |  3.196997 | NA | 3.817725e-05 | 0.1481468 | bortezomib_4_t_cd4_em   |\n",
       "| 2 | t_cd4_treg | 4 | bortezomib | dmso |  78 | ABCA3      | NA | -2.453613 | NA | 1.337154e-02 | 0.9999222 | bortezomib_4_t_cd4_treg |\n",
       "| 3 | t_cd4_treg | 4 | bortezomib | dmso |  78 | AC005070.3 | NA | -2.259963 | NA | 3.110707e-02 | 0.9999222 | bortezomib_4_t_cd4_treg |\n",
       "| 4 | t_cd4_treg | 4 | bortezomib | dmso |  78 | AC006504.5 | NA | -2.470421 | NA | 1.243915e-02 | 0.9999222 | bortezomib_4_t_cd4_treg |\n",
       "| 5 | t_cd4_treg | 4 | bortezomib | dmso |  78 | AC007686.3 | NA | -2.265379 | NA | 3.041017e-02 | 0.9999222 | bortezomib_4_t_cd4_treg |\n",
       "| 6 | t_cd4_treg | 4 | bortezomib | dmso |  78 | AC010754.1 | NA | -2.272969 | NA | 2.952072e-02 | 0.9999222 | bortezomib_4_t_cd4_treg |\n",
       "\n"
      ],
      "text/plain": [
       "  aifi_cell_type timepoint fg         bg   n_sample gene       coef_C coef_D   \n",
       "1 t_cd4_em       4         bortezomib dmso 180      TFDP1      NA      3.196997\n",
       "2 t_cd4_treg     4         bortezomib dmso  78      ABCA3      NA     -2.453613\n",
       "3 t_cd4_treg     4         bortezomib dmso  78      AC005070.3 NA     -2.259963\n",
       "4 t_cd4_treg     4         bortezomib dmso  78      AC006504.5 NA     -2.470421\n",
       "5 t_cd4_treg     4         bortezomib dmso  78      AC007686.3 NA     -2.265379\n",
       "6 t_cd4_treg     4         bortezomib dmso  78      AC010754.1 NA     -2.272969\n",
       "  logFC nomP         adjP      treat_time_type        \n",
       "1 NA    3.817725e-05 0.1481468 bortezomib_4_t_cd4_em  \n",
       "2 NA    1.337154e-02 0.9999222 bortezomib_4_t_cd4_treg\n",
       "3 NA    3.110707e-02 0.9999222 bortezomib_4_t_cd4_treg\n",
       "4 NA    1.243915e-02 0.9999222 bortezomib_4_t_cd4_treg\n",
       "5 NA    3.041017e-02 0.9999222 bortezomib_4_t_cd4_treg\n",
       "6 NA    2.952072e-02 0.9999222 bortezomib_4_t_cd4_treg"
      ]
     },
     "metadata": {},
     "output_type": "display_data"
    }
   ],
   "source": [
    "all_deg %>%\n",
    "  filter(is.na(logFC)) %>%\n",
    "  head()"
   ]
  },
  {
   "cell_type": "markdown",
   "id": "99f7d567-0895-4ccf-a419-0239e9199599",
   "metadata": {},
   "source": [
    "When this occurs, we can use the sign of `coef_D` to determine the direction of expression change, rather than using the missing `logFC` value."
   ]
  },
  {
   "cell_type": "code",
   "execution_count": 7,
   "id": "8b7ac66c-8ced-4da0-b85e-a1d6628712b2",
   "metadata": {},
   "outputs": [],
   "source": [
    "all_deg <- all_deg %>%\n",
    "  mutate(direction = ifelse(\n",
    "      is.na(logFC),\n",
    "      sign(coef_D), # if missing logFC, use coef_D\n",
    "      sign(logFC) # otherwise, use logFC\n",
    "  ))"
   ]
  },
  {
   "cell_type": "markdown",
   "id": "e163052d-1b1c-4629-a80a-60909fbefdc5",
   "metadata": {},
   "source": [
    "We also need to avoid nomP values of 0. These will cause NA values due to log transformation. We'll convert these to `1e-300` so that they have a non-zero value."
   ]
  },
  {
   "cell_type": "code",
   "execution_count": 8,
   "id": "bc6d6839-19e6-4f77-99b7-8c3765c9d38e",
   "metadata": {},
   "outputs": [],
   "source": [
    "all_deg <- all_deg %>%\n",
    "  mutate(nomP = ifelse(\n",
    "      nomP == 0,\n",
    "      1e-300, # if zero, change to 1e-300\n",
    "      nomP # otherwise, keep the value\n",
    "  ))"
   ]
  },
  {
   "cell_type": "code",
   "execution_count": 9,
   "id": "900d47ca-2944-461b-a23c-4a2352cd4e35",
   "metadata": {},
   "outputs": [],
   "source": [
    "deg_list <- split(all_deg, all_deg$treat_time_type)"
   ]
  },
  {
   "cell_type": "code",
   "execution_count": 10,
   "id": "12ac629f-94fb-429a-97c0-faf1473361fd",
   "metadata": {},
   "outputs": [],
   "source": [
    "deg_list <- map(\n",
    "    deg_list,\n",
    "    function(deg) {\n",
    "        deg %>%\n",
    "          mutate(rank_val = -log10(nomP) * direction) %>%\n",
    "          arrange(desc(rank_val))\n",
    "    }\n",
    ")"
   ]
  },
  {
   "cell_type": "code",
   "execution_count": 11,
   "id": "065ad4ef-b285-40b5-b2f9-e7d539f96aba",
   "metadata": {},
   "outputs": [],
   "source": [
    "rank_list <- map(\n",
    "    deg_list,\n",
    "    function(deg) {\n",
    "        v <- deg$rank_val\n",
    "        names(v) <- deg$gene\n",
    "        v\n",
    "    }\n",
    ")"
   ]
  },
  {
   "cell_type": "markdown",
   "id": "3ea2fa52-a58c-4df5-a25f-7df5b6aa83e4",
   "metadata": {},
   "source": [
    "## Prepare Gene Sets\n",
    "\n",
    "For use with `fastgsea`, we need a named list of the Hallmark gene sets."
   ]
  },
  {
   "cell_type": "code",
   "execution_count": 12,
   "id": "ef9496e6-50eb-4d12-853d-838e7fa4e043",
   "metadata": {},
   "outputs": [],
   "source": [
    "hallmark <- msigdbr(species = \"human\", category = \"H\")"
   ]
  },
  {
   "cell_type": "code",
   "execution_count": 13,
   "id": "26ae1597-a193-4d28-a235-9119e80c28dd",
   "metadata": {},
   "outputs": [],
   "source": [
    "hallmark_list <- split(hallmark, hallmark$gs_name)\n",
    "hallmark_list <- map(hallmark_list, \"gene_symbol\")"
   ]
  },
  {
   "cell_type": "markdown",
   "id": "4f6c28a4-2cff-4662-ba09-df4036057290",
   "metadata": {},
   "source": [
    "We'll also need a data.frame with the gene sets for our output files. We'll also include labels for display that are specified in `common/gene_sets/hallmark_names.csv`."
   ]
  },
  {
   "cell_type": "code",
   "execution_count": 14,
   "id": "2d699dcd-1117-4efd-ae2b-aa9ff8801519",
   "metadata": {},
   "outputs": [],
   "source": [
    "hallmark_names <- read.csv(\"../common/gene_sets/hallmark_names.csv\")"
   ]
  },
  {
   "cell_type": "code",
   "execution_count": 15,
   "id": "cd14ba51-49b2-48f5-94fd-29df6c9670c7",
   "metadata": {},
   "outputs": [
    {
     "name": "stderr",
     "output_type": "stream",
     "text": [
      "\u001b[1m\u001b[22mJoining with `by = join_by(pathway)`\n"
     ]
    }
   ],
   "source": [
    "hallmark_df <- data.frame(\n",
    "    pathway = names(hallmark_list),\n",
    "    n_pathway_genes = map_int(hallmark_list, length),\n",
    "    pathway_genes = map_chr(hallmark_list, paste, collapse = \";\")\n",
    ")\n",
    "hallmark_df <- hallmark_df %>%\n",
    "  left_join(hallmark_names)"
   ]
  },
  {
   "cell_type": "markdown",
   "id": "19c6d339-adfe-4ae3-84ce-9b74acdcdeed",
   "metadata": {},
   "source": [
    "## Run GSEA"
   ]
  },
  {
   "cell_type": "code",
   "execution_count": 16,
   "id": "e787376e-4ce5-4dda-91f3-5c37ae65b02e",
   "metadata": {},
   "outputs": [],
   "source": [
    "parallel_param <- BiocParallel::MulticoreParam(\n",
    "    workers = 4, \n",
    "    progressbar = FALSE\n",
    ")"
   ]
  },
  {
   "cell_type": "code",
   "execution_count": 17,
   "id": "3c536f2f-a293-43b9-a243-bcd1f223837c",
   "metadata": {
    "scrolled": true
   },
   "outputs": [
    {
     "name": "stderr",
     "output_type": "stream",
     "text": [
      "Warning message in preparePathwaysAndStats(pathways, stats, minSize, maxSize, gseaParam, :\n",
      "“There are ties in the preranked stats (0.06% of the list).\n",
      "The order of those tied genes will be arbitrary, which may produce unexpected results.”\n"
     ]
    }
   ],
   "source": [
    "fgsea_res <- map(\n",
    "    rank_list,\n",
    "    function(ranks) {\n",
    "        fgsea(\n",
    "            pathways = hallmark_list,\n",
    "            stats    = ranks,\n",
    "            minSize  = 10,\n",
    "            maxSize  = 500,\n",
    "            BPPARAM  = parallel_param\n",
    "        )\n",
    "    }\n",
    ")"
   ]
  },
  {
   "cell_type": "markdown",
   "id": "2ca8469b-01cf-4a99-843a-5d87ce89a8ee",
   "metadata": {},
   "source": [
    "### Format results"
   ]
  },
  {
   "cell_type": "code",
   "execution_count": 18,
   "id": "0c0f207a-fe07-4de1-92c8-5f50b87785a9",
   "metadata": {},
   "outputs": [],
   "source": [
    "deg_meta <- map(\n",
    "    deg_list,\n",
    "    function(deg) {\n",
    "        list(\n",
    "            fg = deg$fg[1],\n",
    "            bg = deg$bg[1],\n",
    "            timepoint = deg$timepoint[1],\n",
    "            aifi_cell_type = deg$aifi_cell_type[1]\n",
    "        )\n",
    "    }\n",
    ")"
   ]
  },
  {
   "cell_type": "code",
   "execution_count": 19,
   "id": "e8b79376-c443-427d-85f8-d1ae66724b55",
   "metadata": {},
   "outputs": [
    {
     "data": {
      "text/html": [
       "<table class=\"dataframe\">\n",
       "<caption>A data.table: 6 × 8</caption>\n",
       "<thead>\n",
       "\t<tr><th scope=col>pathway</th><th scope=col>pval</th><th scope=col>padj</th><th scope=col>log2err</th><th scope=col>ES</th><th scope=col>NES</th><th scope=col>size</th><th scope=col>leadingEdge</th></tr>\n",
       "\t<tr><th scope=col>&lt;chr&gt;</th><th scope=col>&lt;dbl&gt;</th><th scope=col>&lt;dbl&gt;</th><th scope=col>&lt;dbl&gt;</th><th scope=col>&lt;dbl&gt;</th><th scope=col>&lt;dbl&gt;</th><th scope=col>&lt;int&gt;</th><th scope=col>&lt;list&gt;</th></tr>\n",
       "</thead>\n",
       "<tbody>\n",
       "\t<tr><td>HALLMARK_ADIPOGENESIS       </td><td>0.003414757</td><td>0.02621228</td><td>0.43170770</td><td> 0.6512680</td><td> 1.6786250</td><td>121</td><td>UBC   , UBQLN1, TALDO1, NMT1  , BAZ2A , SOD1  , ACO2  , RTN3  , GBE1  , MAP4K3, GPD2  , RREB1 , SQOR  , YWHAG , PEX14 , RIOK3 </td></tr>\n",
       "\t<tr><td>HALLMARK_ALLOGRAFT_REJECTION</td><td>0.010924625</td><td>0.05705082</td><td>0.38073040</td><td>-0.4344858</td><td>-1.4522969</td><td>102</td><td>CCND2  , PTPRC  , CD2    , LCP2   , ETS1   , ITK    , CD3G   , CD40LG , IL2RA  , HLA-E  , SOCS1  , FYB1   , B2M    , TIMP1  , STAT1  , ST8SIA4, GBP2   , IFNAR2 , IRF4   , STAT4  , TRAT1  , CD47   , CD3E   , ITGAL  , IL2RB  , IL7    , GPR65  , TAP1   , LCK    , NPM1   , IL4R   , TLR1   , CD74   , WAS    , ACVR2A </td></tr>\n",
       "\t<tr><td>HALLMARK_ANDROGEN_RESPONSE  </td><td>0.285234899</td><td>0.44569622</td><td>0.15016980</td><td>-0.3556480</td><td>-1.1122836</td><td> 67</td><td>ARID5B , IQGAP2 , MYL12A , FKBP5  , B2M    , CDK6   , STK39  , ACTN1  , GPD1L  , TNFAIP8, INPP4B , MAF    , RPS6KA3, PTK2B  , LMAN1  </td></tr>\n",
       "\t<tr><td>HALLMARK_APICAL_JUNCTION    </td><td>0.067109789</td><td>0.21027734</td><td>0.28780513</td><td>-0.4092266</td><td>-1.2863429</td><td> 70</td><td>PTPRC , ITGB1 , ACTB  , FYB1  , ACTN1 , EVL   , PTEN  , MYL12B, ICAM2 </td></tr>\n",
       "\t<tr><td>HALLMARK_APICAL_SURFACE     </td><td>0.503355705</td><td>0.66783857</td><td>0.08479851</td><td>-0.3950158</td><td>-0.9638223</td><td> 17</td><td>GATA3  , IL2RB  , FLOT2  , AKAP7  , CROCC  , MAL    , B4GALT1</td></tr>\n",
       "\t<tr><td>HALLMARK_APOPTOSIS          </td><td>0.612299465</td><td>0.70190427</td><td>0.04969014</td><td> 0.3621762</td><td> 0.8961686</td><td> 91</td><td>DAP3  , SQSTM1, GSR   , SOD1  , DNAJA1, HSPB1 , BAX   , LMNA  , MADD  , BID   , ADD1  </td></tr>\n",
       "</tbody>\n",
       "</table>\n"
      ],
      "text/latex": [
       "A data.table: 6 × 8\n",
       "\\begin{tabular}{llllllll}\n",
       " pathway & pval & padj & log2err & ES & NES & size & leadingEdge\\\\\n",
       " <chr> & <dbl> & <dbl> & <dbl> & <dbl> & <dbl> & <int> & <list>\\\\\n",
       "\\hline\n",
       "\t HALLMARK\\_ADIPOGENESIS        & 0.003414757 & 0.02621228 & 0.43170770 &  0.6512680 &  1.6786250 & 121 & UBC   , UBQLN1, TALDO1, NMT1  , BAZ2A , SOD1  , ACO2  , RTN3  , GBE1  , MAP4K3, GPD2  , RREB1 , SQOR  , YWHAG , PEX14 , RIOK3 \\\\\n",
       "\t HALLMARK\\_ALLOGRAFT\\_REJECTION & 0.010924625 & 0.05705082 & 0.38073040 & -0.4344858 & -1.4522969 & 102 & CCND2  , PTPRC  , CD2    , LCP2   , ETS1   , ITK    , CD3G   , CD40LG , IL2RA  , HLA-E  , SOCS1  , FYB1   , B2M    , TIMP1  , STAT1  , ST8SIA4, GBP2   , IFNAR2 , IRF4   , STAT4  , TRAT1  , CD47   , CD3E   , ITGAL  , IL2RB  , IL7    , GPR65  , TAP1   , LCK    , NPM1   , IL4R   , TLR1   , CD74   , WAS    , ACVR2A \\\\\n",
       "\t HALLMARK\\_ANDROGEN\\_RESPONSE   & 0.285234899 & 0.44569622 & 0.15016980 & -0.3556480 & -1.1122836 &  67 & ARID5B , IQGAP2 , MYL12A , FKBP5  , B2M    , CDK6   , STK39  , ACTN1  , GPD1L  , TNFAIP8, INPP4B , MAF    , RPS6KA3, PTK2B  , LMAN1  \\\\\n",
       "\t HALLMARK\\_APICAL\\_JUNCTION     & 0.067109789 & 0.21027734 & 0.28780513 & -0.4092266 & -1.2863429 &  70 & PTPRC , ITGB1 , ACTB  , FYB1  , ACTN1 , EVL   , PTEN  , MYL12B, ICAM2 \\\\\n",
       "\t HALLMARK\\_APICAL\\_SURFACE      & 0.503355705 & 0.66783857 & 0.08479851 & -0.3950158 & -0.9638223 &  17 & GATA3  , IL2RB  , FLOT2  , AKAP7  , CROCC  , MAL    , B4GALT1\\\\\n",
       "\t HALLMARK\\_APOPTOSIS           & 0.612299465 & 0.70190427 & 0.04969014 &  0.3621762 &  0.8961686 &  91 & DAP3  , SQSTM1, GSR   , SOD1  , DNAJA1, HSPB1 , BAX   , LMNA  , MADD  , BID   , ADD1  \\\\\n",
       "\\end{tabular}\n"
      ],
      "text/markdown": [
       "\n",
       "A data.table: 6 × 8\n",
       "\n",
       "| pathway &lt;chr&gt; | pval &lt;dbl&gt; | padj &lt;dbl&gt; | log2err &lt;dbl&gt; | ES &lt;dbl&gt; | NES &lt;dbl&gt; | size &lt;int&gt; | leadingEdge &lt;list&gt; |\n",
       "|---|---|---|---|---|---|---|---|\n",
       "| HALLMARK_ADIPOGENESIS        | 0.003414757 | 0.02621228 | 0.43170770 |  0.6512680 |  1.6786250 | 121 | UBC   , UBQLN1, TALDO1, NMT1  , BAZ2A , SOD1  , ACO2  , RTN3  , GBE1  , MAP4K3, GPD2  , RREB1 , SQOR  , YWHAG , PEX14 , RIOK3  |\n",
       "| HALLMARK_ALLOGRAFT_REJECTION | 0.010924625 | 0.05705082 | 0.38073040 | -0.4344858 | -1.4522969 | 102 | CCND2  , PTPRC  , CD2    , LCP2   , ETS1   , ITK    , CD3G   , CD40LG , IL2RA  , HLA-E  , SOCS1  , FYB1   , B2M    , TIMP1  , STAT1  , ST8SIA4, GBP2   , IFNAR2 , IRF4   , STAT4  , TRAT1  , CD47   , CD3E   , ITGAL  , IL2RB  , IL7    , GPR65  , TAP1   , LCK    , NPM1   , IL4R   , TLR1   , CD74   , WAS    , ACVR2A  |\n",
       "| HALLMARK_ANDROGEN_RESPONSE   | 0.285234899 | 0.44569622 | 0.15016980 | -0.3556480 | -1.1122836 |  67 | ARID5B , IQGAP2 , MYL12A , FKBP5  , B2M    , CDK6   , STK39  , ACTN1  , GPD1L  , TNFAIP8, INPP4B , MAF    , RPS6KA3, PTK2B  , LMAN1   |\n",
       "| HALLMARK_APICAL_JUNCTION     | 0.067109789 | 0.21027734 | 0.28780513 | -0.4092266 | -1.2863429 |  70 | PTPRC , ITGB1 , ACTB  , FYB1  , ACTN1 , EVL   , PTEN  , MYL12B, ICAM2  |\n",
       "| HALLMARK_APICAL_SURFACE      | 0.503355705 | 0.66783857 | 0.08479851 | -0.3950158 | -0.9638223 |  17 | GATA3  , IL2RB  , FLOT2  , AKAP7  , CROCC  , MAL    , B4GALT1 |\n",
       "| HALLMARK_APOPTOSIS           | 0.612299465 | 0.70190427 | 0.04969014 |  0.3621762 |  0.8961686 |  91 | DAP3  , SQSTM1, GSR   , SOD1  , DNAJA1, HSPB1 , BAX   , LMNA  , MADD  , BID   , ADD1   |\n",
       "\n"
      ],
      "text/plain": [
       "  pathway                      pval        padj       log2err    ES        \n",
       "1 HALLMARK_ADIPOGENESIS        0.003414757 0.02621228 0.43170770  0.6512680\n",
       "2 HALLMARK_ALLOGRAFT_REJECTION 0.010924625 0.05705082 0.38073040 -0.4344858\n",
       "3 HALLMARK_ANDROGEN_RESPONSE   0.285234899 0.44569622 0.15016980 -0.3556480\n",
       "4 HALLMARK_APICAL_JUNCTION     0.067109789 0.21027734 0.28780513 -0.4092266\n",
       "5 HALLMARK_APICAL_SURFACE      0.503355705 0.66783857 0.08479851 -0.3950158\n",
       "6 HALLMARK_APOPTOSIS           0.612299465 0.70190427 0.04969014  0.3621762\n",
       "  NES        size\n",
       "1  1.6786250 121 \n",
       "2 -1.4522969 102 \n",
       "3 -1.1122836  67 \n",
       "4 -1.2863429  70 \n",
       "5 -0.9638223  17 \n",
       "6  0.8961686  91 \n",
       "  leadingEdge                                                                                                                                                                                                                                                                                                              \n",
       "1 UBC   , UBQLN1, TALDO1, NMT1  , BAZ2A , SOD1  , ACO2  , RTN3  , GBE1  , MAP4K3, GPD2  , RREB1 , SQOR  , YWHAG , PEX14 , RIOK3                                                                                                                                                                                            \n",
       "2 CCND2  , PTPRC  , CD2    , LCP2   , ETS1   , ITK    , CD3G   , CD40LG , IL2RA  , HLA-E  , SOCS1  , FYB1   , B2M    , TIMP1  , STAT1  , ST8SIA4, GBP2   , IFNAR2 , IRF4   , STAT4  , TRAT1  , CD47   , CD3E   , ITGAL  , IL2RB  , IL7    , GPR65  , TAP1   , LCK    , NPM1   , IL4R   , TLR1   , CD74   , WAS    , ACVR2A \n",
       "3 ARID5B , IQGAP2 , MYL12A , FKBP5  , B2M    , CDK6   , STK39  , ACTN1  , GPD1L  , TNFAIP8, INPP4B , MAF    , RPS6KA3, PTK2B  , LMAN1                                                                                                                                                                                      \n",
       "4 PTPRC , ITGB1 , ACTB  , FYB1  , ACTN1 , EVL   , PTEN  , MYL12B, ICAM2                                                                                                                                                                                                                                                    \n",
       "5 GATA3  , IL2RB  , FLOT2  , AKAP7  , CROCC  , MAL    , B4GALT1                                                                                                                                                                                                                                                            \n",
       "6 DAP3  , SQSTM1, GSR   , SOD1  , DNAJA1, HSPB1 , BAX   , LMNA  , MADD  , BID   , ADD1                                                                                                                                                                                                                                     "
      ]
     },
     "metadata": {},
     "output_type": "display_data"
    }
   ],
   "source": [
    "head(fgsea_res[[1]])"
   ]
  },
  {
   "cell_type": "code",
   "execution_count": 20,
   "id": "9f6e1981-ef65-4c92-a02d-3d931325c3c7",
   "metadata": {},
   "outputs": [],
   "source": [
    "formatted_fgsea_res <- map2_dfr(\n",
    "    fgsea_res,\n",
    "    deg_meta,\n",
    "    function(res, meta) {\n",
    "        res %>%\n",
    "          mutate(\n",
    "              leadingEdge = map_chr(leadingEdge, paste, collapse = \";\"),\n",
    "              fg = meta$fg,\n",
    "              bg = meta$bg,\n",
    "              timepoint = meta$timepoint,\n",
    "              aifi_cell_type = meta$aifi_cell_type\n",
    "          ) %>%\n",
    "          left_join(hallmark_df, by = \"pathway\") %>%\n",
    "          rename(nomP = pval,\n",
    "                 adjP = padj,\n",
    "                 n_leadingEdge = size) %>%\n",
    "          select(fg, bg, timepoint, aifi_cell_type,\n",
    "                 pathway_label, NES, nomP, adjP, \n",
    "                 n_leadingEdge, n_pathway_genes,\n",
    "                 leadingEdge, pathway_genes) %>%\n",
    "          arrange(desc(NES))\n",
    "\n",
    "    }\n",
    ")"
   ]
  },
  {
   "cell_type": "markdown",
   "id": "4651bd3c-1f2e-4953-a440-599e2fd0e1ff",
   "metadata": {},
   "source": [
    "## Write output file\n",
    "\n",
    "Write the metadata as a .csv for later use. We remove `row.names` and set `quote = FALSE` to simplify the outputs and increase compatibility with other tools."
   ]
  },
  {
   "cell_type": "code",
   "execution_count": 21,
   "id": "f8ff63e8-f034-4695-9f1f-bbd87047a2ff",
   "metadata": {},
   "outputs": [
    {
     "name": "stderr",
     "output_type": "stream",
     "text": [
      "Warning message in dir.create(\"output\"):\n",
      "“'output' already exists”\n"
     ]
    }
   ],
   "source": [
    "dir.create(\"output\")"
   ]
  },
  {
   "cell_type": "code",
   "execution_count": 22,
   "id": "ae4120fb-7d54-410d-9b1a-2c504af0cd22",
   "metadata": {},
   "outputs": [],
   "source": [
    "write.csv(\n",
    "    formatted_fgsea_res,\n",
    "    paste0(\"output/all_hallmark_gsea_res_\", Sys.Date(), \".csv\"),\n",
    "    row.names = FALSE,\n",
    "    quote = FALSE\n",
    ")"
   ]
  },
  {
   "cell_type": "markdown",
   "id": "ca50af9d-9fc3-4cef-9e13-a27685071d82",
   "metadata": {},
   "source": [
    "## Store results in HISE\n",
    "\n",
    "Finally, we store the output file in our Collaboration Space for later retrieval and use. We need to provide the UUID for our Collaboration Space (aka `studySpaceId`), as well as a title for this step in our analysis process.\n",
    "\n",
    "The hise function `uploadFiles()` also requires the FileIDs from the original fileset for reference, which we used above when the DEG results were retrieved (`file_uuid`)"
   ]
  },
  {
   "cell_type": "code",
   "execution_count": 23,
   "id": "d51c3f4d-a680-4e10-a4d1-821c8ee16376",
   "metadata": {},
   "outputs": [],
   "source": [
    "study_space_uuid <- \"40df6403-29f0-4b45-ab7d-f46d420c422e\"\n",
    "title <- paste(\"VRd TEA-seq Hallmark GSEA Analysis\", Sys.Date())"
   ]
  },
  {
   "cell_type": "code",
   "execution_count": 24,
   "id": "ed0f1d45-63ef-405d-8770-5b47ba7d0cb7",
   "metadata": {},
   "outputs": [],
   "source": [
    "out_files <- list.files(\n",
    "    \"output\",\n",
    "    full.names = TRUE\n",
    ")\n",
    "out_list <- as.list(out_files)"
   ]
  },
  {
   "cell_type": "code",
   "execution_count": 25,
   "id": "2742dcdd-ce90-43c9-b64d-30dfaf59f2d0",
   "metadata": {},
   "outputs": [
    {
     "data": {
      "text/html": [
       "<dl>\n",
       "\t<dt>$files</dt>\n",
       "\t\t<dd><ol>\n",
       "\t<li>'output/all_hallmark_gsea_res_2023-09-06.csv'</li>\n",
       "</ol>\n",
       "</dd>\n",
       "\t<dt>$traceId</dt>\n",
       "\t\t<dd>'937069dd-92bf-446d-a78c-cb87c5cddb15'</dd>\n",
       "</dl>\n"
      ],
      "text/latex": [
       "\\begin{description}\n",
       "\\item[\\$files] \\begin{enumerate}\n",
       "\\item 'output/all\\_hallmark\\_gsea\\_res\\_2023-09-06.csv'\n",
       "\\end{enumerate}\n",
       "\n",
       "\\item[\\$traceId] '937069dd-92bf-446d-a78c-cb87c5cddb15'\n",
       "\\end{description}\n"
      ],
      "text/markdown": [
       "$files\n",
       ":   1. 'output/all_hallmark_gsea_res_2023-09-06.csv'\n",
       "\n",
       "\n",
       "\n",
       "$traceId\n",
       ":   '937069dd-92bf-446d-a78c-cb87c5cddb15'\n",
       "\n",
       "\n"
      ],
      "text/plain": [
       "$files\n",
       "$files[[1]]\n",
       "[1] \"output/all_hallmark_gsea_res_2023-09-06.csv\"\n",
       "\n",
       "\n",
       "$traceId\n",
       "[1] \"937069dd-92bf-446d-a78c-cb87c5cddb15\"\n"
      ]
     },
     "metadata": {},
     "output_type": "display_data"
    }
   ],
   "source": [
    "uploadFiles(\n",
    "    files = out_list,\n",
    "    studySpaceId = study_space_uuid,\n",
    "    title = title,\n",
    "    inputFileIds = file_uuid,\n",
    "    store = \"project\",\n",
    "    doPrompt = FALSE\n",
    ")"
   ]
  },
  {
   "cell_type": "code",
   "execution_count": 26,
   "id": "f0acf61f-ff21-4557-bc3a-8a446831c6f3",
   "metadata": {},
   "outputs": [
    {
     "data": {
      "text/plain": [
       "R version 4.3.1 (2023-06-16)\n",
       "Platform: x86_64-conda-linux-gnu (64-bit)\n",
       "Running under: Ubuntu 20.04.6 LTS\n",
       "\n",
       "Matrix products: default\n",
       "BLAS/LAPACK: /opt/conda/lib/libopenblasp-r0.3.23.so;  LAPACK version 3.11.0\n",
       "\n",
       "locale:\n",
       " [1] LC_CTYPE=C.UTF-8       LC_NUMERIC=C           LC_TIME=C.UTF-8       \n",
       " [4] LC_COLLATE=C.UTF-8     LC_MONETARY=C.UTF-8    LC_MESSAGES=C.UTF-8   \n",
       " [7] LC_PAPER=C.UTF-8       LC_NAME=C              LC_ADDRESS=C          \n",
       "[10] LC_TELEPHONE=C         LC_MEASUREMENT=C.UTF-8 LC_IDENTIFICATION=C   \n",
       "\n",
       "time zone: Etc/UTC\n",
       "tzcode source: system (glibc)\n",
       "\n",
       "attached base packages:\n",
       "[1] stats     graphics  grDevices utils     datasets  methods   base     \n",
       "\n",
       "other attached packages:\n",
       "[1] msigdbr_7.5.1 fgsea_1.26.0  dplyr_1.1.2   purrr_1.0.2   hise_2.16.0  \n",
       "\n",
       "loaded via a namespace (and not attached):\n",
       " [1] utf8_1.2.3          generics_0.1.3      bitops_1.0-7       \n",
       " [4] lattice_0.21-8      digest_0.6.33       magrittr_2.0.3     \n",
       " [7] evaluate_0.21       grid_4.3.1          pbdZMQ_0.3-9       \n",
       "[10] fastmap_1.1.1       jsonlite_1.8.7      Matrix_1.6-1       \n",
       "[13] httr_1.4.7          fansi_1.0.4         scales_1.2.1       \n",
       "[16] codetools_0.2-19    cli_3.6.1           rlang_1.1.1        \n",
       "[19] crayon_1.5.2        cowplot_1.1.1       munsell_0.5.0      \n",
       "[22] base64enc_0.1-3     withr_2.5.0         repr_1.1.6.9000    \n",
       "[25] tools_4.3.1         parallel_4.3.1      BiocParallel_1.34.2\n",
       "[28] uuid_1.1-1          colorspace_2.1-0    ggplot2_3.4.3      \n",
       "[31] fastmatch_1.1-3     curl_5.0.2          assertthat_0.2.1   \n",
       "[34] IRdisplay_1.1       babelgene_22.9      vctrs_0.6.3        \n",
       "[37] R6_2.5.1            mime_0.12           lifecycle_1.0.3    \n",
       "[40] pkgconfig_2.0.3     pillar_1.9.0        gtable_0.3.3       \n",
       "[43] glue_1.6.2          data.table_1.14.8   Rcpp_1.0.11        \n",
       "[46] tibble_3.2.1        tidyselect_1.2.0    IRkernel_1.3.2     \n",
       "[49] htmltools_0.5.6     compiler_4.3.1      RCurl_1.98-1.12    "
      ]
     },
     "metadata": {},
     "output_type": "display_data"
    }
   ],
   "source": [
    "sessionInfo()"
   ]
  }
 ],
 "metadata": {
  "kernelspec": {
   "display_name": "R 4",
   "language": "R",
   "name": "ir4"
  },
  "language_info": {
   "codemirror_mode": "r",
   "file_extension": ".r",
   "mimetype": "text/x-r-source",
   "name": "R",
   "pygments_lexer": "r",
   "version": "4.3.1"
  }
 },
 "nbformat": 4,
 "nbformat_minor": 5
}
