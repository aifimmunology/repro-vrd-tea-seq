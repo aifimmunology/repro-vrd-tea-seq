{
 "cells": [
  {
   "cell_type": "markdown",
   "id": "34819f8b-5c43-49c7-91bc-422faacb5d4d",
   "metadata": {},
   "source": [
    "# GSEA of MAST DEGs against Reactome Pathways\n",
    "\n",
    "Similar to the analysis for Hallmark Pathways, we'll also perform enrichment tests against Reactome Pathways, which are much more mechanism-focused. These pathways are also hierarchically related, which is important for interpretation of enrichment results. We'll assemble both the gene sets and their relationships for later visualization so that we don't misinterpret related gene sets."
   ]
  },
  {
   "cell_type": "markdown",
   "id": "d3ec3027-721a-44c9-9562-b5ba8c8ed801",
   "metadata": {},
   "source": [
    "## Load packages\n",
    "\n",
    "hise: The Human Immune System Explorer R SDK package  \n",
    "purrr: Functional programming tools  \n",
    "dplyr: Dataframe handling functions  \n",
    "tibble: modern data.frame structures  \n",
    "fgsea: Fast Gene Set Enrichment Analysis  "
   ]
  },
  {
   "cell_type": "code",
   "execution_count": 1,
   "id": "57881815-5109-4c12-972a-8e75ef302eff",
   "metadata": {},
   "outputs": [],
   "source": [
    "quiet_library <- function(...) { suppressPackageStartupMessages(library(...)) }\n",
    "quiet_library(hise)\n",
    "quiet_library(purrr)\n",
    "quiet_library(dplyr)\n",
    "quiet_library(tibble)\n",
    "quiet_library(fgsea)"
   ]
  },
  {
   "cell_type": "markdown",
   "id": "5e1cf814-5e3e-40df-b02a-81c734299ac6",
   "metadata": {},
   "source": [
    "## Download Reactome gene sets\n",
    "\n",
    "We'll obtain the Reactome pathways and relationships provided by reactome.org"
   ]
  },
  {
   "cell_type": "code",
   "execution_count": 2,
   "id": "0e47d417-6e8e-4ecb-a690-f58bd0d82024",
   "metadata": {},
   "outputs": [],
   "source": [
    "# Pathway identifiers, names, and species\n",
    "download.file(\n",
    "    \"https://reactome.org/download/current/ReactomePathways.txt\", \n",
    "    \"ReactomePathways.txt\"\n",
    ")\n",
    "# Pathway gene sets\n",
    "download.file(\n",
    "    \"https://reactome.org/download/current/ReactomePathways.gmt.zip\", \n",
    "    \"ReactomePathways.gmt.zip\"\n",
    ")\n",
    "system(\"unzip ReactomePathways.gmt.zip\")\n",
    "# Pathway relationships\n",
    "download.file(\n",
    "    \"https://reactome.org/download/current/ReactomePathwaysRelation.txt\",\n",
    "    \"ReactomePathwaysRelation.txt\"\n",
    ")"
   ]
  },
  {
   "cell_type": "markdown",
   "id": "4f0a8dfa-5f5d-44f2-a296-074e18dd8dad",
   "metadata": {},
   "source": [
    "## Read, filter, and structure gene sets and relationships"
   ]
  },
  {
   "cell_type": "markdown",
   "id": "a5a1a20d-b021-40cc-a0bd-595a3cf73cbc",
   "metadata": {},
   "source": [
    "### Read and convert .gmt\n",
    "\n",
    "The gene set GMT file contains one gene set per line, with the set name and id followed by the list of genes.\n",
    "\n",
    "We'll read these lines, split on tabs, and then use the split data to build a tibble in which each row has a name, id, and gene list."
   ]
  },
  {
   "cell_type": "code",
   "execution_count": 3,
   "id": "a0848558-64e3-4cd5-b4b9-849d3299ee1b",
   "metadata": {},
   "outputs": [],
   "source": [
    "sets <- readLines(\"ReactomePathways.gmt\")\n",
    "sets <- strsplit(sets, split = \"\\t\")"
   ]
  },
  {
   "cell_type": "code",
   "execution_count": 4,
   "id": "fef44fa1-6bdc-447b-923e-0e3d9484027f",
   "metadata": {},
   "outputs": [],
   "source": [
    "sets <- map_dfr(\n",
    "    sets,\n",
    "    function(v) {\n",
    "        tibble(\n",
    "            name = map_chr(sets, 1),\n",
    "            id = map_chr(sets, 2),\n",
    "            genes = lapply(sets, function(x) {x[-c(1,2)]})\n",
    "        )\n",
    "})"
   ]
  },
  {
   "cell_type": "code",
   "execution_count": 5,
   "id": "f8d3f9cf-1ab0-4a7f-b8a5-5261509cca0e",
   "metadata": {},
   "outputs": [],
   "source": [
    "sets <- sets %>%\n",
    "  select(id, genes) %>%\n",
    "  unique()"
   ]
  },
  {
   "cell_type": "code",
   "execution_count": 6,
   "id": "5ecb9381-7d54-4b6b-a10b-1b638c4ed086",
   "metadata": {},
   "outputs": [
    {
     "data": {
      "text/html": [
       "2612"
      ],
      "text/latex": [
       "2612"
      ],
      "text/markdown": [
       "2612"
      ],
      "text/plain": [
       "[1] 2612"
      ]
     },
     "metadata": {},
     "output_type": "display_data"
    }
   ],
   "source": [
    "nrow(sets)"
   ]
  },
  {
   "cell_type": "markdown",
   "id": "bd0b9e04-7a19-412b-9766-ba1710779566",
   "metadata": {},
   "source": [
    "### Read set IDs and filter for human pathways\n",
    "\n",
    "Next, we'll read the ReactomePathways file, and use the 3rd column to filter for gene sets from *Homo sapiens*."
   ]
  },
  {
   "cell_type": "code",
   "execution_count": 7,
   "id": "ac5a3e4f-1600-45a6-a50e-5f9ada2f75ce",
   "metadata": {},
   "outputs": [],
   "source": [
    "pw <- readLines(\"ReactomePathways.txt\")\n",
    "pw <- strsplit(pw, split = \"\\t\")"
   ]
  },
  {
   "cell_type": "code",
   "execution_count": 8,
   "id": "e77e0699-c5c5-4e7f-b666-68d120302f95",
   "metadata": {},
   "outputs": [],
   "source": [
    "pw <- map(pw, as.list)\n",
    "pw <- map(pw, function(l) { names(l) <- c(\"id\", \"name\", \"species\"); l })\n",
    "pw <- map_dfr(pw, as.data.frame)"
   ]
  },
  {
   "cell_type": "code",
   "execution_count": 9,
   "id": "44470dc5-e87d-4228-99db-ad1bed811b2f",
   "metadata": {},
   "outputs": [
    {
     "data": {
      "text/html": [
       "<table class=\"dataframe\">\n",
       "<caption>A data.frame: 6 × 3</caption>\n",
       "<thead>\n",
       "\t<tr><th></th><th scope=col>id</th><th scope=col>name</th><th scope=col>species</th></tr>\n",
       "\t<tr><th></th><th scope=col>&lt;chr&gt;</th><th scope=col>&lt;chr&gt;</th><th scope=col>&lt;chr&gt;</th></tr>\n",
       "</thead>\n",
       "<tbody>\n",
       "\t<tr><th scope=row>1</th><td>R-BTA-73843  </td><td>5-Phosphoribose 1-diphosphate biosynthesis                     </td><td>Bos taurus</td></tr>\n",
       "\t<tr><th scope=row>2</th><td>R-BTA-1971475</td><td>A tetrasaccharide linker sequence is required for GAG synthesis</td><td>Bos taurus</td></tr>\n",
       "\t<tr><th scope=row>3</th><td>R-BTA-1369062</td><td>ABC transporters in lipid homeostasis                          </td><td>Bos taurus</td></tr>\n",
       "\t<tr><th scope=row>4</th><td>R-BTA-382556 </td><td>ABC-family proteins mediated transport                         </td><td>Bos taurus</td></tr>\n",
       "\t<tr><th scope=row>5</th><td>R-BTA-9033807</td><td>ABO blood group biosynthesis                                   </td><td>Bos taurus</td></tr>\n",
       "\t<tr><th scope=row>6</th><td>R-BTA-418592 </td><td>ADP signalling through P2Y purinoceptor 1                      </td><td>Bos taurus</td></tr>\n",
       "</tbody>\n",
       "</table>\n"
      ],
      "text/latex": [
       "A data.frame: 6 × 3\n",
       "\\begin{tabular}{r|lll}\n",
       "  & id & name & species\\\\\n",
       "  & <chr> & <chr> & <chr>\\\\\n",
       "\\hline\n",
       "\t1 & R-BTA-73843   & 5-Phosphoribose 1-diphosphate biosynthesis                      & Bos taurus\\\\\n",
       "\t2 & R-BTA-1971475 & A tetrasaccharide linker sequence is required for GAG synthesis & Bos taurus\\\\\n",
       "\t3 & R-BTA-1369062 & ABC transporters in lipid homeostasis                           & Bos taurus\\\\\n",
       "\t4 & R-BTA-382556  & ABC-family proteins mediated transport                          & Bos taurus\\\\\n",
       "\t5 & R-BTA-9033807 & ABO blood group biosynthesis                                    & Bos taurus\\\\\n",
       "\t6 & R-BTA-418592  & ADP signalling through P2Y purinoceptor 1                       & Bos taurus\\\\\n",
       "\\end{tabular}\n"
      ],
      "text/markdown": [
       "\n",
       "A data.frame: 6 × 3\n",
       "\n",
       "| <!--/--> | id &lt;chr&gt; | name &lt;chr&gt; | species &lt;chr&gt; |\n",
       "|---|---|---|---|\n",
       "| 1 | R-BTA-73843   | 5-Phosphoribose 1-diphosphate biosynthesis                      | Bos taurus |\n",
       "| 2 | R-BTA-1971475 | A tetrasaccharide linker sequence is required for GAG synthesis | Bos taurus |\n",
       "| 3 | R-BTA-1369062 | ABC transporters in lipid homeostasis                           | Bos taurus |\n",
       "| 4 | R-BTA-382556  | ABC-family proteins mediated transport                          | Bos taurus |\n",
       "| 5 | R-BTA-9033807 | ABO blood group biosynthesis                                    | Bos taurus |\n",
       "| 6 | R-BTA-418592  | ADP signalling through P2Y purinoceptor 1                       | Bos taurus |\n",
       "\n"
      ],
      "text/plain": [
       "  id            name                                                           \n",
       "1 R-BTA-73843   5-Phosphoribose 1-diphosphate biosynthesis                     \n",
       "2 R-BTA-1971475 A tetrasaccharide linker sequence is required for GAG synthesis\n",
       "3 R-BTA-1369062 ABC transporters in lipid homeostasis                          \n",
       "4 R-BTA-382556  ABC-family proteins mediated transport                         \n",
       "5 R-BTA-9033807 ABO blood group biosynthesis                                   \n",
       "6 R-BTA-418592  ADP signalling through P2Y purinoceptor 1                      \n",
       "  species   \n",
       "1 Bos taurus\n",
       "2 Bos taurus\n",
       "3 Bos taurus\n",
       "4 Bos taurus\n",
       "5 Bos taurus\n",
       "6 Bos taurus"
      ]
     },
     "metadata": {},
     "output_type": "display_data"
    }
   ],
   "source": [
    "head(pw)"
   ]
  },
  {
   "cell_type": "code",
   "execution_count": 10,
   "id": "5ffdd60e-ef45-4b8d-8858-c5f9c4f47670",
   "metadata": {},
   "outputs": [],
   "source": [
    "pw <- pw %>%\n",
    "  filter(species == \"Homo sapiens\") %>%\n",
    "  select(id, name)"
   ]
  },
  {
   "cell_type": "code",
   "execution_count": 11,
   "id": "2470b2aa-cd6b-493d-a975-e05e9e31c8fa",
   "metadata": {},
   "outputs": [
    {
     "data": {
      "text/html": [
       "2629"
      ],
      "text/latex": [
       "2629"
      ],
      "text/markdown": [
       "2629"
      ],
      "text/plain": [
       "[1] 2629"
      ]
     },
     "metadata": {},
     "output_type": "display_data"
    }
   ],
   "source": [
    "nrow(pw)"
   ]
  },
  {
   "cell_type": "markdown",
   "id": "0cc60fe1-82d5-4c23-9813-5367b6740f69",
   "metadata": {},
   "source": [
    "### Load relationships\n",
    "\n",
    "The last piece required is the relationships between pathways, which we'll structure as a data.frame."
   ]
  },
  {
   "cell_type": "code",
   "execution_count": 12,
   "id": "05862c18-5421-4093-ba1c-cbb4b11e28f7",
   "metadata": {},
   "outputs": [],
   "source": [
    "links <- read.table(\"ReactomePathwaysRelation.txt\", sep = \"\\t\")\n",
    "names(links) <- c(\"from\", \"to\")\n",
    "links <- links %>%\n",
    "  filter(from %in% pw$id)"
   ]
  },
  {
   "cell_type": "code",
   "execution_count": 13,
   "id": "6e360a3c-a171-439e-a879-ae96bcd11042",
   "metadata": {},
   "outputs": [
    {
     "data": {
      "text/html": [
       "2647"
      ],
      "text/latex": [
       "2647"
      ],
      "text/markdown": [
       "2647"
      ],
      "text/plain": [
       "[1] 2647"
      ]
     },
     "metadata": {},
     "output_type": "display_data"
    }
   ],
   "source": [
    "nrow(links)"
   ]
  },
  {
   "cell_type": "markdown",
   "id": "a3aff2ce-1bd8-4d1e-a250-3a766aa32cae",
   "metadata": {},
   "source": [
    "### Identify root nodes\n",
    "\n",
    "To find the major pathway root nodes and links, we'll select pathways that link *to* other nodes, but don't have links *from* any parent nodes."
   ]
  },
  {
   "cell_type": "code",
   "execution_count": 14,
   "id": "08529215-1aa4-474a-9853-aa6db4858ea6",
   "metadata": {},
   "outputs": [
    {
     "name": "stderr",
     "output_type": "stream",
     "text": [
      "\u001b[1m\u001b[22mJoining with `by = join_by(id)`\n"
     ]
    }
   ],
   "source": [
    "root <- pw %>%\n",
    "  filter(id %in% links$from & !id %in% links$to) %>%\n",
    "  left_join(sets)\n",
    "names(root) <- c(\"root_id\", \"root_name\", \"root_genes\")\n",
    "root_links <- links %>%\n",
    "  filter(from %in% root$root_id)"
   ]
  },
  {
   "cell_type": "code",
   "execution_count": 15,
   "id": "e4ed4862-d0e5-4fe3-9d04-1a901412194c",
   "metadata": {},
   "outputs": [
    {
     "data": {
      "text/html": [
       "<style>\n",
       ".list-inline {list-style: none; margin:0; padding: 0}\n",
       ".list-inline>li {display: inline-block}\n",
       ".list-inline>li:not(:last-child)::after {content: \"\\00b7\"; padding: 0 .5ex}\n",
       "</style>\n",
       "<ol class=list-inline><li>'Autophagy'</li><li>'Cell Cycle'</li><li>'Cell-Cell communication'</li><li>'Cellular responses to stimuli'</li><li>'Chromatin organization'</li><li>'Circadian Clock'</li><li>'DNA Repair'</li><li>'DNA Replication'</li><li>'Developmental Biology'</li><li>'Digestion and absorption'</li><li>'Disease'</li><li>'Drug ADME'</li><li>'Extracellular matrix organization'</li><li>'Gene expression (Transcription)'</li><li>'Hemostasis'</li><li>'Immune System'</li><li>'Metabolism'</li><li>'Metabolism of RNA'</li><li>'Metabolism of proteins'</li><li>'Muscle contraction'</li><li>'Neuronal System'</li><li>'Organelle biogenesis and maintenance'</li><li>'Programmed Cell Death'</li><li>'Protein localization'</li><li>'Reproduction'</li><li>'Sensory Perception'</li><li>'Signal Transduction'</li><li>'Transport of small molecules'</li><li>'Vesicle-mediated transport'</li></ol>\n"
      ],
      "text/latex": [
       "\\begin{enumerate*}\n",
       "\\item 'Autophagy'\n",
       "\\item 'Cell Cycle'\n",
       "\\item 'Cell-Cell communication'\n",
       "\\item 'Cellular responses to stimuli'\n",
       "\\item 'Chromatin organization'\n",
       "\\item 'Circadian Clock'\n",
       "\\item 'DNA Repair'\n",
       "\\item 'DNA Replication'\n",
       "\\item 'Developmental Biology'\n",
       "\\item 'Digestion and absorption'\n",
       "\\item 'Disease'\n",
       "\\item 'Drug ADME'\n",
       "\\item 'Extracellular matrix organization'\n",
       "\\item 'Gene expression (Transcription)'\n",
       "\\item 'Hemostasis'\n",
       "\\item 'Immune System'\n",
       "\\item 'Metabolism'\n",
       "\\item 'Metabolism of RNA'\n",
       "\\item 'Metabolism of proteins'\n",
       "\\item 'Muscle contraction'\n",
       "\\item 'Neuronal System'\n",
       "\\item 'Organelle biogenesis and maintenance'\n",
       "\\item 'Programmed Cell Death'\n",
       "\\item 'Protein localization'\n",
       "\\item 'Reproduction'\n",
       "\\item 'Sensory Perception'\n",
       "\\item 'Signal Transduction'\n",
       "\\item 'Transport of small molecules'\n",
       "\\item 'Vesicle-mediated transport'\n",
       "\\end{enumerate*}\n"
      ],
      "text/markdown": [
       "1. 'Autophagy'\n",
       "2. 'Cell Cycle'\n",
       "3. 'Cell-Cell communication'\n",
       "4. 'Cellular responses to stimuli'\n",
       "5. 'Chromatin organization'\n",
       "6. 'Circadian Clock'\n",
       "7. 'DNA Repair'\n",
       "8. 'DNA Replication'\n",
       "9. 'Developmental Biology'\n",
       "10. 'Digestion and absorption'\n",
       "11. 'Disease'\n",
       "12. 'Drug ADME'\n",
       "13. 'Extracellular matrix organization'\n",
       "14. 'Gene expression (Transcription)'\n",
       "15. 'Hemostasis'\n",
       "16. 'Immune System'\n",
       "17. 'Metabolism'\n",
       "18. 'Metabolism of RNA'\n",
       "19. 'Metabolism of proteins'\n",
       "20. 'Muscle contraction'\n",
       "21. 'Neuronal System'\n",
       "22. 'Organelle biogenesis and maintenance'\n",
       "23. 'Programmed Cell Death'\n",
       "24. 'Protein localization'\n",
       "25. 'Reproduction'\n",
       "26. 'Sensory Perception'\n",
       "27. 'Signal Transduction'\n",
       "28. 'Transport of small molecules'\n",
       "29. 'Vesicle-mediated transport'\n",
       "\n",
       "\n"
      ],
      "text/plain": [
       " [1] \"Autophagy\"                           \n",
       " [2] \"Cell Cycle\"                          \n",
       " [3] \"Cell-Cell communication\"             \n",
       " [4] \"Cellular responses to stimuli\"       \n",
       " [5] \"Chromatin organization\"              \n",
       " [6] \"Circadian Clock\"                     \n",
       " [7] \"DNA Repair\"                          \n",
       " [8] \"DNA Replication\"                     \n",
       " [9] \"Developmental Biology\"               \n",
       "[10] \"Digestion and absorption\"            \n",
       "[11] \"Disease\"                             \n",
       "[12] \"Drug ADME\"                           \n",
       "[13] \"Extracellular matrix organization\"   \n",
       "[14] \"Gene expression (Transcription)\"     \n",
       "[15] \"Hemostasis\"                          \n",
       "[16] \"Immune System\"                       \n",
       "[17] \"Metabolism\"                          \n",
       "[18] \"Metabolism of RNA\"                   \n",
       "[19] \"Metabolism of proteins\"              \n",
       "[20] \"Muscle contraction\"                  \n",
       "[21] \"Neuronal System\"                     \n",
       "[22] \"Organelle biogenesis and maintenance\"\n",
       "[23] \"Programmed Cell Death\"               \n",
       "[24] \"Protein localization\"                \n",
       "[25] \"Reproduction\"                        \n",
       "[26] \"Sensory Perception\"                  \n",
       "[27] \"Signal Transduction\"                 \n",
       "[28] \"Transport of small molecules\"        \n",
       "[29] \"Vesicle-mediated transport\"          "
      ]
     },
     "metadata": {},
     "output_type": "display_data"
    }
   ],
   "source": [
    "root$root_name"
   ]
  },
  {
   "cell_type": "code",
   "execution_count": 16,
   "id": "23eb921b-7fb5-4bf9-b239-dc92c5ca2357",
   "metadata": {},
   "outputs": [
    {
     "data": {
      "text/html": [
       "29"
      ],
      "text/latex": [
       "29"
      ],
      "text/markdown": [
       "29"
      ],
      "text/plain": [
       "[1] 29"
      ]
     },
     "metadata": {},
     "output_type": "display_data"
    }
   ],
   "source": [
    "nrow(root)"
   ]
  },
  {
   "cell_type": "markdown",
   "id": "ff17ec60-a1a0-4d74-8db7-b386e0e7f955",
   "metadata": {},
   "source": [
    "## Identify sub-pathways\n",
    "\n",
    "For our analysis, we'll use sub-pathways that are up to 4 levels below the Root nodes. For each level, we assemble the gene set and keep track of parent gene sets."
   ]
  },
  {
   "cell_type": "markdown",
   "id": "4bff0175-0888-4a41-82f1-3ad718d26d8a",
   "metadata": {},
   "source": [
    "## Level 1\n",
    "\n",
    "Just below the top nodes"
   ]
  },
  {
   "cell_type": "code",
   "execution_count": 17,
   "id": "2cea0e75-788c-402a-9af7-2d2565623c3a",
   "metadata": {},
   "outputs": [],
   "source": [
    "root_split <- split(root_links, root_links$from)\n",
    "l1 <- map2_dfr(\n",
    "    root_split, names(root_split),\n",
    "    function(link_df, parent_id) {\n",
    "        parent_pw <- root %>%\n",
    "          filter(root_id == parent_id)\n",
    "        l1_pw <- pw %>%\n",
    "          filter(id %in% link_df$to)\n",
    "        names(l1_pw) <- c(\"l1_id\", \"l1_name\")\n",
    "        l1_pw <- l1_pw %>%\n",
    "          mutate(root_id = parent_id) %>%\n",
    "          left_join(root, by = \"root_id\")\n",
    "        l1_pw\n",
    "    }\n",
    ")"
   ]
  },
  {
   "cell_type": "code",
   "execution_count": 18,
   "id": "fd919802-7c77-4bcd-b8ae-b35c976873bc",
   "metadata": {},
   "outputs": [],
   "source": [
    "l1 <- l1 %>%\n",
    "  left_join(sets, by = c(\"l1_id\" = \"id\"))"
   ]
  },
  {
   "cell_type": "code",
   "execution_count": 19,
   "id": "8db282b6-c8ea-46ca-a255-b435a0730a88",
   "metadata": {},
   "outputs": [],
   "source": [
    "names(l1)[length(l1)] <- \"l1_genes\""
   ]
  },
  {
   "cell_type": "code",
   "execution_count": 20,
   "id": "d11cb906-e182-4f7d-9f8d-4823af61f919",
   "metadata": {},
   "outputs": [],
   "source": [
    "l1 <- l1 %>%\n",
    "  filter(map_int(l1_genes, length) > 10)"
   ]
  },
  {
   "cell_type": "code",
   "execution_count": 21,
   "id": "d0e822a9-597a-4aad-acc3-4cfe1bcda4eb",
   "metadata": {},
   "outputs": [],
   "source": [
    "l1_links <- links %>%\n",
    "  filter(from %in% l1$l1_id)"
   ]
  },
  {
   "cell_type": "code",
   "execution_count": 22,
   "id": "de975c60-cc45-4428-93e3-f536a88df5e1",
   "metadata": {},
   "outputs": [
    {
     "data": {
      "text/html": [
       "153"
      ],
      "text/latex": [
       "153"
      ],
      "text/markdown": [
       "153"
      ],
      "text/plain": [
       "[1] 153"
      ]
     },
     "metadata": {},
     "output_type": "display_data"
    }
   ],
   "source": [
    "nrow(l1)"
   ]
  },
  {
   "cell_type": "markdown",
   "id": "bebfa4aa-f823-49a9-8fb2-e156e428c2d8",
   "metadata": {},
   "source": [
    "## Level 2\n",
    "Children of Level 1 nodes"
   ]
  },
  {
   "cell_type": "code",
   "execution_count": 23,
   "id": "bab32540-1812-4954-98cb-db7c4e12abe0",
   "metadata": {},
   "outputs": [
    {
     "name": "stderr",
     "output_type": "stream",
     "text": [
      "Warning message in left_join(., parent_pw, by = \"l1_id\"):\n",
      "“\u001b[1m\u001b[22mDetected an unexpected many-to-many relationship between `x` and `y`.\n",
      "\u001b[36mℹ\u001b[39m Row 1 of `x` matches multiple rows in `y`.\n",
      "\u001b[36mℹ\u001b[39m Row 1 of `y` matches multiple rows in `x`.\n",
      "\u001b[36mℹ\u001b[39m If a many-to-many relationship is expected, set `relationship =\n",
      "  \"many-to-many\"` to silence this warning.”\n"
     ]
    }
   ],
   "source": [
    "l1_split <- split(l1_links, l1_links$from)\n",
    "l2 <- map2_dfr(\n",
    "    l1_split, names(l1_split),\n",
    "    function(link_df, parent_id) {\n",
    "        parent_pw <- l1 %>%\n",
    "          filter(l1_id == parent_id)\n",
    "        l2_pw <- pw %>%\n",
    "          filter(id %in% link_df$to)\n",
    "        names(l2_pw) <- c(\"l2_id\", \"l2_name\")\n",
    "        l2_pw <- l2_pw %>%\n",
    "          mutate(l1_id = parent_id) %>%\n",
    "          left_join(parent_pw, by = \"l1_id\")\n",
    "        l2_pw\n",
    "    }\n",
    ")"
   ]
  },
  {
   "cell_type": "code",
   "execution_count": 24,
   "id": "5bbfb6d9-69c6-403f-930c-d970595cb125",
   "metadata": {},
   "outputs": [],
   "source": [
    "l2 <- l2 %>%\n",
    "  left_join(sets, by = c(\"l2_id\" = \"id\"))"
   ]
  },
  {
   "cell_type": "code",
   "execution_count": 25,
   "id": "0d4927dc-1646-4958-9005-b33bdb0b66a5",
   "metadata": {},
   "outputs": [],
   "source": [
    "names(l2)[length(l2)] <- \"l2_genes\""
   ]
  },
  {
   "cell_type": "code",
   "execution_count": 26,
   "id": "63556f34-6ad0-4af9-93c9-c3bf2f8f91e6",
   "metadata": {},
   "outputs": [],
   "source": [
    "l2 <- l2 %>%\n",
    "  filter(map_int(l2_genes, length) > 10)"
   ]
  },
  {
   "cell_type": "code",
   "execution_count": 27,
   "id": "126735dc-7f78-4b37-9aab-4a3cc6a24887",
   "metadata": {},
   "outputs": [],
   "source": [
    "l2_links <- links %>%\n",
    "  filter(from %in% l2$l2_id)"
   ]
  },
  {
   "cell_type": "code",
   "execution_count": 28,
   "id": "f96d9b29-e522-408d-adae-9223fa832a1b",
   "metadata": {},
   "outputs": [
    {
     "data": {
      "text/html": [
       "358"
      ],
      "text/latex": [
       "358"
      ],
      "text/markdown": [
       "358"
      ],
      "text/plain": [
       "[1] 358"
      ]
     },
     "metadata": {},
     "output_type": "display_data"
    }
   ],
   "source": [
    "nrow(l2)"
   ]
  },
  {
   "cell_type": "raw",
   "id": "72af5457-f7db-418b-8407-228cd9fcfdd1",
   "metadata": {},
   "source": [
    "l2"
   ]
  },
  {
   "cell_type": "markdown",
   "id": "1f40a2c6-4a68-4183-a89f-9c6dfa9d7817",
   "metadata": {},
   "source": [
    "## Level 3\n",
    "Children of Level 2 nodes"
   ]
  },
  {
   "cell_type": "code",
   "execution_count": 29,
   "id": "8da325c7-3610-4e18-9bb2-38d935accf23",
   "metadata": {},
   "outputs": [],
   "source": [
    "l2_split <- split(l2_links, l2_links$from)\n",
    "l3 <- map2_dfr(\n",
    "    l2_split, names(l2_split),\n",
    "    function(link_df, parent_id) {\n",
    "        parent_pw <- l2 %>%\n",
    "          filter(l2_id == parent_id)\n",
    "        l3_pw <- pw %>%\n",
    "          filter(id %in% link_df$to)\n",
    "        names(l3_pw) <- c(\"l3_id\", \"l3_name\")\n",
    "        l3_pw <- l3_pw %>%\n",
    "          mutate(l2_id = parent_id) %>%\n",
    "          left_join(parent_pw, by = \"l2_id\")\n",
    "        l3_pw\n",
    "    }\n",
    ")"
   ]
  },
  {
   "cell_type": "code",
   "execution_count": 30,
   "id": "f3318b85-c31b-498f-89da-a6387c4bfc4c",
   "metadata": {},
   "outputs": [],
   "source": [
    "l3 <- l3 %>%\n",
    "  left_join(sets, by = c(\"l3_id\" = \"id\"))\n",
    "names(l3)[length(l3)] <- \"l3_genes\""
   ]
  },
  {
   "cell_type": "raw",
   "id": "8f23cb58-9f94-40f3-937b-68f063891048",
   "metadata": {},
   "source": [
    "head(l3)"
   ]
  },
  {
   "cell_type": "code",
   "execution_count": 31,
   "id": "858f826b-7c8f-4f09-9a26-b04aabd2ff7d",
   "metadata": {},
   "outputs": [],
   "source": [
    "l3 <- l3 %>%\n",
    "  filter(map_int(l3_genes, length) > 10)"
   ]
  },
  {
   "cell_type": "code",
   "execution_count": 32,
   "id": "4c26acb3-b3a7-4fab-a67e-41ca11869b3d",
   "metadata": {},
   "outputs": [
    {
     "data": {
      "text/html": [
       "465"
      ],
      "text/latex": [
       "465"
      ],
      "text/markdown": [
       "465"
      ],
      "text/plain": [
       "[1] 465"
      ]
     },
     "metadata": {},
     "output_type": "display_data"
    }
   ],
   "source": [
    "nrow(l3)"
   ]
  },
  {
   "cell_type": "code",
   "execution_count": 33,
   "id": "cc6f718c-21cf-4786-8cd3-a50c4259bebd",
   "metadata": {},
   "outputs": [],
   "source": [
    "l3_links <- links %>%\n",
    "  filter(from %in% l3$l3_id)"
   ]
  },
  {
   "cell_type": "raw",
   "id": "1728aa82-d8c8-4642-b6e6-7d70b0e9fde0",
   "metadata": {},
   "source": [
    "l3"
   ]
  },
  {
   "cell_type": "markdown",
   "id": "3c6ff939-bc37-4176-b108-b7a16ac112cf",
   "metadata": {},
   "source": [
    "## Level 4\n",
    "Children of Level 3 nodes"
   ]
  },
  {
   "cell_type": "code",
   "execution_count": 34,
   "id": "8e1d9cae-037e-4dfb-aac6-211ce78c8309",
   "metadata": {},
   "outputs": [
    {
     "name": "stderr",
     "output_type": "stream",
     "text": [
      "Warning message in left_join(., parent_pw, by = \"l3_id\"):\n",
      "“\u001b[1m\u001b[22mDetected an unexpected many-to-many relationship between `x` and `y`.\n",
      "\u001b[36mℹ\u001b[39m Row 1 of `x` matches multiple rows in `y`.\n",
      "\u001b[36mℹ\u001b[39m Row 1 of `y` matches multiple rows in `x`.\n",
      "\u001b[36mℹ\u001b[39m If a many-to-many relationship is expected, set `relationship =\n",
      "  \"many-to-many\"` to silence this warning.”\n"
     ]
    }
   ],
   "source": [
    "l3_split <- split(l3_links, l3_links$from)\n",
    "l4 <- map2_dfr(\n",
    "    l3_split, names(l3_split),\n",
    "    function(link_df, parent_id) {\n",
    "        parent_pw <- l3 %>%\n",
    "          filter(l3_id == parent_id)\n",
    "        l4_pw <- pw %>%\n",
    "          filter(id %in% link_df$to)\n",
    "        names(l4_pw) <- c(\"l4_id\", \"l4_name\")\n",
    "        l4_pw <- l4_pw %>%\n",
    "          mutate(l3_id = parent_id) %>%\n",
    "          left_join(parent_pw, by = \"l3_id\")\n",
    "        l4_pw\n",
    "    }\n",
    ")"
   ]
  },
  {
   "cell_type": "code",
   "execution_count": 35,
   "id": "10a525a1-52c5-4808-8aed-3a06aa3e0293",
   "metadata": {},
   "outputs": [],
   "source": [
    "l4 <- l4 %>%\n",
    "  left_join(sets, by = c(\"l4_id\" = \"id\"))\n",
    "names(l4)[length(l4)] <- \"l4_genes\""
   ]
  },
  {
   "cell_type": "raw",
   "id": "69edc746-0794-44c7-a62e-51d82a803655",
   "metadata": {},
   "source": [
    "head(l3)"
   ]
  },
  {
   "cell_type": "code",
   "execution_count": 36,
   "id": "ce0496d2-3a5d-4b50-a85d-12ea3c7c8f67",
   "metadata": {},
   "outputs": [],
   "source": [
    "l4 <- l4 %>%\n",
    "  filter(map_int(l4_genes, length) > 10)"
   ]
  },
  {
   "cell_type": "code",
   "execution_count": 37,
   "id": "58fca087-82ba-4dc8-ad47-031b979a9f8b",
   "metadata": {},
   "outputs": [
    {
     "data": {
      "text/html": [
       "378"
      ],
      "text/latex": [
       "378"
      ],
      "text/markdown": [
       "378"
      ],
      "text/plain": [
       "[1] 378"
      ]
     },
     "metadata": {},
     "output_type": "display_data"
    }
   ],
   "source": [
    "nrow(l4)"
   ]
  },
  {
   "cell_type": "markdown",
   "id": "1fade4cb-ecb2-4b7b-a80d-93846850b4ce",
   "metadata": {},
   "source": [
    "## Assemble and output gene sets\n",
    "\n",
    "Now that we've built out the gene sets from each level, we'll assemble these all in a list of gene sets that can be used for GSEA analysis.\n",
    "\n",
    "We'll save the list of gene sets along with the information from each level, which will be used later for visualizaiton of the GSEA results."
   ]
  },
  {
   "cell_type": "code",
   "execution_count": 38,
   "id": "50a28fb4-a5c8-4ca9-b825-5e917ddd516f",
   "metadata": {},
   "outputs": [],
   "source": [
    "set_list <- c(\n",
    "    root$genes,\n",
    "    l1$l1_genes,\n",
    "    l2$l2_genes,\n",
    "    l3$l3_genes,\n",
    "    l4$l4_genes\n",
    ")\n",
    "\n",
    "names(set_list) <- c(\n",
    "    root$id,\n",
    "    l1$l1_id,\n",
    "    l2$l2_id,\n",
    "    l3$l3_id,\n",
    "    l4$l4_id\n",
    ")\n",
    "\n",
    "all_sets <- list(\n",
    "    root_tb = root,\n",
    "    l1_tb = l1,\n",
    "    l2_tb = l2,\n",
    "    l3_tb = l3,\n",
    "    l4_tb = l4,\n",
    "    set_list = set_list\n",
    ")"
   ]
  },
  {
   "cell_type": "code",
   "execution_count": 39,
   "id": "4d95d9a2-4aad-4bad-bacb-9101bd759afb",
   "metadata": {},
   "outputs": [
    {
     "name": "stderr",
     "output_type": "stream",
     "text": [
      "Warning message in dir.create(\"output\"):\n",
      "“'output' already exists”\n"
     ]
    }
   ],
   "source": [
    "dir.create(\"output\")"
   ]
  },
  {
   "cell_type": "code",
   "execution_count": 40,
   "id": "c9f19753-3959-48cb-b62e-7c7abf564e62",
   "metadata": {},
   "outputs": [],
   "source": [
    "saveRDS(\n",
    "    all_sets, \n",
    "    paste0(\"output/reactome_gene_sets_\", Sys.Date(), \".rds\")\n",
    ")"
   ]
  },
  {
   "cell_type": "code",
   "execution_count": 41,
   "id": "989b9f72-f99b-447f-b0a4-5d1f7e5d718f",
   "metadata": {},
   "outputs": [],
   "source": [
    "reactome_df <- data.frame(\n",
    "    pathway = names(all_sets$set_list),\n",
    "    n_pathway_genes = map_int(all_sets$set_list, length),\n",
    "    pathway_genes = map_chr(all_sets$set_list, paste, collapse = \";\")\n",
    ")"
   ]
  },
  {
   "cell_type": "code",
   "execution_count": 42,
   "id": "76bf4684-0290-4e4c-bc68-514285ab04fa",
   "metadata": {},
   "outputs": [
    {
     "data": {
      "text/html": [
       "1354"
      ],
      "text/latex": [
       "1354"
      ],
      "text/markdown": [
       "1354"
      ],
      "text/plain": [
       "[1] 1354"
      ]
     },
     "metadata": {},
     "output_type": "display_data"
    }
   ],
   "source": [
    "nrow(reactome_df)"
   ]
  },
  {
   "cell_type": "code",
   "execution_count": 43,
   "id": "a59fbbbc-9541-4569-acdf-1094f6f871fe",
   "metadata": {},
   "outputs": [],
   "source": [
    "reactome_df <- unique(reactome_df)"
   ]
  },
  {
   "cell_type": "markdown",
   "id": "9a198595-1664-4448-ae4a-a86d099a86a8",
   "metadata": {},
   "source": [
    "## Retrieve files\n",
    "\n",
    "Now, we'll use the HISE SDK package to retrieve the MAST DEG results file based on its UUID. This will be placed in the `cache/` subdirectory by default."
   ]
  },
  {
   "cell_type": "code",
   "execution_count": 44,
   "id": "6bf1f3cc-c844-4b3d-b902-89d374f93ff0",
   "metadata": {},
   "outputs": [],
   "source": [
    "file_uuid <- list(\n",
    "    \"fc83b89f-fd26-43b8-ac91-29c539703a45\"\n",
    ")"
   ]
  },
  {
   "cell_type": "code",
   "execution_count": 45,
   "id": "b6cb02b4-7f89-4149-9c72-983689910cb0",
   "metadata": {
    "scrolled": true
   },
   "outputs": [
    {
     "name": "stderr",
     "output_type": "stream",
     "text": [
      "submitting request as query ID first...\n",
      "\n",
      "retrieving files using fileIDS...\n",
      "\n"
     ]
    }
   ],
   "source": [
    "fres <- cacheFiles(file_uuid)"
   ]
  },
  {
   "cell_type": "markdown",
   "id": "7d99dc8b-6543-4bdd-8604-c658d596d0ef",
   "metadata": {},
   "source": [
    "### Prepare DEG lists\n",
    "\n",
    "To rank genes, we'll convert nomP to -log10(nomP), and incorporate the direction of differential expression by multiplying by the direction of effect size (sign(logFC))."
   ]
  },
  {
   "cell_type": "code",
   "execution_count": 46,
   "id": "a0524914-1738-4eb5-b264-404e9b43add1",
   "metadata": {},
   "outputs": [],
   "source": [
    "all_deg <- read.csv(\"cache/fc83b89f-fd26-43b8-ac91-29c539703a45/all_mast_deg_2023-09-06.csv\")\n",
    "all_deg$treat_time_type <- paste0(\n",
    "    all_deg$fg, \"_\", \n",
    "    all_deg$timepoint, \"_\", \n",
    "    all_deg$aifi_cell_type)"
   ]
  },
  {
   "cell_type": "markdown",
   "id": "53f8e78d-7b26-44d8-b1e7-31bf679bd110",
   "metadata": {},
   "source": [
    "Prior to ranking, we'll need to resolve missing `logFC` values. These can occur if one of the groups used for DEG analysis had no expression of the gene."
   ]
  },
  {
   "cell_type": "code",
   "execution_count": 47,
   "id": "121cdf90-cbee-4bb5-a13a-8e9b835963bc",
   "metadata": {
    "scrolled": true
   },
   "outputs": [
    {
     "data": {
      "text/html": [
       "<table class=\"dataframe\">\n",
       "<caption>A data.frame: 6 × 12</caption>\n",
       "<thead>\n",
       "\t<tr><th></th><th scope=col>aifi_cell_type</th><th scope=col>timepoint</th><th scope=col>fg</th><th scope=col>bg</th><th scope=col>n_sample</th><th scope=col>gene</th><th scope=col>coef_C</th><th scope=col>coef_D</th><th scope=col>logFC</th><th scope=col>nomP</th><th scope=col>adjP</th><th scope=col>treat_time_type</th></tr>\n",
       "\t<tr><th></th><th scope=col>&lt;chr&gt;</th><th scope=col>&lt;int&gt;</th><th scope=col>&lt;chr&gt;</th><th scope=col>&lt;chr&gt;</th><th scope=col>&lt;int&gt;</th><th scope=col>&lt;chr&gt;</th><th scope=col>&lt;dbl&gt;</th><th scope=col>&lt;dbl&gt;</th><th scope=col>&lt;dbl&gt;</th><th scope=col>&lt;dbl&gt;</th><th scope=col>&lt;dbl&gt;</th><th scope=col>&lt;chr&gt;</th></tr>\n",
       "</thead>\n",
       "<tbody>\n",
       "\t<tr><th scope=row>1</th><td>t_cd4_em  </td><td>4</td><td>bortezomib</td><td>dmso</td><td>180</td><td>TFDP1     </td><td>NA</td><td> 3.196997</td><td>NA</td><td>3.817725e-05</td><td>0.1481468</td><td>bortezomib_4_t_cd4_em  </td></tr>\n",
       "\t<tr><th scope=row>2</th><td>t_cd4_treg</td><td>4</td><td>bortezomib</td><td>dmso</td><td> 78</td><td>ABCA3     </td><td>NA</td><td>-2.453613</td><td>NA</td><td>1.337154e-02</td><td>0.9999222</td><td>bortezomib_4_t_cd4_treg</td></tr>\n",
       "\t<tr><th scope=row>3</th><td>t_cd4_treg</td><td>4</td><td>bortezomib</td><td>dmso</td><td> 78</td><td>AC005070.3</td><td>NA</td><td>-2.259963</td><td>NA</td><td>3.110707e-02</td><td>0.9999222</td><td>bortezomib_4_t_cd4_treg</td></tr>\n",
       "\t<tr><th scope=row>4</th><td>t_cd4_treg</td><td>4</td><td>bortezomib</td><td>dmso</td><td> 78</td><td>AC006504.5</td><td>NA</td><td>-2.470421</td><td>NA</td><td>1.243915e-02</td><td>0.9999222</td><td>bortezomib_4_t_cd4_treg</td></tr>\n",
       "\t<tr><th scope=row>5</th><td>t_cd4_treg</td><td>4</td><td>bortezomib</td><td>dmso</td><td> 78</td><td>AC007686.3</td><td>NA</td><td>-2.265379</td><td>NA</td><td>3.041017e-02</td><td>0.9999222</td><td>bortezomib_4_t_cd4_treg</td></tr>\n",
       "\t<tr><th scope=row>6</th><td>t_cd4_treg</td><td>4</td><td>bortezomib</td><td>dmso</td><td> 78</td><td>AC010754.1</td><td>NA</td><td>-2.272969</td><td>NA</td><td>2.952072e-02</td><td>0.9999222</td><td>bortezomib_4_t_cd4_treg</td></tr>\n",
       "</tbody>\n",
       "</table>\n"
      ],
      "text/latex": [
       "A data.frame: 6 × 12\n",
       "\\begin{tabular}{r|llllllllllll}\n",
       "  & aifi\\_cell\\_type & timepoint & fg & bg & n\\_sample & gene & coef\\_C & coef\\_D & logFC & nomP & adjP & treat\\_time\\_type\\\\\n",
       "  & <chr> & <int> & <chr> & <chr> & <int> & <chr> & <dbl> & <dbl> & <dbl> & <dbl> & <dbl> & <chr>\\\\\n",
       "\\hline\n",
       "\t1 & t\\_cd4\\_em   & 4 & bortezomib & dmso & 180 & TFDP1      & NA &  3.196997 & NA & 3.817725e-05 & 0.1481468 & bortezomib\\_4\\_t\\_cd4\\_em  \\\\\n",
       "\t2 & t\\_cd4\\_treg & 4 & bortezomib & dmso &  78 & ABCA3      & NA & -2.453613 & NA & 1.337154e-02 & 0.9999222 & bortezomib\\_4\\_t\\_cd4\\_treg\\\\\n",
       "\t3 & t\\_cd4\\_treg & 4 & bortezomib & dmso &  78 & AC005070.3 & NA & -2.259963 & NA & 3.110707e-02 & 0.9999222 & bortezomib\\_4\\_t\\_cd4\\_treg\\\\\n",
       "\t4 & t\\_cd4\\_treg & 4 & bortezomib & dmso &  78 & AC006504.5 & NA & -2.470421 & NA & 1.243915e-02 & 0.9999222 & bortezomib\\_4\\_t\\_cd4\\_treg\\\\\n",
       "\t5 & t\\_cd4\\_treg & 4 & bortezomib & dmso &  78 & AC007686.3 & NA & -2.265379 & NA & 3.041017e-02 & 0.9999222 & bortezomib\\_4\\_t\\_cd4\\_treg\\\\\n",
       "\t6 & t\\_cd4\\_treg & 4 & bortezomib & dmso &  78 & AC010754.1 & NA & -2.272969 & NA & 2.952072e-02 & 0.9999222 & bortezomib\\_4\\_t\\_cd4\\_treg\\\\\n",
       "\\end{tabular}\n"
      ],
      "text/markdown": [
       "\n",
       "A data.frame: 6 × 12\n",
       "\n",
       "| <!--/--> | aifi_cell_type &lt;chr&gt; | timepoint &lt;int&gt; | fg &lt;chr&gt; | bg &lt;chr&gt; | n_sample &lt;int&gt; | gene &lt;chr&gt; | coef_C &lt;dbl&gt; | coef_D &lt;dbl&gt; | logFC &lt;dbl&gt; | nomP &lt;dbl&gt; | adjP &lt;dbl&gt; | treat_time_type &lt;chr&gt; |\n",
       "|---|---|---|---|---|---|---|---|---|---|---|---|---|\n",
       "| 1 | t_cd4_em   | 4 | bortezomib | dmso | 180 | TFDP1      | NA |  3.196997 | NA | 3.817725e-05 | 0.1481468 | bortezomib_4_t_cd4_em   |\n",
       "| 2 | t_cd4_treg | 4 | bortezomib | dmso |  78 | ABCA3      | NA | -2.453613 | NA | 1.337154e-02 | 0.9999222 | bortezomib_4_t_cd4_treg |\n",
       "| 3 | t_cd4_treg | 4 | bortezomib | dmso |  78 | AC005070.3 | NA | -2.259963 | NA | 3.110707e-02 | 0.9999222 | bortezomib_4_t_cd4_treg |\n",
       "| 4 | t_cd4_treg | 4 | bortezomib | dmso |  78 | AC006504.5 | NA | -2.470421 | NA | 1.243915e-02 | 0.9999222 | bortezomib_4_t_cd4_treg |\n",
       "| 5 | t_cd4_treg | 4 | bortezomib | dmso |  78 | AC007686.3 | NA | -2.265379 | NA | 3.041017e-02 | 0.9999222 | bortezomib_4_t_cd4_treg |\n",
       "| 6 | t_cd4_treg | 4 | bortezomib | dmso |  78 | AC010754.1 | NA | -2.272969 | NA | 2.952072e-02 | 0.9999222 | bortezomib_4_t_cd4_treg |\n",
       "\n"
      ],
      "text/plain": [
       "  aifi_cell_type timepoint fg         bg   n_sample gene       coef_C coef_D   \n",
       "1 t_cd4_em       4         bortezomib dmso 180      TFDP1      NA      3.196997\n",
       "2 t_cd4_treg     4         bortezomib dmso  78      ABCA3      NA     -2.453613\n",
       "3 t_cd4_treg     4         bortezomib dmso  78      AC005070.3 NA     -2.259963\n",
       "4 t_cd4_treg     4         bortezomib dmso  78      AC006504.5 NA     -2.470421\n",
       "5 t_cd4_treg     4         bortezomib dmso  78      AC007686.3 NA     -2.265379\n",
       "6 t_cd4_treg     4         bortezomib dmso  78      AC010754.1 NA     -2.272969\n",
       "  logFC nomP         adjP      treat_time_type        \n",
       "1 NA    3.817725e-05 0.1481468 bortezomib_4_t_cd4_em  \n",
       "2 NA    1.337154e-02 0.9999222 bortezomib_4_t_cd4_treg\n",
       "3 NA    3.110707e-02 0.9999222 bortezomib_4_t_cd4_treg\n",
       "4 NA    1.243915e-02 0.9999222 bortezomib_4_t_cd4_treg\n",
       "5 NA    3.041017e-02 0.9999222 bortezomib_4_t_cd4_treg\n",
       "6 NA    2.952072e-02 0.9999222 bortezomib_4_t_cd4_treg"
      ]
     },
     "metadata": {},
     "output_type": "display_data"
    }
   ],
   "source": [
    "all_deg %>%\n",
    "  filter(is.na(logFC)) %>%\n",
    "  head()"
   ]
  },
  {
   "cell_type": "markdown",
   "id": "ba112436-dbb3-4501-b924-b7747cd44918",
   "metadata": {},
   "source": [
    "When this occurs, we can use the sign of `coef_D` to determine the direction of expression change, rather than using the missing `logFC` value."
   ]
  },
  {
   "cell_type": "code",
   "execution_count": 48,
   "id": "415b3514-4003-400b-a982-f996607392ce",
   "metadata": {},
   "outputs": [],
   "source": [
    "all_deg <- all_deg %>%\n",
    "  mutate(direction = ifelse(\n",
    "      is.na(logFC),\n",
    "      sign(coef_D), # if missing logFC, use coef_D\n",
    "      sign(logFC) # otherwise, use logFC\n",
    "  ))"
   ]
  },
  {
   "cell_type": "markdown",
   "id": "558f49c5-00f0-488f-9d3f-066a07135a81",
   "metadata": {},
   "source": [
    "We also need to avoid nomP values of 0. These will cause NA values due to log transformation. We'll convert these to `1e-300` so that they have a non-zero value."
   ]
  },
  {
   "cell_type": "code",
   "execution_count": 49,
   "id": "53b8cb47-4ddd-4e10-a6cd-ae23bb5ffed4",
   "metadata": {},
   "outputs": [],
   "source": [
    "all_deg <- all_deg %>%\n",
    "  mutate(nomP = ifelse(\n",
    "      nomP == 0,\n",
    "      1e-300, # if zero, change to 1e-300\n",
    "      nomP # otherwise, keep the value\n",
    "  ))"
   ]
  },
  {
   "cell_type": "code",
   "execution_count": 50,
   "id": "3dbaf248-ef29-47b4-9d0f-497f2b5ebb38",
   "metadata": {},
   "outputs": [],
   "source": [
    "deg_list <- split(all_deg, all_deg$treat_time_type)"
   ]
  },
  {
   "cell_type": "code",
   "execution_count": 51,
   "id": "35d510af-7150-41a3-815d-85a9745bd57d",
   "metadata": {},
   "outputs": [],
   "source": [
    "deg_list <- map(\n",
    "    deg_list,\n",
    "    function(deg) {\n",
    "        deg %>%\n",
    "          mutate(rank_val = -log10(nomP) * direction) %>%\n",
    "          arrange(desc(rank_val))\n",
    "    }\n",
    ")"
   ]
  },
  {
   "cell_type": "code",
   "execution_count": 52,
   "id": "66c3def0-ba07-492c-9254-6d82c7407087",
   "metadata": {},
   "outputs": [],
   "source": [
    "rank_list <- map(\n",
    "    deg_list,\n",
    "    function(deg) {\n",
    "        v <- deg$rank_val\n",
    "        names(v) <- deg$gene\n",
    "        v\n",
    "    }\n",
    ")"
   ]
  },
  {
   "cell_type": "markdown",
   "id": "bd2d07c0-d897-4a3f-a25a-b0bc35b2815c",
   "metadata": {},
   "source": [
    "## Run GSEA"
   ]
  },
  {
   "cell_type": "code",
   "execution_count": 53,
   "id": "b8b5c3ea-4afd-476e-b373-71362a18db79",
   "metadata": {},
   "outputs": [],
   "source": [
    "parallel_param <- BiocParallel::MulticoreParam(\n",
    "    workers = 4, \n",
    "    progressbar = FALSE\n",
    ")"
   ]
  },
  {
   "cell_type": "code",
   "execution_count": 54,
   "id": "1438f89e-731e-4266-8692-0f4c914362b5",
   "metadata": {
    "scrolled": true
   },
   "outputs": [
    {
     "name": "stderr",
     "output_type": "stream",
     "text": [
      "Warning message in preparePathwaysAndStats(pathways, stats, minSize, maxSize, gseaParam, :\n",
      "“There are ties in the preranked stats (0.06% of the list).\n",
      "The order of those tied genes will be arbitrary, which may produce unexpected results.”\n"
     ]
    }
   ],
   "source": [
    "fgsea_res <- map(\n",
    "    rank_list,\n",
    "    function(ranks) {\n",
    "        fgsea(\n",
    "            pathways = all_sets$set_list,\n",
    "            stats    = ranks,\n",
    "            minSize  = 10,\n",
    "            maxSize  = 500,\n",
    "            BPPARAM  = parallel_param\n",
    "        )\n",
    "    }\n",
    ")"
   ]
  },
  {
   "cell_type": "markdown",
   "id": "696576d3-d29a-42db-b322-9e8702a1537e",
   "metadata": {},
   "source": [
    "### Format results"
   ]
  },
  {
   "cell_type": "code",
   "execution_count": 55,
   "id": "dd2cc82c-2379-4f15-a5e1-49520e013ccd",
   "metadata": {},
   "outputs": [],
   "source": [
    "deg_meta <- map(\n",
    "    deg_list,\n",
    "    function(deg) {\n",
    "        list(\n",
    "            fg = deg$fg[1],\n",
    "            bg = deg$bg[1],\n",
    "            timepoint = deg$timepoint[1],\n",
    "            aifi_cell_type = deg$aifi_cell_type[1]\n",
    "        )\n",
    "    }\n",
    ")"
   ]
  },
  {
   "cell_type": "code",
   "execution_count": 56,
   "id": "bd8d5e79-79dc-43ef-ba46-62fe570496d1",
   "metadata": {},
   "outputs": [],
   "source": [
    "formatted_fgsea_res <- map2_dfr(\n",
    "    fgsea_res,\n",
    "    deg_meta,\n",
    "    function(res, meta) {\n",
    "        res %>%\n",
    "          mutate(\n",
    "              leadingEdge = map_chr(leadingEdge, paste, collapse = \";\"),\n",
    "              fg = meta$fg,\n",
    "              bg = meta$bg,\n",
    "              timepoint = meta$timepoint,\n",
    "              aifi_cell_type = meta$aifi_cell_type\n",
    "          ) %>%\n",
    "          left_join(reactome_df, by = \"pathway\") %>%\n",
    "          rename(id = pathway,\n",
    "                 nomP = pval,\n",
    "                 adjP = padj,\n",
    "                 n_leadingEdge = size) %>%\n",
    "          left_join(pw, by = \"id\") %>%\n",
    "          rename(pathway = name) %>%\n",
    "          select(fg, bg, timepoint, aifi_cell_type,\n",
    "                 id, pathway, NES, nomP, adjP, \n",
    "                 n_leadingEdge, n_pathway_genes,\n",
    "                 leadingEdge, pathway_genes) %>%\n",
    "          arrange(desc(NES))\n",
    "\n",
    "    }\n",
    ")"
   ]
  },
  {
   "cell_type": "code",
   "execution_count": 57,
   "id": "31568307-5d28-4ff9-ba83-54085e2dddce",
   "metadata": {},
   "outputs": [
    {
     "data": {
      "text/html": [
       "<table class=\"dataframe\">\n",
       "<caption>A data.table: 6 × 13</caption>\n",
       "<thead>\n",
       "\t<tr><th scope=col>fg</th><th scope=col>bg</th><th scope=col>timepoint</th><th scope=col>aifi_cell_type</th><th scope=col>id</th><th scope=col>pathway</th><th scope=col>NES</th><th scope=col>nomP</th><th scope=col>adjP</th><th scope=col>n_leadingEdge</th><th scope=col>n_pathway_genes</th><th scope=col>leadingEdge</th><th scope=col>pathway_genes</th></tr>\n",
       "\t<tr><th scope=col>&lt;chr&gt;</th><th scope=col>&lt;chr&gt;</th><th scope=col>&lt;int&gt;</th><th scope=col>&lt;chr&gt;</th><th scope=col>&lt;chr&gt;</th><th scope=col>&lt;chr&gt;</th><th scope=col>&lt;dbl&gt;</th><th scope=col>&lt;dbl&gt;</th><th scope=col>&lt;dbl&gt;</th><th scope=col>&lt;int&gt;</th><th scope=col>&lt;int&gt;</th><th scope=col>&lt;chr&gt;</th><th scope=col>&lt;chr&gt;</th></tr>\n",
       "</thead>\n",
       "<tbody>\n",
       "\t<tr><td>bortezomib</td><td>dmso</td><td>24</td><td>t_cd4_cm</td><td>R-HSA-8951664</td><td>Neddylation                            </td><td>2.371437</td><td>4.469096e-22</td><td>4.446751e-19</td><td>168</td><td>247</td><td>PSMD1;PSMD14;VCP;UBC;PSMD11;NPLOC4;PSMB2;PSMD7;PSMD12;PSMD2;PSMA6;PSMB1;PSMD4;PSMC6;PSMC1;SQSTM1;PSMB7;PSMC2;PSMD3;PSMB3;PSMB4;PSMA7;PSMA3;PSMD6;PSME4;PSMA5;PSMD13;PSMB6;SEM1;PSMC4;PSMA4;PSMA2;PSMB5;UBB;PSMC3;PSMA1;NFE2L2;PSMC5;PSMD8                                                              </td><td>AMER1;ANKRD9;ASB1;ASB10;ASB11;ASB12;ASB13;ASB14;ASB15;ASB16;ASB17;ASB18;ASB2;ASB3;ASB4;ASB5;ASB6;ASB7;ASB8;ASB9;BIRC5;BRCA1;BTBD1;BTBD6;BTRC;CAND1;CCDC22;CCDC8;CCNF;CDKN1A;CISH;COMMD1;COMMD10;COMMD2;COMMD3;COMMD4;COMMD5;COMMD6;COMMD7;COMMD8;COMMD9;COPS2;COPS3;COPS4;COPS5;COPS6;COPS7A;COPS7B;COPS8;CUL1;CUL2;CUL3;CUL4A;CUL4B;CUL5;CUL7;CUL9;DCAF10;DCAF11;DCAF13;DCAF16;DCAF17;DCAF4;DCAF5;DCAF6;DCAF7;DCAF8;DCUN1D1;DCUN1D2;DCUN1D3;DCUN1D4;DCUN1D5;DDA1;DDB1;DDB2;DPP3;DTL;ELOB;ELOC;EPAS1;ERCC8;FBXL12;FBXL13;FBXL14;FBXL15;FBXL16;FBXL18;FBXL19;FBXL20;FBXL21P;FBXL22;FBXL3;FBXL4;FBXL5;FBXL7;FBXL8;FBXO10;FBXO11;FBXO15;FBXO17;FBXO2;FBXO21;FBXO22;FBXO27;FBXO30;FBXO31;FBXO32;FBXO4;FBXO40;FBXO41;FBXO44;FBXO6;FBXO7;FBXO9;FBXW10;FBXW11;FBXW12;FBXW2;FBXW4;FBXW5;FBXW7;FBXW8;FBXW9;FEM1A;FEM1B;FEM1C;GAN;GPS1;HIF1A;HIF3A;KBTBD13;KBTBD6;KBTBD7;KBTBD8;KCTD6;KCTD7;KEAP1;KLHL11;KLHL13;KLHL2;KLHL20;KLHL21;KLHL22;KLHL25;KLHL3;KLHL41;KLHL42;KLHL5;KLHL9;LMO7;LRR1;LRRC41;MUL1;NAE1;NEDD8;NEURL2;NFE2L2;NPLOC4;NUB1;OBSL1;PALB2;PSMA1;PSMA2;PSMA3;PSMA4;PSMA5;PSMA6;PSMA7;PSMA8;PSMB1;PSMB10;PSMB11;PSMB2;PSMB3;PSMB4;PSMB5;PSMB6;PSMB7;PSMB8;PSMB9;PSMC1;PSMC2;PSMC3;PSMC4;PSMC5;PSMC6;PSMD1;PSMD10;PSMD11;PSMD12;PSMD13;PSMD14;PSMD2;PSMD3;PSMD4;PSMD5;PSMD6;PSMD7;PSMD8;PSMD9;PSME1;PSME2;PSME3;PSME4;PSMF1;PUM2;RBBP5;RBBP7;RBX1;RFWD2;RNF7;RPS27A;SEM1;SENP8;SKP1;SKP2;SOCS2;SOCS3;SOCS5;SOCS6;SPSB1;SPSB2;SPSB3;SPSB4;SQSTM1;TULP4;UBA3;UBA52;UBB;UBC;UBD;UBE2D1;UBE2D2;UBE2D3;UBE2F;UBE2M;UBXN7;UCHL3;UFD1L;VCP;VHL;WDR5;WDTC1;WSB1;WSB2;X;ZBTB16</td></tr>\n",
       "\t<tr><td>bortezomib</td><td>dmso</td><td>24</td><td>t_cd4_cm</td><td>R-HSA-5619115</td><td>Disorders of transmembrane transporters</td><td>2.366473</td><td>3.186736e-19</td><td>6.341605e-17</td><td>106</td><td>177</td><td>PSMD1;PSMD14;VCP;UBC;PSMD11;PSMB2;PSMD7;PSMD12;PSMD2;PSMA6;PSMB1;PSMD4;PSMC6;PSMC1;PSMB7;PSMC2;PSMD3;PSMB3;PSMB4;PSMA7;PSMA3;PSMD6;PSME4;PSMA5;PSMD13;PSMB6;SEM1;PSMC4;PSMA4;PSMA2;NUP153;PSMB5;UBB;PSMC3;RANBP2;PSMA1;NUP205;PSMC5;PSMD8                                                              </td><td>AAAS;ABCA1;ABCA12;ABCA3;ABCB11;ABCB4;ABCB6;ABCC2;ABCC6;ABCC8;ABCC9;ABCD1;ABCD4;ABCG5;ABCG8;APOA1;AVP;AVPR1A;AVPR1B;AVPR2;BSG;CFTR;CP;DERL1;DERL2;DERL3;ERLEC1;ERLIN1;ERLIN2;GCK;GCKR;HEPH;HK1;KCNJ11;LMBRD1;NDC1;NUP107;NUP133;NUP153;NUP155;NUP160;NUP188;NUP205;NUP210;NUP214;NUP35;NUP37;NUP42;NUP43;NUP50;NUP54;NUP58;NUP62;NUP85;NUP88;NUP93;NUP98;OS9;POM121;POM121C;PSMA1;PSMA2;PSMA3;PSMA4;PSMA5;PSMA6;PSMA7;PSMA8;PSMB1;PSMB10;PSMB11;PSMB2;PSMB3;PSMB4;PSMB5;PSMB6;PSMB7;PSMB8;PSMB9;PSMC1;PSMC2;PSMC3;PSMC4;PSMC5;PSMC6;PSMD1;PSMD10;PSMD11;PSMD12;PSMD13;PSMD14;PSMD2;PSMD3;PSMD4;PSMD5;PSMD6;PSMD7;PSMD8;PSMD9;PSME1;PSME2;PSME3;PSME4;PSMF1;RAE1;RANBP2;RHAG;RNF185;RNF5;RPS27A;SEC13;SEH1L;SEL1L;SEM1;SLC11A2;SLC12A1;SLC12A3;SLC12A6;SLC16A1;SLC17A5;SLC17A8;SLC1A1;SLC1A3;SLC20A2;SLC22A12;SLC22A18;SLC22A5;SLC24A1;SLC24A4;SLC24A5;SLC26A2;SLC26A3;SLC26A4;SLC27A4;SLC29A3;SLC2A1;SLC2A10;SLC2A2;SLC2A9;SLC33A1;SLC34A1;SLC34A2;SLC34A3;SLC35A1;SLC35A2;SLC35A3;SLC35C1;SLC36A2;SLC39A4;SLC3A1;SLC3A2;SLC40A1;SLC4A1;SLC4A4;SLC5A1;SLC5A2;SLC5A5;SLC5A7;SLC6A14;SLC6A18;SLC6A19;SLC6A2;SLC6A20;SLC6A3;SLC6A5;SLC7A7;SLC7A9;SLC9A6;SLC9A9;SLCO1B1;SLCO1B3;SLCO2A1;TPR;UBA52;UBB;UBC;VCP                                                                                                                                                                                                                                                                                                                                                               </td></tr>\n",
       "\t<tr><td>bortezomib</td><td>dmso</td><td>24</td><td>t_cd4_cm</td><td>R-HSA-6807070</td><td>PTEN Regulation                        </td><td>2.345639</td><td>5.914341e-18</td><td>7.355961e-16</td><td>115</td><td>158</td><td>PSMD1;PSMD14;UBC;PSMD11;PSMB2;PSMD7;PSMD12;PSMD2;PSMA6;PSMB1;PSMD4;PSMC6;PSMC1;PSMB7;PSMC2;PSMD3;PSMB3;TNKS;PSMB4;PSMA7;PSMA3;PSMD6;PSME4;PSMA5;PSMD13;PSMB6;SEM1;PSMC4;PSMA4;PSMA2;RHEB;PSMB5;UBB;PSMC3;RPTOR;PSMA1;PSMC5;PSMD8                                                                       </td><td>AGO1;AGO2;AGO3;AGO4;AKT1;AKT2;AKT3;ATF2;ATN1;BMI1;CBX2;CBX4;CBX6;CBX8;CHD3;CHD4;CNOT6L;CSNK2A1;CSNK2A2;CSNK2B;EED;EGR1;EZH2;FRK;GATAD2A;GATAD2B;HDAC1;HDAC2;HDAC3;HDAC5;HDAC7;JUN;KDM1A;LAMTOR1;LAMTOR2;LAMTOR3;LAMTOR4;LAMTOR5;MAF1;MAPK1;MAPK3;MBD3;MECOM;MIR106A;MIR106B;MIR17;MIR19A;MIR19B1;MIR19B2;MIR205;MIR20A;MIR20B;MIR21;MIR214;MIR22;MIR25;MIR26A1;MIR26A2;MIR93;MKRN1;MLST8;MOV10;MTA1;MTA2;MTA3;MTOR;NEDD4;NR2E1;OTUD3;PHC1;PHC2;PHC3;PML;PPARG;PREX2;PSMA1;PSMA2;PSMA3;PSMA4;PSMA5;PSMA6;PSMA7;PSMA8;PSMB1;PSMB10;PSMB11;PSMB2;PSMB3;PSMB4;PSMB5;PSMB6;PSMB7;PSMB8;PSMB9;PSMC1;PSMC2;PSMC3;PSMC4;PSMC5;PSMC6;PSMD1;PSMD10;PSMD11;PSMD12;PSMD13;PSMD14;PSMD2;PSMD3;PSMD4;PSMD5;PSMD6;PSMD7;PSMD8;PSMD9;PSME1;PSME2;PSME3;PSME4;PSMF1;PTEN;PTENP1;RBBP4;RBBP7;RCOR1;REST;RHEB;RING1;RNF146;RNF2;RPS27A;RPTOR;RRAGA;RRAGB;RRAGC;RRAGD;SALL4;SCMH1;SEM1;SLC38A9;SNAI1;SNAI2;STUB1;SUZ12;TNKS;TNKS2;TNRC6A;TNRC6B;TNRC6C;TP53;TRIM27;UBA52;UBB;UBC;USP13;USP7;VAPA;WWP2;XIAP                                                                                                                                                                                                                                                                                                                                                                                                                                                                                                                                                                                 </td></tr>\n",
       "\t<tr><td>bortezomib</td><td>dmso</td><td>24</td><td>t_cd4_cm</td><td>R-HSA-9711123</td><td>Cellular response to chemical stress   </td><td>2.344432</td><td>1.998389e-19</td><td>5.200410e-17</td><td>150</td><td>204</td><td>PSMD1;PSMD14;VCP;UBC;PSMD11;NPLOC4;PSMB2;TXNRD1;PSMD7;PSMD12;PSMD2;PSMA6;PSMB1;PSMD4;PSMC6;PSMC1;TXN;SQSTM1;PSMB7;PSMC2;TALDO1;MAFG;PSMD3;PSMB3;PSMB4;PSMA7;PSMA3;PSMD6;PSME4;GSR;PSMA5;PSMD13;PRDX1;BACH1;GCLM;PSMB6;SEM1;PSMC4;PSMA4;PSMA2;SOD1;GSTP1;PSMB5;UBB;PSMC3;PSMA1;NFE2L2;PSMC5;PSMD8;NDUFA4</td><td>ABCC1;AKT1;AKT2;AKT3;ALB;AMER1;AQP8;ATF4;ATOX1;ATP7A;BACH1;BLVRA;BLVRB;BRCA1;BTRC;CARM1;CAT;CCS;CDKN1A;CDKN2A;CHD9;COX11;COX14;COX16;COX18;COX19;COX20;COX4I1;COX5A;COX5B;COX6A1;COX6B1;COX6C;COX7A2L;COX7B;COX7C;COX8A;CREBBP;CSNK2A1;CSNK2A2;CSNK2B;CUL1;CUL3;CYBA;CYBB;CYCS;DPP3;EP300;ERO1A;FABP1;FBXL17;G6PD;GCLC;GCLM;GPX1;GPX2;GPX3;GPX5;GPX6;GPX7;GPX8;GSK3B;GSR;GSTA1;GSTA3;GSTP1;HBA1;HBB;HDAC3;HELZ2;HM13;HMOX1;HMOX2;IDH1;KEAP1;LRPPRC;MAFG;MAFK;MAP1LC3B;ME1;MED1;MIR155;MIR196A1;MIR98;MIRLET7B;MIRLET7C;MT-CO1;MT-CO2;MT-CO3;MUL1;MYC;NCF1;NCF2;NCF4;NCOA1;NCOA2;NCOA6;NCOR1;NCOR2;NDUFA4;NFE2L2;NLRP3;NOTCH1;NOX4;NOX5;NPLOC4;NQO1;NUDT2;P4HB;PALB2;PGD;PPARA;PRDX1;PRDX2;PRDX3;PRDX5;PRDX6;PRKCD;PSMA1;PSMA2;PSMA3;PSMA4;PSMA5;PSMA6;PSMA7;PSMA8;PSMB1;PSMB10;PSMB11;PSMB2;PSMB3;PSMB4;PSMB5;PSMB6;PSMB7;PSMB8;PSMB9;PSMC1;PSMC2;PSMC3;PSMC4;PSMC5;PSMC6;PSMD1;PSMD10;PSMD11;PSMD12;PSMD13;PSMD14;PSMD2;PSMD3;PSMD4;PSMD5;PSMD6;PSMD7;PSMD8;PSMD9;PSME1;PSME2;PSME3;PSME4;PSMF1;PTK6;RBX1;RPS27A;RXRA;SCO1;SCO2;SEM1;SESN1;SESN2;SIN3A;SIN3B;SKP1;SKP2;SLC7A11;SMARCD3;SOD1;SOD2;SOD3;SQSTM1;SRXN1;STAP2;STAT3;SURF1;TACO1;TALDO1;TBL1X;TBL1XR1;TGS1;TKT;TRIM21;TXN;TXN2;TXNIP;TXNRD1;TXNRD2;UBA52;UBB;UBC;UBXN7;UFD1L;VCP;X                                                                                                                                                                                                                                                                                                                          </td></tr>\n",
       "\t<tr><td>bortezomib</td><td>dmso</td><td>24</td><td>t_cd4_cm</td><td>R-HSA-453274 </td><td>Mitotic G2-G2/M phases                 </td><td>2.341302</td><td>2.282474e-18</td><td>3.785102e-16</td><td>142</td><td>200</td><td>PSMD1;PSMD14;UBC;PSMD11;PSMB2;PSMD7;PSMD12;PSMD2;HSP90AA1;PSMA6;PSMB1;E2F3;PSMD4;PSMC6;PSMC1;PSMB7;PSMC2;PSMD3;PSMB3;PSMB4;PSMA7;PSMA3;PSMD6;HSP90AB1;PSME4;PSMA5;PSMD13;PSMB6;SEM1;PSMC4;PSMA4;PSMA2;PSMB5;UBB;PSMC3;LIN54;CEP290;PSMA1;PAFAH1B1;PSMC5;PSMD8;TUBA1C                                   </td><td>ACTR1A;AJUBA;AKAP9;ALMS1;AURKA;BORA;BTRC;CCNA1;CCNA2;CCNB1;CCNB2;CCNH;CCP110;CDC25A;CDC25B;CDC25C;CDK1;CDK11A;CDK11B;CDK2;CDK5RAP2;CDK7;CDKN1A;CENPF;CENPJ;CEP131;CEP135;CEP152;CEP164;CEP192;CEP250;CEP290;CEP41;CEP43;CEP57;CEP63;CEP70;CEP72;CEP76;CEP78;CETN2;CKAP5;CLASP1;CNTRL;CSNK1D;CSNK1E;CUL1;DCTN1;DCTN2;DCTN3;DYNC1H1;DYNC1I2;DYNLL1;E2F1;E2F3;EP300;FBXL18;FBXL7;FBXW11;FKBPL;FOXM1;GTSE1;HAUS1;HAUS2;HAUS3;HAUS4;HAUS5;HAUS6;HAUS7;HAUS8;HMMR;HSP90AA1;HSP90AB1;LCMT1;LIN37;LIN52;LIN54;LIN9;MAPRE1;MNAT1;MYBL2;MZT1;MZT2A;MZT2B;NDE1;NEDD1;NEK2;NINL;NME7;ODF2;OFD1;OPTN;PAFAH1B1;PCM1;PCNT;PHLDA1;PKMYT1;PLK1;PLK4;PPME1;PPP1CB;PPP1R12A;PPP1R12B;PPP2CA;PPP2CB;PPP2R1A;PPP2R1B;PPP2R2A;PPP2R3B;PRKACA;PRKAR2B;PSMA1;PSMA2;PSMA3;PSMA4;PSMA5;PSMA6;PSMA7;PSMA8;PSMB1;PSMB10;PSMB11;PSMB2;PSMB3;PSMB4;PSMB5;PSMB6;PSMB7;PSMB8;PSMB9;PSMC1;PSMC2;PSMC3;PSMC4;PSMC5;PSMC6;PSMD1;PSMD10;PSMD11;PSMD12;PSMD13;PSMD14;PSMD2;PSMD3;PSMD4;PSMD5;PSMD6;PSMD7;PSMD8;PSMD9;PSME1;PSME2;PSME3;PSME4;PSMF1;RAB8A;RBBP4;RBX1;RPS27A;SDCCAG8;SEM1;SFI1;SKP1;SSNA1;TP53;TPX2;TUBA1A;TUBA1B;TUBA1C;TUBA3C;TUBA3D;TUBA3E;TUBA4A;TUBA4B;TUBA8;TUBAL3;TUBB;TUBB1;TUBB2A;TUBB2B;TUBB3;TUBB4A;TUBB4B;TUBB6;TUBB8;TUBB8B;TUBG1;TUBG2;TUBGCP2;TUBGCP3;TUBGCP4;TUBGCP5;TUBGCP6;UBA52;UBB;UBC;WEE1;XPO1;YWHAE;YWHAG                                                                                                                                                                                                                                                              </td></tr>\n",
       "\t<tr><td>bortezomib</td><td>dmso</td><td>24</td><td>t_cd4_cm</td><td>R-HSA-69242  </td><td>S Phase                                </td><td>2.338360</td><td>3.136656e-16</td><td>1.300405e-14</td><td>117</td><td>163</td><td>PSMD1;PSMD14;UBC;PSMD11;PSMB2;PSMD7;PSMD12;PSMD2;PSMA6;PSMB1;PSMD4;PSMC6;PSMC1;PSMB7;PSMC2;PSMD3;PSMB3;PSMB4;PSMA7;PSMA3;PSMD6;PSME4;PSMA5;PSMD13;TFDP2;ORC3;PSMB6;SEM1;PSMC4;PSMA4;PSMA2;PSMB5;UBB;PSMC3;LIN54;PSMA1;PSMC5;PSMD8;ANAPC10                                                              </td><td>AKT1;AKT2;AKT3;ANAPC1;ANAPC10;ANAPC11;ANAPC15;ANAPC16;ANAPC2;ANAPC4;ANAPC5;ANAPC7;CABLES1;CCNA1;CCNA2;CCND1;CCNE1;CCNE2;CCNH;CDC16;CDC23;CDC25A;CDC25B;CDC26;CDC27;CDC45;CDC6;CDCA5;CDK2;CDK4;CDK7;CDKN1A;CDKN1B;CDT1;CKS1B;CUL1;DNA2;E2F1;E2F4;E2F5;ESCO1;ESCO2;FEN1;FZR1;GINS1;GINS2;GINS3;GINS4;GMNN;GSK3B;LIG1;LIN37;LIN52;LIN54;LIN9;MAX;MCM2;MCM3;MCM4;MCM5;MCM6;MCM7;MCM8;MNAT1;MYC;ORC1;ORC2;ORC3;ORC4;ORC5;ORC6;PCNA;PDS5A;PDS5B;POLA1;POLA2;POLD1;POLD2;POLD3;POLD4;POLE;POLE2;POLE3;POLE4;PRIM1;PRIM2;PSMA1;PSMA2;PSMA3;PSMA4;PSMA5;PSMA6;PSMA7;PSMA8;PSMB1;PSMB10;PSMB11;PSMB2;PSMB3;PSMB4;PSMB5;PSMB6;PSMB7;PSMB8;PSMB9;PSMC1;PSMC2;PSMC3;PSMC4;PSMC5;PSMC6;PSMD1;PSMD10;PSMD11;PSMD12;PSMD13;PSMD14;PSMD2;PSMD3;PSMD4;PSMD5;PSMD6;PSMD7;PSMD8;PSMD9;PSME1;PSME2;PSME3;PSME4;PSMF1;PTK6;RAD21;RB1;RBBP4;RBL2;RBX1;RFC1;RFC2;RFC3;RFC4;RFC5;RPA1;RPA2;RPA3;RPS27A;SEM1;SKP1;SKP2;SMC1A;SMC3;STAG1;STAG2;TFDP1;TFDP2;UBA52;UBB;UBC;UBE2C;UBE2D1;UBE2E1;UBE2S;WAPL;WEE1                                                                                                                                                                                                                                                                                                                                                                                                                                                                                                                                                                                      </td></tr>\n",
       "</tbody>\n",
       "</table>\n"
      ],
      "text/latex": [
       "A data.table: 6 × 13\n",
       "\\begin{tabular}{lllllllllllll}\n",
       " fg & bg & timepoint & aifi\\_cell\\_type & id & pathway & NES & nomP & adjP & n\\_leadingEdge & n\\_pathway\\_genes & leadingEdge & pathway\\_genes\\\\\n",
       " <chr> & <chr> & <int> & <chr> & <chr> & <chr> & <dbl> & <dbl> & <dbl> & <int> & <int> & <chr> & <chr>\\\\\n",
       "\\hline\n",
       "\t bortezomib & dmso & 24 & t\\_cd4\\_cm & R-HSA-8951664 & Neddylation                             & 2.371437 & 4.469096e-22 & 4.446751e-19 & 168 & 247 & PSMD1;PSMD14;VCP;UBC;PSMD11;NPLOC4;PSMB2;PSMD7;PSMD12;PSMD2;PSMA6;PSMB1;PSMD4;PSMC6;PSMC1;SQSTM1;PSMB7;PSMC2;PSMD3;PSMB3;PSMB4;PSMA7;PSMA3;PSMD6;PSME4;PSMA5;PSMD13;PSMB6;SEM1;PSMC4;PSMA4;PSMA2;PSMB5;UBB;PSMC3;PSMA1;NFE2L2;PSMC5;PSMD8                                                               & AMER1;ANKRD9;ASB1;ASB10;ASB11;ASB12;ASB13;ASB14;ASB15;ASB16;ASB17;ASB18;ASB2;ASB3;ASB4;ASB5;ASB6;ASB7;ASB8;ASB9;BIRC5;BRCA1;BTBD1;BTBD6;BTRC;CAND1;CCDC22;CCDC8;CCNF;CDKN1A;CISH;COMMD1;COMMD10;COMMD2;COMMD3;COMMD4;COMMD5;COMMD6;COMMD7;COMMD8;COMMD9;COPS2;COPS3;COPS4;COPS5;COPS6;COPS7A;COPS7B;COPS8;CUL1;CUL2;CUL3;CUL4A;CUL4B;CUL5;CUL7;CUL9;DCAF10;DCAF11;DCAF13;DCAF16;DCAF17;DCAF4;DCAF5;DCAF6;DCAF7;DCAF8;DCUN1D1;DCUN1D2;DCUN1D3;DCUN1D4;DCUN1D5;DDA1;DDB1;DDB2;DPP3;DTL;ELOB;ELOC;EPAS1;ERCC8;FBXL12;FBXL13;FBXL14;FBXL15;FBXL16;FBXL18;FBXL19;FBXL20;FBXL21P;FBXL22;FBXL3;FBXL4;FBXL5;FBXL7;FBXL8;FBXO10;FBXO11;FBXO15;FBXO17;FBXO2;FBXO21;FBXO22;FBXO27;FBXO30;FBXO31;FBXO32;FBXO4;FBXO40;FBXO41;FBXO44;FBXO6;FBXO7;FBXO9;FBXW10;FBXW11;FBXW12;FBXW2;FBXW4;FBXW5;FBXW7;FBXW8;FBXW9;FEM1A;FEM1B;FEM1C;GAN;GPS1;HIF1A;HIF3A;KBTBD13;KBTBD6;KBTBD7;KBTBD8;KCTD6;KCTD7;KEAP1;KLHL11;KLHL13;KLHL2;KLHL20;KLHL21;KLHL22;KLHL25;KLHL3;KLHL41;KLHL42;KLHL5;KLHL9;LMO7;LRR1;LRRC41;MUL1;NAE1;NEDD8;NEURL2;NFE2L2;NPLOC4;NUB1;OBSL1;PALB2;PSMA1;PSMA2;PSMA3;PSMA4;PSMA5;PSMA6;PSMA7;PSMA8;PSMB1;PSMB10;PSMB11;PSMB2;PSMB3;PSMB4;PSMB5;PSMB6;PSMB7;PSMB8;PSMB9;PSMC1;PSMC2;PSMC3;PSMC4;PSMC5;PSMC6;PSMD1;PSMD10;PSMD11;PSMD12;PSMD13;PSMD14;PSMD2;PSMD3;PSMD4;PSMD5;PSMD6;PSMD7;PSMD8;PSMD9;PSME1;PSME2;PSME3;PSME4;PSMF1;PUM2;RBBP5;RBBP7;RBX1;RFWD2;RNF7;RPS27A;SEM1;SENP8;SKP1;SKP2;SOCS2;SOCS3;SOCS5;SOCS6;SPSB1;SPSB2;SPSB3;SPSB4;SQSTM1;TULP4;UBA3;UBA52;UBB;UBC;UBD;UBE2D1;UBE2D2;UBE2D3;UBE2F;UBE2M;UBXN7;UCHL3;UFD1L;VCP;VHL;WDR5;WDTC1;WSB1;WSB2;X;ZBTB16\\\\\n",
       "\t bortezomib & dmso & 24 & t\\_cd4\\_cm & R-HSA-5619115 & Disorders of transmembrane transporters & 2.366473 & 3.186736e-19 & 6.341605e-17 & 106 & 177 & PSMD1;PSMD14;VCP;UBC;PSMD11;PSMB2;PSMD7;PSMD12;PSMD2;PSMA6;PSMB1;PSMD4;PSMC6;PSMC1;PSMB7;PSMC2;PSMD3;PSMB3;PSMB4;PSMA7;PSMA3;PSMD6;PSME4;PSMA5;PSMD13;PSMB6;SEM1;PSMC4;PSMA4;PSMA2;NUP153;PSMB5;UBB;PSMC3;RANBP2;PSMA1;NUP205;PSMC5;PSMD8                                                               & AAAS;ABCA1;ABCA12;ABCA3;ABCB11;ABCB4;ABCB6;ABCC2;ABCC6;ABCC8;ABCC9;ABCD1;ABCD4;ABCG5;ABCG8;APOA1;AVP;AVPR1A;AVPR1B;AVPR2;BSG;CFTR;CP;DERL1;DERL2;DERL3;ERLEC1;ERLIN1;ERLIN2;GCK;GCKR;HEPH;HK1;KCNJ11;LMBRD1;NDC1;NUP107;NUP133;NUP153;NUP155;NUP160;NUP188;NUP205;NUP210;NUP214;NUP35;NUP37;NUP42;NUP43;NUP50;NUP54;NUP58;NUP62;NUP85;NUP88;NUP93;NUP98;OS9;POM121;POM121C;PSMA1;PSMA2;PSMA3;PSMA4;PSMA5;PSMA6;PSMA7;PSMA8;PSMB1;PSMB10;PSMB11;PSMB2;PSMB3;PSMB4;PSMB5;PSMB6;PSMB7;PSMB8;PSMB9;PSMC1;PSMC2;PSMC3;PSMC4;PSMC5;PSMC6;PSMD1;PSMD10;PSMD11;PSMD12;PSMD13;PSMD14;PSMD2;PSMD3;PSMD4;PSMD5;PSMD6;PSMD7;PSMD8;PSMD9;PSME1;PSME2;PSME3;PSME4;PSMF1;RAE1;RANBP2;RHAG;RNF185;RNF5;RPS27A;SEC13;SEH1L;SEL1L;SEM1;SLC11A2;SLC12A1;SLC12A3;SLC12A6;SLC16A1;SLC17A5;SLC17A8;SLC1A1;SLC1A3;SLC20A2;SLC22A12;SLC22A18;SLC22A5;SLC24A1;SLC24A4;SLC24A5;SLC26A2;SLC26A3;SLC26A4;SLC27A4;SLC29A3;SLC2A1;SLC2A10;SLC2A2;SLC2A9;SLC33A1;SLC34A1;SLC34A2;SLC34A3;SLC35A1;SLC35A2;SLC35A3;SLC35C1;SLC36A2;SLC39A4;SLC3A1;SLC3A2;SLC40A1;SLC4A1;SLC4A4;SLC5A1;SLC5A2;SLC5A5;SLC5A7;SLC6A14;SLC6A18;SLC6A19;SLC6A2;SLC6A20;SLC6A3;SLC6A5;SLC7A7;SLC7A9;SLC9A6;SLC9A9;SLCO1B1;SLCO1B3;SLCO2A1;TPR;UBA52;UBB;UBC;VCP                                                                                                                                                                                                                                                                                                                                                               \\\\\n",
       "\t bortezomib & dmso & 24 & t\\_cd4\\_cm & R-HSA-6807070 & PTEN Regulation                         & 2.345639 & 5.914341e-18 & 7.355961e-16 & 115 & 158 & PSMD1;PSMD14;UBC;PSMD11;PSMB2;PSMD7;PSMD12;PSMD2;PSMA6;PSMB1;PSMD4;PSMC6;PSMC1;PSMB7;PSMC2;PSMD3;PSMB3;TNKS;PSMB4;PSMA7;PSMA3;PSMD6;PSME4;PSMA5;PSMD13;PSMB6;SEM1;PSMC4;PSMA4;PSMA2;RHEB;PSMB5;UBB;PSMC3;RPTOR;PSMA1;PSMC5;PSMD8                                                                        & AGO1;AGO2;AGO3;AGO4;AKT1;AKT2;AKT3;ATF2;ATN1;BMI1;CBX2;CBX4;CBX6;CBX8;CHD3;CHD4;CNOT6L;CSNK2A1;CSNK2A2;CSNK2B;EED;EGR1;EZH2;FRK;GATAD2A;GATAD2B;HDAC1;HDAC2;HDAC3;HDAC5;HDAC7;JUN;KDM1A;LAMTOR1;LAMTOR2;LAMTOR3;LAMTOR4;LAMTOR5;MAF1;MAPK1;MAPK3;MBD3;MECOM;MIR106A;MIR106B;MIR17;MIR19A;MIR19B1;MIR19B2;MIR205;MIR20A;MIR20B;MIR21;MIR214;MIR22;MIR25;MIR26A1;MIR26A2;MIR93;MKRN1;MLST8;MOV10;MTA1;MTA2;MTA3;MTOR;NEDD4;NR2E1;OTUD3;PHC1;PHC2;PHC3;PML;PPARG;PREX2;PSMA1;PSMA2;PSMA3;PSMA4;PSMA5;PSMA6;PSMA7;PSMA8;PSMB1;PSMB10;PSMB11;PSMB2;PSMB3;PSMB4;PSMB5;PSMB6;PSMB7;PSMB8;PSMB9;PSMC1;PSMC2;PSMC3;PSMC4;PSMC5;PSMC6;PSMD1;PSMD10;PSMD11;PSMD12;PSMD13;PSMD14;PSMD2;PSMD3;PSMD4;PSMD5;PSMD6;PSMD7;PSMD8;PSMD9;PSME1;PSME2;PSME3;PSME4;PSMF1;PTEN;PTENP1;RBBP4;RBBP7;RCOR1;REST;RHEB;RING1;RNF146;RNF2;RPS27A;RPTOR;RRAGA;RRAGB;RRAGC;RRAGD;SALL4;SCMH1;SEM1;SLC38A9;SNAI1;SNAI2;STUB1;SUZ12;TNKS;TNKS2;TNRC6A;TNRC6B;TNRC6C;TP53;TRIM27;UBA52;UBB;UBC;USP13;USP7;VAPA;WWP2;XIAP                                                                                                                                                                                                                                                                                                                                                                                                                                                                                                                                                                                 \\\\\n",
       "\t bortezomib & dmso & 24 & t\\_cd4\\_cm & R-HSA-9711123 & Cellular response to chemical stress    & 2.344432 & 1.998389e-19 & 5.200410e-17 & 150 & 204 & PSMD1;PSMD14;VCP;UBC;PSMD11;NPLOC4;PSMB2;TXNRD1;PSMD7;PSMD12;PSMD2;PSMA6;PSMB1;PSMD4;PSMC6;PSMC1;TXN;SQSTM1;PSMB7;PSMC2;TALDO1;MAFG;PSMD3;PSMB3;PSMB4;PSMA7;PSMA3;PSMD6;PSME4;GSR;PSMA5;PSMD13;PRDX1;BACH1;GCLM;PSMB6;SEM1;PSMC4;PSMA4;PSMA2;SOD1;GSTP1;PSMB5;UBB;PSMC3;PSMA1;NFE2L2;PSMC5;PSMD8;NDUFA4 & ABCC1;AKT1;AKT2;AKT3;ALB;AMER1;AQP8;ATF4;ATOX1;ATP7A;BACH1;BLVRA;BLVRB;BRCA1;BTRC;CARM1;CAT;CCS;CDKN1A;CDKN2A;CHD9;COX11;COX14;COX16;COX18;COX19;COX20;COX4I1;COX5A;COX5B;COX6A1;COX6B1;COX6C;COX7A2L;COX7B;COX7C;COX8A;CREBBP;CSNK2A1;CSNK2A2;CSNK2B;CUL1;CUL3;CYBA;CYBB;CYCS;DPP3;EP300;ERO1A;FABP1;FBXL17;G6PD;GCLC;GCLM;GPX1;GPX2;GPX3;GPX5;GPX6;GPX7;GPX8;GSK3B;GSR;GSTA1;GSTA3;GSTP1;HBA1;HBB;HDAC3;HELZ2;HM13;HMOX1;HMOX2;IDH1;KEAP1;LRPPRC;MAFG;MAFK;MAP1LC3B;ME1;MED1;MIR155;MIR196A1;MIR98;MIRLET7B;MIRLET7C;MT-CO1;MT-CO2;MT-CO3;MUL1;MYC;NCF1;NCF2;NCF4;NCOA1;NCOA2;NCOA6;NCOR1;NCOR2;NDUFA4;NFE2L2;NLRP3;NOTCH1;NOX4;NOX5;NPLOC4;NQO1;NUDT2;P4HB;PALB2;PGD;PPARA;PRDX1;PRDX2;PRDX3;PRDX5;PRDX6;PRKCD;PSMA1;PSMA2;PSMA3;PSMA4;PSMA5;PSMA6;PSMA7;PSMA8;PSMB1;PSMB10;PSMB11;PSMB2;PSMB3;PSMB4;PSMB5;PSMB6;PSMB7;PSMB8;PSMB9;PSMC1;PSMC2;PSMC3;PSMC4;PSMC5;PSMC6;PSMD1;PSMD10;PSMD11;PSMD12;PSMD13;PSMD14;PSMD2;PSMD3;PSMD4;PSMD5;PSMD6;PSMD7;PSMD8;PSMD9;PSME1;PSME2;PSME3;PSME4;PSMF1;PTK6;RBX1;RPS27A;RXRA;SCO1;SCO2;SEM1;SESN1;SESN2;SIN3A;SIN3B;SKP1;SKP2;SLC7A11;SMARCD3;SOD1;SOD2;SOD3;SQSTM1;SRXN1;STAP2;STAT3;SURF1;TACO1;TALDO1;TBL1X;TBL1XR1;TGS1;TKT;TRIM21;TXN;TXN2;TXNIP;TXNRD1;TXNRD2;UBA52;UBB;UBC;UBXN7;UFD1L;VCP;X                                                                                                                                                                                                                                                                                                                          \\\\\n",
       "\t bortezomib & dmso & 24 & t\\_cd4\\_cm & R-HSA-453274  & Mitotic G2-G2/M phases                  & 2.341302 & 2.282474e-18 & 3.785102e-16 & 142 & 200 & PSMD1;PSMD14;UBC;PSMD11;PSMB2;PSMD7;PSMD12;PSMD2;HSP90AA1;PSMA6;PSMB1;E2F3;PSMD4;PSMC6;PSMC1;PSMB7;PSMC2;PSMD3;PSMB3;PSMB4;PSMA7;PSMA3;PSMD6;HSP90AB1;PSME4;PSMA5;PSMD13;PSMB6;SEM1;PSMC4;PSMA4;PSMA2;PSMB5;UBB;PSMC3;LIN54;CEP290;PSMA1;PAFAH1B1;PSMC5;PSMD8;TUBA1C                                    & ACTR1A;AJUBA;AKAP9;ALMS1;AURKA;BORA;BTRC;CCNA1;CCNA2;CCNB1;CCNB2;CCNH;CCP110;CDC25A;CDC25B;CDC25C;CDK1;CDK11A;CDK11B;CDK2;CDK5RAP2;CDK7;CDKN1A;CENPF;CENPJ;CEP131;CEP135;CEP152;CEP164;CEP192;CEP250;CEP290;CEP41;CEP43;CEP57;CEP63;CEP70;CEP72;CEP76;CEP78;CETN2;CKAP5;CLASP1;CNTRL;CSNK1D;CSNK1E;CUL1;DCTN1;DCTN2;DCTN3;DYNC1H1;DYNC1I2;DYNLL1;E2F1;E2F3;EP300;FBXL18;FBXL7;FBXW11;FKBPL;FOXM1;GTSE1;HAUS1;HAUS2;HAUS3;HAUS4;HAUS5;HAUS6;HAUS7;HAUS8;HMMR;HSP90AA1;HSP90AB1;LCMT1;LIN37;LIN52;LIN54;LIN9;MAPRE1;MNAT1;MYBL2;MZT1;MZT2A;MZT2B;NDE1;NEDD1;NEK2;NINL;NME7;ODF2;OFD1;OPTN;PAFAH1B1;PCM1;PCNT;PHLDA1;PKMYT1;PLK1;PLK4;PPME1;PPP1CB;PPP1R12A;PPP1R12B;PPP2CA;PPP2CB;PPP2R1A;PPP2R1B;PPP2R2A;PPP2R3B;PRKACA;PRKAR2B;PSMA1;PSMA2;PSMA3;PSMA4;PSMA5;PSMA6;PSMA7;PSMA8;PSMB1;PSMB10;PSMB11;PSMB2;PSMB3;PSMB4;PSMB5;PSMB6;PSMB7;PSMB8;PSMB9;PSMC1;PSMC2;PSMC3;PSMC4;PSMC5;PSMC6;PSMD1;PSMD10;PSMD11;PSMD12;PSMD13;PSMD14;PSMD2;PSMD3;PSMD4;PSMD5;PSMD6;PSMD7;PSMD8;PSMD9;PSME1;PSME2;PSME3;PSME4;PSMF1;RAB8A;RBBP4;RBX1;RPS27A;SDCCAG8;SEM1;SFI1;SKP1;SSNA1;TP53;TPX2;TUBA1A;TUBA1B;TUBA1C;TUBA3C;TUBA3D;TUBA3E;TUBA4A;TUBA4B;TUBA8;TUBAL3;TUBB;TUBB1;TUBB2A;TUBB2B;TUBB3;TUBB4A;TUBB4B;TUBB6;TUBB8;TUBB8B;TUBG1;TUBG2;TUBGCP2;TUBGCP3;TUBGCP4;TUBGCP5;TUBGCP6;UBA52;UBB;UBC;WEE1;XPO1;YWHAE;YWHAG                                                                                                                                                                                                                                                              \\\\\n",
       "\t bortezomib & dmso & 24 & t\\_cd4\\_cm & R-HSA-69242   & S Phase                                 & 2.338360 & 3.136656e-16 & 1.300405e-14 & 117 & 163 & PSMD1;PSMD14;UBC;PSMD11;PSMB2;PSMD7;PSMD12;PSMD2;PSMA6;PSMB1;PSMD4;PSMC6;PSMC1;PSMB7;PSMC2;PSMD3;PSMB3;PSMB4;PSMA7;PSMA3;PSMD6;PSME4;PSMA5;PSMD13;TFDP2;ORC3;PSMB6;SEM1;PSMC4;PSMA4;PSMA2;PSMB5;UBB;PSMC3;LIN54;PSMA1;PSMC5;PSMD8;ANAPC10                                                               & AKT1;AKT2;AKT3;ANAPC1;ANAPC10;ANAPC11;ANAPC15;ANAPC16;ANAPC2;ANAPC4;ANAPC5;ANAPC7;CABLES1;CCNA1;CCNA2;CCND1;CCNE1;CCNE2;CCNH;CDC16;CDC23;CDC25A;CDC25B;CDC26;CDC27;CDC45;CDC6;CDCA5;CDK2;CDK4;CDK7;CDKN1A;CDKN1B;CDT1;CKS1B;CUL1;DNA2;E2F1;E2F4;E2F5;ESCO1;ESCO2;FEN1;FZR1;GINS1;GINS2;GINS3;GINS4;GMNN;GSK3B;LIG1;LIN37;LIN52;LIN54;LIN9;MAX;MCM2;MCM3;MCM4;MCM5;MCM6;MCM7;MCM8;MNAT1;MYC;ORC1;ORC2;ORC3;ORC4;ORC5;ORC6;PCNA;PDS5A;PDS5B;POLA1;POLA2;POLD1;POLD2;POLD3;POLD4;POLE;POLE2;POLE3;POLE4;PRIM1;PRIM2;PSMA1;PSMA2;PSMA3;PSMA4;PSMA5;PSMA6;PSMA7;PSMA8;PSMB1;PSMB10;PSMB11;PSMB2;PSMB3;PSMB4;PSMB5;PSMB6;PSMB7;PSMB8;PSMB9;PSMC1;PSMC2;PSMC3;PSMC4;PSMC5;PSMC6;PSMD1;PSMD10;PSMD11;PSMD12;PSMD13;PSMD14;PSMD2;PSMD3;PSMD4;PSMD5;PSMD6;PSMD7;PSMD8;PSMD9;PSME1;PSME2;PSME3;PSME4;PSMF1;PTK6;RAD21;RB1;RBBP4;RBL2;RBX1;RFC1;RFC2;RFC3;RFC4;RFC5;RPA1;RPA2;RPA3;RPS27A;SEM1;SKP1;SKP2;SMC1A;SMC3;STAG1;STAG2;TFDP1;TFDP2;UBA52;UBB;UBC;UBE2C;UBE2D1;UBE2E1;UBE2S;WAPL;WEE1                                                                                                                                                                                                                                                                                                                                                                                                                                                                                                                                                                                      \\\\\n",
       "\\end{tabular}\n"
      ],
      "text/markdown": [
       "\n",
       "A data.table: 6 × 13\n",
       "\n",
       "| fg &lt;chr&gt; | bg &lt;chr&gt; | timepoint &lt;int&gt; | aifi_cell_type &lt;chr&gt; | id &lt;chr&gt; | pathway &lt;chr&gt; | NES &lt;dbl&gt; | nomP &lt;dbl&gt; | adjP &lt;dbl&gt; | n_leadingEdge &lt;int&gt; | n_pathway_genes &lt;int&gt; | leadingEdge &lt;chr&gt; | pathway_genes &lt;chr&gt; |\n",
       "|---|---|---|---|---|---|---|---|---|---|---|---|---|\n",
       "| bortezomib | dmso | 24 | t_cd4_cm | R-HSA-8951664 | Neddylation                             | 2.371437 | 4.469096e-22 | 4.446751e-19 | 168 | 247 | PSMD1;PSMD14;VCP;UBC;PSMD11;NPLOC4;PSMB2;PSMD7;PSMD12;PSMD2;PSMA6;PSMB1;PSMD4;PSMC6;PSMC1;SQSTM1;PSMB7;PSMC2;PSMD3;PSMB3;PSMB4;PSMA7;PSMA3;PSMD6;PSME4;PSMA5;PSMD13;PSMB6;SEM1;PSMC4;PSMA4;PSMA2;PSMB5;UBB;PSMC3;PSMA1;NFE2L2;PSMC5;PSMD8                                                               | AMER1;ANKRD9;ASB1;ASB10;ASB11;ASB12;ASB13;ASB14;ASB15;ASB16;ASB17;ASB18;ASB2;ASB3;ASB4;ASB5;ASB6;ASB7;ASB8;ASB9;BIRC5;BRCA1;BTBD1;BTBD6;BTRC;CAND1;CCDC22;CCDC8;CCNF;CDKN1A;CISH;COMMD1;COMMD10;COMMD2;COMMD3;COMMD4;COMMD5;COMMD6;COMMD7;COMMD8;COMMD9;COPS2;COPS3;COPS4;COPS5;COPS6;COPS7A;COPS7B;COPS8;CUL1;CUL2;CUL3;CUL4A;CUL4B;CUL5;CUL7;CUL9;DCAF10;DCAF11;DCAF13;DCAF16;DCAF17;DCAF4;DCAF5;DCAF6;DCAF7;DCAF8;DCUN1D1;DCUN1D2;DCUN1D3;DCUN1D4;DCUN1D5;DDA1;DDB1;DDB2;DPP3;DTL;ELOB;ELOC;EPAS1;ERCC8;FBXL12;FBXL13;FBXL14;FBXL15;FBXL16;FBXL18;FBXL19;FBXL20;FBXL21P;FBXL22;FBXL3;FBXL4;FBXL5;FBXL7;FBXL8;FBXO10;FBXO11;FBXO15;FBXO17;FBXO2;FBXO21;FBXO22;FBXO27;FBXO30;FBXO31;FBXO32;FBXO4;FBXO40;FBXO41;FBXO44;FBXO6;FBXO7;FBXO9;FBXW10;FBXW11;FBXW12;FBXW2;FBXW4;FBXW5;FBXW7;FBXW8;FBXW9;FEM1A;FEM1B;FEM1C;GAN;GPS1;HIF1A;HIF3A;KBTBD13;KBTBD6;KBTBD7;KBTBD8;KCTD6;KCTD7;KEAP1;KLHL11;KLHL13;KLHL2;KLHL20;KLHL21;KLHL22;KLHL25;KLHL3;KLHL41;KLHL42;KLHL5;KLHL9;LMO7;LRR1;LRRC41;MUL1;NAE1;NEDD8;NEURL2;NFE2L2;NPLOC4;NUB1;OBSL1;PALB2;PSMA1;PSMA2;PSMA3;PSMA4;PSMA5;PSMA6;PSMA7;PSMA8;PSMB1;PSMB10;PSMB11;PSMB2;PSMB3;PSMB4;PSMB5;PSMB6;PSMB7;PSMB8;PSMB9;PSMC1;PSMC2;PSMC3;PSMC4;PSMC5;PSMC6;PSMD1;PSMD10;PSMD11;PSMD12;PSMD13;PSMD14;PSMD2;PSMD3;PSMD4;PSMD5;PSMD6;PSMD7;PSMD8;PSMD9;PSME1;PSME2;PSME3;PSME4;PSMF1;PUM2;RBBP5;RBBP7;RBX1;RFWD2;RNF7;RPS27A;SEM1;SENP8;SKP1;SKP2;SOCS2;SOCS3;SOCS5;SOCS6;SPSB1;SPSB2;SPSB3;SPSB4;SQSTM1;TULP4;UBA3;UBA52;UBB;UBC;UBD;UBE2D1;UBE2D2;UBE2D3;UBE2F;UBE2M;UBXN7;UCHL3;UFD1L;VCP;VHL;WDR5;WDTC1;WSB1;WSB2;X;ZBTB16 |\n",
       "| bortezomib | dmso | 24 | t_cd4_cm | R-HSA-5619115 | Disorders of transmembrane transporters | 2.366473 | 3.186736e-19 | 6.341605e-17 | 106 | 177 | PSMD1;PSMD14;VCP;UBC;PSMD11;PSMB2;PSMD7;PSMD12;PSMD2;PSMA6;PSMB1;PSMD4;PSMC6;PSMC1;PSMB7;PSMC2;PSMD3;PSMB3;PSMB4;PSMA7;PSMA3;PSMD6;PSME4;PSMA5;PSMD13;PSMB6;SEM1;PSMC4;PSMA4;PSMA2;NUP153;PSMB5;UBB;PSMC3;RANBP2;PSMA1;NUP205;PSMC5;PSMD8                                                               | AAAS;ABCA1;ABCA12;ABCA3;ABCB11;ABCB4;ABCB6;ABCC2;ABCC6;ABCC8;ABCC9;ABCD1;ABCD4;ABCG5;ABCG8;APOA1;AVP;AVPR1A;AVPR1B;AVPR2;BSG;CFTR;CP;DERL1;DERL2;DERL3;ERLEC1;ERLIN1;ERLIN2;GCK;GCKR;HEPH;HK1;KCNJ11;LMBRD1;NDC1;NUP107;NUP133;NUP153;NUP155;NUP160;NUP188;NUP205;NUP210;NUP214;NUP35;NUP37;NUP42;NUP43;NUP50;NUP54;NUP58;NUP62;NUP85;NUP88;NUP93;NUP98;OS9;POM121;POM121C;PSMA1;PSMA2;PSMA3;PSMA4;PSMA5;PSMA6;PSMA7;PSMA8;PSMB1;PSMB10;PSMB11;PSMB2;PSMB3;PSMB4;PSMB5;PSMB6;PSMB7;PSMB8;PSMB9;PSMC1;PSMC2;PSMC3;PSMC4;PSMC5;PSMC6;PSMD1;PSMD10;PSMD11;PSMD12;PSMD13;PSMD14;PSMD2;PSMD3;PSMD4;PSMD5;PSMD6;PSMD7;PSMD8;PSMD9;PSME1;PSME2;PSME3;PSME4;PSMF1;RAE1;RANBP2;RHAG;RNF185;RNF5;RPS27A;SEC13;SEH1L;SEL1L;SEM1;SLC11A2;SLC12A1;SLC12A3;SLC12A6;SLC16A1;SLC17A5;SLC17A8;SLC1A1;SLC1A3;SLC20A2;SLC22A12;SLC22A18;SLC22A5;SLC24A1;SLC24A4;SLC24A5;SLC26A2;SLC26A3;SLC26A4;SLC27A4;SLC29A3;SLC2A1;SLC2A10;SLC2A2;SLC2A9;SLC33A1;SLC34A1;SLC34A2;SLC34A3;SLC35A1;SLC35A2;SLC35A3;SLC35C1;SLC36A2;SLC39A4;SLC3A1;SLC3A2;SLC40A1;SLC4A1;SLC4A4;SLC5A1;SLC5A2;SLC5A5;SLC5A7;SLC6A14;SLC6A18;SLC6A19;SLC6A2;SLC6A20;SLC6A3;SLC6A5;SLC7A7;SLC7A9;SLC9A6;SLC9A9;SLCO1B1;SLCO1B3;SLCO2A1;TPR;UBA52;UBB;UBC;VCP                                                                                                                                                                                                                                                                                                                                                                |\n",
       "| bortezomib | dmso | 24 | t_cd4_cm | R-HSA-6807070 | PTEN Regulation                         | 2.345639 | 5.914341e-18 | 7.355961e-16 | 115 | 158 | PSMD1;PSMD14;UBC;PSMD11;PSMB2;PSMD7;PSMD12;PSMD2;PSMA6;PSMB1;PSMD4;PSMC6;PSMC1;PSMB7;PSMC2;PSMD3;PSMB3;TNKS;PSMB4;PSMA7;PSMA3;PSMD6;PSME4;PSMA5;PSMD13;PSMB6;SEM1;PSMC4;PSMA4;PSMA2;RHEB;PSMB5;UBB;PSMC3;RPTOR;PSMA1;PSMC5;PSMD8                                                                        | AGO1;AGO2;AGO3;AGO4;AKT1;AKT2;AKT3;ATF2;ATN1;BMI1;CBX2;CBX4;CBX6;CBX8;CHD3;CHD4;CNOT6L;CSNK2A1;CSNK2A2;CSNK2B;EED;EGR1;EZH2;FRK;GATAD2A;GATAD2B;HDAC1;HDAC2;HDAC3;HDAC5;HDAC7;JUN;KDM1A;LAMTOR1;LAMTOR2;LAMTOR3;LAMTOR4;LAMTOR5;MAF1;MAPK1;MAPK3;MBD3;MECOM;MIR106A;MIR106B;MIR17;MIR19A;MIR19B1;MIR19B2;MIR205;MIR20A;MIR20B;MIR21;MIR214;MIR22;MIR25;MIR26A1;MIR26A2;MIR93;MKRN1;MLST8;MOV10;MTA1;MTA2;MTA3;MTOR;NEDD4;NR2E1;OTUD3;PHC1;PHC2;PHC3;PML;PPARG;PREX2;PSMA1;PSMA2;PSMA3;PSMA4;PSMA5;PSMA6;PSMA7;PSMA8;PSMB1;PSMB10;PSMB11;PSMB2;PSMB3;PSMB4;PSMB5;PSMB6;PSMB7;PSMB8;PSMB9;PSMC1;PSMC2;PSMC3;PSMC4;PSMC5;PSMC6;PSMD1;PSMD10;PSMD11;PSMD12;PSMD13;PSMD14;PSMD2;PSMD3;PSMD4;PSMD5;PSMD6;PSMD7;PSMD8;PSMD9;PSME1;PSME2;PSME3;PSME4;PSMF1;PTEN;PTENP1;RBBP4;RBBP7;RCOR1;REST;RHEB;RING1;RNF146;RNF2;RPS27A;RPTOR;RRAGA;RRAGB;RRAGC;RRAGD;SALL4;SCMH1;SEM1;SLC38A9;SNAI1;SNAI2;STUB1;SUZ12;TNKS;TNKS2;TNRC6A;TNRC6B;TNRC6C;TP53;TRIM27;UBA52;UBB;UBC;USP13;USP7;VAPA;WWP2;XIAP                                                                                                                                                                                                                                                                                                                                                                                                                                                                                                                                                                                  |\n",
       "| bortezomib | dmso | 24 | t_cd4_cm | R-HSA-9711123 | Cellular response to chemical stress    | 2.344432 | 1.998389e-19 | 5.200410e-17 | 150 | 204 | PSMD1;PSMD14;VCP;UBC;PSMD11;NPLOC4;PSMB2;TXNRD1;PSMD7;PSMD12;PSMD2;PSMA6;PSMB1;PSMD4;PSMC6;PSMC1;TXN;SQSTM1;PSMB7;PSMC2;TALDO1;MAFG;PSMD3;PSMB3;PSMB4;PSMA7;PSMA3;PSMD6;PSME4;GSR;PSMA5;PSMD13;PRDX1;BACH1;GCLM;PSMB6;SEM1;PSMC4;PSMA4;PSMA2;SOD1;GSTP1;PSMB5;UBB;PSMC3;PSMA1;NFE2L2;PSMC5;PSMD8;NDUFA4 | ABCC1;AKT1;AKT2;AKT3;ALB;AMER1;AQP8;ATF4;ATOX1;ATP7A;BACH1;BLVRA;BLVRB;BRCA1;BTRC;CARM1;CAT;CCS;CDKN1A;CDKN2A;CHD9;COX11;COX14;COX16;COX18;COX19;COX20;COX4I1;COX5A;COX5B;COX6A1;COX6B1;COX6C;COX7A2L;COX7B;COX7C;COX8A;CREBBP;CSNK2A1;CSNK2A2;CSNK2B;CUL1;CUL3;CYBA;CYBB;CYCS;DPP3;EP300;ERO1A;FABP1;FBXL17;G6PD;GCLC;GCLM;GPX1;GPX2;GPX3;GPX5;GPX6;GPX7;GPX8;GSK3B;GSR;GSTA1;GSTA3;GSTP1;HBA1;HBB;HDAC3;HELZ2;HM13;HMOX1;HMOX2;IDH1;KEAP1;LRPPRC;MAFG;MAFK;MAP1LC3B;ME1;MED1;MIR155;MIR196A1;MIR98;MIRLET7B;MIRLET7C;MT-CO1;MT-CO2;MT-CO3;MUL1;MYC;NCF1;NCF2;NCF4;NCOA1;NCOA2;NCOA6;NCOR1;NCOR2;NDUFA4;NFE2L2;NLRP3;NOTCH1;NOX4;NOX5;NPLOC4;NQO1;NUDT2;P4HB;PALB2;PGD;PPARA;PRDX1;PRDX2;PRDX3;PRDX5;PRDX6;PRKCD;PSMA1;PSMA2;PSMA3;PSMA4;PSMA5;PSMA6;PSMA7;PSMA8;PSMB1;PSMB10;PSMB11;PSMB2;PSMB3;PSMB4;PSMB5;PSMB6;PSMB7;PSMB8;PSMB9;PSMC1;PSMC2;PSMC3;PSMC4;PSMC5;PSMC6;PSMD1;PSMD10;PSMD11;PSMD12;PSMD13;PSMD14;PSMD2;PSMD3;PSMD4;PSMD5;PSMD6;PSMD7;PSMD8;PSMD9;PSME1;PSME2;PSME3;PSME4;PSMF1;PTK6;RBX1;RPS27A;RXRA;SCO1;SCO2;SEM1;SESN1;SESN2;SIN3A;SIN3B;SKP1;SKP2;SLC7A11;SMARCD3;SOD1;SOD2;SOD3;SQSTM1;SRXN1;STAP2;STAT3;SURF1;TACO1;TALDO1;TBL1X;TBL1XR1;TGS1;TKT;TRIM21;TXN;TXN2;TXNIP;TXNRD1;TXNRD2;UBA52;UBB;UBC;UBXN7;UFD1L;VCP;X                                                                                                                                                                                                                                                                                                                           |\n",
       "| bortezomib | dmso | 24 | t_cd4_cm | R-HSA-453274  | Mitotic G2-G2/M phases                  | 2.341302 | 2.282474e-18 | 3.785102e-16 | 142 | 200 | PSMD1;PSMD14;UBC;PSMD11;PSMB2;PSMD7;PSMD12;PSMD2;HSP90AA1;PSMA6;PSMB1;E2F3;PSMD4;PSMC6;PSMC1;PSMB7;PSMC2;PSMD3;PSMB3;PSMB4;PSMA7;PSMA3;PSMD6;HSP90AB1;PSME4;PSMA5;PSMD13;PSMB6;SEM1;PSMC4;PSMA4;PSMA2;PSMB5;UBB;PSMC3;LIN54;CEP290;PSMA1;PAFAH1B1;PSMC5;PSMD8;TUBA1C                                    | ACTR1A;AJUBA;AKAP9;ALMS1;AURKA;BORA;BTRC;CCNA1;CCNA2;CCNB1;CCNB2;CCNH;CCP110;CDC25A;CDC25B;CDC25C;CDK1;CDK11A;CDK11B;CDK2;CDK5RAP2;CDK7;CDKN1A;CENPF;CENPJ;CEP131;CEP135;CEP152;CEP164;CEP192;CEP250;CEP290;CEP41;CEP43;CEP57;CEP63;CEP70;CEP72;CEP76;CEP78;CETN2;CKAP5;CLASP1;CNTRL;CSNK1D;CSNK1E;CUL1;DCTN1;DCTN2;DCTN3;DYNC1H1;DYNC1I2;DYNLL1;E2F1;E2F3;EP300;FBXL18;FBXL7;FBXW11;FKBPL;FOXM1;GTSE1;HAUS1;HAUS2;HAUS3;HAUS4;HAUS5;HAUS6;HAUS7;HAUS8;HMMR;HSP90AA1;HSP90AB1;LCMT1;LIN37;LIN52;LIN54;LIN9;MAPRE1;MNAT1;MYBL2;MZT1;MZT2A;MZT2B;NDE1;NEDD1;NEK2;NINL;NME7;ODF2;OFD1;OPTN;PAFAH1B1;PCM1;PCNT;PHLDA1;PKMYT1;PLK1;PLK4;PPME1;PPP1CB;PPP1R12A;PPP1R12B;PPP2CA;PPP2CB;PPP2R1A;PPP2R1B;PPP2R2A;PPP2R3B;PRKACA;PRKAR2B;PSMA1;PSMA2;PSMA3;PSMA4;PSMA5;PSMA6;PSMA7;PSMA8;PSMB1;PSMB10;PSMB11;PSMB2;PSMB3;PSMB4;PSMB5;PSMB6;PSMB7;PSMB8;PSMB9;PSMC1;PSMC2;PSMC3;PSMC4;PSMC5;PSMC6;PSMD1;PSMD10;PSMD11;PSMD12;PSMD13;PSMD14;PSMD2;PSMD3;PSMD4;PSMD5;PSMD6;PSMD7;PSMD8;PSMD9;PSME1;PSME2;PSME3;PSME4;PSMF1;RAB8A;RBBP4;RBX1;RPS27A;SDCCAG8;SEM1;SFI1;SKP1;SSNA1;TP53;TPX2;TUBA1A;TUBA1B;TUBA1C;TUBA3C;TUBA3D;TUBA3E;TUBA4A;TUBA4B;TUBA8;TUBAL3;TUBB;TUBB1;TUBB2A;TUBB2B;TUBB3;TUBB4A;TUBB4B;TUBB6;TUBB8;TUBB8B;TUBG1;TUBG2;TUBGCP2;TUBGCP3;TUBGCP4;TUBGCP5;TUBGCP6;UBA52;UBB;UBC;WEE1;XPO1;YWHAE;YWHAG                                                                                                                                                                                                                                                               |\n",
       "| bortezomib | dmso | 24 | t_cd4_cm | R-HSA-69242   | S Phase                                 | 2.338360 | 3.136656e-16 | 1.300405e-14 | 117 | 163 | PSMD1;PSMD14;UBC;PSMD11;PSMB2;PSMD7;PSMD12;PSMD2;PSMA6;PSMB1;PSMD4;PSMC6;PSMC1;PSMB7;PSMC2;PSMD3;PSMB3;PSMB4;PSMA7;PSMA3;PSMD6;PSME4;PSMA5;PSMD13;TFDP2;ORC3;PSMB6;SEM1;PSMC4;PSMA4;PSMA2;PSMB5;UBB;PSMC3;LIN54;PSMA1;PSMC5;PSMD8;ANAPC10                                                               | AKT1;AKT2;AKT3;ANAPC1;ANAPC10;ANAPC11;ANAPC15;ANAPC16;ANAPC2;ANAPC4;ANAPC5;ANAPC7;CABLES1;CCNA1;CCNA2;CCND1;CCNE1;CCNE2;CCNH;CDC16;CDC23;CDC25A;CDC25B;CDC26;CDC27;CDC45;CDC6;CDCA5;CDK2;CDK4;CDK7;CDKN1A;CDKN1B;CDT1;CKS1B;CUL1;DNA2;E2F1;E2F4;E2F5;ESCO1;ESCO2;FEN1;FZR1;GINS1;GINS2;GINS3;GINS4;GMNN;GSK3B;LIG1;LIN37;LIN52;LIN54;LIN9;MAX;MCM2;MCM3;MCM4;MCM5;MCM6;MCM7;MCM8;MNAT1;MYC;ORC1;ORC2;ORC3;ORC4;ORC5;ORC6;PCNA;PDS5A;PDS5B;POLA1;POLA2;POLD1;POLD2;POLD3;POLD4;POLE;POLE2;POLE3;POLE4;PRIM1;PRIM2;PSMA1;PSMA2;PSMA3;PSMA4;PSMA5;PSMA6;PSMA7;PSMA8;PSMB1;PSMB10;PSMB11;PSMB2;PSMB3;PSMB4;PSMB5;PSMB6;PSMB7;PSMB8;PSMB9;PSMC1;PSMC2;PSMC3;PSMC4;PSMC5;PSMC6;PSMD1;PSMD10;PSMD11;PSMD12;PSMD13;PSMD14;PSMD2;PSMD3;PSMD4;PSMD5;PSMD6;PSMD7;PSMD8;PSMD9;PSME1;PSME2;PSME3;PSME4;PSMF1;PTK6;RAD21;RB1;RBBP4;RBL2;RBX1;RFC1;RFC2;RFC3;RFC4;RFC5;RPA1;RPA2;RPA3;RPS27A;SEM1;SKP1;SKP2;SMC1A;SMC3;STAG1;STAG2;TFDP1;TFDP2;UBA52;UBB;UBC;UBE2C;UBE2D1;UBE2E1;UBE2S;WAPL;WEE1                                                                                                                                                                                                                                                                                                                                                                                                                                                                                                                                                                                       |\n",
       "\n"
      ],
      "text/plain": [
       "  fg         bg   timepoint aifi_cell_type id           \n",
       "1 bortezomib dmso 24        t_cd4_cm       R-HSA-8951664\n",
       "2 bortezomib dmso 24        t_cd4_cm       R-HSA-5619115\n",
       "3 bortezomib dmso 24        t_cd4_cm       R-HSA-6807070\n",
       "4 bortezomib dmso 24        t_cd4_cm       R-HSA-9711123\n",
       "5 bortezomib dmso 24        t_cd4_cm       R-HSA-453274 \n",
       "6 bortezomib dmso 24        t_cd4_cm       R-HSA-69242  \n",
       "  pathway                                 NES      nomP         adjP        \n",
       "1 Neddylation                             2.371437 4.469096e-22 4.446751e-19\n",
       "2 Disorders of transmembrane transporters 2.366473 3.186736e-19 6.341605e-17\n",
       "3 PTEN Regulation                         2.345639 5.914341e-18 7.355961e-16\n",
       "4 Cellular response to chemical stress    2.344432 1.998389e-19 5.200410e-17\n",
       "5 Mitotic G2-G2/M phases                  2.341302 2.282474e-18 3.785102e-16\n",
       "6 S Phase                                 2.338360 3.136656e-16 1.300405e-14\n",
       "  n_leadingEdge n_pathway_genes\n",
       "1 168           247            \n",
       "2 106           177            \n",
       "3 115           158            \n",
       "4 150           204            \n",
       "5 142           200            \n",
       "6 117           163            \n",
       "  leadingEdge                                                                                                                                                                                                                                                                                            \n",
       "1 PSMD1;PSMD14;VCP;UBC;PSMD11;NPLOC4;PSMB2;PSMD7;PSMD12;PSMD2;PSMA6;PSMB1;PSMD4;PSMC6;PSMC1;SQSTM1;PSMB7;PSMC2;PSMD3;PSMB3;PSMB4;PSMA7;PSMA3;PSMD6;PSME4;PSMA5;PSMD13;PSMB6;SEM1;PSMC4;PSMA4;PSMA2;PSMB5;UBB;PSMC3;PSMA1;NFE2L2;PSMC5;PSMD8                                                              \n",
       "2 PSMD1;PSMD14;VCP;UBC;PSMD11;PSMB2;PSMD7;PSMD12;PSMD2;PSMA6;PSMB1;PSMD4;PSMC6;PSMC1;PSMB7;PSMC2;PSMD3;PSMB3;PSMB4;PSMA7;PSMA3;PSMD6;PSME4;PSMA5;PSMD13;PSMB6;SEM1;PSMC4;PSMA4;PSMA2;NUP153;PSMB5;UBB;PSMC3;RANBP2;PSMA1;NUP205;PSMC5;PSMD8                                                              \n",
       "3 PSMD1;PSMD14;UBC;PSMD11;PSMB2;PSMD7;PSMD12;PSMD2;PSMA6;PSMB1;PSMD4;PSMC6;PSMC1;PSMB7;PSMC2;PSMD3;PSMB3;TNKS;PSMB4;PSMA7;PSMA3;PSMD6;PSME4;PSMA5;PSMD13;PSMB6;SEM1;PSMC4;PSMA4;PSMA2;RHEB;PSMB5;UBB;PSMC3;RPTOR;PSMA1;PSMC5;PSMD8                                                                       \n",
       "4 PSMD1;PSMD14;VCP;UBC;PSMD11;NPLOC4;PSMB2;TXNRD1;PSMD7;PSMD12;PSMD2;PSMA6;PSMB1;PSMD4;PSMC6;PSMC1;TXN;SQSTM1;PSMB7;PSMC2;TALDO1;MAFG;PSMD3;PSMB3;PSMB4;PSMA7;PSMA3;PSMD6;PSME4;GSR;PSMA5;PSMD13;PRDX1;BACH1;GCLM;PSMB6;SEM1;PSMC4;PSMA4;PSMA2;SOD1;GSTP1;PSMB5;UBB;PSMC3;PSMA1;NFE2L2;PSMC5;PSMD8;NDUFA4\n",
       "5 PSMD1;PSMD14;UBC;PSMD11;PSMB2;PSMD7;PSMD12;PSMD2;HSP90AA1;PSMA6;PSMB1;E2F3;PSMD4;PSMC6;PSMC1;PSMB7;PSMC2;PSMD3;PSMB3;PSMB4;PSMA7;PSMA3;PSMD6;HSP90AB1;PSME4;PSMA5;PSMD13;PSMB6;SEM1;PSMC4;PSMA4;PSMA2;PSMB5;UBB;PSMC3;LIN54;CEP290;PSMA1;PAFAH1B1;PSMC5;PSMD8;TUBA1C                                   \n",
       "6 PSMD1;PSMD14;UBC;PSMD11;PSMB2;PSMD7;PSMD12;PSMD2;PSMA6;PSMB1;PSMD4;PSMC6;PSMC1;PSMB7;PSMC2;PSMD3;PSMB3;PSMB4;PSMA7;PSMA3;PSMD6;PSME4;PSMA5;PSMD13;TFDP2;ORC3;PSMB6;SEM1;PSMC4;PSMA4;PSMA2;PSMB5;UBB;PSMC3;LIN54;PSMA1;PSMC5;PSMD8;ANAPC10                                                              \n",
       "  pathway_genes                                                                                                                                                                                                                                                                                                                                                                                                                                                                                                                                                                                                                                                                                                                                                                                                                                                                                                                                                                                                                                                                                                                                                                                                                                                                                                                                                                                                                                                                                                                                                          \n",
       "1 AMER1;ANKRD9;ASB1;ASB10;ASB11;ASB12;ASB13;ASB14;ASB15;ASB16;ASB17;ASB18;ASB2;ASB3;ASB4;ASB5;ASB6;ASB7;ASB8;ASB9;BIRC5;BRCA1;BTBD1;BTBD6;BTRC;CAND1;CCDC22;CCDC8;CCNF;CDKN1A;CISH;COMMD1;COMMD10;COMMD2;COMMD3;COMMD4;COMMD5;COMMD6;COMMD7;COMMD8;COMMD9;COPS2;COPS3;COPS4;COPS5;COPS6;COPS7A;COPS7B;COPS8;CUL1;CUL2;CUL3;CUL4A;CUL4B;CUL5;CUL7;CUL9;DCAF10;DCAF11;DCAF13;DCAF16;DCAF17;DCAF4;DCAF5;DCAF6;DCAF7;DCAF8;DCUN1D1;DCUN1D2;DCUN1D3;DCUN1D4;DCUN1D5;DDA1;DDB1;DDB2;DPP3;DTL;ELOB;ELOC;EPAS1;ERCC8;FBXL12;FBXL13;FBXL14;FBXL15;FBXL16;FBXL18;FBXL19;FBXL20;FBXL21P;FBXL22;FBXL3;FBXL4;FBXL5;FBXL7;FBXL8;FBXO10;FBXO11;FBXO15;FBXO17;FBXO2;FBXO21;FBXO22;FBXO27;FBXO30;FBXO31;FBXO32;FBXO4;FBXO40;FBXO41;FBXO44;FBXO6;FBXO7;FBXO9;FBXW10;FBXW11;FBXW12;FBXW2;FBXW4;FBXW5;FBXW7;FBXW8;FBXW9;FEM1A;FEM1B;FEM1C;GAN;GPS1;HIF1A;HIF3A;KBTBD13;KBTBD6;KBTBD7;KBTBD8;KCTD6;KCTD7;KEAP1;KLHL11;KLHL13;KLHL2;KLHL20;KLHL21;KLHL22;KLHL25;KLHL3;KLHL41;KLHL42;KLHL5;KLHL9;LMO7;LRR1;LRRC41;MUL1;NAE1;NEDD8;NEURL2;NFE2L2;NPLOC4;NUB1;OBSL1;PALB2;PSMA1;PSMA2;PSMA3;PSMA4;PSMA5;PSMA6;PSMA7;PSMA8;PSMB1;PSMB10;PSMB11;PSMB2;PSMB3;PSMB4;PSMB5;PSMB6;PSMB7;PSMB8;PSMB9;PSMC1;PSMC2;PSMC3;PSMC4;PSMC5;PSMC6;PSMD1;PSMD10;PSMD11;PSMD12;PSMD13;PSMD14;PSMD2;PSMD3;PSMD4;PSMD5;PSMD6;PSMD7;PSMD8;PSMD9;PSME1;PSME2;PSME3;PSME4;PSMF1;PUM2;RBBP5;RBBP7;RBX1;RFWD2;RNF7;RPS27A;SEM1;SENP8;SKP1;SKP2;SOCS2;SOCS3;SOCS5;SOCS6;SPSB1;SPSB2;SPSB3;SPSB4;SQSTM1;TULP4;UBA3;UBA52;UBB;UBC;UBD;UBE2D1;UBE2D2;UBE2D3;UBE2F;UBE2M;UBXN7;UCHL3;UFD1L;VCP;VHL;WDR5;WDTC1;WSB1;WSB2;X;ZBTB16\n",
       "2 AAAS;ABCA1;ABCA12;ABCA3;ABCB11;ABCB4;ABCB6;ABCC2;ABCC6;ABCC8;ABCC9;ABCD1;ABCD4;ABCG5;ABCG8;APOA1;AVP;AVPR1A;AVPR1B;AVPR2;BSG;CFTR;CP;DERL1;DERL2;DERL3;ERLEC1;ERLIN1;ERLIN2;GCK;GCKR;HEPH;HK1;KCNJ11;LMBRD1;NDC1;NUP107;NUP133;NUP153;NUP155;NUP160;NUP188;NUP205;NUP210;NUP214;NUP35;NUP37;NUP42;NUP43;NUP50;NUP54;NUP58;NUP62;NUP85;NUP88;NUP93;NUP98;OS9;POM121;POM121C;PSMA1;PSMA2;PSMA3;PSMA4;PSMA5;PSMA6;PSMA7;PSMA8;PSMB1;PSMB10;PSMB11;PSMB2;PSMB3;PSMB4;PSMB5;PSMB6;PSMB7;PSMB8;PSMB9;PSMC1;PSMC2;PSMC3;PSMC4;PSMC5;PSMC6;PSMD1;PSMD10;PSMD11;PSMD12;PSMD13;PSMD14;PSMD2;PSMD3;PSMD4;PSMD5;PSMD6;PSMD7;PSMD8;PSMD9;PSME1;PSME2;PSME3;PSME4;PSMF1;RAE1;RANBP2;RHAG;RNF185;RNF5;RPS27A;SEC13;SEH1L;SEL1L;SEM1;SLC11A2;SLC12A1;SLC12A3;SLC12A6;SLC16A1;SLC17A5;SLC17A8;SLC1A1;SLC1A3;SLC20A2;SLC22A12;SLC22A18;SLC22A5;SLC24A1;SLC24A4;SLC24A5;SLC26A2;SLC26A3;SLC26A4;SLC27A4;SLC29A3;SLC2A1;SLC2A10;SLC2A2;SLC2A9;SLC33A1;SLC34A1;SLC34A2;SLC34A3;SLC35A1;SLC35A2;SLC35A3;SLC35C1;SLC36A2;SLC39A4;SLC3A1;SLC3A2;SLC40A1;SLC4A1;SLC4A4;SLC5A1;SLC5A2;SLC5A5;SLC5A7;SLC6A14;SLC6A18;SLC6A19;SLC6A2;SLC6A20;SLC6A3;SLC6A5;SLC7A7;SLC7A9;SLC9A6;SLC9A9;SLCO1B1;SLCO1B3;SLCO2A1;TPR;UBA52;UBB;UBC;VCP                                                                                                                                                                                                                                                                                                                                                               \n",
       "3 AGO1;AGO2;AGO3;AGO4;AKT1;AKT2;AKT3;ATF2;ATN1;BMI1;CBX2;CBX4;CBX6;CBX8;CHD3;CHD4;CNOT6L;CSNK2A1;CSNK2A2;CSNK2B;EED;EGR1;EZH2;FRK;GATAD2A;GATAD2B;HDAC1;HDAC2;HDAC3;HDAC5;HDAC7;JUN;KDM1A;LAMTOR1;LAMTOR2;LAMTOR3;LAMTOR4;LAMTOR5;MAF1;MAPK1;MAPK3;MBD3;MECOM;MIR106A;MIR106B;MIR17;MIR19A;MIR19B1;MIR19B2;MIR205;MIR20A;MIR20B;MIR21;MIR214;MIR22;MIR25;MIR26A1;MIR26A2;MIR93;MKRN1;MLST8;MOV10;MTA1;MTA2;MTA3;MTOR;NEDD4;NR2E1;OTUD3;PHC1;PHC2;PHC3;PML;PPARG;PREX2;PSMA1;PSMA2;PSMA3;PSMA4;PSMA5;PSMA6;PSMA7;PSMA8;PSMB1;PSMB10;PSMB11;PSMB2;PSMB3;PSMB4;PSMB5;PSMB6;PSMB7;PSMB8;PSMB9;PSMC1;PSMC2;PSMC3;PSMC4;PSMC5;PSMC6;PSMD1;PSMD10;PSMD11;PSMD12;PSMD13;PSMD14;PSMD2;PSMD3;PSMD4;PSMD5;PSMD6;PSMD7;PSMD8;PSMD9;PSME1;PSME2;PSME3;PSME4;PSMF1;PTEN;PTENP1;RBBP4;RBBP7;RCOR1;REST;RHEB;RING1;RNF146;RNF2;RPS27A;RPTOR;RRAGA;RRAGB;RRAGC;RRAGD;SALL4;SCMH1;SEM1;SLC38A9;SNAI1;SNAI2;STUB1;SUZ12;TNKS;TNKS2;TNRC6A;TNRC6B;TNRC6C;TP53;TRIM27;UBA52;UBB;UBC;USP13;USP7;VAPA;WWP2;XIAP                                                                                                                                                                                                                                                                                                                                                                                                                                                                                                                                                                                 \n",
       "4 ABCC1;AKT1;AKT2;AKT3;ALB;AMER1;AQP8;ATF4;ATOX1;ATP7A;BACH1;BLVRA;BLVRB;BRCA1;BTRC;CARM1;CAT;CCS;CDKN1A;CDKN2A;CHD9;COX11;COX14;COX16;COX18;COX19;COX20;COX4I1;COX5A;COX5B;COX6A1;COX6B1;COX6C;COX7A2L;COX7B;COX7C;COX8A;CREBBP;CSNK2A1;CSNK2A2;CSNK2B;CUL1;CUL3;CYBA;CYBB;CYCS;DPP3;EP300;ERO1A;FABP1;FBXL17;G6PD;GCLC;GCLM;GPX1;GPX2;GPX3;GPX5;GPX6;GPX7;GPX8;GSK3B;GSR;GSTA1;GSTA3;GSTP1;HBA1;HBB;HDAC3;HELZ2;HM13;HMOX1;HMOX2;IDH1;KEAP1;LRPPRC;MAFG;MAFK;MAP1LC3B;ME1;MED1;MIR155;MIR196A1;MIR98;MIRLET7B;MIRLET7C;MT-CO1;MT-CO2;MT-CO3;MUL1;MYC;NCF1;NCF2;NCF4;NCOA1;NCOA2;NCOA6;NCOR1;NCOR2;NDUFA4;NFE2L2;NLRP3;NOTCH1;NOX4;NOX5;NPLOC4;NQO1;NUDT2;P4HB;PALB2;PGD;PPARA;PRDX1;PRDX2;PRDX3;PRDX5;PRDX6;PRKCD;PSMA1;PSMA2;PSMA3;PSMA4;PSMA5;PSMA6;PSMA7;PSMA8;PSMB1;PSMB10;PSMB11;PSMB2;PSMB3;PSMB4;PSMB5;PSMB6;PSMB7;PSMB8;PSMB9;PSMC1;PSMC2;PSMC3;PSMC4;PSMC5;PSMC6;PSMD1;PSMD10;PSMD11;PSMD12;PSMD13;PSMD14;PSMD2;PSMD3;PSMD4;PSMD5;PSMD6;PSMD7;PSMD8;PSMD9;PSME1;PSME2;PSME3;PSME4;PSMF1;PTK6;RBX1;RPS27A;RXRA;SCO1;SCO2;SEM1;SESN1;SESN2;SIN3A;SIN3B;SKP1;SKP2;SLC7A11;SMARCD3;SOD1;SOD2;SOD3;SQSTM1;SRXN1;STAP2;STAT3;SURF1;TACO1;TALDO1;TBL1X;TBL1XR1;TGS1;TKT;TRIM21;TXN;TXN2;TXNIP;TXNRD1;TXNRD2;UBA52;UBB;UBC;UBXN7;UFD1L;VCP;X                                                                                                                                                                                                                                                                                                                          \n",
       "5 ACTR1A;AJUBA;AKAP9;ALMS1;AURKA;BORA;BTRC;CCNA1;CCNA2;CCNB1;CCNB2;CCNH;CCP110;CDC25A;CDC25B;CDC25C;CDK1;CDK11A;CDK11B;CDK2;CDK5RAP2;CDK7;CDKN1A;CENPF;CENPJ;CEP131;CEP135;CEP152;CEP164;CEP192;CEP250;CEP290;CEP41;CEP43;CEP57;CEP63;CEP70;CEP72;CEP76;CEP78;CETN2;CKAP5;CLASP1;CNTRL;CSNK1D;CSNK1E;CUL1;DCTN1;DCTN2;DCTN3;DYNC1H1;DYNC1I2;DYNLL1;E2F1;E2F3;EP300;FBXL18;FBXL7;FBXW11;FKBPL;FOXM1;GTSE1;HAUS1;HAUS2;HAUS3;HAUS4;HAUS5;HAUS6;HAUS7;HAUS8;HMMR;HSP90AA1;HSP90AB1;LCMT1;LIN37;LIN52;LIN54;LIN9;MAPRE1;MNAT1;MYBL2;MZT1;MZT2A;MZT2B;NDE1;NEDD1;NEK2;NINL;NME7;ODF2;OFD1;OPTN;PAFAH1B1;PCM1;PCNT;PHLDA1;PKMYT1;PLK1;PLK4;PPME1;PPP1CB;PPP1R12A;PPP1R12B;PPP2CA;PPP2CB;PPP2R1A;PPP2R1B;PPP2R2A;PPP2R3B;PRKACA;PRKAR2B;PSMA1;PSMA2;PSMA3;PSMA4;PSMA5;PSMA6;PSMA7;PSMA8;PSMB1;PSMB10;PSMB11;PSMB2;PSMB3;PSMB4;PSMB5;PSMB6;PSMB7;PSMB8;PSMB9;PSMC1;PSMC2;PSMC3;PSMC4;PSMC5;PSMC6;PSMD1;PSMD10;PSMD11;PSMD12;PSMD13;PSMD14;PSMD2;PSMD3;PSMD4;PSMD5;PSMD6;PSMD7;PSMD8;PSMD9;PSME1;PSME2;PSME3;PSME4;PSMF1;RAB8A;RBBP4;RBX1;RPS27A;SDCCAG8;SEM1;SFI1;SKP1;SSNA1;TP53;TPX2;TUBA1A;TUBA1B;TUBA1C;TUBA3C;TUBA3D;TUBA3E;TUBA4A;TUBA4B;TUBA8;TUBAL3;TUBB;TUBB1;TUBB2A;TUBB2B;TUBB3;TUBB4A;TUBB4B;TUBB6;TUBB8;TUBB8B;TUBG1;TUBG2;TUBGCP2;TUBGCP3;TUBGCP4;TUBGCP5;TUBGCP6;UBA52;UBB;UBC;WEE1;XPO1;YWHAE;YWHAG                                                                                                                                                                                                                                                              \n",
       "6 AKT1;AKT2;AKT3;ANAPC1;ANAPC10;ANAPC11;ANAPC15;ANAPC16;ANAPC2;ANAPC4;ANAPC5;ANAPC7;CABLES1;CCNA1;CCNA2;CCND1;CCNE1;CCNE2;CCNH;CDC16;CDC23;CDC25A;CDC25B;CDC26;CDC27;CDC45;CDC6;CDCA5;CDK2;CDK4;CDK7;CDKN1A;CDKN1B;CDT1;CKS1B;CUL1;DNA2;E2F1;E2F4;E2F5;ESCO1;ESCO2;FEN1;FZR1;GINS1;GINS2;GINS3;GINS4;GMNN;GSK3B;LIG1;LIN37;LIN52;LIN54;LIN9;MAX;MCM2;MCM3;MCM4;MCM5;MCM6;MCM7;MCM8;MNAT1;MYC;ORC1;ORC2;ORC3;ORC4;ORC5;ORC6;PCNA;PDS5A;PDS5B;POLA1;POLA2;POLD1;POLD2;POLD3;POLD4;POLE;POLE2;POLE3;POLE4;PRIM1;PRIM2;PSMA1;PSMA2;PSMA3;PSMA4;PSMA5;PSMA6;PSMA7;PSMA8;PSMB1;PSMB10;PSMB11;PSMB2;PSMB3;PSMB4;PSMB5;PSMB6;PSMB7;PSMB8;PSMB9;PSMC1;PSMC2;PSMC3;PSMC4;PSMC5;PSMC6;PSMD1;PSMD10;PSMD11;PSMD12;PSMD13;PSMD14;PSMD2;PSMD3;PSMD4;PSMD5;PSMD6;PSMD7;PSMD8;PSMD9;PSME1;PSME2;PSME3;PSME4;PSMF1;PTK6;RAD21;RB1;RBBP4;RBL2;RBX1;RFC1;RFC2;RFC3;RFC4;RFC5;RPA1;RPA2;RPA3;RPS27A;SEM1;SKP1;SKP2;SMC1A;SMC3;STAG1;STAG2;TFDP1;TFDP2;UBA52;UBB;UBC;UBE2C;UBE2D1;UBE2E1;UBE2S;WAPL;WEE1                                                                                                                                                                                                                                                                                                                                                                                                                                                                                                                                                                                      "
      ]
     },
     "metadata": {},
     "output_type": "display_data"
    }
   ],
   "source": [
    "head(formatted_fgsea_res)"
   ]
  },
  {
   "cell_type": "markdown",
   "id": "e757adbd-73a5-4c50-967d-1a4d4af27cd0",
   "metadata": {},
   "source": [
    "## Write output file\n",
    "\n",
    "Write the metadata as a .csv for later use. We remove `row.names` and set `quote = FALSE` to simplify the outputs and increase compatibility with other tools."
   ]
  },
  {
   "cell_type": "code",
   "execution_count": 58,
   "id": "7f06f592-348d-43f3-8d41-b438d1ad9a5a",
   "metadata": {},
   "outputs": [],
   "source": [
    "write.csv(\n",
    "    formatted_fgsea_res,\n",
    "    paste0(\"output/all_reactome_gsea_res_\", Sys.Date(), \".csv\"),\n",
    "    row.names = FALSE,\n",
    "    quote = FALSE\n",
    ")"
   ]
  },
  {
   "cell_type": "markdown",
   "id": "fb5bbd5b-f2c7-4a5a-ba38-1753a9900d19",
   "metadata": {},
   "source": [
    "## Store results in HISE\n",
    "\n",
    "Finally, we store the output file in our Collaboration Space for later retrieval and use. We need to provide the UUID for our Collaboration Space (aka `studySpaceId`), as well as a title for this step in our analysis process.\n",
    "\n",
    "The hise function `uploadFiles()` also requires the FileIDs from the original fileset for reference, which we used above when the DEG results were retrieved (`file_uuid`)"
   ]
  },
  {
   "cell_type": "code",
   "execution_count": 59,
   "id": "2f7272dd-4299-456d-af4a-019ff6e72ed7",
   "metadata": {},
   "outputs": [],
   "source": [
    "study_space_uuid <- \"40df6403-29f0-4b45-ab7d-f46d420c422e\"\n",
    "title <- paste(\"VRd TEA-seq Reactome GSEA Analysis\", Sys.Date())"
   ]
  },
  {
   "cell_type": "code",
   "execution_count": 60,
   "id": "8799ad6c-8daa-4ee6-94ea-6cff0abcacb5",
   "metadata": {},
   "outputs": [],
   "source": [
    "out_files <- list.files(\n",
    "    \"output\",\n",
    "    full.names = TRUE\n",
    ")\n",
    "out_list <- as.list(out_files)"
   ]
  },
  {
   "cell_type": "code",
   "execution_count": 61,
   "id": "54db404a-8886-4f44-95df-b017c0590ec0",
   "metadata": {},
   "outputs": [
    {
     "data": {
      "text/html": [
       "<dl>\n",
       "\t<dt>$files</dt>\n",
       "\t\t<dd><ol>\n",
       "\t<li>'output/all_reactome_gsea_res_2023-09-06.csv'</li>\n",
       "\t<li>'output/reactome_gene_sets_2023-09-06.rds'</li>\n",
       "</ol>\n",
       "</dd>\n",
       "\t<dt>$traceId</dt>\n",
       "\t\t<dd>'a693d09a-dbd2-4771-9841-586778a61b48'</dd>\n",
       "</dl>\n"
      ],
      "text/latex": [
       "\\begin{description}\n",
       "\\item[\\$files] \\begin{enumerate}\n",
       "\\item 'output/all\\_reactome\\_gsea\\_res\\_2023-09-06.csv'\n",
       "\\item 'output/reactome\\_gene\\_sets\\_2023-09-06.rds'\n",
       "\\end{enumerate}\n",
       "\n",
       "\\item[\\$traceId] 'a693d09a-dbd2-4771-9841-586778a61b48'\n",
       "\\end{description}\n"
      ],
      "text/markdown": [
       "$files\n",
       ":   1. 'output/all_reactome_gsea_res_2023-09-06.csv'\n",
       "2. 'output/reactome_gene_sets_2023-09-06.rds'\n",
       "\n",
       "\n",
       "\n",
       "$traceId\n",
       ":   'a693d09a-dbd2-4771-9841-586778a61b48'\n",
       "\n",
       "\n"
      ],
      "text/plain": [
       "$files\n",
       "$files[[1]]\n",
       "[1] \"output/all_reactome_gsea_res_2023-09-06.csv\"\n",
       "\n",
       "$files[[2]]\n",
       "[1] \"output/reactome_gene_sets_2023-09-06.rds\"\n",
       "\n",
       "\n",
       "$traceId\n",
       "[1] \"a693d09a-dbd2-4771-9841-586778a61b48\"\n"
      ]
     },
     "metadata": {},
     "output_type": "display_data"
    }
   ],
   "source": [
    "uploadFiles(\n",
    "    files = out_list,\n",
    "    studySpaceId = study_space_uuid,\n",
    "    title = title,\n",
    "    inputFileIds = file_uuid,\n",
    "    store = \"project\",\n",
    "    doPrompt = FALSE\n",
    ")"
   ]
  },
  {
   "cell_type": "code",
   "execution_count": 62,
   "id": "13c2b1a4-228a-43aa-abf6-8226ef9439c5",
   "metadata": {},
   "outputs": [
    {
     "data": {
      "text/plain": [
       "R version 4.3.1 (2023-06-16)\n",
       "Platform: x86_64-conda-linux-gnu (64-bit)\n",
       "Running under: Ubuntu 20.04.6 LTS\n",
       "\n",
       "Matrix products: default\n",
       "BLAS/LAPACK: /opt/conda/lib/libopenblasp-r0.3.23.so;  LAPACK version 3.11.0\n",
       "\n",
       "locale:\n",
       " [1] LC_CTYPE=C.UTF-8       LC_NUMERIC=C           LC_TIME=C.UTF-8       \n",
       " [4] LC_COLLATE=C.UTF-8     LC_MONETARY=C.UTF-8    LC_MESSAGES=C.UTF-8   \n",
       " [7] LC_PAPER=C.UTF-8       LC_NAME=C              LC_ADDRESS=C          \n",
       "[10] LC_TELEPHONE=C         LC_MEASUREMENT=C.UTF-8 LC_IDENTIFICATION=C   \n",
       "\n",
       "time zone: Etc/UTC\n",
       "tzcode source: system (glibc)\n",
       "\n",
       "attached base packages:\n",
       "[1] stats     graphics  grDevices utils     datasets  methods   base     \n",
       "\n",
       "other attached packages:\n",
       "[1] fgsea_1.26.0 tibble_3.2.1 dplyr_1.1.2  purrr_1.0.2  hise_2.16.0 \n",
       "\n",
       "loaded via a namespace (and not attached):\n",
       " [1] Matrix_1.6-1        gtable_0.3.3        jsonlite_1.8.7     \n",
       " [4] compiler_4.3.1      crayon_1.5.2        tidyselect_1.2.0   \n",
       " [7] Rcpp_1.0.11         IRdisplay_1.1       bitops_1.0-7       \n",
       "[10] assertthat_0.2.1    parallel_4.3.1      scales_1.2.1       \n",
       "[13] uuid_1.1-1          BiocParallel_1.34.2 fastmap_1.1.1      \n",
       "[16] IRkernel_1.3.2      lattice_0.21-8      ggplot2_3.4.3      \n",
       "[19] R6_2.5.1            generics_0.1.3      curl_5.0.2         \n",
       "[22] munsell_0.5.0       pillar_1.9.0        rlang_1.1.1        \n",
       "[25] fastmatch_1.1-3     utf8_1.2.3          repr_1.1.6.9000    \n",
       "[28] cli_3.6.1           withr_2.5.0         magrittr_2.0.3     \n",
       "[31] digest_0.6.33       grid_4.3.1          base64enc_0.1-3    \n",
       "[34] cowplot_1.1.1       pbdZMQ_0.3-9        lifecycle_1.0.3    \n",
       "[37] vctrs_0.6.3         data.table_1.14.8   evaluate_0.21      \n",
       "[40] glue_1.6.2          codetools_0.2-19    RCurl_1.98-1.12    \n",
       "[43] fansi_1.0.4         colorspace_2.1-0    httr_1.4.7         \n",
       "[46] tools_4.3.1         pkgconfig_2.0.3     htmltools_0.5.6    "
      ]
     },
     "metadata": {},
     "output_type": "display_data"
    }
   ],
   "source": [
    "sessionInfo()"
   ]
  },
  {
   "cell_type": "code",
   "execution_count": null,
   "id": "10411f4a-5a16-4602-9fe6-9a2cf98245be",
   "metadata": {},
   "outputs": [],
   "source": []
  }
 ],
 "metadata": {
  "kernelspec": {
   "display_name": "R 4",
   "language": "R",
   "name": "ir4"
  },
  "language_info": {
   "codemirror_mode": "r",
   "file_extension": ".r",
   "mimetype": "text/x-r-source",
   "name": "R",
   "pygments_lexer": "r",
   "version": "4.3.1"
  }
 },
 "nbformat": 4,
 "nbformat_minor": 5
}
