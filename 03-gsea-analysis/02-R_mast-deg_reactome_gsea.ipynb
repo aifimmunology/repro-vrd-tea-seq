{
 "cells": [
  {
   "cell_type": "markdown",
   "id": "34819f8b-5c43-49c7-91bc-422faacb5d4d",
   "metadata": {},
   "source": [
    "# GSEA of MAST DEGs against Reactome Pathways\n",
    "\n",
    "Similar to the analysis for Hallmark Pathways, we'll also perform enrichment tests against Reactome Pathways, which are much more mechanism-focused. These pathways are also hierarchically related, which is important for interpretation of enrichment results. We'll assemble both the gene sets and their relationships for later visualization so that we don't misinterpret related gene sets."
   ]
  },
  {
   "cell_type": "markdown",
   "id": "d3ec3027-721a-44c9-9562-b5ba8c8ed801",
   "metadata": {},
   "source": [
    "## Load packages\n",
    "\n",
    "hise: The Human Immune System Explorer R SDK package  \n",
    "purrr: Functional programming tools  \n",
    "dplyr: Dataframe handling functions  \n",
    "tibble: modern data.frame structures  \n",
    "fgsea: Fast Gene Set Enrichment Analysis  "
   ]
  },
  {
   "cell_type": "code",
   "execution_count": 1,
   "id": "57881815-5109-4c12-972a-8e75ef302eff",
   "metadata": {
    "tags": []
   },
   "outputs": [],
   "source": [
    "quiet_library <- function(...) { suppressPackageStartupMessages(library(...)) }\n",
    "quiet_library(hise)\n",
    "quiet_library(purrr)\n",
    "quiet_library(dplyr)\n",
    "quiet_library(tibble)\n",
    "quiet_library(fgsea)"
   ]
  },
  {
   "cell_type": "markdown",
   "id": "5e1cf814-5e3e-40df-b02a-81c734299ac6",
   "metadata": {},
   "source": [
    "## Download Reactome gene sets\n",
    "\n",
    "We'll obtain the Reactome pathways and relationships provided by reactome.org"
   ]
  },
  {
   "cell_type": "code",
   "execution_count": 2,
   "id": "0e47d417-6e8e-4ecb-a690-f58bd0d82024",
   "metadata": {
    "tags": []
   },
   "outputs": [],
   "source": [
    "# Pathway identifiers, names, and species\n",
    "download.file(\n",
    "    \"https://reactome.org/download/current/ReactomePathways.txt\", \n",
    "    \"ReactomePathways.txt\"\n",
    ")\n",
    "# Pathway gene sets\n",
    "download.file(\n",
    "    \"https://reactome.org/download/current/ReactomePathways.gmt.zip\", \n",
    "    \"ReactomePathways.gmt.zip\"\n",
    ")\n",
    "system(\"unzip ReactomePathways.gmt.zip\")\n",
    "# Pathway relationships\n",
    "download.file(\n",
    "    \"https://reactome.org/download/current/ReactomePathwaysRelation.txt\",\n",
    "    \"ReactomePathwaysRelation.txt\"\n",
    ")"
   ]
  },
  {
   "cell_type": "markdown",
   "id": "4f0a8dfa-5f5d-44f2-a296-074e18dd8dad",
   "metadata": {},
   "source": [
    "## Read, filter, and structure gene sets and relationships"
   ]
  },
  {
   "cell_type": "markdown",
   "id": "a5a1a20d-b021-40cc-a0bd-595a3cf73cbc",
   "metadata": {},
   "source": [
    "### Read and convert .gmt\n",
    "\n",
    "The gene set GMT file contains one gene set per line, with the set name and id followed by the list of genes.\n",
    "\n",
    "We'll read these lines, split on tabs, and then use the split data to build a tibble in which each row has a name, id, and gene list."
   ]
  },
  {
   "cell_type": "code",
   "execution_count": 3,
   "id": "a0848558-64e3-4cd5-b4b9-849d3299ee1b",
   "metadata": {
    "tags": []
   },
   "outputs": [],
   "source": [
    "sets <- readLines(\"ReactomePathways.gmt\")\n",
    "sets <- strsplit(sets, split = \"\\t\")"
   ]
  },
  {
   "cell_type": "code",
   "execution_count": 4,
   "id": "fef44fa1-6bdc-447b-923e-0e3d9484027f",
   "metadata": {
    "tags": []
   },
   "outputs": [],
   "source": [
    "sets <- map_dfr(\n",
    "    sets,\n",
    "    function(v) {\n",
    "        tibble(\n",
    "            name = map_chr(sets, 1),\n",
    "            id = map_chr(sets, 2),\n",
    "            genes = lapply(sets, function(x) {x[-c(1,2)]})\n",
    "        )\n",
    "})"
   ]
  },
  {
   "cell_type": "code",
   "execution_count": 5,
   "id": "f8d3f9cf-1ab0-4a7f-b8a5-5261509cca0e",
   "metadata": {
    "tags": []
   },
   "outputs": [],
   "source": [
    "sets <- sets %>%\n",
    "  select(id, genes) %>%\n",
    "  unique()"
   ]
  },
  {
   "cell_type": "code",
   "execution_count": 6,
   "id": "5ecb9381-7d54-4b6b-a10b-1b638c4ed086",
   "metadata": {
    "tags": []
   },
   "outputs": [
    {
     "data": {
      "text/html": [
       "2656"
      ],
      "text/latex": [
       "2656"
      ],
      "text/markdown": [
       "2656"
      ],
      "text/plain": [
       "[1] 2656"
      ]
     },
     "metadata": {},
     "output_type": "display_data"
    }
   ],
   "source": [
    "nrow(sets)"
   ]
  },
  {
   "cell_type": "markdown",
   "id": "bd0b9e04-7a19-412b-9766-ba1710779566",
   "metadata": {},
   "source": [
    "### Read set IDs and filter for human pathways\n",
    "\n",
    "Next, we'll read the ReactomePathways file, and use the 3rd column to filter for gene sets from *Homo sapiens*."
   ]
  },
  {
   "cell_type": "code",
   "execution_count": 7,
   "id": "ac5a3e4f-1600-45a6-a50e-5f9ada2f75ce",
   "metadata": {
    "tags": []
   },
   "outputs": [],
   "source": [
    "pw <- readLines(\"ReactomePathways.txt\")\n",
    "pw <- strsplit(pw, split = \"\\t\")"
   ]
  },
  {
   "cell_type": "code",
   "execution_count": 8,
   "id": "e77e0699-c5c5-4e7f-b666-68d120302f95",
   "metadata": {
    "tags": []
   },
   "outputs": [],
   "source": [
    "pw <- map(pw, as.list)\n",
    "pw <- map(pw, function(l) { names(l) <- c(\"id\", \"name\", \"species\"); l })\n",
    "pw <- map_dfr(pw, as.data.frame)"
   ]
  },
  {
   "cell_type": "code",
   "execution_count": 9,
   "id": "44470dc5-e87d-4228-99db-ad1bed811b2f",
   "metadata": {
    "tags": []
   },
   "outputs": [
    {
     "data": {
      "text/html": [
       "<table class=\"dataframe\">\n",
       "<caption>A data.frame: 6 × 3</caption>\n",
       "<thead>\n",
       "\t<tr><th></th><th scope=col>id</th><th scope=col>name</th><th scope=col>species</th></tr>\n",
       "\t<tr><th></th><th scope=col>&lt;chr&gt;</th><th scope=col>&lt;chr&gt;</th><th scope=col>&lt;chr&gt;</th></tr>\n",
       "</thead>\n",
       "<tbody>\n",
       "\t<tr><th scope=row>1</th><td>R-BTA-73843  </td><td>5-Phosphoribose 1-diphosphate biosynthesis                     </td><td>Bos taurus</td></tr>\n",
       "\t<tr><th scope=row>2</th><td>R-BTA-1971475</td><td>A tetrasaccharide linker sequence is required for GAG synthesis</td><td>Bos taurus</td></tr>\n",
       "\t<tr><th scope=row>3</th><td>R-BTA-1369062</td><td>ABC transporters in lipid homeostasis                          </td><td>Bos taurus</td></tr>\n",
       "\t<tr><th scope=row>4</th><td>R-BTA-382556 </td><td>ABC-family proteins mediated transport                         </td><td>Bos taurus</td></tr>\n",
       "\t<tr><th scope=row>5</th><td>R-BTA-9033807</td><td>ABO blood group biosynthesis                                   </td><td>Bos taurus</td></tr>\n",
       "\t<tr><th scope=row>6</th><td>R-BTA-418592 </td><td>ADP signalling through P2Y purinoceptor 1                      </td><td>Bos taurus</td></tr>\n",
       "</tbody>\n",
       "</table>\n"
      ],
      "text/latex": [
       "A data.frame: 6 × 3\n",
       "\\begin{tabular}{r|lll}\n",
       "  & id & name & species\\\\\n",
       "  & <chr> & <chr> & <chr>\\\\\n",
       "\\hline\n",
       "\t1 & R-BTA-73843   & 5-Phosphoribose 1-diphosphate biosynthesis                      & Bos taurus\\\\\n",
       "\t2 & R-BTA-1971475 & A tetrasaccharide linker sequence is required for GAG synthesis & Bos taurus\\\\\n",
       "\t3 & R-BTA-1369062 & ABC transporters in lipid homeostasis                           & Bos taurus\\\\\n",
       "\t4 & R-BTA-382556  & ABC-family proteins mediated transport                          & Bos taurus\\\\\n",
       "\t5 & R-BTA-9033807 & ABO blood group biosynthesis                                    & Bos taurus\\\\\n",
       "\t6 & R-BTA-418592  & ADP signalling through P2Y purinoceptor 1                       & Bos taurus\\\\\n",
       "\\end{tabular}\n"
      ],
      "text/markdown": [
       "\n",
       "A data.frame: 6 × 3\n",
       "\n",
       "| <!--/--> | id &lt;chr&gt; | name &lt;chr&gt; | species &lt;chr&gt; |\n",
       "|---|---|---|---|\n",
       "| 1 | R-BTA-73843   | 5-Phosphoribose 1-diphosphate biosynthesis                      | Bos taurus |\n",
       "| 2 | R-BTA-1971475 | A tetrasaccharide linker sequence is required for GAG synthesis | Bos taurus |\n",
       "| 3 | R-BTA-1369062 | ABC transporters in lipid homeostasis                           | Bos taurus |\n",
       "| 4 | R-BTA-382556  | ABC-family proteins mediated transport                          | Bos taurus |\n",
       "| 5 | R-BTA-9033807 | ABO blood group biosynthesis                                    | Bos taurus |\n",
       "| 6 | R-BTA-418592  | ADP signalling through P2Y purinoceptor 1                       | Bos taurus |\n",
       "\n"
      ],
      "text/plain": [
       "  id            name                                                           \n",
       "1 R-BTA-73843   5-Phosphoribose 1-diphosphate biosynthesis                     \n",
       "2 R-BTA-1971475 A tetrasaccharide linker sequence is required for GAG synthesis\n",
       "3 R-BTA-1369062 ABC transporters in lipid homeostasis                          \n",
       "4 R-BTA-382556  ABC-family proteins mediated transport                         \n",
       "5 R-BTA-9033807 ABO blood group biosynthesis                                   \n",
       "6 R-BTA-418592  ADP signalling through P2Y purinoceptor 1                      \n",
       "  species   \n",
       "1 Bos taurus\n",
       "2 Bos taurus\n",
       "3 Bos taurus\n",
       "4 Bos taurus\n",
       "5 Bos taurus\n",
       "6 Bos taurus"
      ]
     },
     "metadata": {},
     "output_type": "display_data"
    }
   ],
   "source": [
    "head(pw)"
   ]
  },
  {
   "cell_type": "code",
   "execution_count": 10,
   "id": "5ffdd60e-ef45-4b8d-8858-c5f9c4f47670",
   "metadata": {
    "tags": []
   },
   "outputs": [],
   "source": [
    "pw <- pw %>%\n",
    "  filter(species == \"Homo sapiens\") %>%\n",
    "  select(id, name)"
   ]
  },
  {
   "cell_type": "code",
   "execution_count": 11,
   "id": "2470b2aa-cd6b-493d-a975-e05e9e31c8fa",
   "metadata": {
    "tags": []
   },
   "outputs": [
    {
     "data": {
      "text/html": [
       "2673"
      ],
      "text/latex": [
       "2673"
      ],
      "text/markdown": [
       "2673"
      ],
      "text/plain": [
       "[1] 2673"
      ]
     },
     "metadata": {},
     "output_type": "display_data"
    }
   ],
   "source": [
    "nrow(pw)"
   ]
  },
  {
   "cell_type": "markdown",
   "id": "0cc60fe1-82d5-4c23-9813-5367b6740f69",
   "metadata": {},
   "source": [
    "### Load relationships\n",
    "\n",
    "The last piece required is the relationships between pathways, which we'll structure as a data.frame."
   ]
  },
  {
   "cell_type": "code",
   "execution_count": 12,
   "id": "05862c18-5421-4093-ba1c-cbb4b11e28f7",
   "metadata": {
    "tags": []
   },
   "outputs": [],
   "source": [
    "links <- read.table(\"ReactomePathwaysRelation.txt\", sep = \"\\t\")\n",
    "names(links) <- c(\"from\", \"to\")\n",
    "links <- links %>%\n",
    "  filter(from %in% pw$id)"
   ]
  },
  {
   "cell_type": "code",
   "execution_count": 13,
   "id": "6e360a3c-a171-439e-a879-ae96bcd11042",
   "metadata": {
    "tags": []
   },
   "outputs": [
    {
     "data": {
      "text/html": [
       "2691"
      ],
      "text/latex": [
       "2691"
      ],
      "text/markdown": [
       "2691"
      ],
      "text/plain": [
       "[1] 2691"
      ]
     },
     "metadata": {},
     "output_type": "display_data"
    }
   ],
   "source": [
    "nrow(links)"
   ]
  },
  {
   "cell_type": "markdown",
   "id": "a3aff2ce-1bd8-4d1e-a250-3a766aa32cae",
   "metadata": {},
   "source": [
    "### Identify root nodes\n",
    "\n",
    "To find the major pathway root nodes and links, we'll select pathways that link *to* other nodes, but don't have links *from* any parent nodes."
   ]
  },
  {
   "cell_type": "code",
   "execution_count": 14,
   "id": "08529215-1aa4-474a-9853-aa6db4858ea6",
   "metadata": {
    "tags": []
   },
   "outputs": [
    {
     "name": "stderr",
     "output_type": "stream",
     "text": [
      "\u001b[1m\u001b[22mJoining with `by = join_by(id)`\n"
     ]
    }
   ],
   "source": [
    "root <- pw %>%\n",
    "  filter(id %in% links$from & !id %in% links$to) %>%\n",
    "  left_join(sets)\n",
    "names(root) <- c(\"root_id\", \"root_name\", \"root_genes\")\n",
    "root_links <- links %>%\n",
    "  filter(from %in% root$root_id)"
   ]
  },
  {
   "cell_type": "code",
   "execution_count": 15,
   "id": "e4ed4862-d0e5-4fe3-9d04-1a901412194c",
   "metadata": {
    "tags": []
   },
   "outputs": [
    {
     "data": {
      "text/html": [
       "<style>\n",
       ".list-inline {list-style: none; margin:0; padding: 0}\n",
       ".list-inline>li {display: inline-block}\n",
       ".list-inline>li:not(:last-child)::after {content: \"\\00b7\"; padding: 0 .5ex}\n",
       "</style>\n",
       "<ol class=list-inline><li>'Autophagy'</li><li>'Cell Cycle'</li><li>'Cell-Cell communication'</li><li>'Cellular responses to stimuli'</li><li>'Chromatin organization'</li><li>'Circadian Clock'</li><li>'DNA Repair'</li><li>'DNA Replication'</li><li>'Developmental Biology'</li><li>'Digestion and absorption'</li><li>'Disease'</li><li>'Drug ADME'</li><li>'Extracellular matrix organization'</li><li>'Gene expression (Transcription)'</li><li>'Hemostasis'</li><li>'Immune System'</li><li>'Metabolism'</li><li>'Metabolism of RNA'</li><li>'Metabolism of proteins'</li><li>'Muscle contraction'</li><li>'Neuronal System'</li><li>'Organelle biogenesis and maintenance'</li><li>'Programmed Cell Death'</li><li>'Protein localization'</li><li>'Reproduction'</li><li>'Sensory Perception'</li><li>'Signal Transduction'</li><li>'Transport of small molecules'</li><li>'Vesicle-mediated transport'</li></ol>\n"
      ],
      "text/latex": [
       "\\begin{enumerate*}\n",
       "\\item 'Autophagy'\n",
       "\\item 'Cell Cycle'\n",
       "\\item 'Cell-Cell communication'\n",
       "\\item 'Cellular responses to stimuli'\n",
       "\\item 'Chromatin organization'\n",
       "\\item 'Circadian Clock'\n",
       "\\item 'DNA Repair'\n",
       "\\item 'DNA Replication'\n",
       "\\item 'Developmental Biology'\n",
       "\\item 'Digestion and absorption'\n",
       "\\item 'Disease'\n",
       "\\item 'Drug ADME'\n",
       "\\item 'Extracellular matrix organization'\n",
       "\\item 'Gene expression (Transcription)'\n",
       "\\item 'Hemostasis'\n",
       "\\item 'Immune System'\n",
       "\\item 'Metabolism'\n",
       "\\item 'Metabolism of RNA'\n",
       "\\item 'Metabolism of proteins'\n",
       "\\item 'Muscle contraction'\n",
       "\\item 'Neuronal System'\n",
       "\\item 'Organelle biogenesis and maintenance'\n",
       "\\item 'Programmed Cell Death'\n",
       "\\item 'Protein localization'\n",
       "\\item 'Reproduction'\n",
       "\\item 'Sensory Perception'\n",
       "\\item 'Signal Transduction'\n",
       "\\item 'Transport of small molecules'\n",
       "\\item 'Vesicle-mediated transport'\n",
       "\\end{enumerate*}\n"
      ],
      "text/markdown": [
       "1. 'Autophagy'\n",
       "2. 'Cell Cycle'\n",
       "3. 'Cell-Cell communication'\n",
       "4. 'Cellular responses to stimuli'\n",
       "5. 'Chromatin organization'\n",
       "6. 'Circadian Clock'\n",
       "7. 'DNA Repair'\n",
       "8. 'DNA Replication'\n",
       "9. 'Developmental Biology'\n",
       "10. 'Digestion and absorption'\n",
       "11. 'Disease'\n",
       "12. 'Drug ADME'\n",
       "13. 'Extracellular matrix organization'\n",
       "14. 'Gene expression (Transcription)'\n",
       "15. 'Hemostasis'\n",
       "16. 'Immune System'\n",
       "17. 'Metabolism'\n",
       "18. 'Metabolism of RNA'\n",
       "19. 'Metabolism of proteins'\n",
       "20. 'Muscle contraction'\n",
       "21. 'Neuronal System'\n",
       "22. 'Organelle biogenesis and maintenance'\n",
       "23. 'Programmed Cell Death'\n",
       "24. 'Protein localization'\n",
       "25. 'Reproduction'\n",
       "26. 'Sensory Perception'\n",
       "27. 'Signal Transduction'\n",
       "28. 'Transport of small molecules'\n",
       "29. 'Vesicle-mediated transport'\n",
       "\n",
       "\n"
      ],
      "text/plain": [
       " [1] \"Autophagy\"                           \n",
       " [2] \"Cell Cycle\"                          \n",
       " [3] \"Cell-Cell communication\"             \n",
       " [4] \"Cellular responses to stimuli\"       \n",
       " [5] \"Chromatin organization\"              \n",
       " [6] \"Circadian Clock\"                     \n",
       " [7] \"DNA Repair\"                          \n",
       " [8] \"DNA Replication\"                     \n",
       " [9] \"Developmental Biology\"               \n",
       "[10] \"Digestion and absorption\"            \n",
       "[11] \"Disease\"                             \n",
       "[12] \"Drug ADME\"                           \n",
       "[13] \"Extracellular matrix organization\"   \n",
       "[14] \"Gene expression (Transcription)\"     \n",
       "[15] \"Hemostasis\"                          \n",
       "[16] \"Immune System\"                       \n",
       "[17] \"Metabolism\"                          \n",
       "[18] \"Metabolism of RNA\"                   \n",
       "[19] \"Metabolism of proteins\"              \n",
       "[20] \"Muscle contraction\"                  \n",
       "[21] \"Neuronal System\"                     \n",
       "[22] \"Organelle biogenesis and maintenance\"\n",
       "[23] \"Programmed Cell Death\"               \n",
       "[24] \"Protein localization\"                \n",
       "[25] \"Reproduction\"                        \n",
       "[26] \"Sensory Perception\"                  \n",
       "[27] \"Signal Transduction\"                 \n",
       "[28] \"Transport of small molecules\"        \n",
       "[29] \"Vesicle-mediated transport\"          "
      ]
     },
     "metadata": {},
     "output_type": "display_data"
    }
   ],
   "source": [
    "root$root_name"
   ]
  },
  {
   "cell_type": "code",
   "execution_count": 16,
   "id": "23eb921b-7fb5-4bf9-b239-dc92c5ca2357",
   "metadata": {
    "tags": []
   },
   "outputs": [
    {
     "data": {
      "text/html": [
       "29"
      ],
      "text/latex": [
       "29"
      ],
      "text/markdown": [
       "29"
      ],
      "text/plain": [
       "[1] 29"
      ]
     },
     "metadata": {},
     "output_type": "display_data"
    }
   ],
   "source": [
    "nrow(root)"
   ]
  },
  {
   "cell_type": "code",
   "execution_count": 17,
   "id": "bc39c8ad-19e1-4c12-a780-da77e8dbb648",
   "metadata": {
    "tags": []
   },
   "outputs": [
    {
     "data": {
      "text/html": [
       "29"
      ],
      "text/latex": [
       "29"
      ],
      "text/markdown": [
       "29"
      ],
      "text/plain": [
       "[1] 29"
      ]
     },
     "metadata": {},
     "output_type": "display_data"
    }
   ],
   "source": [
    "length(unique(root$root_id))"
   ]
  },
  {
   "cell_type": "markdown",
   "id": "ff17ec60-a1a0-4d74-8db7-b386e0e7f955",
   "metadata": {},
   "source": [
    "## Identify sub-pathways\n",
    "\n",
    "For our analysis, we'll use sub-pathways that are up to 4 levels below the Root nodes. For each level, we assemble the gene set and keep track of parent gene sets."
   ]
  },
  {
   "cell_type": "markdown",
   "id": "4bff0175-0888-4a41-82f1-3ad718d26d8a",
   "metadata": {},
   "source": [
    "## Level 1\n",
    "\n",
    "Just below the top nodes"
   ]
  },
  {
   "cell_type": "code",
   "execution_count": 18,
   "id": "2cea0e75-788c-402a-9af7-2d2565623c3a",
   "metadata": {
    "tags": []
   },
   "outputs": [],
   "source": [
    "root_split <- split(root_links, root_links$from)\n",
    "l1 <- map2_dfr(\n",
    "    root_split, names(root_split),\n",
    "    function(link_df, parent_id) {\n",
    "        parent_pw <- root %>%\n",
    "          filter(root_id == parent_id)\n",
    "        l1_pw <- pw %>%\n",
    "          filter(id %in% link_df$to)\n",
    "        names(l1_pw) <- c(\"l1_id\", \"l1_name\")\n",
    "        l1_pw <- l1_pw %>%\n",
    "          mutate(root_id = parent_id) %>%\n",
    "          left_join(root, by = \"root_id\")\n",
    "        l1_pw\n",
    "    }\n",
    ")"
   ]
  },
  {
   "cell_type": "code",
   "execution_count": 19,
   "id": "fd919802-7c77-4bcd-b8ae-b35c976873bc",
   "metadata": {
    "tags": []
   },
   "outputs": [],
   "source": [
    "l1 <- l1 %>%\n",
    "  left_join(sets, by = c(\"l1_id\" = \"id\"))"
   ]
  },
  {
   "cell_type": "code",
   "execution_count": 20,
   "id": "8db282b6-c8ea-46ca-a255-b435a0730a88",
   "metadata": {
    "tags": []
   },
   "outputs": [],
   "source": [
    "names(l1)[length(l1)] <- \"l1_genes\""
   ]
  },
  {
   "cell_type": "code",
   "execution_count": 21,
   "id": "c83d0793-0354-4f19-9a49-ae7eb86762ac",
   "metadata": {
    "tags": []
   },
   "outputs": [],
   "source": [
    "l1 <- l1 %>%\n",
    "  filter(map_int(l1_genes, length) > 10)"
   ]
  },
  {
   "cell_type": "markdown",
   "id": "d4d76225-72f6-47ec-beac-9ffdbc04aa36",
   "metadata": {},
   "source": [
    "Remove double parentage"
   ]
  },
  {
   "cell_type": "code",
   "execution_count": 22,
   "id": "de975c60-cc45-4428-93e3-f536a88df5e1",
   "metadata": {
    "tags": []
   },
   "outputs": [
    {
     "data": {
      "text/html": [
       "157"
      ],
      "text/latex": [
       "157"
      ],
      "text/markdown": [
       "157"
      ],
      "text/plain": [
       "[1] 157"
      ]
     },
     "metadata": {},
     "output_type": "display_data"
    }
   ],
   "source": [
    "n_links <- nrow(l1)\n",
    "n_links"
   ]
  },
  {
   "cell_type": "code",
   "execution_count": 23,
   "id": "17fea6bf-d585-4404-8519-1d26fbcdc8f4",
   "metadata": {
    "tags": []
   },
   "outputs": [
    {
     "data": {
      "text/html": [
       "156"
      ],
      "text/latex": [
       "156"
      ],
      "text/markdown": [
       "156"
      ],
      "text/plain": [
       "[1] 156"
      ]
     },
     "metadata": {},
     "output_type": "display_data"
    }
   ],
   "source": [
    "n_targets <- length(unique(l1$l1_id))\n",
    "n_targets"
   ]
  },
  {
   "cell_type": "code",
   "execution_count": 24,
   "id": "0f50980b-8046-4727-b482-b52c4fb19fbc",
   "metadata": {
    "tags": []
   },
   "outputs": [],
   "source": [
    "l1 <- l1 %>%\n",
    "  group_by(l1_id) %>%\n",
    "  slice(1) %>%\n",
    "  ungroup()"
   ]
  },
  {
   "cell_type": "code",
   "execution_count": 25,
   "id": "d0e822a9-597a-4aad-acc3-4cfe1bcda4eb",
   "metadata": {
    "tags": []
   },
   "outputs": [],
   "source": [
    "l1_links <- links %>%\n",
    "  filter(from %in% l1$l1_id)"
   ]
  },
  {
   "cell_type": "markdown",
   "id": "4dbf94b3-63ea-4a1f-be8b-1c8e84203cdc",
   "metadata": {},
   "source": [
    "Filter available pathways to prevent double nesting at lower levels"
   ]
  },
  {
   "cell_type": "code",
   "execution_count": 26,
   "id": "0a8b033d-905d-4ecf-bac4-dd86d979c3d5",
   "metadata": {
    "tags": []
   },
   "outputs": [],
   "source": [
    "filtered_pw <- pw %>%\n",
    "  filter(!id %in% l1$l1_id)"
   ]
  },
  {
   "cell_type": "markdown",
   "id": "bebfa4aa-f823-49a9-8fb2-e156e428c2d8",
   "metadata": {},
   "source": [
    "## Level 2\n",
    "Children of Level 1 nodes"
   ]
  },
  {
   "cell_type": "code",
   "execution_count": 27,
   "id": "bab32540-1812-4954-98cb-db7c4e12abe0",
   "metadata": {
    "tags": []
   },
   "outputs": [],
   "source": [
    "l1_split <- split(l1_links, l1_links$from)\n",
    "l2 <- map2_dfr(\n",
    "    l1_split, names(l1_split),\n",
    "    function(link_df, parent_id) {\n",
    "        parent_pw <- l1 %>%\n",
    "          filter(l1_id == parent_id)\n",
    "        l2_pw <- filtered_pw %>%\n",
    "          filter(id %in% link_df$to)\n",
    "        names(l2_pw) <- c(\"l2_id\", \"l2_name\")\n",
    "        l2_pw <- l2_pw %>%\n",
    "          mutate(l1_id = parent_id) %>%\n",
    "          left_join(parent_pw, by = \"l1_id\")\n",
    "        l2_pw\n",
    "    }\n",
    ")"
   ]
  },
  {
   "cell_type": "code",
   "execution_count": 28,
   "id": "5bbfb6d9-69c6-403f-930c-d970595cb125",
   "metadata": {
    "tags": []
   },
   "outputs": [],
   "source": [
    "l2 <- l2 %>%\n",
    "  left_join(sets, by = c(\"l2_id\" = \"id\"))"
   ]
  },
  {
   "cell_type": "code",
   "execution_count": 29,
   "id": "0d4927dc-1646-4958-9005-b33bdb0b66a5",
   "metadata": {
    "tags": []
   },
   "outputs": [],
   "source": [
    "names(l2)[length(l2)] <- \"l2_genes\""
   ]
  },
  {
   "cell_type": "code",
   "execution_count": 30,
   "id": "63556f34-6ad0-4af9-93c9-c3bf2f8f91e6",
   "metadata": {
    "tags": []
   },
   "outputs": [],
   "source": [
    "l2 <- l2 %>%\n",
    "  filter(map_int(l2_genes, length) > 10)"
   ]
  },
  {
   "cell_type": "code",
   "execution_count": 31,
   "id": "a5368e51-f9c1-4587-b935-76a1f5a1ac66",
   "metadata": {
    "tags": []
   },
   "outputs": [
    {
     "data": {
      "text/html": [
       "365"
      ],
      "text/latex": [
       "365"
      ],
      "text/markdown": [
       "365"
      ],
      "text/plain": [
       "[1] 365"
      ]
     },
     "metadata": {},
     "output_type": "display_data"
    }
   ],
   "source": [
    "n_links <- nrow(l2)\n",
    "n_links"
   ]
  },
  {
   "cell_type": "code",
   "execution_count": 32,
   "id": "87e7af29-f315-4545-b279-19da43a265bc",
   "metadata": {
    "tags": []
   },
   "outputs": [
    {
     "data": {
      "text/html": [
       "365"
      ],
      "text/latex": [
       "365"
      ],
      "text/markdown": [
       "365"
      ],
      "text/plain": [
       "[1] 365"
      ]
     },
     "metadata": {},
     "output_type": "display_data"
    }
   ],
   "source": [
    "n_targets <- length(unique(l2$l2_id))\n",
    "n_targets"
   ]
  },
  {
   "cell_type": "code",
   "execution_count": 33,
   "id": "17532295-401c-453c-952f-ea054f9c2952",
   "metadata": {
    "tags": []
   },
   "outputs": [],
   "source": [
    "l2 <- l2 %>%\n",
    "  group_by(l2_id) %>%\n",
    "  slice(1) %>%\n",
    "  ungroup()"
   ]
  },
  {
   "cell_type": "code",
   "execution_count": 34,
   "id": "126735dc-7f78-4b37-9aab-4a3cc6a24887",
   "metadata": {
    "tags": []
   },
   "outputs": [],
   "source": [
    "l2_links <- links %>%\n",
    "  filter(from %in% l2$l2_id)"
   ]
  },
  {
   "cell_type": "code",
   "execution_count": 35,
   "id": "ade72e2f-a848-44c9-95c1-071d6530fc5f",
   "metadata": {
    "tags": []
   },
   "outputs": [],
   "source": [
    "filtered_pw <- filtered_pw %>%\n",
    "  filter(!id %in% l2$l2_id)"
   ]
  },
  {
   "cell_type": "raw",
   "id": "72af5457-f7db-418b-8407-228cd9fcfdd1",
   "metadata": {},
   "source": [
    "l2"
   ]
  },
  {
   "cell_type": "markdown",
   "id": "1f40a2c6-4a68-4183-a89f-9c6dfa9d7817",
   "metadata": {},
   "source": [
    "## Level 3\n",
    "Children of Level 2 nodes"
   ]
  },
  {
   "cell_type": "code",
   "execution_count": 36,
   "id": "8da325c7-3610-4e18-9bb2-38d935accf23",
   "metadata": {
    "tags": []
   },
   "outputs": [],
   "source": [
    "l2_split <- split(l2_links, l2_links$from)\n",
    "l3 <- map2_dfr(\n",
    "    l2_split, names(l2_split),\n",
    "    function(link_df, parent_id) {\n",
    "        parent_pw <- l2 %>%\n",
    "          filter(l2_id == parent_id)\n",
    "        l3_pw <- filtered_pw %>%\n",
    "          filter(id %in% link_df$to)\n",
    "        names(l3_pw) <- c(\"l3_id\", \"l3_name\")\n",
    "        l3_pw <- l3_pw %>%\n",
    "          mutate(l2_id = parent_id) %>%\n",
    "          left_join(parent_pw, by = \"l2_id\")\n",
    "        l3_pw\n",
    "    }\n",
    ")"
   ]
  },
  {
   "cell_type": "code",
   "execution_count": 37,
   "id": "f3318b85-c31b-498f-89da-a6387c4bfc4c",
   "metadata": {
    "tags": []
   },
   "outputs": [],
   "source": [
    "l3 <- l3 %>%\n",
    "  left_join(sets, by = c(\"l3_id\" = \"id\"))\n",
    "names(l3)[length(l3)] <- \"l3_genes\""
   ]
  },
  {
   "cell_type": "raw",
   "id": "8f23cb58-9f94-40f3-937b-68f063891048",
   "metadata": {},
   "source": [
    "head(l3)"
   ]
  },
  {
   "cell_type": "code",
   "execution_count": 38,
   "id": "858f826b-7c8f-4f09-9a26-b04aabd2ff7d",
   "metadata": {
    "tags": []
   },
   "outputs": [],
   "source": [
    "l3 <- l3 %>%\n",
    "  filter(map_int(l3_genes, length) > 10)"
   ]
  },
  {
   "cell_type": "code",
   "execution_count": 39,
   "id": "0f839c11-347e-4020-a2b4-6a97b4a3df70",
   "metadata": {
    "tags": []
   },
   "outputs": [
    {
     "data": {
      "text/html": [
       "466"
      ],
      "text/latex": [
       "466"
      ],
      "text/markdown": [
       "466"
      ],
      "text/plain": [
       "[1] 466"
      ]
     },
     "metadata": {},
     "output_type": "display_data"
    }
   ],
   "source": [
    "n_links <- nrow(l3)\n",
    "n_links"
   ]
  },
  {
   "cell_type": "code",
   "execution_count": 40,
   "id": "65d0b3ee-3aaf-40e7-a6d3-88820532a306",
   "metadata": {
    "tags": []
   },
   "outputs": [
    {
     "data": {
      "text/html": [
       "464"
      ],
      "text/latex": [
       "464"
      ],
      "text/markdown": [
       "464"
      ],
      "text/plain": [
       "[1] 464"
      ]
     },
     "metadata": {},
     "output_type": "display_data"
    }
   ],
   "source": [
    "n_targets <- length(unique(l3$l3_id))\n",
    "n_targets"
   ]
  },
  {
   "cell_type": "code",
   "execution_count": 41,
   "id": "3d702dc0-afb3-40de-8d4d-9b8c5806c821",
   "metadata": {
    "tags": []
   },
   "outputs": [],
   "source": [
    "l3 <- l3 %>%\n",
    "  group_by(l3_id) %>%\n",
    "  slice(1) %>%\n",
    "  ungroup()"
   ]
  },
  {
   "cell_type": "code",
   "execution_count": 42,
   "id": "cc6f718c-21cf-4786-8cd3-a50c4259bebd",
   "metadata": {
    "tags": []
   },
   "outputs": [],
   "source": [
    "l3_links <- links %>%\n",
    "  filter(from %in% l3$l3_id)"
   ]
  },
  {
   "cell_type": "code",
   "execution_count": 43,
   "id": "d27510f6-7c15-4bb9-8c43-12b08a2c97f1",
   "metadata": {
    "tags": []
   },
   "outputs": [],
   "source": [
    "filtered_pw <- filtered_pw %>%\n",
    "  filter(!id %in% l3$l3_id)"
   ]
  },
  {
   "cell_type": "raw",
   "id": "1728aa82-d8c8-4642-b6e6-7d70b0e9fde0",
   "metadata": {},
   "source": [
    "l3"
   ]
  },
  {
   "cell_type": "markdown",
   "id": "3c6ff939-bc37-4176-b108-b7a16ac112cf",
   "metadata": {},
   "source": [
    "## Level 4\n",
    "Children of Level 3 nodes"
   ]
  },
  {
   "cell_type": "code",
   "execution_count": 44,
   "id": "8e1d9cae-037e-4dfb-aac6-211ce78c8309",
   "metadata": {
    "tags": []
   },
   "outputs": [],
   "source": [
    "l3_split <- split(l3_links, l3_links$from)\n",
    "l4 <- map2_dfr(\n",
    "    l3_split, names(l3_split),\n",
    "    function(link_df, parent_id) {\n",
    "        parent_pw <- l3 %>%\n",
    "          filter(l3_id == parent_id)\n",
    "        l4_pw <- filtered_pw %>%\n",
    "          filter(id %in% link_df$to)\n",
    "        names(l4_pw) <- c(\"l4_id\", \"l4_name\")\n",
    "        l4_pw <- l4_pw %>%\n",
    "          mutate(l3_id = parent_id) %>%\n",
    "          left_join(parent_pw, by = \"l3_id\")\n",
    "        l4_pw\n",
    "    }\n",
    ")"
   ]
  },
  {
   "cell_type": "code",
   "execution_count": 45,
   "id": "10a525a1-52c5-4808-8aed-3a06aa3e0293",
   "metadata": {
    "tags": []
   },
   "outputs": [],
   "source": [
    "l4 <- l4 %>%\n",
    "  left_join(sets, by = c(\"l4_id\" = \"id\"))\n",
    "names(l4)[length(l4)] <- \"l4_genes\""
   ]
  },
  {
   "cell_type": "raw",
   "id": "69edc746-0794-44c7-a62e-51d82a803655",
   "metadata": {},
   "source": [
    "head(l3)"
   ]
  },
  {
   "cell_type": "code",
   "execution_count": 46,
   "id": "ce0496d2-3a5d-4b50-a85d-12ea3c7c8f67",
   "metadata": {
    "tags": []
   },
   "outputs": [],
   "source": [
    "l4 <- l4 %>%\n",
    "  filter(map_int(l4_genes, length) > 10)"
   ]
  },
  {
   "cell_type": "code",
   "execution_count": 47,
   "id": "bdfb57a2-f189-43be-844c-f415e5dccfeb",
   "metadata": {
    "tags": []
   },
   "outputs": [
    {
     "data": {
      "text/html": [
       "377"
      ],
      "text/latex": [
       "377"
      ],
      "text/markdown": [
       "377"
      ],
      "text/plain": [
       "[1] 377"
      ]
     },
     "metadata": {},
     "output_type": "display_data"
    }
   ],
   "source": [
    "n_links <- nrow(l4)\n",
    "n_links"
   ]
  },
  {
   "cell_type": "code",
   "execution_count": 48,
   "id": "807a3cde-e4b7-4f51-b016-bec6a03a5614",
   "metadata": {
    "tags": []
   },
   "outputs": [
    {
     "data": {
      "text/html": [
       "371"
      ],
      "text/latex": [
       "371"
      ],
      "text/markdown": [
       "371"
      ],
      "text/plain": [
       "[1] 371"
      ]
     },
     "metadata": {},
     "output_type": "display_data"
    }
   ],
   "source": [
    "n_targets <- length(unique(l4$l4_id))\n",
    "n_targets"
   ]
  },
  {
   "cell_type": "code",
   "execution_count": 49,
   "id": "c306ade0-1c95-4a24-bd6c-aa179c8425af",
   "metadata": {
    "tags": []
   },
   "outputs": [],
   "source": [
    "l4 <- l4 %>%\n",
    "  group_by(l4_id) %>%\n",
    "  slice(1) %>%\n",
    "  ungroup()"
   ]
  },
  {
   "cell_type": "code",
   "execution_count": 50,
   "id": "58fca087-82ba-4dc8-ad47-031b979a9f8b",
   "metadata": {
    "tags": []
   },
   "outputs": [
    {
     "data": {
      "text/html": [
       "371"
      ],
      "text/latex": [
       "371"
      ],
      "text/markdown": [
       "371"
      ],
      "text/plain": [
       "[1] 371"
      ]
     },
     "metadata": {},
     "output_type": "display_data"
    }
   ],
   "source": [
    "nrow(l4)"
   ]
  },
  {
   "cell_type": "markdown",
   "id": "1fade4cb-ecb2-4b7b-a80d-93846850b4ce",
   "metadata": {},
   "source": [
    "## Assemble and output gene sets\n",
    "\n",
    "Now that we've built out the gene sets from each level, we'll assemble these all in a list of gene sets that can be used for GSEA analysis.\n",
    "\n",
    "We'll save the list of gene sets along with the information from each level, which will be used later for visualization of the GSEA results."
   ]
  },
  {
   "cell_type": "code",
   "execution_count": 51,
   "id": "50a28fb4-a5c8-4ca9-b825-5e917ddd516f",
   "metadata": {
    "tags": []
   },
   "outputs": [],
   "source": [
    "set_list <- c(\n",
    "    root$genes,\n",
    "    l1$l1_genes,\n",
    "    l2$l2_genes,\n",
    "    l3$l3_genes,\n",
    "    l4$l4_genes\n",
    ")\n",
    "\n",
    "names(set_list) <- c(\n",
    "    root$id,\n",
    "    l1$l1_id,\n",
    "    l2$l2_id,\n",
    "    l3$l3_id,\n",
    "    l4$l4_id\n",
    ")\n",
    "\n",
    "all_sets <- list(\n",
    "    root_tb = root,\n",
    "    l1_tb = l1,\n",
    "    l2_tb = l2,\n",
    "    l3_tb = l3,\n",
    "    l4_tb = l4,\n",
    "    set_list = set_list\n",
    ")"
   ]
  },
  {
   "cell_type": "code",
   "execution_count": 52,
   "id": "4d95d9a2-4aad-4bad-bacb-9101bd759afb",
   "metadata": {
    "tags": []
   },
   "outputs": [
    {
     "name": "stderr",
     "output_type": "stream",
     "text": [
      "Warning message in dir.create(\"output\"):\n",
      "“'output' already exists”\n"
     ]
    }
   ],
   "source": [
    "dir.create(\"output\")"
   ]
  },
  {
   "cell_type": "code",
   "execution_count": 53,
   "id": "c9f19753-3959-48cb-b62e-7c7abf564e62",
   "metadata": {
    "tags": []
   },
   "outputs": [],
   "source": [
    "reactome_out_file <- paste0(\"output/reactome_gene_sets_\", Sys.Date(), \".rds\")\n",
    "saveRDS(\n",
    "    all_sets, \n",
    "    reactome_out_file\n",
    ")"
   ]
  },
  {
   "cell_type": "code",
   "execution_count": 54,
   "id": "989b9f72-f99b-447f-b0a4-5d1f7e5d718f",
   "metadata": {
    "tags": []
   },
   "outputs": [],
   "source": [
    "reactome_df <- data.frame(\n",
    "    pathway = names(all_sets$set_list),\n",
    "    n_pathway_genes = map_int(all_sets$set_list, length),\n",
    "    pathway_genes = map_chr(all_sets$set_list, paste, collapse = \";\")\n",
    ")"
   ]
  },
  {
   "cell_type": "code",
   "execution_count": 55,
   "id": "76bf4684-0290-4e4c-bc68-514285ab04fa",
   "metadata": {
    "tags": []
   },
   "outputs": [
    {
     "data": {
      "text/html": [
       "1356"
      ],
      "text/latex": [
       "1356"
      ],
      "text/markdown": [
       "1356"
      ],
      "text/plain": [
       "[1] 1356"
      ]
     },
     "metadata": {},
     "output_type": "display_data"
    }
   ],
   "source": [
    "nrow(reactome_df)"
   ]
  },
  {
   "cell_type": "code",
   "execution_count": 56,
   "id": "a59fbbbc-9541-4569-acdf-1094f6f871fe",
   "metadata": {
    "tags": []
   },
   "outputs": [],
   "source": [
    "reactome_df <- unique(reactome_df)"
   ]
  },
  {
   "cell_type": "markdown",
   "id": "9a198595-1664-4448-ae4a-a86d099a86a8",
   "metadata": {},
   "source": [
    "## Retrieve files\n",
    "\n",
    "Now, we'll use the HISE SDK package to retrieve the MAST DEG results file based on its UUID. This will be placed in the `cache/` subdirectory by default."
   ]
  },
  {
   "cell_type": "code",
   "execution_count": 57,
   "id": "6bf1f3cc-c844-4b3d-b902-89d374f93ff0",
   "metadata": {
    "tags": []
   },
   "outputs": [],
   "source": [
    "file_uuid <- list(\n",
    "    \"fc83b89f-fd26-43b8-ac91-29c539703a45\"\n",
    ")"
   ]
  },
  {
   "cell_type": "code",
   "execution_count": 58,
   "id": "b6cb02b4-7f89-4149-9c72-983689910cb0",
   "metadata": {
    "scrolled": true,
    "tags": []
   },
   "outputs": [],
   "source": [
    "fres <- cacheFiles(file_uuid)"
   ]
  },
  {
   "cell_type": "markdown",
   "id": "7d99dc8b-6543-4bdd-8604-c658d596d0ef",
   "metadata": {},
   "source": [
    "### Prepare DEG lists\n",
    "\n",
    "To rank genes, we'll convert nomP to -log10(nomP), and incorporate the direction of differential expression by multiplying by the direction of effect size (sign(logFC))."
   ]
  },
  {
   "cell_type": "code",
   "execution_count": 59,
   "id": "a0524914-1738-4eb5-b264-404e9b43add1",
   "metadata": {
    "tags": []
   },
   "outputs": [],
   "source": [
    "all_deg <- read.csv(\"cache/fc83b89f-fd26-43b8-ac91-29c539703a45/all_mast_deg_2023-09-06.csv\")\n",
    "all_deg$treat_time_type <- paste0(\n",
    "    all_deg$fg, \"_\", \n",
    "    all_deg$timepoint, \"_\", \n",
    "    all_deg$aifi_cell_type)"
   ]
  },
  {
   "cell_type": "markdown",
   "id": "53f8e78d-7b26-44d8-b1e7-31bf679bd110",
   "metadata": {},
   "source": [
    "Prior to ranking, we'll need to resolve missing `logFC` values. These can occur if one of the groups used for DEG analysis had no expression of the gene."
   ]
  },
  {
   "cell_type": "code",
   "execution_count": 60,
   "id": "121cdf90-cbee-4bb5-a13a-8e9b835963bc",
   "metadata": {
    "scrolled": true,
    "tags": []
   },
   "outputs": [
    {
     "data": {
      "text/html": [
       "<table class=\"dataframe\">\n",
       "<caption>A data.frame: 6 × 12</caption>\n",
       "<thead>\n",
       "\t<tr><th></th><th scope=col>aifi_cell_type</th><th scope=col>timepoint</th><th scope=col>fg</th><th scope=col>bg</th><th scope=col>n_sample</th><th scope=col>gene</th><th scope=col>coef_C</th><th scope=col>coef_D</th><th scope=col>logFC</th><th scope=col>nomP</th><th scope=col>adjP</th><th scope=col>treat_time_type</th></tr>\n",
       "\t<tr><th></th><th scope=col>&lt;chr&gt;</th><th scope=col>&lt;int&gt;</th><th scope=col>&lt;chr&gt;</th><th scope=col>&lt;chr&gt;</th><th scope=col>&lt;int&gt;</th><th scope=col>&lt;chr&gt;</th><th scope=col>&lt;dbl&gt;</th><th scope=col>&lt;dbl&gt;</th><th scope=col>&lt;dbl&gt;</th><th scope=col>&lt;dbl&gt;</th><th scope=col>&lt;dbl&gt;</th><th scope=col>&lt;chr&gt;</th></tr>\n",
       "</thead>\n",
       "<tbody>\n",
       "\t<tr><th scope=row>1</th><td>t_cd4_em  </td><td>4</td><td>bortezomib</td><td>dmso</td><td>180</td><td>TFDP1     </td><td>NA</td><td> 3.196997</td><td>NA</td><td>3.817725e-05</td><td>0.1481468</td><td>bortezomib_4_t_cd4_em  </td></tr>\n",
       "\t<tr><th scope=row>2</th><td>t_cd4_treg</td><td>4</td><td>bortezomib</td><td>dmso</td><td> 78</td><td>ABCA3     </td><td>NA</td><td>-2.453613</td><td>NA</td><td>1.337154e-02</td><td>0.9999222</td><td>bortezomib_4_t_cd4_treg</td></tr>\n",
       "\t<tr><th scope=row>3</th><td>t_cd4_treg</td><td>4</td><td>bortezomib</td><td>dmso</td><td> 78</td><td>AC005070.3</td><td>NA</td><td>-2.259963</td><td>NA</td><td>3.110707e-02</td><td>0.9999222</td><td>bortezomib_4_t_cd4_treg</td></tr>\n",
       "\t<tr><th scope=row>4</th><td>t_cd4_treg</td><td>4</td><td>bortezomib</td><td>dmso</td><td> 78</td><td>AC006504.5</td><td>NA</td><td>-2.470421</td><td>NA</td><td>1.243915e-02</td><td>0.9999222</td><td>bortezomib_4_t_cd4_treg</td></tr>\n",
       "\t<tr><th scope=row>5</th><td>t_cd4_treg</td><td>4</td><td>bortezomib</td><td>dmso</td><td> 78</td><td>AC007686.3</td><td>NA</td><td>-2.265379</td><td>NA</td><td>3.041017e-02</td><td>0.9999222</td><td>bortezomib_4_t_cd4_treg</td></tr>\n",
       "\t<tr><th scope=row>6</th><td>t_cd4_treg</td><td>4</td><td>bortezomib</td><td>dmso</td><td> 78</td><td>AC010754.1</td><td>NA</td><td>-2.272969</td><td>NA</td><td>2.952072e-02</td><td>0.9999222</td><td>bortezomib_4_t_cd4_treg</td></tr>\n",
       "</tbody>\n",
       "</table>\n"
      ],
      "text/latex": [
       "A data.frame: 6 × 12\n",
       "\\begin{tabular}{r|llllllllllll}\n",
       "  & aifi\\_cell\\_type & timepoint & fg & bg & n\\_sample & gene & coef\\_C & coef\\_D & logFC & nomP & adjP & treat\\_time\\_type\\\\\n",
       "  & <chr> & <int> & <chr> & <chr> & <int> & <chr> & <dbl> & <dbl> & <dbl> & <dbl> & <dbl> & <chr>\\\\\n",
       "\\hline\n",
       "\t1 & t\\_cd4\\_em   & 4 & bortezomib & dmso & 180 & TFDP1      & NA &  3.196997 & NA & 3.817725e-05 & 0.1481468 & bortezomib\\_4\\_t\\_cd4\\_em  \\\\\n",
       "\t2 & t\\_cd4\\_treg & 4 & bortezomib & dmso &  78 & ABCA3      & NA & -2.453613 & NA & 1.337154e-02 & 0.9999222 & bortezomib\\_4\\_t\\_cd4\\_treg\\\\\n",
       "\t3 & t\\_cd4\\_treg & 4 & bortezomib & dmso &  78 & AC005070.3 & NA & -2.259963 & NA & 3.110707e-02 & 0.9999222 & bortezomib\\_4\\_t\\_cd4\\_treg\\\\\n",
       "\t4 & t\\_cd4\\_treg & 4 & bortezomib & dmso &  78 & AC006504.5 & NA & -2.470421 & NA & 1.243915e-02 & 0.9999222 & bortezomib\\_4\\_t\\_cd4\\_treg\\\\\n",
       "\t5 & t\\_cd4\\_treg & 4 & bortezomib & dmso &  78 & AC007686.3 & NA & -2.265379 & NA & 3.041017e-02 & 0.9999222 & bortezomib\\_4\\_t\\_cd4\\_treg\\\\\n",
       "\t6 & t\\_cd4\\_treg & 4 & bortezomib & dmso &  78 & AC010754.1 & NA & -2.272969 & NA & 2.952072e-02 & 0.9999222 & bortezomib\\_4\\_t\\_cd4\\_treg\\\\\n",
       "\\end{tabular}\n"
      ],
      "text/markdown": [
       "\n",
       "A data.frame: 6 × 12\n",
       "\n",
       "| <!--/--> | aifi_cell_type &lt;chr&gt; | timepoint &lt;int&gt; | fg &lt;chr&gt; | bg &lt;chr&gt; | n_sample &lt;int&gt; | gene &lt;chr&gt; | coef_C &lt;dbl&gt; | coef_D &lt;dbl&gt; | logFC &lt;dbl&gt; | nomP &lt;dbl&gt; | adjP &lt;dbl&gt; | treat_time_type &lt;chr&gt; |\n",
       "|---|---|---|---|---|---|---|---|---|---|---|---|---|\n",
       "| 1 | t_cd4_em   | 4 | bortezomib | dmso | 180 | TFDP1      | NA |  3.196997 | NA | 3.817725e-05 | 0.1481468 | bortezomib_4_t_cd4_em   |\n",
       "| 2 | t_cd4_treg | 4 | bortezomib | dmso |  78 | ABCA3      | NA | -2.453613 | NA | 1.337154e-02 | 0.9999222 | bortezomib_4_t_cd4_treg |\n",
       "| 3 | t_cd4_treg | 4 | bortezomib | dmso |  78 | AC005070.3 | NA | -2.259963 | NA | 3.110707e-02 | 0.9999222 | bortezomib_4_t_cd4_treg |\n",
       "| 4 | t_cd4_treg | 4 | bortezomib | dmso |  78 | AC006504.5 | NA | -2.470421 | NA | 1.243915e-02 | 0.9999222 | bortezomib_4_t_cd4_treg |\n",
       "| 5 | t_cd4_treg | 4 | bortezomib | dmso |  78 | AC007686.3 | NA | -2.265379 | NA | 3.041017e-02 | 0.9999222 | bortezomib_4_t_cd4_treg |\n",
       "| 6 | t_cd4_treg | 4 | bortezomib | dmso |  78 | AC010754.1 | NA | -2.272969 | NA | 2.952072e-02 | 0.9999222 | bortezomib_4_t_cd4_treg |\n",
       "\n"
      ],
      "text/plain": [
       "  aifi_cell_type timepoint fg         bg   n_sample gene       coef_C coef_D   \n",
       "1 t_cd4_em       4         bortezomib dmso 180      TFDP1      NA      3.196997\n",
       "2 t_cd4_treg     4         bortezomib dmso  78      ABCA3      NA     -2.453613\n",
       "3 t_cd4_treg     4         bortezomib dmso  78      AC005070.3 NA     -2.259963\n",
       "4 t_cd4_treg     4         bortezomib dmso  78      AC006504.5 NA     -2.470421\n",
       "5 t_cd4_treg     4         bortezomib dmso  78      AC007686.3 NA     -2.265379\n",
       "6 t_cd4_treg     4         bortezomib dmso  78      AC010754.1 NA     -2.272969\n",
       "  logFC nomP         adjP      treat_time_type        \n",
       "1 NA    3.817725e-05 0.1481468 bortezomib_4_t_cd4_em  \n",
       "2 NA    1.337154e-02 0.9999222 bortezomib_4_t_cd4_treg\n",
       "3 NA    3.110707e-02 0.9999222 bortezomib_4_t_cd4_treg\n",
       "4 NA    1.243915e-02 0.9999222 bortezomib_4_t_cd4_treg\n",
       "5 NA    3.041017e-02 0.9999222 bortezomib_4_t_cd4_treg\n",
       "6 NA    2.952072e-02 0.9999222 bortezomib_4_t_cd4_treg"
      ]
     },
     "metadata": {},
     "output_type": "display_data"
    }
   ],
   "source": [
    "all_deg %>%\n",
    "  filter(is.na(logFC)) %>%\n",
    "  head()"
   ]
  },
  {
   "cell_type": "markdown",
   "id": "ba112436-dbb3-4501-b924-b7747cd44918",
   "metadata": {},
   "source": [
    "When this occurs, we can use the sign of `coef_D` to determine the direction of expression change, rather than using the missing `logFC` value."
   ]
  },
  {
   "cell_type": "code",
   "execution_count": 61,
   "id": "415b3514-4003-400b-a982-f996607392ce",
   "metadata": {
    "tags": []
   },
   "outputs": [],
   "source": [
    "all_deg <- all_deg %>%\n",
    "  mutate(direction = ifelse(\n",
    "      is.na(logFC),\n",
    "      sign(coef_D), # if missing logFC, use coef_D\n",
    "      sign(logFC) # otherwise, use logFC\n",
    "  ))"
   ]
  },
  {
   "cell_type": "markdown",
   "id": "558f49c5-00f0-488f-9d3f-066a07135a81",
   "metadata": {},
   "source": [
    "We also need to avoid nomP values of 0. These will cause NA values due to log transformation. We'll convert these to `1e-300` so that they have a non-zero value."
   ]
  },
  {
   "cell_type": "code",
   "execution_count": 62,
   "id": "53b8cb47-4ddd-4e10-a6cd-ae23bb5ffed4",
   "metadata": {
    "tags": []
   },
   "outputs": [],
   "source": [
    "all_deg <- all_deg %>%\n",
    "  mutate(nomP = ifelse(\n",
    "      nomP == 0,\n",
    "      1e-300, # if zero, change to 1e-300\n",
    "      nomP # otherwise, keep the value\n",
    "  ))"
   ]
  },
  {
   "cell_type": "code",
   "execution_count": 63,
   "id": "3dbaf248-ef29-47b4-9d0f-497f2b5ebb38",
   "metadata": {
    "tags": []
   },
   "outputs": [],
   "source": [
    "deg_list <- split(all_deg, all_deg$treat_time_type)"
   ]
  },
  {
   "cell_type": "code",
   "execution_count": 64,
   "id": "35d510af-7150-41a3-815d-85a9745bd57d",
   "metadata": {
    "tags": []
   },
   "outputs": [],
   "source": [
    "deg_list <- map(\n",
    "    deg_list,\n",
    "    function(deg) {\n",
    "        deg %>%\n",
    "          mutate(rank_val = -log10(nomP) * direction) %>%\n",
    "          arrange(desc(rank_val))\n",
    "    }\n",
    ")"
   ]
  },
  {
   "cell_type": "code",
   "execution_count": 65,
   "id": "66c3def0-ba07-492c-9254-6d82c7407087",
   "metadata": {
    "tags": []
   },
   "outputs": [],
   "source": [
    "rank_list <- map(\n",
    "    deg_list,\n",
    "    function(deg) {\n",
    "        v <- deg$rank_val\n",
    "        names(v) <- deg$gene\n",
    "        v\n",
    "    }\n",
    ")"
   ]
  },
  {
   "cell_type": "markdown",
   "id": "bd2d07c0-d897-4a3f-a25a-b0bc35b2815c",
   "metadata": {},
   "source": [
    "## Run GSEA"
   ]
  },
  {
   "cell_type": "code",
   "execution_count": 66,
   "id": "b8b5c3ea-4afd-476e-b373-71362a18db79",
   "metadata": {
    "tags": []
   },
   "outputs": [],
   "source": [
    "parallel_param <- BiocParallel::MulticoreParam(\n",
    "    workers = 4, \n",
    "    progressbar = FALSE\n",
    ")"
   ]
  },
  {
   "cell_type": "code",
   "execution_count": 67,
   "id": "1438f89e-731e-4266-8692-0f4c914362b5",
   "metadata": {
    "scrolled": true,
    "tags": []
   },
   "outputs": [
    {
     "name": "stderr",
     "output_type": "stream",
     "text": [
      "Warning message in preparePathwaysAndStats(pathways, stats, minSize, maxSize, gseaParam, :\n",
      "“There are ties in the preranked stats (0.06% of the list).\n",
      "The order of those tied genes will be arbitrary, which may produce unexpected results.”\n"
     ]
    }
   ],
   "source": [
    "fgsea_res <- map(\n",
    "    rank_list,\n",
    "    function(ranks) {\n",
    "        fgsea(\n",
    "            pathways = all_sets$set_list,\n",
    "            stats    = ranks,\n",
    "            minSize  = 10,\n",
    "            maxSize  = 1000,\n",
    "            BPPARAM  = parallel_param\n",
    "        )\n",
    "    }\n",
    ")"
   ]
  },
  {
   "cell_type": "markdown",
   "id": "696576d3-d29a-42db-b322-9e8702a1537e",
   "metadata": {},
   "source": [
    "### Format results"
   ]
  },
  {
   "cell_type": "code",
   "execution_count": 68,
   "id": "dd2cc82c-2379-4f15-a5e1-49520e013ccd",
   "metadata": {
    "tags": []
   },
   "outputs": [],
   "source": [
    "deg_meta <- map(\n",
    "    deg_list,\n",
    "    function(deg) {\n",
    "        list(\n",
    "            fg = deg$fg[1],\n",
    "            bg = deg$bg[1],\n",
    "            timepoint = deg$timepoint[1],\n",
    "            aifi_cell_type = deg$aifi_cell_type[1]\n",
    "        )\n",
    "    }\n",
    ")"
   ]
  },
  {
   "cell_type": "code",
   "execution_count": 69,
   "id": "bd8d5e79-79dc-43ef-ba46-62fe570496d1",
   "metadata": {
    "tags": []
   },
   "outputs": [],
   "source": [
    "formatted_fgsea_res <- map2_dfr(\n",
    "    fgsea_res,\n",
    "    deg_meta,\n",
    "    function(res, meta) {\n",
    "        res %>%\n",
    "          mutate(\n",
    "              leadingEdge = map_chr(leadingEdge, paste, collapse = \";\"),\n",
    "              fg = meta$fg,\n",
    "              bg = meta$bg,\n",
    "              timepoint = meta$timepoint,\n",
    "              aifi_cell_type = meta$aifi_cell_type\n",
    "          ) %>%\n",
    "          left_join(reactome_df, by = \"pathway\") %>%\n",
    "          rename(id = pathway,\n",
    "                 nomP = pval,\n",
    "                 adjP = padj,\n",
    "                 n_leadingEdge = size) %>%\n",
    "          left_join(pw, by = \"id\") %>%\n",
    "          rename(pathway = name) %>%\n",
    "          select(fg, bg, timepoint, aifi_cell_type,\n",
    "                 id, pathway, NES, nomP, adjP, \n",
    "                 n_leadingEdge, n_pathway_genes,\n",
    "                 leadingEdge, pathway_genes) %>%\n",
    "          arrange(desc(NES))\n",
    "\n",
    "    }\n",
    ")"
   ]
  },
  {
   "cell_type": "code",
   "execution_count": 70,
   "id": "31568307-5d28-4ff9-ba83-54085e2dddce",
   "metadata": {
    "tags": []
   },
   "outputs": [
    {
     "data": {
      "text/html": [
       "<table class=\"dataframe\">\n",
       "<caption>A data.table: 6 × 13</caption>\n",
       "<thead>\n",
       "\t<tr><th scope=col>fg</th><th scope=col>bg</th><th scope=col>timepoint</th><th scope=col>aifi_cell_type</th><th scope=col>id</th><th scope=col>pathway</th><th scope=col>NES</th><th scope=col>nomP</th><th scope=col>adjP</th><th scope=col>n_leadingEdge</th><th scope=col>n_pathway_genes</th><th scope=col>leadingEdge</th><th scope=col>pathway_genes</th></tr>\n",
       "\t<tr><th scope=col>&lt;chr&gt;</th><th scope=col>&lt;chr&gt;</th><th scope=col>&lt;int&gt;</th><th scope=col>&lt;chr&gt;</th><th scope=col>&lt;chr&gt;</th><th scope=col>&lt;chr&gt;</th><th scope=col>&lt;dbl&gt;</th><th scope=col>&lt;dbl&gt;</th><th scope=col>&lt;dbl&gt;</th><th scope=col>&lt;int&gt;</th><th scope=col>&lt;int&gt;</th><th scope=col>&lt;chr&gt;</th><th scope=col>&lt;chr&gt;</th></tr>\n",
       "</thead>\n",
       "<tbody>\n",
       "\t<tr><td>lenalidomide</td><td>dmso</td><td>72</td><td>t_cd8_naive</td><td>R-HSA-72613 </td><td>Eukaryotic Translation Initiation                                </td><td>-2.166728</td><td>2.154851e-08</td><td>3.462127e-06</td><td>114</td><td>124</td><td>RPL10;RPLP1;RPLP0;RPSA;RPS3;EIF3G;EIF3L;RPS28;RPL28;RPL23A;RPL7A;RPL29;EIF4A1;RPS5;RPS27;RPL17;EIF5B;EIF3H;RPS16;EIF1AX;EIF3J;RPLP2;RPS2;RPS7;RPL18A;EIF2S2;RPL35;EIF4G1;RPS4X;EIF3B;RPL22L1;RPL22;RPL14;RPS11;RPS21;RPL24;EIF4H;RPS23;RPL19;RPS9;EIF2B4;RPS6;RPL35A;RPS26;RPL27;RPL39;RPS29;RPS24;EIF4A2;EIF2B1;RPL36;RPL36A;RPL8;RPL37A;RPL10A;RPS14;EIF3A;EIF2B5;RPS13;EIF4EBP1;RPL27A;RPL4;RPL31;RPL15</td><td>18S rRNA;28S rRNA;5.8S rRNA;5S rRNA;EIF1AX;EIF2B1;EIF2B2;EIF2B3;EIF2B4;EIF2B5;EIF2S1;EIF2S2;EIF2S3;EIF3A;EIF3B;EIF3C;EIF3D;EIF3E;EIF3F;EIF3G;EIF3H;EIF3I;EIF3J;EIF3K;EIF3L;EIF3M;EIF4A1;EIF4A2;EIF4B;EIF4E;EIF4EBP1;EIF4G1;EIF4H;EIF5;EIF5B;FAU;PABPC1;RPL10;RPL10A;RPL10L;RPL11;RPL12;RPL13;RPL13A;RPL14;RPL15;RPL17;RPL18;RPL18A;RPL19;RPL21;RPL22;RPL22L1;RPL23;RPL23A;RPL24;RPL26;RPL26L1;RPL27;RPL27A;RPL28;RPL29;RPL3;RPL30;RPL31;RPL32;RPL34;RPL35;RPL35A;RPL36;RPL36A;RPL36AL;RPL37;RPL37A;RPL38;RPL39;RPL39L;RPL3L;RPL4;RPL41;RPL5;RPL6;RPL7;RPL7A;RPL8;RPL9;RPLP0;RPLP1;RPLP2;RPS10;RPS11;RPS12;RPS13;RPS14;RPS15;RPS15A;RPS16;RPS17;RPS18;RPS19;RPS2;RPS20;RPS21;RPS23;RPS24;RPS25;RPS26;RPS27;RPS27A;RPS27L;RPS28;RPS29;RPS3;RPS3A;RPS4X;RPS4Y1;RPS4Y2;RPS5;RPS6;RPS7;RPS8;RPS9;RPSA;UBA52</td></tr>\n",
       "\t<tr><td>lenalidomide</td><td>dmso</td><td>72</td><td>t_cd8_naive</td><td>R-HSA-72737 </td><td>Cap-dependent Translation Initiation                             </td><td>-2.166728</td><td>2.154851e-08</td><td>3.462127e-06</td><td>114</td><td>124</td><td>RPL10;RPLP1;RPLP0;RPSA;RPS3;EIF3G;EIF3L;RPS28;RPL28;RPL23A;RPL7A;RPL29;EIF4A1;RPS5;RPS27;RPL17;EIF5B;EIF3H;RPS16;EIF1AX;EIF3J;RPLP2;RPS2;RPS7;RPL18A;EIF2S2;RPL35;EIF4G1;RPS4X;EIF3B;RPL22L1;RPL22;RPL14;RPS11;RPS21;RPL24;EIF4H;RPS23;RPL19;RPS9;EIF2B4;RPS6;RPL35A;RPS26;RPL27;RPL39;RPS29;RPS24;EIF4A2;EIF2B1;RPL36;RPL36A;RPL8;RPL37A;RPL10A;RPS14;EIF3A;EIF2B5;RPS13;EIF4EBP1;RPL27A;RPL4;RPL31;RPL15</td><td>18S rRNA;28S rRNA;5.8S rRNA;5S rRNA;EIF1AX;EIF2B1;EIF2B2;EIF2B3;EIF2B4;EIF2B5;EIF2S1;EIF2S2;EIF2S3;EIF3A;EIF3B;EIF3C;EIF3D;EIF3E;EIF3F;EIF3G;EIF3H;EIF3I;EIF3J;EIF3K;EIF3L;EIF3M;EIF4A1;EIF4A2;EIF4B;EIF4E;EIF4EBP1;EIF4G1;EIF4H;EIF5;EIF5B;FAU;PABPC1;RPL10;RPL10A;RPL10L;RPL11;RPL12;RPL13;RPL13A;RPL14;RPL15;RPL17;RPL18;RPL18A;RPL19;RPL21;RPL22;RPL22L1;RPL23;RPL23A;RPL24;RPL26;RPL26L1;RPL27;RPL27A;RPL28;RPL29;RPL3;RPL30;RPL31;RPL32;RPL34;RPL35;RPL35A;RPL36;RPL36A;RPL36AL;RPL37;RPL37A;RPL38;RPL39;RPL39L;RPL3L;RPL4;RPL41;RPL5;RPL6;RPL7;RPL7A;RPL8;RPL9;RPLP0;RPLP1;RPLP2;RPS10;RPS11;RPS12;RPS13;RPS14;RPS15;RPS15A;RPS16;RPS17;RPS18;RPS19;RPS2;RPS20;RPS21;RPS23;RPS24;RPS25;RPS26;RPS27;RPS27A;RPS27L;RPS28;RPS29;RPS3;RPS3A;RPS4X;RPS4Y1;RPS4Y2;RPS5;RPS6;RPS7;RPS8;RPS9;RPSA;UBA52</td></tr>\n",
       "\t<tr><td>lenalidomide</td><td>dmso</td><td>72</td><td>t_cd8_naive</td><td>R-HSA-72689 </td><td>Formation of a pool of free 40S subunits                         </td><td>-2.176472</td><td>3.952889e-08</td><td>5.443693e-06</td><td> 96</td><td>106</td><td>RPL10;RPLP1;RPLP0;RPSA;RPS3;EIF3G;EIF3L;RPS28;RPL28;RPL23A;RPL7A;RPL29;RPS5;RPS27;RPL17;EIF3H;RPS16;EIF1AX;EIF3J;RPLP2;RPS2;RPS7;RPL18A;RPL35;RPS4X;EIF3B;RPL22L1;RPL22;RPL14;RPS11;RPS21;RPL24;RPS23;RPL19;RPS9;RPS6;RPL35A;RPS26;RPL27;RPL39;RPS29;RPS24                                                                                                                                                </td><td>18S rRNA;28S rRNA;5.8S rRNA;5S rRNA;EIF1AX;EIF3A;EIF3B;EIF3C;EIF3D;EIF3E;EIF3F;EIF3G;EIF3H;EIF3I;EIF3J;EIF3K;EIF3L;EIF3M;FAU;RPL10;RPL10A;RPL10L;RPL11;RPL12;RPL13;RPL13A;RPL14;RPL15;RPL17;RPL18;RPL18A;RPL19;RPL21;RPL22;RPL22L1;RPL23;RPL23A;RPL24;RPL26;RPL26L1;RPL27;RPL27A;RPL28;RPL29;RPL3;RPL30;RPL31;RPL32;RPL34;RPL35;RPL35A;RPL36;RPL36A;RPL36AL;RPL37;RPL37A;RPL38;RPL39;RPL39L;RPL3L;RPL4;RPL41;RPL5;RPL6;RPL7;RPL7A;RPL8;RPL9;RPLP0;RPLP1;RPLP2;RPS10;RPS11;RPS12;RPS13;RPS14;RPS15;RPS15A;RPS16;RPS17;RPS18;RPS19;RPS2;RPS20;RPS21;RPS23;RPS24;RPS25;RPS26;RPS27;RPS27A;RPS27L;RPS28;RPS29;RPS3;RPS3A;RPS4X;RPS4Y1;RPS4Y2;RPS5;RPS6;RPS7;RPS8;RPS9;RPSA;UBA52                                                                                                                          </td></tr>\n",
       "\t<tr><td>lenalidomide</td><td>dmso</td><td>72</td><td>t_cd8_naive</td><td>R-HSA-156842</td><td>Eukaryotic Translation Elongation                                </td><td>-2.178397</td><td>1.156868e-07</td><td>1.394026e-05</td><td> 87</td><td> 99</td><td>RPL10;RPLP1;EEF1A1;RPLP0;RPSA;RPS3;EEF1B2;RPS28;RPL28;RPL23A;RPL7A;RPL29;RPS5;RPS27;RPL17;RPS16;RPLP2;RPS2;RPS7;RPL18A;RPL35;RPS4X;RPL22L1;RPL22;RPL14;RPS11;RPS21;RPL24;RPS23;RPL19;RPS9;RPS6;RPL35A;RPS26;RPL27;RPL39;RPS29;RPS24                                                                                                                                                                       </td><td>18S rRNA;28S rRNA;5.8S rRNA;5S rRNA;EEF1A1;EEF1A1P5;EEF1A2;EEF1B2;EEF1D;EEF1G;EEF2;FAU;RPL10;RPL10A;RPL10L;RPL11;RPL12;RPL13;RPL13A;RPL14;RPL15;RPL17;RPL18;RPL18A;RPL19;RPL21;RPL22;RPL22L1;RPL23;RPL23A;RPL24;RPL26;RPL26L1;RPL27;RPL27A;RPL28;RPL29;RPL3;RPL30;RPL31;RPL32;RPL34;RPL35;RPL35A;RPL36;RPL36A;RPL36AL;RPL37;RPL37A;RPL38;RPL39;RPL39L;RPL3L;RPL4;RPL41;RPL5;RPL6;RPL7;RPL7A;RPL8;RPL9;RPLP0;RPLP1;RPLP2;RPS10;RPS11;RPS12;RPS13;RPS14;RPS15;RPS15A;RPS16;RPS17;RPS18;RPS19;RPS2;RPS20;RPS21;RPS23;RPS24;RPS25;RPS26;RPS27;RPS27A;RPS27L;RPS28;RPS29;RPS3;RPS3A;RPS4X;RPS4Y1;RPS4Y2;RPS5;RPS6;RPS7;RPS8;RPS9;RPSA;UBA52                                                                                                                                                                </td></tr>\n",
       "\t<tr><td>lenalidomide</td><td>dmso</td><td>72</td><td>t_cd8_naive</td><td>R-HSA-156827</td><td>L13a-mediated translational silencing of Ceruloplasmin expression</td><td>-2.208010</td><td>8.437858e-09</td><td>2.033524e-06</td><td>106</td><td>116</td><td>RPL10;RPLP1;RPLP0;RPSA;RPS3;EIF3G;EIF3L;RPS28;RPL28;RPL23A;RPL7A;RPL29;EIF4A1;RPS5;RPS27;RPL17;EIF3H;RPS16;EIF1AX;EIF3J;RPLP2;RPS2;RPS7;RPL18A;EIF2S2;RPL35;EIF4G1;RPS4X;EIF3B;RPL22L1;RPL22;RPL14;RPS11;RPS21;RPL24;EIF4H;RPS23;RPL19;RPS9;RPS6;RPL35A;RPS26;RPL27;RPL39;RPS29;RPS24;EIF4A2                                                                                                              </td><td>18S rRNA;28S rRNA;5.8S rRNA;5S rRNA;EIF1AX;EIF2S1;EIF2S2;EIF2S3;EIF3A;EIF3B;EIF3C;EIF3D;EIF3E;EIF3F;EIF3G;EIF3H;EIF3I;EIF3J;EIF3K;EIF3L;EIF3M;EIF4A1;EIF4A2;EIF4B;EIF4E;EIF4G1;EIF4H;FAU;PABPC1;RPL10;RPL10A;RPL10L;RPL11;RPL12;RPL13;RPL13A;RPL14;RPL15;RPL17;RPL18;RPL18A;RPL19;RPL21;RPL22;RPL22L1;RPL23;RPL23A;RPL24;RPL26;RPL26L1;RPL27;RPL27A;RPL28;RPL29;RPL3;RPL30;RPL31;RPL32;RPL34;RPL35;RPL35A;RPL36;RPL36A;RPL36AL;RPL37;RPL37A;RPL38;RPL39;RPL39L;RPL3L;RPL4;RPL41;RPL5;RPL6;RPL7;RPL7A;RPL8;RPL9;RPLP0;RPLP1;RPLP2;RPS10;RPS11;RPS12;RPS13;RPS14;RPS15;RPS15A;RPS16;RPS17;RPS18;RPS19;RPS2;RPS20;RPS21;RPS23;RPS24;RPS25;RPS26;RPS27;RPS27A;RPS27L;RPS28;RPS29;RPS3;RPS3A;RPS4X;RPS4Y1;RPS4Y2;RPS5;RPS6;RPS7;RPS8;RPS9;RPSA;UBA52                                                       </td></tr>\n",
       "\t<tr><td>lenalidomide</td><td>dmso</td><td>72</td><td>t_cd8_naive</td><td>R-HSA-72706 </td><td>GTP hydrolysis and joining of the 60S ribosomal subunit          </td><td>-2.240697</td><td>4.102300e-09</td><td>1.631962e-06</td><td>107</td><td>117</td><td>RPL10;RPLP1;RPLP0;RPSA;RPS3;EIF3G;EIF3L;RPS28;RPL28;RPL23A;RPL7A;RPL29;EIF4A1;RPS5;RPS27;RPL17;EIF5B;EIF3H;RPS16;EIF1AX;EIF3J;RPLP2;RPS2;RPS7;RPL18A;EIF2S2;RPL35;EIF4G1;RPS4X;EIF3B;RPL22L1;RPL22;RPL14;RPS11;RPS21;RPL24;EIF4H;RPS23;RPL19;RPS9;RPS6;RPL35A;RPS26;RPL27;RPL39;RPS29;RPS24;EIF4A2                                                                                                        </td><td>18S rRNA;28S rRNA;5.8S rRNA;5S rRNA;EIF1AX;EIF2S1;EIF2S2;EIF2S3;EIF3A;EIF3B;EIF3C;EIF3D;EIF3E;EIF3F;EIF3G;EIF3H;EIF3I;EIF3J;EIF3K;EIF3L;EIF3M;EIF4A1;EIF4A2;EIF4B;EIF4E;EIF4G1;EIF4H;EIF5;EIF5B;FAU;RPL10;RPL10A;RPL10L;RPL11;RPL12;RPL13;RPL13A;RPL14;RPL15;RPL17;RPL18;RPL18A;RPL19;RPL21;RPL22;RPL22L1;RPL23;RPL23A;RPL24;RPL26;RPL26L1;RPL27;RPL27A;RPL28;RPL29;RPL3;RPL30;RPL31;RPL32;RPL34;RPL35;RPL35A;RPL36;RPL36A;RPL36AL;RPL37;RPL37A;RPL38;RPL39;RPL39L;RPL3L;RPL4;RPL41;RPL5;RPL6;RPL7;RPL7A;RPL8;RPL9;RPLP0;RPLP1;RPLP2;RPS10;RPS11;RPS12;RPS13;RPS14;RPS15;RPS15A;RPS16;RPS17;RPS18;RPS19;RPS2;RPS20;RPS21;RPS23;RPS24;RPS25;RPS26;RPS27;RPS27A;RPS27L;RPS28;RPS29;RPS3;RPS3A;RPS4X;RPS4Y1;RPS4Y2;RPS5;RPS6;RPS7;RPS8;RPS9;RPSA;UBA52                                                   </td></tr>\n",
       "</tbody>\n",
       "</table>\n"
      ],
      "text/latex": [
       "A data.table: 6 × 13\n",
       "\\begin{tabular}{lllllllllllll}\n",
       " fg & bg & timepoint & aifi\\_cell\\_type & id & pathway & NES & nomP & adjP & n\\_leadingEdge & n\\_pathway\\_genes & leadingEdge & pathway\\_genes\\\\\n",
       " <chr> & <chr> & <int> & <chr> & <chr> & <chr> & <dbl> & <dbl> & <dbl> & <int> & <int> & <chr> & <chr>\\\\\n",
       "\\hline\n",
       "\t lenalidomide & dmso & 72 & t\\_cd8\\_naive & R-HSA-72613  & Eukaryotic Translation Initiation                                 & -2.166728 & 2.154851e-08 & 3.462127e-06 & 114 & 124 & RPL10;RPLP1;RPLP0;RPSA;RPS3;EIF3G;EIF3L;RPS28;RPL28;RPL23A;RPL7A;RPL29;EIF4A1;RPS5;RPS27;RPL17;EIF5B;EIF3H;RPS16;EIF1AX;EIF3J;RPLP2;RPS2;RPS7;RPL18A;EIF2S2;RPL35;EIF4G1;RPS4X;EIF3B;RPL22L1;RPL22;RPL14;RPS11;RPS21;RPL24;EIF4H;RPS23;RPL19;RPS9;EIF2B4;RPS6;RPL35A;RPS26;RPL27;RPL39;RPS29;RPS24;EIF4A2;EIF2B1;RPL36;RPL36A;RPL8;RPL37A;RPL10A;RPS14;EIF3A;EIF2B5;RPS13;EIF4EBP1;RPL27A;RPL4;RPL31;RPL15 & 18S rRNA;28S rRNA;5.8S rRNA;5S rRNA;EIF1AX;EIF2B1;EIF2B2;EIF2B3;EIF2B4;EIF2B5;EIF2S1;EIF2S2;EIF2S3;EIF3A;EIF3B;EIF3C;EIF3D;EIF3E;EIF3F;EIF3G;EIF3H;EIF3I;EIF3J;EIF3K;EIF3L;EIF3M;EIF4A1;EIF4A2;EIF4B;EIF4E;EIF4EBP1;EIF4G1;EIF4H;EIF5;EIF5B;FAU;PABPC1;RPL10;RPL10A;RPL10L;RPL11;RPL12;RPL13;RPL13A;RPL14;RPL15;RPL17;RPL18;RPL18A;RPL19;RPL21;RPL22;RPL22L1;RPL23;RPL23A;RPL24;RPL26;RPL26L1;RPL27;RPL27A;RPL28;RPL29;RPL3;RPL30;RPL31;RPL32;RPL34;RPL35;RPL35A;RPL36;RPL36A;RPL36AL;RPL37;RPL37A;RPL38;RPL39;RPL39L;RPL3L;RPL4;RPL41;RPL5;RPL6;RPL7;RPL7A;RPL8;RPL9;RPLP0;RPLP1;RPLP2;RPS10;RPS11;RPS12;RPS13;RPS14;RPS15;RPS15A;RPS16;RPS17;RPS18;RPS19;RPS2;RPS20;RPS21;RPS23;RPS24;RPS25;RPS26;RPS27;RPS27A;RPS27L;RPS28;RPS29;RPS3;RPS3A;RPS4X;RPS4Y1;RPS4Y2;RPS5;RPS6;RPS7;RPS8;RPS9;RPSA;UBA52\\\\\n",
       "\t lenalidomide & dmso & 72 & t\\_cd8\\_naive & R-HSA-72737  & Cap-dependent Translation Initiation                              & -2.166728 & 2.154851e-08 & 3.462127e-06 & 114 & 124 & RPL10;RPLP1;RPLP0;RPSA;RPS3;EIF3G;EIF3L;RPS28;RPL28;RPL23A;RPL7A;RPL29;EIF4A1;RPS5;RPS27;RPL17;EIF5B;EIF3H;RPS16;EIF1AX;EIF3J;RPLP2;RPS2;RPS7;RPL18A;EIF2S2;RPL35;EIF4G1;RPS4X;EIF3B;RPL22L1;RPL22;RPL14;RPS11;RPS21;RPL24;EIF4H;RPS23;RPL19;RPS9;EIF2B4;RPS6;RPL35A;RPS26;RPL27;RPL39;RPS29;RPS24;EIF4A2;EIF2B1;RPL36;RPL36A;RPL8;RPL37A;RPL10A;RPS14;EIF3A;EIF2B5;RPS13;EIF4EBP1;RPL27A;RPL4;RPL31;RPL15 & 18S rRNA;28S rRNA;5.8S rRNA;5S rRNA;EIF1AX;EIF2B1;EIF2B2;EIF2B3;EIF2B4;EIF2B5;EIF2S1;EIF2S2;EIF2S3;EIF3A;EIF3B;EIF3C;EIF3D;EIF3E;EIF3F;EIF3G;EIF3H;EIF3I;EIF3J;EIF3K;EIF3L;EIF3M;EIF4A1;EIF4A2;EIF4B;EIF4E;EIF4EBP1;EIF4G1;EIF4H;EIF5;EIF5B;FAU;PABPC1;RPL10;RPL10A;RPL10L;RPL11;RPL12;RPL13;RPL13A;RPL14;RPL15;RPL17;RPL18;RPL18A;RPL19;RPL21;RPL22;RPL22L1;RPL23;RPL23A;RPL24;RPL26;RPL26L1;RPL27;RPL27A;RPL28;RPL29;RPL3;RPL30;RPL31;RPL32;RPL34;RPL35;RPL35A;RPL36;RPL36A;RPL36AL;RPL37;RPL37A;RPL38;RPL39;RPL39L;RPL3L;RPL4;RPL41;RPL5;RPL6;RPL7;RPL7A;RPL8;RPL9;RPLP0;RPLP1;RPLP2;RPS10;RPS11;RPS12;RPS13;RPS14;RPS15;RPS15A;RPS16;RPS17;RPS18;RPS19;RPS2;RPS20;RPS21;RPS23;RPS24;RPS25;RPS26;RPS27;RPS27A;RPS27L;RPS28;RPS29;RPS3;RPS3A;RPS4X;RPS4Y1;RPS4Y2;RPS5;RPS6;RPS7;RPS8;RPS9;RPSA;UBA52\\\\\n",
       "\t lenalidomide & dmso & 72 & t\\_cd8\\_naive & R-HSA-72689  & Formation of a pool of free 40S subunits                          & -2.176472 & 3.952889e-08 & 5.443693e-06 &  96 & 106 & RPL10;RPLP1;RPLP0;RPSA;RPS3;EIF3G;EIF3L;RPS28;RPL28;RPL23A;RPL7A;RPL29;RPS5;RPS27;RPL17;EIF3H;RPS16;EIF1AX;EIF3J;RPLP2;RPS2;RPS7;RPL18A;RPL35;RPS4X;EIF3B;RPL22L1;RPL22;RPL14;RPS11;RPS21;RPL24;RPS23;RPL19;RPS9;RPS6;RPL35A;RPS26;RPL27;RPL39;RPS29;RPS24                                                                                                                                                 & 18S rRNA;28S rRNA;5.8S rRNA;5S rRNA;EIF1AX;EIF3A;EIF3B;EIF3C;EIF3D;EIF3E;EIF3F;EIF3G;EIF3H;EIF3I;EIF3J;EIF3K;EIF3L;EIF3M;FAU;RPL10;RPL10A;RPL10L;RPL11;RPL12;RPL13;RPL13A;RPL14;RPL15;RPL17;RPL18;RPL18A;RPL19;RPL21;RPL22;RPL22L1;RPL23;RPL23A;RPL24;RPL26;RPL26L1;RPL27;RPL27A;RPL28;RPL29;RPL3;RPL30;RPL31;RPL32;RPL34;RPL35;RPL35A;RPL36;RPL36A;RPL36AL;RPL37;RPL37A;RPL38;RPL39;RPL39L;RPL3L;RPL4;RPL41;RPL5;RPL6;RPL7;RPL7A;RPL8;RPL9;RPLP0;RPLP1;RPLP2;RPS10;RPS11;RPS12;RPS13;RPS14;RPS15;RPS15A;RPS16;RPS17;RPS18;RPS19;RPS2;RPS20;RPS21;RPS23;RPS24;RPS25;RPS26;RPS27;RPS27A;RPS27L;RPS28;RPS29;RPS3;RPS3A;RPS4X;RPS4Y1;RPS4Y2;RPS5;RPS6;RPS7;RPS8;RPS9;RPSA;UBA52                                                                                                                          \\\\\n",
       "\t lenalidomide & dmso & 72 & t\\_cd8\\_naive & R-HSA-156842 & Eukaryotic Translation Elongation                                 & -2.178397 & 1.156868e-07 & 1.394026e-05 &  87 &  99 & RPL10;RPLP1;EEF1A1;RPLP0;RPSA;RPS3;EEF1B2;RPS28;RPL28;RPL23A;RPL7A;RPL29;RPS5;RPS27;RPL17;RPS16;RPLP2;RPS2;RPS7;RPL18A;RPL35;RPS4X;RPL22L1;RPL22;RPL14;RPS11;RPS21;RPL24;RPS23;RPL19;RPS9;RPS6;RPL35A;RPS26;RPL27;RPL39;RPS29;RPS24                                                                                                                                                                        & 18S rRNA;28S rRNA;5.8S rRNA;5S rRNA;EEF1A1;EEF1A1P5;EEF1A2;EEF1B2;EEF1D;EEF1G;EEF2;FAU;RPL10;RPL10A;RPL10L;RPL11;RPL12;RPL13;RPL13A;RPL14;RPL15;RPL17;RPL18;RPL18A;RPL19;RPL21;RPL22;RPL22L1;RPL23;RPL23A;RPL24;RPL26;RPL26L1;RPL27;RPL27A;RPL28;RPL29;RPL3;RPL30;RPL31;RPL32;RPL34;RPL35;RPL35A;RPL36;RPL36A;RPL36AL;RPL37;RPL37A;RPL38;RPL39;RPL39L;RPL3L;RPL4;RPL41;RPL5;RPL6;RPL7;RPL7A;RPL8;RPL9;RPLP0;RPLP1;RPLP2;RPS10;RPS11;RPS12;RPS13;RPS14;RPS15;RPS15A;RPS16;RPS17;RPS18;RPS19;RPS2;RPS20;RPS21;RPS23;RPS24;RPS25;RPS26;RPS27;RPS27A;RPS27L;RPS28;RPS29;RPS3;RPS3A;RPS4X;RPS4Y1;RPS4Y2;RPS5;RPS6;RPS7;RPS8;RPS9;RPSA;UBA52                                                                                                                                                                \\\\\n",
       "\t lenalidomide & dmso & 72 & t\\_cd8\\_naive & R-HSA-156827 & L13a-mediated translational silencing of Ceruloplasmin expression & -2.208010 & 8.437858e-09 & 2.033524e-06 & 106 & 116 & RPL10;RPLP1;RPLP0;RPSA;RPS3;EIF3G;EIF3L;RPS28;RPL28;RPL23A;RPL7A;RPL29;EIF4A1;RPS5;RPS27;RPL17;EIF3H;RPS16;EIF1AX;EIF3J;RPLP2;RPS2;RPS7;RPL18A;EIF2S2;RPL35;EIF4G1;RPS4X;EIF3B;RPL22L1;RPL22;RPL14;RPS11;RPS21;RPL24;EIF4H;RPS23;RPL19;RPS9;RPS6;RPL35A;RPS26;RPL27;RPL39;RPS29;RPS24;EIF4A2                                                                                                               & 18S rRNA;28S rRNA;5.8S rRNA;5S rRNA;EIF1AX;EIF2S1;EIF2S2;EIF2S3;EIF3A;EIF3B;EIF3C;EIF3D;EIF3E;EIF3F;EIF3G;EIF3H;EIF3I;EIF3J;EIF3K;EIF3L;EIF3M;EIF4A1;EIF4A2;EIF4B;EIF4E;EIF4G1;EIF4H;FAU;PABPC1;RPL10;RPL10A;RPL10L;RPL11;RPL12;RPL13;RPL13A;RPL14;RPL15;RPL17;RPL18;RPL18A;RPL19;RPL21;RPL22;RPL22L1;RPL23;RPL23A;RPL24;RPL26;RPL26L1;RPL27;RPL27A;RPL28;RPL29;RPL3;RPL30;RPL31;RPL32;RPL34;RPL35;RPL35A;RPL36;RPL36A;RPL36AL;RPL37;RPL37A;RPL38;RPL39;RPL39L;RPL3L;RPL4;RPL41;RPL5;RPL6;RPL7;RPL7A;RPL8;RPL9;RPLP0;RPLP1;RPLP2;RPS10;RPS11;RPS12;RPS13;RPS14;RPS15;RPS15A;RPS16;RPS17;RPS18;RPS19;RPS2;RPS20;RPS21;RPS23;RPS24;RPS25;RPS26;RPS27;RPS27A;RPS27L;RPS28;RPS29;RPS3;RPS3A;RPS4X;RPS4Y1;RPS4Y2;RPS5;RPS6;RPS7;RPS8;RPS9;RPSA;UBA52                                                       \\\\\n",
       "\t lenalidomide & dmso & 72 & t\\_cd8\\_naive & R-HSA-72706  & GTP hydrolysis and joining of the 60S ribosomal subunit           & -2.240697 & 4.102300e-09 & 1.631962e-06 & 107 & 117 & RPL10;RPLP1;RPLP0;RPSA;RPS3;EIF3G;EIF3L;RPS28;RPL28;RPL23A;RPL7A;RPL29;EIF4A1;RPS5;RPS27;RPL17;EIF5B;EIF3H;RPS16;EIF1AX;EIF3J;RPLP2;RPS2;RPS7;RPL18A;EIF2S2;RPL35;EIF4G1;RPS4X;EIF3B;RPL22L1;RPL22;RPL14;RPS11;RPS21;RPL24;EIF4H;RPS23;RPL19;RPS9;RPS6;RPL35A;RPS26;RPL27;RPL39;RPS29;RPS24;EIF4A2                                                                                                         & 18S rRNA;28S rRNA;5.8S rRNA;5S rRNA;EIF1AX;EIF2S1;EIF2S2;EIF2S3;EIF3A;EIF3B;EIF3C;EIF3D;EIF3E;EIF3F;EIF3G;EIF3H;EIF3I;EIF3J;EIF3K;EIF3L;EIF3M;EIF4A1;EIF4A2;EIF4B;EIF4E;EIF4G1;EIF4H;EIF5;EIF5B;FAU;RPL10;RPL10A;RPL10L;RPL11;RPL12;RPL13;RPL13A;RPL14;RPL15;RPL17;RPL18;RPL18A;RPL19;RPL21;RPL22;RPL22L1;RPL23;RPL23A;RPL24;RPL26;RPL26L1;RPL27;RPL27A;RPL28;RPL29;RPL3;RPL30;RPL31;RPL32;RPL34;RPL35;RPL35A;RPL36;RPL36A;RPL36AL;RPL37;RPL37A;RPL38;RPL39;RPL39L;RPL3L;RPL4;RPL41;RPL5;RPL6;RPL7;RPL7A;RPL8;RPL9;RPLP0;RPLP1;RPLP2;RPS10;RPS11;RPS12;RPS13;RPS14;RPS15;RPS15A;RPS16;RPS17;RPS18;RPS19;RPS2;RPS20;RPS21;RPS23;RPS24;RPS25;RPS26;RPS27;RPS27A;RPS27L;RPS28;RPS29;RPS3;RPS3A;RPS4X;RPS4Y1;RPS4Y2;RPS5;RPS6;RPS7;RPS8;RPS9;RPSA;UBA52                                                   \\\\\n",
       "\\end{tabular}\n"
      ],
      "text/markdown": [
       "\n",
       "A data.table: 6 × 13\n",
       "\n",
       "| fg &lt;chr&gt; | bg &lt;chr&gt; | timepoint &lt;int&gt; | aifi_cell_type &lt;chr&gt; | id &lt;chr&gt; | pathway &lt;chr&gt; | NES &lt;dbl&gt; | nomP &lt;dbl&gt; | adjP &lt;dbl&gt; | n_leadingEdge &lt;int&gt; | n_pathway_genes &lt;int&gt; | leadingEdge &lt;chr&gt; | pathway_genes &lt;chr&gt; |\n",
       "|---|---|---|---|---|---|---|---|---|---|---|---|---|\n",
       "| lenalidomide | dmso | 72 | t_cd8_naive | R-HSA-72613  | Eukaryotic Translation Initiation                                 | -2.166728 | 2.154851e-08 | 3.462127e-06 | 114 | 124 | RPL10;RPLP1;RPLP0;RPSA;RPS3;EIF3G;EIF3L;RPS28;RPL28;RPL23A;RPL7A;RPL29;EIF4A1;RPS5;RPS27;RPL17;EIF5B;EIF3H;RPS16;EIF1AX;EIF3J;RPLP2;RPS2;RPS7;RPL18A;EIF2S2;RPL35;EIF4G1;RPS4X;EIF3B;RPL22L1;RPL22;RPL14;RPS11;RPS21;RPL24;EIF4H;RPS23;RPL19;RPS9;EIF2B4;RPS6;RPL35A;RPS26;RPL27;RPL39;RPS29;RPS24;EIF4A2;EIF2B1;RPL36;RPL36A;RPL8;RPL37A;RPL10A;RPS14;EIF3A;EIF2B5;RPS13;EIF4EBP1;RPL27A;RPL4;RPL31;RPL15 | 18S rRNA;28S rRNA;5.8S rRNA;5S rRNA;EIF1AX;EIF2B1;EIF2B2;EIF2B3;EIF2B4;EIF2B5;EIF2S1;EIF2S2;EIF2S3;EIF3A;EIF3B;EIF3C;EIF3D;EIF3E;EIF3F;EIF3G;EIF3H;EIF3I;EIF3J;EIF3K;EIF3L;EIF3M;EIF4A1;EIF4A2;EIF4B;EIF4E;EIF4EBP1;EIF4G1;EIF4H;EIF5;EIF5B;FAU;PABPC1;RPL10;RPL10A;RPL10L;RPL11;RPL12;RPL13;RPL13A;RPL14;RPL15;RPL17;RPL18;RPL18A;RPL19;RPL21;RPL22;RPL22L1;RPL23;RPL23A;RPL24;RPL26;RPL26L1;RPL27;RPL27A;RPL28;RPL29;RPL3;RPL30;RPL31;RPL32;RPL34;RPL35;RPL35A;RPL36;RPL36A;RPL36AL;RPL37;RPL37A;RPL38;RPL39;RPL39L;RPL3L;RPL4;RPL41;RPL5;RPL6;RPL7;RPL7A;RPL8;RPL9;RPLP0;RPLP1;RPLP2;RPS10;RPS11;RPS12;RPS13;RPS14;RPS15;RPS15A;RPS16;RPS17;RPS18;RPS19;RPS2;RPS20;RPS21;RPS23;RPS24;RPS25;RPS26;RPS27;RPS27A;RPS27L;RPS28;RPS29;RPS3;RPS3A;RPS4X;RPS4Y1;RPS4Y2;RPS5;RPS6;RPS7;RPS8;RPS9;RPSA;UBA52 |\n",
       "| lenalidomide | dmso | 72 | t_cd8_naive | R-HSA-72737  | Cap-dependent Translation Initiation                              | -2.166728 | 2.154851e-08 | 3.462127e-06 | 114 | 124 | RPL10;RPLP1;RPLP0;RPSA;RPS3;EIF3G;EIF3L;RPS28;RPL28;RPL23A;RPL7A;RPL29;EIF4A1;RPS5;RPS27;RPL17;EIF5B;EIF3H;RPS16;EIF1AX;EIF3J;RPLP2;RPS2;RPS7;RPL18A;EIF2S2;RPL35;EIF4G1;RPS4X;EIF3B;RPL22L1;RPL22;RPL14;RPS11;RPS21;RPL24;EIF4H;RPS23;RPL19;RPS9;EIF2B4;RPS6;RPL35A;RPS26;RPL27;RPL39;RPS29;RPS24;EIF4A2;EIF2B1;RPL36;RPL36A;RPL8;RPL37A;RPL10A;RPS14;EIF3A;EIF2B5;RPS13;EIF4EBP1;RPL27A;RPL4;RPL31;RPL15 | 18S rRNA;28S rRNA;5.8S rRNA;5S rRNA;EIF1AX;EIF2B1;EIF2B2;EIF2B3;EIF2B4;EIF2B5;EIF2S1;EIF2S2;EIF2S3;EIF3A;EIF3B;EIF3C;EIF3D;EIF3E;EIF3F;EIF3G;EIF3H;EIF3I;EIF3J;EIF3K;EIF3L;EIF3M;EIF4A1;EIF4A2;EIF4B;EIF4E;EIF4EBP1;EIF4G1;EIF4H;EIF5;EIF5B;FAU;PABPC1;RPL10;RPL10A;RPL10L;RPL11;RPL12;RPL13;RPL13A;RPL14;RPL15;RPL17;RPL18;RPL18A;RPL19;RPL21;RPL22;RPL22L1;RPL23;RPL23A;RPL24;RPL26;RPL26L1;RPL27;RPL27A;RPL28;RPL29;RPL3;RPL30;RPL31;RPL32;RPL34;RPL35;RPL35A;RPL36;RPL36A;RPL36AL;RPL37;RPL37A;RPL38;RPL39;RPL39L;RPL3L;RPL4;RPL41;RPL5;RPL6;RPL7;RPL7A;RPL8;RPL9;RPLP0;RPLP1;RPLP2;RPS10;RPS11;RPS12;RPS13;RPS14;RPS15;RPS15A;RPS16;RPS17;RPS18;RPS19;RPS2;RPS20;RPS21;RPS23;RPS24;RPS25;RPS26;RPS27;RPS27A;RPS27L;RPS28;RPS29;RPS3;RPS3A;RPS4X;RPS4Y1;RPS4Y2;RPS5;RPS6;RPS7;RPS8;RPS9;RPSA;UBA52 |\n",
       "| lenalidomide | dmso | 72 | t_cd8_naive | R-HSA-72689  | Formation of a pool of free 40S subunits                          | -2.176472 | 3.952889e-08 | 5.443693e-06 |  96 | 106 | RPL10;RPLP1;RPLP0;RPSA;RPS3;EIF3G;EIF3L;RPS28;RPL28;RPL23A;RPL7A;RPL29;RPS5;RPS27;RPL17;EIF3H;RPS16;EIF1AX;EIF3J;RPLP2;RPS2;RPS7;RPL18A;RPL35;RPS4X;EIF3B;RPL22L1;RPL22;RPL14;RPS11;RPS21;RPL24;RPS23;RPL19;RPS9;RPS6;RPL35A;RPS26;RPL27;RPL39;RPS29;RPS24                                                                                                                                                 | 18S rRNA;28S rRNA;5.8S rRNA;5S rRNA;EIF1AX;EIF3A;EIF3B;EIF3C;EIF3D;EIF3E;EIF3F;EIF3G;EIF3H;EIF3I;EIF3J;EIF3K;EIF3L;EIF3M;FAU;RPL10;RPL10A;RPL10L;RPL11;RPL12;RPL13;RPL13A;RPL14;RPL15;RPL17;RPL18;RPL18A;RPL19;RPL21;RPL22;RPL22L1;RPL23;RPL23A;RPL24;RPL26;RPL26L1;RPL27;RPL27A;RPL28;RPL29;RPL3;RPL30;RPL31;RPL32;RPL34;RPL35;RPL35A;RPL36;RPL36A;RPL36AL;RPL37;RPL37A;RPL38;RPL39;RPL39L;RPL3L;RPL4;RPL41;RPL5;RPL6;RPL7;RPL7A;RPL8;RPL9;RPLP0;RPLP1;RPLP2;RPS10;RPS11;RPS12;RPS13;RPS14;RPS15;RPS15A;RPS16;RPS17;RPS18;RPS19;RPS2;RPS20;RPS21;RPS23;RPS24;RPS25;RPS26;RPS27;RPS27A;RPS27L;RPS28;RPS29;RPS3;RPS3A;RPS4X;RPS4Y1;RPS4Y2;RPS5;RPS6;RPS7;RPS8;RPS9;RPSA;UBA52                                                                                                                           |\n",
       "| lenalidomide | dmso | 72 | t_cd8_naive | R-HSA-156842 | Eukaryotic Translation Elongation                                 | -2.178397 | 1.156868e-07 | 1.394026e-05 |  87 |  99 | RPL10;RPLP1;EEF1A1;RPLP0;RPSA;RPS3;EEF1B2;RPS28;RPL28;RPL23A;RPL7A;RPL29;RPS5;RPS27;RPL17;RPS16;RPLP2;RPS2;RPS7;RPL18A;RPL35;RPS4X;RPL22L1;RPL22;RPL14;RPS11;RPS21;RPL24;RPS23;RPL19;RPS9;RPS6;RPL35A;RPS26;RPL27;RPL39;RPS29;RPS24                                                                                                                                                                        | 18S rRNA;28S rRNA;5.8S rRNA;5S rRNA;EEF1A1;EEF1A1P5;EEF1A2;EEF1B2;EEF1D;EEF1G;EEF2;FAU;RPL10;RPL10A;RPL10L;RPL11;RPL12;RPL13;RPL13A;RPL14;RPL15;RPL17;RPL18;RPL18A;RPL19;RPL21;RPL22;RPL22L1;RPL23;RPL23A;RPL24;RPL26;RPL26L1;RPL27;RPL27A;RPL28;RPL29;RPL3;RPL30;RPL31;RPL32;RPL34;RPL35;RPL35A;RPL36;RPL36A;RPL36AL;RPL37;RPL37A;RPL38;RPL39;RPL39L;RPL3L;RPL4;RPL41;RPL5;RPL6;RPL7;RPL7A;RPL8;RPL9;RPLP0;RPLP1;RPLP2;RPS10;RPS11;RPS12;RPS13;RPS14;RPS15;RPS15A;RPS16;RPS17;RPS18;RPS19;RPS2;RPS20;RPS21;RPS23;RPS24;RPS25;RPS26;RPS27;RPS27A;RPS27L;RPS28;RPS29;RPS3;RPS3A;RPS4X;RPS4Y1;RPS4Y2;RPS5;RPS6;RPS7;RPS8;RPS9;RPSA;UBA52                                                                                                                                                                 |\n",
       "| lenalidomide | dmso | 72 | t_cd8_naive | R-HSA-156827 | L13a-mediated translational silencing of Ceruloplasmin expression | -2.208010 | 8.437858e-09 | 2.033524e-06 | 106 | 116 | RPL10;RPLP1;RPLP0;RPSA;RPS3;EIF3G;EIF3L;RPS28;RPL28;RPL23A;RPL7A;RPL29;EIF4A1;RPS5;RPS27;RPL17;EIF3H;RPS16;EIF1AX;EIF3J;RPLP2;RPS2;RPS7;RPL18A;EIF2S2;RPL35;EIF4G1;RPS4X;EIF3B;RPL22L1;RPL22;RPL14;RPS11;RPS21;RPL24;EIF4H;RPS23;RPL19;RPS9;RPS6;RPL35A;RPS26;RPL27;RPL39;RPS29;RPS24;EIF4A2                                                                                                               | 18S rRNA;28S rRNA;5.8S rRNA;5S rRNA;EIF1AX;EIF2S1;EIF2S2;EIF2S3;EIF3A;EIF3B;EIF3C;EIF3D;EIF3E;EIF3F;EIF3G;EIF3H;EIF3I;EIF3J;EIF3K;EIF3L;EIF3M;EIF4A1;EIF4A2;EIF4B;EIF4E;EIF4G1;EIF4H;FAU;PABPC1;RPL10;RPL10A;RPL10L;RPL11;RPL12;RPL13;RPL13A;RPL14;RPL15;RPL17;RPL18;RPL18A;RPL19;RPL21;RPL22;RPL22L1;RPL23;RPL23A;RPL24;RPL26;RPL26L1;RPL27;RPL27A;RPL28;RPL29;RPL3;RPL30;RPL31;RPL32;RPL34;RPL35;RPL35A;RPL36;RPL36A;RPL36AL;RPL37;RPL37A;RPL38;RPL39;RPL39L;RPL3L;RPL4;RPL41;RPL5;RPL6;RPL7;RPL7A;RPL8;RPL9;RPLP0;RPLP1;RPLP2;RPS10;RPS11;RPS12;RPS13;RPS14;RPS15;RPS15A;RPS16;RPS17;RPS18;RPS19;RPS2;RPS20;RPS21;RPS23;RPS24;RPS25;RPS26;RPS27;RPS27A;RPS27L;RPS28;RPS29;RPS3;RPS3A;RPS4X;RPS4Y1;RPS4Y2;RPS5;RPS6;RPS7;RPS8;RPS9;RPSA;UBA52                                                        |\n",
       "| lenalidomide | dmso | 72 | t_cd8_naive | R-HSA-72706  | GTP hydrolysis and joining of the 60S ribosomal subunit           | -2.240697 | 4.102300e-09 | 1.631962e-06 | 107 | 117 | RPL10;RPLP1;RPLP0;RPSA;RPS3;EIF3G;EIF3L;RPS28;RPL28;RPL23A;RPL7A;RPL29;EIF4A1;RPS5;RPS27;RPL17;EIF5B;EIF3H;RPS16;EIF1AX;EIF3J;RPLP2;RPS2;RPS7;RPL18A;EIF2S2;RPL35;EIF4G1;RPS4X;EIF3B;RPL22L1;RPL22;RPL14;RPS11;RPS21;RPL24;EIF4H;RPS23;RPL19;RPS9;RPS6;RPL35A;RPS26;RPL27;RPL39;RPS29;RPS24;EIF4A2                                                                                                         | 18S rRNA;28S rRNA;5.8S rRNA;5S rRNA;EIF1AX;EIF2S1;EIF2S2;EIF2S3;EIF3A;EIF3B;EIF3C;EIF3D;EIF3E;EIF3F;EIF3G;EIF3H;EIF3I;EIF3J;EIF3K;EIF3L;EIF3M;EIF4A1;EIF4A2;EIF4B;EIF4E;EIF4G1;EIF4H;EIF5;EIF5B;FAU;RPL10;RPL10A;RPL10L;RPL11;RPL12;RPL13;RPL13A;RPL14;RPL15;RPL17;RPL18;RPL18A;RPL19;RPL21;RPL22;RPL22L1;RPL23;RPL23A;RPL24;RPL26;RPL26L1;RPL27;RPL27A;RPL28;RPL29;RPL3;RPL30;RPL31;RPL32;RPL34;RPL35;RPL35A;RPL36;RPL36A;RPL36AL;RPL37;RPL37A;RPL38;RPL39;RPL39L;RPL3L;RPL4;RPL41;RPL5;RPL6;RPL7;RPL7A;RPL8;RPL9;RPLP0;RPLP1;RPLP2;RPS10;RPS11;RPS12;RPS13;RPS14;RPS15;RPS15A;RPS16;RPS17;RPS18;RPS19;RPS2;RPS20;RPS21;RPS23;RPS24;RPS25;RPS26;RPS27;RPS27A;RPS27L;RPS28;RPS29;RPS3;RPS3A;RPS4X;RPS4Y1;RPS4Y2;RPS5;RPS6;RPS7;RPS8;RPS9;RPSA;UBA52                                                    |\n",
       "\n"
      ],
      "text/plain": [
       "  fg           bg   timepoint aifi_cell_type id          \n",
       "1 lenalidomide dmso 72        t_cd8_naive    R-HSA-72613 \n",
       "2 lenalidomide dmso 72        t_cd8_naive    R-HSA-72737 \n",
       "3 lenalidomide dmso 72        t_cd8_naive    R-HSA-72689 \n",
       "4 lenalidomide dmso 72        t_cd8_naive    R-HSA-156842\n",
       "5 lenalidomide dmso 72        t_cd8_naive    R-HSA-156827\n",
       "6 lenalidomide dmso 72        t_cd8_naive    R-HSA-72706 \n",
       "  pathway                                                           NES      \n",
       "1 Eukaryotic Translation Initiation                                 -2.166728\n",
       "2 Cap-dependent Translation Initiation                              -2.166728\n",
       "3 Formation of a pool of free 40S subunits                          -2.176472\n",
       "4 Eukaryotic Translation Elongation                                 -2.178397\n",
       "5 L13a-mediated translational silencing of Ceruloplasmin expression -2.208010\n",
       "6 GTP hydrolysis and joining of the 60S ribosomal subunit           -2.240697\n",
       "  nomP         adjP         n_leadingEdge n_pathway_genes\n",
       "1 2.154851e-08 3.462127e-06 114           124            \n",
       "2 2.154851e-08 3.462127e-06 114           124            \n",
       "3 3.952889e-08 5.443693e-06  96           106            \n",
       "4 1.156868e-07 1.394026e-05  87            99            \n",
       "5 8.437858e-09 2.033524e-06 106           116            \n",
       "6 4.102300e-09 1.631962e-06 107           117            \n",
       "  leadingEdge                                                                                                                                                                                                                                                                                                                                                                                               \n",
       "1 RPL10;RPLP1;RPLP0;RPSA;RPS3;EIF3G;EIF3L;RPS28;RPL28;RPL23A;RPL7A;RPL29;EIF4A1;RPS5;RPS27;RPL17;EIF5B;EIF3H;RPS16;EIF1AX;EIF3J;RPLP2;RPS2;RPS7;RPL18A;EIF2S2;RPL35;EIF4G1;RPS4X;EIF3B;RPL22L1;RPL22;RPL14;RPS11;RPS21;RPL24;EIF4H;RPS23;RPL19;RPS9;EIF2B4;RPS6;RPL35A;RPS26;RPL27;RPL39;RPS29;RPS24;EIF4A2;EIF2B1;RPL36;RPL36A;RPL8;RPL37A;RPL10A;RPS14;EIF3A;EIF2B5;RPS13;EIF4EBP1;RPL27A;RPL4;RPL31;RPL15\n",
       "2 RPL10;RPLP1;RPLP0;RPSA;RPS3;EIF3G;EIF3L;RPS28;RPL28;RPL23A;RPL7A;RPL29;EIF4A1;RPS5;RPS27;RPL17;EIF5B;EIF3H;RPS16;EIF1AX;EIF3J;RPLP2;RPS2;RPS7;RPL18A;EIF2S2;RPL35;EIF4G1;RPS4X;EIF3B;RPL22L1;RPL22;RPL14;RPS11;RPS21;RPL24;EIF4H;RPS23;RPL19;RPS9;EIF2B4;RPS6;RPL35A;RPS26;RPL27;RPL39;RPS29;RPS24;EIF4A2;EIF2B1;RPL36;RPL36A;RPL8;RPL37A;RPL10A;RPS14;EIF3A;EIF2B5;RPS13;EIF4EBP1;RPL27A;RPL4;RPL31;RPL15\n",
       "3 RPL10;RPLP1;RPLP0;RPSA;RPS3;EIF3G;EIF3L;RPS28;RPL28;RPL23A;RPL7A;RPL29;RPS5;RPS27;RPL17;EIF3H;RPS16;EIF1AX;EIF3J;RPLP2;RPS2;RPS7;RPL18A;RPL35;RPS4X;EIF3B;RPL22L1;RPL22;RPL14;RPS11;RPS21;RPL24;RPS23;RPL19;RPS9;RPS6;RPL35A;RPS26;RPL27;RPL39;RPS29;RPS24                                                                                                                                                \n",
       "4 RPL10;RPLP1;EEF1A1;RPLP0;RPSA;RPS3;EEF1B2;RPS28;RPL28;RPL23A;RPL7A;RPL29;RPS5;RPS27;RPL17;RPS16;RPLP2;RPS2;RPS7;RPL18A;RPL35;RPS4X;RPL22L1;RPL22;RPL14;RPS11;RPS21;RPL24;RPS23;RPL19;RPS9;RPS6;RPL35A;RPS26;RPL27;RPL39;RPS29;RPS24                                                                                                                                                                       \n",
       "5 RPL10;RPLP1;RPLP0;RPSA;RPS3;EIF3G;EIF3L;RPS28;RPL28;RPL23A;RPL7A;RPL29;EIF4A1;RPS5;RPS27;RPL17;EIF3H;RPS16;EIF1AX;EIF3J;RPLP2;RPS2;RPS7;RPL18A;EIF2S2;RPL35;EIF4G1;RPS4X;EIF3B;RPL22L1;RPL22;RPL14;RPS11;RPS21;RPL24;EIF4H;RPS23;RPL19;RPS9;RPS6;RPL35A;RPS26;RPL27;RPL39;RPS29;RPS24;EIF4A2                                                                                                              \n",
       "6 RPL10;RPLP1;RPLP0;RPSA;RPS3;EIF3G;EIF3L;RPS28;RPL28;RPL23A;RPL7A;RPL29;EIF4A1;RPS5;RPS27;RPL17;EIF5B;EIF3H;RPS16;EIF1AX;EIF3J;RPLP2;RPS2;RPS7;RPL18A;EIF2S2;RPL35;EIF4G1;RPS4X;EIF3B;RPL22L1;RPL22;RPL14;RPS11;RPS21;RPL24;EIF4H;RPS23;RPL19;RPS9;RPS6;RPL35A;RPS26;RPL27;RPL39;RPS29;RPS24;EIF4A2                                                                                                        \n",
       "  pathway_genes                                                                                                                                                                                                                                                                                                                                                                                                                                                                                                                                                                                                                                                                                                                                                                                         \n",
       "1 18S rRNA;28S rRNA;5.8S rRNA;5S rRNA;EIF1AX;EIF2B1;EIF2B2;EIF2B3;EIF2B4;EIF2B5;EIF2S1;EIF2S2;EIF2S3;EIF3A;EIF3B;EIF3C;EIF3D;EIF3E;EIF3F;EIF3G;EIF3H;EIF3I;EIF3J;EIF3K;EIF3L;EIF3M;EIF4A1;EIF4A2;EIF4B;EIF4E;EIF4EBP1;EIF4G1;EIF4H;EIF5;EIF5B;FAU;PABPC1;RPL10;RPL10A;RPL10L;RPL11;RPL12;RPL13;RPL13A;RPL14;RPL15;RPL17;RPL18;RPL18A;RPL19;RPL21;RPL22;RPL22L1;RPL23;RPL23A;RPL24;RPL26;RPL26L1;RPL27;RPL27A;RPL28;RPL29;RPL3;RPL30;RPL31;RPL32;RPL34;RPL35;RPL35A;RPL36;RPL36A;RPL36AL;RPL37;RPL37A;RPL38;RPL39;RPL39L;RPL3L;RPL4;RPL41;RPL5;RPL6;RPL7;RPL7A;RPL8;RPL9;RPLP0;RPLP1;RPLP2;RPS10;RPS11;RPS12;RPS13;RPS14;RPS15;RPS15A;RPS16;RPS17;RPS18;RPS19;RPS2;RPS20;RPS21;RPS23;RPS24;RPS25;RPS26;RPS27;RPS27A;RPS27L;RPS28;RPS29;RPS3;RPS3A;RPS4X;RPS4Y1;RPS4Y2;RPS5;RPS6;RPS7;RPS8;RPS9;RPSA;UBA52\n",
       "2 18S rRNA;28S rRNA;5.8S rRNA;5S rRNA;EIF1AX;EIF2B1;EIF2B2;EIF2B3;EIF2B4;EIF2B5;EIF2S1;EIF2S2;EIF2S3;EIF3A;EIF3B;EIF3C;EIF3D;EIF3E;EIF3F;EIF3G;EIF3H;EIF3I;EIF3J;EIF3K;EIF3L;EIF3M;EIF4A1;EIF4A2;EIF4B;EIF4E;EIF4EBP1;EIF4G1;EIF4H;EIF5;EIF5B;FAU;PABPC1;RPL10;RPL10A;RPL10L;RPL11;RPL12;RPL13;RPL13A;RPL14;RPL15;RPL17;RPL18;RPL18A;RPL19;RPL21;RPL22;RPL22L1;RPL23;RPL23A;RPL24;RPL26;RPL26L1;RPL27;RPL27A;RPL28;RPL29;RPL3;RPL30;RPL31;RPL32;RPL34;RPL35;RPL35A;RPL36;RPL36A;RPL36AL;RPL37;RPL37A;RPL38;RPL39;RPL39L;RPL3L;RPL4;RPL41;RPL5;RPL6;RPL7;RPL7A;RPL8;RPL9;RPLP0;RPLP1;RPLP2;RPS10;RPS11;RPS12;RPS13;RPS14;RPS15;RPS15A;RPS16;RPS17;RPS18;RPS19;RPS2;RPS20;RPS21;RPS23;RPS24;RPS25;RPS26;RPS27;RPS27A;RPS27L;RPS28;RPS29;RPS3;RPS3A;RPS4X;RPS4Y1;RPS4Y2;RPS5;RPS6;RPS7;RPS8;RPS9;RPSA;UBA52\n",
       "3 18S rRNA;28S rRNA;5.8S rRNA;5S rRNA;EIF1AX;EIF3A;EIF3B;EIF3C;EIF3D;EIF3E;EIF3F;EIF3G;EIF3H;EIF3I;EIF3J;EIF3K;EIF3L;EIF3M;FAU;RPL10;RPL10A;RPL10L;RPL11;RPL12;RPL13;RPL13A;RPL14;RPL15;RPL17;RPL18;RPL18A;RPL19;RPL21;RPL22;RPL22L1;RPL23;RPL23A;RPL24;RPL26;RPL26L1;RPL27;RPL27A;RPL28;RPL29;RPL3;RPL30;RPL31;RPL32;RPL34;RPL35;RPL35A;RPL36;RPL36A;RPL36AL;RPL37;RPL37A;RPL38;RPL39;RPL39L;RPL3L;RPL4;RPL41;RPL5;RPL6;RPL7;RPL7A;RPL8;RPL9;RPLP0;RPLP1;RPLP2;RPS10;RPS11;RPS12;RPS13;RPS14;RPS15;RPS15A;RPS16;RPS17;RPS18;RPS19;RPS2;RPS20;RPS21;RPS23;RPS24;RPS25;RPS26;RPS27;RPS27A;RPS27L;RPS28;RPS29;RPS3;RPS3A;RPS4X;RPS4Y1;RPS4Y2;RPS5;RPS6;RPS7;RPS8;RPS9;RPSA;UBA52                                                                                                                          \n",
       "4 18S rRNA;28S rRNA;5.8S rRNA;5S rRNA;EEF1A1;EEF1A1P5;EEF1A2;EEF1B2;EEF1D;EEF1G;EEF2;FAU;RPL10;RPL10A;RPL10L;RPL11;RPL12;RPL13;RPL13A;RPL14;RPL15;RPL17;RPL18;RPL18A;RPL19;RPL21;RPL22;RPL22L1;RPL23;RPL23A;RPL24;RPL26;RPL26L1;RPL27;RPL27A;RPL28;RPL29;RPL3;RPL30;RPL31;RPL32;RPL34;RPL35;RPL35A;RPL36;RPL36A;RPL36AL;RPL37;RPL37A;RPL38;RPL39;RPL39L;RPL3L;RPL4;RPL41;RPL5;RPL6;RPL7;RPL7A;RPL8;RPL9;RPLP0;RPLP1;RPLP2;RPS10;RPS11;RPS12;RPS13;RPS14;RPS15;RPS15A;RPS16;RPS17;RPS18;RPS19;RPS2;RPS20;RPS21;RPS23;RPS24;RPS25;RPS26;RPS27;RPS27A;RPS27L;RPS28;RPS29;RPS3;RPS3A;RPS4X;RPS4Y1;RPS4Y2;RPS5;RPS6;RPS7;RPS8;RPS9;RPSA;UBA52                                                                                                                                                                \n",
       "5 18S rRNA;28S rRNA;5.8S rRNA;5S rRNA;EIF1AX;EIF2S1;EIF2S2;EIF2S3;EIF3A;EIF3B;EIF3C;EIF3D;EIF3E;EIF3F;EIF3G;EIF3H;EIF3I;EIF3J;EIF3K;EIF3L;EIF3M;EIF4A1;EIF4A2;EIF4B;EIF4E;EIF4G1;EIF4H;FAU;PABPC1;RPL10;RPL10A;RPL10L;RPL11;RPL12;RPL13;RPL13A;RPL14;RPL15;RPL17;RPL18;RPL18A;RPL19;RPL21;RPL22;RPL22L1;RPL23;RPL23A;RPL24;RPL26;RPL26L1;RPL27;RPL27A;RPL28;RPL29;RPL3;RPL30;RPL31;RPL32;RPL34;RPL35;RPL35A;RPL36;RPL36A;RPL36AL;RPL37;RPL37A;RPL38;RPL39;RPL39L;RPL3L;RPL4;RPL41;RPL5;RPL6;RPL7;RPL7A;RPL8;RPL9;RPLP0;RPLP1;RPLP2;RPS10;RPS11;RPS12;RPS13;RPS14;RPS15;RPS15A;RPS16;RPS17;RPS18;RPS19;RPS2;RPS20;RPS21;RPS23;RPS24;RPS25;RPS26;RPS27;RPS27A;RPS27L;RPS28;RPS29;RPS3;RPS3A;RPS4X;RPS4Y1;RPS4Y2;RPS5;RPS6;RPS7;RPS8;RPS9;RPSA;UBA52                                                       \n",
       "6 18S rRNA;28S rRNA;5.8S rRNA;5S rRNA;EIF1AX;EIF2S1;EIF2S2;EIF2S3;EIF3A;EIF3B;EIF3C;EIF3D;EIF3E;EIF3F;EIF3G;EIF3H;EIF3I;EIF3J;EIF3K;EIF3L;EIF3M;EIF4A1;EIF4A2;EIF4B;EIF4E;EIF4G1;EIF4H;EIF5;EIF5B;FAU;RPL10;RPL10A;RPL10L;RPL11;RPL12;RPL13;RPL13A;RPL14;RPL15;RPL17;RPL18;RPL18A;RPL19;RPL21;RPL22;RPL22L1;RPL23;RPL23A;RPL24;RPL26;RPL26L1;RPL27;RPL27A;RPL28;RPL29;RPL3;RPL30;RPL31;RPL32;RPL34;RPL35;RPL35A;RPL36;RPL36A;RPL36AL;RPL37;RPL37A;RPL38;RPL39;RPL39L;RPL3L;RPL4;RPL41;RPL5;RPL6;RPL7;RPL7A;RPL8;RPL9;RPLP0;RPLP1;RPLP2;RPS10;RPS11;RPS12;RPS13;RPS14;RPS15;RPS15A;RPS16;RPS17;RPS18;RPS19;RPS2;RPS20;RPS21;RPS23;RPS24;RPS25;RPS26;RPS27;RPS27A;RPS27L;RPS28;RPS29;RPS3;RPS3A;RPS4X;RPS4Y1;RPS4Y2;RPS5;RPS6;RPS7;RPS8;RPS9;RPSA;UBA52                                                   "
      ]
     },
     "metadata": {},
     "output_type": "display_data"
    }
   ],
   "source": [
    "tail(formatted_fgsea_res)"
   ]
  },
  {
   "cell_type": "markdown",
   "id": "e757adbd-73a5-4c50-967d-1a4d4af27cd0",
   "metadata": {},
   "source": [
    "## Write output file\n",
    "\n",
    "Write the metadata as a .csv for later use. We remove `row.names` and set `quote = FALSE` to simplify the outputs and increase compatibility with other tools."
   ]
  },
  {
   "cell_type": "code",
   "execution_count": 71,
   "id": "7f06f592-348d-43f3-8d41-b438d1ad9a5a",
   "metadata": {
    "tags": []
   },
   "outputs": [],
   "source": [
    "gsea_out_file <- paste0(\"output/all_reactome_gsea_res_\", Sys.Date(), \".tsv\")\n",
    "write.table(\n",
    "    formatted_fgsea_res,\n",
    "    gsea_out_file,\n",
    "    sep = \"\\t\",\n",
    "    row.names = FALSE,\n",
    "    quote = FALSE\n",
    ")"
   ]
  },
  {
   "cell_type": "markdown",
   "id": "fb5bbd5b-f2c7-4a5a-ba38-1753a9900d19",
   "metadata": {},
   "source": [
    "## Store results in HISE\n",
    "\n",
    "Finally, we store the output file in our Collaboration Space for later retrieval and use. We need to provide the UUID for our Collaboration Space (aka `studySpaceId`), as well as a title for this step in our analysis process.\n",
    "\n",
    "The hise function `uploadFiles()` also requires the FileIDs from the original fileset for reference, which we used above when the DEG results were retrieved (`file_uuid`)"
   ]
  },
  {
   "cell_type": "code",
   "execution_count": 72,
   "id": "2f7272dd-4299-456d-af4a-019ff6e72ed7",
   "metadata": {},
   "outputs": [],
   "source": [
    "study_space_uuid <- \"40df6403-29f0-4b45-ab7d-f46d420c422e\"\n",
    "title <- paste(\"VRd TEA-seq Reactome GSEA Analysis\", Sys.Date())"
   ]
  },
  {
   "cell_type": "code",
   "execution_count": 73,
   "id": "8799ad6c-8daa-4ee6-94ea-6cff0abcacb5",
   "metadata": {},
   "outputs": [],
   "source": [
    "out_list <- as.list(c(reactome_out_file, gsea_out_file))"
   ]
  },
  {
   "cell_type": "code",
   "execution_count": 74,
   "id": "54db404a-8886-4f44-95df-b017c0590ec0",
   "metadata": {
    "tags": []
   },
   "outputs": [
    {
     "name": "stdout",
     "output_type": "stream",
     "text": [
      "[1] \"Cannot determine the current notebook.\"\n",
      "[1] \"1) /home/jupyter/repro-vrd-tea-seq/03-gsea-analysis/02-R_mast-deg_reactome_gsea.ipynb\"\n",
      "[1] \"2) /home/jupyter/repro-vrd-tea-seq/figures/Supp-Fig-04_bortezomib_reactome.ipynb\"\n",
      "[1] \"3) /home/jupyter/repro-vrd-tea-seq-deg-app/03_UploadVisualization.ipynb\"\n"
     ]
    },
    {
     "name": "stdin",
     "output_type": "stream",
     "text": [
      "Please select (1-3)  1\n"
     ]
    },
    {
     "data": {
      "text/html": [
       "<dl>\n",
       "\t<dt>$files</dt>\n",
       "\t\t<dd><ol>\n",
       "\t<li>'output/reactome_gene_sets_2024-01-05.rds'</li>\n",
       "\t<li>'output/all_reactome_gsea_res_2024-01-05.tsv'</li>\n",
       "</ol>\n",
       "</dd>\n",
       "\t<dt>$traceId</dt>\n",
       "\t\t<dd>'b74aea3e-1a36-4d1a-b5dc-e1c029e01c74'</dd>\n",
       "</dl>\n"
      ],
      "text/latex": [
       "\\begin{description}\n",
       "\\item[\\$files] \\begin{enumerate}\n",
       "\\item 'output/reactome\\_gene\\_sets\\_2024-01-05.rds'\n",
       "\\item 'output/all\\_reactome\\_gsea\\_res\\_2024-01-05.tsv'\n",
       "\\end{enumerate}\n",
       "\n",
       "\\item[\\$traceId] 'b74aea3e-1a36-4d1a-b5dc-e1c029e01c74'\n",
       "\\end{description}\n"
      ],
      "text/markdown": [
       "$files\n",
       ":   1. 'output/reactome_gene_sets_2024-01-05.rds'\n",
       "2. 'output/all_reactome_gsea_res_2024-01-05.tsv'\n",
       "\n",
       "\n",
       "\n",
       "$traceId\n",
       ":   'b74aea3e-1a36-4d1a-b5dc-e1c029e01c74'\n",
       "\n",
       "\n"
      ],
      "text/plain": [
       "$files\n",
       "$files[[1]]\n",
       "[1] \"output/reactome_gene_sets_2024-01-05.rds\"\n",
       "\n",
       "$files[[2]]\n",
       "[1] \"output/all_reactome_gsea_res_2024-01-05.tsv\"\n",
       "\n",
       "\n",
       "$traceId\n",
       "[1] \"b74aea3e-1a36-4d1a-b5dc-e1c029e01c74\"\n"
      ]
     },
     "metadata": {},
     "output_type": "display_data"
    }
   ],
   "source": [
    "uploadFiles(\n",
    "    files = out_list,\n",
    "    studySpaceId = study_space_uuid,\n",
    "    title = title,\n",
    "    inputFileIds = file_uuid,\n",
    "    store = \"project\",\n",
    "    doPrompt = FALSE\n",
    ")"
   ]
  },
  {
   "cell_type": "code",
   "execution_count": 75,
   "id": "13c2b1a4-228a-43aa-abf6-8226ef9439c5",
   "metadata": {},
   "outputs": [
    {
     "data": {
      "text/plain": [
       "R version 4.3.1 (2023-06-16)\n",
       "Platform: x86_64-conda-linux-gnu (64-bit)\n",
       "Running under: Ubuntu 20.04.6 LTS\n",
       "\n",
       "Matrix products: default\n",
       "BLAS/LAPACK: /opt/conda/lib/libopenblasp-r0.3.24.so;  LAPACK version 3.11.0\n",
       "\n",
       "locale:\n",
       " [1] LC_CTYPE=C.UTF-8       LC_NUMERIC=C           LC_TIME=C.UTF-8       \n",
       " [4] LC_COLLATE=C.UTF-8     LC_MONETARY=C.UTF-8    LC_MESSAGES=C.UTF-8   \n",
       " [7] LC_PAPER=C.UTF-8       LC_NAME=C              LC_ADDRESS=C          \n",
       "[10] LC_TELEPHONE=C         LC_MEASUREMENT=C.UTF-8 LC_IDENTIFICATION=C   \n",
       "\n",
       "time zone: Etc/UTC\n",
       "tzcode source: system (glibc)\n",
       "\n",
       "attached base packages:\n",
       "[1] stats     graphics  grDevices utils     datasets  methods   base     \n",
       "\n",
       "other attached packages:\n",
       "[1] fgsea_1.28.0 tibble_3.2.1 dplyr_1.1.3  purrr_1.0.2  hise_2.16.0 \n",
       "\n",
       "loaded via a namespace (and not attached):\n",
       " [1] Matrix_1.6-1.1      gtable_0.3.4        jsonlite_1.8.7     \n",
       " [4] compiler_4.3.1      crayon_1.5.2        tidyselect_1.2.0   \n",
       " [7] Rcpp_1.0.11         IRdisplay_1.1       bitops_1.0-7       \n",
       "[10] assertthat_0.2.1    parallel_4.3.1      scales_1.2.1       \n",
       "[13] uuid_1.1-1          BiocParallel_1.36.0 fastmap_1.1.1      \n",
       "[16] IRkernel_1.3.2      lattice_0.22-5      ggplot2_3.4.4      \n",
       "[19] R6_2.5.1            generics_0.1.3      curl_5.1.0         \n",
       "[22] munsell_0.5.0       pillar_1.9.0        rlang_1.1.2        \n",
       "[25] fastmatch_1.1-4     utf8_1.2.4          repr_1.1.6.9000    \n",
       "[28] cli_3.6.1           withr_2.5.2         magrittr_2.0.3     \n",
       "[31] digest_0.6.33       grid_4.3.1          base64enc_0.1-3    \n",
       "[34] cowplot_1.1.1       pbdZMQ_0.3-10       lifecycle_1.0.4    \n",
       "[37] vctrs_0.6.4         data.table_1.14.8   evaluate_0.23      \n",
       "[40] glue_1.6.2          codetools_0.2-19    RCurl_1.98-1.13    \n",
       "[43] fansi_1.0.5         colorspace_2.1-0    httr_1.4.7         \n",
       "[46] tools_4.3.1         pkgconfig_2.0.3     htmltools_0.5.7    "
      ]
     },
     "metadata": {},
     "output_type": "display_data"
    }
   ],
   "source": [
    "sessionInfo()"
   ]
  },
  {
   "cell_type": "code",
   "execution_count": null,
   "id": "10411f4a-5a16-4602-9fe6-9a2cf98245be",
   "metadata": {},
   "outputs": [],
   "source": []
  }
 ],
 "metadata": {
  "kernelspec": {
   "display_name": "R 4",
   "language": "R",
   "name": "ir4"
  },
  "language_info": {
   "codemirror_mode": "r",
   "file_extension": ".r",
   "mimetype": "text/x-r-source",
   "name": "R",
   "pygments_lexer": "r",
   "version": "4.3.1"
  }
 },
 "nbformat": 4,
 "nbformat_minor": 5
}
