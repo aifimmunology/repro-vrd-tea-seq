{
 "cells": [
  {
   "cell_type": "markdown",
   "id": "33901328-981a-400b-b683-ea9f94eba6d7",
   "metadata": {},
   "source": [
    "# Modified GSEA of MAST DEGs against Hallmark Pathways: Remove PSM genes\n",
    "\n",
    "This notebook contains analysis of bortezomib DEGs after removal of proteasomal (PSM) genes.\n",
    "\n",
    "The goal of this analysis is to determine which pathway enrichment results are strongly dependent on the set of genes related to the proteasome, and to identify additional pathways that may be enriched when the dominant effects on this set of strongly related genes are removed.\n",
    "\n",
    "The analysis itself is identical to the generalized notebook for GSEA of MAST DEGs, with the addition of the **DEG Filtering** section, which selects only Bortezomib conditions and removes the set of proteasomal genes described in Mao, 2021:  \n",
    "\n",
    "Mao, Y. Structure, Dynamics and Function of the 26S Proteasome. in Macromolecular Protein Complexes III: Structure and Function (eds. Harris, J. R. & Marles-Wright, J.) 1–151 (Springer International Publishing, 2021)."
   ]
  },
  {
   "cell_type": "markdown",
   "id": "f1cc464a-4cce-48b1-895c-4cd26c33db38",
   "metadata": {},
   "source": [
    "## Setup\n",
    "\n",
    "For this analysis, we'll compare our DEGs to the MSigDB Hallmark Gene Sets, available in the `msidbr` package. We'll need to install this package if it's not already present."
   ]
  },
  {
   "cell_type": "code",
   "execution_count": 1,
   "id": "5ed0c8b8-4d8b-4b83-a412-4bc7c3e56f2b",
   "metadata": {
    "tags": []
   },
   "outputs": [],
   "source": [
    "ip <- installed.packages()\n",
    "if(!\"msigdbr\" %in% rownames(ip)) {\n",
    "    install.packages(\"msigdbr\", upgrade = \"never\")\n",
    "}"
   ]
  },
  {
   "cell_type": "markdown",
   "id": "09a8b4bf-3913-4d0c-b37c-4c39736ea7af",
   "metadata": {},
   "source": [
    "## Load packages\n",
    "\n",
    "hise: The Human Immune System Explorer R SDK package  \n",
    "purrr: Functional programming tools  \n",
    "dplyr: Dataframe handling functions  \n",
    "fgsea: Fast Gene Set Enrichment Analysis  \n",
    "msigdbr: MSigDB gene sets"
   ]
  },
  {
   "cell_type": "code",
   "execution_count": 2,
   "id": "04fc496d-229b-4c85-b5a6-b8de4129713b",
   "metadata": {
    "tags": []
   },
   "outputs": [],
   "source": [
    "quiet_library <- function(...) { suppressPackageStartupMessages(library(...)) }\n",
    "quiet_library(hise)\n",
    "quiet_library(purrr)\n",
    "quiet_library(dplyr)\n",
    "quiet_library(fgsea)\n",
    "quiet_library(msigdbr)"
   ]
  },
  {
   "cell_type": "markdown",
   "id": "c6b0ce0e-40dd-4879-947f-eb1b8afe9fa5",
   "metadata": {},
   "source": [
    "## Retrieve files\n",
    "\n",
    "Now, we'll use the HISE SDK package to retrieve the MAST DEG results file based on its UUID. This will be placed in the `cache/` subdirectory by default."
   ]
  },
  {
   "cell_type": "code",
   "execution_count": 3,
   "id": "d11b7d76-ea40-4c1a-9126-019fb6412383",
   "metadata": {
    "tags": []
   },
   "outputs": [],
   "source": [
    "file_uuid <- list(\n",
    "    \"fc83b89f-fd26-43b8-ac91-29c539703a45\"\n",
    ")"
   ]
  },
  {
   "cell_type": "code",
   "execution_count": 4,
   "id": "b079e573-af3d-4888-a4b8-b7cca672e0bc",
   "metadata": {
    "scrolled": true,
    "tags": []
   },
   "outputs": [
    {
     "name": "stderr",
     "output_type": "stream",
     "text": [
      "submitting request as query ID first...\n",
      "\n",
      "retrieving files using fileIDS...\n",
      "\n"
     ]
    }
   ],
   "source": [
    "fres <- cacheFiles(file_uuid)"
   ]
  },
  {
   "cell_type": "code",
   "execution_count": 5,
   "id": "c5dfc4ce-c5f4-4357-be74-3d0823af0c10",
   "metadata": {
    "tags": []
   },
   "outputs": [],
   "source": [
    "psm_genes <- read.csv(\"../common/gene_sets/mao_proteasome_genes.csv\")"
   ]
  },
  {
   "cell_type": "markdown",
   "id": "875c30aa-b7bf-4f6d-a32b-8c949b3b7ab7",
   "metadata": {},
   "source": [
    "### Prepare DEG lists\n",
    "\n",
    "To rank genes, we'll convert nomP to -log10(nomP), and incorporate the direction of differential expression by multiplying by the direction of effect size (sign(logFC))."
   ]
  },
  {
   "cell_type": "code",
   "execution_count": 6,
   "id": "04f6ee87-5f80-4e58-9158-bdd806bbc726",
   "metadata": {
    "tags": []
   },
   "outputs": [],
   "source": [
    "all_deg <- read.csv(\"cache/fc83b89f-fd26-43b8-ac91-29c539703a45/all_mast_deg_2023-09-06.csv\")\n",
    "all_deg$treat_time_type <- paste0(\n",
    "    all_deg$fg, \"_\", \n",
    "    all_deg$timepoint, \"_\", \n",
    "    all_deg$aifi_cell_type)"
   ]
  },
  {
   "cell_type": "markdown",
   "id": "ce249d18-0308-4c19-ba03-15fb6ff9ebf7",
   "metadata": {},
   "source": [
    "Prior to ranking, we'll need to resolve missing `logFC` values. These can occur if one of the groups used for DEG analysis had no expression of the gene."
   ]
  },
  {
   "cell_type": "code",
   "execution_count": 7,
   "id": "4f83d41f-8cf0-4cc1-b50c-54ff87447836",
   "metadata": {
    "scrolled": true,
    "tags": []
   },
   "outputs": [
    {
     "data": {
      "text/html": [
       "<table class=\"dataframe\">\n",
       "<caption>A data.frame: 6 × 12</caption>\n",
       "<thead>\n",
       "\t<tr><th></th><th scope=col>aifi_cell_type</th><th scope=col>timepoint</th><th scope=col>fg</th><th scope=col>bg</th><th scope=col>n_sample</th><th scope=col>gene</th><th scope=col>coef_C</th><th scope=col>coef_D</th><th scope=col>logFC</th><th scope=col>nomP</th><th scope=col>adjP</th><th scope=col>treat_time_type</th></tr>\n",
       "\t<tr><th></th><th scope=col>&lt;chr&gt;</th><th scope=col>&lt;int&gt;</th><th scope=col>&lt;chr&gt;</th><th scope=col>&lt;chr&gt;</th><th scope=col>&lt;int&gt;</th><th scope=col>&lt;chr&gt;</th><th scope=col>&lt;dbl&gt;</th><th scope=col>&lt;dbl&gt;</th><th scope=col>&lt;dbl&gt;</th><th scope=col>&lt;dbl&gt;</th><th scope=col>&lt;dbl&gt;</th><th scope=col>&lt;chr&gt;</th></tr>\n",
       "</thead>\n",
       "<tbody>\n",
       "\t<tr><th scope=row>1</th><td>t_cd4_em  </td><td>4</td><td>bortezomib</td><td>dmso</td><td>180</td><td>TFDP1     </td><td>NA</td><td> 3.196997</td><td>NA</td><td>3.817725e-05</td><td>0.1481468</td><td>bortezomib_4_t_cd4_em  </td></tr>\n",
       "\t<tr><th scope=row>2</th><td>t_cd4_treg</td><td>4</td><td>bortezomib</td><td>dmso</td><td> 78</td><td>ABCA3     </td><td>NA</td><td>-2.453613</td><td>NA</td><td>1.337154e-02</td><td>0.9999222</td><td>bortezomib_4_t_cd4_treg</td></tr>\n",
       "\t<tr><th scope=row>3</th><td>t_cd4_treg</td><td>4</td><td>bortezomib</td><td>dmso</td><td> 78</td><td>AC005070.3</td><td>NA</td><td>-2.259963</td><td>NA</td><td>3.110707e-02</td><td>0.9999222</td><td>bortezomib_4_t_cd4_treg</td></tr>\n",
       "\t<tr><th scope=row>4</th><td>t_cd4_treg</td><td>4</td><td>bortezomib</td><td>dmso</td><td> 78</td><td>AC006504.5</td><td>NA</td><td>-2.470421</td><td>NA</td><td>1.243915e-02</td><td>0.9999222</td><td>bortezomib_4_t_cd4_treg</td></tr>\n",
       "\t<tr><th scope=row>5</th><td>t_cd4_treg</td><td>4</td><td>bortezomib</td><td>dmso</td><td> 78</td><td>AC007686.3</td><td>NA</td><td>-2.265379</td><td>NA</td><td>3.041017e-02</td><td>0.9999222</td><td>bortezomib_4_t_cd4_treg</td></tr>\n",
       "\t<tr><th scope=row>6</th><td>t_cd4_treg</td><td>4</td><td>bortezomib</td><td>dmso</td><td> 78</td><td>AC010754.1</td><td>NA</td><td>-2.272969</td><td>NA</td><td>2.952072e-02</td><td>0.9999222</td><td>bortezomib_4_t_cd4_treg</td></tr>\n",
       "</tbody>\n",
       "</table>\n"
      ],
      "text/latex": [
       "A data.frame: 6 × 12\n",
       "\\begin{tabular}{r|llllllllllll}\n",
       "  & aifi\\_cell\\_type & timepoint & fg & bg & n\\_sample & gene & coef\\_C & coef\\_D & logFC & nomP & adjP & treat\\_time\\_type\\\\\n",
       "  & <chr> & <int> & <chr> & <chr> & <int> & <chr> & <dbl> & <dbl> & <dbl> & <dbl> & <dbl> & <chr>\\\\\n",
       "\\hline\n",
       "\t1 & t\\_cd4\\_em   & 4 & bortezomib & dmso & 180 & TFDP1      & NA &  3.196997 & NA & 3.817725e-05 & 0.1481468 & bortezomib\\_4\\_t\\_cd4\\_em  \\\\\n",
       "\t2 & t\\_cd4\\_treg & 4 & bortezomib & dmso &  78 & ABCA3      & NA & -2.453613 & NA & 1.337154e-02 & 0.9999222 & bortezomib\\_4\\_t\\_cd4\\_treg\\\\\n",
       "\t3 & t\\_cd4\\_treg & 4 & bortezomib & dmso &  78 & AC005070.3 & NA & -2.259963 & NA & 3.110707e-02 & 0.9999222 & bortezomib\\_4\\_t\\_cd4\\_treg\\\\\n",
       "\t4 & t\\_cd4\\_treg & 4 & bortezomib & dmso &  78 & AC006504.5 & NA & -2.470421 & NA & 1.243915e-02 & 0.9999222 & bortezomib\\_4\\_t\\_cd4\\_treg\\\\\n",
       "\t5 & t\\_cd4\\_treg & 4 & bortezomib & dmso &  78 & AC007686.3 & NA & -2.265379 & NA & 3.041017e-02 & 0.9999222 & bortezomib\\_4\\_t\\_cd4\\_treg\\\\\n",
       "\t6 & t\\_cd4\\_treg & 4 & bortezomib & dmso &  78 & AC010754.1 & NA & -2.272969 & NA & 2.952072e-02 & 0.9999222 & bortezomib\\_4\\_t\\_cd4\\_treg\\\\\n",
       "\\end{tabular}\n"
      ],
      "text/markdown": [
       "\n",
       "A data.frame: 6 × 12\n",
       "\n",
       "| <!--/--> | aifi_cell_type &lt;chr&gt; | timepoint &lt;int&gt; | fg &lt;chr&gt; | bg &lt;chr&gt; | n_sample &lt;int&gt; | gene &lt;chr&gt; | coef_C &lt;dbl&gt; | coef_D &lt;dbl&gt; | logFC &lt;dbl&gt; | nomP &lt;dbl&gt; | adjP &lt;dbl&gt; | treat_time_type &lt;chr&gt; |\n",
       "|---|---|---|---|---|---|---|---|---|---|---|---|---|\n",
       "| 1 | t_cd4_em   | 4 | bortezomib | dmso | 180 | TFDP1      | NA |  3.196997 | NA | 3.817725e-05 | 0.1481468 | bortezomib_4_t_cd4_em   |\n",
       "| 2 | t_cd4_treg | 4 | bortezomib | dmso |  78 | ABCA3      | NA | -2.453613 | NA | 1.337154e-02 | 0.9999222 | bortezomib_4_t_cd4_treg |\n",
       "| 3 | t_cd4_treg | 4 | bortezomib | dmso |  78 | AC005070.3 | NA | -2.259963 | NA | 3.110707e-02 | 0.9999222 | bortezomib_4_t_cd4_treg |\n",
       "| 4 | t_cd4_treg | 4 | bortezomib | dmso |  78 | AC006504.5 | NA | -2.470421 | NA | 1.243915e-02 | 0.9999222 | bortezomib_4_t_cd4_treg |\n",
       "| 5 | t_cd4_treg | 4 | bortezomib | dmso |  78 | AC007686.3 | NA | -2.265379 | NA | 3.041017e-02 | 0.9999222 | bortezomib_4_t_cd4_treg |\n",
       "| 6 | t_cd4_treg | 4 | bortezomib | dmso |  78 | AC010754.1 | NA | -2.272969 | NA | 2.952072e-02 | 0.9999222 | bortezomib_4_t_cd4_treg |\n",
       "\n"
      ],
      "text/plain": [
       "  aifi_cell_type timepoint fg         bg   n_sample gene       coef_C coef_D   \n",
       "1 t_cd4_em       4         bortezomib dmso 180      TFDP1      NA      3.196997\n",
       "2 t_cd4_treg     4         bortezomib dmso  78      ABCA3      NA     -2.453613\n",
       "3 t_cd4_treg     4         bortezomib dmso  78      AC005070.3 NA     -2.259963\n",
       "4 t_cd4_treg     4         bortezomib dmso  78      AC006504.5 NA     -2.470421\n",
       "5 t_cd4_treg     4         bortezomib dmso  78      AC007686.3 NA     -2.265379\n",
       "6 t_cd4_treg     4         bortezomib dmso  78      AC010754.1 NA     -2.272969\n",
       "  logFC nomP         adjP      treat_time_type        \n",
       "1 NA    3.817725e-05 0.1481468 bortezomib_4_t_cd4_em  \n",
       "2 NA    1.337154e-02 0.9999222 bortezomib_4_t_cd4_treg\n",
       "3 NA    3.110707e-02 0.9999222 bortezomib_4_t_cd4_treg\n",
       "4 NA    1.243915e-02 0.9999222 bortezomib_4_t_cd4_treg\n",
       "5 NA    3.041017e-02 0.9999222 bortezomib_4_t_cd4_treg\n",
       "6 NA    2.952072e-02 0.9999222 bortezomib_4_t_cd4_treg"
      ]
     },
     "metadata": {},
     "output_type": "display_data"
    }
   ],
   "source": [
    "all_deg %>%\n",
    "  filter(is.na(logFC)) %>%\n",
    "  head()"
   ]
  },
  {
   "cell_type": "markdown",
   "id": "9173bf0f-781d-48c3-98f0-deab0fb570d4",
   "metadata": {},
   "source": [
    "When this occurs, we can use the sign of `coef_D` to determine the direction of expression change, rather than using the missing `logFC` value."
   ]
  },
  {
   "cell_type": "code",
   "execution_count": 8,
   "id": "dfd9bfd6-71d3-4bd6-bba6-1222b107673f",
   "metadata": {
    "tags": []
   },
   "outputs": [],
   "source": [
    "all_deg <- all_deg %>%\n",
    "  mutate(direction = ifelse(\n",
    "      is.na(logFC),\n",
    "      sign(coef_D), # if missing logFC, use coef_D\n",
    "      sign(logFC) # otherwise, use logFC\n",
    "  ))"
   ]
  },
  {
   "cell_type": "markdown",
   "id": "dc250141-eb3c-4251-b8e6-c863897e7ad5",
   "metadata": {},
   "source": [
    "We also need to avoid nomP values of 0. These will cause NA values due to log transformation. We'll convert these to `1e-300` so that they have a non-zero value."
   ]
  },
  {
   "cell_type": "code",
   "execution_count": 9,
   "id": "d17bd091-0024-4ecd-afdf-31b7d360e98e",
   "metadata": {
    "tags": []
   },
   "outputs": [],
   "source": [
    "all_deg <- all_deg %>%\n",
    "  mutate(nomP = ifelse(\n",
    "      nomP == 0,\n",
    "      1e-300, # if zero, change to 1e-300\n",
    "      nomP # otherwise, keep the value\n",
    "  ))"
   ]
  },
  {
   "cell_type": "markdown",
   "id": "90f2a5be-198e-462f-9994-5d0c904da513",
   "metadata": {},
   "source": [
    "## DEG Filtering\n",
    "\n",
    "Filter to select bortezomib conditions"
   ]
  },
  {
   "cell_type": "code",
   "execution_count": 10,
   "id": "cbedbe60-47ff-4f63-860d-120170bfbd3f",
   "metadata": {
    "tags": []
   },
   "outputs": [],
   "source": [
    "all_deg <- all_deg %>%\n",
    "  filter(fg == \"bortezomib\")"
   ]
  },
  {
   "cell_type": "markdown",
   "id": "a3f51c52-0cb1-497d-9881-aef74bfa9fbc",
   "metadata": {},
   "source": [
    "Filter to remove proteasomal genes"
   ]
  },
  {
   "cell_type": "code",
   "execution_count": 11,
   "id": "21db89f9-4664-4bd7-a103-b92e516e7a15",
   "metadata": {
    "tags": []
   },
   "outputs": [],
   "source": [
    "all_deg <- all_deg %>%\n",
    "  filter(!gene %in% psm_genes$gene)"
   ]
  },
  {
   "cell_type": "markdown",
   "id": "ac68a3ce-e6eb-4171-860a-ebda50b420b3",
   "metadata": {},
   "source": [
    "## Rank and Split for analysis"
   ]
  },
  {
   "cell_type": "code",
   "execution_count": 12,
   "id": "283b7875-5e71-490d-a5e4-0147be503617",
   "metadata": {},
   "outputs": [],
   "source": [
    "deg_list <- split(all_deg, all_deg$treat_time_type)"
   ]
  },
  {
   "cell_type": "code",
   "execution_count": 13,
   "id": "61b28011-5e37-4f8e-bcfe-cd5981a0225c",
   "metadata": {},
   "outputs": [],
   "source": [
    "deg_list <- map(\n",
    "    deg_list,\n",
    "    function(deg) {\n",
    "        deg %>%\n",
    "          mutate(rank_val = -log10(nomP) * direction) %>%\n",
    "          arrange(desc(rank_val))\n",
    "    }\n",
    ")"
   ]
  },
  {
   "cell_type": "code",
   "execution_count": 14,
   "id": "0c2fc9e5-48d4-4147-83e4-d4146a846db4",
   "metadata": {},
   "outputs": [],
   "source": [
    "rank_list <- map(\n",
    "    deg_list,\n",
    "    function(deg) {\n",
    "        v <- deg$rank_val\n",
    "        names(v) <- deg$gene\n",
    "        v\n",
    "    }\n",
    ")"
   ]
  },
  {
   "cell_type": "markdown",
   "id": "7337c259-c6cb-40c3-887a-7f8bd31600e6",
   "metadata": {},
   "source": [
    "## Prepare Gene Sets\n",
    "\n",
    "For use with `fastgsea`, we need a named list of the Hallmark gene sets."
   ]
  },
  {
   "cell_type": "code",
   "execution_count": 15,
   "id": "919f291c-dea4-4640-8f19-6a5bf5275002",
   "metadata": {},
   "outputs": [],
   "source": [
    "hallmark <- msigdbr(species = \"human\", category = \"H\")"
   ]
  },
  {
   "cell_type": "code",
   "execution_count": 16,
   "id": "3a44492c-0a9d-479b-aad2-64de38f03266",
   "metadata": {},
   "outputs": [],
   "source": [
    "hallmark_list <- split(hallmark, hallmark$gs_name)\n",
    "hallmark_list <- map(hallmark_list, \"gene_symbol\")"
   ]
  },
  {
   "cell_type": "markdown",
   "id": "26dc6402-26dd-4bba-9d33-bc0b31f01abf",
   "metadata": {},
   "source": [
    "We'll also need a data.frame with the gene sets for our output files. We'll also include labels for display that are specified in `common/gene_sets/hallmark_names.csv`."
   ]
  },
  {
   "cell_type": "code",
   "execution_count": 17,
   "id": "67cc6bb8-8850-40ee-b772-408b9894f213",
   "metadata": {},
   "outputs": [],
   "source": [
    "hallmark_names <- read.csv(\"../common/gene_sets/hallmark_names.csv\")"
   ]
  },
  {
   "cell_type": "code",
   "execution_count": 18,
   "id": "8060caa2-5ec0-46ed-bc08-572a8735eb35",
   "metadata": {},
   "outputs": [
    {
     "name": "stderr",
     "output_type": "stream",
     "text": [
      "\u001b[1m\u001b[22mJoining with `by = join_by(pathway)`\n"
     ]
    }
   ],
   "source": [
    "hallmark_df <- data.frame(\n",
    "    pathway = names(hallmark_list),\n",
    "    n_pathway_genes = map_int(hallmark_list, length),\n",
    "    pathway_genes = map_chr(hallmark_list, paste, collapse = \";\")\n",
    ")\n",
    "hallmark_df <- hallmark_df %>%\n",
    "  left_join(hallmark_names)"
   ]
  },
  {
   "cell_type": "markdown",
   "id": "faf90ef2-c584-4ea7-9caa-ae32b33f8418",
   "metadata": {},
   "source": [
    "## Run GSEA"
   ]
  },
  {
   "cell_type": "code",
   "execution_count": 19,
   "id": "169b370c-83b1-4628-bda6-11e51e574292",
   "metadata": {},
   "outputs": [],
   "source": [
    "parallel_param <- BiocParallel::MulticoreParam(\n",
    "    workers = 4, \n",
    "    progressbar = FALSE\n",
    ")"
   ]
  },
  {
   "cell_type": "code",
   "execution_count": 20,
   "id": "705b9ad1-942e-489e-b3ee-354127d4f535",
   "metadata": {
    "scrolled": true
   },
   "outputs": [
    {
     "name": "stderr",
     "output_type": "stream",
     "text": [
      "Warning message in preparePathwaysAndStats(pathways, stats, minSize, maxSize, gseaParam, :\n",
      "“There are ties in the preranked stats (0.04% of the list).\n",
      "The order of those tied genes will be arbitrary, which may produce unexpected results.”\n"
     ]
    }
   ],
   "source": [
    "fgsea_res <- map(\n",
    "    rank_list,\n",
    "    function(ranks) {\n",
    "        fgsea(\n",
    "            pathways = hallmark_list,\n",
    "            stats    = ranks,\n",
    "            minSize  = 10,\n",
    "            maxSize  = 500,\n",
    "            BPPARAM  = parallel_param\n",
    "        )\n",
    "    }\n",
    ")"
   ]
  },
  {
   "cell_type": "markdown",
   "id": "783e02b2-7a9f-45ca-915b-fb76f589694b",
   "metadata": {},
   "source": [
    "### Format results"
   ]
  },
  {
   "cell_type": "code",
   "execution_count": 21,
   "id": "5e4d183c-8db7-400b-b470-9029b31aa720",
   "metadata": {},
   "outputs": [],
   "source": [
    "deg_meta <- map(\n",
    "    deg_list,\n",
    "    function(deg) {\n",
    "        list(\n",
    "            fg = deg$fg[1],\n",
    "            bg = deg$bg[1],\n",
    "            timepoint = deg$timepoint[1],\n",
    "            aifi_cell_type = deg$aifi_cell_type[1]\n",
    "        )\n",
    "    }\n",
    ")"
   ]
  },
  {
   "cell_type": "code",
   "execution_count": 22,
   "id": "0a0b65aa-3fdf-4ecc-85bf-f841ff7a7863",
   "metadata": {},
   "outputs": [
    {
     "data": {
      "text/html": [
       "<table class=\"dataframe\">\n",
       "<caption>A data.table: 6 × 8</caption>\n",
       "<thead>\n",
       "\t<tr><th scope=col>pathway</th><th scope=col>pval</th><th scope=col>padj</th><th scope=col>log2err</th><th scope=col>ES</th><th scope=col>NES</th><th scope=col>size</th><th scope=col>leadingEdge</th></tr>\n",
       "\t<tr><th scope=col>&lt;chr&gt;</th><th scope=col>&lt;dbl&gt;</th><th scope=col>&lt;dbl&gt;</th><th scope=col>&lt;dbl&gt;</th><th scope=col>&lt;dbl&gt;</th><th scope=col>&lt;dbl&gt;</th><th scope=col>&lt;int&gt;</th><th scope=col>&lt;list&gt;</th></tr>\n",
       "</thead>\n",
       "<tbody>\n",
       "\t<tr><td>HALLMARK_ADIPOGENESIS       </td><td>0.001786125</td><td>0.01529758</td><td>0.45505987</td><td> 0.6234839</td><td> 1.6915193</td><td>120</td><td>UBC   , TALDO1, NMT1  , BAZ2A , SOD1  , ACO2  , RTN3  , GBE1  , MAP4K3, GPD2  , RREB1 , SQOR  , YWHAG , PEX14 , RIOK3 </td></tr>\n",
       "\t<tr><td>HALLMARK_ALLOGRAFT_REJECTION</td><td>0.007759173</td><td>0.04558514</td><td>0.40701792</td><td>-0.4353999</td><td>-1.4674580</td><td>101</td><td>CCND2  , PTPRC  , CD2    , LCP2   , ETS1   , ITK    , CD3G   , CD40LG , IL2RA  , HLA-E  , SOCS1  , FYB1   , B2M    , TIMP1  , STAT1  , ST8SIA4, GBP2   , IFNAR2 , IRF4   , STAT4  , TRAT1  , CD47   , CD3E   , ITGAL  , IL2RB  , IL7    , GPR65  , TAP1   , LCK    , NPM1   , IL4R   , TLR1   , CD74   , WAS    , ACVR2A </td></tr>\n",
       "\t<tr><td>HALLMARK_ANDROGEN_RESPONSE  </td><td>0.165165165</td><td>0.33751142</td><td>0.19002331</td><td>-0.3814166</td><td>-1.2004249</td><td> 66</td><td>ARID5B , IQGAP2 , MYL12A , FKBP5  , B2M    , CDK6   , STK39  , ACTN1  , GPD1L  , TNFAIP8, INPP4B , MAF    , RPS6KA3, PTK2B  , LMAN1  </td></tr>\n",
       "\t<tr><td>HALLMARK_APICAL_JUNCTION    </td><td>0.088414634</td><td>0.24444046</td><td>0.26635066</td><td>-0.4091203</td><td>-1.3024985</td><td> 70</td><td>PTPRC , ITGB1 , ACTB  , FYB1  , ACTN1 , EVL   , PTEN  , MYL12B, ICAM2 </td></tr>\n",
       "\t<tr><td>HALLMARK_APICAL_SURFACE     </td><td>0.521348315</td><td>0.61258427</td><td>0.08312913</td><td>-0.3940781</td><td>-0.9530580</td><td> 17</td><td>GATA3  , IL2RB  , FLOT2  , AKAP7  , CROCC  , MAL    , B4GALT1</td></tr>\n",
       "\t<tr><td>HALLMARK_APOPTOSIS          </td><td>0.508333333</td><td>0.61258427</td><td>0.06011861</td><td> 0.3659088</td><td> 0.9659397</td><td> 91</td><td>DAP3  , SQSTM1, GSR   , SOD1  , DNAJA1, HSPB1 , BAX   , LMNA  , MADD  , BID   , ADD1  </td></tr>\n",
       "</tbody>\n",
       "</table>\n"
      ],
      "text/latex": [
       "A data.table: 6 × 8\n",
       "\\begin{tabular}{llllllll}\n",
       " pathway & pval & padj & log2err & ES & NES & size & leadingEdge\\\\\n",
       " <chr> & <dbl> & <dbl> & <dbl> & <dbl> & <dbl> & <int> & <list>\\\\\n",
       "\\hline\n",
       "\t HALLMARK\\_ADIPOGENESIS        & 0.001786125 & 0.01529758 & 0.45505987 &  0.6234839 &  1.6915193 & 120 & UBC   , TALDO1, NMT1  , BAZ2A , SOD1  , ACO2  , RTN3  , GBE1  , MAP4K3, GPD2  , RREB1 , SQOR  , YWHAG , PEX14 , RIOK3 \\\\\n",
       "\t HALLMARK\\_ALLOGRAFT\\_REJECTION & 0.007759173 & 0.04558514 & 0.40701792 & -0.4353999 & -1.4674580 & 101 & CCND2  , PTPRC  , CD2    , LCP2   , ETS1   , ITK    , CD3G   , CD40LG , IL2RA  , HLA-E  , SOCS1  , FYB1   , B2M    , TIMP1  , STAT1  , ST8SIA4, GBP2   , IFNAR2 , IRF4   , STAT4  , TRAT1  , CD47   , CD3E   , ITGAL  , IL2RB  , IL7    , GPR65  , TAP1   , LCK    , NPM1   , IL4R   , TLR1   , CD74   , WAS    , ACVR2A \\\\\n",
       "\t HALLMARK\\_ANDROGEN\\_RESPONSE   & 0.165165165 & 0.33751142 & 0.19002331 & -0.3814166 & -1.2004249 &  66 & ARID5B , IQGAP2 , MYL12A , FKBP5  , B2M    , CDK6   , STK39  , ACTN1  , GPD1L  , TNFAIP8, INPP4B , MAF    , RPS6KA3, PTK2B  , LMAN1  \\\\\n",
       "\t HALLMARK\\_APICAL\\_JUNCTION     & 0.088414634 & 0.24444046 & 0.26635066 & -0.4091203 & -1.3024985 &  70 & PTPRC , ITGB1 , ACTB  , FYB1  , ACTN1 , EVL   , PTEN  , MYL12B, ICAM2 \\\\\n",
       "\t HALLMARK\\_APICAL\\_SURFACE      & 0.521348315 & 0.61258427 & 0.08312913 & -0.3940781 & -0.9530580 &  17 & GATA3  , IL2RB  , FLOT2  , AKAP7  , CROCC  , MAL    , B4GALT1\\\\\n",
       "\t HALLMARK\\_APOPTOSIS           & 0.508333333 & 0.61258427 & 0.06011861 &  0.3659088 &  0.9659397 &  91 & DAP3  , SQSTM1, GSR   , SOD1  , DNAJA1, HSPB1 , BAX   , LMNA  , MADD  , BID   , ADD1  \\\\\n",
       "\\end{tabular}\n"
      ],
      "text/markdown": [
       "\n",
       "A data.table: 6 × 8\n",
       "\n",
       "| pathway &lt;chr&gt; | pval &lt;dbl&gt; | padj &lt;dbl&gt; | log2err &lt;dbl&gt; | ES &lt;dbl&gt; | NES &lt;dbl&gt; | size &lt;int&gt; | leadingEdge &lt;list&gt; |\n",
       "|---|---|---|---|---|---|---|---|\n",
       "| HALLMARK_ADIPOGENESIS        | 0.001786125 | 0.01529758 | 0.45505987 |  0.6234839 |  1.6915193 | 120 | UBC   , TALDO1, NMT1  , BAZ2A , SOD1  , ACO2  , RTN3  , GBE1  , MAP4K3, GPD2  , RREB1 , SQOR  , YWHAG , PEX14 , RIOK3  |\n",
       "| HALLMARK_ALLOGRAFT_REJECTION | 0.007759173 | 0.04558514 | 0.40701792 | -0.4353999 | -1.4674580 | 101 | CCND2  , PTPRC  , CD2    , LCP2   , ETS1   , ITK    , CD3G   , CD40LG , IL2RA  , HLA-E  , SOCS1  , FYB1   , B2M    , TIMP1  , STAT1  , ST8SIA4, GBP2   , IFNAR2 , IRF4   , STAT4  , TRAT1  , CD47   , CD3E   , ITGAL  , IL2RB  , IL7    , GPR65  , TAP1   , LCK    , NPM1   , IL4R   , TLR1   , CD74   , WAS    , ACVR2A  |\n",
       "| HALLMARK_ANDROGEN_RESPONSE   | 0.165165165 | 0.33751142 | 0.19002331 | -0.3814166 | -1.2004249 |  66 | ARID5B , IQGAP2 , MYL12A , FKBP5  , B2M    , CDK6   , STK39  , ACTN1  , GPD1L  , TNFAIP8, INPP4B , MAF    , RPS6KA3, PTK2B  , LMAN1   |\n",
       "| HALLMARK_APICAL_JUNCTION     | 0.088414634 | 0.24444046 | 0.26635066 | -0.4091203 | -1.3024985 |  70 | PTPRC , ITGB1 , ACTB  , FYB1  , ACTN1 , EVL   , PTEN  , MYL12B, ICAM2  |\n",
       "| HALLMARK_APICAL_SURFACE      | 0.521348315 | 0.61258427 | 0.08312913 | -0.3940781 | -0.9530580 |  17 | GATA3  , IL2RB  , FLOT2  , AKAP7  , CROCC  , MAL    , B4GALT1 |\n",
       "| HALLMARK_APOPTOSIS           | 0.508333333 | 0.61258427 | 0.06011861 |  0.3659088 |  0.9659397 |  91 | DAP3  , SQSTM1, GSR   , SOD1  , DNAJA1, HSPB1 , BAX   , LMNA  , MADD  , BID   , ADD1   |\n",
       "\n"
      ],
      "text/plain": [
       "  pathway                      pval        padj       log2err    ES        \n",
       "1 HALLMARK_ADIPOGENESIS        0.001786125 0.01529758 0.45505987  0.6234839\n",
       "2 HALLMARK_ALLOGRAFT_REJECTION 0.007759173 0.04558514 0.40701792 -0.4353999\n",
       "3 HALLMARK_ANDROGEN_RESPONSE   0.165165165 0.33751142 0.19002331 -0.3814166\n",
       "4 HALLMARK_APICAL_JUNCTION     0.088414634 0.24444046 0.26635066 -0.4091203\n",
       "5 HALLMARK_APICAL_SURFACE      0.521348315 0.61258427 0.08312913 -0.3940781\n",
       "6 HALLMARK_APOPTOSIS           0.508333333 0.61258427 0.06011861  0.3659088\n",
       "  NES        size\n",
       "1  1.6915193 120 \n",
       "2 -1.4674580 101 \n",
       "3 -1.2004249  66 \n",
       "4 -1.3024985  70 \n",
       "5 -0.9530580  17 \n",
       "6  0.9659397  91 \n",
       "  leadingEdge                                                                                                                                                                                                                                                                                                              \n",
       "1 UBC   , TALDO1, NMT1  , BAZ2A , SOD1  , ACO2  , RTN3  , GBE1  , MAP4K3, GPD2  , RREB1 , SQOR  , YWHAG , PEX14 , RIOK3                                                                                                                                                                                                    \n",
       "2 CCND2  , PTPRC  , CD2    , LCP2   , ETS1   , ITK    , CD3G   , CD40LG , IL2RA  , HLA-E  , SOCS1  , FYB1   , B2M    , TIMP1  , STAT1  , ST8SIA4, GBP2   , IFNAR2 , IRF4   , STAT4  , TRAT1  , CD47   , CD3E   , ITGAL  , IL2RB  , IL7    , GPR65  , TAP1   , LCK    , NPM1   , IL4R   , TLR1   , CD74   , WAS    , ACVR2A \n",
       "3 ARID5B , IQGAP2 , MYL12A , FKBP5  , B2M    , CDK6   , STK39  , ACTN1  , GPD1L  , TNFAIP8, INPP4B , MAF    , RPS6KA3, PTK2B  , LMAN1                                                                                                                                                                                      \n",
       "4 PTPRC , ITGB1 , ACTB  , FYB1  , ACTN1 , EVL   , PTEN  , MYL12B, ICAM2                                                                                                                                                                                                                                                    \n",
       "5 GATA3  , IL2RB  , FLOT2  , AKAP7  , CROCC  , MAL    , B4GALT1                                                                                                                                                                                                                                                            \n",
       "6 DAP3  , SQSTM1, GSR   , SOD1  , DNAJA1, HSPB1 , BAX   , LMNA  , MADD  , BID   , ADD1                                                                                                                                                                                                                                     "
      ]
     },
     "metadata": {},
     "output_type": "display_data"
    }
   ],
   "source": [
    "head(fgsea_res[[1]])"
   ]
  },
  {
   "cell_type": "code",
   "execution_count": 23,
   "id": "f0f796a1-d372-4896-9351-b354082931e5",
   "metadata": {},
   "outputs": [],
   "source": [
    "formatted_fgsea_res <- map2_dfr(\n",
    "    fgsea_res,\n",
    "    deg_meta,\n",
    "    function(res, meta) {\n",
    "        res %>%\n",
    "          mutate(\n",
    "              leadingEdge = map_chr(leadingEdge, paste, collapse = \";\"),\n",
    "              fg = meta$fg,\n",
    "              bg = meta$bg,\n",
    "              timepoint = meta$timepoint,\n",
    "              aifi_cell_type = meta$aifi_cell_type\n",
    "          ) %>%\n",
    "          left_join(hallmark_df, by = \"pathway\") %>%\n",
    "          rename(nomP = pval,\n",
    "                 adjP = padj,\n",
    "                 n_leadingEdge = size) %>%\n",
    "          select(fg, bg, timepoint, aifi_cell_type,\n",
    "                 pathway_label, NES, nomP, adjP, \n",
    "                 n_leadingEdge, n_pathway_genes,\n",
    "                 leadingEdge, pathway_genes) %>%\n",
    "          arrange(desc(NES))\n",
    "\n",
    "    }\n",
    ")"
   ]
  },
  {
   "cell_type": "markdown",
   "id": "b01089e3-a6e4-453c-9fbd-eff44e0b3f85",
   "metadata": {},
   "source": [
    "## Write output file\n",
    "\n",
    "Write the metadata as a .csv for later use. We remove `row.names` and set `quote = FALSE` to simplify the outputs and increase compatibility with other tools."
   ]
  },
  {
   "cell_type": "code",
   "execution_count": 24,
   "id": "d139486b-d544-4ce5-bbf9-d5c0284c3a18",
   "metadata": {},
   "outputs": [],
   "source": [
    "dir.create(\"output\")"
   ]
  },
  {
   "cell_type": "code",
   "execution_count": 25,
   "id": "ae82071d-024f-44f6-85f6-5695c647ebfd",
   "metadata": {},
   "outputs": [],
   "source": [
    "out_file <- paste0(\"output/bortezomib_no-PSM_hallmark_gsea_res_\", Sys.Date(), \".csv\")\n",
    "write.csv(\n",
    "    formatted_fgsea_res,\n",
    "    out_file,\n",
    "    row.names = FALSE,\n",
    "    quote = FALSE\n",
    ")"
   ]
  },
  {
   "cell_type": "markdown",
   "id": "8d3fbd79-b4da-45b4-878c-b44b2906de71",
   "metadata": {},
   "source": [
    "## Store results in HISE\n",
    "\n",
    "Finally, we store the output file in our Collaboration Space for later retrieval and use. We need to provide the UUID for our Collaboration Space (aka `studySpaceId`), as well as a title for this step in our analysis process.\n",
    "\n",
    "The hise function `uploadFiles()` also requires the FileIDs from the original fileset for reference, which we used above when the DEG results were retrieved (`file_uuid`)"
   ]
  },
  {
   "cell_type": "code",
   "execution_count": 26,
   "id": "3f067e92-353f-4b6a-92c6-05681256aa9d",
   "metadata": {},
   "outputs": [],
   "source": [
    "study_space_uuid <- \"40df6403-29f0-4b45-ab7d-f46d420c422e\"\n",
    "title <- paste(\"VRd TEA-seq Hallmark Bor No-PSM GSEA Analysis\", Sys.Date())"
   ]
  },
  {
   "cell_type": "code",
   "execution_count": 27,
   "id": "e8bac351-aa16-4c73-8f5b-51ea3c11a952",
   "metadata": {},
   "outputs": [],
   "source": [
    "out_list <- as.list(out_file)"
   ]
  },
  {
   "cell_type": "code",
   "execution_count": 28,
   "id": "f033d227-398b-457e-b600-ce94d30b59b1",
   "metadata": {},
   "outputs": [
    {
     "data": {
      "text/html": [
       "<dl>\n",
       "\t<dt>$files</dt>\n",
       "\t\t<dd><ol>\n",
       "\t<li>'output/bortezomib_no-PSM_hallmark_gsea_res_2023-10-26.csv'</li>\n",
       "</ol>\n",
       "</dd>\n",
       "\t<dt>$traceId</dt>\n",
       "\t\t<dd>'beca41be-4cc2-465d-91b9-03ad4a87fdea'</dd>\n",
       "</dl>\n"
      ],
      "text/latex": [
       "\\begin{description}\n",
       "\\item[\\$files] \\begin{enumerate}\n",
       "\\item 'output/bortezomib\\_no-PSM\\_hallmark\\_gsea\\_res\\_2023-10-26.csv'\n",
       "\\end{enumerate}\n",
       "\n",
       "\\item[\\$traceId] 'beca41be-4cc2-465d-91b9-03ad4a87fdea'\n",
       "\\end{description}\n"
      ],
      "text/markdown": [
       "$files\n",
       ":   1. 'output/bortezomib_no-PSM_hallmark_gsea_res_2023-10-26.csv'\n",
       "\n",
       "\n",
       "\n",
       "$traceId\n",
       ":   'beca41be-4cc2-465d-91b9-03ad4a87fdea'\n",
       "\n",
       "\n"
      ],
      "text/plain": [
       "$files\n",
       "$files[[1]]\n",
       "[1] \"output/bortezomib_no-PSM_hallmark_gsea_res_2023-10-26.csv\"\n",
       "\n",
       "\n",
       "$traceId\n",
       "[1] \"beca41be-4cc2-465d-91b9-03ad4a87fdea\"\n"
      ]
     },
     "metadata": {},
     "output_type": "display_data"
    }
   ],
   "source": [
    "uploadFiles(\n",
    "    files = out_list,\n",
    "    studySpaceId = study_space_uuid,\n",
    "    title = title,\n",
    "    inputFileIds = file_uuid,\n",
    "    store = \"project\",\n",
    "    doPrompt = FALSE\n",
    ")"
   ]
  },
  {
   "cell_type": "code",
   "execution_count": 29,
   "id": "4d960a6b-1ad2-4bf3-9669-894af6f2ea3c",
   "metadata": {
    "tags": []
   },
   "outputs": [
    {
     "data": {
      "text/plain": [
       "R version 4.3.1 (2023-06-16)\n",
       "Platform: x86_64-conda-linux-gnu (64-bit)\n",
       "Running under: Ubuntu 20.04.6 LTS\n",
       "\n",
       "Matrix products: default\n",
       "BLAS/LAPACK: /opt/conda/lib/libopenblasp-r0.3.24.so;  LAPACK version 3.11.0\n",
       "\n",
       "locale:\n",
       " [1] LC_CTYPE=C.UTF-8       LC_NUMERIC=C           LC_TIME=C.UTF-8       \n",
       " [4] LC_COLLATE=C.UTF-8     LC_MONETARY=C.UTF-8    LC_MESSAGES=C.UTF-8   \n",
       " [7] LC_PAPER=C.UTF-8       LC_NAME=C              LC_ADDRESS=C          \n",
       "[10] LC_TELEPHONE=C         LC_MEASUREMENT=C.UTF-8 LC_IDENTIFICATION=C   \n",
       "\n",
       "time zone: Etc/UTC\n",
       "tzcode source: system (glibc)\n",
       "\n",
       "attached base packages:\n",
       "[1] stats     graphics  grDevices utils     datasets  methods   base     \n",
       "\n",
       "other attached packages:\n",
       "[1] msigdbr_7.5.1 fgsea_1.26.0  dplyr_1.1.3   purrr_1.0.2   hise_2.16.0  \n",
       "\n",
       "loaded via a namespace (and not attached):\n",
       " [1] utf8_1.2.3          generics_0.1.3      bitops_1.0-7       \n",
       " [4] lattice_0.21-8      digest_0.6.33       magrittr_2.0.3     \n",
       " [7] evaluate_0.21       grid_4.3.1          pbdZMQ_0.3-10      \n",
       "[10] fastmap_1.1.1       jsonlite_1.8.7      Matrix_1.6-1.1     \n",
       "[13] httr_1.4.7          fansi_1.0.4         scales_1.2.1       \n",
       "[16] codetools_0.2-19    cli_3.6.1           rlang_1.1.1        \n",
       "[19] crayon_1.5.2        cowplot_1.1.1       munsell_0.5.0      \n",
       "[22] base64enc_0.1-3     withr_2.5.1         repr_1.1.6.9000    \n",
       "[25] tools_4.3.1         parallel_4.3.1      BiocParallel_1.34.2\n",
       "[28] uuid_1.1-1          colorspace_2.1-0    ggplot2_3.4.3      \n",
       "[31] fastmatch_1.1-4     curl_5.0.2          assertthat_0.2.1   \n",
       "[34] IRdisplay_1.1       babelgene_22.9      vctrs_0.6.3        \n",
       "[37] R6_2.5.1            mime_0.12           lifecycle_1.0.3    \n",
       "[40] pkgconfig_2.0.3     pillar_1.9.0        gtable_0.3.4       \n",
       "[43] glue_1.6.2          data.table_1.14.8   Rcpp_1.0.11        \n",
       "[46] tibble_3.2.1        tidyselect_1.2.0    IRkernel_1.3.2     \n",
       "[49] htmltools_0.5.6     compiler_4.3.1      RCurl_1.98-1.12    "
      ]
     },
     "metadata": {},
     "output_type": "display_data"
    }
   ],
   "source": [
    "sessionInfo()"
   ]
  }
 ],
 "metadata": {
  "kernelspec": {
   "display_name": "R 4",
   "language": "R",
   "name": "ir4"
  },
  "language_info": {
   "codemirror_mode": "r",
   "file_extension": ".r",
   "mimetype": "text/x-r-source",
   "name": "R",
   "pygments_lexer": "r",
   "version": "4.3.1"
  }
 },
 "nbformat": 4,
 "nbformat_minor": 5
}
