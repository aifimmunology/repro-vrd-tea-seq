{
 "cells": [
  {
   "cell_type": "markdown",
   "id": "3d921998-fe5e-49ec-a508-6c8a736e9904",
   "metadata": {
    "tags": []
   },
   "source": [
    "# Linear modeling for differential ADT expression\n",
    "\n",
    "In this notebook, we retrieve our CD4 and CD8 T cells and our cell type labels, then perform differential expression of ADT data using linear models. Comparisons will be carried out for each drug treatment at each timepoint compared to the DMSO-only control for each timepoint within each cell type.\n",
    "\n",
    "To balance cell counts, we'll group cells by treatment or control and cell type, then use the minimum number of cells across all samples. For example, to test CD4 Naive T cells under Bortezomib treatment, we'll examine the number of CD4 Naive cells in Bortezomib and DMSO at 4, 24, and 72 hours and randomly sample based on the minimum counts from all 6 samples.\n",
    "\n",
    "We'll then perform comparisons between treatment and control at each timepoint (e.g. CD4 Naive w/Bortezomib @ 4 hr vs. CD4 Naive w/DMSO @4 hr)."
   ]
  },
  {
   "cell_type": "markdown",
   "id": "a4c691f2-bfcb-4b61-ac54-ea4fffe932e2",
   "metadata": {},
   "source": [
    "## Load packages\n",
    "\n",
    "hise: The Human Immune System Explorer R SDK package  \n",
    "purrr: Functional programming tools  \n",
    "dplyr: Dataframe handling functions  \n",
    "Seurat: single cell genomics methods  "
   ]
  },
  {
   "cell_type": "code",
   "execution_count": 1,
   "id": "0a2cecf5-f312-43b9-93c2-cb7b6205f370",
   "metadata": {
    "tags": []
   },
   "outputs": [],
   "source": [
    "quiet_library <- function(...) { suppressPackageStartupMessages(library(...)) }\n",
    "quiet_library(hise)\n",
    "quiet_library(purrr)\n",
    "quiet_library(dplyr)\n",
    "quiet_library(Seurat)"
   ]
  },
  {
   "cell_type": "markdown",
   "id": "484ee90c-bb93-473a-9261-55b21c16c05e",
   "metadata": {},
   "source": [
    "## Retrieve files\n",
    "\n",
    "Now, we'll use the HISE SDK package to retrieve the Seurat objects and cell type labels based on file UUIDs. This will be placed in the `cache/` subdirectory by default."
   ]
  },
  {
   "cell_type": "code",
   "execution_count": 2,
   "id": "f22b4f83-2d36-4ce5-b8fc-1d45c30f4b24",
   "metadata": {
    "tags": []
   },
   "outputs": [],
   "source": [
    "file_uuids <- list(\n",
    "    \"7bdac6ef-e5e5-4150-b4f3-9c1a1e250334\", # CD4 T cell Seurat object\n",
    "    \"46438bc4-cde6-4ae6-b349-9c513dd9d16f\", # CD8 T cell Seurat object\n",
    "    \"ebd4bee7-2f5d-46e1-b2fc-22157f1b8d04\", # CD4 type labels\n",
    "    \"4d6aade9-288c-452f-8f0d-ac59e539f4cc\"  # CD8 type labels\n",
    ")"
   ]
  },
  {
   "cell_type": "code",
   "execution_count": null,
   "id": "ab7549a6-917c-46f4-a242-6c29553ce9c2",
   "metadata": {
    "scrolled": true,
    "tags": []
   },
   "outputs": [],
   "source": [
    "fres <- cacheFiles(file_uuids)"
   ]
  },
  {
   "cell_type": "markdown",
   "id": "60143f82-ad61-4259-9766-0e120b80b864",
   "metadata": {},
   "source": [
    "## Select cells\n"
   ]
  },
  {
   "cell_type": "code",
   "execution_count": null,
   "id": "424b8a15-c76c-4e5c-8c9d-1bbb854f5d85",
   "metadata": {
    "tags": []
   },
   "outputs": [],
   "source": [
    "cd4_labels <- read.csv(\"cache/ebd4bee7-2f5d-46e1-b2fc-22157f1b8d04/cd4_cell_type_labels_2023-09-05.csv\")\n",
    "cd8_labels <- read.csv(\"cache/4d6aade9-288c-452f-8f0d-ac59e539f4cc/cd8_cell_type_labels_2023-09-05.csv\")"
   ]
  },
  {
   "cell_type": "code",
   "execution_count": null,
   "id": "0937eccb-2827-4f0a-9f4a-c19566007f17",
   "metadata": {
    "tags": []
   },
   "outputs": [],
   "source": [
    "all_labels <- rbind(cd4_labels, cd8_labels)"
   ]
  },
  {
   "cell_type": "code",
   "execution_count": null,
   "id": "2921eac0-a1a9-4ef4-afd2-4869b9a87e93",
   "metadata": {
    "tags": []
   },
   "outputs": [],
   "source": [
    "head(all_labels)"
   ]
  },
  {
   "cell_type": "markdown",
   "id": "4080af3c-57a7-4585-8ede-e6ee912a59a8",
   "metadata": {},
   "source": [
    "Exclude untreated cells - we won't use these for our treatment comparisons"
   ]
  },
  {
   "cell_type": "code",
   "execution_count": null,
   "id": "b8d835e4-cd20-4671-96b6-0cf0c5a6e255",
   "metadata": {
    "tags": []
   },
   "outputs": [],
   "source": [
    "all_labels <- all_labels %>%\n",
    "  filter(treatment != \"untreated\")"
   ]
  },
  {
   "cell_type": "markdown",
   "id": "906c5ba6-3e75-446d-8477-8dc318aafa84",
   "metadata": {},
   "source": [
    "Get counts of each cell type for each sample:"
   ]
  },
  {
   "cell_type": "code",
   "execution_count": null,
   "id": "3e9f6c09-6396-4de3-b273-e2d3344f5ec4",
   "metadata": {
    "tags": []
   },
   "outputs": [],
   "source": [
    "count_summary <- all_labels %>%\n",
    "  group_by(treatment, timepoint, aifi_cell_type) %>%\n",
    "  summarise(n_cells = n(),\n",
    "            .groups = \"keep\") %>%\n",
    "  ungroup()"
   ]
  },
  {
   "cell_type": "markdown",
   "id": "eebd9a22-9c28-4db3-8b12-0ab3ad68ea25",
   "metadata": {},
   "source": [
    "Add a column for DMSO counts per type and timepoint"
   ]
  },
  {
   "cell_type": "code",
   "execution_count": null,
   "id": "4adfc8b8-9791-4644-8f07-2acfa01f5088",
   "metadata": {
    "tags": []
   },
   "outputs": [],
   "source": [
    "count_summary <- count_summary %>%\n",
    "  ungroup() %>%\n",
    "  group_by(aifi_cell_type, timepoint) %>%\n",
    "  mutate(n_dmso = n_cells[treatment == \"dmso\"]) %>%\n",
    "  ungroup() %>%\n",
    "  filter(treatment != \"dmso\")"
   ]
  },
  {
   "cell_type": "markdown",
   "id": "af921872-c036-4b30-a59c-550b9bf391ff",
   "metadata": {},
   "source": [
    "Regroup by treatment and cell type, and use treatment and DMSO counts to find minimums for sampling"
   ]
  },
  {
   "cell_type": "code",
   "execution_count": null,
   "id": "74b6d12c-08f7-4abb-9b6d-126bcead5c49",
   "metadata": {
    "tags": []
   },
   "outputs": [],
   "source": [
    "type_minimums <- count_summary %>%\n",
    "  group_by(treatment, aifi_cell_type) %>%\n",
    "  mutate(n_sample = min(c(n_cells, n_dmso)))"
   ]
  },
  {
   "cell_type": "raw",
   "id": "7064bd09-0452-4f7d-8fad-cf63ec937f8d",
   "metadata": {},
   "source": [
    "type_minimums %>%\n",
    "  arrange(treatment, aifi_cell_type, timepoint)"
   ]
  },
  {
   "cell_type": "code",
   "execution_count": null,
   "id": "1286f70b-6004-49b9-b6a5-a1564ff1369e",
   "metadata": {
    "tags": []
   },
   "outputs": [],
   "source": [
    "comp_list <- map(\n",
    "    1:nrow(type_minimums),\n",
    "    function(i) {\n",
    "        as.list(type_minimums[i,])\n",
    "    }\n",
    ")"
   ]
  },
  {
   "cell_type": "markdown",
   "id": "a635560b-d690-44f2-8d6c-f8de938700cd",
   "metadata": {},
   "source": [
    "## Sample cells for each test\n",
    "\n",
    "Here, we'll sample cells for comparisons and generate a table of foreground and background cells to use for analysis."
   ]
  },
  {
   "cell_type": "code",
   "execution_count": null,
   "id": "8c94e2d9-0ceb-4f45-93e0-ba6c7be5e2f3",
   "metadata": {
    "tags": []
   },
   "outputs": [],
   "source": [
    "sampled_comp_cells <- map(\n",
    "    comp_list,\n",
    "    function(comp) {\n",
    "        set.seed(3030)\n",
    "        \n",
    "        tp <- comp$timepoint\n",
    "        ct <- comp$aifi_cell_type\n",
    "        \n",
    "        fg_treat <- comp$treatment\n",
    "        bg_treat <- \"dmso\"\n",
    "\n",
    "        n_sample <- comp$n_sample\n",
    "\n",
    "        fg_cells <- all_labels %>%\n",
    "          filter(treatment == fg_treat,\n",
    "                 timepoint == tp,\n",
    "                 aifi_cell_type == ct) %>%\n",
    "          sample_n(n_sample)\n",
    "        bg_cells <- all_labels %>%\n",
    "          filter(treatment == bg_treat,\n",
    "                 timepoint == tp,\n",
    "                 aifi_cell_type == ct) %>%\n",
    "          sample_n(n_sample)\n",
    "\n",
    "        rbind(bg_cells, fg_cells)\n",
    "    }\n",
    ")"
   ]
  },
  {
   "cell_type": "markdown",
   "id": "810c52a3-4107-4ed7-9d87-e21e189415cc",
   "metadata": {},
   "source": [
    "## Build matrices for each test\n",
    "\n",
    "Now, we'll use the selected cells to build a data matrix for each comparison.\n",
    "\n",
    "We'll use these together with the cell metadata to run `lm()`."
   ]
  },
  {
   "cell_type": "code",
   "execution_count": null,
   "id": "8f6e6dbf-56c1-4215-ad36-739823e36c4e",
   "metadata": {
    "tags": []
   },
   "outputs": [],
   "source": [
    "cd4_so <- readRDS(\"cache/7bdac6ef-e5e5-4150-b4f3-9c1a1e250334/filtered_cd4_te_seurat.rds\")\n",
    "cd8_so <- readRDS(\"cache/46438bc4-cde6-4ae6-b349-9c513dd9d16f/filtered_cd8_te_seurat.rds\")"
   ]
  },
  {
   "cell_type": "code",
   "execution_count": null,
   "id": "286892a6-8528-47f9-a04f-1d1a75f73509",
   "metadata": {
    "tags": []
   },
   "outputs": [],
   "source": [
    "all_so <- merge(cd4_so, cd8_so)"
   ]
  },
  {
   "cell_type": "code",
   "execution_count": null,
   "id": "370da80d-5fe5-42d4-a935-a328fb26dabd",
   "metadata": {
    "tags": []
   },
   "outputs": [],
   "source": [
    "DefaultAssay(all_so) <- \"ADT\""
   ]
  },
  {
   "cell_type": "code",
   "execution_count": 15,
   "id": "7da076ad-3f46-4d96-b00a-72867a1d49a7",
   "metadata": {},
   "outputs": [],
   "source": [
    "all_so <- NormalizeData(\n",
    "    all_so, \n",
    "    normalization.method = \"CLR\",\n",
    "    \n",
    ")"
   ]
  },
  {
   "cell_type": "code",
   "execution_count": 16,
   "id": "53c1dfc5-e987-4970-8e80-7661ec5d1509",
   "metadata": {},
   "outputs": [],
   "source": [
    "all_mat <- all_so[[\"RNA\"]]@data\n",
    "rm(cd4_so)\n",
    "rm(cd8_so)\n",
    "rm(all_so)"
   ]
  },
  {
   "cell_type": "code",
   "execution_count": 17,
   "id": "db6dbcce-8bd7-4b36-a274-7821d95ae10b",
   "metadata": {},
   "outputs": [],
   "source": [
    "sampled_comp_mats <- map(\n",
    "    sampled_comp_cells,\n",
    "    function(meta) {\n",
    "        all_mat[,meta$barcodes]\n",
    "    }\n",
    ")"
   ]
  },
  {
   "cell_type": "code",
   "execution_count": 3,
   "id": "2d6cee03-0588-4427-9e22-758d60a60061",
   "metadata": {},
   "outputs": [],
   "source": [
    "type_labels <- read.csv(\"../04_perturb_tea-seq_cell-type_labeling/data/aifi_cell_type_labels.csv\") %>%\n",
    "  select(barcodes, aifi_cell_type)"
   ]
  },
  {
   "cell_type": "code",
   "execution_count": 4,
   "id": "3d48c74b-43c2-4182-9742-9d3726aeba4f",
   "metadata": {},
   "outputs": [],
   "source": [
    "so <- readRDS(\"../03_perturb_tea-seq_preprocessing/data/seurat_objects/allcells_filtered_tea_so.rds\")"
   ]
  },
  {
   "cell_type": "code",
   "execution_count": 6,
   "id": "54509a1c-6a42-4f3a-8bd0-3c62b886028b",
   "metadata": {},
   "outputs": [],
   "source": [
    "adt_mat <- so[[\"ADT\"]]@data"
   ]
  },
  {
   "cell_type": "code",
   "execution_count": 7,
   "id": "ffcc9562-d778-471a-8e72-db1afdcd8651",
   "metadata": {},
   "outputs": [
    {
     "name": "stderr",
     "output_type": "stream",
     "text": [
      "\u001b[1m\u001b[22mJoining, by = \"barcodes\"\n"
     ]
    }
   ],
   "source": [
    "meta <- so@meta.data %>%\n",
    "  left_join(type_labels) %>%\n",
    "  filter(!is.na(aifi_cell_type)) %>%\n",
    "  filter(aifi_cell_type != \"t_cd8_mait\")"
   ]
  },
  {
   "cell_type": "markdown",
   "id": "d1435380-1a47-4d0e-ada0-bec3a512568c",
   "metadata": {},
   "source": [
    "Downsampling to use the same number of cells per treatment/dmso per cell type across timepoints - this allows us to compare between time points, but isn't very good for comparisons between cell types, so be careful with interpretation."
   ]
  },
  {
   "cell_type": "code",
   "execution_count": 8,
   "id": "e5c4a260-b2e3-4907-b03f-6869738cdda7",
   "metadata": {},
   "outputs": [],
   "source": [
    "downsample <- meta %>%\n",
    "  group_by(aifi_cell_type, treatment, timepoint) %>%\n",
    "  summarise(n_cells = n(), .groups = \"keep\") %>%\n",
    "  group_by(aifi_cell_type, treatment) %>%\n",
    "  summarise(min_cells = min(n_cells), .groups = \"keep\") %>%\n",
    "  group_by(aifi_cell_type) %>%\n",
    "  mutate(downsample = ifelse(min_cells[treatment == \"dmso\"] < min_cells, min_cells[treatment == \"dmso\"], min_cells))"
   ]
  },
  {
   "cell_type": "code",
   "execution_count": 9,
   "id": "a4f9df88-b9f3-46cd-a53d-4126e9a45b98",
   "metadata": {},
   "outputs": [
    {
     "data": {
      "text/html": [
       "<table class=\"dataframe\">\n",
       "<caption>A grouped_df: 30 × 4</caption>\n",
       "<thead>\n",
       "\t<tr><th scope=col>aifi_cell_type</th><th scope=col>treatment</th><th scope=col>min_cells</th><th scope=col>downsample</th></tr>\n",
       "\t<tr><th scope=col>&lt;chr&gt;</th><th scope=col>&lt;chr&gt;</th><th scope=col>&lt;int&gt;</th><th scope=col>&lt;int&gt;</th></tr>\n",
       "</thead>\n",
       "<tbody>\n",
       "\t<tr><td>t_cd4_cm   </td><td>bortezomib   </td><td>1158</td><td> 660</td></tr>\n",
       "\t<tr><td>t_cd4_cm   </td><td>dexamethasone</td><td>1112</td><td> 660</td></tr>\n",
       "\t<tr><td>t_cd4_cm   </td><td>dmso         </td><td> 660</td><td> 660</td></tr>\n",
       "\t<tr><td>t_cd4_cm   </td><td>lenalidomide </td><td>1435</td><td> 660</td></tr>\n",
       "\t<tr><td>t_cd4_cm   </td><td>untreated    </td><td>4944</td><td> 660</td></tr>\n",
       "\t<tr><td>t_cd4_em   </td><td>bortezomib   </td><td> 502</td><td> 301</td></tr>\n",
       "\t<tr><td>t_cd4_em   </td><td>dexamethasone</td><td> 481</td><td> 301</td></tr>\n",
       "\t<tr><td>t_cd4_em   </td><td>dmso         </td><td> 301</td><td> 301</td></tr>\n",
       "\t<tr><td>t_cd4_em   </td><td>lenalidomide </td><td> 668</td><td> 301</td></tr>\n",
       "\t<tr><td>t_cd4_em   </td><td>untreated    </td><td>1979</td><td> 301</td></tr>\n",
       "\t<tr><td>t_cd4_naive</td><td>bortezomib   </td><td>1950</td><td>1127</td></tr>\n",
       "\t<tr><td>t_cd4_naive</td><td>dexamethasone</td><td>1470</td><td>1127</td></tr>\n",
       "\t<tr><td>t_cd4_naive</td><td>dmso         </td><td>1127</td><td>1127</td></tr>\n",
       "\t<tr><td>t_cd4_naive</td><td>lenalidomide </td><td>1911</td><td>1127</td></tr>\n",
       "\t<tr><td>t_cd4_naive</td><td>untreated    </td><td>5913</td><td>1127</td></tr>\n",
       "\t<tr><td>t_cd4_treg </td><td>bortezomib   </td><td> 136</td><td> 136</td></tr>\n",
       "\t<tr><td>t_cd4_treg </td><td>dexamethasone</td><td> 199</td><td> 142</td></tr>\n",
       "\t<tr><td>t_cd4_treg </td><td>dmso         </td><td> 142</td><td> 142</td></tr>\n",
       "\t<tr><td>t_cd4_treg </td><td>lenalidomide </td><td> 299</td><td> 142</td></tr>\n",
       "\t<tr><td>t_cd4_treg </td><td>untreated    </td><td>1048</td><td> 142</td></tr>\n",
       "\t<tr><td>t_cd8_mem  </td><td>bortezomib   </td><td> 267</td><td> 198</td></tr>\n",
       "\t<tr><td>t_cd8_mem  </td><td>dexamethasone</td><td> 309</td><td> 198</td></tr>\n",
       "\t<tr><td>t_cd8_mem  </td><td>dmso         </td><td> 198</td><td> 198</td></tr>\n",
       "\t<tr><td>t_cd8_mem  </td><td>lenalidomide </td><td> 478</td><td> 198</td></tr>\n",
       "\t<tr><td>t_cd8_mem  </td><td>untreated    </td><td>2155</td><td> 198</td></tr>\n",
       "\t<tr><td>t_cd8_naive</td><td>bortezomib   </td><td> 626</td><td> 393</td></tr>\n",
       "\t<tr><td>t_cd8_naive</td><td>dexamethasone</td><td> 563</td><td> 393</td></tr>\n",
       "\t<tr><td>t_cd8_naive</td><td>dmso         </td><td> 393</td><td> 393</td></tr>\n",
       "\t<tr><td>t_cd8_naive</td><td>lenalidomide </td><td> 736</td><td> 393</td></tr>\n",
       "\t<tr><td>t_cd8_naive</td><td>untreated    </td><td>2322</td><td> 393</td></tr>\n",
       "</tbody>\n",
       "</table>\n"
      ],
      "text/latex": [
       "A grouped\\_df: 30 × 4\n",
       "\\begin{tabular}{llll}\n",
       " aifi\\_cell\\_type & treatment & min\\_cells & downsample\\\\\n",
       " <chr> & <chr> & <int> & <int>\\\\\n",
       "\\hline\n",
       "\t t\\_cd4\\_cm    & bortezomib    & 1158 &  660\\\\\n",
       "\t t\\_cd4\\_cm    & dexamethasone & 1112 &  660\\\\\n",
       "\t t\\_cd4\\_cm    & dmso          &  660 &  660\\\\\n",
       "\t t\\_cd4\\_cm    & lenalidomide  & 1435 &  660\\\\\n",
       "\t t\\_cd4\\_cm    & untreated     & 4944 &  660\\\\\n",
       "\t t\\_cd4\\_em    & bortezomib    &  502 &  301\\\\\n",
       "\t t\\_cd4\\_em    & dexamethasone &  481 &  301\\\\\n",
       "\t t\\_cd4\\_em    & dmso          &  301 &  301\\\\\n",
       "\t t\\_cd4\\_em    & lenalidomide  &  668 &  301\\\\\n",
       "\t t\\_cd4\\_em    & untreated     & 1979 &  301\\\\\n",
       "\t t\\_cd4\\_naive & bortezomib    & 1950 & 1127\\\\\n",
       "\t t\\_cd4\\_naive & dexamethasone & 1470 & 1127\\\\\n",
       "\t t\\_cd4\\_naive & dmso          & 1127 & 1127\\\\\n",
       "\t t\\_cd4\\_naive & lenalidomide  & 1911 & 1127\\\\\n",
       "\t t\\_cd4\\_naive & untreated     & 5913 & 1127\\\\\n",
       "\t t\\_cd4\\_treg  & bortezomib    &  136 &  136\\\\\n",
       "\t t\\_cd4\\_treg  & dexamethasone &  199 &  142\\\\\n",
       "\t t\\_cd4\\_treg  & dmso          &  142 &  142\\\\\n",
       "\t t\\_cd4\\_treg  & lenalidomide  &  299 &  142\\\\\n",
       "\t t\\_cd4\\_treg  & untreated     & 1048 &  142\\\\\n",
       "\t t\\_cd8\\_mem   & bortezomib    &  267 &  198\\\\\n",
       "\t t\\_cd8\\_mem   & dexamethasone &  309 &  198\\\\\n",
       "\t t\\_cd8\\_mem   & dmso          &  198 &  198\\\\\n",
       "\t t\\_cd8\\_mem   & lenalidomide  &  478 &  198\\\\\n",
       "\t t\\_cd8\\_mem   & untreated     & 2155 &  198\\\\\n",
       "\t t\\_cd8\\_naive & bortezomib    &  626 &  393\\\\\n",
       "\t t\\_cd8\\_naive & dexamethasone &  563 &  393\\\\\n",
       "\t t\\_cd8\\_naive & dmso          &  393 &  393\\\\\n",
       "\t t\\_cd8\\_naive & lenalidomide  &  736 &  393\\\\\n",
       "\t t\\_cd8\\_naive & untreated     & 2322 &  393\\\\\n",
       "\\end{tabular}\n"
      ],
      "text/markdown": [
       "\n",
       "A grouped_df: 30 × 4\n",
       "\n",
       "| aifi_cell_type &lt;chr&gt; | treatment &lt;chr&gt; | min_cells &lt;int&gt; | downsample &lt;int&gt; |\n",
       "|---|---|---|---|\n",
       "| t_cd4_cm    | bortezomib    | 1158 |  660 |\n",
       "| t_cd4_cm    | dexamethasone | 1112 |  660 |\n",
       "| t_cd4_cm    | dmso          |  660 |  660 |\n",
       "| t_cd4_cm    | lenalidomide  | 1435 |  660 |\n",
       "| t_cd4_cm    | untreated     | 4944 |  660 |\n",
       "| t_cd4_em    | bortezomib    |  502 |  301 |\n",
       "| t_cd4_em    | dexamethasone |  481 |  301 |\n",
       "| t_cd4_em    | dmso          |  301 |  301 |\n",
       "| t_cd4_em    | lenalidomide  |  668 |  301 |\n",
       "| t_cd4_em    | untreated     | 1979 |  301 |\n",
       "| t_cd4_naive | bortezomib    | 1950 | 1127 |\n",
       "| t_cd4_naive | dexamethasone | 1470 | 1127 |\n",
       "| t_cd4_naive | dmso          | 1127 | 1127 |\n",
       "| t_cd4_naive | lenalidomide  | 1911 | 1127 |\n",
       "| t_cd4_naive | untreated     | 5913 | 1127 |\n",
       "| t_cd4_treg  | bortezomib    |  136 |  136 |\n",
       "| t_cd4_treg  | dexamethasone |  199 |  142 |\n",
       "| t_cd4_treg  | dmso          |  142 |  142 |\n",
       "| t_cd4_treg  | lenalidomide  |  299 |  142 |\n",
       "| t_cd4_treg  | untreated     | 1048 |  142 |\n",
       "| t_cd8_mem   | bortezomib    |  267 |  198 |\n",
       "| t_cd8_mem   | dexamethasone |  309 |  198 |\n",
       "| t_cd8_mem   | dmso          |  198 |  198 |\n",
       "| t_cd8_mem   | lenalidomide  |  478 |  198 |\n",
       "| t_cd8_mem   | untreated     | 2155 |  198 |\n",
       "| t_cd8_naive | bortezomib    |  626 |  393 |\n",
       "| t_cd8_naive | dexamethasone |  563 |  393 |\n",
       "| t_cd8_naive | dmso          |  393 |  393 |\n",
       "| t_cd8_naive | lenalidomide  |  736 |  393 |\n",
       "| t_cd8_naive | untreated     | 2322 |  393 |\n",
       "\n"
      ],
      "text/plain": [
       "   aifi_cell_type treatment     min_cells downsample\n",
       "1  t_cd4_cm       bortezomib    1158       660      \n",
       "2  t_cd4_cm       dexamethasone 1112       660      \n",
       "3  t_cd4_cm       dmso           660       660      \n",
       "4  t_cd4_cm       lenalidomide  1435       660      \n",
       "5  t_cd4_cm       untreated     4944       660      \n",
       "6  t_cd4_em       bortezomib     502       301      \n",
       "7  t_cd4_em       dexamethasone  481       301      \n",
       "8  t_cd4_em       dmso           301       301      \n",
       "9  t_cd4_em       lenalidomide   668       301      \n",
       "10 t_cd4_em       untreated     1979       301      \n",
       "11 t_cd4_naive    bortezomib    1950      1127      \n",
       "12 t_cd4_naive    dexamethasone 1470      1127      \n",
       "13 t_cd4_naive    dmso          1127      1127      \n",
       "14 t_cd4_naive    lenalidomide  1911      1127      \n",
       "15 t_cd4_naive    untreated     5913      1127      \n",
       "16 t_cd4_treg     bortezomib     136       136      \n",
       "17 t_cd4_treg     dexamethasone  199       142      \n",
       "18 t_cd4_treg     dmso           142       142      \n",
       "19 t_cd4_treg     lenalidomide   299       142      \n",
       "20 t_cd4_treg     untreated     1048       142      \n",
       "21 t_cd8_mem      bortezomib     267       198      \n",
       "22 t_cd8_mem      dexamethasone  309       198      \n",
       "23 t_cd8_mem      dmso           198       198      \n",
       "24 t_cd8_mem      lenalidomide   478       198      \n",
       "25 t_cd8_mem      untreated     2155       198      \n",
       "26 t_cd8_naive    bortezomib     626       393      \n",
       "27 t_cd8_naive    dexamethasone  563       393      \n",
       "28 t_cd8_naive    dmso           393       393      \n",
       "29 t_cd8_naive    lenalidomide   736       393      \n",
       "30 t_cd8_naive    untreated     2322       393      "
      ]
     },
     "metadata": {},
     "output_type": "display_data"
    }
   ],
   "source": [
    "downsample"
   ]
  },
  {
   "cell_type": "code",
   "execution_count": 10,
   "id": "0d9df0d5-5276-48c2-876b-ad404b4e2e1f",
   "metadata": {},
   "outputs": [],
   "source": [
    "conditions <- meta %>%\n",
    "  filter(treatment != \"untreated\") %>%\n",
    "  select(aifi_cell_type, treatment, timepoint) %>%\n",
    "  unique() %>%\n",
    "  mutate(fg = treatment,\n",
    "         bg = ifelse(treatment != \"dmso\", \"dmso\", \"untreated\"))"
   ]
  },
  {
   "cell_type": "code",
   "execution_count": 11,
   "id": "f20f9d47-95c5-47e2-bef2-34e4668cf858",
   "metadata": {},
   "outputs": [
    {
     "data": {
      "text/html": [
       "<table class=\"dataframe\">\n",
       "<caption>A data.frame: 1 × 5</caption>\n",
       "<thead>\n",
       "\t<tr><th></th><th scope=col>aifi_cell_type</th><th scope=col>treatment</th><th scope=col>timepoint</th><th scope=col>fg</th><th scope=col>bg</th></tr>\n",
       "\t<tr><th></th><th scope=col>&lt;chr&gt;</th><th scope=col>&lt;chr&gt;</th><th scope=col>&lt;int&gt;</th><th scope=col>&lt;chr&gt;</th><th scope=col>&lt;chr&gt;</th></tr>\n",
       "</thead>\n",
       "<tbody>\n",
       "\t<tr><th scope=row>11641</th><td>t_cd4_naive</td><td>dmso</td><td>72</td><td>dmso</td><td>untreated</td></tr>\n",
       "</tbody>\n",
       "</table>\n"
      ],
      "text/latex": [
       "A data.frame: 1 × 5\n",
       "\\begin{tabular}{r|lllll}\n",
       "  & aifi\\_cell\\_type & treatment & timepoint & fg & bg\\\\\n",
       "  & <chr> & <chr> & <int> & <chr> & <chr>\\\\\n",
       "\\hline\n",
       "\t11641 & t\\_cd4\\_naive & dmso & 72 & dmso & untreated\\\\\n",
       "\\end{tabular}\n"
      ],
      "text/markdown": [
       "\n",
       "A data.frame: 1 × 5\n",
       "\n",
       "| <!--/--> | aifi_cell_type &lt;chr&gt; | treatment &lt;chr&gt; | timepoint &lt;int&gt; | fg &lt;chr&gt; | bg &lt;chr&gt; |\n",
       "|---|---|---|---|---|---|\n",
       "| 11641 | t_cd4_naive | dmso | 72 | dmso | untreated |\n",
       "\n"
      ],
      "text/plain": [
       "      aifi_cell_type treatment timepoint fg   bg       \n",
       "11641 t_cd4_naive    dmso      72        dmso untreated"
      ]
     },
     "metadata": {},
     "output_type": "display_data"
    }
   ],
   "source": [
    "conditions[13,]"
   ]
  },
  {
   "cell_type": "code",
   "execution_count": 12,
   "id": "4d78159c-0cbf-4e5b-a091-dc2b7bd95df2",
   "metadata": {},
   "outputs": [],
   "source": [
    "lm_res <- map_dfr(\n",
    "    1:nrow(conditions),\n",
    "    function(i) {\n",
    "        set.seed(3030)\n",
    "        \n",
    "        ct <- conditions$aifi_cell_type[i]\n",
    "        tp <- conditions$timepoint[i]\n",
    "        fg <- conditions$fg[i]\n",
    "        bg <- conditions$bg[i]\n",
    "        \n",
    "        ds <- downsample %>%\n",
    "          filter(aifi_cell_type == ct,\n",
    "                 treatment == fg)\n",
    "        ds <- ds$downsample\n",
    "        \n",
    "        meta <- meta %>%\n",
    "          filter(aifi_cell_type == ct,\n",
    "                 # include 0 here so we don't lose untreated cells for dmso comparisons\n",
    "                 timepoint %in% c(tp, 0))\n",
    "        \n",
    "        # filtering here based on treatment will drop the untreated cells from non-dmso comparisons\n",
    "        fg_meta <- meta %>%\n",
    "          filter(treatment == fg) %>%\n",
    "          sample_n(ds)\n",
    "        bg_meta <- meta %>%\n",
    "          filter(treatment == bg) %>%\n",
    "          sample_n(ds)\n",
    "        \n",
    "        fg_mat <- adt_mat[,fg_meta$barcodes]\n",
    "        bg_mat <- adt_mat[,bg_meta$barcodes]\n",
    "        \n",
    "        lm_mat <- cbind(fg_mat, bg_mat)\n",
    "        lm_meta <- rbind(fg_meta, bg_meta)\n",
    "        \n",
    "        map_dfr(rownames(lm_mat),\n",
    "            function(feat) {\n",
    "                dat <- data.frame(\n",
    "                    treatment = lm_meta$treatment, \n",
    "                    val = lm_mat[feat,]\n",
    "                )\n",
    "                names(dat)[2] <- feat\n",
    "                \n",
    "                lm_res <- lm(\n",
    "                    formula = as.formula(paste0(\"`\",feat,\"` ~ treatment\")), \n",
    "                    data = dat)\n",
    "                \n",
    "                coef <- summary(lm_res)$coefficients\n",
    "                \n",
    "                data.frame(\n",
    "                    aifi_cell_type = ct,\n",
    "                    timepoint = tp,\n",
    "                    fg = fg,\n",
    "                    bg = bg,\n",
    "                    n_downsample = ds,\n",
    "                    feature = feat,\n",
    "                    estimate = coef[2,1],\n",
    "                    std_error = coef[2,2],\n",
    "                    t_value = coef[2,3],\n",
    "                    nomP = coef[2,4],\n",
    "                    fg_mean = mean(fg_mat[feat,]),\n",
    "                    bg_mean = mean(bg_mat[feat,]),\n",
    "                    fc = mean(fg_mat[feat,]) / mean(bg_mat[feat,])\n",
    "                )\n",
    "        })\n",
    "    }\n",
    ")"
   ]
  },
  {
   "cell_type": "code",
   "execution_count": 13,
   "id": "e60ab20c-f4b1-4797-9356-192aa1652f7d",
   "metadata": {},
   "outputs": [],
   "source": [
    "lm_res$adjP <- p.adjust(lm_res$nomP, method = \"BH\")"
   ]
  },
  {
   "cell_type": "code",
   "execution_count": 14,
   "id": "228201c5-6d96-4b1b-80ff-924c3393cf04",
   "metadata": {},
   "outputs": [
    {
     "data": {
      "text/html": [
       "<table class=\"dataframe\">\n",
       "<caption>A data.frame: 6 × 14</caption>\n",
       "<thead>\n",
       "\t<tr><th></th><th scope=col>aifi_cell_type</th><th scope=col>timepoint</th><th scope=col>fg</th><th scope=col>bg</th><th scope=col>n_downsample</th><th scope=col>feature</th><th scope=col>estimate</th><th scope=col>std_error</th><th scope=col>t_value</th><th scope=col>nomP</th><th scope=col>fg_mean</th><th scope=col>bg_mean</th><th scope=col>fc</th><th scope=col>adjP</th></tr>\n",
       "\t<tr><th></th><th scope=col>&lt;chr&gt;</th><th scope=col>&lt;int&gt;</th><th scope=col>&lt;chr&gt;</th><th scope=col>&lt;chr&gt;</th><th scope=col>&lt;int&gt;</th><th scope=col>&lt;chr&gt;</th><th scope=col>&lt;dbl&gt;</th><th scope=col>&lt;dbl&gt;</th><th scope=col>&lt;dbl&gt;</th><th scope=col>&lt;dbl&gt;</th><th scope=col>&lt;dbl&gt;</th><th scope=col>&lt;dbl&gt;</th><th scope=col>&lt;dbl&gt;</th><th scope=col>&lt;dbl&gt;</th></tr>\n",
       "</thead>\n",
       "<tbody>\n",
       "\t<tr><th scope=row>1</th><td>t_cd4_cm</td><td>72</td><td>lenalidomide</td><td>dmso</td><td>660</td><td>CD11c</td><td>-0.007439843</td><td>0.006111401</td><td>-1.2173710</td><td>2.236810e-01</td><td>0.10850190</td><td>0.11594174</td><td>0.9358312</td><td>5.858312e-01</td></tr>\n",
       "\t<tr><th scope=row>2</th><td>t_cd4_cm</td><td>72</td><td>lenalidomide</td><td>dmso</td><td>660</td><td>CD278</td><td> 0.010920693</td><td>0.012857006</td><td> 0.8493963</td><td>3.958150e-01</td><td>0.54506449</td><td>0.53414380</td><td>1.0204452</td><td>7.389550e-01</td></tr>\n",
       "\t<tr><th scope=row>3</th><td>t_cd4_cm</td><td>72</td><td>lenalidomide</td><td>dmso</td><td>660</td><td>CD11b</td><td> 0.001346363</td><td>0.002957545</td><td> 0.4552300</td><td>6.490187e-01</td><td>0.02949852</td><td>0.02815216</td><td>1.0478245</td><td>8.873589e-01</td></tr>\n",
       "\t<tr><th scope=row>4</th><td>t_cd4_cm</td><td>72</td><td>lenalidomide</td><td>dmso</td><td>660</td><td>CD16 </td><td> 0.006983361</td><td>0.005876437</td><td> 1.1883664</td><td>2.349032e-01</td><td>0.12810037</td><td>0.12111701</td><td>1.0576580</td><td>6.025386e-01</td></tr>\n",
       "\t<tr><th scope=row>5</th><td>t_cd4_cm</td><td>72</td><td>lenalidomide</td><td>dmso</td><td>660</td><td>CD21 </td><td> 0.007479000</td><td>0.008476136</td><td> 0.8823597</td><td>3.777432e-01</td><td>0.30070889</td><td>0.29322989</td><td>1.0255056</td><td>7.247399e-01</td></tr>\n",
       "\t<tr><th scope=row>6</th><td>t_cd4_cm</td><td>72</td><td>lenalidomide</td><td>dmso</td><td>660</td><td>CD27 </td><td>-0.114406107</td><td>0.020247241</td><td>-5.6504543</td><td>1.958662e-08</td><td>2.13313049</td><td>2.24753659</td><td>0.9490971</td><td>3.972035e-07</td></tr>\n",
       "</tbody>\n",
       "</table>\n"
      ],
      "text/latex": [
       "A data.frame: 6 × 14\n",
       "\\begin{tabular}{r|llllllllllllll}\n",
       "  & aifi\\_cell\\_type & timepoint & fg & bg & n\\_downsample & feature & estimate & std\\_error & t\\_value & nomP & fg\\_mean & bg\\_mean & fc & adjP\\\\\n",
       "  & <chr> & <int> & <chr> & <chr> & <int> & <chr> & <dbl> & <dbl> & <dbl> & <dbl> & <dbl> & <dbl> & <dbl> & <dbl>\\\\\n",
       "\\hline\n",
       "\t1 & t\\_cd4\\_cm & 72 & lenalidomide & dmso & 660 & CD11c & -0.007439843 & 0.006111401 & -1.2173710 & 2.236810e-01 & 0.10850190 & 0.11594174 & 0.9358312 & 5.858312e-01\\\\\n",
       "\t2 & t\\_cd4\\_cm & 72 & lenalidomide & dmso & 660 & CD278 &  0.010920693 & 0.012857006 &  0.8493963 & 3.958150e-01 & 0.54506449 & 0.53414380 & 1.0204452 & 7.389550e-01\\\\\n",
       "\t3 & t\\_cd4\\_cm & 72 & lenalidomide & dmso & 660 & CD11b &  0.001346363 & 0.002957545 &  0.4552300 & 6.490187e-01 & 0.02949852 & 0.02815216 & 1.0478245 & 8.873589e-01\\\\\n",
       "\t4 & t\\_cd4\\_cm & 72 & lenalidomide & dmso & 660 & CD16  &  0.006983361 & 0.005876437 &  1.1883664 & 2.349032e-01 & 0.12810037 & 0.12111701 & 1.0576580 & 6.025386e-01\\\\\n",
       "\t5 & t\\_cd4\\_cm & 72 & lenalidomide & dmso & 660 & CD21  &  0.007479000 & 0.008476136 &  0.8823597 & 3.777432e-01 & 0.30070889 & 0.29322989 & 1.0255056 & 7.247399e-01\\\\\n",
       "\t6 & t\\_cd4\\_cm & 72 & lenalidomide & dmso & 660 & CD27  & -0.114406107 & 0.020247241 & -5.6504543 & 1.958662e-08 & 2.13313049 & 2.24753659 & 0.9490971 & 3.972035e-07\\\\\n",
       "\\end{tabular}\n"
      ],
      "text/markdown": [
       "\n",
       "A data.frame: 6 × 14\n",
       "\n",
       "| <!--/--> | aifi_cell_type &lt;chr&gt; | timepoint &lt;int&gt; | fg &lt;chr&gt; | bg &lt;chr&gt; | n_downsample &lt;int&gt; | feature &lt;chr&gt; | estimate &lt;dbl&gt; | std_error &lt;dbl&gt; | t_value &lt;dbl&gt; | nomP &lt;dbl&gt; | fg_mean &lt;dbl&gt; | bg_mean &lt;dbl&gt; | fc &lt;dbl&gt; | adjP &lt;dbl&gt; |\n",
       "|---|---|---|---|---|---|---|---|---|---|---|---|---|---|---|\n",
       "| 1 | t_cd4_cm | 72 | lenalidomide | dmso | 660 | CD11c | -0.007439843 | 0.006111401 | -1.2173710 | 2.236810e-01 | 0.10850190 | 0.11594174 | 0.9358312 | 5.858312e-01 |\n",
       "| 2 | t_cd4_cm | 72 | lenalidomide | dmso | 660 | CD278 |  0.010920693 | 0.012857006 |  0.8493963 | 3.958150e-01 | 0.54506449 | 0.53414380 | 1.0204452 | 7.389550e-01 |\n",
       "| 3 | t_cd4_cm | 72 | lenalidomide | dmso | 660 | CD11b |  0.001346363 | 0.002957545 |  0.4552300 | 6.490187e-01 | 0.02949852 | 0.02815216 | 1.0478245 | 8.873589e-01 |\n",
       "| 4 | t_cd4_cm | 72 | lenalidomide | dmso | 660 | CD16  |  0.006983361 | 0.005876437 |  1.1883664 | 2.349032e-01 | 0.12810037 | 0.12111701 | 1.0576580 | 6.025386e-01 |\n",
       "| 5 | t_cd4_cm | 72 | lenalidomide | dmso | 660 | CD21  |  0.007479000 | 0.008476136 |  0.8823597 | 3.777432e-01 | 0.30070889 | 0.29322989 | 1.0255056 | 7.247399e-01 |\n",
       "| 6 | t_cd4_cm | 72 | lenalidomide | dmso | 660 | CD27  | -0.114406107 | 0.020247241 | -5.6504543 | 1.958662e-08 | 2.13313049 | 2.24753659 | 0.9490971 | 3.972035e-07 |\n",
       "\n"
      ],
      "text/plain": [
       "  aifi_cell_type timepoint fg           bg   n_downsample feature estimate    \n",
       "1 t_cd4_cm       72        lenalidomide dmso 660          CD11c   -0.007439843\n",
       "2 t_cd4_cm       72        lenalidomide dmso 660          CD278    0.010920693\n",
       "3 t_cd4_cm       72        lenalidomide dmso 660          CD11b    0.001346363\n",
       "4 t_cd4_cm       72        lenalidomide dmso 660          CD16     0.006983361\n",
       "5 t_cd4_cm       72        lenalidomide dmso 660          CD21     0.007479000\n",
       "6 t_cd4_cm       72        lenalidomide dmso 660          CD27    -0.114406107\n",
       "  std_error   t_value    nomP         fg_mean    bg_mean    fc       \n",
       "1 0.006111401 -1.2173710 2.236810e-01 0.10850190 0.11594174 0.9358312\n",
       "2 0.012857006  0.8493963 3.958150e-01 0.54506449 0.53414380 1.0204452\n",
       "3 0.002957545  0.4552300 6.490187e-01 0.02949852 0.02815216 1.0478245\n",
       "4 0.005876437  1.1883664 2.349032e-01 0.12810037 0.12111701 1.0576580\n",
       "5 0.008476136  0.8823597 3.777432e-01 0.30070889 0.29322989 1.0255056\n",
       "6 0.020247241 -5.6504543 1.958662e-08 2.13313049 2.24753659 0.9490971\n",
       "  adjP        \n",
       "1 5.858312e-01\n",
       "2 7.389550e-01\n",
       "3 8.873589e-01\n",
       "4 6.025386e-01\n",
       "5 7.247399e-01\n",
       "6 3.972035e-07"
      ]
     },
     "metadata": {},
     "output_type": "display_data"
    }
   ],
   "source": [
    "head(lm_res)"
   ]
  },
  {
   "cell_type": "code",
   "execution_count": 15,
   "id": "f6433be8-4e2a-4846-bac4-bf71dec6df88",
   "metadata": {},
   "outputs": [],
   "source": [
    "write.csv(\n",
    "    lm_res,\n",
    "    \"data/dep_treatment-ds_lm_results.csv\")"
   ]
  },
  {
   "cell_type": "code",
   "execution_count": 16,
   "id": "ad6c978d-2e90-41a3-8e9f-69d491e1eebb",
   "metadata": {},
   "outputs": [
    {
     "data": {
      "text/plain": [
       "R version 4.2.2 Patched (2022-11-10 r83330)\n",
       "Platform: x86_64-pc-linux-gnu (64-bit)\n",
       "Running under: Ubuntu 20.04.5 LTS\n",
       "\n",
       "Matrix products: default\n",
       "BLAS:   /usr/lib/x86_64-linux-gnu/openblas-pthread/libblas.so.3\n",
       "LAPACK: /usr/lib/x86_64-linux-gnu/openblas-pthread/liblapack.so.3\n",
       "\n",
       "locale:\n",
       " [1] LC_CTYPE=C.UTF-8       LC_NUMERIC=C           LC_TIME=C.UTF-8       \n",
       " [4] LC_COLLATE=C.UTF-8     LC_MONETARY=C.UTF-8    LC_MESSAGES=C.UTF-8   \n",
       " [7] LC_PAPER=C.UTF-8       LC_NAME=C              LC_ADDRESS=C          \n",
       "[10] LC_TELEPHONE=C         LC_MEASUREMENT=C.UTF-8 LC_IDENTIFICATION=C   \n",
       "\n",
       "attached base packages:\n",
       "[1] stats     graphics  grDevices utils     datasets  methods   base     \n",
       "\n",
       "other attached packages:\n",
       "[1] H5weaver_1.2.0     rhdf5_2.42.0       Matrix_1.5-3       data.table_1.14.6 \n",
       "[5] SeuratObject_4.1.3 Seurat_4.3.0       purrr_1.0.0        dplyr_1.0.10      \n",
       "\n",
       "loaded via a namespace (and not attached):\n",
       "  [1] Rtsne_0.16             colorspace_2.0-3       deldir_1.0-6          \n",
       "  [4] ellipsis_0.3.2         ggridges_0.5.4         IRdisplay_1.1         \n",
       "  [7] base64enc_0.1-3        spatstat.data_3.0-0    leiden_0.4.3          \n",
       " [10] listenv_0.9.0          ggrepel_0.9.2          fansi_1.0.3           \n",
       " [13] codetools_0.2-18       splines_4.2.2          polyclip_1.10-4       \n",
       " [16] IRkernel_1.3.1         jsonlite_1.8.4         ica_1.0-3             \n",
       " [19] cluster_2.1.4          png_0.1-8              uwot_0.1.14           \n",
       " [22] shiny_1.7.4            sctransform_0.3.5      spatstat.sparse_3.0-0 \n",
       " [25] compiler_4.2.2         httr_1.4.4             assertthat_0.2.1      \n",
       " [28] fastmap_1.1.0          lazyeval_0.2.2         cli_3.5.0             \n",
       " [31] later_1.3.0            htmltools_0.5.4        tools_4.2.2           \n",
       " [34] igraph_1.3.5           gtable_0.3.1           glue_1.6.2            \n",
       " [37] RANN_2.6.1             reshape2_1.4.4         Rcpp_1.0.9            \n",
       " [40] scattermore_0.8        rhdf5filters_1.10.0    vctrs_0.5.1           \n",
       " [43] spatstat.explore_3.0-5 nlme_3.1-161           progressr_0.12.0      \n",
       " [46] lmtest_0.9-40          spatstat.random_3.0-1  stringr_1.5.0         \n",
       " [49] globals_0.16.2         mime_0.12              miniUI_0.1.1.1        \n",
       " [52] lifecycle_1.0.3        irlba_2.3.5.1          goftest_1.2-3         \n",
       " [55] future_1.30.0          MASS_7.3-58.1          zoo_1.8-11            \n",
       " [58] scales_1.2.1           promises_1.2.0.1       spatstat.utils_3.0-1  \n",
       " [61] parallel_4.2.2         RColorBrewer_1.1-3     reticulate_1.26       \n",
       " [64] pbapply_1.6-0          gridExtra_2.3          ggplot2_3.4.0         \n",
       " [67] stringi_1.7.8          repr_1.1.4.9000        rlang_1.0.6           \n",
       " [70] pkgconfig_2.0.3        matrixStats_0.63.0     evaluate_0.19         \n",
       " [73] lattice_0.20-45        Rhdf5lib_1.20.0        ROCR_1.0-11           \n",
       " [76] tensor_1.5             patchwork_1.1.2        htmlwidgets_1.6.0     \n",
       " [79] cowplot_1.1.1          tidyselect_1.2.0       parallelly_1.33.0     \n",
       " [82] RcppAnnoy_0.0.20       plyr_1.8.8             magrittr_2.0.3        \n",
       " [85] R6_2.5.1               generics_0.1.3         pbdZMQ_0.3-8          \n",
       " [88] DBI_1.1.3              withr_2.5.0            pillar_1.8.1          \n",
       " [91] fitdistrplus_1.1-8     survival_3.4-0         abind_1.4-5           \n",
       " [94] sp_1.5-1               tibble_3.1.8           future.apply_1.10.0   \n",
       " [97] crayon_1.5.2           uuid_1.1-0             KernSmooth_2.23-20    \n",
       "[100] utf8_1.2.2             spatstat.geom_3.0-3    plotly_4.10.1         \n",
       "[103] grid_4.2.2             digest_0.6.31          xtable_1.8-4          \n",
       "[106] tidyr_1.2.1            httpuv_1.6.7           munsell_0.5.0         \n",
       "[109] viridisLite_0.4.1     "
      ]
     },
     "metadata": {},
     "output_type": "display_data"
    }
   ],
   "source": [
    "sessionInfo()"
   ]
  },
  {
   "cell_type": "code",
   "execution_count": null,
   "id": "2d7bf493-5217-4b63-ad0d-201a2b6bafab",
   "metadata": {},
   "outputs": [],
   "source": []
  }
 ],
 "metadata": {
  "kernelspec": {
   "display_name": "R 4",
   "language": "R",
   "name": "ir4"
  },
  "language_info": {
   "codemirror_mode": "r",
   "file_extension": ".r",
   "mimetype": "text/x-r-source",
   "name": "R",
   "pygments_lexer": "r",
   "version": "4.3.1"
  }
 },
 "nbformat": 4,
 "nbformat_minor": 5
}
