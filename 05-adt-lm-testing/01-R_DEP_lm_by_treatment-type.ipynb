{
 "cells": [
  {
   "cell_type": "markdown",
   "id": "3d921998-fe5e-49ec-a508-6c8a736e9904",
   "metadata": {
    "tags": []
   },
   "source": [
    "# Linear modeling for differential ADT expression\n",
    "\n",
    "In this notebook, we retrieve our CD4 and CD8 T cells and our cell type labels, then perform differential expression of ADT data using linear models. Comparisons will be carried out for each drug treatment at each timepoint compared to the DMSO-only control for each timepoint within each cell type.\n",
    "\n",
    "To balance cell counts, we'll group cells by treatment or control and cell type, then use the minimum number of cells across all samples. For example, to test CD4 Naive T cells under Bortezomib treatment, we'll examine the number of CD4 Naive cells in Bortezomib and DMSO at 4, 24, and 72 hours and randomly sample based on the minimum counts from all 6 samples.\n",
    "\n",
    "We'll then perform comparisons between treatment and control at each timepoint (e.g. CD4 Naive w/Bortezomib @ 4 hr vs. CD4 Naive w/DMSO @4 hr)."
   ]
  },
  {
   "cell_type": "markdown",
   "id": "a4c691f2-bfcb-4b61-ac54-ea4fffe932e2",
   "metadata": {},
   "source": [
    "## Load packages\n",
    "\n",
    "hise: The Human Immune System Explorer R SDK package  \n",
    "purrr: Functional programming tools  \n",
    "dplyr: Dataframe handling functions  \n",
    "Seurat: single cell genomics methods  "
   ]
  },
  {
   "cell_type": "code",
   "execution_count": 1,
   "id": "0a2cecf5-f312-43b9-93c2-cb7b6205f370",
   "metadata": {
    "tags": []
   },
   "outputs": [],
   "source": [
    "quiet_library <- function(...) { suppressPackageStartupMessages(library(...)) }\n",
    "quiet_library(hise)\n",
    "quiet_library(purrr)\n",
    "quiet_library(dplyr)\n",
    "quiet_library(Seurat)"
   ]
  },
  {
   "cell_type": "markdown",
   "id": "484ee90c-bb93-473a-9261-55b21c16c05e",
   "metadata": {},
   "source": [
    "## Retrieve files\n",
    "\n",
    "Now, we'll use the HISE SDK package to retrieve the Seurat objects and cell type labels based on file UUIDs. This will be placed in the `cache/` subdirectory by default."
   ]
  },
  {
   "cell_type": "code",
   "execution_count": 2,
   "id": "f22b4f83-2d36-4ce5-b8fc-1d45c30f4b24",
   "metadata": {
    "tags": []
   },
   "outputs": [],
   "source": [
    "file_uuids <- list(\n",
    "    \"7bdac6ef-e5e5-4150-b4f3-9c1a1e250334\", # CD4 T cell Seurat object\n",
    "    \"46438bc4-cde6-4ae6-b349-9c513dd9d16f\", # CD8 T cell Seurat object\n",
    "    \"ebd4bee7-2f5d-46e1-b2fc-22157f1b8d04\", # CD4 type labels\n",
    "    \"4d6aade9-288c-452f-8f0d-ac59e539f4cc\"  # CD8 type labels\n",
    ")"
   ]
  },
  {
   "cell_type": "code",
   "execution_count": 3,
   "id": "ab7549a6-917c-46f4-a242-6c29553ce9c2",
   "metadata": {
    "scrolled": true,
    "tags": []
   },
   "outputs": [],
   "source": [
    "fres <- cacheFiles(file_uuids)"
   ]
  },
  {
   "cell_type": "markdown",
   "id": "60143f82-ad61-4259-9766-0e120b80b864",
   "metadata": {},
   "source": [
    "## Select cells\n"
   ]
  },
  {
   "cell_type": "code",
   "execution_count": 4,
   "id": "424b8a15-c76c-4e5c-8c9d-1bbb854f5d85",
   "metadata": {
    "tags": []
   },
   "outputs": [],
   "source": [
    "cd4_labels <- read.csv(\"cache/ebd4bee7-2f5d-46e1-b2fc-22157f1b8d04/cd4_cell_type_labels_2023-09-05.csv\")\n",
    "cd8_labels <- read.csv(\"cache/4d6aade9-288c-452f-8f0d-ac59e539f4cc/cd8_cell_type_labels_2023-09-05.csv\")"
   ]
  },
  {
   "cell_type": "code",
   "execution_count": 5,
   "id": "0937eccb-2827-4f0a-9f4a-c19566007f17",
   "metadata": {
    "tags": []
   },
   "outputs": [],
   "source": [
    "all_labels <- rbind(cd4_labels, cd8_labels)"
   ]
  },
  {
   "cell_type": "code",
   "execution_count": 6,
   "id": "2921eac0-a1a9-4ef4-afd2-4869b9a87e93",
   "metadata": {
    "tags": []
   },
   "outputs": [
    {
     "data": {
      "text/html": [
       "<table class=\"dataframe\">\n",
       "<caption>A data.frame: 6 × 10</caption>\n",
       "<thead>\n",
       "\t<tr><th></th><th scope=col>barcodes</th><th scope=col>treatment</th><th scope=col>timepoint</th><th scope=col>predicted.celltype.l1.score</th><th scope=col>predicted.celltype.l1</th><th scope=col>predicted.celltype.l2.score</th><th scope=col>predicted.celltype.l2</th><th scope=col>predicted.celltype.l3.score</th><th scope=col>predicted.celltype.l3</th><th scope=col>aifi_cell_type</th></tr>\n",
       "\t<tr><th></th><th scope=col>&lt;chr&gt;</th><th scope=col>&lt;chr&gt;</th><th scope=col>&lt;int&gt;</th><th scope=col>&lt;dbl&gt;</th><th scope=col>&lt;chr&gt;</th><th scope=col>&lt;dbl&gt;</th><th scope=col>&lt;chr&gt;</th><th scope=col>&lt;dbl&gt;</th><th scope=col>&lt;chr&gt;</th><th scope=col>&lt;chr&gt;</th></tr>\n",
       "</thead>\n",
       "<tbody>\n",
       "\t<tr><th scope=row>1</th><td>2da9d348fb8111eda35df29f570c0793</td><td>dmso</td><td>24</td><td>1</td><td>CD4 T</td><td>0.7379073</td><td>CD4 Naive</td><td>0.7379073</td><td>CD4 Naive</td><td>t_cd4_naive</td></tr>\n",
       "\t<tr><th scope=row>2</th><td>2daec6d2fb8111eda35df29f570c0793</td><td>dmso</td><td>24</td><td>1</td><td>CD4 T</td><td>1.0000000</td><td>CD4 Naive</td><td>1.0000000</td><td>CD4 Naive</td><td>t_cd4_naive</td></tr>\n",
       "\t<tr><th scope=row>3</th><td>2db119d2fb8111eda35df29f570c0793</td><td>dmso</td><td>24</td><td>1</td><td>CD4 T</td><td>0.6491493</td><td>CD4 TCM  </td><td>0.4892181</td><td>CD4 TCM_1</td><td>t_cd4_naive</td></tr>\n",
       "\t<tr><th scope=row>4</th><td>2db582c4fb8111eda35df29f570c0793</td><td>dmso</td><td>24</td><td>1</td><td>CD4 T</td><td>0.8972198</td><td>CD4 Naive</td><td>0.8972198</td><td>CD4 Naive</td><td>t_cd4_naive</td></tr>\n",
       "\t<tr><th scope=row>5</th><td>2db6727efb8111eda35df29f570c0793</td><td>dmso</td><td>24</td><td>1</td><td>CD4 T</td><td>0.3939763</td><td>CD4 TCM  </td><td>0.2974696</td><td>CD4 Naive</td><td>t_cd4_naive</td></tr>\n",
       "\t<tr><th scope=row>6</th><td>2dc35a20fb8111eda35df29f570c0793</td><td>dmso</td><td>24</td><td>1</td><td>CD4 T</td><td>0.6306972</td><td>CD4 Naive</td><td>0.6306972</td><td>CD4 Naive</td><td>t_cd4_naive</td></tr>\n",
       "</tbody>\n",
       "</table>\n"
      ],
      "text/latex": [
       "A data.frame: 6 × 10\n",
       "\\begin{tabular}{r|llllllllll}\n",
       "  & barcodes & treatment & timepoint & predicted.celltype.l1.score & predicted.celltype.l1 & predicted.celltype.l2.score & predicted.celltype.l2 & predicted.celltype.l3.score & predicted.celltype.l3 & aifi\\_cell\\_type\\\\\n",
       "  & <chr> & <chr> & <int> & <dbl> & <chr> & <dbl> & <chr> & <dbl> & <chr> & <chr>\\\\\n",
       "\\hline\n",
       "\t1 & 2da9d348fb8111eda35df29f570c0793 & dmso & 24 & 1 & CD4 T & 0.7379073 & CD4 Naive & 0.7379073 & CD4 Naive & t\\_cd4\\_naive\\\\\n",
       "\t2 & 2daec6d2fb8111eda35df29f570c0793 & dmso & 24 & 1 & CD4 T & 1.0000000 & CD4 Naive & 1.0000000 & CD4 Naive & t\\_cd4\\_naive\\\\\n",
       "\t3 & 2db119d2fb8111eda35df29f570c0793 & dmso & 24 & 1 & CD4 T & 0.6491493 & CD4 TCM   & 0.4892181 & CD4 TCM\\_1 & t\\_cd4\\_naive\\\\\n",
       "\t4 & 2db582c4fb8111eda35df29f570c0793 & dmso & 24 & 1 & CD4 T & 0.8972198 & CD4 Naive & 0.8972198 & CD4 Naive & t\\_cd4\\_naive\\\\\n",
       "\t5 & 2db6727efb8111eda35df29f570c0793 & dmso & 24 & 1 & CD4 T & 0.3939763 & CD4 TCM   & 0.2974696 & CD4 Naive & t\\_cd4\\_naive\\\\\n",
       "\t6 & 2dc35a20fb8111eda35df29f570c0793 & dmso & 24 & 1 & CD4 T & 0.6306972 & CD4 Naive & 0.6306972 & CD4 Naive & t\\_cd4\\_naive\\\\\n",
       "\\end{tabular}\n"
      ],
      "text/markdown": [
       "\n",
       "A data.frame: 6 × 10\n",
       "\n",
       "| <!--/--> | barcodes &lt;chr&gt; | treatment &lt;chr&gt; | timepoint &lt;int&gt; | predicted.celltype.l1.score &lt;dbl&gt; | predicted.celltype.l1 &lt;chr&gt; | predicted.celltype.l2.score &lt;dbl&gt; | predicted.celltype.l2 &lt;chr&gt; | predicted.celltype.l3.score &lt;dbl&gt; | predicted.celltype.l3 &lt;chr&gt; | aifi_cell_type &lt;chr&gt; |\n",
       "|---|---|---|---|---|---|---|---|---|---|---|\n",
       "| 1 | 2da9d348fb8111eda35df29f570c0793 | dmso | 24 | 1 | CD4 T | 0.7379073 | CD4 Naive | 0.7379073 | CD4 Naive | t_cd4_naive |\n",
       "| 2 | 2daec6d2fb8111eda35df29f570c0793 | dmso | 24 | 1 | CD4 T | 1.0000000 | CD4 Naive | 1.0000000 | CD4 Naive | t_cd4_naive |\n",
       "| 3 | 2db119d2fb8111eda35df29f570c0793 | dmso | 24 | 1 | CD4 T | 0.6491493 | CD4 TCM   | 0.4892181 | CD4 TCM_1 | t_cd4_naive |\n",
       "| 4 | 2db582c4fb8111eda35df29f570c0793 | dmso | 24 | 1 | CD4 T | 0.8972198 | CD4 Naive | 0.8972198 | CD4 Naive | t_cd4_naive |\n",
       "| 5 | 2db6727efb8111eda35df29f570c0793 | dmso | 24 | 1 | CD4 T | 0.3939763 | CD4 TCM   | 0.2974696 | CD4 Naive | t_cd4_naive |\n",
       "| 6 | 2dc35a20fb8111eda35df29f570c0793 | dmso | 24 | 1 | CD4 T | 0.6306972 | CD4 Naive | 0.6306972 | CD4 Naive | t_cd4_naive |\n",
       "\n"
      ],
      "text/plain": [
       "  barcodes                         treatment timepoint\n",
       "1 2da9d348fb8111eda35df29f570c0793 dmso      24       \n",
       "2 2daec6d2fb8111eda35df29f570c0793 dmso      24       \n",
       "3 2db119d2fb8111eda35df29f570c0793 dmso      24       \n",
       "4 2db582c4fb8111eda35df29f570c0793 dmso      24       \n",
       "5 2db6727efb8111eda35df29f570c0793 dmso      24       \n",
       "6 2dc35a20fb8111eda35df29f570c0793 dmso      24       \n",
       "  predicted.celltype.l1.score predicted.celltype.l1 predicted.celltype.l2.score\n",
       "1 1                           CD4 T                 0.7379073                  \n",
       "2 1                           CD4 T                 1.0000000                  \n",
       "3 1                           CD4 T                 0.6491493                  \n",
       "4 1                           CD4 T                 0.8972198                  \n",
       "5 1                           CD4 T                 0.3939763                  \n",
       "6 1                           CD4 T                 0.6306972                  \n",
       "  predicted.celltype.l2 predicted.celltype.l3.score predicted.celltype.l3\n",
       "1 CD4 Naive             0.7379073                   CD4 Naive            \n",
       "2 CD4 Naive             1.0000000                   CD4 Naive            \n",
       "3 CD4 TCM               0.4892181                   CD4 TCM_1            \n",
       "4 CD4 Naive             0.8972198                   CD4 Naive            \n",
       "5 CD4 TCM               0.2974696                   CD4 Naive            \n",
       "6 CD4 Naive             0.6306972                   CD4 Naive            \n",
       "  aifi_cell_type\n",
       "1 t_cd4_naive   \n",
       "2 t_cd4_naive   \n",
       "3 t_cd4_naive   \n",
       "4 t_cd4_naive   \n",
       "5 t_cd4_naive   \n",
       "6 t_cd4_naive   "
      ]
     },
     "metadata": {},
     "output_type": "display_data"
    }
   ],
   "source": [
    "head(all_labels)"
   ]
  },
  {
   "cell_type": "markdown",
   "id": "4080af3c-57a7-4585-8ede-e6ee912a59a8",
   "metadata": {},
   "source": [
    "Exclude untreated cells - we won't use these for our treatment comparisons"
   ]
  },
  {
   "cell_type": "code",
   "execution_count": 7,
   "id": "b8d835e4-cd20-4671-96b6-0cf0c5a6e255",
   "metadata": {
    "tags": []
   },
   "outputs": [],
   "source": [
    "all_labels <- all_labels %>%\n",
    "  filter(treatment != \"untreated\")"
   ]
  },
  {
   "cell_type": "markdown",
   "id": "906c5ba6-3e75-446d-8477-8dc318aafa84",
   "metadata": {},
   "source": [
    "Get counts of each cell type for each sample:"
   ]
  },
  {
   "cell_type": "code",
   "execution_count": 8,
   "id": "3e9f6c09-6396-4de3-b273-e2d3344f5ec4",
   "metadata": {
    "tags": []
   },
   "outputs": [],
   "source": [
    "count_summary <- all_labels %>%\n",
    "  group_by(treatment, timepoint, aifi_cell_type) %>%\n",
    "  summarise(n_cells = n(),\n",
    "            .groups = \"keep\") %>%\n",
    "  ungroup()"
   ]
  },
  {
   "cell_type": "markdown",
   "id": "eebd9a22-9c28-4db3-8b12-0ab3ad68ea25",
   "metadata": {},
   "source": [
    "Add a column for DMSO counts per type and timepoint"
   ]
  },
  {
   "cell_type": "code",
   "execution_count": 9,
   "id": "4adfc8b8-9791-4644-8f07-2acfa01f5088",
   "metadata": {
    "tags": []
   },
   "outputs": [],
   "source": [
    "count_summary <- count_summary %>%\n",
    "  ungroup() %>%\n",
    "  group_by(aifi_cell_type, timepoint) %>%\n",
    "  mutate(n_dmso = n_cells[treatment == \"dmso\"]) %>%\n",
    "  ungroup() %>%\n",
    "  filter(treatment != \"dmso\")"
   ]
  },
  {
   "cell_type": "markdown",
   "id": "af921872-c036-4b30-a59c-550b9bf391ff",
   "metadata": {},
   "source": [
    "Regroup by treatment and cell type, and use treatment and DMSO counts to find minimums for sampling"
   ]
  },
  {
   "cell_type": "code",
   "execution_count": 10,
   "id": "74b6d12c-08f7-4abb-9b6d-126bcead5c49",
   "metadata": {
    "tags": []
   },
   "outputs": [],
   "source": [
    "type_minimums <- count_summary %>%\n",
    "  group_by(treatment, aifi_cell_type) %>%\n",
    "  mutate(n_sample = min(c(n_cells, n_dmso)))"
   ]
  },
  {
   "cell_type": "raw",
   "id": "7064bd09-0452-4f7d-8fad-cf63ec937f8d",
   "metadata": {},
   "source": [
    "type_minimums %>%\n",
    "  arrange(treatment, aifi_cell_type, timepoint)"
   ]
  },
  {
   "cell_type": "code",
   "execution_count": 11,
   "id": "1286f70b-6004-49b9-b6a5-a1564ff1369e",
   "metadata": {
    "tags": []
   },
   "outputs": [],
   "source": [
    "comp_list <- map(\n",
    "    1:nrow(type_minimums),\n",
    "    function(i) {\n",
    "        as.list(type_minimums[i,])\n",
    "    }\n",
    ")"
   ]
  },
  {
   "cell_type": "markdown",
   "id": "a635560b-d690-44f2-8d6c-f8de938700cd",
   "metadata": {},
   "source": [
    "## Sample cells for each test\n",
    "\n",
    "Here, we'll sample cells for comparisons and generate a table of foreground and background cells to use for analysis."
   ]
  },
  {
   "cell_type": "code",
   "execution_count": 12,
   "id": "8c94e2d9-0ceb-4f45-93e0-ba6c7be5e2f3",
   "metadata": {
    "tags": []
   },
   "outputs": [],
   "source": [
    "sampled_comp_cells <- map(\n",
    "    comp_list,\n",
    "    function(comp) {\n",
    "        set.seed(3030)\n",
    "        \n",
    "        tp <- comp$timepoint\n",
    "        ct <- comp$aifi_cell_type\n",
    "        \n",
    "        fg_treat <- comp$treatment\n",
    "        bg_treat <- \"dmso\"\n",
    "\n",
    "        n_sample <- comp$n_sample\n",
    "\n",
    "        fg_cells <- all_labels %>%\n",
    "          filter(treatment == fg_treat,\n",
    "                 timepoint == tp,\n",
    "                 aifi_cell_type == ct) %>%\n",
    "          sample_n(n_sample)\n",
    "        bg_cells <- all_labels %>%\n",
    "          filter(treatment == bg_treat,\n",
    "                 timepoint == tp,\n",
    "                 aifi_cell_type == ct) %>%\n",
    "          sample_n(n_sample)\n",
    "\n",
    "        rbind(bg_cells, fg_cells)\n",
    "    }\n",
    ")"
   ]
  },
  {
   "cell_type": "markdown",
   "id": "810c52a3-4107-4ed7-9d87-e21e189415cc",
   "metadata": {},
   "source": [
    "## Build matrices for each test\n",
    "\n",
    "Now, we'll use the selected cells to build a data matrix for each comparison.\n",
    "\n",
    "We'll use these together with the cell metadata to run `lm()`."
   ]
  },
  {
   "cell_type": "code",
   "execution_count": 13,
   "id": "8f6e6dbf-56c1-4215-ad36-739823e36c4e",
   "metadata": {
    "tags": []
   },
   "outputs": [],
   "source": [
    "cd4_so <- readRDS(\"cache/7bdac6ef-e5e5-4150-b4f3-9c1a1e250334/filtered_cd4_te_seurat.rds\")\n",
    "cd8_so <- readRDS(\"cache/46438bc4-cde6-4ae6-b349-9c513dd9d16f/filtered_cd8_te_seurat.rds\")"
   ]
  },
  {
   "cell_type": "code",
   "execution_count": 14,
   "id": "286892a6-8528-47f9-a04f-1d1a75f73509",
   "metadata": {
    "tags": []
   },
   "outputs": [],
   "source": [
    "all_so <- merge(cd4_so, cd8_so)"
   ]
  },
  {
   "cell_type": "code",
   "execution_count": 15,
   "id": "370da80d-5fe5-42d4-a935-a328fb26dabd",
   "metadata": {
    "tags": []
   },
   "outputs": [],
   "source": [
    "DefaultAssay(all_so) <- \"ADT\""
   ]
  },
  {
   "cell_type": "code",
   "execution_count": 18,
   "id": "7da076ad-3f46-4d96-b00a-72867a1d49a7",
   "metadata": {
    "tags": []
   },
   "outputs": [
    {
     "name": "stderr",
     "output_type": "stream",
     "text": [
      "Normalizing across cells\n",
      "\n"
     ]
    }
   ],
   "source": [
    "all_so <- NormalizeData(\n",
    "    all_so, \n",
    "    normalization.method = \"CLR\",\n",
    "    margin = 2\n",
    ")"
   ]
  },
  {
   "cell_type": "code",
   "execution_count": 19,
   "id": "53c1dfc5-e987-4970-8e80-7661ec5d1509",
   "metadata": {
    "tags": []
   },
   "outputs": [],
   "source": [
    "all_mat <- all_so[[\"ADT\"]]@data\n",
    "rm(cd4_so)\n",
    "rm(cd8_so)\n",
    "rm(all_so)"
   ]
  },
  {
   "cell_type": "code",
   "execution_count": 20,
   "id": "db6dbcce-8bd7-4b36-a274-7821d95ae10b",
   "metadata": {
    "tags": []
   },
   "outputs": [],
   "source": [
    "sampled_comp_mats <- map(\n",
    "    sampled_comp_cells,\n",
    "    function(meta) {\n",
    "        all_mat[,meta$barcodes]\n",
    "    }\n",
    ")"
   ]
  },
  {
   "cell_type": "code",
   "execution_count": 23,
   "id": "4d78159c-0cbf-4e5b-a091-dc2b7bd95df2",
   "metadata": {
    "tags": []
   },
   "outputs": [],
   "source": [
    "lm_res <- map2_dfr(\n",
    "    sampled_comp_cells,\n",
    "    sampled_comp_mats,\n",
    "    function(meta, mat) {\n",
    "        set.seed(3030)\n",
    "        \n",
    "        treatments <- unique(meta$treatment)\n",
    "        fg_treat <- treatments[treatments != \"dmso\"]\n",
    "        treat_levels <- c(\"dmso\", fg_treat)\n",
    "        meta$treatment <- factor(meta$treatment, levels = treat_levels)\n",
    "        \n",
    "        ct <- meta$aifi_cell_type[1]\n",
    "        tp <- meta$timepoint[1]\n",
    "        fg <- fg_treat\n",
    "        bg <- \"dmso\"\n",
    "        \n",
    "        ds <- nrow(meta) / 2\n",
    "        \n",
    "        map_dfr(rownames(mat),\n",
    "            function(feat) {\n",
    "                dat <- data.frame(\n",
    "                    treatment = meta$treatment, \n",
    "                    val = mat[feat,]\n",
    "                )\n",
    "                names(dat)[2] <- feat\n",
    "                \n",
    "                lm_res <- lm(\n",
    "                    formula = as.formula(paste0(\"`\",feat,\"` ~ treatment\")), \n",
    "                    data = dat)\n",
    "                \n",
    "                coef <- summary(lm_res)$coefficients\n",
    "                \n",
    "                data.frame(\n",
    "                    aifi_cell_type = ct,\n",
    "                    timepoint = tp,\n",
    "                    fg = fg,\n",
    "                    bg = bg,\n",
    "                    n_downsample = ds,\n",
    "                    feature = feat,\n",
    "                    estimate = coef[2,1],\n",
    "                    std_error = coef[2,2],\n",
    "                    t_value = coef[2,3],\n",
    "                    nomP = coef[2,4],\n",
    "                    fg_mean = mean(dat[[feat]][dat$treatment == fg]),\n",
    "                    bg_mean = mean(dat[[feat]][dat$treatment != fg]),\n",
    "                    fc = mean(dat[[feat]][dat$treatment == fg]) / mean(dat[[feat]][dat$treatment != fg])\n",
    "                )\n",
    "        })\n",
    "    }\n",
    ")"
   ]
  },
  {
   "cell_type": "code",
   "execution_count": 27,
   "id": "e60ab20c-f4b1-4797-9356-192aa1652f7d",
   "metadata": {
    "tags": []
   },
   "outputs": [],
   "source": [
    "lm_res$adjP <- p.adjust(lm_res$nomP, method = \"BH\")\n",
    "lm_res$logFC <- log2(lm_res$fc)"
   ]
  },
  {
   "cell_type": "markdown",
   "id": "dc1669d0-cf6a-4e8b-8bc1-fb3586f0bad3",
   "metadata": {},
   "source": [
    "## Generate output files\n",
    "\n",
    "For downstream use, we'll output the table of DEP results."
   ]
  },
  {
   "cell_type": "code",
   "execution_count": 37,
   "id": "b1ba9ef4-bb94-4c98-9ec6-476e0609c930",
   "metadata": {
    "scrolled": true,
    "tags": []
   },
   "outputs": [
    {
     "name": "stderr",
     "output_type": "stream",
     "text": [
      "Warning message in dir.create(\"output\"):\n",
      "“'output' already exists”\n"
     ]
    }
   ],
   "source": [
    "dir.create(\"output\")"
   ]
  },
  {
   "cell_type": "code",
   "execution_count": 38,
   "id": "3a614217-1acb-4e11-a1fe-35bcccc062bc",
   "metadata": {
    "editable": true,
    "slideshow": {
     "slide_type": ""
    },
    "tags": []
   },
   "outputs": [],
   "source": [
    "write.csv(lm_res,\n",
    "          paste0(\"output/all_lm_dep_\",Sys.Date(),\".csv\"),\n",
    "          quote = FALSE, row.names = FALSE)"
   ]
  },
  {
   "cell_type": "markdown",
   "id": "2819f90f-d1a2-40c3-a229-f174899ed43a",
   "metadata": {},
   "source": [
    "## Store results in HISE\n",
    "\n",
    "Finally, we store the output file in our Collaboration Space for later retrieval and use. We need to provide the UUID for our Collaboration Space (aka `studySpaceId`), as well as a title for this step in our analysis process.\n",
    "\n",
    "The hise function `uploadFiles()` also requires the FileIDs from the original fileset for reference."
   ]
  },
  {
   "cell_type": "code",
   "execution_count": 39,
   "id": "839d93d7-b04a-4f2e-82a6-03046177698d",
   "metadata": {
    "tags": []
   },
   "outputs": [],
   "source": [
    "study_space_uuid <- \"40df6403-29f0-4b45-ab7d-f46d420c422e\"\n",
    "title <- paste(\"VRd TEA-seq lm DEP\", Sys.Date())"
   ]
  },
  {
   "cell_type": "code",
   "execution_count": 40,
   "id": "425c9cf6-6ed0-4b6f-8c05-fd5f8fa8a997",
   "metadata": {
    "tags": []
   },
   "outputs": [],
   "source": [
    "out_files <- list.files(\n",
    "    \"output\",\n",
    "    full.names = TRUE\n",
    ")\n",
    "out_list <- as.list(out_files)"
   ]
  },
  {
   "cell_type": "code",
   "execution_count": 41,
   "id": "1c99e642-c418-4e07-8515-9e8250ec828e",
   "metadata": {
    "tags": []
   },
   "outputs": [
    {
     "data": {
      "text/html": [
       "<ol>\n",
       "\t<li>'output/all_lm_dep_2023-10-09.csv'</li>\n",
       "</ol>\n"
      ],
      "text/latex": [
       "\\begin{enumerate}\n",
       "\\item 'output/all\\_lm\\_dep\\_2023-10-09.csv'\n",
       "\\end{enumerate}\n"
      ],
      "text/markdown": [
       "1. 'output/all_lm_dep_2023-10-09.csv'\n",
       "\n",
       "\n"
      ],
      "text/plain": [
       "[[1]]\n",
       "[1] \"output/all_lm_dep_2023-10-09.csv\"\n"
      ]
     },
     "metadata": {},
     "output_type": "display_data"
    }
   ],
   "source": [
    "out_list"
   ]
  },
  {
   "cell_type": "code",
   "execution_count": 42,
   "id": "d31effdc-679d-4983-a75a-57ab0f17ce03",
   "metadata": {
    "tags": []
   },
   "outputs": [
    {
     "data": {
      "text/html": [
       "<dl>\n",
       "\t<dt>$files</dt>\n",
       "\t\t<dd><ol>\n",
       "\t<li>'output/all_lm_dep_2023-10-09.csv'</li>\n",
       "</ol>\n",
       "</dd>\n",
       "\t<dt>$traceId</dt>\n",
       "\t\t<dd>'01faca6e-1ef9-4d63-8438-01bb42417dcc'</dd>\n",
       "</dl>\n"
      ],
      "text/latex": [
       "\\begin{description}\n",
       "\\item[\\$files] \\begin{enumerate}\n",
       "\\item 'output/all\\_lm\\_dep\\_2023-10-09.csv'\n",
       "\\end{enumerate}\n",
       "\n",
       "\\item[\\$traceId] '01faca6e-1ef9-4d63-8438-01bb42417dcc'\n",
       "\\end{description}\n"
      ],
      "text/markdown": [
       "$files\n",
       ":   1. 'output/all_lm_dep_2023-10-09.csv'\n",
       "\n",
       "\n",
       "\n",
       "$traceId\n",
       ":   '01faca6e-1ef9-4d63-8438-01bb42417dcc'\n",
       "\n",
       "\n"
      ],
      "text/plain": [
       "$files\n",
       "$files[[1]]\n",
       "[1] \"output/all_lm_dep_2023-10-09.csv\"\n",
       "\n",
       "\n",
       "$traceId\n",
       "[1] \"01faca6e-1ef9-4d63-8438-01bb42417dcc\"\n"
      ]
     },
     "metadata": {},
     "output_type": "display_data"
    }
   ],
   "source": [
    "uploadFiles(\n",
    "    files = out_list,\n",
    "    studySpaceId = study_space_uuid,\n",
    "    title = title,\n",
    "    inputFileIds = file_uuids,\n",
    "    store = \"project\",\n",
    "    doPrompt = FALSE\n",
    ")"
   ]
  },
  {
   "cell_type": "code",
   "execution_count": 43,
   "id": "9f942197-2b90-476a-99c1-314408f80b68",
   "metadata": {
    "tags": []
   },
   "outputs": [
    {
     "data": {
      "text/plain": [
       "R version 4.3.1 (2023-06-16)\n",
       "Platform: x86_64-conda-linux-gnu (64-bit)\n",
       "Running under: Ubuntu 20.04.6 LTS\n",
       "\n",
       "Matrix products: default\n",
       "BLAS/LAPACK: /opt/conda/lib/libopenblasp-r0.3.24.so;  LAPACK version 3.11.0\n",
       "\n",
       "locale:\n",
       " [1] LC_CTYPE=C.UTF-8       LC_NUMERIC=C           LC_TIME=C.UTF-8       \n",
       " [4] LC_COLLATE=C.UTF-8     LC_MONETARY=C.UTF-8    LC_MESSAGES=C.UTF-8   \n",
       " [7] LC_PAPER=C.UTF-8       LC_NAME=C              LC_ADDRESS=C          \n",
       "[10] LC_TELEPHONE=C         LC_MEASUREMENT=C.UTF-8 LC_IDENTIFICATION=C   \n",
       "\n",
       "time zone: Etc/UTC\n",
       "tzcode source: system (glibc)\n",
       "\n",
       "attached base packages:\n",
       "[1] stats     graphics  grDevices utils     datasets  methods   base     \n",
       "\n",
       "other attached packages:\n",
       "[1] SeuratObject_4.1.3 Seurat_4.3.0.1     dplyr_1.1.3        purrr_1.0.2       \n",
       "[5] hise_2.16.0       \n",
       "\n",
       "loaded via a namespace (and not attached):\n",
       "  [1] bitops_1.0-7           deldir_1.0-9           pbapply_1.7-2         \n",
       "  [4] gridExtra_2.3          rlang_1.1.1            magrittr_2.0.3        \n",
       "  [7] RcppAnnoy_0.0.21       spatstat.geom_3.2-5    matrixStats_1.0.0     \n",
       " [10] ggridges_0.5.4         compiler_4.3.1         png_0.1-8             \n",
       " [13] vctrs_0.6.3            reshape2_1.4.4         stringr_1.5.0         \n",
       " [16] pkgconfig_2.0.3        crayon_1.5.2           fastmap_1.1.1         \n",
       " [19] ellipsis_0.3.2         utf8_1.2.3             promises_1.2.1        \n",
       " [22] jsonlite_1.8.7         goftest_1.2-3          later_1.3.1           \n",
       " [25] spatstat.utils_3.0-3   uuid_1.1-1             irlba_2.3.5.1         \n",
       " [28] parallel_4.3.1         cluster_2.1.4          R6_2.5.1              \n",
       " [31] ica_1.0-3              spatstat.data_3.0-1    stringi_1.7.12        \n",
       " [34] RColorBrewer_1.1-3     reticulate_1.32.0      parallelly_1.36.0     \n",
       " [37] lmtest_0.9-40          scattermore_1.2        assertthat_0.2.1      \n",
       " [40] Rcpp_1.0.11            IRkernel_1.3.2         tensor_1.5            \n",
       " [43] future.apply_1.11.0    zoo_1.8-12             base64enc_0.1-3       \n",
       " [46] sctransform_0.3.5      httpuv_1.6.11          Matrix_1.6-1.1        \n",
       " [49] splines_4.3.1          igraph_1.5.1           tidyselect_1.2.0      \n",
       " [52] abind_1.4-5            spatstat.random_3.1-6  codetools_0.2-19      \n",
       " [55] miniUI_0.1.1.1         spatstat.explore_3.2-3 curl_5.0.2            \n",
       " [58] listenv_0.9.0          lattice_0.21-8         tibble_3.2.1          \n",
       " [61] plyr_1.8.8             shiny_1.7.5            ROCR_1.0-11           \n",
       " [64] evaluate_0.21          Rtsne_0.16             future_1.33.0         \n",
       " [67] survival_3.5-7         polyclip_1.10-4        fitdistrplus_1.1-11   \n",
       " [70] pillar_1.9.0           KernSmooth_2.23-22     plotly_4.10.2         \n",
       " [73] generics_0.1.3         RCurl_1.98-1.12        sp_2.0-0              \n",
       " [76] IRdisplay_1.1          ggplot2_3.4.3          munsell_0.5.0         \n",
       " [79] scales_1.2.1           globals_0.16.2         xtable_1.8-4          \n",
       " [82] glue_1.6.2             lazyeval_0.2.2         tools_4.3.1           \n",
       " [85] data.table_1.14.8      pbdZMQ_0.3-10          RANN_2.6.1            \n",
       " [88] leiden_0.4.3           cowplot_1.1.1          grid_4.3.1            \n",
       " [91] tidyr_1.3.0            colorspace_2.1-0       nlme_3.1-163          \n",
       " [94] patchwork_1.1.3        repr_1.1.6.9000        cli_3.6.1             \n",
       " [97] spatstat.sparse_3.0-2  fansi_1.0.4            viridisLite_0.4.2     \n",
       "[100] uwot_0.1.16            gtable_0.3.4           digest_0.6.33         \n",
       "[103] progressr_0.14.0       ggrepel_0.9.3          htmlwidgets_1.6.2     \n",
       "[106] htmltools_0.5.6        lifecycle_1.0.3        httr_1.4.7            \n",
       "[109] mime_0.12              MASS_7.3-60           "
      ]
     },
     "metadata": {},
     "output_type": "display_data"
    }
   ],
   "source": [
    "sessionInfo()"
   ]
  },
  {
   "cell_type": "code",
   "execution_count": null,
   "id": "2d7bf493-5217-4b63-ad0d-201a2b6bafab",
   "metadata": {},
   "outputs": [],
   "source": []
  }
 ],
 "metadata": {
  "kernelspec": {
   "display_name": "R 4",
   "language": "R",
   "name": "ir4"
  },
  "language_info": {
   "codemirror_mode": "r",
   "file_extension": ".r",
   "mimetype": "text/x-r-source",
   "name": "R",
   "pygments_lexer": "r",
   "version": "4.3.1"
  }
 },
 "nbformat": 4,
 "nbformat_minor": 5
}
