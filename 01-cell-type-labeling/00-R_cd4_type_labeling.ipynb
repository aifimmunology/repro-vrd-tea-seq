{
 "cells": [
  {
   "cell_type": "markdown",
   "id": "0a2be918-5323-47a7-ae4f-4eb1a9b7effd",
   "metadata": {},
   "source": [
    "# Label CD4 T cell types\n",
    "\n",
    "In this notebook, we'll retrieve the CD4 T cell Seurat object, label using the Azimuth cell type reference to guide labeling, then integrate and use ADT and Gene markers to label CD4 cell types."
   ]
  },
  {
   "cell_type": "markdown",
   "id": "49f68568-8c00-4a3d-971a-92477018534c",
   "metadata": {},
   "source": [
    "## Load packages\n",
    "\n",
    "hise: The Human Immune System Explorer R SDK package  \n",
    "purrr: Functional programming tools  \n",
    "dplyr: Dataframe handling functions  \n",
    "ggplot2: plotting functions  \n",
    "Seurat: single cell genomics methods"
   ]
  },
  {
   "cell_type": "code",
   "execution_count": 1,
   "id": "2d89bd14-1a19-4c81-8c25-5e504d60beaa",
   "metadata": {},
   "outputs": [],
   "source": [
    "quiet_library <- function(...) { suppressPackageStartupMessages(library(...)) }\n",
    "quiet_library(hise)\n",
    "quiet_library(purrr)\n",
    "quiet_library(dplyr)\n",
    "quiet_library(ggplot2)\n",
    "quiet_library(Seurat)"
   ]
  },
  {
   "cell_type": "markdown",
   "id": "a5264bde-68c0-4b60-9022-0dd6baafbc0f",
   "metadata": {},
   "source": [
    "## Retrieve files\n",
    "\n",
    "Now, we'll use the HISE SDK package to retrieve the Seurat object based on its UUID. This will be placed in the `cache/` subdirectory by default."
   ]
  },
  {
   "cell_type": "code",
   "execution_count": 3,
   "id": "b3008748-6b96-4207-87b0-4b0e3a6cb898",
   "metadata": {},
   "outputs": [],
   "source": [
    "cd4_so_uuid <- list(\"7bdac6ef-e5e5-4150-b4f3-9c1a1e250334\")"
   ]
  },
  {
   "cell_type": "code",
   "execution_count": 11,
   "id": "49388f7d-8c5d-485c-91c3-2aa241ef7ed4",
   "metadata": {},
   "outputs": [
    {
     "name": "stderr",
     "output_type": "stream",
     "text": [
      "submitting request as query ID first...\n",
      "\n",
      "retrieving files using fileIDS...\n",
      "\n"
     ]
    },
    {
     "data": {
      "text/html": [
       "<ol>\n",
       "</ol>\n"
      ],
      "text/latex": [
       "\\begin{enumerate}\n",
       "\\end{enumerate}\n"
      ],
      "text/markdown": [
       "\n",
       "\n"
      ],
      "text/plain": [
       "list()"
      ]
     },
     "metadata": {},
     "output_type": "display_data"
    }
   ],
   "source": [
    "cacheFiles(cd4_so_uuid)"
   ]
  },
  {
   "cell_type": "markdown",
   "id": "7790635b-ca40-4064-b530-988e595a16b2",
   "metadata": {},
   "source": [
    "We'll also need the Azimuth reference for label transfer. We can retrieve these files from this Zenodo entry:  \n",
    "https://zenodo.org/record/4546839\n",
    "\n",
    "This Reference dataset is based on this paper from the Satija lab:  \n",
    "https://pubmed.ncbi.nlm.nih.gov/34062119/"
   ]
  },
  {
   "cell_type": "code",
   "execution_count": 6,
   "id": "31970758-ee30-4e12-953e-9fa1cac244b0",
   "metadata": {},
   "outputs": [],
   "source": [
    "dir.create(\"reference\")"
   ]
  },
  {
   "cell_type": "code",
   "execution_count": 9,
   "id": "34dea913-d864-461e-a48a-d90d028d234e",
   "metadata": {},
   "outputs": [],
   "source": [
    "options(timeout = 100000)\n",
    "download.file(\n",
    "    \"https://zenodo.org/record/4546839/files/ref.Rds?download=1\",\n",
    "    \"reference/pbmc_reference.rds\"\n",
    ")"
   ]
  },
  {
   "cell_type": "code",
   "execution_count": 10,
   "id": "e5bbee8d-7ce0-4b29-93c1-e708f7d70746",
   "metadata": {},
   "outputs": [],
   "source": [
    "download.file(\n",
    "    \"https://zenodo.org/record/4546839/files/idx.annoy?download=1\",\n",
    "    \"reference/pbmc_reference_idx.annoy\"\n",
    ")"
   ]
  },
  {
   "cell_type": "code",
   "execution_count": null,
   "id": "be5ac01b-ab24-4d32-9bb9-29044364e595",
   "metadata": {},
   "outputs": [],
   "source": []
  }
 ],
 "metadata": {
  "kernelspec": {
   "display_name": "R 4",
   "language": "R",
   "name": "ir4"
  },
  "language_info": {
   "codemirror_mode": "r",
   "file_extension": ".r",
   "mimetype": "text/x-r-source",
   "name": "R",
   "pygments_lexer": "r",
   "version": "4.3.1"
  }
 },
 "nbformat": 4,
 "nbformat_minor": 5
}
