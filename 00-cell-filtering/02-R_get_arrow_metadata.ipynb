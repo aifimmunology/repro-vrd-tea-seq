{
 "cells": [
  {
   "cell_type": "markdown",
   "id": "06cb5601-bf1c-4c6a-b94a-96ba3ddc26b4",
   "metadata": {},
   "source": [
    "# Retrieve ATAC Metadata\n",
    "\n",
    "To begin our analysis, we'll retrieve the .arrow files that contain ATAC data and metadata after our TEA-seq QC and demultiplexing pipeline. We'll then extract the metadata for cells to use for cell filtering and QC plots."
   ]
  },
  {
   "cell_type": "markdown",
   "id": "2967d0cb-afdb-4c62-907d-09b7e72a9bd9",
   "metadata": {},
   "source": [
    "## Load packages\n",
    "\n",
    "hise: The Human Immune System Explorer R SDK package  \n",
    "ArchR: .arrow file handling  \n",
    "purrr: Functional programming tools  \n"
   ]
  },
  {
   "cell_type": "code",
   "execution_count": 1,
   "id": "74053ca6-2556-4a1e-a18a-7ae6a72b16a1",
   "metadata": {},
   "outputs": [
    {
     "name": "stderr",
     "output_type": "stream",
     "text": [
      "\n",
      "                                                   / |\n",
      "                                                 /    \\\n",
      "            .                                  /      |.\n",
      "            \\\\\\                              /        |.\n",
      "              \\\\\\                          /           `|.\n",
      "                \\\\\\                      /              |.\n",
      "                  \\                    /                |\\\n",
      "                  \\\\#####\\           /                  ||\n",
      "                ==###########>      /                   ||\n",
      "                 \\\\##==......\\    /                     ||\n",
      "            ______ =       =|__ /__                     ||      \\\\\\\n",
      "        ,--' ,----`-,__ ___/'  --,-`-===================##========>\n",
      "       \\               '        ##_______ _____ ,--,__,=##,__   ///\n",
      "        ,    __==    ___,-,__,--'#'  ==='      `-'    | ##,-/\n",
      "        -,____,---'       \\\\####\\\\________________,--\\\\_##,/\n",
      "           ___      .______        ______  __    __  .______      \n",
      "          /   \\     |   _  \\      /      ||  |  |  | |   _  \\     \n",
      "         /  ^  \\    |  |_)  |    |  ,----'|  |__|  | |  |_)  |    \n",
      "        /  /_\\  \\   |      /     |  |     |   __   | |      /     \n",
      "       /  _____  \\  |  |\\  \\\\___ |  `----.|  |  |  | |  |\\  \\\\___.\n",
      "      /__/     \\__\\ | _| `._____| \\______||__|  |__| | _| `._____|\n",
      "    \n",
      "\n",
      "ArchR : Version 1.0.2\n",
      "For more information see our website : www.ArchRProject.com\n",
      "If you encounter a bug please report : https://github.com/GreenleafLab/ArchR/issues\n",
      "\n",
      "Loading Required Packages...\n",
      "\n",
      "\tLoading Package : grid v4.2.2\n",
      "\n",
      "\tLoading Package : gridExtra v2.3\n",
      "\n",
      "\tLoading Package : gtools v3.9.4\n",
      "\n",
      "\tLoading Package : gtable v0.3.3\n",
      "\n",
      "\tLoading Package : ggplot2 v3.4.2\n",
      "\n",
      "\tLoading Package : magrittr v2.0.3\n",
      "\n",
      "\tLoading Package : plyr v1.8.8\n",
      "\n",
      "\tLoading Package : stringr v1.5.0\n",
      "\n",
      "\tLoading Package : data.table v1.14.8\n",
      "\n",
      "\tLoading Package : matrixStats v0.63.0\n",
      "\n",
      "\tLoading Package : S4Vectors v0.36.2\n",
      "\n",
      "\tLoading Package : GenomicRanges v1.50.2\n",
      "\n",
      "\tLoading Package : BiocGenerics v0.44.0\n",
      "\n",
      "\tLoading Package : Matrix v1.5.3\n",
      "\n",
      "\tLoading Package : Rcpp v1.0.11\n",
      "\n",
      "\tLoading Package : SummarizedExperiment v1.28.0\n",
      "\n",
      "\tLoading Package : rhdf5 v2.42.0\n",
      "\n",
      "\n",
      "Attaching package: ‘purrr’\n",
      "\n",
      "\n",
      "The following object is masked from ‘package:GenomicRanges’:\n",
      "\n",
      "    reduce\n",
      "\n",
      "\n",
      "The following object is masked from ‘package:IRanges’:\n",
      "\n",
      "    reduce\n",
      "\n",
      "\n",
      "The following object is masked from ‘package:data.table’:\n",
      "\n",
      "    transpose\n",
      "\n",
      "\n",
      "The following object is masked from ‘package:plyr’:\n",
      "\n",
      "    compact\n",
      "\n",
      "\n",
      "The following object is masked from ‘package:magrittr’:\n",
      "\n",
      "    set_names\n",
      "\n",
      "\n"
     ]
    }
   ],
   "source": [
    "library(hise)\n",
    "library(ArchR)\n",
    "library(purrr)"
   ]
  },
  {
   "cell_type": "markdown",
   "id": "c9b2868d-a8f0-4cbf-b536-10883f5f26d1",
   "metadata": {},
   "source": [
    "## Retrieve files\n",
    "\n",
    "Now, we'll use the HISE SDK package to retrieve the TEA-seq .arrow file outputs based on their file UUIDs. These will be placed in the `cache/` subdirectory by default."
   ]
  },
  {
   "cell_type": "code",
   "execution_count": 2,
   "id": "b126fd60-04a8-45c0-9658-8edc6af2645f",
   "metadata": {},
   "outputs": [],
   "source": [
    "input_file_uuids <- list(\n",
    "    \"052b769d-cbdf-41f6-8fe8-0d34564b442a\",\n",
    "    \"16e0c562-5d36-431f-bb27-b443aabc7077\",\n",
    "    \"30167a93-70a8-4c38-b615-2252dabe417e\",\n",
    "    \"57dde81e-bdaa-4138-add6-2551968672f4\",\n",
    "    \"6853fb68-fa85-43d5-9071-c5e42667a75e\",\n",
    "    \"6d8185bf-8a35-492d-a6ab-5783006b3b8e\",\n",
    "    \"8c2a93be-de53-4d6f-ae2e-ab40a356edc3\",\n",
    "    \"9ab975f8-7763-4892-96a7-a7438ecc9470\",\n",
    "    \"a56fd2ba-a055-4ff8-9ab1-69df113bc032\",\n",
    "    \"ad2f347d-e961-4a70-b294-4df83c12355d\",\n",
    "    \"c299a55a-3325-4eb3-ba8e-c8ceccafaa8c\",\n",
    "    \"ff8fe67e-cfe0-482a-bad1-aa189390a1c0\"\n",
    ")"
   ]
  },
  {
   "cell_type": "code",
   "execution_count": 3,
   "id": "5d63c64c-0590-4a9f-8ca1-f627139fee9b",
   "metadata": {},
   "outputs": [
    {
     "name": "stdout",
     "output_type": "stream",
     "text": [
      "[1] \"Initiating file download for EXP-00454-P1_PC02184-038_archr.arrow\"\n",
      "[1] \"Download successful.\"\n",
      "[1] \"Initiating file download for EXP-00454-P1_PC02184-040_archr.arrow\"\n",
      "[1] \"Download successful.\"\n",
      "[1] \"Initiating file download for EXP-00454-P1_PC02184-041_archr.arrow\"\n",
      "[1] \"Download successful.\"\n",
      "[1] \"Initiating file download for EXP-00454-P1_PC02184-039_archr.arrow\"\n",
      "[1] \"Download successful.\"\n",
      "[1] \"Initiating file download for EXP-00454-P1_PC02184-045_archr.arrow\"\n",
      "[1] \"Download successful.\"\n",
      "[1] \"Initiating file download for EXP-00454-P1_PC02184-046_archr.arrow\"\n",
      "[1] \"Download successful.\"\n",
      "[1] \"Initiating file download for EXP-00454-P1_PC02184-048_archr.arrow\"\n",
      "[1] \"Download successful.\"\n",
      "[1] \"Initiating file download for EXP-00454-P1_PC02184-044_archr.arrow\"\n",
      "[1] \"Download successful.\"\n",
      "[1] \"Initiating file download for EXP-00454-P1_PC02184-043_archr.arrow\"\n",
      "[1] \"Download successful.\"\n",
      "[1] \"Initiating file download for EXP-00454-P1_PC02184-049_archr.arrow\"\n",
      "[1] \"Download successful.\"\n",
      "[1] \"Initiating file download for EXP-00454-P1_PC02184-047_archr.arrow\"\n",
      "[1] \"Download successful.\"\n",
      "[1] \"Initiating file download for EXP-00454-P1_PC02184-042_archr.arrow\"\n",
      "[1] \"Download successful.\"\n"
     ]
    }
   ],
   "source": [
    "fres <- hise::cacheFiles(\n",
    "    input_file_uuids\n",
    ")"
   ]
  },
  {
   "cell_type": "markdown",
   "id": "a650faec-5bfa-4770-b4ad-f0ff86742b69",
   "metadata": {},
   "source": [
    "## Assemble metadata\n",
    "\n",
    "Here, we list each of the files in `cache/` and assemble an ArchR Project to read cell metadata using the ArchR function `getCellColData()`."
   ]
  },
  {
   "cell_type": "code",
   "execution_count": 4,
   "id": "9d9c9de3-19fb-4579-bc8b-21bc53f340d8",
   "metadata": {},
   "outputs": [],
   "source": [
    "arrow_files <- list.files(\n",
    "    \"cache/\",\n",
    "    pattern = \".arrow$\",\n",
    "    recursive = TRUE,\n",
    "    full.names = TRUE)"
   ]
  },
  {
   "cell_type": "code",
   "execution_count": 9,
   "id": "fc6a39fb-f21b-4ddb-b8cd-f36ece773e7a",
   "metadata": {},
   "outputs": [
    {
     "name": "stderr",
     "output_type": "stream",
     "text": [
      "Setting default genome to Hg38.\n",
      "\n"
     ]
    }
   ],
   "source": [
    "addArchRGenome(\"hg38\")"
   ]
  },
  {
   "cell_type": "code",
   "execution_count": 10,
   "id": "6f32a918-7e0c-4e04-9ebf-0041b3506ff1",
   "metadata": {},
   "outputs": [
    {
     "name": "stderr",
     "output_type": "stream",
     "text": [
      "Using GeneAnnotation set by addArchRGenome(Hg38)!\n",
      "\n",
      "Using GeneAnnotation set by addArchRGenome(Hg38)!\n",
      "\n",
      "Validating Arrows...\n",
      "\n",
      "Getting SampleNames...\n",
      "\n",
      "1 \n",
      "2 \n",
      "3 \n",
      "4 \n",
      "5 \n",
      "6 \n",
      "7 \n",
      "8 \n",
      "9 \n",
      "10 \n",
      "11 \n",
      "12 \n",
      "\n",
      "\n",
      "Getting Cell Metadata...\n",
      "\n",
      "1 \n",
      "2 \n",
      "3 \n",
      "4 \n",
      "5 \n",
      "6 \n",
      "7 \n",
      "8 \n",
      "9 \n",
      "10 \n",
      "11 \n",
      "12 \n",
      "\n",
      "\n",
      "Merging Cell Metadata...\n",
      "\n",
      "Initializing ArchRProject...\n",
      "\n",
      "\n",
      "                                                   / |\n",
      "                                                 /    \\\n",
      "            .                                  /      |.\n",
      "            \\\\\\                              /        |.\n",
      "              \\\\\\                          /           `|.\n",
      "                \\\\\\                      /              |.\n",
      "                  \\                    /                |\\\n",
      "                  \\\\#####\\           /                  ||\n",
      "                ==###########>      /                   ||\n",
      "                 \\\\##==......\\    /                     ||\n",
      "            ______ =       =|__ /__                     ||      \\\\\\\n",
      "        ,--' ,----`-,__ ___/'  --,-`-===================##========>\n",
      "       \\               '        ##_______ _____ ,--,__,=##,__   ///\n",
      "        ,    __==    ___,-,__,--'#'  ==='      `-'    | ##,-/\n",
      "        -,____,---'       \\\\####\\\\________________,--\\\\_##,/\n",
      "           ___      .______        ______  __    __  .______      \n",
      "          /   \\     |   _  \\      /      ||  |  |  | |   _  \\     \n",
      "         /  ^  \\    |  |_)  |    |  ,----'|  |__|  | |  |_)  |    \n",
      "        /  /_\\  \\   |      /     |  |     |   __   | |      /     \n",
      "       /  _____  \\  |  |\\  \\\\___ |  `----.|  |  |  | |  |\\  \\\\___.\n",
      "      /__/     \\__\\ | _| `._____| \\______||__|  |__| | _| `._____|\n",
      "    \n",
      "\n"
     ]
    }
   ],
   "source": [
    "proj <- ArchRProject(\n",
    "    ArrowFiles = arrow_files,\n",
    "    copyArrows = FALSE\n",
    ")"
   ]
  },
  {
   "cell_type": "code",
   "execution_count": 11,
   "id": "ee73148e-fad3-436b-8a1d-f0a7954f12f8",
   "metadata": {},
   "outputs": [],
   "source": [
    "all_metadata <- getCellColData(proj)\n",
    "all_metadata <- as.data.frame(all_metadata)"
   ]
  },
  {
   "cell_type": "code",
   "execution_count": 13,
   "id": "ecaa9fd3-3409-4885-b230-26785c048301",
   "metadata": {},
   "outputs": [],
   "source": [
    "all_metadata$archr_name <- rownames(all_metadata)"
   ]
  },
  {
   "cell_type": "code",
   "execution_count": 14,
   "id": "e29518fa-4dd3-4e43-a9e1-5329b552b6aa",
   "metadata": {},
   "outputs": [
    {
     "data": {
      "text/html": [
       "<table class=\"dataframe\">\n",
       "<caption>A data.frame: 6 × 37</caption>\n",
       "<thead>\n",
       "\t<tr><th></th><th scope=col>Sample</th><th scope=col>well_id</th><th scope=col>TSSEnrichment</th><th scope=col>tss_frac</th><th scope=col>tss_count</th><th scope=col>singlet</th><th scope=col>ReadsInTSS</th><th scope=col>ReadsInPromoter</th><th scope=col>ReadsInBlacklist</th><th scope=col>PromoterRatio</th><th scope=col>⋯</th><th scope=col>DoubletScore</th><th scope=col>DoubletEnrichment</th><th scope=col>chip_id</th><th scope=col>cell_name</th><th scope=col>BlacklistRatio</th><th scope=col>batch_id</th><th scope=col>barcodes</th><th scope=col>altius_frac</th><th scope=col>altius_count</th><th scope=col>archr_name</th></tr>\n",
       "\t<tr><th></th><th scope=col>&lt;chr&gt;</th><th scope=col>&lt;chr&gt;</th><th scope=col>&lt;dbl&gt;</th><th scope=col>&lt;dbl&gt;</th><th scope=col>&lt;int&gt;</th><th scope=col>&lt;lgl&gt;</th><th scope=col>&lt;dbl&gt;</th><th scope=col>&lt;dbl&gt;</th><th scope=col>&lt;dbl&gt;</th><th scope=col>&lt;dbl&gt;</th><th scope=col>⋯</th><th scope=col>&lt;dbl&gt;</th><th scope=col>&lt;dbl&gt;</th><th scope=col>&lt;chr&gt;</th><th scope=col>&lt;chr&gt;</th><th scope=col>&lt;dbl&gt;</th><th scope=col>&lt;chr&gt;</th><th scope=col>&lt;chr&gt;</th><th scope=col>&lt;dbl&gt;</th><th scope=col>&lt;int&gt;</th><th scope=col>&lt;chr&gt;</th></tr>\n",
       "</thead>\n",
       "<tbody>\n",
       "\t<tr><th scope=row>EXP-00454-P1_PC02184-038#3bca8a6cfb8111eda35df29f570c0793</th><td>EXP-00454-P1_PC02184-038</td><td>EXP-00454-AP1C1W1</td><td> 5.055</td><td>0.2001140</td><td>15797</td><td>FALSE</td><td>13762</td><td>18845</td><td>1198</td><td>0.1193931</td><td>⋯</td><td> 45.214929</td><td>3.846154</td><td>EXP-00454-AP1C1</td><td>cement_fanciful_waxwing      </td><td>0.007589965</td><td>EXP</td><td>3bca8a6cfb8111eda35df29f570c0793</td><td>0.5805168</td><td>45826</td><td>EXP-00454-P1_PC02184-038#3bca8a6cfb8111eda35df29f570c0793</td></tr>\n",
       "\t<tr><th scope=row>EXP-00454-P1_PC02184-038#12ffc4aefb8011ed8e8a7625f34dfd6b</th><td>EXP-00454-P1_PC02184-038</td><td>EXP-00454-AP1C2W5</td><td> 5.047</td><td>0.2078985</td><td>12013</td><td>FALSE</td><td> 9590</td><td>14194</td><td> 803</td><td>0.1228514</td><td>⋯</td><td> 48.403124</td><td>3.866667</td><td>EXP-00454-AP1C2</td><td>furtive_droughty_ambushbug   </td><td>0.006950094</td><td>EXP</td><td>12ffc4aefb8011ed8e8a7625f34dfd6b</td><td>0.5877334</td><td>33961</td><td>EXP-00454-P1_PC02184-038#12ffc4aefb8011ed8e8a7625f34dfd6b</td></tr>\n",
       "\t<tr><th scope=row>EXP-00454-P1_PC02184-038#8b8240ccfb8111ed99031af2246d8fa2</th><td>EXP-00454-P1_PC02184-038</td><td>EXP-00454-AP1C1W4</td><td> 9.091</td><td>0.2597108</td><td>14315</td><td> TRUE</td><td>17065</td><td>18682</td><td>1059</td><td>0.1695066</td><td>⋯</td><td>  0.000000</td><td>0.600000</td><td>EXP-00454-AP1C1</td><td>unlegal_indefinite_hornedtoad</td><td>0.009608580</td><td>EXP</td><td>8b8240ccfb8111ed99031af2246d8fa2</td><td>0.6442787</td><td>35512</td><td>EXP-00454-P1_PC02184-038#8b8240ccfb8111ed99031af2246d8fa2</td></tr>\n",
       "\t<tr><th scope=row>EXP-00454-P1_PC02184-038#43f9d7d4fb7b11ed933dc6f18f77c1a7</th><td>EXP-00454-P1_PC02184-038</td><td>EXP-00454-AP1C2W7</td><td> 5.915</td><td>0.2159906</td><td> 9366</td><td>FALSE</td><td> 8364</td><td>11216</td><td> 547</td><td>0.1293477</td><td>⋯</td><td>169.508656</td><td>7.300000</td><td>EXP-00454-AP1C2</td><td>military_biggish_ling        </td><td>0.006308239</td><td>EXP</td><td>43f9d7d4fb7b11ed933dc6f18f77c1a7</td><td>0.5943546</td><td>25773</td><td>EXP-00454-P1_PC02184-038#43f9d7d4fb7b11ed933dc6f18f77c1a7</td></tr>\n",
       "\t<tr><th scope=row>EXP-00454-P1_PC02184-038#df220c84fb8711edbbcffe1e90e63656</th><td>EXP-00454-P1_PC02184-038</td><td>EXP-00454-AP1C2W1</td><td> 7.109</td><td>0.2302855</td><td> 9631</td><td> TRUE</td><td> 9743</td><td>12190</td><td> 637</td><td>0.1457646</td><td>⋯</td><td>  0.000000</td><td>1.057143</td><td>EXP-00454-AP1C2</td><td>groundable_tearful_stilt     </td><td>0.007617066</td><td>EXP</td><td>df220c84fb8711edbbcffe1e90e63656</td><td>0.5966477</td><td>24953</td><td>EXP-00454-P1_PC02184-038#df220c84fb8711edbbcffe1e90e63656</td></tr>\n",
       "\t<tr><th scope=row>EXP-00454-P1_PC02184-038#c6524daafb8111edb32712c42668f295</th><td>EXP-00454-P1_PC02184-038</td><td>EXP-00454-AP1C2W6</td><td>10.955</td><td>0.3260506</td><td>12461</td><td>FALSE</td><td>15175</td><td>16612</td><td> 507</td><td>0.2174289</td><td>⋯</td><td>  3.423388</td><td>1.909091</td><td>EXP-00454-AP1C2</td><td>measled_strained_taruca      </td><td>0.006635952</td><td>EXP</td><td>c6524daafb8111edb32712c42668f295</td><td>0.6789994</td><td>25950</td><td>EXP-00454-P1_PC02184-038#c6524daafb8111edb32712c42668f295</td></tr>\n",
       "</tbody>\n",
       "</table>\n"
      ],
      "text/latex": [
       "A data.frame: 6 × 37\n",
       "\\begin{tabular}{r|lllllllllllllllllllll}\n",
       "  & Sample & well\\_id & TSSEnrichment & tss\\_frac & tss\\_count & singlet & ReadsInTSS & ReadsInPromoter & ReadsInBlacklist & PromoterRatio & ⋯ & DoubletScore & DoubletEnrichment & chip\\_id & cell\\_name & BlacklistRatio & batch\\_id & barcodes & altius\\_frac & altius\\_count & archr\\_name\\\\\n",
       "  & <chr> & <chr> & <dbl> & <dbl> & <int> & <lgl> & <dbl> & <dbl> & <dbl> & <dbl> & ⋯ & <dbl> & <dbl> & <chr> & <chr> & <dbl> & <chr> & <chr> & <dbl> & <int> & <chr>\\\\\n",
       "\\hline\n",
       "\tEXP-00454-P1\\_PC02184-038\\#3bca8a6cfb8111eda35df29f570c0793 & EXP-00454-P1\\_PC02184-038 & EXP-00454-AP1C1W1 &  5.055 & 0.2001140 & 15797 & FALSE & 13762 & 18845 & 1198 & 0.1193931 & ⋯ &  45.214929 & 3.846154 & EXP-00454-AP1C1 & cement\\_fanciful\\_waxwing       & 0.007589965 & EXP & 3bca8a6cfb8111eda35df29f570c0793 & 0.5805168 & 45826 & EXP-00454-P1\\_PC02184-038\\#3bca8a6cfb8111eda35df29f570c0793\\\\\n",
       "\tEXP-00454-P1\\_PC02184-038\\#12ffc4aefb8011ed8e8a7625f34dfd6b & EXP-00454-P1\\_PC02184-038 & EXP-00454-AP1C2W5 &  5.047 & 0.2078985 & 12013 & FALSE &  9590 & 14194 &  803 & 0.1228514 & ⋯ &  48.403124 & 3.866667 & EXP-00454-AP1C2 & furtive\\_droughty\\_ambushbug    & 0.006950094 & EXP & 12ffc4aefb8011ed8e8a7625f34dfd6b & 0.5877334 & 33961 & EXP-00454-P1\\_PC02184-038\\#12ffc4aefb8011ed8e8a7625f34dfd6b\\\\\n",
       "\tEXP-00454-P1\\_PC02184-038\\#8b8240ccfb8111ed99031af2246d8fa2 & EXP-00454-P1\\_PC02184-038 & EXP-00454-AP1C1W4 &  9.091 & 0.2597108 & 14315 &  TRUE & 17065 & 18682 & 1059 & 0.1695066 & ⋯ &   0.000000 & 0.600000 & EXP-00454-AP1C1 & unlegal\\_indefinite\\_hornedtoad & 0.009608580 & EXP & 8b8240ccfb8111ed99031af2246d8fa2 & 0.6442787 & 35512 & EXP-00454-P1\\_PC02184-038\\#8b8240ccfb8111ed99031af2246d8fa2\\\\\n",
       "\tEXP-00454-P1\\_PC02184-038\\#43f9d7d4fb7b11ed933dc6f18f77c1a7 & EXP-00454-P1\\_PC02184-038 & EXP-00454-AP1C2W7 &  5.915 & 0.2159906 &  9366 & FALSE &  8364 & 11216 &  547 & 0.1293477 & ⋯ & 169.508656 & 7.300000 & EXP-00454-AP1C2 & military\\_biggish\\_ling         & 0.006308239 & EXP & 43f9d7d4fb7b11ed933dc6f18f77c1a7 & 0.5943546 & 25773 & EXP-00454-P1\\_PC02184-038\\#43f9d7d4fb7b11ed933dc6f18f77c1a7\\\\\n",
       "\tEXP-00454-P1\\_PC02184-038\\#df220c84fb8711edbbcffe1e90e63656 & EXP-00454-P1\\_PC02184-038 & EXP-00454-AP1C2W1 &  7.109 & 0.2302855 &  9631 &  TRUE &  9743 & 12190 &  637 & 0.1457646 & ⋯ &   0.000000 & 1.057143 & EXP-00454-AP1C2 & groundable\\_tearful\\_stilt      & 0.007617066 & EXP & df220c84fb8711edbbcffe1e90e63656 & 0.5966477 & 24953 & EXP-00454-P1\\_PC02184-038\\#df220c84fb8711edbbcffe1e90e63656\\\\\n",
       "\tEXP-00454-P1\\_PC02184-038\\#c6524daafb8111edb32712c42668f295 & EXP-00454-P1\\_PC02184-038 & EXP-00454-AP1C2W6 & 10.955 & 0.3260506 & 12461 & FALSE & 15175 & 16612 &  507 & 0.2174289 & ⋯ &   3.423388 & 1.909091 & EXP-00454-AP1C2 & measled\\_strained\\_taruca       & 0.006635952 & EXP & c6524daafb8111edb32712c42668f295 & 0.6789994 & 25950 & EXP-00454-P1\\_PC02184-038\\#c6524daafb8111edb32712c42668f295\\\\\n",
       "\\end{tabular}\n"
      ],
      "text/markdown": [
       "\n",
       "A data.frame: 6 × 37\n",
       "\n",
       "| <!--/--> | Sample &lt;chr&gt; | well_id &lt;chr&gt; | TSSEnrichment &lt;dbl&gt; | tss_frac &lt;dbl&gt; | tss_count &lt;int&gt; | singlet &lt;lgl&gt; | ReadsInTSS &lt;dbl&gt; | ReadsInPromoter &lt;dbl&gt; | ReadsInBlacklist &lt;dbl&gt; | PromoterRatio &lt;dbl&gt; | ⋯ ⋯ | DoubletScore &lt;dbl&gt; | DoubletEnrichment &lt;dbl&gt; | chip_id &lt;chr&gt; | cell_name &lt;chr&gt; | BlacklistRatio &lt;dbl&gt; | batch_id &lt;chr&gt; | barcodes &lt;chr&gt; | altius_frac &lt;dbl&gt; | altius_count &lt;int&gt; | archr_name &lt;chr&gt; |\n",
       "|---|---|---|---|---|---|---|---|---|---|---|---|---|---|---|---|---|---|---|---|---|---|\n",
       "| EXP-00454-P1_PC02184-038#3bca8a6cfb8111eda35df29f570c0793 | EXP-00454-P1_PC02184-038 | EXP-00454-AP1C1W1 |  5.055 | 0.2001140 | 15797 | FALSE | 13762 | 18845 | 1198 | 0.1193931 | ⋯ |  45.214929 | 3.846154 | EXP-00454-AP1C1 | cement_fanciful_waxwing       | 0.007589965 | EXP | 3bca8a6cfb8111eda35df29f570c0793 | 0.5805168 | 45826 | EXP-00454-P1_PC02184-038#3bca8a6cfb8111eda35df29f570c0793 |\n",
       "| EXP-00454-P1_PC02184-038#12ffc4aefb8011ed8e8a7625f34dfd6b | EXP-00454-P1_PC02184-038 | EXP-00454-AP1C2W5 |  5.047 | 0.2078985 | 12013 | FALSE |  9590 | 14194 |  803 | 0.1228514 | ⋯ |  48.403124 | 3.866667 | EXP-00454-AP1C2 | furtive_droughty_ambushbug    | 0.006950094 | EXP | 12ffc4aefb8011ed8e8a7625f34dfd6b | 0.5877334 | 33961 | EXP-00454-P1_PC02184-038#12ffc4aefb8011ed8e8a7625f34dfd6b |\n",
       "| EXP-00454-P1_PC02184-038#8b8240ccfb8111ed99031af2246d8fa2 | EXP-00454-P1_PC02184-038 | EXP-00454-AP1C1W4 |  9.091 | 0.2597108 | 14315 |  TRUE | 17065 | 18682 | 1059 | 0.1695066 | ⋯ |   0.000000 | 0.600000 | EXP-00454-AP1C1 | unlegal_indefinite_hornedtoad | 0.009608580 | EXP | 8b8240ccfb8111ed99031af2246d8fa2 | 0.6442787 | 35512 | EXP-00454-P1_PC02184-038#8b8240ccfb8111ed99031af2246d8fa2 |\n",
       "| EXP-00454-P1_PC02184-038#43f9d7d4fb7b11ed933dc6f18f77c1a7 | EXP-00454-P1_PC02184-038 | EXP-00454-AP1C2W7 |  5.915 | 0.2159906 |  9366 | FALSE |  8364 | 11216 |  547 | 0.1293477 | ⋯ | 169.508656 | 7.300000 | EXP-00454-AP1C2 | military_biggish_ling         | 0.006308239 | EXP | 43f9d7d4fb7b11ed933dc6f18f77c1a7 | 0.5943546 | 25773 | EXP-00454-P1_PC02184-038#43f9d7d4fb7b11ed933dc6f18f77c1a7 |\n",
       "| EXP-00454-P1_PC02184-038#df220c84fb8711edbbcffe1e90e63656 | EXP-00454-P1_PC02184-038 | EXP-00454-AP1C2W1 |  7.109 | 0.2302855 |  9631 |  TRUE |  9743 | 12190 |  637 | 0.1457646 | ⋯ |   0.000000 | 1.057143 | EXP-00454-AP1C2 | groundable_tearful_stilt      | 0.007617066 | EXP | df220c84fb8711edbbcffe1e90e63656 | 0.5966477 | 24953 | EXP-00454-P1_PC02184-038#df220c84fb8711edbbcffe1e90e63656 |\n",
       "| EXP-00454-P1_PC02184-038#c6524daafb8111edb32712c42668f295 | EXP-00454-P1_PC02184-038 | EXP-00454-AP1C2W6 | 10.955 | 0.3260506 | 12461 | FALSE | 15175 | 16612 |  507 | 0.2174289 | ⋯ |   3.423388 | 1.909091 | EXP-00454-AP1C2 | measled_strained_taruca       | 0.006635952 | EXP | c6524daafb8111edb32712c42668f295 | 0.6789994 | 25950 | EXP-00454-P1_PC02184-038#c6524daafb8111edb32712c42668f295 |\n",
       "\n"
      ],
      "text/plain": [
       "                                                          Sample                  \n",
       "EXP-00454-P1_PC02184-038#3bca8a6cfb8111eda35df29f570c0793 EXP-00454-P1_PC02184-038\n",
       "EXP-00454-P1_PC02184-038#12ffc4aefb8011ed8e8a7625f34dfd6b EXP-00454-P1_PC02184-038\n",
       "EXP-00454-P1_PC02184-038#8b8240ccfb8111ed99031af2246d8fa2 EXP-00454-P1_PC02184-038\n",
       "EXP-00454-P1_PC02184-038#43f9d7d4fb7b11ed933dc6f18f77c1a7 EXP-00454-P1_PC02184-038\n",
       "EXP-00454-P1_PC02184-038#df220c84fb8711edbbcffe1e90e63656 EXP-00454-P1_PC02184-038\n",
       "EXP-00454-P1_PC02184-038#c6524daafb8111edb32712c42668f295 EXP-00454-P1_PC02184-038\n",
       "                                                          well_id          \n",
       "EXP-00454-P1_PC02184-038#3bca8a6cfb8111eda35df29f570c0793 EXP-00454-AP1C1W1\n",
       "EXP-00454-P1_PC02184-038#12ffc4aefb8011ed8e8a7625f34dfd6b EXP-00454-AP1C2W5\n",
       "EXP-00454-P1_PC02184-038#8b8240ccfb8111ed99031af2246d8fa2 EXP-00454-AP1C1W4\n",
       "EXP-00454-P1_PC02184-038#43f9d7d4fb7b11ed933dc6f18f77c1a7 EXP-00454-AP1C2W7\n",
       "EXP-00454-P1_PC02184-038#df220c84fb8711edbbcffe1e90e63656 EXP-00454-AP1C2W1\n",
       "EXP-00454-P1_PC02184-038#c6524daafb8111edb32712c42668f295 EXP-00454-AP1C2W6\n",
       "                                                          TSSEnrichment\n",
       "EXP-00454-P1_PC02184-038#3bca8a6cfb8111eda35df29f570c0793  5.055       \n",
       "EXP-00454-P1_PC02184-038#12ffc4aefb8011ed8e8a7625f34dfd6b  5.047       \n",
       "EXP-00454-P1_PC02184-038#8b8240ccfb8111ed99031af2246d8fa2  9.091       \n",
       "EXP-00454-P1_PC02184-038#43f9d7d4fb7b11ed933dc6f18f77c1a7  5.915       \n",
       "EXP-00454-P1_PC02184-038#df220c84fb8711edbbcffe1e90e63656  7.109       \n",
       "EXP-00454-P1_PC02184-038#c6524daafb8111edb32712c42668f295 10.955       \n",
       "                                                          tss_frac  tss_count\n",
       "EXP-00454-P1_PC02184-038#3bca8a6cfb8111eda35df29f570c0793 0.2001140 15797    \n",
       "EXP-00454-P1_PC02184-038#12ffc4aefb8011ed8e8a7625f34dfd6b 0.2078985 12013    \n",
       "EXP-00454-P1_PC02184-038#8b8240ccfb8111ed99031af2246d8fa2 0.2597108 14315    \n",
       "EXP-00454-P1_PC02184-038#43f9d7d4fb7b11ed933dc6f18f77c1a7 0.2159906  9366    \n",
       "EXP-00454-P1_PC02184-038#df220c84fb8711edbbcffe1e90e63656 0.2302855  9631    \n",
       "EXP-00454-P1_PC02184-038#c6524daafb8111edb32712c42668f295 0.3260506 12461    \n",
       "                                                          singlet ReadsInTSS\n",
       "EXP-00454-P1_PC02184-038#3bca8a6cfb8111eda35df29f570c0793 FALSE   13762     \n",
       "EXP-00454-P1_PC02184-038#12ffc4aefb8011ed8e8a7625f34dfd6b FALSE    9590     \n",
       "EXP-00454-P1_PC02184-038#8b8240ccfb8111ed99031af2246d8fa2  TRUE   17065     \n",
       "EXP-00454-P1_PC02184-038#43f9d7d4fb7b11ed933dc6f18f77c1a7 FALSE    8364     \n",
       "EXP-00454-P1_PC02184-038#df220c84fb8711edbbcffe1e90e63656  TRUE    9743     \n",
       "EXP-00454-P1_PC02184-038#c6524daafb8111edb32712c42668f295 FALSE   15175     \n",
       "                                                          ReadsInPromoter\n",
       "EXP-00454-P1_PC02184-038#3bca8a6cfb8111eda35df29f570c0793 18845          \n",
       "EXP-00454-P1_PC02184-038#12ffc4aefb8011ed8e8a7625f34dfd6b 14194          \n",
       "EXP-00454-P1_PC02184-038#8b8240ccfb8111ed99031af2246d8fa2 18682          \n",
       "EXP-00454-P1_PC02184-038#43f9d7d4fb7b11ed933dc6f18f77c1a7 11216          \n",
       "EXP-00454-P1_PC02184-038#df220c84fb8711edbbcffe1e90e63656 12190          \n",
       "EXP-00454-P1_PC02184-038#c6524daafb8111edb32712c42668f295 16612          \n",
       "                                                          ReadsInBlacklist\n",
       "EXP-00454-P1_PC02184-038#3bca8a6cfb8111eda35df29f570c0793 1198            \n",
       "EXP-00454-P1_PC02184-038#12ffc4aefb8011ed8e8a7625f34dfd6b  803            \n",
       "EXP-00454-P1_PC02184-038#8b8240ccfb8111ed99031af2246d8fa2 1059            \n",
       "EXP-00454-P1_PC02184-038#43f9d7d4fb7b11ed933dc6f18f77c1a7  547            \n",
       "EXP-00454-P1_PC02184-038#df220c84fb8711edbbcffe1e90e63656  637            \n",
       "EXP-00454-P1_PC02184-038#c6524daafb8111edb32712c42668f295  507            \n",
       "                                                          PromoterRatio ⋯\n",
       "EXP-00454-P1_PC02184-038#3bca8a6cfb8111eda35df29f570c0793 0.1193931     ⋯\n",
       "EXP-00454-P1_PC02184-038#12ffc4aefb8011ed8e8a7625f34dfd6b 0.1228514     ⋯\n",
       "EXP-00454-P1_PC02184-038#8b8240ccfb8111ed99031af2246d8fa2 0.1695066     ⋯\n",
       "EXP-00454-P1_PC02184-038#43f9d7d4fb7b11ed933dc6f18f77c1a7 0.1293477     ⋯\n",
       "EXP-00454-P1_PC02184-038#df220c84fb8711edbbcffe1e90e63656 0.1457646     ⋯\n",
       "EXP-00454-P1_PC02184-038#c6524daafb8111edb32712c42668f295 0.2174289     ⋯\n",
       "                                                          DoubletScore\n",
       "EXP-00454-P1_PC02184-038#3bca8a6cfb8111eda35df29f570c0793  45.214929  \n",
       "EXP-00454-P1_PC02184-038#12ffc4aefb8011ed8e8a7625f34dfd6b  48.403124  \n",
       "EXP-00454-P1_PC02184-038#8b8240ccfb8111ed99031af2246d8fa2   0.000000  \n",
       "EXP-00454-P1_PC02184-038#43f9d7d4fb7b11ed933dc6f18f77c1a7 169.508656  \n",
       "EXP-00454-P1_PC02184-038#df220c84fb8711edbbcffe1e90e63656   0.000000  \n",
       "EXP-00454-P1_PC02184-038#c6524daafb8111edb32712c42668f295   3.423388  \n",
       "                                                          DoubletEnrichment\n",
       "EXP-00454-P1_PC02184-038#3bca8a6cfb8111eda35df29f570c0793 3.846154         \n",
       "EXP-00454-P1_PC02184-038#12ffc4aefb8011ed8e8a7625f34dfd6b 3.866667         \n",
       "EXP-00454-P1_PC02184-038#8b8240ccfb8111ed99031af2246d8fa2 0.600000         \n",
       "EXP-00454-P1_PC02184-038#43f9d7d4fb7b11ed933dc6f18f77c1a7 7.300000         \n",
       "EXP-00454-P1_PC02184-038#df220c84fb8711edbbcffe1e90e63656 1.057143         \n",
       "EXP-00454-P1_PC02184-038#c6524daafb8111edb32712c42668f295 1.909091         \n",
       "                                                          chip_id        \n",
       "EXP-00454-P1_PC02184-038#3bca8a6cfb8111eda35df29f570c0793 EXP-00454-AP1C1\n",
       "EXP-00454-P1_PC02184-038#12ffc4aefb8011ed8e8a7625f34dfd6b EXP-00454-AP1C2\n",
       "EXP-00454-P1_PC02184-038#8b8240ccfb8111ed99031af2246d8fa2 EXP-00454-AP1C1\n",
       "EXP-00454-P1_PC02184-038#43f9d7d4fb7b11ed933dc6f18f77c1a7 EXP-00454-AP1C2\n",
       "EXP-00454-P1_PC02184-038#df220c84fb8711edbbcffe1e90e63656 EXP-00454-AP1C2\n",
       "EXP-00454-P1_PC02184-038#c6524daafb8111edb32712c42668f295 EXP-00454-AP1C2\n",
       "                                                          cell_name                    \n",
       "EXP-00454-P1_PC02184-038#3bca8a6cfb8111eda35df29f570c0793 cement_fanciful_waxwing      \n",
       "EXP-00454-P1_PC02184-038#12ffc4aefb8011ed8e8a7625f34dfd6b furtive_droughty_ambushbug   \n",
       "EXP-00454-P1_PC02184-038#8b8240ccfb8111ed99031af2246d8fa2 unlegal_indefinite_hornedtoad\n",
       "EXP-00454-P1_PC02184-038#43f9d7d4fb7b11ed933dc6f18f77c1a7 military_biggish_ling        \n",
       "EXP-00454-P1_PC02184-038#df220c84fb8711edbbcffe1e90e63656 groundable_tearful_stilt     \n",
       "EXP-00454-P1_PC02184-038#c6524daafb8111edb32712c42668f295 measled_strained_taruca      \n",
       "                                                          BlacklistRatio\n",
       "EXP-00454-P1_PC02184-038#3bca8a6cfb8111eda35df29f570c0793 0.007589965   \n",
       "EXP-00454-P1_PC02184-038#12ffc4aefb8011ed8e8a7625f34dfd6b 0.006950094   \n",
       "EXP-00454-P1_PC02184-038#8b8240ccfb8111ed99031af2246d8fa2 0.009608580   \n",
       "EXP-00454-P1_PC02184-038#43f9d7d4fb7b11ed933dc6f18f77c1a7 0.006308239   \n",
       "EXP-00454-P1_PC02184-038#df220c84fb8711edbbcffe1e90e63656 0.007617066   \n",
       "EXP-00454-P1_PC02184-038#c6524daafb8111edb32712c42668f295 0.006635952   \n",
       "                                                          batch_id\n",
       "EXP-00454-P1_PC02184-038#3bca8a6cfb8111eda35df29f570c0793 EXP     \n",
       "EXP-00454-P1_PC02184-038#12ffc4aefb8011ed8e8a7625f34dfd6b EXP     \n",
       "EXP-00454-P1_PC02184-038#8b8240ccfb8111ed99031af2246d8fa2 EXP     \n",
       "EXP-00454-P1_PC02184-038#43f9d7d4fb7b11ed933dc6f18f77c1a7 EXP     \n",
       "EXP-00454-P1_PC02184-038#df220c84fb8711edbbcffe1e90e63656 EXP     \n",
       "EXP-00454-P1_PC02184-038#c6524daafb8111edb32712c42668f295 EXP     \n",
       "                                                          barcodes                        \n",
       "EXP-00454-P1_PC02184-038#3bca8a6cfb8111eda35df29f570c0793 3bca8a6cfb8111eda35df29f570c0793\n",
       "EXP-00454-P1_PC02184-038#12ffc4aefb8011ed8e8a7625f34dfd6b 12ffc4aefb8011ed8e8a7625f34dfd6b\n",
       "EXP-00454-P1_PC02184-038#8b8240ccfb8111ed99031af2246d8fa2 8b8240ccfb8111ed99031af2246d8fa2\n",
       "EXP-00454-P1_PC02184-038#43f9d7d4fb7b11ed933dc6f18f77c1a7 43f9d7d4fb7b11ed933dc6f18f77c1a7\n",
       "EXP-00454-P1_PC02184-038#df220c84fb8711edbbcffe1e90e63656 df220c84fb8711edbbcffe1e90e63656\n",
       "EXP-00454-P1_PC02184-038#c6524daafb8111edb32712c42668f295 c6524daafb8111edb32712c42668f295\n",
       "                                                          altius_frac\n",
       "EXP-00454-P1_PC02184-038#3bca8a6cfb8111eda35df29f570c0793 0.5805168  \n",
       "EXP-00454-P1_PC02184-038#12ffc4aefb8011ed8e8a7625f34dfd6b 0.5877334  \n",
       "EXP-00454-P1_PC02184-038#8b8240ccfb8111ed99031af2246d8fa2 0.6442787  \n",
       "EXP-00454-P1_PC02184-038#43f9d7d4fb7b11ed933dc6f18f77c1a7 0.5943546  \n",
       "EXP-00454-P1_PC02184-038#df220c84fb8711edbbcffe1e90e63656 0.5966477  \n",
       "EXP-00454-P1_PC02184-038#c6524daafb8111edb32712c42668f295 0.6789994  \n",
       "                                                          altius_count\n",
       "EXP-00454-P1_PC02184-038#3bca8a6cfb8111eda35df29f570c0793 45826       \n",
       "EXP-00454-P1_PC02184-038#12ffc4aefb8011ed8e8a7625f34dfd6b 33961       \n",
       "EXP-00454-P1_PC02184-038#8b8240ccfb8111ed99031af2246d8fa2 35512       \n",
       "EXP-00454-P1_PC02184-038#43f9d7d4fb7b11ed933dc6f18f77c1a7 25773       \n",
       "EXP-00454-P1_PC02184-038#df220c84fb8711edbbcffe1e90e63656 24953       \n",
       "EXP-00454-P1_PC02184-038#c6524daafb8111edb32712c42668f295 25950       \n",
       "                                                          archr_name                                               \n",
       "EXP-00454-P1_PC02184-038#3bca8a6cfb8111eda35df29f570c0793 EXP-00454-P1_PC02184-038#3bca8a6cfb8111eda35df29f570c0793\n",
       "EXP-00454-P1_PC02184-038#12ffc4aefb8011ed8e8a7625f34dfd6b EXP-00454-P1_PC02184-038#12ffc4aefb8011ed8e8a7625f34dfd6b\n",
       "EXP-00454-P1_PC02184-038#8b8240ccfb8111ed99031af2246d8fa2 EXP-00454-P1_PC02184-038#8b8240ccfb8111ed99031af2246d8fa2\n",
       "EXP-00454-P1_PC02184-038#43f9d7d4fb7b11ed933dc6f18f77c1a7 EXP-00454-P1_PC02184-038#43f9d7d4fb7b11ed933dc6f18f77c1a7\n",
       "EXP-00454-P1_PC02184-038#df220c84fb8711edbbcffe1e90e63656 EXP-00454-P1_PC02184-038#df220c84fb8711edbbcffe1e90e63656\n",
       "EXP-00454-P1_PC02184-038#c6524daafb8111edb32712c42668f295 EXP-00454-P1_PC02184-038#c6524daafb8111edb32712c42668f295"
      ]
     },
     "metadata": {},
     "output_type": "display_data"
    }
   ],
   "source": [
    "head(all_metadata)"
   ]
  },
  {
   "cell_type": "markdown",
   "id": "f9efbcbb-38cb-4aa4-bbd2-c18a98955bc2",
   "metadata": {},
   "source": [
    "## Write output file\n",
    "\n",
    "Write the metadata as a .csv for later use. We remove `row.names` and set `quote = FALSE` to simplify the outputs and increase compatibility with other tools."
   ]
  },
  {
   "cell_type": "code",
   "execution_count": 15,
   "id": "ac05a12a-e410-4f34-8436-19b0a27c3d50",
   "metadata": {},
   "outputs": [],
   "source": [
    "dir.create(\"output\")"
   ]
  },
  {
   "cell_type": "code",
   "execution_count": 16,
   "id": "b3234c3e-3429-43db-8878-be282260a7ef",
   "metadata": {},
   "outputs": [],
   "source": [
    "write.csv(\n",
    "    all_metadata,\n",
    "    \"output/vrd_atac_cell_metadata.csv\",\n",
    "    row.names = FALSE,\n",
    "    quote = FALSE\n",
    ")"
   ]
  },
  {
   "cell_type": "markdown",
   "id": "2e7a7f73-792c-4f01-82b1-e6f8d7d1f737",
   "metadata": {},
   "source": [
    "## Store results in HISE\n",
    "\n",
    "Finally, we store the output file in our Collaboration Space for later retrieval and use. We need to provide the UUID for our Collaboration Space (aka `studySpaceId`), as well as a title for this step in our analysis process.\n",
    "\n",
    "The hise function `uploadFiles()` also requires the FileIDs from the original fileset for reference, which we assembled above when files were retrieved (`input_file_uuids`)"
   ]
  },
  {
   "cell_type": "code",
   "execution_count": 17,
   "id": "6d2aaf10-3220-4578-8b7e-eafa8bd63b28",
   "metadata": {},
   "outputs": [],
   "source": [
    "study_space_uuid <- \"40df6403-29f0-4b45-ab7d-f46d420c422e\"\n",
    "title <- \"VRd TEA-seq unfiltered A cell metadata\""
   ]
  },
  {
   "cell_type": "code",
   "execution_count": 18,
   "id": "442e1f4f-64cf-4a61-8bdd-bd941370d546",
   "metadata": {},
   "outputs": [],
   "source": [
    "out_files <- list.files(\n",
    "    \"output\",\n",
    "    full.names = TRUE\n",
    ")\n",
    "out_list <- as.list(out_files)"
   ]
  },
  {
   "cell_type": "code",
   "execution_count": 19,
   "id": "0276fc3e-7dd0-4cee-b21a-ecce80233850",
   "metadata": {},
   "outputs": [
    {
     "data": {
      "text/html": [
       "<dl>\n",
       "\t<dt>$files</dt>\n",
       "\t\t<dd><ol>\n",
       "\t<li>'output/vrd_atac_cell_metadata.csv'</li>\n",
       "</ol>\n",
       "</dd>\n",
       "\t<dt>$traceId</dt>\n",
       "\t\t<dd>'a9cb8ad5-b1e1-40a6-9595-77693397922b'</dd>\n",
       "</dl>\n"
      ],
      "text/latex": [
       "\\begin{description}\n",
       "\\item[\\$files] \\begin{enumerate}\n",
       "\\item 'output/vrd\\_atac\\_cell\\_metadata.csv'\n",
       "\\end{enumerate}\n",
       "\n",
       "\\item[\\$traceId] 'a9cb8ad5-b1e1-40a6-9595-77693397922b'\n",
       "\\end{description}\n"
      ],
      "text/markdown": [
       "$files\n",
       ":   1. 'output/vrd_atac_cell_metadata.csv'\n",
       "\n",
       "\n",
       "\n",
       "$traceId\n",
       ":   'a9cb8ad5-b1e1-40a6-9595-77693397922b'\n",
       "\n",
       "\n"
      ],
      "text/plain": [
       "$files\n",
       "$files[[1]]\n",
       "[1] \"output/vrd_atac_cell_metadata.csv\"\n",
       "\n",
       "\n",
       "$traceId\n",
       "[1] \"a9cb8ad5-b1e1-40a6-9595-77693397922b\"\n"
      ]
     },
     "metadata": {},
     "output_type": "display_data"
    }
   ],
   "source": [
    "uploadFiles(\n",
    "    files = out_list,\n",
    "    studySpaceId = study_space_uuid,\n",
    "    title = title,\n",
    "    inputFileIds = input_file_uuids,\n",
    "    store = \"project\",\n",
    "    doPrompt = FALSE\n",
    ")"
   ]
  },
  {
   "cell_type": "code",
   "execution_count": 20,
   "id": "c42c119c-09d3-467a-845d-50c93a897466",
   "metadata": {},
   "outputs": [
    {
     "data": {
      "text/plain": [
       "R version 4.2.2 Patched (2022-11-10 r83330)\n",
       "Platform: x86_64-pc-linux-gnu (64-bit)\n",
       "Running under: Ubuntu 20.04.5 LTS\n",
       "\n",
       "Matrix products: default\n",
       "BLAS:   /usr/lib/x86_64-linux-gnu/openblas-pthread/libblas.so.3\n",
       "LAPACK: /usr/lib/x86_64-linux-gnu/openblas-pthread/liblapack.so.3\n",
       "\n",
       "locale:\n",
       " [1] LC_CTYPE=C.UTF-8       LC_NUMERIC=C           LC_TIME=C.UTF-8       \n",
       " [4] LC_COLLATE=C.UTF-8     LC_MONETARY=C.UTF-8    LC_MESSAGES=C.UTF-8   \n",
       " [7] LC_PAPER=C.UTF-8       LC_NAME=C              LC_ADDRESS=C          \n",
       "[10] LC_TELEPHONE=C         LC_MEASUREMENT=C.UTF-8 LC_IDENTIFICATION=C   \n",
       "\n",
       "attached base packages:\n",
       "[1] stats4    grid      stats     graphics  grDevices utils     datasets \n",
       "[8] methods   base     \n",
       "\n",
       "other attached packages:\n",
       " [1] BSgenome.Hsapiens.UCSC.hg38_1.4.5 BSgenome_1.66.3                  \n",
       " [3] rtracklayer_1.58.0                Biostrings_2.66.0                \n",
       " [5] XVector_0.38.0                    purrr_1.0.1                      \n",
       " [7] rhdf5_2.42.0                      SummarizedExperiment_1.28.0      \n",
       " [9] Biobase_2.58.0                    MatrixGenerics_1.10.0            \n",
       "[11] Rcpp_1.0.11                       Matrix_1.5-3                     \n",
       "[13] GenomicRanges_1.50.2              GenomeInfoDb_1.34.9              \n",
       "[15] IRanges_2.32.0                    S4Vectors_0.36.2                 \n",
       "[17] BiocGenerics_0.44.0               matrixStats_0.63.0               \n",
       "[19] data.table_1.14.8                 stringr_1.5.0                    \n",
       "[21] plyr_1.8.8                        magrittr_2.0.3                   \n",
       "[23] ggplot2_3.4.2                     gtable_0.3.3                     \n",
       "[25] gtools_3.9.4                      gridExtra_2.3                    \n",
       "[27] ArchR_1.0.2                       hise_2.16.0                      \n",
       "\n",
       "loaded via a namespace (and not attached):\n",
       " [1] httr_1.4.6               jsonlite_1.8.7           assertthat_0.2.1        \n",
       " [4] GenomeInfoDbData_1.2.9   Rsamtools_2.14.0         yaml_2.3.7              \n",
       " [7] pillar_1.9.0             lattice_0.20-45          glue_1.6.2              \n",
       "[10] uuid_1.1-0               digest_0.6.33            colorspace_2.1-0        \n",
       "[13] htmltools_0.5.5          XML_3.99-0.13            pkgconfig_2.0.3         \n",
       "[16] zlibbioc_1.44.0          scales_1.2.1             BiocParallel_1.32.5     \n",
       "[19] tibble_3.2.1             generics_0.1.3           withr_2.5.0             \n",
       "[22] repr_1.1.6.9000          cli_3.6.1                crayon_1.5.2            \n",
       "[25] evaluate_0.21            fansi_1.0.4              tools_4.2.2             \n",
       "[28] BiocIO_1.8.0             lifecycle_1.0.3          Rhdf5lib_1.20.0         \n",
       "[31] munsell_0.5.0            DelayedArray_0.24.0      compiler_4.2.2          \n",
       "[34] rlang_1.1.1              RCurl_1.98-1.10          pbdZMQ_0.3-9            \n",
       "[37] IRkernel_1.3.2           rhdf5filters_1.10.0      rjson_0.2.21            \n",
       "[40] bitops_1.0-7             base64enc_0.1-3          restfulr_0.0.15         \n",
       "[43] codetools_0.2-19         curl_5.0.1               R6_2.5.1                \n",
       "[46] GenomicAlignments_1.34.0 dplyr_1.1.0              fastmap_1.1.1           \n",
       "[49] utf8_1.2.3               stringi_1.7.12           parallel_4.2.2          \n",
       "[52] IRdisplay_1.1            vctrs_0.6.3              tidyselect_1.2.0        "
      ]
     },
     "metadata": {},
     "output_type": "display_data"
    }
   ],
   "source": [
    "sessionInfo()"
   ]
  },
  {
   "cell_type": "code",
   "execution_count": null,
   "id": "9c1f7e99-5960-4d18-bcdf-387c5253ccd9",
   "metadata": {},
   "outputs": [],
   "source": []
  }
 ],
 "metadata": {
  "kernelspec": {
   "display_name": "R",
   "language": "R",
   "name": "ir"
  },
  "language_info": {
   "codemirror_mode": "r",
   "file_extension": ".r",
   "mimetype": "text/x-r-source",
   "name": "R",
   "pygments_lexer": "r",
   "version": "4.2.2"
  }
 },
 "nbformat": 4,
 "nbformat_minor": 5
}
