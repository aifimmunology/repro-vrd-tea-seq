{
 "cells": [
  {
   "cell_type": "markdown",
   "id": "06cb5601-bf1c-4c6a-b94a-96ba3ddc26b4",
   "metadata": {},
   "source": [
    "# Retrieve RNA and ADT Metadata\n",
    "\n",
    "To begin our analysis, we'll retrieve the .h5 files that contain RNA and ADT data and metadata after our TEA-seq QC and demultiplexing pipeline. We'll then extract the metadata for cells to use for cell filtering and QC plots."
   ]
  },
  {
   "cell_type": "markdown",
   "id": "efee75ae-17b4-44f4-940d-162286339071",
   "metadata": {},
   "source": [
    "## Setup"
   ]
  },
  {
   "cell_type": "markdown",
   "id": "bd55408c-9690-4ad5-a79d-3d55b33eeaf2",
   "metadata": {},
   "source": [
    "Install BarMixer if not present. BarMixer is an R package that is part of the BarWare tools for barcoded scRNA-seq data, and has helper functions for easily reading cell metadata from our .h5 files.\n",
    "\n",
    "BarMixer repository: https://github.com/AllenInstitute/BarMixer  \n",
    "BarWare paper: [Swanson, et al., BMC Bioinformatics (2022)](https://bmcbioinformatics.biomedcentral.com/articles/10.1186/s12859-022-04620-2)"
   ]
  },
  {
   "cell_type": "code",
   "execution_count": 1,
   "id": "098a2857-a45b-465f-8125-e680363d86c7",
   "metadata": {},
   "outputs": [],
   "source": [
    "ip <- installed.packages()\n",
    "if(!\"BarMixer\" %in% rownames(ip)) {\n",
    "    devtools::install_github(\n",
    "        \"alleninstitute/BarMixer\",\n",
    "        upgrade = \"never\"\n",
    "    )\n",
    "}"
   ]
  },
  {
   "cell_type": "markdown",
   "id": "2967d0cb-afdb-4c62-907d-09b7e72a9bd9",
   "metadata": {},
   "source": [
    "## Load packages\n",
    "\n",
    "hise: The Human Immune System Explorer R SDK package  \n",
    "BarMixer: .h5 file handling  \n",
    "purrr: Functional programming tools  \n"
   ]
  },
  {
   "cell_type": "code",
   "execution_count": 2,
   "id": "74053ca6-2556-4a1e-a18a-7ae6a72b16a1",
   "metadata": {},
   "outputs": [
    {
     "name": "stderr",
     "output_type": "stream",
     "text": [
      "Loading required package: data.table\n",
      "\n",
      "Loading required package: Matrix\n",
      "\n",
      "Loading required package: rhdf5\n",
      "\n",
      "\n",
      "Attaching package: ‘BarMixer’\n",
      "\n",
      "\n",
      "The following objects are masked from ‘package:rhdf5’:\n",
      "\n",
      "    h5dump, h5ls\n",
      "\n",
      "\n",
      "\n",
      "Attaching package: ‘purrr’\n",
      "\n",
      "\n",
      "The following object is masked from ‘package:data.table’:\n",
      "\n",
      "    transpose\n",
      "\n",
      "\n"
     ]
    }
   ],
   "source": [
    "library(hise)\n",
    "library(BarMixer)\n",
    "library(purrr)"
   ]
  },
  {
   "cell_type": "markdown",
   "id": "c9b2868d-a8f0-4cbf-b536-10883f5f26d1",
   "metadata": {},
   "source": [
    "## Retrieve files\n",
    "\n",
    "Now, we'll use the HISE SDK package to retrieve the TEA-seq .h5 file outputs based on their file UUIDs. These will be placed in the `cache/` subdirectory by default."
   ]
  },
  {
   "cell_type": "code",
   "execution_count": 3,
   "id": "b126fd60-04a8-45c0-9658-8edc6af2645f",
   "metadata": {},
   "outputs": [],
   "source": [
    "input_file_uuids <- list(\n",
    "    \"0a4dcc97-bc5a-4aa6-a3d3-16cf612502ce\", \n",
    "    \"0af11a1e-c721-40e1-9455-032416ab1aa1\", \n",
    "    \"1981a346-0a61-4360-a11c-2e846af8aa52\", \n",
    "    \"1be65739-445a-41fe-89a4-52fbbba2000d\", \n",
    "    \"5ed5b8a3-1a79-40fb-b47f-c38dda0f012c\", \n",
    "    \"636e9db3-1870-4691-832c-814588039474\", \n",
    "    \"63a493fb-f7cb-4544-bd3a-c55fc9c26426\", \n",
    "    \"7d9548ce-8468-45d6-9489-fa638e421934\", \n",
    "    \"d3a284cf-b101-44d4-9f88-d3683b371fa6\", \n",
    "    \"d5ddec3e-c699-4f04-89fa-34c9d3cfeec1\", \n",
    "    \"de3962ef-1b9f-4e16-a660-6d839d52e432\", \n",
    "    \"f9a1b436-a5cf-4950-99ba-add2c5ac0707\"\n",
    ")"
   ]
  },
  {
   "cell_type": "code",
   "execution_count": 4,
   "id": "5d63c64c-0590-4a9f-8ca1-f627139fee9b",
   "metadata": {},
   "outputs": [],
   "source": [
    "fres <- hise::cacheFiles(\n",
    "    input_file_uuids\n",
    ")"
   ]
  },
  {
   "cell_type": "markdown",
   "id": "a650faec-5bfa-4770-b4ad-f0ff86742b69",
   "metadata": {},
   "source": [
    "## Assemble metadata\n",
    "\n",
    "Here, we list each of the files in `cache/` and read cell metadata using the BarMixer function `read_h5_cell_meta()`. purrr's `map_dfr()` handles iteration over the files, and assembles a single table with metadata for all cells by row concatenation."
   ]
  },
  {
   "cell_type": "code",
   "execution_count": 5,
   "id": "9d9c9de3-19fb-4579-bc8b-21bc53f340d8",
   "metadata": {},
   "outputs": [],
   "source": [
    "h5_files <- list.files(\n",
    "    \"cache/\",\n",
    "    pattern = \".h5$\",\n",
    "    recursive = TRUE,\n",
    "    full.names = TRUE)"
   ]
  },
  {
   "cell_type": "code",
   "execution_count": 6,
   "id": "ee73148e-fad3-436b-8a1d-f0a7954f12f8",
   "metadata": {},
   "outputs": [],
   "source": [
    "all_metadata <- map_dfr(\n",
    "    h5_files,\n",
    "    read_h5_cell_meta\n",
    ")"
   ]
  },
  {
   "cell_type": "code",
   "execution_count": 7,
   "id": "e29518fa-4dd3-4e43-a9e1-5329b552b6aa",
   "metadata": {},
   "outputs": [
    {
     "data": {
      "text/html": [
       "<table class=\"dataframe\">\n",
       "<caption>A data.frame: 6 × 21</caption>\n",
       "<thead>\n",
       "\t<tr><th></th><th scope=col>barcodes</th><th scope=col>adt_qc_flag</th><th scope=col>adt_umis</th><th scope=col>batch_id</th><th scope=col>cell_name</th><th scope=col>chip_id</th><th scope=col>hto_barcode</th><th scope=col>hto_category</th><th scope=col>n_genes</th><th scope=col>n_mito_umis</th><th scope=col>⋯</th><th scope=col>n_umis</th><th scope=col>original_barcodes</th><th scope=col>pbmc_sample_id</th><th scope=col>pool_id</th><th scope=col>rna_cell_uuid</th><th scope=col>seurat_pbmc_type</th><th scope=col>seurat_pbmc_type_score</th><th scope=col>umap_1</th><th scope=col>umap_2</th><th scope=col>well_id</th></tr>\n",
       "\t<tr><th></th><th scope=col>&lt;chr&gt;</th><th scope=col>&lt;chr&gt;</th><th scope=col>&lt;int&gt;</th><th scope=col>&lt;chr&gt;</th><th scope=col>&lt;chr&gt;</th><th scope=col>&lt;chr&gt;</th><th scope=col>&lt;chr&gt;</th><th scope=col>&lt;chr&gt;</th><th scope=col>&lt;int&gt;</th><th scope=col>&lt;int&gt;</th><th scope=col>⋯</th><th scope=col>&lt;int&gt;</th><th scope=col>&lt;chr&gt;</th><th scope=col>&lt;chr&gt;</th><th scope=col>&lt;chr&gt;</th><th scope=col>&lt;chr&gt;</th><th scope=col>&lt;chr&gt;</th><th scope=col>&lt;dbl&gt;</th><th scope=col>&lt;dbl&gt;</th><th scope=col>&lt;dbl&gt;</th><th scope=col>&lt;chr&gt;</th></tr>\n",
       "</thead>\n",
       "<tbody>\n",
       "\t<tr><th scope=row>1</th><td>2da9d348fb8111eda35df29f570c0793</td><td>Good</td><td>1746</td><td>EXP-00454</td><td>jovial_jockeyish_urus       </td><td>EXP-00454-P1C1</td><td>TGTCTTTCCTGCCAG</td><td>singlet</td><td>2157</td><td>363</td><td>⋯</td><td>4974</td><td>AAACAGCCATAGTCAT</td><td>PC02184-044</td><td>EXP-00454-P1</td><td>2582f1a6fb8911edb940c6bd9515220e</td><td>CD4 Memory</td><td>0.6268495</td><td>-1.6470808</td><td>-8.418920</td><td>EXP-00454-P1C1W1</td></tr>\n",
       "\t<tr><th scope=row>2</th><td>2daec6d2fb8111eda35df29f570c0793</td><td>Good</td><td>1506</td><td>EXP-00454</td><td>possessive_sirenic_esok     </td><td>EXP-00454-P1C1</td><td>TGTCTTTCCTGCCAG</td><td>singlet</td><td>2134</td><td>161</td><td>⋯</td><td>4511</td><td>AAACCAACAGCTCATA</td><td>PC02184-044</td><td>EXP-00454-P1</td><td>2582f462fb8911edb940c6bd9515220e</td><td>CD4 Memory</td><td>0.6597796</td><td>-0.8160710</td><td>-8.692452</td><td>EXP-00454-P1C1W1</td></tr>\n",
       "\t<tr><th scope=row>3</th><td>2db119d2fb8111eda35df29f570c0793</td><td>Good</td><td>1661</td><td>EXP-00454</td><td>petaline_lawabiding_snowyowl</td><td>EXP-00454-P1C1</td><td>TGTCTTTCCTGCCAG</td><td>singlet</td><td>2091</td><td>302</td><td>⋯</td><td>4289</td><td>AAACCGAAGGAAGCAC</td><td>PC02184-044</td><td>EXP-00454-P1</td><td>2582f624fb8911edb940c6bd9515220e</td><td>CD4 Memory</td><td>0.8507561</td><td>-4.9873077</td><td> 2.534072</td><td>EXP-00454-P1C1W1</td></tr>\n",
       "\t<tr><th scope=row>4</th><td>2db4ad86fb8111eda35df29f570c0793</td><td>Good</td><td>1866</td><td>EXP-00454</td><td>vixenish_ardent_seahorse    </td><td>EXP-00454-P1C1</td><td>TGTCTTTCCTGCCAG</td><td>singlet</td><td>2033</td><td>308</td><td>⋯</td><td>3931</td><td>AAACCGCGTTAAGCGC</td><td>PC02184-044</td><td>EXP-00454-P1</td><td>2582f7aafb8911edb940c6bd9515220e</td><td>CD4 Memory</td><td>0.6342125</td><td>-4.7517462</td><td> 5.226646</td><td>EXP-00454-P1C1W1</td></tr>\n",
       "\t<tr><th scope=row>5</th><td>2db582c4fb8111eda35df29f570c0793</td><td>Good</td><td>1400</td><td>EXP-00454</td><td>stimulated_maroon_jerboa    </td><td>EXP-00454-P1C1</td><td>TGTCTTTCCTGCCAG</td><td>singlet</td><td>1560</td><td>179</td><td>⋯</td><td>2904</td><td>AAACCGCGTTGGCCGA</td><td>PC02184-044</td><td>EXP-00454-P1</td><td>2582f840fb8911edb940c6bd9515220e</td><td>CD4 Memory</td><td>0.6119409</td><td> 0.8885885</td><td>-6.354211</td><td>EXP-00454-P1C1W1</td></tr>\n",
       "\t<tr><th scope=row>6</th><td>2db5b3acfb8111eda35df29f570c0793</td><td>Good</td><td>2220</td><td>EXP-00454</td><td>antigorite_erect_earthworm  </td><td>EXP-00454-P1C1</td><td>TGTCTTTCCTGCCAG</td><td>singlet</td><td>2053</td><td>213</td><td>⋯</td><td>4329</td><td>AAACCGGCAACTAGCC</td><td>PC02184-044</td><td>EXP-00454-P1</td><td>2582f94efb8911edb940c6bd9515220e</td><td>CD4 Memory</td><td>0.4161609</td><td> 3.5414620</td><td>-8.356009</td><td>EXP-00454-P1C1W1</td></tr>\n",
       "</tbody>\n",
       "</table>\n"
      ],
      "text/latex": [
       "A data.frame: 6 × 21\n",
       "\\begin{tabular}{r|lllllllllllllllllllll}\n",
       "  & barcodes & adt\\_qc\\_flag & adt\\_umis & batch\\_id & cell\\_name & chip\\_id & hto\\_barcode & hto\\_category & n\\_genes & n\\_mito\\_umis & ⋯ & n\\_umis & original\\_barcodes & pbmc\\_sample\\_id & pool\\_id & rna\\_cell\\_uuid & seurat\\_pbmc\\_type & seurat\\_pbmc\\_type\\_score & umap\\_1 & umap\\_2 & well\\_id\\\\\n",
       "  & <chr> & <chr> & <int> & <chr> & <chr> & <chr> & <chr> & <chr> & <int> & <int> & ⋯ & <int> & <chr> & <chr> & <chr> & <chr> & <chr> & <dbl> & <dbl> & <dbl> & <chr>\\\\\n",
       "\\hline\n",
       "\t1 & 2da9d348fb8111eda35df29f570c0793 & Good & 1746 & EXP-00454 & jovial\\_jockeyish\\_urus        & EXP-00454-P1C1 & TGTCTTTCCTGCCAG & singlet & 2157 & 363 & ⋯ & 4974 & AAACAGCCATAGTCAT & PC02184-044 & EXP-00454-P1 & 2582f1a6fb8911edb940c6bd9515220e & CD4 Memory & 0.6268495 & -1.6470808 & -8.418920 & EXP-00454-P1C1W1\\\\\n",
       "\t2 & 2daec6d2fb8111eda35df29f570c0793 & Good & 1506 & EXP-00454 & possessive\\_sirenic\\_esok      & EXP-00454-P1C1 & TGTCTTTCCTGCCAG & singlet & 2134 & 161 & ⋯ & 4511 & AAACCAACAGCTCATA & PC02184-044 & EXP-00454-P1 & 2582f462fb8911edb940c6bd9515220e & CD4 Memory & 0.6597796 & -0.8160710 & -8.692452 & EXP-00454-P1C1W1\\\\\n",
       "\t3 & 2db119d2fb8111eda35df29f570c0793 & Good & 1661 & EXP-00454 & petaline\\_lawabiding\\_snowyowl & EXP-00454-P1C1 & TGTCTTTCCTGCCAG & singlet & 2091 & 302 & ⋯ & 4289 & AAACCGAAGGAAGCAC & PC02184-044 & EXP-00454-P1 & 2582f624fb8911edb940c6bd9515220e & CD4 Memory & 0.8507561 & -4.9873077 &  2.534072 & EXP-00454-P1C1W1\\\\\n",
       "\t4 & 2db4ad86fb8111eda35df29f570c0793 & Good & 1866 & EXP-00454 & vixenish\\_ardent\\_seahorse     & EXP-00454-P1C1 & TGTCTTTCCTGCCAG & singlet & 2033 & 308 & ⋯ & 3931 & AAACCGCGTTAAGCGC & PC02184-044 & EXP-00454-P1 & 2582f7aafb8911edb940c6bd9515220e & CD4 Memory & 0.6342125 & -4.7517462 &  5.226646 & EXP-00454-P1C1W1\\\\\n",
       "\t5 & 2db582c4fb8111eda35df29f570c0793 & Good & 1400 & EXP-00454 & stimulated\\_maroon\\_jerboa     & EXP-00454-P1C1 & TGTCTTTCCTGCCAG & singlet & 1560 & 179 & ⋯ & 2904 & AAACCGCGTTGGCCGA & PC02184-044 & EXP-00454-P1 & 2582f840fb8911edb940c6bd9515220e & CD4 Memory & 0.6119409 &  0.8885885 & -6.354211 & EXP-00454-P1C1W1\\\\\n",
       "\t6 & 2db5b3acfb8111eda35df29f570c0793 & Good & 2220 & EXP-00454 & antigorite\\_erect\\_earthworm   & EXP-00454-P1C1 & TGTCTTTCCTGCCAG & singlet & 2053 & 213 & ⋯ & 4329 & AAACCGGCAACTAGCC & PC02184-044 & EXP-00454-P1 & 2582f94efb8911edb940c6bd9515220e & CD4 Memory & 0.4161609 &  3.5414620 & -8.356009 & EXP-00454-P1C1W1\\\\\n",
       "\\end{tabular}\n"
      ],
      "text/markdown": [
       "\n",
       "A data.frame: 6 × 21\n",
       "\n",
       "| <!--/--> | barcodes &lt;chr&gt; | adt_qc_flag &lt;chr&gt; | adt_umis &lt;int&gt; | batch_id &lt;chr&gt; | cell_name &lt;chr&gt; | chip_id &lt;chr&gt; | hto_barcode &lt;chr&gt; | hto_category &lt;chr&gt; | n_genes &lt;int&gt; | n_mito_umis &lt;int&gt; | ⋯ ⋯ | n_umis &lt;int&gt; | original_barcodes &lt;chr&gt; | pbmc_sample_id &lt;chr&gt; | pool_id &lt;chr&gt; | rna_cell_uuid &lt;chr&gt; | seurat_pbmc_type &lt;chr&gt; | seurat_pbmc_type_score &lt;dbl&gt; | umap_1 &lt;dbl&gt; | umap_2 &lt;dbl&gt; | well_id &lt;chr&gt; |\n",
       "|---|---|---|---|---|---|---|---|---|---|---|---|---|---|---|---|---|---|---|---|---|---|\n",
       "| 1 | 2da9d348fb8111eda35df29f570c0793 | Good | 1746 | EXP-00454 | jovial_jockeyish_urus        | EXP-00454-P1C1 | TGTCTTTCCTGCCAG | singlet | 2157 | 363 | ⋯ | 4974 | AAACAGCCATAGTCAT | PC02184-044 | EXP-00454-P1 | 2582f1a6fb8911edb940c6bd9515220e | CD4 Memory | 0.6268495 | -1.6470808 | -8.418920 | EXP-00454-P1C1W1 |\n",
       "| 2 | 2daec6d2fb8111eda35df29f570c0793 | Good | 1506 | EXP-00454 | possessive_sirenic_esok      | EXP-00454-P1C1 | TGTCTTTCCTGCCAG | singlet | 2134 | 161 | ⋯ | 4511 | AAACCAACAGCTCATA | PC02184-044 | EXP-00454-P1 | 2582f462fb8911edb940c6bd9515220e | CD4 Memory | 0.6597796 | -0.8160710 | -8.692452 | EXP-00454-P1C1W1 |\n",
       "| 3 | 2db119d2fb8111eda35df29f570c0793 | Good | 1661 | EXP-00454 | petaline_lawabiding_snowyowl | EXP-00454-P1C1 | TGTCTTTCCTGCCAG | singlet | 2091 | 302 | ⋯ | 4289 | AAACCGAAGGAAGCAC | PC02184-044 | EXP-00454-P1 | 2582f624fb8911edb940c6bd9515220e | CD4 Memory | 0.8507561 | -4.9873077 |  2.534072 | EXP-00454-P1C1W1 |\n",
       "| 4 | 2db4ad86fb8111eda35df29f570c0793 | Good | 1866 | EXP-00454 | vixenish_ardent_seahorse     | EXP-00454-P1C1 | TGTCTTTCCTGCCAG | singlet | 2033 | 308 | ⋯ | 3931 | AAACCGCGTTAAGCGC | PC02184-044 | EXP-00454-P1 | 2582f7aafb8911edb940c6bd9515220e | CD4 Memory | 0.6342125 | -4.7517462 |  5.226646 | EXP-00454-P1C1W1 |\n",
       "| 5 | 2db582c4fb8111eda35df29f570c0793 | Good | 1400 | EXP-00454 | stimulated_maroon_jerboa     | EXP-00454-P1C1 | TGTCTTTCCTGCCAG | singlet | 1560 | 179 | ⋯ | 2904 | AAACCGCGTTGGCCGA | PC02184-044 | EXP-00454-P1 | 2582f840fb8911edb940c6bd9515220e | CD4 Memory | 0.6119409 |  0.8885885 | -6.354211 | EXP-00454-P1C1W1 |\n",
       "| 6 | 2db5b3acfb8111eda35df29f570c0793 | Good | 2220 | EXP-00454 | antigorite_erect_earthworm   | EXP-00454-P1C1 | TGTCTTTCCTGCCAG | singlet | 2053 | 213 | ⋯ | 4329 | AAACCGGCAACTAGCC | PC02184-044 | EXP-00454-P1 | 2582f94efb8911edb940c6bd9515220e | CD4 Memory | 0.4161609 |  3.5414620 | -8.356009 | EXP-00454-P1C1W1 |\n",
       "\n"
      ],
      "text/plain": [
       "  barcodes                         adt_qc_flag adt_umis batch_id \n",
       "1 2da9d348fb8111eda35df29f570c0793 Good        1746     EXP-00454\n",
       "2 2daec6d2fb8111eda35df29f570c0793 Good        1506     EXP-00454\n",
       "3 2db119d2fb8111eda35df29f570c0793 Good        1661     EXP-00454\n",
       "4 2db4ad86fb8111eda35df29f570c0793 Good        1866     EXP-00454\n",
       "5 2db582c4fb8111eda35df29f570c0793 Good        1400     EXP-00454\n",
       "6 2db5b3acfb8111eda35df29f570c0793 Good        2220     EXP-00454\n",
       "  cell_name                    chip_id        hto_barcode     hto_category\n",
       "1 jovial_jockeyish_urus        EXP-00454-P1C1 TGTCTTTCCTGCCAG singlet     \n",
       "2 possessive_sirenic_esok      EXP-00454-P1C1 TGTCTTTCCTGCCAG singlet     \n",
       "3 petaline_lawabiding_snowyowl EXP-00454-P1C1 TGTCTTTCCTGCCAG singlet     \n",
       "4 vixenish_ardent_seahorse     EXP-00454-P1C1 TGTCTTTCCTGCCAG singlet     \n",
       "5 stimulated_maroon_jerboa     EXP-00454-P1C1 TGTCTTTCCTGCCAG singlet     \n",
       "6 antigorite_erect_earthworm   EXP-00454-P1C1 TGTCTTTCCTGCCAG singlet     \n",
       "  n_genes n_mito_umis ⋯ n_umis original_barcodes pbmc_sample_id pool_id     \n",
       "1 2157    363         ⋯ 4974   AAACAGCCATAGTCAT  PC02184-044    EXP-00454-P1\n",
       "2 2134    161         ⋯ 4511   AAACCAACAGCTCATA  PC02184-044    EXP-00454-P1\n",
       "3 2091    302         ⋯ 4289   AAACCGAAGGAAGCAC  PC02184-044    EXP-00454-P1\n",
       "4 2033    308         ⋯ 3931   AAACCGCGTTAAGCGC  PC02184-044    EXP-00454-P1\n",
       "5 1560    179         ⋯ 2904   AAACCGCGTTGGCCGA  PC02184-044    EXP-00454-P1\n",
       "6 2053    213         ⋯ 4329   AAACCGGCAACTAGCC  PC02184-044    EXP-00454-P1\n",
       "  rna_cell_uuid                    seurat_pbmc_type seurat_pbmc_type_score\n",
       "1 2582f1a6fb8911edb940c6bd9515220e CD4 Memory       0.6268495             \n",
       "2 2582f462fb8911edb940c6bd9515220e CD4 Memory       0.6597796             \n",
       "3 2582f624fb8911edb940c6bd9515220e CD4 Memory       0.8507561             \n",
       "4 2582f7aafb8911edb940c6bd9515220e CD4 Memory       0.6342125             \n",
       "5 2582f840fb8911edb940c6bd9515220e CD4 Memory       0.6119409             \n",
       "6 2582f94efb8911edb940c6bd9515220e CD4 Memory       0.4161609             \n",
       "  umap_1     umap_2    well_id         \n",
       "1 -1.6470808 -8.418920 EXP-00454-P1C1W1\n",
       "2 -0.8160710 -8.692452 EXP-00454-P1C1W1\n",
       "3 -4.9873077  2.534072 EXP-00454-P1C1W1\n",
       "4 -4.7517462  5.226646 EXP-00454-P1C1W1\n",
       "5  0.8885885 -6.354211 EXP-00454-P1C1W1\n",
       "6  3.5414620 -8.356009 EXP-00454-P1C1W1"
      ]
     },
     "metadata": {},
     "output_type": "display_data"
    }
   ],
   "source": [
    "head(all_metadata)"
   ]
  },
  {
   "cell_type": "markdown",
   "id": "f9efbcbb-38cb-4aa4-bbd2-c18a98955bc2",
   "metadata": {},
   "source": [
    "## Write output file\n",
    "\n",
    "Write the metadata as a .csv for later use. We remove `row.names` and set `quote = FALSE` to simplify the outputs and increase compatibility with other tools."
   ]
  },
  {
   "cell_type": "code",
   "execution_count": 8,
   "id": "ac05a12a-e410-4f34-8436-19b0a27c3d50",
   "metadata": {},
   "outputs": [
    {
     "name": "stderr",
     "output_type": "stream",
     "text": [
      "Warning message in dir.create(\"output\"):\n",
      "“'output' already exists”\n"
     ]
    }
   ],
   "source": [
    "dir.create(\"output\")"
   ]
  },
  {
   "cell_type": "code",
   "execution_count": 9,
   "id": "b3234c3e-3429-43db-8878-be282260a7ef",
   "metadata": {},
   "outputs": [],
   "source": [
    "write.csv(\n",
    "    all_metadata,\n",
    "    \"output/vrd_te_rna_adt_cell_metadata.csv\",\n",
    "    row.names = FALSE,\n",
    "    quote = FALSE\n",
    ")"
   ]
  },
  {
   "cell_type": "markdown",
   "id": "2e7a7f73-792c-4f01-82b1-e6f8d7d1f737",
   "metadata": {},
   "source": [
    "## Store results in HISE\n",
    "\n",
    "Finally, we store the output file in our Collaboration Space for later retrieval and use. We need to provide the UUID for our Collaboration Space (aka `studySpaceId`), as well as a title for this step in our analysis process.\n",
    "\n",
    "The hise function `uploadFiles()` also requires the FileIDs from the original fileset for reference, which we assembled above when files were retrieved (`input_file_uuids`)"
   ]
  },
  {
   "cell_type": "code",
   "execution_count": 10,
   "id": "6d2aaf10-3220-4578-8b7e-eafa8bd63b28",
   "metadata": {},
   "outputs": [],
   "source": [
    "study_space_uuid <- \"40df6403-29f0-4b45-ab7d-f46d420c422e\"\n",
    "title <- \"VRd TEA-seq unfiltered TE cell metadata\""
   ]
  },
  {
   "cell_type": "code",
   "execution_count": 11,
   "id": "442e1f4f-64cf-4a61-8bdd-bd941370d546",
   "metadata": {},
   "outputs": [],
   "source": [
    "out_files <- list.files(\n",
    "    \"output\",\n",
    "    full.names = TRUE\n",
    ")\n",
    "out_list <- as.list(out_files)"
   ]
  },
  {
   "cell_type": "code",
   "execution_count": 12,
   "id": "0276fc3e-7dd0-4cee-b21a-ecce80233850",
   "metadata": {},
   "outputs": [
    {
     "data": {
      "text/html": [
       "<dl>\n",
       "\t<dt>$files</dt>\n",
       "\t\t<dd><ol>\n",
       "\t<li>'output/vrd_te_rna_adt_cell_metadata.csv'</li>\n",
       "</ol>\n",
       "</dd>\n",
       "\t<dt>$traceId</dt>\n",
       "\t\t<dd>'4e7f21d2-66fb-4383-a490-d806884e17c3'</dd>\n",
       "</dl>\n"
      ],
      "text/latex": [
       "\\begin{description}\n",
       "\\item[\\$files] \\begin{enumerate}\n",
       "\\item 'output/vrd\\_te\\_rna\\_adt\\_cell\\_metadata.csv'\n",
       "\\end{enumerate}\n",
       "\n",
       "\\item[\\$traceId] '4e7f21d2-66fb-4383-a490-d806884e17c3'\n",
       "\\end{description}\n"
      ],
      "text/markdown": [
       "$files\n",
       ":   1. 'output/vrd_te_rna_adt_cell_metadata.csv'\n",
       "\n",
       "\n",
       "\n",
       "$traceId\n",
       ":   '4e7f21d2-66fb-4383-a490-d806884e17c3'\n",
       "\n",
       "\n"
      ],
      "text/plain": [
       "$files\n",
       "$files[[1]]\n",
       "[1] \"output/vrd_te_rna_adt_cell_metadata.csv\"\n",
       "\n",
       "\n",
       "$traceId\n",
       "[1] \"4e7f21d2-66fb-4383-a490-d806884e17c3\"\n"
      ]
     },
     "metadata": {},
     "output_type": "display_data"
    }
   ],
   "source": [
    "uploadFiles(\n",
    "    files = out_list,\n",
    "    studySpaceId = study_space_uuid,\n",
    "    title = title,\n",
    "    inputFileIds = input_file_uuids,\n",
    "    store = \"project\",\n",
    "    doPrompt = FALSE\n",
    ")"
   ]
  },
  {
   "cell_type": "code",
   "execution_count": 13,
   "id": "c42c119c-09d3-467a-845d-50c93a897466",
   "metadata": {},
   "outputs": [
    {
     "data": {
      "text/plain": [
       "R version 4.2.2 Patched (2022-11-10 r83330)\n",
       "Platform: x86_64-pc-linux-gnu (64-bit)\n",
       "Running under: Ubuntu 20.04.5 LTS\n",
       "\n",
       "Matrix products: default\n",
       "BLAS:   /usr/lib/x86_64-linux-gnu/openblas-pthread/libblas.so.3\n",
       "LAPACK: /usr/lib/x86_64-linux-gnu/openblas-pthread/liblapack.so.3\n",
       "\n",
       "locale:\n",
       " [1] LC_CTYPE=C.UTF-8       LC_NUMERIC=C           LC_TIME=C.UTF-8       \n",
       " [4] LC_COLLATE=C.UTF-8     LC_MONETARY=C.UTF-8    LC_MESSAGES=C.UTF-8   \n",
       " [7] LC_PAPER=C.UTF-8       LC_NAME=C              LC_ADDRESS=C          \n",
       "[10] LC_TELEPHONE=C         LC_MEASUREMENT=C.UTF-8 LC_IDENTIFICATION=C   \n",
       "\n",
       "attached base packages:\n",
       "[1] stats     graphics  grDevices utils     datasets  methods   base     \n",
       "\n",
       "other attached packages:\n",
       "[1] purrr_1.0.1       BarMixer_1.0.1    rhdf5_2.42.0      Matrix_1.5-3     \n",
       "[5] data.table_1.14.8 hise_2.16.0      \n",
       "\n",
       "loaded via a namespace (and not attached):\n",
       " [1] pillar_1.9.0        compiler_4.2.2      base64enc_0.1-3    \n",
       " [4] rhdf5filters_1.10.0 bitops_1.0-7        tools_4.2.2        \n",
       " [7] digest_0.6.33       uuid_1.1-1          tibble_3.2.1       \n",
       "[10] jsonlite_1.8.7      evaluate_0.21       lifecycle_1.0.3    \n",
       "[13] lattice_0.20-45     pkgconfig_2.0.3     rlang_1.1.1        \n",
       "[16] IRdisplay_1.1       cli_3.6.1           IRkernel_1.3.2     \n",
       "[19] curl_5.0.1          fastmap_1.1.1       dplyr_1.1.0        \n",
       "[22] repr_1.1.6.9000     httr_1.4.6          generics_0.1.3     \n",
       "[25] vctrs_0.6.3         tidyselect_1.2.0    grid_4.2.2         \n",
       "[28] glue_1.6.2          R6_2.5.1            fansi_1.0.4        \n",
       "[31] pbdZMQ_0.3-9        Rhdf5lib_1.20.0     magrittr_2.0.3     \n",
       "[34] htmltools_0.5.6     assertthat_0.2.1    utf8_1.2.3         \n",
       "[37] RCurl_1.98-1.10     crayon_1.5.2       "
      ]
     },
     "metadata": {},
     "output_type": "display_data"
    }
   ],
   "source": [
    "sessionInfo()"
   ]
  },
  {
   "cell_type": "code",
   "execution_count": null,
   "id": "9c1f7e99-5960-4d18-bcdf-387c5253ccd9",
   "metadata": {},
   "outputs": [],
   "source": []
  }
 ],
 "metadata": {
  "kernelspec": {
   "display_name": "R",
   "language": "R",
   "name": "ir"
  },
  "language_info": {
   "codemirror_mode": "r",
   "file_extension": ".r",
   "mimetype": "text/x-r-source",
   "name": "R",
   "pygments_lexer": "r",
   "version": "4.2.2"
  }
 },
 "nbformat": 4,
 "nbformat_minor": 5
}
